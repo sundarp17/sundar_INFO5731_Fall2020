{
  "nbformat": 4,
  "nbformat_minor": 0,
  "metadata": {
    "kernelspec": {
      "display_name": "Python 3",
      "language": "python",
      "name": "python3"
    },
    "language_info": {
      "codemirror_mode": {
        "name": "ipython",
        "version": 3
      },
      "file_extension": ".py",
      "mimetype": "text/x-python",
      "name": "python",
      "nbconvert_exporter": "python",
      "pygments_lexer": "ipython3",
      "version": "3.7.4"
    },
    "colab": {
      "name": "In_class_exercise_08.ipynb",
      "provenance": [],
      "toc_visible": true,
      "include_colab_link": true
    }
  },
  "cells": [
    {
      "cell_type": "markdown",
      "metadata": {
        "id": "view-in-github",
        "colab_type": "text"
      },
      "source": [
        "<a href=\"https://colab.research.google.com/github/sundarp17/sundar_info5731_fall2020/blob/master/In_class_exercise_08.ipynb\" target=\"_parent\"><img src=\"https://colab.research.google.com/assets/colab-badge.svg\" alt=\"Open In Colab\"/></a>"
      ]
    },
    {
      "cell_type": "markdown",
      "metadata": {
        "id": "BHQ386uA-ydy"
      },
      "source": [
        "# **The eighth in-class-exercise (20 points in total, 10/29/2020)**"
      ]
    },
    {
      "cell_type": "markdown",
      "metadata": {
        "id": "swkdU47u-yd0"
      },
      "source": [
        "The data for this exercise is from the dataset you created from assignment three. Please perform answer the following questions based on your data:"
      ]
    },
    {
      "cell_type": "markdown",
      "metadata": {
        "id": "SDizyZrb-yd1"
      },
      "source": [
        "## (1) (10 points) Write a python program to extract the sentiment related terms from the corpus. You may use python package such as polyglot or external lexicon resources in the question. Rank the sentiment related terms by frequency."
      ]
    },
    {
      "cell_type": "code",
      "metadata": {
        "id": "6zRq7Kzl-yd1",
        "outputId": "65ded0da-9b56-4526-a0ba-2c435b99d245",
        "colab": {
          "base_uri": "https://localhost:8080/",
          "height": 195
        }
      },
      "source": [
        "# Write your code here\n",
        "import pandas as pd\n",
        "df = pd.read_csv('/content/sentimental_analysis.csv')\n",
        "df.head()\n",
        "\n",
        "\n"
      ],
      "execution_count": 1,
      "outputs": [
        {
          "output_type": "execute_result",
          "data": {
            "text/html": [
              "<div>\n",
              "<style scoped>\n",
              "    .dataframe tbody tr th:only-of-type {\n",
              "        vertical-align: middle;\n",
              "    }\n",
              "\n",
              "    .dataframe tbody tr th {\n",
              "        vertical-align: top;\n",
              "    }\n",
              "\n",
              "    .dataframe thead th {\n",
              "        text-align: right;\n",
              "    }\n",
              "</style>\n",
              "<table border=\"1\" class=\"dataframe\">\n",
              "  <thead>\n",
              "    <tr style=\"text-align: right;\">\n",
              "      <th></th>\n",
              "      <th>Review</th>\n",
              "      <th>sentiment</th>\n",
              "    </tr>\n",
              "  </thead>\n",
              "  <tbody>\n",
              "    <tr>\n",
              "      <th>0</th>\n",
              "      <td>Every once in a while a movie comes, that trul...</td>\n",
              "      <td>positive</td>\n",
              "    </tr>\n",
              "    <tr>\n",
              "      <th>1</th>\n",
              "      <td>This is a movie that only those who have felt ...</td>\n",
              "      <td>positive</td>\n",
              "    </tr>\n",
              "    <tr>\n",
              "      <th>2</th>\n",
              "      <td>Truly a masterpiece, The Best Hollywood film o...</td>\n",
              "      <td>positive</td>\n",
              "    </tr>\n",
              "    <tr>\n",
              "      <th>3</th>\n",
              "      <td>Joaquin Phoenix gives a tour de force performa...</td>\n",
              "      <td>positive</td>\n",
              "    </tr>\n",
              "    <tr>\n",
              "      <th>4</th>\n",
              "      <td>Most of the time movies are anticipated like t...</td>\n",
              "      <td>positive</td>\n",
              "    </tr>\n",
              "  </tbody>\n",
              "</table>\n",
              "</div>"
            ],
            "text/plain": [
              "                                              Review sentiment\n",
              "0  Every once in a while a movie comes, that trul...  positive\n",
              "1  This is a movie that only those who have felt ...  positive\n",
              "2  Truly a masterpiece, The Best Hollywood film o...  positive\n",
              "3  Joaquin Phoenix gives a tour de force performa...  positive\n",
              "4  Most of the time movies are anticipated like t...  positive"
            ]
          },
          "metadata": {
            "tags": []
          },
          "execution_count": 1
        }
      ]
    },
    {
      "cell_type": "code",
      "metadata": {
        "id": "N2GkFHx-LLxj",
        "outputId": "030665fd-652c-4b60-ce72-8973d29114ea",
        "colab": {
          "base_uri": "https://localhost:8080/",
          "height": 316
        }
      },
      "source": [
        "import matplotlib.pyplot as plt\n",
        "df['sentiment'].value_counts().plot(kind='bar')"
      ],
      "execution_count": 2,
      "outputs": [
        {
          "output_type": "execute_result",
          "data": {
            "text/plain": [
              "<matplotlib.axes._subplots.AxesSubplot at 0x7fedf68d1dd8>"
            ]
          },
          "metadata": {
            "tags": []
          },
          "execution_count": 2
        },
        {
          "output_type": "display_data",
          "data": {
            "image/png": "[encoded data removed]",
            "text/plain": [
              "<Figure size 432x288 with 1 Axes>"
            ]
          },
          "metadata": {
            "tags": [],
            "needs_background": "light"
          }
        }
      ]
    },
    {
      "cell_type": "code",
      "metadata": {
        "id": "EdQXo62sLan4",
        "outputId": "c3d9f19e-23db-4e91-cc63-0727f9066d82",
        "colab": {
          "base_uri": "https://localhost:8080/",
          "height": 296
        }
      },
      "source": [
        "#pre-processing\n",
        "import nltk\n",
        "from nltk import word_tokenize, sent_tokenize\n",
        "from nltk.corpus import stopwords\n",
        "nltk.download('stopwords')\n",
        "nltk.download('punkt')\n",
        "nltk.download('wordnet')\n",
        "from textblob import Word\n",
        "from wordcloud import WordCloud, STOPWORDS\n",
        "from textblob import TextBlob\n",
        "import string\n",
        "stop = stopwords.words('english')\n",
        "\n",
        "\n",
        "df['Review'] = df['Review'].apply(lambda x: \" \".join(x.lower() for x in x.split()))\n",
        "df['Review'] = df['Review'].apply(lambda  x: \" \".join(x for x in x.split() if x not in string.punctuation))\n",
        "df['Review'] = df['Review'].apply(lambda x: \" \".join(x for x in x.split() if x not in stop))\n",
        "df['Review'] = df['Review'].apply(lambda x: \" \".join([Word(word).lemmatize() for word in x.split()]))\n",
        "df.head()\n"
      ],
      "execution_count": 3,
      "outputs": [
        {
          "output_type": "stream",
          "text": [
            "[nltk_data] Downloading package stopwords to /root/nltk_data...\n",
            "[nltk_data]   Unzipping corpora/stopwords.zip.\n",
            "[nltk_data] Downloading package punkt to /root/nltk_data...\n",
            "[nltk_data]   Unzipping tokenizers/punkt.zip.\n",
            "[nltk_data] Downloading package wordnet to /root/nltk_data...\n",
            "[nltk_data]   Unzipping corpora/wordnet.zip.\n"
          ],
          "name": "stdout"
        },
        {
          "output_type": "execute_result",
          "data": {
            "text/html": [
              "<div>\n",
              "<style scoped>\n",
              "    .dataframe tbody tr th:only-of-type {\n",
              "        vertical-align: middle;\n",
              "    }\n",
              "\n",
              "    .dataframe tbody tr th {\n",
              "        vertical-align: top;\n",
              "    }\n",
              "\n",
              "    .dataframe thead th {\n",
              "        text-align: right;\n",
              "    }\n",
              "</style>\n",
              "<table border=\"1\" class=\"dataframe\">\n",
              "  <thead>\n",
              "    <tr style=\"text-align: right;\">\n",
              "      <th></th>\n",
              "      <th>Review</th>\n",
              "      <th>sentiment</th>\n",
              "    </tr>\n",
              "  </thead>\n",
              "  <tbody>\n",
              "    <tr>\n",
              "      <th>0</th>\n",
              "      <td>every movie comes, truly make impact. joaquin'...</td>\n",
              "      <td>positive</td>\n",
              "    </tr>\n",
              "    <tr>\n",
              "      <th>1</th>\n",
              "      <td>movie felt alone isolated truly relate it. und...</td>\n",
              "      <td>positive</td>\n",
              "    </tr>\n",
              "    <tr>\n",
              "      <th>2</th>\n",
              "      <td>truly masterpiece, best hollywood film 2019, o...</td>\n",
              "      <td>positive</td>\n",
              "    </tr>\n",
              "    <tr>\n",
              "      <th>3</th>\n",
              "      <td>joaquin phoenix give tour de force performance...</td>\n",
              "      <td>positive</td>\n",
              "    </tr>\n",
              "    <tr>\n",
              "      <th>4</th>\n",
              "      <td>time movie anticipated like end falling short,...</td>\n",
              "      <td>positive</td>\n",
              "    </tr>\n",
              "  </tbody>\n",
              "</table>\n",
              "</div>"
            ],
            "text/plain": [
              "                                              Review sentiment\n",
              "0  every movie comes, truly make impact. joaquin'...  positive\n",
              "1  movie felt alone isolated truly relate it. und...  positive\n",
              "2  truly masterpiece, best hollywood film 2019, o...  positive\n",
              "3  joaquin phoenix give tour de force performance...  positive\n",
              "4  time movie anticipated like end falling short,...  positive"
            ]
          },
          "metadata": {
            "tags": []
          },
          "execution_count": 3
        }
      ]
    },
    {
      "cell_type": "code",
      "metadata": {
        "id": "svtEkHJBiZOL",
        "outputId": "9986862c-75ad-4165-8575-bb3f8d812d5a",
        "colab": {
          "base_uri": "https://localhost:8080/"
        }
      },
      "source": [
        "from nltk.tokenize import word_tokenize\n",
        "\n",
        "words_sentence = []\n",
        "for sentence in df['Review']:\n",
        "  words_sentence.append(word_tokenize(sentence))\n",
        "words_sentence[:5]"
      ],
      "execution_count": 11,
      "outputs": [
        {
          "output_type": "execute_result",
          "data": {
            "text/plain": [
              "[['every',\n",
              "  'movie',\n",
              "  'comes',\n",
              "  ',',\n",
              "  'truly',\n",
              "  'make',\n",
              "  'impact',\n",
              "  '.',\n",
              "  'joaquin',\n",
              "  \"'s\",\n",
              "  'performance',\n",
              "  'scenography',\n",
              "  'brilliance',\n",
              "  '.',\n",
              "  'grotesque',\n",
              "  ',',\n",
              "  'haunting',\n",
              "  'cringy',\n",
              "  '.',\n",
              "  'hard',\n",
              "  'watch',\n",
              "  'times',\n",
              "  ',',\n",
              "  '...',\n",
              "  'mesmerizing',\n",
              "  ',',\n",
              "  'blink',\n",
              "  'eye',\n",
              "  'watching',\n",
              "  'it',\n",
              "  '.',\n",
              "  'tragic',\n",
              "  ',',\n",
              "  'seriously',\n",
              "  'funny',\n",
              "  'moments',\n",
              "  '.',\n",
              "  'emotional',\n",
              "  'rollercoaster',\n",
              "  'sometimes',\n",
              "  ',',\n",
              "  'multiple',\n",
              "  'emotion',\n",
              "  'popping-up',\n",
              "  'time.this',\n",
              "  'far',\n",
              "  'typical',\n",
              "  'action-riddled',\n",
              "  'predictable',\n",
              "  'super-hero',\n",
              "  'movie',\n",
              "  'proper',\n",
              "  'psychological',\n",
              "  'thriller/drama',\n",
              "  ',',\n",
              "  'single',\n",
              "  'best',\n",
              "  'character',\n",
              "  'development',\n",
              "  'ever',\n",
              "  'seen',\n",
              "  '.'],\n",
              " ['movie',\n",
              "  'felt',\n",
              "  'alone',\n",
              "  'isolated',\n",
              "  'truly',\n",
              "  'relate',\n",
              "  'it',\n",
              "  '.',\n",
              "  'understand',\n",
              "  'motive',\n",
              "  'feel',\n",
              "  'sorry',\n",
              "  'character',\n",
              "  '.',\n",
              "  'lot',\n",
              "  'people',\n",
              "  'see',\n",
              "  'movie',\n",
              "  'think',\n",
              "  'encourages',\n",
              "  'violence',\n",
              "  '.',\n",
              "  'truly',\n",
              "  ',',\n",
              "  'movie',\n",
              "  'encourage',\n",
              "  'every',\n",
              "  'one',\n",
              "  'u',\n",
              "  'become',\n",
              "  'better',\n",
              "  'person',\n",
              "  ',',\n",
              "  'treat',\n",
              "  'everyone',\n",
              "  'respect',\n",
              "  'make',\n",
              "  'feel',\n",
              "  'like',\n",
              "  'belong',\n",
              "  'world',\n",
              "  ',',\n",
              "  'instead',\n",
              "  'making',\n",
              "  'feel',\n",
              "  'isolated',\n",
              "  '.'],\n",
              " ['truly',\n",
              "  'masterpiece',\n",
              "  ',',\n",
              "  'best',\n",
              "  'hollywood',\n",
              "  'film',\n",
              "  '2019',\n",
              "  ',',\n",
              "  'one',\n",
              "  'best',\n",
              "  'film',\n",
              "  'decade',\n",
              "  '...',\n",
              "  'truly',\n",
              "  'best',\n",
              "  'film',\n",
              "  'bring',\n",
              "  'comic',\n",
              "  'book',\n",
              "  'chillingly',\n",
              "  'realistically',\n",
              "  'real',\n",
              "  'ife',\n",
              "  '.',\n",
              "  'remarkable',\n",
              "  'direction',\n",
              "  ',',\n",
              "  'cinematography',\n",
              "  ',',\n",
              "  'music',\n",
              "  'acting',\n",
              "  '.',\n",
              "  'people',\n",
              "  'surprised',\n",
              "  'find',\n",
              "  'disturbing',\n",
              "  'violent',\n",
              "  ',',\n",
              "  'necessity',\n",
              "  'message',\n",
              "  '.',\n",
              "  'society',\n",
              "  'reflects',\n",
              "  'underappreciated/unrecognized/bullied',\n",
              "  'people',\n",
              "  ',',\n",
              "  'proving',\n",
              "  'something',\n",
              "  'too',\n",
              "  '.',\n",
              "  'way',\n",
              "  'show',\n",
              "  'class',\n",
              "  'difference',\n",
              "  ',',\n",
              "  'corruption',\n",
              "  'rich',\n",
              "  'talented',\n",
              "  'rule',\n",
              "  'others',\n",
              "  'around',\n",
              "  'exaggerated',\n",
              "  'that',\n",
              "  \"'s\",\n",
              "  'make',\n",
              "  'different',\n",
              "  '.',\n",
              "  'believable',\n",
              "  '.',\n",
              "  'could',\n",
              "  'multiple',\n",
              "  'joker',\n",
              "  'living',\n",
              "  'society',\n",
              "  'could',\n",
              "  'shake',\n",
              "  'around',\n",
              "  'much',\n",
              "  'bitter',\n",
              "  'way',\n",
              "  'film',\n",
              "  'show',\n",
              "  'making',\n",
              "  'people',\n",
              "  'uncomforting',\n",
              "  'people',\n",
              "  '.',\n",
              "  'consider',\n",
              "  'wake',\n",
              "  'call',\n",
              "  ',',\n",
              "  'message',\n",
              "  ',',\n",
              "  'first',\n",
              "  'film',\n",
              "  '.',\n",
              "  'perfect',\n",
              "  'film',\n",
              "  '.'],\n",
              " ['joaquin',\n",
              "  'phoenix',\n",
              "  'give',\n",
              "  'tour',\n",
              "  'de',\n",
              "  'force',\n",
              "  'performance',\n",
              "  ',',\n",
              "  'fearless',\n",
              "  'stunning',\n",
              "  'emotional',\n",
              "  'depth',\n",
              "  'physicality',\n",
              "  '.',\n",
              "  'impossible',\n",
              "  'talk',\n",
              "  'without',\n",
              "  'referencing',\n",
              "  'heath',\n",
              "  'ledger',\n",
              "  \"'s\",\n",
              "  'oscar-winning',\n",
              "  'performance',\n",
              "  'dark',\n",
              "  'knight',\n",
              "  ',',\n",
              "  'widely',\n",
              "  'considered',\n",
              "  'definitive',\n",
              "  'live-action',\n",
              "  'portrayal',\n",
              "  'joker',\n",
              "  ',',\n",
              "  'let',\n",
              "  \"'s\",\n",
              "  'talk',\n",
              "  'it',\n",
              "  '.',\n",
              "  'fact',\n",
              "  'is',\n",
              "  ',',\n",
              "  'everyone',\n",
              "  'going',\n",
              "  'stunned',\n",
              "  'phoenix',\n",
              "  'accomplishes',\n",
              "  ',',\n",
              "  'many',\n",
              "  'thought',\n",
              "  'impossible',\n",
              "  'portrayal',\n",
              "  'match',\n",
              "  'potentially',\n",
              "  'exceeds',\n",
              "  'dark',\n",
              "  'knight',\n",
              "  \"'s\",\n",
              "  'clown',\n",
              "  'prince',\n",
              "  'crime'],\n",
              " ['time',\n",
              "  'movie',\n",
              "  'anticipated',\n",
              "  'like',\n",
              "  'end',\n",
              "  'falling',\n",
              "  'short',\n",
              "  ',',\n",
              "  'way',\n",
              "  'short',\n",
              "  '.',\n",
              "  'joker',\n",
              "  'first',\n",
              "  'time',\n",
              "  'happy',\n",
              "  'hype',\n",
              "  '.',\n",
              "  'please',\n",
              "  'ignore',\n",
              "  'complaint',\n",
              "  '``',\n",
              "  'pernicious',\n",
              "  'violence',\n",
              "  \"''\",\n",
              "  'embarrassing',\n",
              "  'say',\n",
              "  'least',\n",
              "  '.',\n",
              "  'seen',\n",
              "  'comic',\n",
              "  'movie',\n",
              "  'real',\n",
              "  'before',\n",
              "  '.',\n",
              "  'ever',\n",
              "  '``',\n",
              "  'deserved',\n",
              "  \"''\",\n",
              "  'better',\n",
              "  'class',\n",
              "  'criminal',\n",
              "  'phillips',\n",
              "  'phoenix',\n",
              "  'delivered',\n",
              "  '.',\n",
              "  'dark',\n",
              "  ',',\n",
              "  'joker',\n",
              "  'dark',\n",
              "  'fall',\n",
              "  'love',\n",
              "  'villain',\n",
              "  'should',\n",
              "  '.',\n",
              "  'bad',\n",
              "  'guy',\n",
              "  'always',\n",
              "  'romantic',\n",
              "  'anyway',\n",
              "  '.']]"
            ]
          },
          "metadata": {
            "tags": []
          },
          "execution_count": 11
        }
      ]
    },
    {
      "cell_type": "code",
      "metadata": {
        "id": "Z0Hc6bIrkyTN",
        "outputId": "2632fc32-ce22-48f2-b566-ce19322a821e",
        "colab": {
          "base_uri": "https://localhost:8080/"
        }
      },
      "source": [
        "import itertools\n",
        "aftercleaning = [x for x in words_sentence if x != []]\n",
        "iterations = list(itertools.chain.from_iterable(aftercleaning))\n",
        "iterations[:5]"
      ],
      "execution_count": 22,
      "outputs": [
        {
          "output_type": "execute_result",
          "data": {
            "text/plain": [
              "['every', 'movie', 'comes', ',', 'truly']"
            ]
          },
          "metadata": {
            "tags": []
          },
          "execution_count": 22
        }
      ]
    },
    {
      "cell_type": "code",
      "metadata": {
        "id": "ElgXaSTpeG5_",
        "outputId": "197eef38-1188-4833-8464-7c1de430b44f",
        "colab": {
          "base_uri": "https://localhost:8080/"
        }
      },
      "source": [
        "sentiment_list = df.to_records(index=False)\n",
        "sentiment_list = list(sentiment_list)\n",
        "sentiment_list[:5]"
      ],
      "execution_count": 6,
      "outputs": [
        {
          "output_type": "execute_result",
          "data": {
            "text/plain": [
              "[(\"every movie comes, truly make impact. joaquin's performance scenography brilliance. grotesque, haunting cringy. hard watch times,... mesmerizing, blink eye watching it. tragic, seriously funny moments. emotional rollercoaster sometimes, multiple emotion popping-up time.this far typical action-riddled predictable super-hero movie proper psychological thriller/drama, single best character development ever seen.\", 'positive'),\n",
              " ('movie felt alone isolated truly relate it. understand motive feel sorry character. lot people see movie think encourages violence. truly, movie encourage every one u become better person, treat everyone respect make feel like belong world, instead making feel isolated.', 'positive'),\n",
              " (\"truly masterpiece, best hollywood film 2019, one best film decade... truly best film bring comic book chillingly realistically real ife. remarkable direction, cinematography, music acting. people surprised find disturbing violent, necessity message. society reflects underappreciated/unrecognized/bullied people, proving something too. way show class difference, corruption rich talented rule others around exaggerated that's make different. believable. could multiple joker living society could shake around much bitter way film show making people uncomforting people. consider wake call, message, first film. perfect film.\", 'positive'),\n",
              " (\"joaquin phoenix give tour de force performance, fearless stunning emotional depth physicality. impossible talk without referencing heath ledger's oscar-winning performance dark knight, widely considered definitive live-action portrayal joker, let's talk it. fact is, everyone going stunned phoenix accomplishes, many thought impossible portrayal match potentially exceeds dark knight's clown prince crime\", 'positive'),\n",
              " ('time movie anticipated like end falling short, way short. joker first time happy hype. please ignore complaint \"pernicious violence\" embarrassing say least. seen comic movie real before. ever \"deserved\" better class criminal phillips phoenix delivered. dark, joker dark fall love villain should. bad guy always romantic anyway.', 'positive')]"
            ]
          },
          "metadata": {
            "tags": []
          },
          "execution_count": 6
        }
      ]
    },
    {
      "cell_type": "code",
      "metadata": {
        "id": "_hAWq3Pijmce"
      },
      "source": [
        "def document_features(document):\n",
        "    document_words = set(document)\n",
        "    features = {}\n",
        "    for word in iterations:\n",
        "        features['contains({})'.format(word)] = (word in document_words)\n",
        "    return features\n"
      ],
      "execution_count": 14,
      "outputs": []
    },
    {
      "cell_type": "code",
      "metadata": {
        "id": "JXnmBkp7j8QG",
        "outputId": "a7e042c7-602b-49f1-fc74-3d5db7e719a6",
        "colab": {
          "base_uri": "https://localhost:8080/"
        }
      },
      "source": [
        "#accuracy\n",
        "featuresets = [(document_features(d), c) for (d,c) in sentiment_list]\n",
        "train_set, test_set = featuresets[:80], featuresets[80:]\n",
        "classifier = nltk.NaiveBayesClassifier.train(train_set)\n",
        "print(nltk.classify.accuracy(classifier, test_set))"
      ],
      "execution_count": 48,
      "outputs": [
        {
          "output_type": "stream",
          "text": [
            "0.45\n"
          ],
          "name": "stdout"
        }
      ]
    },
    {
      "cell_type": "code",
      "metadata": {
        "id": "Nf9bCYVdmNCd",
        "outputId": "714e32c2-e254-4221-c832-efff15eb0f5e",
        "colab": {
          "base_uri": "https://localhost:8080/"
        }
      },
      "source": [
        "#top 5 features\n",
        "classifier.show_most_informative_features(5)"
      ],
      "execution_count": 26,
      "outputs": [
        {
          "output_type": "stream",
          "text": [
            "Most Informative Features\n",
            "contains(joaquin' portrayal sociopathic, mentally unstable man's transformation iconic joker non grippingly accurate, realistic touching rendition. dark disturbing character piece led oscar worthy performance joaquin phoenix. really feel bad guy, make heartbreaking inevitably becomes clown prince crime know love, although we've never seen like this. see suffer throughout movie point we're almost rooting himk become mass murdering psyco clown, least make feel better; happens wish could avoided, e messed up. feel care him. time he's joker, wish could've helped him. there's lot great nod greater batman universe, yet movie self contained character piece. mark great movie. acting great, plot (while similar taxi driver) brilliant quality movie show need cgi super power great villain superhero movie. joke everyone gets. movie \"the rise joker!\" 10/10) = False          positi : negati =      1.0 : 1.0\n",
            "contains(joaquin phoenix give heath ledger run money, true story. popcorn fluff comic book flick. take kid see movie. shut ballot oscar, joaquin taking one home hand down. one best origin story ever put out. downside movie, stand alone film sequel tie dc universe. todd philip take joker one pure brilliance joaquin phoenix joker deserved. steal jack heath yet got taste both.) = False          positi : negati =      1.0 : 1.0\n",
            "contains(really understand ten here. sure, good movie, good acting, nice shooting. plot intriguing. time really long somewhat boring. needed double-check genre see drama what. crime, drama, thriller said. would put maybe 90% drama rest thriller.i miss dialogue, depth, substance. plot really somewhat crazy person becoming bit crazier. sure undertone society system mean character people bringing creating evil beast later want destroy everything. absolutely, think intriguing story plot dialogue enough give ten.worthy watching, yes. amazing) = False          positi : negati =      1.0 : 1.0\n",
            "contains(writer-director todd phillips's new movie \"joker\" appeal multiple levels, primarily offering engaging story, strongly rooted believable reality, related audience mainly opposing protagonist's prevalent dark depressive mood using often optimistic soundtrack sound editing, shallow nonetheless rich visuals, angle framing, theatricality augmented expressive costumes, prop sets, impressively via great principal performance acting choice made joaquin phoenix lead title character (under proper fictional name arthur fleck), whose sudden uncontrollable seemingly inappropriate laughter (justified medical condition) easily counterpoint (painful need for) outcry gotham (read: any) city masses, hurt deprived injustice quotidian existence, well robert de niro quintessential supporting role tv-comedy show host murray franklin (both worthy end-of-the-year acting award considerations), setting believable pre-course future adventure realistic dc comic character, batman (not superhero all, extraordinary capability rather resulting physical fitness skill combined high technology employed), appears young boy, whose later adult activity could understood largely driven happened parent final scene movie, event directly inspired action joker, henceforth future main nemeses.) = False          positi : negati =      1.0 : 1.0\n",
            "contains(thought film good get hype personally. acting amazing film good overall think 'masterpiece' 'film year' bit overused throughout reviews. way dislike film, thought really good, overhyped. feel though lot 10/10 review purely based fact already amazing review people want carry praise joker. film released random guy situation, think review would high maybe that's point.) = False          positi : negati =      1.0 : 1.0\n"
          ],
          "name": "stdout"
        }
      ]
    },
    {
      "cell_type": "markdown",
      "metadata": {
        "id": "bp-bR9JB-yd5"
      },
      "source": [
        "## (2) (10 points) Compare the performance of the following tools in sentiment identification: TextBlob (https://textblob.readthedocs.io/en/dev/), VADER (https://github.com/cjhutto/vaderSentiment), TFIDF-based Support Vector Machine (SVM) (Split your data into training and testing data). Take your own annotation as the standard answers. \n",
        "\n",
        "Reference code: https://towardsdatascience.com/fine-grained-sentiment-analysis-in-python-part-1-2697bb111ed4"
      ]
    },
    {
      "cell_type": "code",
      "metadata": {
        "id": "Ynnf-EXvqLQ4",
        "outputId": "58606fc8-8a81-4249-8ade-b1dabb0126bd",
        "colab": {
          "base_uri": "https://localhost:8080/"
        }
      },
      "source": [
        "!pip install vaderSentiment"
      ],
      "execution_count": 30,
      "outputs": [
        {
          "output_type": "stream",
          "text": [
            "Collecting vaderSentiment\n",
            "\u001b[?25l  Downloading https://files.pythonhosted.org/packages/76/fc/310e16254683c1ed35eeb97386986d6c00bc29df17ce280aed64d55537e9/vaderSentiment-3.3.2-py2.py3-none-any.whl (125kB)\n",
            "\r\u001b[K     |██▋                             | 10kB 13.7MB/s eta 0:00:01\r\u001b[K     |█████▏                          | 20kB 1.7MB/s eta 0:00:01\r\u001b[K     |███████▉                        | 30kB 2.2MB/s eta 0:00:01\r\u001b[K     |██████████▍                     | 40kB 2.5MB/s eta 0:00:01\r\u001b[K     |█████████████                   | 51kB 1.9MB/s eta 0:00:01\r\u001b[K     |███████████████▋                | 61kB 2.2MB/s eta 0:00:01\r\u001b[K     |██████████████████▏             | 71kB 2.4MB/s eta 0:00:01\r\u001b[K     |████████████████████▉           | 81kB 2.6MB/s eta 0:00:01\r\u001b[K     |███████████████████████▍        | 92kB 2.8MB/s eta 0:00:01\r\u001b[K     |██████████████████████████      | 102kB 2.7MB/s eta 0:00:01\r\u001b[K     |████████████████████████████▋   | 112kB 2.7MB/s eta 0:00:01\r\u001b[K     |███████████████████████████████▏| 122kB 2.7MB/s eta 0:00:01\r\u001b[K     |████████████████████████████████| 133kB 2.7MB/s \n",
            "\u001b[?25hRequirement already satisfied: requests in /usr/local/lib/python3.6/dist-packages (from vaderSentiment) (2.23.0)\n",
            "Requirement already satisfied: urllib3!=1.25.0,!=1.25.1,<1.26,>=1.21.1 in /usr/local/lib/python3.6/dist-packages (from requests->vaderSentiment) (1.24.3)\n",
            "Requirement already satisfied: certifi>=2017.4.17 in /usr/local/lib/python3.6/dist-packages (from requests->vaderSentiment) (2020.6.20)\n",
            "Requirement already satisfied: idna<3,>=2.5 in /usr/local/lib/python3.6/dist-packages (from requests->vaderSentiment) (2.10)\n",
            "Requirement already satisfied: chardet<4,>=3.0.2 in /usr/local/lib/python3.6/dist-packages (from requests->vaderSentiment) (3.0.4)\n",
            "Installing collected packages: vaderSentiment\n",
            "Successfully installed vaderSentiment-3.3.2\n"
          ],
          "name": "stdout"
        }
      ]
    },
    {
      "cell_type": "code",
      "metadata": {
        "id": "TSRz34up-yd6",
        "outputId": "895209a0-8aef-467a-aa69-e716bb495594",
        "colab": {
          "base_uri": "https://localhost:8080/"
        }
      },
      "source": [
        "# Write your code here\n",
        "#text blob\n",
        "from textblob import TextBlob\n",
        "polar=[]\n",
        "for i in df['Review']:\n",
        "  blob = TextBlob(i)\n",
        "  for sentence in blob.sentences:\n",
        "    polar.append(sentence.sentiment.polarity)\n",
        "neutral=0\n",
        "pos=0\n",
        "neg=0\n",
        "for i in polar:\n",
        "  if i==0.0:\n",
        "    neutral+=1\n",
        "  elif i>0:\n",
        "    pos+=1\n",
        "  else: neg+=1\n",
        "\n",
        "\n",
        "print(\"positive\",pos)\n",
        "print(\"negative\",neg)\n",
        "print(\"neutral\",neutral)\n",
        "\n"
      ],
      "execution_count": 61,
      "outputs": [
        {
          "output_type": "stream",
          "text": [
            "positive 385\n",
            "negative 200\n",
            "neutral 210\n"
          ],
          "name": "stdout"
        }
      ]
    },
    {
      "cell_type": "code",
      "metadata": {
        "id": "y6UJYD7brhqv",
        "outputId": "72087169-3bc9-46d2-8f85-739cebf26387",
        "colab": {
          "base_uri": "https://localhost:8080/"
        }
      },
      "source": [
        "#vader\n",
        "from vaderSentiment.vaderSentiment import SentimentIntensityAnalyzer\n",
        "analyser = SentimentIntensityAnalyzer()\n",
        "def sentiment_analyzer_scores(sentence):\n",
        "    score = analyser.polarity_scores(sentence)\n",
        "    print(\"{:-<40} {}\".format(sentence, str(score)))\n",
        "for i in df['Review'][:5]:\n",
        "  sentiment_analyzer_scores(i)"
      ],
      "execution_count": 35,
      "outputs": [
        {
          "output_type": "stream",
          "text": [
            "every movie comes, truly make impact. joaquin's performance scenography brilliance. grotesque, haunting cringy. hard watch times,... mesmerizing, blink eye watching it. tragic, seriously funny moments. emotional rollercoaster sometimes, multiple emotion popping-up time.this far typical action-riddled predictable super-hero movie proper psychological thriller/drama, single best character development ever seen. {'neg': 0.133, 'neu': 0.616, 'pos': 0.251, 'compound': 0.8519}\n",
            "movie felt alone isolated truly relate it. understand motive feel sorry character. lot people see movie think encourages violence. truly, movie encourage every one u become better person, treat everyone respect make feel like belong world, instead making feel isolated. {'neg': 0.193, 'neu': 0.434, 'pos': 0.373, 'compound': 0.9042}\n",
            "truly masterpiece, best hollywood film 2019, one best film decade... truly best film bring comic book chillingly realistically real ife. remarkable direction, cinematography, music acting. people surprised find disturbing violent, necessity message. society reflects underappreciated/unrecognized/bullied people, proving something too. way show class difference, corruption rich talented rule others around exaggerated that's make different. believable. could multiple joker living society could shake around much bitter way film show making people uncomforting people. consider wake call, message, first film. perfect film. {'neg': 0.114, 'neu': 0.538, 'pos': 0.348, 'compound': 0.9818}\n",
            "joaquin phoenix give tour de force performance, fearless stunning emotional depth physicality. impossible talk without referencing heath ledger's oscar-winning performance dark knight, widely considered definitive live-action portrayal joker, let's talk it. fact is, everyone going stunned phoenix accomplishes, many thought impossible portrayal match potentially exceeds dark knight's clown prince crime {'neg': 0.083, 'neu': 0.726, 'pos': 0.191, 'compound': 0.6597}\n",
            "time movie anticipated like end falling short, way short. joker first time happy hype. please ignore complaint \"pernicious violence\" embarrassing say least. seen comic movie real before. ever \"deserved\" better class criminal phillips phoenix delivered. dark, joker dark fall love villain should. bad guy always romantic anyway. {'neg': 0.31, 'neu': 0.409, 'pos': 0.281, 'compound': -0.4939}\n"
          ],
          "name": "stdout"
        }
      ]
    },
    {
      "cell_type": "code",
      "metadata": {
        "id": "HYrBRk3dryZt"
      },
      "source": [
        "#TF-IDF -SVM\n",
        "train=df[:80]\n",
        "test=df[80:]\n",
        "from sklearn.feature_extraction.text import TfidfVectorizer\n",
        "# Create feature vectors\n",
        "vectorizer = TfidfVectorizer(min_df = 5,\n",
        "                             max_df = 0.8,\n",
        "                             sublinear_tf = True,\n",
        "                             use_idf = True)\n",
        "train_vectors = vectorizer.fit_transform(train['Review'])\n",
        "test_vectors = vectorizer.transform(test['Review'])"
      ],
      "execution_count": 56,
      "outputs": []
    },
    {
      "cell_type": "code",
      "metadata": {
        "id": "HeiB007SwHBc",
        "outputId": "5177e072-a3c6-4f78-a707-cc7a1092e285",
        "colab": {
          "base_uri": "https://localhost:8080/"
        }
      },
      "source": [
        "import time\n",
        "from sklearn import svm\n",
        "from sklearn.metrics import classification_report\n",
        "# Perform classification with SVM, kernel=linear\n",
        "classifier_linear = svm.SVC(kernel='linear')\n",
        "t0 = time.time()\n",
        "classifier_linear.fit(train_vectors, train['sentiment'])\n",
        "t1 = time.time()\n",
        "prediction_linear = classifier_linear.predict(test_vectors)\n",
        "t2 = time.time()\n",
        "time_linear_train = t1-t0\n",
        "time_linear_predict = t2-t1\n",
        "# results\n",
        "print(\"Training time: %fs; Prediction time: %fs\" % (time_linear_train, time_linear_predict))\n",
        "report = classification_report(test['sentiment'], prediction_linear, output_dict=True)\n",
        "print('positive: ', report['positive'])\n",
        "print('negative: ', report['negative'])\n",
        "print(\"neutral:\", report['neutral'])"
      ],
      "execution_count": 55,
      "outputs": [
        {
          "output_type": "stream",
          "text": [
            "Training time: 0.007710s; Prediction time: 0.001469s\n",
            "positive:  {'precision': 0.875, 'recall': 0.7777777777777778, 'f1-score': 0.823529411764706, 'support': 9}\n",
            "negative:  {'precision': 0.375, 'recall': 0.5, 'f1-score': 0.42857142857142855, 'support': 6}\n",
            "neutral: {'precision': 0.5, 'recall': 0.4, 'f1-score': 0.4444444444444445, 'support': 5}\n"
          ],
          "name": "stdout"
        }
      ]
    },
    {
      "cell_type": "code",
      "metadata": {
        "id": "Po-MlStRzt6i"
      },
      "source": [
        ""
      ],
      "execution_count": null,
      "outputs": []
    },
    {
      "cell_type": "markdown",
      "metadata": {
        "id": "vL7hIwzXx9yp"
      },
      "source": [
        "Performance of the models:\n",
        "\n",
        "Textblob: I think it is best, if we use textblob when we have individual sentences as the input but not the group of sentences as input.\n",
        "using textblob, the number of positive sentences are 385, number of negative sentences are 200 and neutral are 210. That means, we can say that number of positives are more. If we see the bar chart, the number of positives are more. So, I can say that textblob is accurate.\n",
        "\n",
        "Vader: Using vader, I saw the first 5 sentences. All the sentences has more neutral values, whereas while annotating, I gave the sentiment for those sentences as positive. So, I think vader is not accurate.\n",
        "\n",
        "SVM: using TF-IDF svm, i got the precision value more for positive values (0.875) and f-score of 0.82. So, I can say positive values are accurate. So, I can say it is also accurate for upto postive values.\n",
        "\n",
        "In conclusion, I can say that textblob is better than SVM and vader. SVM is better when compared to vader."
      ]
    }
  ]
}