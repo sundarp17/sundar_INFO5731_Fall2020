{
  "nbformat": 4,
  "nbformat_minor": 0,
  "metadata": {
    "colab": {
      "name": "In_class_exercise_02.ipynb",
      "provenance": [],
      "collapsed_sections": [],
      "toc_visible": true,
      "include_colab_link": true
    },
    "kernelspec": {
      "display_name": "Python 3",
      "language": "python",
      "name": "python3"
    },
    "language_info": {
      "codemirror_mode": {
        "name": "ipython",
        "version": 3
      },
      "file_extension": ".py",
      "mimetype": "text/x-python",
      "name": "python",
      "nbconvert_exporter": "python",
      "pygments_lexer": "ipython3",
      "version": "3.7.4"
    }
  },
  "cells": [
    {
      "cell_type": "markdown",
      "metadata": {
        "id": "view-in-github",
        "colab_type": "text"
      },
      "source": [
        "<a href=\"https://colab.research.google.com/github/sundarp17/sundar_info5731_fall2020/blob/master/In_class_exercise_02.ipynb\" target=\"_parent\"><img src=\"https://colab.research.google.com/assets/colab-badge.svg\" alt=\"Open In Colab\"/></a>"
      ]
    },
    {
      "cell_type": "markdown",
      "metadata": {
        "colab_type": "text",
        "id": "oo5bsEh2eeWi"
      },
      "source": [
        "# **The second In-class-exercise (9/9/2020, 20 points in total)**\n"
      ]
    },
    {
      "cell_type": "markdown",
      "metadata": {
        "colab_type": "text",
        "id": "2sPQ58dIeqgp"
      },
      "source": [
        "(1) Write a Python program to find the duplicate elements in a given array of integers. Return -1 If there are no such elements. (4 points)"
      ]
    },
    {
      "cell_type": "code",
      "metadata": {
        "colab_type": "code",
        "id": "mnrvKMFTeoJR",
        "colab": {
          "base_uri": "https://localhost:8080/",
          "height": 33
        },
        "outputId": "c4b09ed2-d8aa-42f5-cf26-a89322d84551"
      },
      "source": [
        "# write your answer here\n",
        "input_array=[1,22,33,2,5,6,9,6,22,8,17]\n",
        "def duplicate(arr):\n",
        "  elements=[]\n",
        "  for i in range(len(arr)):\n",
        "    j=i+1\n",
        "    for k in range(j,len(arr)):\n",
        "      if(arr[i]==arr[k]):\n",
        "         elements.append(arr[i])\n",
        "  if len(elements)==0:\n",
        "    return -1\n",
        "  else:\n",
        "    return elements\n",
        "duplicate(input_array)\n",
        "\n",
        "\n",
        "\n",
        "\n",
        "\n"
      ],
      "execution_count": null,
      "outputs": [
        {
          "output_type": "execute_result",
          "data": {
            "text/plain": [
              "[22, 6]"
            ]
          },
          "metadata": {
            "tags": []
          },
          "execution_count": 22
        }
      ]
    },
    {
      "cell_type": "markdown",
      "metadata": {
        "colab_type": "text",
        "id": "YYrH6n6IhZoQ"
      },
      "source": [
        "(2) Write a Python program to select all the Sundays of a specified year. (4 points)\n",
        "\n"
      ]
    },
    {
      "cell_type": "code",
      "metadata": {
        "colab_type": "code",
        "id": "OSfPLd23eLpX",
        "colab": {
          "base_uri": "https://localhost:8080/",
          "height": 886
        },
        "outputId": "178cfb8b-72ee-4d77-edb7-730ec2895374"
      },
      "source": [
        "# write your answer here\n",
        "import pandas as pd\n",
        "def sundays(year):\n",
        "  return pd.date_range(start=str(year),end=str(year+1),freq='W-SUN').strftime('%m/%d/%Y').tolist()\n",
        "sundays(20)\n"
      ],
      "execution_count": null,
      "outputs": [
        {
          "output_type": "execute_result",
          "data": {
            "text/plain": [
              "['01/05/2020',\n",
              " '01/12/2020',\n",
              " '01/19/2020',\n",
              " '01/26/2020',\n",
              " '02/02/2020',\n",
              " '02/09/2020',\n",
              " '02/16/2020',\n",
              " '02/23/2020',\n",
              " '03/01/2020',\n",
              " '03/08/2020',\n",
              " '03/15/2020',\n",
              " '03/22/2020',\n",
              " '03/29/2020',\n",
              " '04/05/2020',\n",
              " '04/12/2020',\n",
              " '04/19/2020',\n",
              " '04/26/2020',\n",
              " '05/03/2020',\n",
              " '05/10/2020',\n",
              " '05/17/2020',\n",
              " '05/24/2020',\n",
              " '05/31/2020',\n",
              " '06/07/2020',\n",
              " '06/14/2020',\n",
              " '06/21/2020',\n",
              " '06/28/2020',\n",
              " '07/05/2020',\n",
              " '07/12/2020',\n",
              " '07/19/2020',\n",
              " '07/26/2020',\n",
              " '08/02/2020',\n",
              " '08/09/2020',\n",
              " '08/16/2020',\n",
              " '08/23/2020',\n",
              " '08/30/2020',\n",
              " '09/06/2020',\n",
              " '09/13/2020',\n",
              " '09/20/2020',\n",
              " '09/27/2020',\n",
              " '10/04/2020',\n",
              " '10/11/2020',\n",
              " '10/18/2020',\n",
              " '10/25/2020',\n",
              " '11/01/2020',\n",
              " '11/08/2020',\n",
              " '11/15/2020',\n",
              " '11/22/2020',\n",
              " '11/29/2020',\n",
              " '12/06/2020',\n",
              " '12/13/2020',\n",
              " '12/20/2020',\n",
              " '12/27/2020']"
            ]
          },
          "metadata": {
            "tags": []
          },
          "execution_count": 24
        }
      ]
    },
    {
      "cell_type": "markdown",
      "metadata": {
        "colab_type": "text",
        "id": "UIpziZ6Sjie-"
      },
      "source": [
        "(3) Python files reading and writing. Download the “[exercise_02_data _collection.zip](https://github.com/unt-iialab/INFO5731_FALL2020/blob/master/In_class_exercise/exercise_02_data_collection.zip)” to your local and un-zip it.\n",
        "\n",
        "*   Write a program to read all the txt files and save the sentences in all the files into one csv file with two columns, the first column is sentence id (txt file name+sentence line number), the second column is the sentence text content. (4 points)\n",
        "*   Remove all the punctuations from the sentences, save the processed sentences into a new column in the same csv file. (4 points)\n",
        "*   Ask the user to enter a word, return all the sentences that include this word, three kinds of information should be returned: sentence id, sentence text content, the count that user input word appear in the sentence. (4 points)\n",
        "\n"
      ]
    },
    {
      "cell_type": "code",
      "metadata": {
        "colab_type": "code",
        "id": "f3CUsrWOj1Xy",
        "colab": {
          "base_uri": "https://localhost:8080/",
          "height": 50
        },
        "outputId": "46b75ef4-7854-4cca-92d7-ff0a64fc0628"
      },
      "source": [
        "# write your answer here\n",
        "!unzip exercise_02_data_collection.zip\n",
        "\n"
      ],
      "execution_count": null,
      "outputs": [
        {
          "output_type": "stream",
          "text": [
            "Archive:  exercise_02_data_collection.zip\n",
            "replace exercise_02_data_collection/ARTHROTEC.1.txt? [y]es, [n]o, [A]ll, [N]one, [r]ename: N\n"
          ],
          "name": "stdout"
        }
      ]
    },
    {
      "cell_type": "code",
      "metadata": {
        "id": "PRLAchsizfKF",
        "colab_type": "code",
        "colab": {
          "base_uri": "https://localhost:8080/",
          "height": 903
        },
        "outputId": "de9ad439-aee8-4b5a-dcd6-c0440b9e99b3"
      },
      "source": [
        "import os,glob\n",
        "import pandas as pd\n",
        "import string\n",
        "path='/content/exercise_02_data_collection'\n",
        "#print(all_files)\n",
        "\n",
        "id=[]\n",
        "sentences=[]\n",
        "processed_sentence=[]\n",
        "\n",
        "for filename in glob.glob(os.path.join(path, '*.txt')):\n",
        "  f=open(filename,\"r\")\n",
        "  data=f.read()\n",
        "  sentence=data.splitlines()\n",
        "  for i in range(len(sentence)):\n",
        "    id.append(filename+str(i))\n",
        "  for j in sentence:\n",
        "    sentences.append(j)\n",
        "\n",
        "zippedlist=list(zip(id,sentences))\n",
        "df=pd.DataFrame(zippedlist,columns=['sentence id','sentence text'])\n",
        "#print(df, sep='\\n')\n",
        "#op=pd.DataFrame(df).to_csv('output.csv',header=True,index=None)\n",
        "\n",
        "for i in sentences:\n",
        "  processed_sentence.append(\"\".join([word for word in i if word not in string.punctuation]))\n",
        "df['processed_sentence']=processed_sentence\n",
        "print(df)\n",
        "op=pd.DataFrame(df).to_csv('output.csv',header=True,index=None)\n",
        "\n",
        "#word search\n",
        "\n",
        "df=df.drop(columns=['sentence text'],axis=1)\n",
        "word=input(\"enter a word to search\")\n",
        "word_contain=df[df['processed_sentence'].str.contains(word)]\n",
        "count=word_contain.processed_sentence.str.count(word).to_frame(name='count')\n",
        "df= pd.concat([word_contain,count],axis=1)\n",
        "op_count=pd.DataFrame(df).to_csv('word_count.csv',header=True,index=None)\n",
        "print(df)\n",
        "\n",
        "\n",
        "\n"
      ],
      "execution_count": 56,
      "outputs": [
        {
          "output_type": "stream",
          "text": [
            "                                           sentence id  ...                                 processed_sentence\n",
            "0    /content/exercise_02_data_collection/ARTHROTEC...  ...                                       Hunger pangs\n",
            "1    /content/exercise_02_data_collection/ARTHROTEC...  ...  Brilliant I have a new lease of life i walk up...\n",
            "2    /content/exercise_02_data_collection/ARTHROTEC...  ...  No side effects but I always add acidophilous ...\n",
            "3    /content/exercise_02_data_collection/ARTHROTEC...  ...  I am only taking 75 mg a day and it is wonderf...\n",
            "4    /content/exercise_02_data_collection/ARTHROTEC...  ...     I have not experienced any of the side effects\n",
            "..                                                 ...  ...                                                ...\n",
            "530  /content/exercise_02_data_collection/ARTHROTEC...  ...  On top of that I am now having to have a proce...\n",
            "531  /content/exercise_02_data_collection/ARTHROTEC...  ...  I truly hope that there are no long term effec...\n",
            "532  /content/exercise_02_data_collection/ARTHROTEC...  ...  I have not taken Arthrotec in almost a week ye...\n",
            "533  /content/exercise_02_data_collection/ARTHROTEC...  ...  I do not look forward to the extra pains I wil...\n",
            "534  /content/exercise_02_data_collection/ARTHROTEC...  ...  I feel that I have become dependent on this me...\n",
            "\n",
            "[535 rows x 3 columns]\n",
            "enter a word to searcheffects\n",
            "                                           sentence id  ... count\n",
            "2    /content/exercise_02_data_collection/ARTHROTEC...  ...     1\n",
            "4    /content/exercise_02_data_collection/ARTHROTEC...  ...     1\n",
            "10   /content/exercise_02_data_collection/ARTHROTEC...  ...     1\n",
            "11   /content/exercise_02_data_collection/ARTHROTEC...  ...     1\n",
            "14   /content/exercise_02_data_collection/ARTHROTEC...  ...     1\n",
            "17   /content/exercise_02_data_collection/ARTHROTEC...  ...     1\n",
            "32   /content/exercise_02_data_collection/ARTHROTEC...  ...     1\n",
            "45   /content/exercise_02_data_collection/ARTHROTEC...  ...     1\n",
            "59   /content/exercise_02_data_collection/ARTHROTEC...  ...     1\n",
            "61   /content/exercise_02_data_collection/ARTHROTEC...  ...     1\n",
            "96   /content/exercise_02_data_collection/ARTHROTEC...  ...     1\n",
            "100  /content/exercise_02_data_collection/ARTHROTEC...  ...     1\n",
            "104  /content/exercise_02_data_collection/ARTHROTEC...  ...     1\n",
            "106  /content/exercise_02_data_collection/ARTHROTEC...  ...     1\n",
            "163  /content/exercise_02_data_collection/ARTHROTEC...  ...     1\n",
            "168  /content/exercise_02_data_collection/ARTHROTEC...  ...     1\n",
            "184  /content/exercise_02_data_collection/ARTHROTEC...  ...     1\n",
            "191  /content/exercise_02_data_collection/ARTHROTEC...  ...     1\n",
            "248  /content/exercise_02_data_collection/ARTHROTEC...  ...     1\n",
            "326  /content/exercise_02_data_collection/ARTHROTEC...  ...     2\n",
            "346  /content/exercise_02_data_collection/ARTHROTEC...  ...     1\n",
            "347  /content/exercise_02_data_collection/ARTHROTEC...  ...     1\n",
            "358  /content/exercise_02_data_collection/ARTHROTEC...  ...     1\n",
            "374  /content/exercise_02_data_collection/ARTHROTEC...  ...     1\n",
            "377  /content/exercise_02_data_collection/ARTHROTEC...  ...     1\n",
            "378  /content/exercise_02_data_collection/ARTHROTEC...  ...     2\n",
            "413  /content/exercise_02_data_collection/ARTHROTEC...  ...     1\n",
            "426  /content/exercise_02_data_collection/ARTHROTEC...  ...     1\n",
            "444  /content/exercise_02_data_collection/ARTHROTEC...  ...     1\n",
            "449  /content/exercise_02_data_collection/ARTHROTEC...  ...     1\n",
            "465  /content/exercise_02_data_collection/ARTHROTEC...  ...     1\n",
            "491  /content/exercise_02_data_collection/ARTHROTEC...  ...     1\n",
            "502  /content/exercise_02_data_collection/ARTHROTEC...  ...     1\n",
            "513  /content/exercise_02_data_collection/ARTHROTEC...  ...     2\n",
            "531  /content/exercise_02_data_collection/ARTHROTEC...  ...     1\n",
            "\n",
            "[35 rows x 3 columns]\n"
          ],
          "name": "stdout"
        }
      ]
    },
    {
      "cell_type": "markdown",
      "metadata": {
        "colab_type": "text",
        "id": "-12cqmJEpZOh"
      },
      "source": [
        "(4) Install packages nltk, numpy, scipy, pandas, and sklearn on Google Colab. Write a program to test whether they are installed successfully. (3 points for extra)"
      ]
    },
    {
      "cell_type": "code",
      "metadata": {
        "colab_type": "code",
        "id": "f1pn1Zl2qK77",
        "colab": {}
      },
      "source": [
        "# write your answer here\n",
        "\n",
        "\n",
        "\n"
      ],
      "execution_count": null,
      "outputs": []
    }
  ]
}