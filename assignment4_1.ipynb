{
  "nbformat": 4,
  "nbformat_minor": 0,
  "metadata": {
    "colab": {
      "name": "assignment4_1.ipynb",
      "provenance": [],
      "authorship_tag": "ABX9TyNUH3Kt1WPP9OVminLthHUy",
      "include_colab_link": true
    },
    "kernelspec": {
      "name": "python3",
      "display_name": "Python 3"
    }
  },
  "cells": [
    {
      "cell_type": "markdown",
      "metadata": {
        "id": "view-in-github",
        "colab_type": "text"
      },
      "source": [
        "<a href=\"https://colab.research.google.com/github/sundarp17/sundar_info5731_fall2020/blob/master/assignment4_1.ipynb\" target=\"_parent\"><img src=\"https://colab.research.google.com/assets/colab-badge.svg\" alt=\"Open In Colab\"/></a>"
      ]
    },
    {
      "cell_type": "code",
      "metadata": {
        "id": "N5LcV_82_ANi"
      },
      "source": [
        "import json"
      ],
      "execution_count": 2,
      "outputs": []
    },
    {
      "cell_type": "code",
      "metadata": {
        "id": "m0kAZ5-zDOIJ"
      },
      "source": [
        "import zipfile\n",
        "with zipfile.ZipFile('/content/Assignment four data Yelp (question 1 and 2).zip', 'r') as zip_ref:\n",
        "    zip_ref.extractall('/content/Assignment4')"
      ],
      "execution_count": 4,
      "outputs": []
    },
    {
      "cell_type": "code",
      "metadata": {
        "colab": {
          "base_uri": "https://localhost:8080/"
        },
        "id": "uZD7RaxKD5Ng",
        "outputId": "8ac30788-e009-429d-e1d8-c290eb692738"
      },
      "source": [
        "reviews=[]\n",
        "import glob\n",
        "for files in glob.iglob('/content/Assignment4/Assignment four data Yelp (question 1 and 2)/*'):\n",
        "  f=open(files)\n",
        "  data=json.load(f)\n",
        "  for i in data:\n",
        "    reviews.append(i['text'])\n",
        "\n",
        "print(\"total reviews:\",len(reviews))\n"
      ],
      "execution_count": 20,
      "outputs": [
        {
          "output_type": "stream",
          "text": [
            "total reviews: 500000\n"
          ],
          "name": "stdout"
        }
      ]
    },
    {
      "cell_type": "code",
      "metadata": {
        "colab": {
          "base_uri": "https://localhost:8080/"
        },
        "id": "SVRfvtLRXSqW",
        "outputId": "da82bcbd-4af8-4a25-e37e-0cdcacbc979a"
      },
      "source": [
        "ratings=[]\n",
        "for files in glob.iglob('/content/Assignment4/Assignment four data Yelp (question 1 and 2)/*'):\n",
        "  f=open(files)\n",
        "  data=json.load(f)\n",
        "  for i in data:\n",
        "    ratings.append(i['stars'])\n",
        "\n",
        "print(\"total ratings:\",len(ratings))\n"
      ],
      "execution_count": 24,
      "outputs": [
        {
          "output_type": "stream",
          "text": [
            "total ratings: 500000\n"
          ],
          "name": "stdout"
        }
      ]
    },
    {
      "cell_type": "code",
      "metadata": {
        "colab": {
          "base_uri": "https://localhost:8080/",
          "height": 195
        },
        "id": "DyvSuk5QG8e1",
        "outputId": "a0b48b12-4ae1-4079-b869-79d0d4c2ec55"
      },
      "source": [
        "import pandas as pd\n",
        "\n",
        "df = pd.DataFrame(reviews,columns=['review'])\n",
        "df['ratings']=ratings\n",
        "df.head()"
      ],
      "execution_count": 25,
      "outputs": [
        {
          "output_type": "execute_result",
          "data": {
            "text/html": [
              "<div>\n",
              "<style scoped>\n",
              "    .dataframe tbody tr th:only-of-type {\n",
              "        vertical-align: middle;\n",
              "    }\n",
              "\n",
              "    .dataframe tbody tr th {\n",
              "        vertical-align: top;\n",
              "    }\n",
              "\n",
              "    .dataframe thead th {\n",
              "        text-align: right;\n",
              "    }\n",
              "</style>\n",
              "<table border=\"1\" class=\"dataframe\">\n",
              "  <thead>\n",
              "    <tr style=\"text-align: right;\">\n",
              "      <th></th>\n",
              "      <th>review</th>\n",
              "      <th>ratings</th>\n",
              "    </tr>\n",
              "  </thead>\n",
              "  <tbody>\n",
              "    <tr>\n",
              "      <th>0</th>\n",
              "      <td>Wow, called them at 7am because my RO system w...</td>\n",
              "      <td>5.0</td>\n",
              "    </tr>\n",
              "    <tr>\n",
              "      <th>1</th>\n",
              "      <td>Good take out with large portions. Thai tea wa...</td>\n",
              "      <td>4.0</td>\n",
              "    </tr>\n",
              "    <tr>\n",
              "      <th>2</th>\n",
              "      <td>Every experience thusfar, and there have been ...</td>\n",
              "      <td>5.0</td>\n",
              "    </tr>\n",
              "    <tr>\n",
              "      <th>3</th>\n",
              "      <td>First time at the Stone and Vine, very good fo...</td>\n",
              "      <td>4.0</td>\n",
              "    </tr>\n",
              "    <tr>\n",
              "      <th>4</th>\n",
              "      <td>Great delicious sammiches, coffee, and treats....</td>\n",
              "      <td>5.0</td>\n",
              "    </tr>\n",
              "  </tbody>\n",
              "</table>\n",
              "</div>"
            ],
            "text/plain": [
              "                                              review  ratings\n",
              "0  Wow, called them at 7am because my RO system w...      5.0\n",
              "1  Good take out with large portions. Thai tea wa...      4.0\n",
              "2  Every experience thusfar, and there have been ...      5.0\n",
              "3  First time at the Stone and Vine, very good fo...      4.0\n",
              "4  Great delicious sammiches, coffee, and treats....      5.0"
            ]
          },
          "metadata": {
            "tags": []
          },
          "execution_count": 25
        }
      ]
    },
    {
      "cell_type": "code",
      "metadata": {
        "colab": {
          "base_uri": "https://localhost:8080/",
          "height": 195
        },
        "id": "EW_NHwVNX-di",
        "outputId": "7ebf8b5b-c3b2-4165-a372-b7c451a86d57"
      },
      "source": [
        "df['ratings']=df['ratings'].astype(int)\n",
        "df.head()"
      ],
      "execution_count": 26,
      "outputs": [
        {
          "output_type": "execute_result",
          "data": {
            "text/html": [
              "<div>\n",
              "<style scoped>\n",
              "    .dataframe tbody tr th:only-of-type {\n",
              "        vertical-align: middle;\n",
              "    }\n",
              "\n",
              "    .dataframe tbody tr th {\n",
              "        vertical-align: top;\n",
              "    }\n",
              "\n",
              "    .dataframe thead th {\n",
              "        text-align: right;\n",
              "    }\n",
              "</style>\n",
              "<table border=\"1\" class=\"dataframe\">\n",
              "  <thead>\n",
              "    <tr style=\"text-align: right;\">\n",
              "      <th></th>\n",
              "      <th>review</th>\n",
              "      <th>ratings</th>\n",
              "    </tr>\n",
              "  </thead>\n",
              "  <tbody>\n",
              "    <tr>\n",
              "      <th>0</th>\n",
              "      <td>Wow, called them at 7am because my RO system w...</td>\n",
              "      <td>5</td>\n",
              "    </tr>\n",
              "    <tr>\n",
              "      <th>1</th>\n",
              "      <td>Good take out with large portions. Thai tea wa...</td>\n",
              "      <td>4</td>\n",
              "    </tr>\n",
              "    <tr>\n",
              "      <th>2</th>\n",
              "      <td>Every experience thusfar, and there have been ...</td>\n",
              "      <td>5</td>\n",
              "    </tr>\n",
              "    <tr>\n",
              "      <th>3</th>\n",
              "      <td>First time at the Stone and Vine, very good fo...</td>\n",
              "      <td>4</td>\n",
              "    </tr>\n",
              "    <tr>\n",
              "      <th>4</th>\n",
              "      <td>Great delicious sammiches, coffee, and treats....</td>\n",
              "      <td>5</td>\n",
              "    </tr>\n",
              "  </tbody>\n",
              "</table>\n",
              "</div>"
            ],
            "text/plain": [
              "                                              review  ratings\n",
              "0  Wow, called them at 7am because my RO system w...        5\n",
              "1  Good take out with large portions. Thai tea wa...        4\n",
              "2  Every experience thusfar, and there have been ...        5\n",
              "3  First time at the Stone and Vine, very good fo...        4\n",
              "4  Great delicious sammiches, coffee, and treats....        5"
            ]
          },
          "metadata": {
            "tags": []
          },
          "execution_count": 26
        }
      ]
    },
    {
      "cell_type": "code",
      "metadata": {
        "colab": {
          "base_uri": "https://localhost:8080/"
        },
        "id": "AEwNKXwZYLzK",
        "outputId": "8bb94c0a-32bb-42be-9c72-ed86bd45977f"
      },
      "source": [
        "df['ratings'].unique()"
      ],
      "execution_count": 28,
      "outputs": [
        {
          "output_type": "execute_result",
          "data": {
            "text/plain": [
              "array([5, 4, 3, 2, 1])"
            ]
          },
          "metadata": {
            "tags": []
          },
          "execution_count": 28
        }
      ]
    },
    {
      "cell_type": "markdown",
      "metadata": {
        "id": "9WzV0CDJHSBm"
      },
      "source": [
        "Cleaning\n"
      ]
    },
    {
      "cell_type": "code",
      "metadata": {
        "colab": {
          "base_uri": "https://localhost:8080/",
          "height": 343
        },
        "id": "I2h8yU7VHRr3",
        "outputId": "39b43106-ead9-49aa-d584-32e96239e546"
      },
      "source": [
        "import re\n",
        "#removing punctutations\n",
        "df['review']=df['review'].map(lambda x: re.sub('[?|!|\\'|\"|#]', '', x))\n",
        "#lower\n",
        "df['review']=df['review'].map(lambda x: x.lower())\n",
        "\n",
        "df.head(10)"
      ],
      "execution_count": 27,
      "outputs": [
        {
          "output_type": "execute_result",
          "data": {
            "text/html": [
              "<div>\n",
              "<style scoped>\n",
              "    .dataframe tbody tr th:only-of-type {\n",
              "        vertical-align: middle;\n",
              "    }\n",
              "\n",
              "    .dataframe tbody tr th {\n",
              "        vertical-align: top;\n",
              "    }\n",
              "\n",
              "    .dataframe thead th {\n",
              "        text-align: right;\n",
              "    }\n",
              "</style>\n",
              "<table border=\"1\" class=\"dataframe\">\n",
              "  <thead>\n",
              "    <tr style=\"text-align: right;\">\n",
              "      <th></th>\n",
              "      <th>review</th>\n",
              "      <th>ratings</th>\n",
              "    </tr>\n",
              "  </thead>\n",
              "  <tbody>\n",
              "    <tr>\n",
              "      <th>0</th>\n",
              "      <td>wow, called them at 7am because my ro system w...</td>\n",
              "      <td>5</td>\n",
              "    </tr>\n",
              "    <tr>\n",
              "      <th>1</th>\n",
              "      <td>good take out with large portions. thai tea wa...</td>\n",
              "      <td>4</td>\n",
              "    </tr>\n",
              "    <tr>\n",
              "      <th>2</th>\n",
              "      <td>every experience thusfar, and there have been ...</td>\n",
              "      <td>5</td>\n",
              "    </tr>\n",
              "    <tr>\n",
              "      <th>3</th>\n",
              "      <td>first time at the stone and vine, very good fo...</td>\n",
              "      <td>4</td>\n",
              "    </tr>\n",
              "    <tr>\n",
              "      <th>4</th>\n",
              "      <td>great delicious sammiches, coffee, and treats....</td>\n",
              "      <td>5</td>\n",
              "    </tr>\n",
              "    <tr>\n",
              "      <th>5</th>\n",
              "      <td>i brought a group of 20 dentists here, and we ...</td>\n",
              "      <td>5</td>\n",
              "    </tr>\n",
              "    <tr>\n",
              "      <th>6</th>\n",
              "      <td>my only complaint is that they dont have locat...</td>\n",
              "      <td>5</td>\n",
              "    </tr>\n",
              "    <tr>\n",
              "      <th>7</th>\n",
              "      <td>theyre lunch prices are awesome. the amount of...</td>\n",
              "      <td>5</td>\n",
              "    </tr>\n",
              "    <tr>\n",
              "      <th>8</th>\n",
              "      <td>this place is really nice tucked inside treasu...</td>\n",
              "      <td>4</td>\n",
              "    </tr>\n",
              "    <tr>\n",
              "      <th>9</th>\n",
              "      <td>had a great time tonight the food like always ...</td>\n",
              "      <td>5</td>\n",
              "    </tr>\n",
              "  </tbody>\n",
              "</table>\n",
              "</div>"
            ],
            "text/plain": [
              "                                              review  ratings\n",
              "0  wow, called them at 7am because my ro system w...        5\n",
              "1  good take out with large portions. thai tea wa...        4\n",
              "2  every experience thusfar, and there have been ...        5\n",
              "3  first time at the stone and vine, very good fo...        4\n",
              "4  great delicious sammiches, coffee, and treats....        5\n",
              "5  i brought a group of 20 dentists here, and we ...        5\n",
              "6  my only complaint is that they dont have locat...        5\n",
              "7  theyre lunch prices are awesome. the amount of...        5\n",
              "8  this place is really nice tucked inside treasu...        4\n",
              "9  had a great time tonight the food like always ...        5"
            ]
          },
          "metadata": {
            "tags": []
          },
          "execution_count": 27
        }
      ]
    },
    {
      "cell_type": "code",
      "metadata": {
        "colab": {
          "base_uri": "https://localhost:8080/",
          "height": 444
        },
        "id": "rSsoUdKMHowL",
        "outputId": "0b36afa9-5ae9-4c4e-a242-25d54de9d3e4"
      },
      "source": [
        "import nltk\n",
        "nltk.download('stopwords')\n",
        "from nltk.corpus import stopwords\n",
        "words = stopwords.words('english')\n",
        "from textblob import Word\n",
        "from textblob import TextBlob\n",
        "nltk.download('punkt')\n",
        "nltk.download('wordnet')\n",
        "\n",
        "df['review']=df['review'].apply(lambda x:\" \".join(x for x in x.split() if x not in words))\n",
        "df['review']=df['review'].apply(lambda x: \" \".join([Word(word).lemmatize() for word in x.split()]))\n",
        "\n",
        "df.head(10)"
      ],
      "execution_count": 29,
      "outputs": [
        {
          "output_type": "stream",
          "text": [
            "[nltk_data] Downloading package stopwords to /root/nltk_data...\n",
            "[nltk_data]   Package stopwords is already up-to-date!\n",
            "[nltk_data] Downloading package punkt to /root/nltk_data...\n",
            "[nltk_data]   Package punkt is already up-to-date!\n",
            "[nltk_data] Downloading package wordnet to /root/nltk_data...\n",
            "[nltk_data]   Package wordnet is already up-to-date!\n"
          ],
          "name": "stdout"
        },
        {
          "output_type": "execute_result",
          "data": {
            "text/html": [
              "<div>\n",
              "<style scoped>\n",
              "    .dataframe tbody tr th:only-of-type {\n",
              "        vertical-align: middle;\n",
              "    }\n",
              "\n",
              "    .dataframe tbody tr th {\n",
              "        vertical-align: top;\n",
              "    }\n",
              "\n",
              "    .dataframe thead th {\n",
              "        text-align: right;\n",
              "    }\n",
              "</style>\n",
              "<table border=\"1\" class=\"dataframe\">\n",
              "  <thead>\n",
              "    <tr style=\"text-align: right;\">\n",
              "      <th></th>\n",
              "      <th>review</th>\n",
              "      <th>ratings</th>\n",
              "    </tr>\n",
              "  </thead>\n",
              "  <tbody>\n",
              "    <tr>\n",
              "      <th>0</th>\n",
              "      <td>wow, called 7am ro system constantly running a...</td>\n",
              "      <td>5</td>\n",
              "    </tr>\n",
              "    <tr>\n",
              "      <th>1</th>\n",
              "      <td>good take large portions. thai tea excellent l...</td>\n",
              "      <td>4</td>\n",
              "    </tr>\n",
              "    <tr>\n",
              "      <th>2</th>\n",
              "      <td>every experience thusfar, several, 5 star fron...</td>\n",
              "      <td>5</td>\n",
              "    </tr>\n",
              "    <tr>\n",
              "      <th>3</th>\n",
              "      <td>first time stone vine, good food atmosphere go...</td>\n",
              "      <td>4</td>\n",
              "    </tr>\n",
              "    <tr>\n",
              "      <th>4</th>\n",
              "      <td>great delicious sammiches, coffee, treats. eve...</td>\n",
              "      <td>5</td>\n",
              "    </tr>\n",
              "    <tr>\n",
              "      <th>5</th>\n",
              "      <td>brought group 20 dentist here, amazing time. a...</td>\n",
              "      <td>5</td>\n",
              "    </tr>\n",
              "    <tr>\n",
              "      <th>6</th>\n",
              "      <td>complaint dont location colorado place great f...</td>\n",
              "      <td>5</td>\n",
              "    </tr>\n",
              "    <tr>\n",
              "      <th>7</th>\n",
              "      <td>theyre lunch price awesome. amount food get $1...</td>\n",
              "      <td>5</td>\n",
              "    </tr>\n",
              "    <tr>\n",
              "      <th>8</th>\n",
              "      <td>place really nice tucked inside treasure islan...</td>\n",
              "      <td>4</td>\n",
              "    </tr>\n",
              "    <tr>\n",
              "      <th>9</th>\n",
              "      <td>great time tonight food like always amazing be...</td>\n",
              "      <td>5</td>\n",
              "    </tr>\n",
              "  </tbody>\n",
              "</table>\n",
              "</div>"
            ],
            "text/plain": [
              "                                              review  ratings\n",
              "0  wow, called 7am ro system constantly running a...        5\n",
              "1  good take large portions. thai tea excellent l...        4\n",
              "2  every experience thusfar, several, 5 star fron...        5\n",
              "3  first time stone vine, good food atmosphere go...        4\n",
              "4  great delicious sammiches, coffee, treats. eve...        5\n",
              "5  brought group 20 dentist here, amazing time. a...        5\n",
              "6  complaint dont location colorado place great f...        5\n",
              "7  theyre lunch price awesome. amount food get $1...        5\n",
              "8  place really nice tucked inside treasure islan...        4\n",
              "9  great time tonight food like always amazing be...        5"
            ]
          },
          "metadata": {
            "tags": []
          },
          "execution_count": 29
        }
      ]
    },
    {
      "cell_type": "markdown",
      "metadata": {
        "id": "6fQ7NtvBWyMj"
      },
      "source": [
        "supervisied LDA"
      ]
    },
    {
      "cell_type": "code",
      "metadata": {
        "colab": {
          "base_uri": "https://localhost:8080/"
        },
        "id": "D97HFJ0Zd6kj",
        "outputId": "113af56e-6ee3-4b74-fb0d-7314b8099a24"
      },
      "source": [
        "!pip install tomotopy"
      ],
      "execution_count": 49,
      "outputs": [
        {
          "output_type": "stream",
          "text": [
            "Collecting tomotopy\n",
            "\u001b[?25l  Downloading https://files.pythonhosted.org/packages/70/39/29b0348bfcb689054abb7d627367fed37a4c282ff23feff13b3aef9a1de0/tomotopy-0.9.1-cp36-cp36m-manylinux2010_x86_64.whl (13.5MB)\n",
            "\u001b[K     |████████████████████████████████| 13.5MB 318kB/s \n",
            "\u001b[?25hRequirement already satisfied: numpy>=1.10.0 in /usr/local/lib/python3.6/dist-packages (from tomotopy) (1.18.5)\n",
            "Collecting py-cpuinfo\n",
            "\u001b[?25l  Downloading https://files.pythonhosted.org/packages/f6/f5/8e6e85ce2e9f6e05040cf0d4e26f43a4718bcc4bce988b433276d4b1a5c1/py-cpuinfo-7.0.0.tar.gz (95kB)\n",
            "\u001b[K     |████████████████████████████████| 102kB 12.8MB/s \n",
            "\u001b[?25hBuilding wheels for collected packages: py-cpuinfo\n",
            "  Building wheel for py-cpuinfo (setup.py) ... \u001b[?25l\u001b[?25hdone\n",
            "  Created wheel for py-cpuinfo: filename=py_cpuinfo-7.0.0-cp36-none-any.whl size=20071 sha256=4e903906d845901004a01fbe9933e7aa708e617abe7d4d31582384129b570804\n",
            "  Stored in directory: /root/.cache/pip/wheels/f1/93/7b/127daf0c3a5a49feb2fecd468d508067c733fba5192f726ad1\n",
            "Successfully built py-cpuinfo\n",
            "Installing collected packages: py-cpuinfo, tomotopy\n",
            "Successfully installed py-cpuinfo-7.0.0 tomotopy-0.9.1\n"
          ],
          "name": "stdout"
        }
      ]
    },
    {
      "cell_type": "code",
      "metadata": {
        "colab": {
          "base_uri": "https://localhost:8080/"
        },
        "id": "stbYM2ehI57_",
        "outputId": "d4ed820e-f2f0-43cc-90d7-941685b4c73c"
      },
      "source": [
        "import os\n",
        "import logging\n",
        "import nltk\n",
        "import numpy as np\n",
        "import matplotlib.pyplot as plt\n",
        "\n",
        "import tomotopy as tp\n",
        "mdl = tp.SLDAModel(k=20) #supervisedLDA\n",
        "for i in df['review']:\n",
        "    mdl.add_doc(i.split())\n",
        "for i in range(0, 100, 10):\n",
        "    mdl.train(10)\n",
        "    print('Iteration: {}\\tLog-likelihood: {}'.format(i, mdl.ll_per_word))\n",
        "for k in range(mdl.k):\n",
        "    print('Top 15 words of topic #{}'.format(k))\n",
        "    print(mdl.get_topic_words(k, top_n=15))\n"
      ],
      "execution_count": 57,
      "outputs": [
        {
          "output_type": "stream",
          "text": [
            "Iteration: 0\tLog-likelihood: -10.25496379458646\n",
            "Iteration: 10\tLog-likelihood: -9.734372019679011\n",
            "Iteration: 20\tLog-likelihood: -9.499059523878062\n",
            "Iteration: 30\tLog-likelihood: -9.374299705798231\n",
            "Iteration: 40\tLog-likelihood: -9.302230465976654\n",
            "Iteration: 50\tLog-likelihood: -9.258518728834002\n",
            "Iteration: 60\tLog-likelihood: -9.230839842661917\n",
            "Iteration: 70\tLog-likelihood: -9.212302650142698\n",
            "Iteration: 80\tLog-likelihood: -9.19835605201983\n",
            "Iteration: 90\tLog-likelihood: -9.187879632875875\n",
            "Top 15 words of topic #0\n",
            "[('steak', 0.009615588933229446), ('restaurant', 0.007514442317187786), ('wine', 0.006365377921611071), ('dinner', 0.0062333098612725735), ('-', 0.00599678186699748), ('salad', 0.005752792116254568), ('ordered', 0.005342411808669567), ('meal', 0.00527302036061883), ('great', 0.005267051048576832), ('bread', 0.005238697398453951), ('dish', 0.0051685599610209465), ('best', 0.005166321527212858), ('cheese', 0.005144683178514242), ('dessert', 0.005018584430217743), ('rib', 0.004652226809412241)]\n",
            "Top 15 words of topic #1\n",
            "[('like', 0.01179570984095335), ('dont', 0.009581477381289005), ('one', 0.009123111143708229), ('didnt', 0.008344881236553192), ('get', 0.00829570647329092), ('im', 0.008265028707683086), ('said', 0.008247433230280876), ('go', 0.007785458583384752), ('know', 0.0076825967989861965), ('back', 0.007055501453578472), ('even', 0.007001364137977362), ('never', 0.006810979451984167), ('time', 0.0067992499098181725), ('asked', 0.006478483788669109), ('would', 0.0062226830050349236)]\n",
            "Top 15 words of topic #2\n",
            "[('-', 0.01856144145131111), ('sushi', 0.015529884025454521), ('roll', 0.011794825084507465), ('fish', 0.008878144435584545), ('shrimp', 0.007162091787904501), ('sauce', 0.006505355704575777), ('dish', 0.006105824373662472), ('ordered', 0.005792705807834864), ('also', 0.005685960873961449), ('spicy', 0.005630046594887972), ('good', 0.005518218502402306), ('like', 0.005342343356460333), ('tuna', 0.005226448643952608), ('salmon', 0.005075989291071892), ('fried', 0.005001775920391083)]\n",
            "Top 15 words of topic #3\n",
            "[('de', 0.04671120271086693), ('le', 0.037039440125226974), ('et', 0.024669170379638672), ('la', 0.022878671064972878), ('un', 0.016236985102295876), ('à', 0.013824145309627056), ('pour', 0.01248764619231224), ('que', 0.011161348782479763), ('est', 0.009952378459274769), ('en', 0.00947797205299139), ('pa', 0.008870935998857021), ('je', 0.008233293890953064), ('une', 0.00818738341331482), ('du', 0.007325290702283382), ('au', 0.006264253053814173)]\n",
            "Top 15 words of topic #4\n",
            "[('room', 0.0308076124638319), ('hotel', 0.01875155419111252), ('stay', 0.009667117148637772), ('pool', 0.0071981605142354965), ('nice', 0.006659842561930418), ('one', 0.005733657628297806), ('stayed', 0.005725830793380737), ('vega', 0.005441452842205763), ('get', 0.005216211546212435), ('-', 0.005152727011591196), ('would', 0.005126636940985918), ('bathroom', 0.00501532107591629), ('casino', 0.004803124815225601), ('night', 0.004762250930070877), ('bed', 0.0047222464345395565)]\n",
            "Top 15 words of topic #5\n",
            "[('food', 0.013986717909574509), ('u', 0.012559058144688606), ('came', 0.011193516664206982), ('ordered', 0.011062552221119404), ('would', 0.009663363918662071), ('table', 0.009402989409863949), ('server', 0.008962992578744888), ('didnt', 0.008194292895495892), ('restaurant', 0.007896648719906807), ('service', 0.006722116377204657), ('wasnt', 0.005939958151429892), ('really', 0.005811064969748259), ('one', 0.005648007150739431), ('got', 0.00547614973038435), ('friend', 0.0053777978755533695)]\n",
            "Top 15 words of topic #6\n",
            "[('minute', 0.01887083798646927), ('time', 0.016049876809120178), ('order', 0.015438669361174107), ('u', 0.014088555239140987), ('get', 0.013014152646064758), ('food', 0.012081378139555454), ('wait', 0.010846192017197609), ('service', 0.009768306277692318), ('got', 0.009710262529551983), ('took', 0.009182638488709927), ('came', 0.008909248746931553), ('one', 0.008199946023523808), ('back', 0.007542882580310106), ('hour', 0.0072369882836937904), ('table', 0.007009454071521759)]\n",
            "Top 15 words of topic #7\n",
            "[('pizza', 0.03111889213323593), ('breakfast', 0.012173566035926342), ('egg', 0.009607125073671341), ('good', 0.009541715495288372), ('sandwich', 0.008958474732935429), ('ordered', 0.00878132227808237), ('cheese', 0.008765878155827522), ('like', 0.007166963070631027), ('chicken', 0.007017973344773054), ('bread', 0.0063420687802135944), ('salad', 0.006007750052958727), ('sauce', 0.005607112776488066), ('also', 0.005471750162541866), ('brunch', 0.005347289144992828), ('place', 0.0052737025544047356)]\n",
            "Top 15 words of topic #8\n",
            "[('would', 0.010993278585374355), ('get', 0.008955649100244045), ('told', 0.008904079906642437), ('call', 0.0071829562075436115), ('customer', 0.006943159271031618), ('called', 0.006805856246501207), ('said', 0.0066575948148965836), ('never', 0.006416508462280035), ('service', 0.006070349831134081), ('time', 0.005624920595437288), ('day', 0.00536127295345068), ('one', 0.005304547026753426), ('dont', 0.0051401699893176556), ('back', 0.0049667684361338615), ('pay', 0.004902951419353485)]\n",
            "Top 15 words of topic #9\n",
            "[('place', 0.021045425906777382), ('food', 0.019582172855734825), ('like', 0.0161640252918005), ('dont', 0.012770957313477993), ('good', 0.012650234624743462), ('get', 0.010026410222053528), ('go', 0.009088038466870785), ('better', 0.008411524817347527), ('price', 0.008190491236746311), ('really', 0.007906471379101276), ('star', 0.007575796451419592), ('would', 0.007214211393147707), ('ive', 0.006790807005017996), ('one', 0.006688746623694897), ('much', 0.006388397421687841)]\n",
            "Top 15 words of topic #10\n",
            "[('store', 0.010275382548570633), ('one', 0.007774720899760723), ('like', 0.007146643009036779), ('find', 0.006212999112904072), ('location', 0.005609281826764345), ('lot', 0.005543084815144539), ('get', 0.0054758284240961075), ('place', 0.005084471311420202), ('-', 0.00486098974943161), ('also', 0.004638567566871643), ('always', 0.004276867024600506), ('shop', 0.004185779485851526), ('parking', 0.003911458887159824), ('love', 0.0039093405939638615), ('little', 0.003716045059263706)]\n",
            "Top 15 words of topic #11\n",
            "[('nail', 0.017524803057312965), ('hair', 0.01671922206878662), ('time', 0.009282302111387253), ('get', 0.008966631256043911), ('salon', 0.008791258558630943), ('massage', 0.008028672076761723), ('cut', 0.007477663457393646), ('back', 0.006217245012521744), ('great', 0.006203667726367712), ('ive', 0.006056581158190966), ('done', 0.006012455094605684), ('go', 0.0056741563603281975), ('got', 0.005530463997274637), ('place', 0.005491995252668858), ('look', 0.005347171798348427)]\n",
            "Top 15 words of topic #12\n",
            "[('chicken', 0.015509918332099915), ('food', 0.013409617356956005), ('dish', 0.010266510769724846), ('rice', 0.01003924198448658), ('thai', 0.009556876495480537), ('noodle', 0.00947107095271349), ('soup', 0.00895855762064457), ('good', 0.00891758780926466), ('restaurant', 0.008344778791069984), ('ordered', 0.00815074983984232), ('fried', 0.008058760315179825), ('place', 0.0076946672052145), ('beef', 0.007599585223942995), ('chinese', 0.007063108030706644), ('like', 0.006601613946259022)]\n",
            "Top 15 words of topic #13\n",
            "[('bar', 0.009075279347598553), ('place', 0.008151361718773842), ('drink', 0.007511833216995001), ('like', 0.007265968713909388), ('night', 0.007107662968337536), ('great', 0.0070039937272667885), ('fun', 0.0069325459189713), ('show', 0.006873706355690956), ('music', 0.0061592282727360725), ('game', 0.005586945451796055), ('get', 0.005350887309759855), ('one', 0.004953721538186073), ('see', 0.0045544542372226715), ('really', 0.004539744462817907), ('people', 0.0044816057197749615)]\n",
            "Top 15 words of topic #14\n",
            "[('place', 0.018854232504963875), ('good', 0.018557768315076828), ('get', 0.012553375214338303), ('food', 0.011829400435090065), ('beer', 0.010970298200845718), ('great', 0.00974076334387064), ('pretty', 0.009444301016628742), ('really', 0.009347615763545036), ('always', 0.00876342598348856), ('like', 0.008229909464716911), ('go', 0.007995185442268848), ('bar', 0.007762791123241186), ('time', 0.007528067100793123), ('ive', 0.006925239693373442), ('dont', 0.006540245376527309)]\n",
            "Top 15 words of topic #15\n",
            "[('staff', 0.008068167604506016), ('time', 0.007784499786794186), ('great', 0.007644408382475376), ('recommend', 0.006465826649218798), ('care', 0.006295765284448862), ('would', 0.005814853589981794), ('u', 0.005764671601355076), ('experience', 0.005574398208409548), ('made', 0.005544428247958422), ('work', 0.005324184894561768), ('dr.', 0.005252396687865257), ('dog', 0.0052307904697954655), ('thank', 0.004921334329992533), ('year', 0.00486278859898448), ('make', 0.004816788248717785)]\n",
            "Top 15 words of topic #16\n",
            "[('great', 0.04318137466907501), ('place', 0.029432296752929688), ('food', 0.0271671861410141), ('service', 0.020701568573713303), ('love', 0.01557234302163124), ('always', 0.014468965120613575), ('good', 0.014001269824802876), ('best', 0.0131592508405447), ('friendly', 0.013136324472725391), ('staff', 0.012130070477724075), ('definitely', 0.011685718782246113), ('time', 0.010795346461236477), ('back', 0.010721982456743717), ('amazing', 0.010599848814308643), ('go', 0.008851618506014347)]\n",
            "Top 15 words of topic #17\n",
            "[('coffee', 0.014237945899367332), ('ice', 0.013704348355531693), ('tea', 0.012074008584022522), ('cream', 0.011674705892801285), ('like', 0.008756031282246113), ('chocolate', 0.008646804839372635), ('place', 0.008499976247549057), ('cake', 0.007639593444764614), ('also', 0.006918878294527531), ('sweet', 0.0061525022611021996), ('one', 0.006116690579801798), ('love', 0.005660087801516056), ('try', 0.005626962054520845), ('get', 0.0055580236949026585), ('drink', 0.0055580236949026585)]\n",
            "Top 15 words of topic #18\n",
            "[('car', 0.022105595096945763), ('would', 0.009101426228880882), ('service', 0.00904312264174223), ('work', 0.00726047158241272), ('new', 0.0070184264332056046), ('get', 0.006557304412126541), ('guy', 0.006510485894978046), ('back', 0.006510485894978046), ('time', 0.005689830053597689), ('called', 0.005449551623314619), ('company', 0.005313511937856674), ('came', 0.004994613584131002), ('day', 0.004954861477017403), ('took', 0.004928360227495432), ('got', 0.004876241087913513)]\n",
            "Top 15 words of topic #19\n",
            "[('chicken', 0.01543061900883913), ('burger', 0.014312255196273327), ('taco', 0.011916672810912132), ('fry', 0.011302944272756577), ('good', 0.009757139720022678), ('food', 0.007958699017763138), ('ordered', 0.007509566843509674), ('cheese', 0.007372403051704168), ('got', 0.006932202726602554), ('sandwich', 0.006723586469888687), ('like', 0.006483071018010378), ('chip', 0.006092632655054331), ('salad', 0.005942709278315306), ('sauce', 0.00591144897043705), ('mexican', 0.005696452222764492)]\n"
          ],
          "name": "stdout"
        }
      ]
    },
    {
      "cell_type": "markdown",
      "metadata": {
        "id": "fiqwDGFeu88b"
      },
      "source": [
        "Topic 0: It is a review about a restaurant and types of food items available like wine, steak, salads.\n",
        "---------------------------------------------------------------\n",
        "Topic 1: Topic 1 contains regular words like 'know, back, even,etc..'. So, I can't phrase a sentence from it.\n",
        "---------------------------------------------------------------\n",
        "Topic 2: The customer ordered a seafood item. It may be a sushi roll and fried shrimp and tuna with extra spice.\n",
        "---------------------------------------------------------------\n",
        "Topic 3: It contains some spanish words.\n",
        "---------------------------------------------------------------\n",
        "Topic 4: The room in the casino hotel was nice and the hotel contains a pool.\n",
        "--------------------------------------------------------------\n",
        "Topic 5: The server didn't bring the ordered food to the table.\n",
        "---------------------------------------------------------------\n",
        "Topic 6: The waiter came back in one minute with food after taking the order.\n",
        "---------------------------------------------------------------\n",
        "Topic 7: It is about the how good was the breakfast. The customer ordered pizza and a chicken sandwich with cheese and egg.\n",
        "---------------------------------------------------------------\n",
        "Topic 8: The customer called the service number.\n",
        "---------------------------------------------------------------\n",
        "Topic 9: This is the best place for food.\n",
        "---------------------------------------------------------------\n",
        "Topic 10: Find the parking near the store location.\n",
        "---------------------------------------------------------------\n",
        "Topic 11: It is about a salon shop and how great the services provided there like the massage, haircut.\n",
        "---------------------------------------------------------------\n",
        "Topic 12: Good restaurant with several types of dishes such as chicken, rice, thai, chinese,noodles,etc..\n",
        "---------------------------------------------------------------\n",
        "Topic 13: The bar was a good place to drink, to have fun and enjoy the music.\n",
        "---------------------------------------------------------------\n",
        "Topic 14: The bar was a good place to have beer and food.\n",
        "---------------------------------------------------------------\n",
        "Topic 15: The staff was great and I had great experience and I would recommend everyone.\n",
        "---------------------------------------------------------------\n",
        "Topic 16: It was a great place to have food and I love the service provided by the friendly staff.\n",
        "---------------------------------------------------------------\n",
        "Topic 17: I would like to order Iced coffee tea and a choclate cake.\n",
        "---------------------------------------------------------------\n",
        "Topic 18: The new guy at the car service is doing great.\n",
        "---------------------------------------------------------------\n",
        "Topic 19: The customer ordered chicken burger and a cheese sandwich which was good.\n",
        "---------------------------------------------------------------\n",
        "\n"
      ]
    },
    {
      "cell_type": "code",
      "metadata": {
        "colab": {
          "base_uri": "https://localhost:8080/"
        },
        "id": "z8NAXZ1nWxpf",
        "outputId": "2f20c55a-6cea-40ce-a31a-2314437834db"
      },
      "source": [
        "!pip install pyLDAvis\n",
        "import numpy as np\n",
        "import pyLDAvis\n",
        "\n",
        "\n",
        "topic_term_dists = np.stack([mdl.get_topic_word_dist(k) for k in range(mdl.k)])\n",
        "doc_topic_dists = np.stack([doc.get_topic_dist() for doc in mdl.docs])\n",
        "doc_lengths = np.array([len(doc.words) for doc in mdl.docs])\n",
        "vocab = list(mdl.used_vocabs)\n",
        "term_frequency = mdl.used_vocab_freq\n",
        "\n",
        "prepared_data = pyLDAvis.prepare(\n",
        "    topic_term_dists, \n",
        "    doc_topic_dists, \n",
        "    doc_lengths, \n",
        "    vocab, \n",
        "    term_frequency\n",
        ")\n",
        "pyLDAvis.save_html(prepared_data, 'ldavis.html')"
      ],
      "execution_count": 59,
      "outputs": [
        {
          "output_type": "stream",
          "text": [
            "Collecting pyLDAvis\n",
            "\u001b[?25l  Downloading https://files.pythonhosted.org/packages/a5/3a/af82e070a8a96e13217c8f362f9a73e82d61ac8fff3a2561946a97f96266/pyLDAvis-2.1.2.tar.gz (1.6MB)\n",
            "\r\u001b[K     |▏                               | 10kB 16.6MB/s eta 0:00:01\r\u001b[K     |▍                               | 20kB 23.0MB/s eta 0:00:01\r\u001b[K     |▋                               | 30kB 21.9MB/s eta 0:00:01\r\u001b[K     |▉                               | 40kB 18.0MB/s eta 0:00:01\r\u001b[K     |█                               | 51kB 16.6MB/s eta 0:00:01\r\u001b[K     |█▏                              | 61kB 18.7MB/s eta 0:00:01\r\u001b[K     |█▍                              | 71kB 13.5MB/s eta 0:00:01\r\u001b[K     |█▋                              | 81kB 14.3MB/s eta 0:00:01\r\u001b[K     |█▉                              | 92kB 14.1MB/s eta 0:00:01\r\u001b[K     |██                              | 102kB 13.6MB/s eta 0:00:01\r\u001b[K     |██▎                             | 112kB 13.6MB/s eta 0:00:01\r\u001b[K     |██▍                             | 122kB 13.6MB/s eta 0:00:01\r\u001b[K     |██▋                             | 133kB 13.6MB/s eta 0:00:01\r\u001b[K     |██▉                             | 143kB 13.6MB/s eta 0:00:01\r\u001b[K     |███                             | 153kB 13.6MB/s eta 0:00:01\r\u001b[K     |███▎                            | 163kB 13.6MB/s eta 0:00:01\r\u001b[K     |███▌                            | 174kB 13.6MB/s eta 0:00:01\r\u001b[K     |███▋                            | 184kB 13.6MB/s eta 0:00:01\r\u001b[K     |███▉                            | 194kB 13.6MB/s eta 0:00:01\r\u001b[K     |████                            | 204kB 13.6MB/s eta 0:00:01\r\u001b[K     |████▎                           | 215kB 13.6MB/s eta 0:00:01\r\u001b[K     |████▌                           | 225kB 13.6MB/s eta 0:00:01\r\u001b[K     |████▊                           | 235kB 13.6MB/s eta 0:00:01\r\u001b[K     |████▉                           | 245kB 13.6MB/s eta 0:00:01\r\u001b[K     |█████                           | 256kB 13.6MB/s eta 0:00:01\r\u001b[K     |█████▎                          | 266kB 13.6MB/s eta 0:00:01\r\u001b[K     |█████▌                          | 276kB 13.6MB/s eta 0:00:01\r\u001b[K     |█████▊                          | 286kB 13.6MB/s eta 0:00:01\r\u001b[K     |█████▉                          | 296kB 13.6MB/s eta 0:00:01\r\u001b[K     |██████                          | 307kB 13.6MB/s eta 0:00:01\r\u001b[K     |██████▎                         | 317kB 13.6MB/s eta 0:00:01\r\u001b[K     |██████▌                         | 327kB 13.6MB/s eta 0:00:01\r\u001b[K     |██████▊                         | 337kB 13.6MB/s eta 0:00:01\r\u001b[K     |███████                         | 348kB 13.6MB/s eta 0:00:01\r\u001b[K     |███████                         | 358kB 13.6MB/s eta 0:00:01\r\u001b[K     |███████▎                        | 368kB 13.6MB/s eta 0:00:01\r\u001b[K     |███████▌                        | 378kB 13.6MB/s eta 0:00:01\r\u001b[K     |███████▊                        | 389kB 13.6MB/s eta 0:00:01\r\u001b[K     |████████                        | 399kB 13.6MB/s eta 0:00:01\r\u001b[K     |████████▏                       | 409kB 13.6MB/s eta 0:00:01\r\u001b[K     |████████▎                       | 419kB 13.6MB/s eta 0:00:01\r\u001b[K     |████████▌                       | 430kB 13.6MB/s eta 0:00:01\r\u001b[K     |████████▊                       | 440kB 13.6MB/s eta 0:00:01\r\u001b[K     |█████████                       | 450kB 13.6MB/s eta 0:00:01\r\u001b[K     |█████████▏                      | 460kB 13.6MB/s eta 0:00:01\r\u001b[K     |█████████▍                      | 471kB 13.6MB/s eta 0:00:01\r\u001b[K     |█████████▌                      | 481kB 13.6MB/s eta 0:00:01\r\u001b[K     |█████████▊                      | 491kB 13.6MB/s eta 0:00:01\r\u001b[K     |██████████                      | 501kB 13.6MB/s eta 0:00:01\r\u001b[K     |██████████▏                     | 512kB 13.6MB/s eta 0:00:01\r\u001b[K     |██████████▍                     | 522kB 13.6MB/s eta 0:00:01\r\u001b[K     |██████████▋                     | 532kB 13.6MB/s eta 0:00:01\r\u001b[K     |██████████▊                     | 542kB 13.6MB/s eta 0:00:01\r\u001b[K     |███████████                     | 552kB 13.6MB/s eta 0:00:01\r\u001b[K     |███████████▏                    | 563kB 13.6MB/s eta 0:00:01\r\u001b[K     |███████████▍                    | 573kB 13.6MB/s eta 0:00:01\r\u001b[K     |███████████▋                    | 583kB 13.6MB/s eta 0:00:01\r\u001b[K     |███████████▊                    | 593kB 13.6MB/s eta 0:00:01\r\u001b[K     |████████████                    | 604kB 13.6MB/s eta 0:00:01\r\u001b[K     |████████████▏                   | 614kB 13.6MB/s eta 0:00:01\r\u001b[K     |████████████▍                   | 624kB 13.6MB/s eta 0:00:01\r\u001b[K     |████████████▋                   | 634kB 13.6MB/s eta 0:00:01\r\u001b[K     |████████████▉                   | 645kB 13.6MB/s eta 0:00:01\r\u001b[K     |█████████████                   | 655kB 13.6MB/s eta 0:00:01\r\u001b[K     |█████████████▏                  | 665kB 13.6MB/s eta 0:00:01\r\u001b[K     |█████████████▍                  | 675kB 13.6MB/s eta 0:00:01\r\u001b[K     |█████████████▋                  | 686kB 13.6MB/s eta 0:00:01\r\u001b[K     |█████████████▉                  | 696kB 13.6MB/s eta 0:00:01\r\u001b[K     |██████████████                  | 706kB 13.6MB/s eta 0:00:01\r\u001b[K     |██████████████▏                 | 716kB 13.6MB/s eta 0:00:01\r\u001b[K     |██████████████▍                 | 727kB 13.6MB/s eta 0:00:01\r\u001b[K     |██████████████▋                 | 737kB 13.6MB/s eta 0:00:01\r\u001b[K     |██████████████▉                 | 747kB 13.6MB/s eta 0:00:01\r\u001b[K     |███████████████                 | 757kB 13.6MB/s eta 0:00:01\r\u001b[K     |███████████████▎                | 768kB 13.6MB/s eta 0:00:01\r\u001b[K     |███████████████▍                | 778kB 13.6MB/s eta 0:00:01\r\u001b[K     |███████████████▋                | 788kB 13.6MB/s eta 0:00:01\r\u001b[K     |███████████████▉                | 798kB 13.6MB/s eta 0:00:01\r\u001b[K     |████████████████                | 808kB 13.6MB/s eta 0:00:01\r\u001b[K     |████████████████▎               | 819kB 13.6MB/s eta 0:00:01\r\u001b[K     |████████████████▌               | 829kB 13.6MB/s eta 0:00:01\r\u001b[K     |████████████████▋               | 839kB 13.6MB/s eta 0:00:01\r\u001b[K     |████████████████▉               | 849kB 13.6MB/s eta 0:00:01\r\u001b[K     |█████████████████               | 860kB 13.6MB/s eta 0:00:01\r\u001b[K     |█████████████████▎              | 870kB 13.6MB/s eta 0:00:01\r\u001b[K     |█████████████████▌              | 880kB 13.6MB/s eta 0:00:01\r\u001b[K     |█████████████████▋              | 890kB 13.6MB/s eta 0:00:01\r\u001b[K     |█████████████████▉              | 901kB 13.6MB/s eta 0:00:01\r\u001b[K     |██████████████████              | 911kB 13.6MB/s eta 0:00:01\r\u001b[K     |██████████████████▎             | 921kB 13.6MB/s eta 0:00:01\r\u001b[K     |██████████████████▌             | 931kB 13.6MB/s eta 0:00:01\r\u001b[K     |██████████████████▊             | 942kB 13.6MB/s eta 0:00:01\r\u001b[K     |██████████████████▉             | 952kB 13.6MB/s eta 0:00:01\r\u001b[K     |███████████████████             | 962kB 13.6MB/s eta 0:00:01\r\u001b[K     |███████████████████▎            | 972kB 13.6MB/s eta 0:00:01\r\u001b[K     |███████████████████▌            | 983kB 13.6MB/s eta 0:00:01\r\u001b[K     |███████████████████▊            | 993kB 13.6MB/s eta 0:00:01\r\u001b[K     |████████████████████            | 1.0MB 13.6MB/s eta 0:00:01\r\u001b[K     |████████████████████            | 1.0MB 13.6MB/s eta 0:00:01\r\u001b[K     |████████████████████▎           | 1.0MB 13.6MB/s eta 0:00:01\r\u001b[K     |████████████████████▌           | 1.0MB 13.6MB/s eta 0:00:01\r\u001b[K     |████████████████████▊           | 1.0MB 13.6MB/s eta 0:00:01\r\u001b[K     |█████████████████████           | 1.1MB 13.6MB/s eta 0:00:01\r\u001b[K     |█████████████████████▏          | 1.1MB 13.6MB/s eta 0:00:01\r\u001b[K     |█████████████████████▎          | 1.1MB 13.6MB/s eta 0:00:01\r\u001b[K     |█████████████████████▌          | 1.1MB 13.6MB/s eta 0:00:01\r\u001b[K     |█████████████████████▊          | 1.1MB 13.6MB/s eta 0:00:01\r\u001b[K     |██████████████████████          | 1.1MB 13.6MB/s eta 0:00:01\r\u001b[K     |██████████████████████▏         | 1.1MB 13.6MB/s eta 0:00:01\r\u001b[K     |██████████████████████▍         | 1.1MB 13.6MB/s eta 0:00:01\r\u001b[K     |██████████████████████▌         | 1.1MB 13.6MB/s eta 0:00:01\r\u001b[K     |██████████████████████▊         | 1.1MB 13.6MB/s eta 0:00:01\r\u001b[K     |███████████████████████         | 1.2MB 13.6MB/s eta 0:00:01\r\u001b[K     |███████████████████████▏        | 1.2MB 13.6MB/s eta 0:00:01\r\u001b[K     |███████████████████████▍        | 1.2MB 13.6MB/s eta 0:00:01\r\u001b[K     |███████████████████████▌        | 1.2MB 13.6MB/s eta 0:00:01\r\u001b[K     |███████████████████████▊        | 1.2MB 13.6MB/s eta 0:00:01\r\u001b[K     |████████████████████████        | 1.2MB 13.6MB/s eta 0:00:01\r\u001b[K     |████████████████████████▏       | 1.2MB 13.6MB/s eta 0:00:01\r\u001b[K     |████████████████████████▍       | 1.2MB 13.6MB/s eta 0:00:01\r\u001b[K     |████████████████████████▋       | 1.2MB 13.6MB/s eta 0:00:01\r\u001b[K     |████████████████████████▊       | 1.2MB 13.6MB/s eta 0:00:01\r\u001b[K     |█████████████████████████       | 1.3MB 13.6MB/s eta 0:00:01\r\u001b[K     |█████████████████████████▏      | 1.3MB 13.6MB/s eta 0:00:01\r\u001b[K     |█████████████████████████▍      | 1.3MB 13.6MB/s eta 0:00:01\r\u001b[K     |█████████████████████████▋      | 1.3MB 13.6MB/s eta 0:00:01\r\u001b[K     |█████████████████████████▉      | 1.3MB 13.6MB/s eta 0:00:01\r\u001b[K     |██████████████████████████      | 1.3MB 13.6MB/s eta 0:00:01\r\u001b[K     |██████████████████████████▏     | 1.3MB 13.6MB/s eta 0:00:01\r\u001b[K     |██████████████████████████▍     | 1.3MB 13.6MB/s eta 0:00:01\r\u001b[K     |██████████████████████████▋     | 1.3MB 13.6MB/s eta 0:00:01\r\u001b[K     |██████████████████████████▉     | 1.4MB 13.6MB/s eta 0:00:01\r\u001b[K     |███████████████████████████     | 1.4MB 13.6MB/s eta 0:00:01\r\u001b[K     |███████████████████████████▏    | 1.4MB 13.6MB/s eta 0:00:01\r\u001b[K     |███████████████████████████▍    | 1.4MB 13.6MB/s eta 0:00:01\r\u001b[K     |███████████████████████████▋    | 1.4MB 13.6MB/s eta 0:00:01\r\u001b[K     |███████████████████████████▉    | 1.4MB 13.6MB/s eta 0:00:01\r\u001b[K     |████████████████████████████    | 1.4MB 13.6MB/s eta 0:00:01\r\u001b[K     |████████████████████████████▏   | 1.4MB 13.6MB/s eta 0:00:01\r\u001b[K     |████████████████████████████▍   | 1.4MB 13.6MB/s eta 0:00:01\r\u001b[K     |████████████████████████████▋   | 1.4MB 13.6MB/s eta 0:00:01\r\u001b[K     |████████████████████████████▉   | 1.5MB 13.6MB/s eta 0:00:01\r\u001b[K     |█████████████████████████████   | 1.5MB 13.6MB/s eta 0:00:01\r\u001b[K     |█████████████████████████████▎  | 1.5MB 13.6MB/s eta 0:00:01\r\u001b[K     |█████████████████████████████▍  | 1.5MB 13.6MB/s eta 0:00:01\r\u001b[K     |█████████████████████████████▋  | 1.5MB 13.6MB/s eta 0:00:01\r\u001b[K     |█████████████████████████████▉  | 1.5MB 13.6MB/s eta 0:00:01\r\u001b[K     |██████████████████████████████  | 1.5MB 13.6MB/s eta 0:00:01\r\u001b[K     |██████████████████████████████▎ | 1.5MB 13.6MB/s eta 0:00:01\r\u001b[K     |██████████████████████████████▌ | 1.5MB 13.6MB/s eta 0:00:01\r\u001b[K     |██████████████████████████████▋ | 1.5MB 13.6MB/s eta 0:00:01\r\u001b[K     |██████████████████████████████▉ | 1.6MB 13.6MB/s eta 0:00:01\r\u001b[K     |███████████████████████████████ | 1.6MB 13.6MB/s eta 0:00:01\r\u001b[K     |███████████████████████████████▎| 1.6MB 13.6MB/s eta 0:00:01\r\u001b[K     |███████████████████████████████▌| 1.6MB 13.6MB/s eta 0:00:01\r\u001b[K     |███████████████████████████████▊| 1.6MB 13.6MB/s eta 0:00:01\r\u001b[K     |███████████████████████████████▉| 1.6MB 13.6MB/s eta 0:00:01\r\u001b[K     |████████████████████████████████| 1.6MB 13.6MB/s \n",
            "\u001b[?25hRequirement already satisfied: wheel>=0.23.0 in /usr/local/lib/python3.6/dist-packages (from pyLDAvis) (0.35.1)\n",
            "Requirement already satisfied: numpy>=1.9.2 in /usr/local/lib/python3.6/dist-packages (from pyLDAvis) (1.18.5)\n",
            "Requirement already satisfied: scipy>=0.18.0 in /usr/local/lib/python3.6/dist-packages (from pyLDAvis) (1.4.1)\n",
            "Requirement already satisfied: pandas>=0.17.0 in /usr/local/lib/python3.6/dist-packages (from pyLDAvis) (1.1.4)\n",
            "Requirement already satisfied: joblib>=0.8.4 in /usr/local/lib/python3.6/dist-packages (from pyLDAvis) (0.17.0)\n",
            "Requirement already satisfied: jinja2>=2.7.2 in /usr/local/lib/python3.6/dist-packages (from pyLDAvis) (2.11.2)\n",
            "Requirement already satisfied: numexpr in /usr/local/lib/python3.6/dist-packages (from pyLDAvis) (2.7.1)\n",
            "Requirement already satisfied: pytest in /usr/local/lib/python3.6/dist-packages (from pyLDAvis) (3.6.4)\n",
            "Requirement already satisfied: future in /usr/local/lib/python3.6/dist-packages (from pyLDAvis) (0.16.0)\n",
            "Collecting funcy\n",
            "  Downloading https://files.pythonhosted.org/packages/66/89/479de0afbbfb98d1c4b887936808764627300208bb771fcd823403645a36/funcy-1.15-py2.py3-none-any.whl\n",
            "Requirement already satisfied: pytz>=2017.2 in /usr/local/lib/python3.6/dist-packages (from pandas>=0.17.0->pyLDAvis) (2018.9)\n",
            "Requirement already satisfied: python-dateutil>=2.7.3 in /usr/local/lib/python3.6/dist-packages (from pandas>=0.17.0->pyLDAvis) (2.8.1)\n",
            "Requirement already satisfied: MarkupSafe>=0.23 in /usr/local/lib/python3.6/dist-packages (from jinja2>=2.7.2->pyLDAvis) (1.1.1)\n",
            "Requirement already satisfied: pluggy<0.8,>=0.5 in /usr/local/lib/python3.6/dist-packages (from pytest->pyLDAvis) (0.7.1)\n",
            "Requirement already satisfied: atomicwrites>=1.0 in /usr/local/lib/python3.6/dist-packages (from pytest->pyLDAvis) (1.4.0)\n",
            "Requirement already satisfied: setuptools in /usr/local/lib/python3.6/dist-packages (from pytest->pyLDAvis) (50.3.2)\n",
            "Requirement already satisfied: py>=1.5.0 in /usr/local/lib/python3.6/dist-packages (from pytest->pyLDAvis) (1.9.0)\n",
            "Requirement already satisfied: more-itertools>=4.0.0 in /usr/local/lib/python3.6/dist-packages (from pytest->pyLDAvis) (8.6.0)\n",
            "Requirement already satisfied: attrs>=17.4.0 in /usr/local/lib/python3.6/dist-packages (from pytest->pyLDAvis) (20.3.0)\n",
            "Requirement already satisfied: six>=1.10.0 in /usr/local/lib/python3.6/dist-packages (from pytest->pyLDAvis) (1.15.0)\n",
            "Building wheels for collected packages: pyLDAvis\n",
            "  Building wheel for pyLDAvis (setup.py) ... \u001b[?25l\u001b[?25hdone\n",
            "  Created wheel for pyLDAvis: filename=pyLDAvis-2.1.2-py2.py3-none-any.whl size=97712 sha256=4c93e4356d9be1f1715bc2a8f8f7e5fbc607b337d01ca5c4f7091ef5781dfd97\n",
            "  Stored in directory: /root/.cache/pip/wheels/98/71/24/513a99e58bb6b8465bae4d2d5e9dba8f0bef8179e3051ac414\n",
            "Successfully built pyLDAvis\n",
            "Installing collected packages: funcy, pyLDAvis\n",
            "Successfully installed funcy-1.15 pyLDAvis-2.1.2\n"
          ],
          "name": "stdout"
        }
      ]
    },
    {
      "cell_type": "code",
      "metadata": {
        "colab": {
          "base_uri": "https://localhost:8080/"
        },
        "id": "EGU_CiyH9VVE",
        "outputId": "14419e17-2677-44b9-e146-6a96e37ce661"
      },
      "source": [
        "model = tp.LLDAModel(k=20, min_cf=100, rm_top=200)\n",
        "\n",
        "for i in range(len(df)):\n",
        "  content = df['review'][i]\n",
        "  label =df['ratings'][i].astype('str')\n",
        "  clean_document = [token for token in content.strip().split() if len(token) > 2]\n",
        "  model.add_doc(clean_document, labels=label)\n",
        "\n",
        "for i in range(0, 100, 10):\n",
        "    model.train(10)\n",
        "    print('Iteration: {}\\tLog-likelihood: {}'.format(i, model.ll_per_word))\n",
        "for k in range(model.k):\n",
        "    print('Top 15 words of global topic #{} {}: {}'.format(k, model.topic_label_dict[k], model.get_topic_words(k, top_n=15)))\n"
      ],
      "execution_count": 77,
      "outputs": [
        {
          "output_type": "stream",
          "text": [
            "Iteration: 0\tLog-likelihood: -8.553474290335911\n",
            "Iteration: 10\tLog-likelihood: -8.552395206385354\n",
            "Iteration: 20\tLog-likelihood: -8.552079833306664\n",
            "Iteration: 30\tLog-likelihood: -8.552286638734147\n",
            "Iteration: 40\tLog-likelihood: -8.552241814328756\n",
            "Iteration: 50\tLog-likelihood: -8.552262576887824\n",
            "Iteration: 60\tLog-likelihood: -8.552182701585659\n",
            "Iteration: 70\tLog-likelihood: -8.552051709091009\n",
            "Iteration: 80\tLog-likelihood: -8.552061055297239\n",
            "Iteration: 90\tLog-likelihood: -8.552095003041511\n",
            "Top 15 words of global topic #0 5: [('perfect', 0.0022761954460293055), ('thank', 0.0020793257281184196), ('absolutely', 0.0019637488294392824), ('delicious.', 0.0019094949821010232), ('wonderful', 0.0018471116200089455), ('amazing.', 0.0018446375615894794), ('spot', 0.0017262330511584878), ('job', 0.0017089141765609384), ('owner', 0.0016864703502506018), ('well.', 0.0016541300574317575), ('fun', 0.0016214362112805247), ('must', 0.001557285781018436), ('able', 0.0015260057989507914), ('atmosphere', 0.0015221178764477372), ('selection', 0.0015210575656965375)]\n",
            "Top 15 words of global topic #1 4: [('enjoyed', 0.0020707345101982355), ('large', 0.0019229378085583448), ('selection', 0.001905843848362565), ('portion', 0.0018685001414269209), ('well.', 0.001684148795902729), ('delicious.', 0.0016578504582867026), ('huge', 0.0016567985294386744), ('spot', 0.0016226106090471148), ('beef', 0.0016218216624110937), ('pork', 0.0016076206229627132), ('usually', 0.001599468057975173), ('rice', 0.0015952603425830603), ('item', 0.0015868449117988348), ('taco', 0.0015829001786187291), ('breakfast', 0.0015723807737231255)]\n",
            "Top 15 words of global topic #2 3: [('maybe', 0.0022043888457119465), ('decent', 0.0020661461167037487), ('however,', 0.001944773830473423), ('seemed', 0.0017807572148740292), ('overall', 0.0017474852502346039), ('rice', 0.0017132761422544718), ('portion', 0.0016949999844655395), ('tasted', 0.0016762552550062537), ('large', 0.0016659456305205822), ('item', 0.0015403556171804667), ('selection', 0.0015361381229013205), ('waitress', 0.001509426860138774), ('soup', 0.0015009916387498379), ('steak', 0.0015005230670794845), ('fish', 0.00147521763574332)]\n",
            "Top 15 words of global topic #3 2: [('maybe', 0.0022770341020077467), ('waitress', 0.0022463041823357344), ('wont', 0.002134832786396146), ('tasted', 0.002133025322109461), ('looked', 0.0019679272081702948), ('seemed', 0.0019293640507385135), ('half', 0.00183054618537426), ('someone', 0.0017118443502113223), ('front', 0.0016925628297030926), ('pay', 0.0016642430564388633), ('least', 0.0016473716823384166), ('however,', 0.0016437564045190811), ('almost', 0.0015919372672215104), ('anything', 0.0015907322522252798), ('waiting', 0.0015828991308808327)]\n",
            "Top 15 words of global topic #4 1: [('manager', 0.003974575083702803), ('worst', 0.003480812767520547), ('money', 0.002759602852165699), ('pay', 0.002512361854314804), ('phone', 0.002421310869976878), ('rude', 0.0023968385066837072), ('business', 0.0023889211006462574), ('someone', 0.0023810036946088076), ('front', 0.0022924719378352165), ('horrible', 0.0022384892217814922), ('waiting', 0.0022327310871332884), ('finally', 0.0022060994524508715), ('again.', 0.0021845062728971243), ('waited', 0.002062865300104022), ('walked', 0.002017159713432193)]\n"
          ],
          "name": "stdout"
        }
      ]
    },
    {
      "cell_type": "code",
      "metadata": {
        "id": "DtmB0vX6R_Wi"
      },
      "source": [
        ""
      ],
      "execution_count": null,
      "outputs": []
    }
  ]
}