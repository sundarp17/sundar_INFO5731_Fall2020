{
  "nbformat": 4,
  "nbformat_minor": 0,
  "metadata": {
    "colab": {
      "name": "svm_highkappa_semisupervised_unbalanced.ipynb",
      "provenance": [],
      "authorship_tag": "ABX9TyNqQx59QkmEOv2tFR+s+AlM",
      "include_colab_link": true
    },
    "kernelspec": {
      "name": "python3",
      "display_name": "Python 3"
    }
  },
  "cells": [
    {
      "cell_type": "markdown",
      "metadata": {
        "id": "view-in-github",
        "colab_type": "text"
      },
      "source": [
        "<a href=\"https://colab.research.google.com/github/sundarp17/sundar_info5731_fall2020/blob/master/svm_highkappa_semisupervised_unbalanced.ipynb\" target=\"_parent\"><img src=\"https://colab.research.google.com/assets/colab-badge.svg\" alt=\"Open In Colab\"/></a>"
      ]
    },
    {
      "cell_type": "code",
      "metadata": {
        "colab": {
          "base_uri": "https://localhost:8080/",
          "height": 196
        },
        "id": "Exx0eo_lzCCW",
        "outputId": "b4652127-9957-4c74-aa11-7d135e3bfde9"
      },
      "source": [
        "import pandas as pd\r\n",
        "\r\n",
        "train_kappa = pd.read_csv(r'/content/train_data_highkappa.csv')\r\n",
        "train_kappa.head()"
      ],
      "execution_count": 1,
      "outputs": [
        {
          "output_type": "execute_result",
          "data": {
            "text/html": [
              "<div>\n",
              "<style scoped>\n",
              "    .dataframe tbody tr th:only-of-type {\n",
              "        vertical-align: middle;\n",
              "    }\n",
              "\n",
              "    .dataframe tbody tr th {\n",
              "        vertical-align: top;\n",
              "    }\n",
              "\n",
              "    .dataframe thead th {\n",
              "        text-align: right;\n",
              "    }\n",
              "</style>\n",
              "<table border=\"1\" class=\"dataframe\">\n",
              "  <thead>\n",
              "    <tr style=\"text-align: right;\">\n",
              "      <th></th>\n",
              "      <th>Unnamed: 0</th>\n",
              "      <th>Sentence</th>\n",
              "      <th>Target</th>\n",
              "    </tr>\n",
              "  </thead>\n",
              "  <tbody>\n",
              "    <tr>\n",
              "      <th>0</th>\n",
              "      <td>659</td>\n",
              "      <td>Appellant had stated to the officers that she ...</td>\n",
              "      <td>Invalid</td>\n",
              "    </tr>\n",
              "    <tr>\n",
              "      <th>1</th>\n",
              "      <td>3456</td>\n",
              "      <td>We shall discuss the facts more fully in conne...</td>\n",
              "      <td>Others</td>\n",
              "    </tr>\n",
              "    <tr>\n",
              "      <th>2</th>\n",
              "      <td>2043</td>\n",
              "      <td>â€œPerjury is a false statement, either writte...</td>\n",
              "      <td>Invalid</td>\n",
              "    </tr>\n",
              "    <tr>\n",
              "      <th>3</th>\n",
              "      <td>3344</td>\n",
              "      <td>The offense is felony theft by false pretext; ...</td>\n",
              "      <td>Issue</td>\n",
              "    </tr>\n",
              "    <tr>\n",
              "      <th>4</th>\n",
              "      <td>3231</td>\n",
              "      <td>Numerous contentions urging the commission of ...</td>\n",
              "      <td>Issue</td>\n",
              "    </tr>\n",
              "  </tbody>\n",
              "</table>\n",
              "</div>"
            ],
            "text/plain": [
              "   Unnamed: 0                                           Sentence   Target\n",
              "0         659  Appellant had stated to the officers that she ...  Invalid\n",
              "1        3456  We shall discuss the facts more fully in conne...   Others\n",
              "2        2043  â€œPerjury is a false statement, either writte...  Invalid\n",
              "3        3344  The offense is felony theft by false pretext; ...    Issue\n",
              "4        3231  Numerous contentions urging the commission of ...    Issue"
            ]
          },
          "metadata": {
            "tags": []
          },
          "execution_count": 1
        }
      ]
    },
    {
      "cell_type": "code",
      "metadata": {
        "colab": {
          "base_uri": "https://localhost:8080/"
        },
        "id": "HcKo7ayIzT-4",
        "outputId": "6e9a5a5f-918f-458b-913a-33239f74ab8c"
      },
      "source": [
        "train_kappa['Target'].unique()"
      ],
      "execution_count": 2,
      "outputs": [
        {
          "output_type": "execute_result",
          "data": {
            "text/plain": [
              "array(['Invalid', 'Others', 'Issue', 'Analysis', 'Facts', 'Conclusion',\n",
              "       'Rule/Law/Holding'], dtype=object)"
            ]
          },
          "metadata": {
            "tags": []
          },
          "execution_count": 2
        }
      ]
    },
    {
      "cell_type": "code",
      "metadata": {
        "colab": {
          "base_uri": "https://localhost:8080/"
        },
        "id": "iFw2ZKSzzat0",
        "outputId": "2d324602-df73-4747-d647-5612e03affa0"
      },
      "source": [
        "train_kappa['Target']=train_kappa['Target'].replace(['Others'],'Invalid')\r\n",
        "train_kappa['Target'].unique()"
      ],
      "execution_count": 3,
      "outputs": [
        {
          "output_type": "execute_result",
          "data": {
            "text/plain": [
              "array(['Invalid', 'Issue', 'Analysis', 'Facts', 'Conclusion',\n",
              "       'Rule/Law/Holding'], dtype=object)"
            ]
          },
          "metadata": {
            "tags": []
          },
          "execution_count": 3
        }
      ]
    },
    {
      "cell_type": "code",
      "metadata": {
        "colab": {
          "base_uri": "https://localhost:8080/"
        },
        "id": "hJcz8U7jzfOo",
        "outputId": "c7be9e2b-9256-4a45-82c7-1552d9ec797b"
      },
      "source": [
        "#cleaning\r\n",
        "import nltk\r\n",
        "import re\r\n",
        "import string\r\n",
        "nltk.download('stopwords')\r\n",
        "nltk.download('wordnet')\r\n",
        "stopword=nltk.corpus.stopwords.words('english')\r\n",
        "from nltk.stem import WordNetLemmatizer\r\n",
        "wl= WordNetLemmatizer()\r\n",
        "\r\n",
        "def clean_text(text):\r\n",
        "  text=\"\".join([word.lower() for word in text if word not in string.punctuation])\r\n",
        "  tokens = re.split('\\W+',text)\r\n",
        "  text = [wl.lemmatize(word) for word in tokens if word not in stopword]\r\n",
        "  return text"
      ],
      "execution_count": 4,
      "outputs": [
        {
          "output_type": "stream",
          "text": [
            "[nltk_data] Downloading package stopwords to /root/nltk_data...\n",
            "[nltk_data]   Unzipping corpora/stopwords.zip.\n",
            "[nltk_data] Downloading package wordnet to /root/nltk_data...\n",
            "[nltk_data]   Unzipping corpora/wordnet.zip.\n"
          ],
          "name": "stdout"
        }
      ]
    },
    {
      "cell_type": "code",
      "metadata": {
        "colab": {
          "base_uri": "https://localhost:8080/"
        },
        "id": "zTf9t_01zlJG",
        "outputId": "1ee22c9c-0ed9-4eaa-c96d-aa396c072fc2"
      },
      "source": [
        "from sklearn.feature_extraction.text import TfidfVectorizer\r\n",
        "\r\n",
        "tfidf_vect = TfidfVectorizer(analyzer = clean_text)\r\n",
        "X_tfidf = tfidf_vect.fit_transform(train_kappa['Sentence'])\r\n",
        "print(X_tfidf.shape)"
      ],
      "execution_count": 5,
      "outputs": [
        {
          "output_type": "stream",
          "text": [
            "(2951, 5835)\n"
          ],
          "name": "stdout"
        }
      ]
    },
    {
      "cell_type": "code",
      "metadata": {
        "colab": {
          "base_uri": "https://localhost:8080/"
        },
        "id": "EzMwl4lXzrV4",
        "outputId": "3afd64f8-6ef9-40b6-f43d-f926fcc023be"
      },
      "source": [
        "from sklearn.model_selection import train_test_split\r\n",
        "from sklearn import svm\r\n",
        "from sklearn.metrics import accuracy_score\r\n",
        "from sklearn.metrics import classification_report\r\n",
        "from sklearn.calibration import CalibratedClassifierCV\r\n",
        "\r\n",
        "\r\n",
        "X_train, x_val, Y_train, y_val = train_test_split(X_tfidf,train_kappa['Target'],test_size=0.26,random_state=42)\r\n",
        "support = svm.LinearSVC()\r\n",
        "clf = support.fit(X_train, Y_train)\r\n",
        "calibrator = CalibratedClassifierCV(clf, cv='prefit')\r\n",
        "model=calibrator.fit(X_train, Y_train)\r\n",
        "pred_svm = model.predict(x_val)\r\n",
        "print('Accuracy %s' % accuracy_score(pred_svm,y_val))\r\n",
        "print(classification_report(y_val,pred_svm))"
      ],
      "execution_count": 7,
      "outputs": [
        {
          "output_type": "stream",
          "text": [
            "Accuracy 0.6848958333333334\n",
            "                  precision    recall  f1-score   support\n",
            "\n",
            "        Analysis       0.54      0.51      0.52       104\n",
            "      Conclusion       0.56      0.54      0.55        41\n",
            "           Facts       0.79      0.88      0.83       416\n",
            "         Invalid       0.49      0.45      0.47       109\n",
            "           Issue       0.64      0.38      0.48        55\n",
            "Rule/Law/Holding       0.42      0.37      0.40        43\n",
            "\n",
            "        accuracy                           0.68       768\n",
            "       macro avg       0.57      0.52      0.54       768\n",
            "    weighted avg       0.67      0.68      0.67       768\n",
            "\n"
          ],
          "name": "stdout"
        }
      ]
    },
    {
      "cell_type": "code",
      "metadata": {
        "colab": {
          "base_uri": "https://localhost:8080/"
        },
        "id": "7ERBa56-1gdy",
        "outputId": "dd68e950-2794-4c99-b02a-51804333ef24"
      },
      "source": [
        "def frequency_table(data):\r\n",
        "    frequencytable = {}\r\n",
        "    for key in data:\r\n",
        "        if key in frequencytable:\r\n",
        "            frequencytable[key] += 1\r\n",
        "        else:\r\n",
        "            frequencytable[key] = 1\r\n",
        "    return frequencytable\r\n",
        "\r\n",
        "frequency_table(train_kappa['Target'])"
      ],
      "execution_count": 8,
      "outputs": [
        {
          "output_type": "execute_result",
          "data": {
            "text/plain": [
              "{'Analysis': 439,\n",
              " 'Conclusion': 147,\n",
              " 'Facts': 1510,\n",
              " 'Invalid': 475,\n",
              " 'Issue': 190,\n",
              " 'Rule/Law/Holding': 190}"
            ]
          },
          "metadata": {
            "tags": []
          },
          "execution_count": 8
        }
      ]
    },
    {
      "cell_type": "code",
      "metadata": {
        "colab": {
          "base_uri": "https://localhost:8080/",
          "height": 196
        },
        "id": "ducyq23l1jBR",
        "outputId": "657f31d5-f6b6-4195-e53c-d56f3c66a89a"
      },
      "source": [
        "test = pd.read_csv(r'/content/test_data.csv')\r\n",
        "test.head()"
      ],
      "execution_count": 9,
      "outputs": [
        {
          "output_type": "execute_result",
          "data": {
            "text/html": [
              "<div>\n",
              "<style scoped>\n",
              "    .dataframe tbody tr th:only-of-type {\n",
              "        vertical-align: middle;\n",
              "    }\n",
              "\n",
              "    .dataframe tbody tr th {\n",
              "        vertical-align: top;\n",
              "    }\n",
              "\n",
              "    .dataframe thead th {\n",
              "        text-align: right;\n",
              "    }\n",
              "</style>\n",
              "<table border=\"1\" class=\"dataframe\">\n",
              "  <thead>\n",
              "    <tr style=\"text-align: right;\">\n",
              "      <th></th>\n",
              "      <th>Unnamed: 0</th>\n",
              "      <th>Sentence</th>\n",
              "      <th>Target</th>\n",
              "    </tr>\n",
              "  </thead>\n",
              "  <tbody>\n",
              "    <tr>\n",
              "      <th>0</th>\n",
              "      <td>2173</td>\n",
              "      <td>Darden Sr. testified â€œI saw he was staggerin...</td>\n",
              "      <td>Facts</td>\n",
              "    </tr>\n",
              "    <tr>\n",
              "      <th>1</th>\n",
              "      <td>466</td>\n",
              "      <td>Additional moral justification may have been d...</td>\n",
              "      <td>Analysis</td>\n",
              "    </tr>\n",
              "    <tr>\n",
              "      <th>2</th>\n",
              "      <td>525</td>\n",
              "      <td>85, 22 S.W. 140, wherein the accused was actin...</td>\n",
              "      <td>Rule/Law/Holding</td>\n",
              "    </tr>\n",
              "    <tr>\n",
              "      <th>3</th>\n",
              "      <td>2199</td>\n",
              "      <td>Under a proper instruction from the court on m...</td>\n",
              "      <td>Facts</td>\n",
              "    </tr>\n",
              "    <tr>\n",
              "      <th>4</th>\n",
              "      <td>79</td>\n",
              "      <td>He is eligible for leaves to renew contacts wi...</td>\n",
              "      <td>Facts</td>\n",
              "    </tr>\n",
              "  </tbody>\n",
              "</table>\n",
              "</div>"
            ],
            "text/plain": [
              "   Unnamed: 0  ...            Target\n",
              "0        2173  ...             Facts\n",
              "1         466  ...          Analysis\n",
              "2         525  ...  Rule/Law/Holding\n",
              "3        2199  ...             Facts\n",
              "4          79  ...             Facts\n",
              "\n",
              "[5 rows x 3 columns]"
            ]
          },
          "metadata": {
            "tags": []
          },
          "execution_count": 9
        }
      ]
    },
    {
      "cell_type": "code",
      "metadata": {
        "colab": {
          "base_uri": "https://localhost:8080/"
        },
        "id": "qDVY3KPb1ncn",
        "outputId": "273bcb97-ae0e-4538-eedc-f845a4cecd17"
      },
      "source": [
        "test['Target']=test['Target'].replace(['Others'],'Invalid')\r\n",
        "test['Target'].unique()"
      ],
      "execution_count": 10,
      "outputs": [
        {
          "output_type": "execute_result",
          "data": {
            "text/plain": [
              "array(['Facts', 'Analysis', 'Rule/Law/Holding', 'Conclusion', 'Invalid',\n",
              "       'Issue'], dtype=object)"
            ]
          },
          "metadata": {
            "tags": []
          },
          "execution_count": 10
        }
      ]
    },
    {
      "cell_type": "code",
      "metadata": {
        "id": "Ztgf4LGv1tdH"
      },
      "source": [
        "test['Sentence'] = test['Sentence'].apply(lambda x: \" \".join(x.lower() for x in str(x).split()))\r\n",
        "test['Sentence'] = test['Sentence'].str.replace('[^\\w\\s]','')\r\n",
        "from nltk.corpus import stopwords\r\n",
        "words = stopwords.words('english')\r\n",
        "test['Sentence'] = test['Sentence'].apply(lambda x: \" \".join(x for x in x.split() if x not in words))"
      ],
      "execution_count": 12,
      "outputs": []
    },
    {
      "cell_type": "code",
      "metadata": {
        "colab": {
          "base_uri": "https://localhost:8080/"
        },
        "id": "5GvnJ9rR4WGi",
        "outputId": "5114106c-faf4-4657-99ac-54d959cbb5a3"
      },
      "source": [
        "test['Sentence'].head()"
      ],
      "execution_count": 13,
      "outputs": [
        {
          "output_type": "execute_result",
          "data": {
            "text/plain": [
              "0    darden sr testified âœi saw staggering â prett...\n",
              "1    additional moral justification may due complai...\n",
              "2    85 22 sw 140 wherein accused acting upon advic...\n",
              "3    proper instruction court murder malice murder ...\n",
              "4                eligible leaves renew contacts family\n",
              "Name: Sentence, dtype: object"
            ]
          },
          "metadata": {
            "tags": []
          },
          "execution_count": 13
        }
      ]
    },
    {
      "cell_type": "code",
      "metadata": {
        "colab": {
          "base_uri": "https://localhost:8080/"
        },
        "id": "oHu46WYP4cT_",
        "outputId": "7ad912ed-690e-41c0-bb30-b34bafb4bbe3"
      },
      "source": [
        "len(test['Sentence'])"
      ],
      "execution_count": 14,
      "outputs": [
        {
          "output_type": "execute_result",
          "data": {
            "text/plain": [
              "521"
            ]
          },
          "metadata": {
            "tags": []
          },
          "execution_count": 14
        }
      ]
    },
    {
      "cell_type": "code",
      "metadata": {
        "colab": {
          "base_uri": "https://localhost:8080/"
        },
        "id": "vKEsHRS84eBL",
        "outputId": "3143cacb-c76d-400d-8822-b8587ae7ceb9"
      },
      "source": [
        "unlabel_1 = test.loc[:100]\r\n",
        "print(\"length of unlabel_1\",len(unlabel_1))\r\n",
        "unlabel_2 = test.loc[101:200]\r\n",
        "print(\"length of unlabel_2\",len(unlabel_2))\r\n",
        "unlabel_3 = test.loc[201:300]\r\n",
        "print(\"length of unlabel_3\",len(unlabel_3))\r\n",
        "unlabel_4 = test.loc[301:400]\r\n",
        "print(\"length of unlabel_4\",len(unlabel_4))\r\n",
        "unlabel_5 = test.loc[401:]\r\n",
        "print(\"length of unlabel_5\",len(unlabel_5))"
      ],
      "execution_count": 15,
      "outputs": [
        {
          "output_type": "stream",
          "text": [
            "length of unlabel_1 101\n",
            "length of unlabel_2 100\n",
            "length of unlabel_3 100\n",
            "length of unlabel_4 100\n",
            "length of unlabel_5 120\n"
          ],
          "name": "stdout"
        }
      ]
    },
    {
      "cell_type": "code",
      "metadata": {
        "colab": {
          "base_uri": "https://localhost:8080/",
          "height": 196
        },
        "id": "7YrgkNDr4hx0",
        "outputId": "25b88fda-2823-4dbf-acef-cedece9b5ad6"
      },
      "source": [
        "unlabel_1.head()"
      ],
      "execution_count": 16,
      "outputs": [
        {
          "output_type": "execute_result",
          "data": {
            "text/html": [
              "<div>\n",
              "<style scoped>\n",
              "    .dataframe tbody tr th:only-of-type {\n",
              "        vertical-align: middle;\n",
              "    }\n",
              "\n",
              "    .dataframe tbody tr th {\n",
              "        vertical-align: top;\n",
              "    }\n",
              "\n",
              "    .dataframe thead th {\n",
              "        text-align: right;\n",
              "    }\n",
              "</style>\n",
              "<table border=\"1\" class=\"dataframe\">\n",
              "  <thead>\n",
              "    <tr style=\"text-align: right;\">\n",
              "      <th></th>\n",
              "      <th>Unnamed: 0</th>\n",
              "      <th>Sentence</th>\n",
              "      <th>Target</th>\n",
              "    </tr>\n",
              "  </thead>\n",
              "  <tbody>\n",
              "    <tr>\n",
              "      <th>0</th>\n",
              "      <td>2173</td>\n",
              "      <td>darden sr testified âœi saw staggering â prett...</td>\n",
              "      <td>Facts</td>\n",
              "    </tr>\n",
              "    <tr>\n",
              "      <th>1</th>\n",
              "      <td>466</td>\n",
              "      <td>additional moral justification may due complai...</td>\n",
              "      <td>Analysis</td>\n",
              "    </tr>\n",
              "    <tr>\n",
              "      <th>2</th>\n",
              "      <td>525</td>\n",
              "      <td>85 22 sw 140 wherein accused acting upon advic...</td>\n",
              "      <td>Rule/Law/Holding</td>\n",
              "    </tr>\n",
              "    <tr>\n",
              "      <th>3</th>\n",
              "      <td>2199</td>\n",
              "      <td>proper instruction court murder malice murder ...</td>\n",
              "      <td>Facts</td>\n",
              "    </tr>\n",
              "    <tr>\n",
              "      <th>4</th>\n",
              "      <td>79</td>\n",
              "      <td>eligible leaves renew contacts family</td>\n",
              "      <td>Facts</td>\n",
              "    </tr>\n",
              "  </tbody>\n",
              "</table>\n",
              "</div>"
            ],
            "text/plain": [
              "   Unnamed: 0  ...            Target\n",
              "0        2173  ...             Facts\n",
              "1         466  ...          Analysis\n",
              "2         525  ...  Rule/Law/Holding\n",
              "3        2199  ...             Facts\n",
              "4          79  ...             Facts\n",
              "\n",
              "[5 rows x 3 columns]"
            ]
          },
          "metadata": {
            "tags": []
          },
          "execution_count": 16
        }
      ]
    },
    {
      "cell_type": "code",
      "metadata": {
        "colab": {
          "base_uri": "https://localhost:8080/",
          "height": 196
        },
        "id": "3PXLOci54nQO",
        "outputId": "c3357fbe-0198-4e96-86ae-b6431593dc2a"
      },
      "source": [
        "unlabel_2.reset_index(inplace=True)\r\n",
        "del unlabel_2['index']\r\n",
        "unlabel_2.head()"
      ],
      "execution_count": 17,
      "outputs": [
        {
          "output_type": "execute_result",
          "data": {
            "text/html": [
              "<div>\n",
              "<style scoped>\n",
              "    .dataframe tbody tr th:only-of-type {\n",
              "        vertical-align: middle;\n",
              "    }\n",
              "\n",
              "    .dataframe tbody tr th {\n",
              "        vertical-align: top;\n",
              "    }\n",
              "\n",
              "    .dataframe thead th {\n",
              "        text-align: right;\n",
              "    }\n",
              "</style>\n",
              "<table border=\"1\" class=\"dataframe\">\n",
              "  <thead>\n",
              "    <tr style=\"text-align: right;\">\n",
              "      <th></th>\n",
              "      <th>Unnamed: 0</th>\n",
              "      <th>Sentence</th>\n",
              "      <th>Target</th>\n",
              "    </tr>\n",
              "  </thead>\n",
              "  <tbody>\n",
              "    <tr>\n",
              "      <th>0</th>\n",
              "      <td>1207</td>\n",
              "      <td>examination occurred night middle may testifie...</td>\n",
              "      <td>Invalid</td>\n",
              "    </tr>\n",
              "    <tr>\n",
              "      <th>1</th>\n",
              "      <td>3400</td>\n",
              "      <td>undisputed testimony reflects appellant drivin...</td>\n",
              "      <td>Facts</td>\n",
              "    </tr>\n",
              "    <tr>\n",
              "      <th>2</th>\n",
              "      <td>2072</td>\n",
              "      <td>appellant testify offer evidence behalf</td>\n",
              "      <td>Facts</td>\n",
              "    </tr>\n",
              "    <tr>\n",
              "      <th>3</th>\n",
              "      <td>517</td>\n",
              "      <td>56 uniform act regulating traffic highways gis...</td>\n",
              "      <td>Rule/Law/Holding</td>\n",
              "    </tr>\n",
              "    <tr>\n",
              "      <th>4</th>\n",
              "      <td>906</td>\n",
              "      <td>agreed accompany gave pawn ticket money reclai...</td>\n",
              "      <td>Facts</td>\n",
              "    </tr>\n",
              "  </tbody>\n",
              "</table>\n",
              "</div>"
            ],
            "text/plain": [
              "   Unnamed: 0  ...            Target\n",
              "0        1207  ...           Invalid\n",
              "1        3400  ...             Facts\n",
              "2        2072  ...             Facts\n",
              "3         517  ...  Rule/Law/Holding\n",
              "4         906  ...             Facts\n",
              "\n",
              "[5 rows x 3 columns]"
            ]
          },
          "metadata": {
            "tags": []
          },
          "execution_count": 17
        }
      ]
    },
    {
      "cell_type": "code",
      "metadata": {
        "colab": {
          "base_uri": "https://localhost:8080/",
          "height": 196
        },
        "id": "TQFFh6av4rg1",
        "outputId": "2f05ba67-eb17-43a7-8c18-49b6196bc5c9"
      },
      "source": [
        "unlabel_3.reset_index(inplace=True)\r\n",
        "del unlabel_3['index']\r\n",
        "unlabel_3.head()"
      ],
      "execution_count": 18,
      "outputs": [
        {
          "output_type": "execute_result",
          "data": {
            "text/html": [
              "<div>\n",
              "<style scoped>\n",
              "    .dataframe tbody tr th:only-of-type {\n",
              "        vertical-align: middle;\n",
              "    }\n",
              "\n",
              "    .dataframe tbody tr th {\n",
              "        vertical-align: top;\n",
              "    }\n",
              "\n",
              "    .dataframe thead th {\n",
              "        text-align: right;\n",
              "    }\n",
              "</style>\n",
              "<table border=\"1\" class=\"dataframe\">\n",
              "  <thead>\n",
              "    <tr style=\"text-align: right;\">\n",
              "      <th></th>\n",
              "      <th>Unnamed: 0</th>\n",
              "      <th>Sentence</th>\n",
              "      <th>Target</th>\n",
              "    </tr>\n",
              "  </thead>\n",
              "  <tbody>\n",
              "    <tr>\n",
              "      <th>0</th>\n",
              "      <td>1882</td>\n",
              "      <td>find evidence amply sufficient sustain juryâs ...</td>\n",
              "      <td>Analysis</td>\n",
              "    </tr>\n",
              "    <tr>\n",
              "      <th>1</th>\n",
              "      <td>964</td>\n",
              "      <td>actions show thatâ</td>\n",
              "      <td>Invalid</td>\n",
              "    </tr>\n",
              "    <tr>\n",
              "      <th>2</th>\n",
              "      <td>1417</td>\n",
              "      <td>certification attending physician shown filed ...</td>\n",
              "      <td>Facts</td>\n",
              "    </tr>\n",
              "    <tr>\n",
              "      <th>3</th>\n",
              "      <td>2932</td>\n",
              "      <td>testified agent bland first left automobile wa...</td>\n",
              "      <td>Facts</td>\n",
              "    </tr>\n",
              "    <tr>\n",
              "      <th>4</th>\n",
              "      <td>1584</td>\n",
              "      <td>officer testified could smell odor alcohol app...</td>\n",
              "      <td>Facts</td>\n",
              "    </tr>\n",
              "  </tbody>\n",
              "</table>\n",
              "</div>"
            ],
            "text/plain": [
              "   Unnamed: 0                                           Sentence    Target\n",
              "0        1882  find evidence amply sufficient sustain juryâs ...  Analysis\n",
              "1         964                                 actions show thatâ   Invalid\n",
              "2        1417  certification attending physician shown filed ...     Facts\n",
              "3        2932  testified agent bland first left automobile wa...     Facts\n",
              "4        1584  officer testified could smell odor alcohol app...     Facts"
            ]
          },
          "metadata": {
            "tags": []
          },
          "execution_count": 18
        }
      ]
    },
    {
      "cell_type": "code",
      "metadata": {
        "colab": {
          "base_uri": "https://localhost:8080/",
          "height": 196
        },
        "id": "Vl3vqhTB4z-s",
        "outputId": "134fce7e-d37e-4073-aaa6-cb74db9a4ad5"
      },
      "source": [
        "unlabel_4.reset_index(inplace=True)\r\n",
        "del unlabel_4['index']\r\n",
        "unlabel_4.head()"
      ],
      "execution_count": 19,
      "outputs": [
        {
          "output_type": "execute_result",
          "data": {
            "text/html": [
              "<div>\n",
              "<style scoped>\n",
              "    .dataframe tbody tr th:only-of-type {\n",
              "        vertical-align: middle;\n",
              "    }\n",
              "\n",
              "    .dataframe tbody tr th {\n",
              "        vertical-align: top;\n",
              "    }\n",
              "\n",
              "    .dataframe thead th {\n",
              "        text-align: right;\n",
              "    }\n",
              "</style>\n",
              "<table border=\"1\" class=\"dataframe\">\n",
              "  <thead>\n",
              "    <tr style=\"text-align: right;\">\n",
              "      <th></th>\n",
              "      <th>Unnamed: 0</th>\n",
              "      <th>Sentence</th>\n",
              "      <th>Target</th>\n",
              "    </tr>\n",
              "  </thead>\n",
              "  <tbody>\n",
              "    <tr>\n",
              "      <th>0</th>\n",
              "      <td>266</td>\n",
              "      <td>section 6 pl</td>\n",
              "      <td>Invalid</td>\n",
              "    </tr>\n",
              "    <tr>\n",
              "      <th>1</th>\n",
              "      <td>3469</td>\n",
              "      <td>amended answer appellant alleged bond invalid ...</td>\n",
              "      <td>Analysis</td>\n",
              "    </tr>\n",
              "    <tr>\n",
              "      <th>2</th>\n",
              "      <td>1471</td>\n",
              "      <td>evidence sufficient support conviction appella...</td>\n",
              "      <td>Analysis</td>\n",
              "    </tr>\n",
              "    <tr>\n",
              "      <th>3</th>\n",
              "      <td>1990</td>\n",
              "      <td>cases cited note 19</td>\n",
              "      <td>Invalid</td>\n",
              "    </tr>\n",
              "    <tr>\n",
              "      <th>4</th>\n",
              "      <td>2757</td>\n",
              "      <td>july 8 1960 order entered revoking said probat...</td>\n",
              "      <td>Facts</td>\n",
              "    </tr>\n",
              "  </tbody>\n",
              "</table>\n",
              "</div>"
            ],
            "text/plain": [
              "   Unnamed: 0                                           Sentence    Target\n",
              "0         266                                       section 6 pl   Invalid\n",
              "1        3469  amended answer appellant alleged bond invalid ...  Analysis\n",
              "2        1471  evidence sufficient support conviction appella...  Analysis\n",
              "3        1990                                cases cited note 19   Invalid\n",
              "4        2757  july 8 1960 order entered revoking said probat...     Facts"
            ]
          },
          "metadata": {
            "tags": []
          },
          "execution_count": 19
        }
      ]
    },
    {
      "cell_type": "code",
      "metadata": {
        "colab": {
          "base_uri": "https://localhost:8080/",
          "height": 196
        },
        "id": "eodCStc541pb",
        "outputId": "b105a665-ed84-4f87-fa70-e577555c36d8"
      },
      "source": [
        "unlabel_5.reset_index(inplace=True)\r\n",
        "del unlabel_5['index']\r\n",
        "unlabel_5.head()"
      ],
      "execution_count": 20,
      "outputs": [
        {
          "output_type": "execute_result",
          "data": {
            "text/html": [
              "<div>\n",
              "<style scoped>\n",
              "    .dataframe tbody tr th:only-of-type {\n",
              "        vertical-align: middle;\n",
              "    }\n",
              "\n",
              "    .dataframe tbody tr th {\n",
              "        vertical-align: top;\n",
              "    }\n",
              "\n",
              "    .dataframe thead th {\n",
              "        text-align: right;\n",
              "    }\n",
              "</style>\n",
              "<table border=\"1\" class=\"dataframe\">\n",
              "  <thead>\n",
              "    <tr style=\"text-align: right;\">\n",
              "      <th></th>\n",
              "      <th>Unnamed: 0</th>\n",
              "      <th>Sentence</th>\n",
              "      <th>Target</th>\n",
              "    </tr>\n",
              "  </thead>\n",
              "  <tbody>\n",
              "    <tr>\n",
              "      <th>0</th>\n",
              "      <td>2979</td>\n",
              "      <td>overrule appellantâs contention court erred pe...</td>\n",
              "      <td>Analysis</td>\n",
              "    </tr>\n",
              "    <tr>\n",
              "      <th>1</th>\n",
              "      <td>2135</td>\n",
              "      <td>state regarded authority case</td>\n",
              "      <td>Invalid</td>\n",
              "    </tr>\n",
              "    <tr>\n",
              "      <th>2</th>\n",
              "      <td>1591</td>\n",
              "      <td>testimony adduced appellant mother lillie mae ...</td>\n",
              "      <td>Facts</td>\n",
              "    </tr>\n",
              "    <tr>\n",
              "      <th>3</th>\n",
              "      <td>658</td>\n",
              "      <td>appellant needle marks inside left elbow</td>\n",
              "      <td>Facts</td>\n",
              "    </tr>\n",
              "    <tr>\n",
              "      <th>4</th>\n",
              "      <td>2562</td>\n",
              "      <td>analysis contents 3 capsules chemist kenneth a...</td>\n",
              "      <td>Facts</td>\n",
              "    </tr>\n",
              "  </tbody>\n",
              "</table>\n",
              "</div>"
            ],
            "text/plain": [
              "   Unnamed: 0                                           Sentence    Target\n",
              "0        2979  overrule appellantâs contention court erred pe...  Analysis\n",
              "1        2135                      state regarded authority case   Invalid\n",
              "2        1591  testimony adduced appellant mother lillie mae ...     Facts\n",
              "3         658           appellant needle marks inside left elbow     Facts\n",
              "4        2562  analysis contents 3 capsules chemist kenneth a...     Facts"
            ]
          },
          "metadata": {
            "tags": []
          },
          "execution_count": 20
        }
      ]
    },
    {
      "cell_type": "code",
      "metadata": {
        "colab": {
          "base_uri": "https://localhost:8080/"
        },
        "id": "--BUFrGP47Ee",
        "outputId": "092bcccb-8639-4ee3-bb16-014d89c1d2fe"
      },
      "source": [
        "model.classes_"
      ],
      "execution_count": 21,
      "outputs": [
        {
          "output_type": "execute_result",
          "data": {
            "text/plain": [
              "array(['Analysis', 'Conclusion', 'Facts', 'Invalid', 'Issue',\n",
              "       'Rule/Law/Holding'], dtype='<U16')"
            ]
          },
          "metadata": {
            "tags": []
          },
          "execution_count": 21
        }
      ]
    },
    {
      "cell_type": "code",
      "metadata": {
        "colab": {
          "base_uri": "https://localhost:8080/"
        },
        "id": "-ni3Xo7y4-23",
        "outputId": "5da2079a-fabd-4e62-9b94-31f45403fa58"
      },
      "source": [
        "x_un1 = tfidf_vect.transform(unlabel_1['Sentence'])\r\n",
        "pred_unlabel_1 = model.predict_proba(x_un1)\r\n",
        "pred_unlabel_1"
      ],
      "execution_count": 22,
      "outputs": [
        {
          "output_type": "execute_result",
          "data": {
            "text/plain": [
              "array([[2.90125582e-05, 6.21944768e-04, 9.97200956e-01, 2.00016885e-03,\n",
              "        2.35997451e-05, 1.24317920e-04],\n",
              "       [7.44227289e-02, 2.90658654e-04, 9.21294149e-01, 1.77669054e-05,\n",
              "        3.04955546e-03, 9.25140950e-04],\n",
              "       [4.37109240e-04, 8.17750318e-04, 2.92997825e-02, 9.61531205e-01,\n",
              "        6.19681680e-04, 7.29447154e-03],\n",
              "       [6.76732996e-03, 8.80727256e-05, 6.61725061e-01, 3.15401579e-01,\n",
              "        6.70709170e-04, 1.53472480e-02],\n",
              "       [3.03366036e-04, 6.37919082e-04, 9.96803376e-01, 2.00180769e-03,\n",
              "        2.30372748e-05, 2.30493514e-04],\n",
              "       [1.62759682e-05, 2.66402505e-04, 9.99055098e-01, 5.76444116e-04,\n",
              "        6.23834259e-06, 7.95407205e-05],\n",
              "       [6.66578144e-01, 4.91797714e-03, 3.13965437e-01, 9.63261780e-03,\n",
              "        2.35653490e-03, 2.54928996e-03],\n",
              "       [1.71730008e-04, 2.54492658e-01, 5.88102462e-01, 1.56945857e-01,\n",
              "        3.48892900e-06, 2.83803912e-04],\n",
              "       [5.06756636e-02, 8.02618733e-05, 8.83821422e-05, 9.48852913e-01,\n",
              "        1.25132112e-05, 2.90266552e-04],\n",
              "       [9.01772880e-03, 7.96340629e-05, 6.28534136e-01, 3.53350017e-01,\n",
              "        2.90695596e-04, 8.72778809e-03],\n",
              "       [9.84686407e-01, 1.66376245e-04, 3.15983570e-04, 1.22962835e-02,\n",
              "        2.60165871e-04, 2.27478400e-03],\n",
              "       [2.83336017e-03, 5.94529145e-04, 9.96402866e-01, 2.10357131e-06,\n",
              "        6.00466455e-05, 1.07094265e-04],\n",
              "       [1.32539541e-04, 1.24140798e-04, 9.98723201e-01, 1.14038055e-04,\n",
              "        5.25044233e-04, 3.81036130e-04],\n",
              "       [2.25696072e-01, 9.92879719e-03, 7.13374332e-01, 6.52154612e-03,\n",
              "        4.29485834e-03, 4.01843938e-02],\n",
              "       [2.83305213e-01, 2.19402673e-02, 6.33047271e-01, 6.28252810e-04,\n",
              "        6.10688396e-02, 1.01563782e-05],\n",
              "       [3.22171578e-01, 4.04136223e-04, 5.08953914e-05, 2.59712138e-04,\n",
              "        3.21672553e-02, 6.44946423e-01],\n",
              "       [7.98995356e-01, 1.16728378e-04, 1.99467618e-01, 1.39026317e-03,\n",
              "        1.37212101e-05, 1.63134899e-05],\n",
              "       [1.30174690e-03, 1.06704187e-03, 9.97271693e-01, 8.76095838e-05,\n",
              "        1.19638657e-04, 1.52269585e-04],\n",
              "       [5.32991926e-04, 1.36054027e-04, 9.97120193e-01, 1.69327148e-03,\n",
              "        5.44168279e-05, 4.63072351e-04],\n",
              "       [2.19224144e-02, 2.90991515e-03, 9.44527653e-01, 2.13083576e-06,\n",
              "        3.06291511e-02, 8.73579646e-06],\n",
              "       [9.79189001e-01, 1.54110523e-02, 4.56849803e-03, 3.02502766e-06,\n",
              "        8.23590109e-04, 4.83359363e-06],\n",
              "       [8.98450510e-05, 2.25997193e-05, 9.66479238e-01, 8.44451571e-03,\n",
              "        1.51812956e-03, 2.34456717e-02],\n",
              "       [2.29220502e-03, 4.21349343e-05, 3.92579859e-06, 9.38217610e-01,\n",
              "        8.00720803e-05, 5.93640520e-02],\n",
              "       [1.16533671e-05, 1.20454922e-03, 9.94295414e-01, 4.44078744e-03,\n",
              "        8.26685716e-06, 3.93291330e-05],\n",
              "       [1.16542021e-03, 9.79295899e-01, 2.08170282e-04, 1.93197504e-02,\n",
              "        1.07036856e-05, 5.64154151e-08],\n",
              "       [1.34900232e-03, 4.94470291e-04, 8.72503423e-03, 9.88800262e-01,\n",
              "        1.05921453e-04, 5.25309516e-04],\n",
              "       [3.68937889e-05, 2.80249667e-02, 1.35686258e-03, 9.70456293e-01,\n",
              "        2.08192480e-06, 1.22902046e-04],\n",
              "       [4.83955240e-06, 3.84679116e-01, 6.14833661e-01, 1.12958212e-04,\n",
              "        1.45686536e-05, 3.54856596e-04],\n",
              "       [3.03137200e-05, 8.72507058e-06, 3.20050056e-01, 6.79462129e-01,\n",
              "        1.07472753e-05, 4.38028955e-04],\n",
              "       [4.17111427e-03, 2.96020211e-04, 9.94715963e-01, 6.47174981e-04,\n",
              "        2.14502999e-06, 1.67582729e-04],\n",
              "       [9.48893627e-01, 5.02603724e-02, 3.62213849e-04, 1.53499658e-04,\n",
              "        3.27456714e-04, 2.83052630e-06],\n",
              "       [8.30567918e-05, 9.99798061e-01, 4.33709862e-07, 7.68175100e-07,\n",
              "        3.77657890e-05, 7.99146883e-05],\n",
              "       [4.28805337e-03, 1.72103827e-03, 9.92331069e-01, 1.16220721e-03,\n",
              "        4.28362042e-04, 6.92703971e-05],\n",
              "       [4.94315048e-04, 6.58447068e-04, 9.91036113e-01, 7.68247091e-03,\n",
              "        4.51495374e-05, 8.35047346e-05],\n",
              "       [2.30541510e-07, 7.55350745e-03, 9.91280615e-01, 1.13913835e-03,\n",
              "        1.12370261e-05, 1.52712607e-05],\n",
              "       [1.95298244e-04, 4.09063032e-04, 9.88990588e-01, 1.12973917e-04,\n",
              "        1.07083784e-04, 1.01849927e-02],\n",
              "       [8.11353447e-03, 1.92367779e-04, 9.59500767e-01, 1.56752755e-03,\n",
              "        1.43201065e-03, 2.91937929e-02],\n",
              "       [2.47900868e-05, 5.45866651e-05, 9.40047803e-01, 3.97489256e-06,\n",
              "        1.43593519e-03, 5.84329107e-02],\n",
              "       [5.81079861e-01, 1.52933670e-04, 9.01837606e-02, 3.27444981e-01,\n",
              "        4.25240632e-06, 1.13421156e-03],\n",
              "       [3.83826048e-04, 3.85019487e-05, 9.98207748e-01, 3.14654724e-04,\n",
              "        8.38782450e-04, 2.16486463e-04],\n",
              "       [3.39976413e-05, 5.68483109e-04, 9.98527153e-01, 2.49196245e-04,\n",
              "        5.78006164e-04, 4.31634374e-05],\n",
              "       [3.45171684e-02, 1.07548725e-04, 9.58691437e-01, 5.74678689e-05,\n",
              "        1.30553514e-06, 6.62507203e-03],\n",
              "       [9.21480737e-01, 3.66380668e-03, 6.79475257e-02, 6.68687797e-03,\n",
              "        2.14827119e-04, 6.22552251e-06],\n",
              "       [4.50377720e-02, 2.80656631e-04, 2.35826106e-02, 9.30851239e-01,\n",
              "        1.54839419e-05, 2.32238074e-04],\n",
              "       [9.57131917e-01, 4.66207212e-04, 1.25123174e-02, 2.78764995e-02,\n",
              "        5.55622973e-05, 1.95749630e-03],\n",
              "       [9.07432796e-05, 2.73995853e-04, 9.97581428e-01, 1.78503430e-03,\n",
              "        2.50797708e-05, 2.43718878e-04],\n",
              "       [9.67301118e-04, 1.78049214e-03, 1.11583065e-01, 8.85587568e-01,\n",
              "        2.88863829e-05, 5.26873204e-05],\n",
              "       [5.27896630e-01, 1.77185116e-04, 1.96157223e-02, 4.51771889e-01,\n",
              "        1.14399444e-05, 5.27133314e-04],\n",
              "       [2.25413226e-05, 1.53258714e-03, 9.98390844e-01, 1.33675305e-09,\n",
              "        2.93130299e-05, 2.47130564e-05],\n",
              "       [4.43826884e-05, 2.34391492e-01, 1.18071379e-05, 7.65185659e-01,\n",
              "        6.04638057e-05, 3.06195929e-04],\n",
              "       [5.76292652e-03, 5.62056900e-04, 9.90878202e-01, 2.57466430e-03,\n",
              "        5.55880973e-05, 1.66562160e-04],\n",
              "       [6.55817929e-05, 7.01696765e-04, 9.92734640e-01, 6.38336743e-03,\n",
              "        2.09488085e-05, 9.37653726e-05],\n",
              "       [8.44894389e-07, 4.87064265e-04, 9.67103337e-01, 3.21284821e-02,\n",
              "        2.77752849e-04, 2.51922307e-06],\n",
              "       [5.28281154e-02, 9.88263208e-05, 9.46414068e-01, 2.04633673e-04,\n",
              "        4.38463768e-04, 1.58933352e-05],\n",
              "       [3.25977739e-03, 7.96267172e-04, 8.69066225e-01, 4.21219823e-05,\n",
              "        1.15902378e-01, 1.09332312e-02],\n",
              "       [2.04385340e-05, 5.19372833e-05, 9.96760626e-01, 1.37566952e-03,\n",
              "        6.06462108e-04, 1.18486631e-03],\n",
              "       [1.24301259e-05, 9.83289886e-05, 9.99682695e-01, 1.25009121e-04,\n",
              "        5.71045316e-06, 7.58260891e-05],\n",
              "       [8.09101959e-01, 3.99896945e-02, 9.82700143e-02, 3.04956497e-04,\n",
              "        3.91321097e-02, 1.32012658e-02],\n",
              "       [2.73955792e-01, 8.97005455e-05, 1.42472753e-03, 7.24410402e-01,\n",
              "        3.80203872e-05, 8.13572616e-05],\n",
              "       [5.47979213e-05, 1.59084590e-05, 9.44351678e-01, 1.06802898e-06,\n",
              "        5.52638245e-02, 3.12722634e-04],\n",
              "       [7.86551419e-02, 1.13240411e-02, 8.72295882e-01, 3.71506769e-02,\n",
              "        5.56537602e-04, 1.77204393e-05],\n",
              "       [3.11621207e-01, 2.28589636e-03, 7.95006480e-06, 1.10820147e-06,\n",
              "        6.85782814e-01, 3.01024156e-04],\n",
              "       [1.70973212e-06, 2.63241129e-03, 9.97258486e-01, 7.25815697e-07,\n",
              "        9.19969536e-06, 9.74672695e-05],\n",
              "       [7.73851376e-01, 8.83429395e-04, 2.22930237e-01, 2.73006285e-04,\n",
              "        1.98100785e-03, 8.09437551e-05],\n",
              "       [1.95829305e-01, 7.81476534e-03, 7.95879360e-01, 4.47315206e-06,\n",
              "        4.44412119e-04, 2.76850070e-05],\n",
              "       [6.65552229e-05, 4.53119316e-03, 9.93686242e-01, 1.92854791e-04,\n",
              "        8.36263049e-05, 1.43952809e-03],\n",
              "       [5.01410845e-01, 1.13973643e-02, 4.78415131e-01, 1.43615520e-03,\n",
              "        2.63778270e-04, 7.07672541e-03],\n",
              "       [7.36519572e-01, 1.00276492e-04, 3.11817935e-05, 2.62928028e-01,\n",
              "        3.25610505e-04, 9.53319050e-05],\n",
              "       [1.38468819e-04, 4.23845430e-04, 9.89299074e-01, 9.81081448e-03,\n",
              "        1.29453249e-05, 3.14852290e-04],\n",
              "       [1.05091234e-02, 3.27516266e-03, 9.80112844e-01, 6.05839113e-03,\n",
              "        6.47190697e-06, 3.80068986e-05],\n",
              "       [1.18066419e-03, 5.93728186e-04, 9.95705611e-01, 1.77595626e-03,\n",
              "        1.11351490e-04, 6.32689277e-04],\n",
              "       [2.34532163e-04, 1.14633108e-02, 8.82798839e-01, 1.03187890e-01,\n",
              "        2.02609036e-04, 2.11281932e-03],\n",
              "       [6.95581422e-03, 1.32630035e-04, 7.20212468e-03, 9.68916489e-01,\n",
              "        1.67856088e-02, 7.33326778e-06],\n",
              "       [3.66711143e-02, 8.48324708e-03, 1.26374544e-01, 8.23617969e-01,\n",
              "        4.62695413e-03, 2.26171601e-04],\n",
              "       [7.85389088e-06, 7.76990997e-04, 9.90143848e-01, 8.88654379e-03,\n",
              "        5.90448813e-05, 1.25718415e-04],\n",
              "       [9.80730325e-01, 1.40841307e-02, 3.41727452e-03, 1.51939428e-04,\n",
              "        1.61491477e-03, 1.41521564e-06],\n",
              "       [2.20648602e-06, 1.77862915e-04, 9.99613656e-01, 9.68338595e-05,\n",
              "        1.07470123e-04, 1.97089649e-06],\n",
              "       [4.59190613e-03, 1.15368472e-02, 9.80834815e-01, 2.68998630e-06,\n",
              "        9.29536653e-06, 3.02444596e-03],\n",
              "       [5.88975055e-03, 9.70597439e-01, 6.82228099e-04, 4.54230013e-05,\n",
              "        2.27801620e-02, 4.99741827e-06],\n",
              "       [3.10148633e-01, 1.56202625e-02, 5.63118429e-01, 1.41296160e-03,\n",
              "        1.35441352e-02, 9.61555793e-02],\n",
              "       [4.18654791e-04, 7.93432900e-05, 3.79668586e-05, 9.21416218e-01,\n",
              "        1.22860069e-04, 7.79249568e-02],\n",
              "       [1.13490428e-03, 1.91767017e-04, 6.17178938e-01, 2.46841479e-01,\n",
              "        8.04967047e-04, 1.33847944e-01],\n",
              "       [2.04051469e-03, 1.56036958e-04, 4.19947602e-02, 1.22143320e-03,\n",
              "        1.99736400e-02, 9.34613615e-01],\n",
              "       [9.33725440e-01, 1.73299714e-02, 7.58049461e-03, 4.13360192e-02,\n",
              "        3.74283594e-06, 2.43315544e-05],\n",
              "       [1.38444914e-03, 7.33063334e-03, 9.47988089e-01, 4.25944498e-02,\n",
              "        2.05155131e-05, 6.81863641e-04],\n",
              "       [4.38738794e-04, 1.11683983e-04, 9.20613035e-01, 7.83954635e-02,\n",
              "        2.38815535e-04, 2.02262721e-04],\n",
              "       [2.01358645e-02, 1.97250763e-04, 3.23823925e-03, 4.93899094e-03,\n",
              "        1.46184512e-04, 9.71343470e-01],\n",
              "       [2.66601171e-03, 4.13728845e-05, 9.90697502e-01, 4.22464975e-03,\n",
              "        3.40914549e-05, 2.33637258e-03],\n",
              "       [2.61913118e-02, 6.76336626e-04, 9.67449026e-01, 5.65451795e-03,\n",
              "        1.91432773e-05, 9.66485345e-06],\n",
              "       [8.65167780e-03, 1.07751732e-03, 9.90054521e-01, 1.95228162e-05,\n",
              "        1.92537173e-04, 4.22391670e-06],\n",
              "       [2.33540042e-01, 7.13747398e-01, 3.55950306e-03, 1.85106149e-02,\n",
              "        7.36290215e-04, 2.99061514e-02],\n",
              "       [1.59650738e-01, 2.85658081e-06, 8.39273161e-01, 9.88174843e-04,\n",
              "        2.32532501e-05, 6.18163393e-05],\n",
              "       [3.17336113e-03, 9.79519283e-01, 4.90255751e-04, 1.67944076e-02,\n",
              "        2.10322963e-06, 2.05890841e-05],\n",
              "       [1.12751237e-02, 2.28995316e-05, 9.76092083e-01, 1.14289657e-02,\n",
              "        6.38676533e-05, 1.11706060e-03],\n",
              "       [8.59720248e-04, 1.69234929e-04, 9.98385352e-01, 7.50831852e-05,\n",
              "        4.97100809e-04, 1.35090421e-05],\n",
              "       [6.14025833e-03, 1.68660809e-04, 9.93517574e-01, 1.12702741e-04,\n",
              "        5.69039566e-05, 3.89968064e-06],\n",
              "       [1.87371449e-06, 1.39431924e-03, 9.97976967e-01, 4.03938998e-04,\n",
              "        2.11040814e-04, 1.18598803e-05],\n",
              "       [1.03670782e-04, 1.38400475e-03, 8.69338391e-05, 1.72572410e-02,\n",
              "        9.40673074e-04, 9.80227477e-01],\n",
              "       [4.76947322e-04, 4.62025206e-03, 3.34906371e-05, 9.91019349e-01,\n",
              "        9.66412679e-05, 3.75331979e-03],\n",
              "       [8.48863441e-05, 1.14548008e-01, 7.93497119e-01, 8.47367255e-07,\n",
              "        5.58040818e-04, 9.13110987e-02],\n",
              "       [3.45949045e-04, 7.08094369e-03, 9.59489879e-01, 8.53707020e-04,\n",
              "        3.22193263e-02, 1.01947795e-05]])"
            ]
          },
          "metadata": {
            "tags": []
          },
          "execution_count": 22
        }
      ]
    },
    {
      "cell_type": "code",
      "metadata": {
        "colab": {
          "base_uri": "https://localhost:8080/"
        },
        "id": "jzrvAHmq5Hug",
        "outputId": "1124e34f-b38b-4e06-d5d5-a46d355259c1"
      },
      "source": [
        "import numpy as np\r\n",
        "pos=[]\r\n",
        "large=[]\r\n",
        "ind = []\r\n",
        "i=0\r\n",
        "for j in pred_unlabel_1:\r\n",
        "  if max(j)> 0.98:\r\n",
        "    ind.append(np.argmax(j))\r\n",
        "    large.append(max(j))\r\n",
        "    pos.append(i)\r\n",
        "  i+=1\r\n",
        "\r\n",
        "\r\n",
        "print(ind)\r\n",
        "print(large)\r\n",
        "print(pos)\r\n",
        "print(len(ind))\r\n",
        "print(len(large))\r\n",
        "print(len(pos))"
      ],
      "execution_count": 23,
      "outputs": [
        {
          "output_type": "stream",
          "text": [
            "[2, 2, 2, 0, 2, 2, 2, 2, 2, 3, 2, 1, 2, 2, 2, 2, 2, 2, 2, 2, 2, 2, 2, 2, 2, 2, 2, 2, 2, 2, 0, 2, 2, 2, 2, 2, 2, 2, 5, 3]\n",
            "[0.9972009561635322, 0.9968033764008846, 0.9990550983485111, 0.9846864068053934, 0.9964028662013704, 0.9987232012429391, 0.9972716934030655, 0.997120193387933, 0.9942954139845491, 0.9888002621978882, 0.9947159627795978, 0.9997980608458925, 0.9923310687124642, 0.9910361127046684, 0.9912806153693244, 0.9889905882770152, 0.9982077483665502, 0.9985271534027402, 0.9975814279203458, 0.9983908441104118, 0.9908782020294689, 0.992734639826663, 0.996760626245344, 0.9996826952219955, 0.9972584861965235, 0.9936862424286748, 0.9892990736511916, 0.9801128440281638, 0.9957056106032011, 0.9901438480285365, 0.9807303254006517, 0.9996136557206662, 0.9808348153233375, 0.9906975016264579, 0.990054520977255, 0.9983853517860302, 0.99351757448055, 0.9979769673547184, 0.9802274765520383, 0.9910193489192369]\n",
            "[0, 4, 5, 10, 11, 12, 17, 18, 23, 25, 29, 31, 32, 33, 34, 35, 39, 40, 45, 48, 50, 51, 55, 56, 62, 65, 68, 69, 70, 74, 75, 76, 77, 87, 89, 94, 95, 96, 97, 98]\n",
            "40\n",
            "40\n",
            "40\n"
          ],
          "name": "stdout"
        }
      ]
    },
    {
      "cell_type": "code",
      "metadata": {
        "colab": {
          "base_uri": "https://localhost:8080/",
          "height": 196
        },
        "id": "M8rBKAxJ5Otn",
        "outputId": "5fb25618-feff-46a4-aaec-2ab9307c116d"
      },
      "source": [
        "unlabel_1 = unlabel_1.loc[[0,4,5,10,11,12,17,18,23,25,29,31,32,33,34,35,39,40,45,48,50,51,55,56,62,65,68,69,70,74,75,76,77,87,89,94,95,96,97,98],:]\r\n",
        "unlabel_1.head()"
      ],
      "execution_count": 24,
      "outputs": [
        {
          "output_type": "execute_result",
          "data": {
            "text/html": [
              "<div>\n",
              "<style scoped>\n",
              "    .dataframe tbody tr th:only-of-type {\n",
              "        vertical-align: middle;\n",
              "    }\n",
              "\n",
              "    .dataframe tbody tr th {\n",
              "        vertical-align: top;\n",
              "    }\n",
              "\n",
              "    .dataframe thead th {\n",
              "        text-align: right;\n",
              "    }\n",
              "</style>\n",
              "<table border=\"1\" class=\"dataframe\">\n",
              "  <thead>\n",
              "    <tr style=\"text-align: right;\">\n",
              "      <th></th>\n",
              "      <th>Unnamed: 0</th>\n",
              "      <th>Sentence</th>\n",
              "      <th>Target</th>\n",
              "    </tr>\n",
              "  </thead>\n",
              "  <tbody>\n",
              "    <tr>\n",
              "      <th>0</th>\n",
              "      <td>2173</td>\n",
              "      <td>darden sr testified âœi saw staggering â prett...</td>\n",
              "      <td>Facts</td>\n",
              "    </tr>\n",
              "    <tr>\n",
              "      <th>4</th>\n",
              "      <td>79</td>\n",
              "      <td>eligible leaves renew contacts family</td>\n",
              "      <td>Facts</td>\n",
              "    </tr>\n",
              "    <tr>\n",
              "      <th>5</th>\n",
              "      <td>1955</td>\n",
              "      <td>got downstairs ponce went car wife left home</td>\n",
              "      <td>Facts</td>\n",
              "    </tr>\n",
              "    <tr>\n",
              "      <th>10</th>\n",
              "      <td>2262</td>\n",
              "      <td>first says evidence support charge comment upo...</td>\n",
              "      <td>Issue</td>\n",
              "    </tr>\n",
              "    <tr>\n",
              "      <th>11</th>\n",
              "      <td>1604</td>\n",
              "      <td>police notified deceased found lying mrs moers...</td>\n",
              "      <td>Facts</td>\n",
              "    </tr>\n",
              "  </tbody>\n",
              "</table>\n",
              "</div>"
            ],
            "text/plain": [
              "    Unnamed: 0                                           Sentence Target\n",
              "0         2173  darden sr testified âœi saw staggering â prett...  Facts\n",
              "4           79              eligible leaves renew contacts family  Facts\n",
              "5         1955       got downstairs ponce went car wife left home  Facts\n",
              "10        2262  first says evidence support charge comment upo...  Issue\n",
              "11        1604  police notified deceased found lying mrs moers...  Facts"
            ]
          },
          "metadata": {
            "tags": []
          },
          "execution_count": 24
        }
      ]
    },
    {
      "cell_type": "code",
      "metadata": {
        "colab": {
          "base_uri": "https://localhost:8080/"
        },
        "id": "gcpu2ouo50U-",
        "outputId": "7565c9ee-8b8f-43b4-a99c-30d715f73123"
      },
      "source": [
        "frame_1 = [train_kappa,unlabel_1]\r\n",
        "train_1 = pd.concat(frame_1)\r\n",
        "len(train_1)"
      ],
      "execution_count": 25,
      "outputs": [
        {
          "output_type": "execute_result",
          "data": {
            "text/plain": [
              "2991"
            ]
          },
          "metadata": {
            "tags": []
          },
          "execution_count": 25
        }
      ]
    },
    {
      "cell_type": "code",
      "metadata": {
        "colab": {
          "base_uri": "https://localhost:8080/"
        },
        "id": "M9yTMQjf53wP",
        "outputId": "9d17ab03-8335-4641-e49d-6f51214c70db"
      },
      "source": [
        "x_train_1 = tfidf_vect.transform(train_1['Sentence'])\r\n",
        "x_train_1.shape\r\n",
        "X_train, x_val, Y_train, y_val = train_test_split(x_train_1,train_1['Target'],test_size=0.2,random_state=42)\r\n",
        "support = svm.LinearSVC()\r\n",
        "clf = support.fit(X_train, Y_train)\r\n",
        "calibrator = CalibratedClassifierCV(clf, cv='prefit')\r\n",
        "model_1=calibrator.fit(X_train, Y_train)\r\n",
        "pred_svm = model_1.predict(x_val)\r\n",
        "print('Accuracy %s' % accuracy_score(pred_svm,y_val))\r\n",
        "print(classification_report(y_val,pred_svm))"
      ],
      "execution_count": 32,
      "outputs": [
        {
          "output_type": "stream",
          "text": [
            "Accuracy 0.672787979966611\n",
            "                  precision    recall  f1-score   support\n",
            "\n",
            "        Analysis       0.53      0.48      0.50        82\n",
            "      Conclusion       0.62      0.39      0.48        33\n",
            "           Facts       0.78      0.85      0.81       325\n",
            "         Invalid       0.46      0.50      0.48        88\n",
            "           Issue       0.67      0.49      0.56        37\n",
            "Rule/Law/Holding       0.46      0.38      0.42        34\n",
            "\n",
            "        accuracy                           0.67       599\n",
            "       macro avg       0.59      0.51      0.54       599\n",
            "    weighted avg       0.66      0.67      0.67       599\n",
            "\n"
          ],
          "name": "stdout"
        }
      ]
    },
    {
      "cell_type": "code",
      "metadata": {
        "colab": {
          "base_uri": "https://localhost:8080/",
          "height": 196
        },
        "id": "NXhW7C5Z6aCn",
        "outputId": "c49f15f3-9c5c-4907-d890-0a2301f574c0"
      },
      "source": [
        "unlabel_2.head()"
      ],
      "execution_count": 33,
      "outputs": [
        {
          "output_type": "execute_result",
          "data": {
            "text/html": [
              "<div>\n",
              "<style scoped>\n",
              "    .dataframe tbody tr th:only-of-type {\n",
              "        vertical-align: middle;\n",
              "    }\n",
              "\n",
              "    .dataframe tbody tr th {\n",
              "        vertical-align: top;\n",
              "    }\n",
              "\n",
              "    .dataframe thead th {\n",
              "        text-align: right;\n",
              "    }\n",
              "</style>\n",
              "<table border=\"1\" class=\"dataframe\">\n",
              "  <thead>\n",
              "    <tr style=\"text-align: right;\">\n",
              "      <th></th>\n",
              "      <th>Unnamed: 0</th>\n",
              "      <th>Sentence</th>\n",
              "      <th>Target</th>\n",
              "    </tr>\n",
              "  </thead>\n",
              "  <tbody>\n",
              "    <tr>\n",
              "      <th>0</th>\n",
              "      <td>1207</td>\n",
              "      <td>examination occurred night middle may testifie...</td>\n",
              "      <td>Invalid</td>\n",
              "    </tr>\n",
              "    <tr>\n",
              "      <th>1</th>\n",
              "      <td>3400</td>\n",
              "      <td>undisputed testimony reflects appellant drivin...</td>\n",
              "      <td>Facts</td>\n",
              "    </tr>\n",
              "    <tr>\n",
              "      <th>2</th>\n",
              "      <td>2072</td>\n",
              "      <td>appellant testify offer evidence behalf</td>\n",
              "      <td>Facts</td>\n",
              "    </tr>\n",
              "    <tr>\n",
              "      <th>3</th>\n",
              "      <td>517</td>\n",
              "      <td>56 uniform act regulating traffic highways gis...</td>\n",
              "      <td>Rule/Law/Holding</td>\n",
              "    </tr>\n",
              "    <tr>\n",
              "      <th>4</th>\n",
              "      <td>906</td>\n",
              "      <td>agreed accompany gave pawn ticket money reclai...</td>\n",
              "      <td>Facts</td>\n",
              "    </tr>\n",
              "  </tbody>\n",
              "</table>\n",
              "</div>"
            ],
            "text/plain": [
              "   Unnamed: 0  ...            Target\n",
              "0        1207  ...           Invalid\n",
              "1        3400  ...             Facts\n",
              "2        2072  ...             Facts\n",
              "3         517  ...  Rule/Law/Holding\n",
              "4         906  ...             Facts\n",
              "\n",
              "[5 rows x 3 columns]"
            ]
          },
          "metadata": {
            "tags": []
          },
          "execution_count": 33
        }
      ]
    },
    {
      "cell_type": "code",
      "metadata": {
        "colab": {
          "base_uri": "https://localhost:8080/"
        },
        "id": "RblAzHNf6fSd",
        "outputId": "0323de17-5229-4a71-b391-bb25d89f94e8"
      },
      "source": [
        "x_un2 = tfidf_vect.transform(unlabel_2['Sentence'])\r\n",
        "pred_unlabel_2 = model_1.predict_proba(x_un2)\r\n",
        "pred_unlabel_2"
      ],
      "execution_count": 34,
      "outputs": [
        {
          "output_type": "execute_result",
          "data": {
            "text/plain": [
              "array([[2.06748742e-03, 9.03589119e-05, 9.87340550e-01, 1.04563611e-02,\n",
              "        1.15391528e-05, 3.37037210e-05],\n",
              "       [2.33325180e-04, 3.15596716e-04, 9.09400536e-01, 8.99099838e-02,\n",
              "        2.38642297e-05, 1.16693953e-04],\n",
              "       [4.56658640e-04, 1.55974037e-04, 9.98560626e-01, 6.22265229e-04,\n",
              "        2.01642249e-04, 2.83368170e-06],\n",
              "       [8.72362810e-04, 1.72896629e-04, 9.82703403e-01, 1.26955910e-02,\n",
              "        3.95329829e-06, 3.55179311e-03],\n",
              "       [1.89277466e-05, 9.69955270e-04, 9.91169621e-01, 2.79005996e-04,\n",
              "        4.79296243e-06, 7.55769719e-03],\n",
              "       [5.04540073e-01, 4.03727947e-03, 3.94073568e-01, 1.96825679e-03,\n",
              "        9.53203399e-02, 6.04821755e-05],\n",
              "       [5.51416855e-03, 3.35400613e-04, 9.92865827e-01, 1.09269770e-03,\n",
              "        1.57455016e-04, 3.44513272e-05],\n",
              "       [1.75139731e-04, 4.52467374e-04, 9.98859401e-01, 4.39141092e-04,\n",
              "        5.56840326e-05, 1.81663997e-05],\n",
              "       [7.84146599e-04, 1.77318774e-04, 9.98197749e-01, 5.67012292e-04,\n",
              "        6.57605597e-05, 2.08012499e-04],\n",
              "       [2.83126572e-04, 3.49243683e-05, 4.54092939e-01, 5.36905458e-01,\n",
              "        8.67673515e-03, 6.81644591e-06],\n",
              "       [6.80629310e-05, 1.08471272e-03, 2.48340896e-01, 7.40739819e-01,\n",
              "        9.55050079e-05, 9.67100364e-03],\n",
              "       [4.47978009e-02, 1.03576565e-03, 2.57888510e-03, 8.76166979e-01,\n",
              "        7.54045743e-02, 1.59947253e-05],\n",
              "       [2.21560957e-06, 3.89750289e-05, 9.99788223e-01, 1.30812631e-04,\n",
              "        3.87696534e-05, 1.00440519e-06],\n",
              "       [5.24366132e-06, 3.73593319e-05, 7.50941204e-01, 1.70643492e-04,\n",
              "        8.26123003e-06, 2.48837289e-01],\n",
              "       [3.69800479e-03, 2.02545688e-03, 8.84351772e-01, 1.09839907e-01,\n",
              "        1.89928071e-05, 6.58662924e-05],\n",
              "       [2.19654287e-04, 9.83606950e-05, 9.75329626e-01, 2.35691826e-02,\n",
              "        1.03814150e-04, 6.79362483e-04],\n",
              "       [5.11747606e-05, 1.72189749e-04, 1.17663852e-02, 5.29270284e-05,\n",
              "        9.73218336e-01, 1.47389876e-02],\n",
              "       [1.85654265e-03, 6.13660198e-02, 8.77450245e-01, 5.06943397e-02,\n",
              "        8.53705489e-03, 9.57981109e-05],\n",
              "       [1.26860580e-05, 1.95571117e-04, 2.61448705e-01, 7.37732771e-01,\n",
              "        4.76056075e-06, 6.05505670e-04],\n",
              "       [8.32455511e-01, 1.23339415e-01, 1.92848870e-05, 4.39464562e-02,\n",
              "        7.85589307e-05, 1.60773515e-04],\n",
              "       [8.81279663e-03, 1.30070677e-04, 9.90670340e-01, 1.13236190e-04,\n",
              "        1.32272222e-04, 1.41284769e-04],\n",
              "       [2.37826731e-04, 8.76195875e-04, 9.84607926e-01, 1.42566307e-02,\n",
              "        1.22002380e-05, 9.21995694e-06],\n",
              "       [1.85233178e-06, 5.46346808e-05, 5.64871386e-01, 4.34984438e-01,\n",
              "        7.43552586e-05, 1.33335972e-05],\n",
              "       [2.16163060e-01, 7.03483229e-04, 7.83098617e-01, 3.05343846e-05,\n",
              "        3.94442847e-07, 3.91049666e-06],\n",
              "       [1.02445012e-01, 5.45297598e-05, 8.95563813e-01, 2.57635619e-04,\n",
              "        1.49276258e-04, 1.52973349e-03],\n",
              "       [8.27965560e-01, 8.28715721e-05, 1.68979499e-01, 1.49644737e-03,\n",
              "        1.45611281e-03, 1.95087539e-05],\n",
              "       [3.68496854e-05, 9.32760157e-04, 9.71514380e-01, 2.72125961e-02,\n",
              "        2.30333236e-04, 7.30811412e-05],\n",
              "       [7.01708948e-01, 2.59728095e-04, 2.95085715e-01, 2.83005665e-03,\n",
              "        9.83928154e-05, 1.71591171e-05],\n",
              "       [4.79783532e-01, 3.59453669e-05, 2.33283650e-04, 5.19872775e-01,\n",
              "        3.23013540e-07, 7.41408865e-05],\n",
              "       [1.18059840e-06, 9.19335663e-04, 9.98943733e-01, 9.07627202e-07,\n",
              "        9.18868420e-05, 4.29558556e-05],\n",
              "       [1.46613717e-03, 8.47887593e-06, 4.43568981e-02, 4.69748055e-04,\n",
              "        3.36809838e-06, 9.53695370e-01],\n",
              "       [9.15565328e-07, 5.90003921e-05, 8.35692958e-01, 2.93089195e-06,\n",
              "        7.77970829e-02, 8.64471118e-02],\n",
              "       [7.74203342e-03, 2.79667455e-04, 9.88755138e-01, 1.67172766e-03,\n",
              "        4.88633694e-06, 1.54654682e-03],\n",
              "       [1.80576002e-04, 6.48148601e-04, 5.48626139e-03, 1.37735012e-04,\n",
              "        1.53144440e-02, 9.78232835e-01],\n",
              "       [1.34212074e-04, 1.04157470e-03, 9.87697503e-01, 1.09046388e-02,\n",
              "        5.58575226e-06, 2.16485231e-04],\n",
              "       [2.04051835e-05, 3.39545333e-04, 9.17838225e-01, 8.08868309e-02,\n",
              "        7.63473020e-05, 8.38646596e-04],\n",
              "       [1.01248488e-04, 9.95316796e-01, 1.91929349e-07, 4.47776940e-03,\n",
              "        4.49328929e-05, 5.90610508e-05],\n",
              "       [1.34388047e-04, 1.31477234e-04, 9.99718040e-01, 5.52866291e-07,\n",
              "        4.35757235e-06, 1.11846660e-05],\n",
              "       [3.81908530e-05, 9.90454542e-01, 9.02515969e-03, 5.42531125e-06,\n",
              "        1.47975847e-08, 4.76666897e-04],\n",
              "       [1.58239901e-04, 3.21215353e-04, 9.98260768e-01, 1.20215694e-03,\n",
              "        4.55385742e-05, 1.20815404e-05],\n",
              "       [3.52063223e-01, 4.33777589e-05, 6.44413836e-01, 2.54686556e-03,\n",
              "        8.68053633e-04, 6.46445693e-05],\n",
              "       [6.17798458e-01, 3.38374461e-05, 3.77566311e-01, 4.01689595e-07,\n",
              "        1.01591827e-05, 4.59083271e-03],\n",
              "       [3.22357256e-06, 1.58518165e-05, 6.67548231e-09, 9.99764676e-01,\n",
              "        5.61724610e-06, 2.10624780e-04],\n",
              "       [7.71288047e-01, 7.35268551e-04, 2.19899805e-01, 6.00651996e-06,\n",
              "        7.81458182e-03, 2.56291454e-04],\n",
              "       [1.61647005e-03, 1.29356861e-03, 9.96666542e-01, 2.88400128e-04,\n",
              "        1.32792797e-04, 2.22639338e-06],\n",
              "       [3.71890659e-02, 1.46707802e-06, 1.51965294e-04, 3.89391540e-01,\n",
              "        5.73263097e-01, 2.86476383e-06],\n",
              "       [1.15420203e-03, 1.36436626e-03, 3.68106902e-01, 6.28971844e-01,\n",
              "        4.13340931e-05, 3.61351435e-04],\n",
              "       [1.44051671e-01, 1.38858721e-02, 1.37316995e-03, 1.36668147e-03,\n",
              "        1.87014299e-03, 8.37452463e-01],\n",
              "       [7.08803186e-04, 3.69356597e-03, 4.14536488e-01, 8.50349238e-04,\n",
              "        7.42186886e-03, 5.72788925e-01],\n",
              "       [1.96120541e-04, 9.97373838e-01, 8.30091171e-06, 7.49243256e-06,\n",
              "        1.88611092e-05, 2.39538672e-03],\n",
              "       [6.81452767e-04, 5.57223599e-05, 9.95757519e-01, 1.29551737e-03,\n",
              "        2.20816883e-03, 1.61989291e-06],\n",
              "       [9.58146969e-01, 4.50247025e-05, 4.07057736e-02, 3.41109419e-04,\n",
              "        7.85858619e-05, 6.82537529e-04],\n",
              "       [8.15849642e-01, 8.14440666e-04, 1.37992057e-01, 2.11768057e-02,\n",
              "        8.10623874e-07, 2.41662436e-02],\n",
              "       [8.17285255e-01, 1.12222691e-01, 7.66951930e-05, 6.89196164e-02,\n",
              "        3.30842120e-05, 1.46265779e-03],\n",
              "       [6.25596630e-06, 5.62381273e-04, 8.95330124e-01, 1.21880900e-03,\n",
              "        1.02708643e-01, 1.73786960e-04],\n",
              "       [4.94812581e-04, 1.09818947e-03, 9.75194964e-01, 9.17571864e-03,\n",
              "        5.72752318e-03, 8.30879176e-03],\n",
              "       [2.40642297e-01, 1.10313626e-04, 7.45487919e-01, 1.35644297e-02,\n",
              "        3.59887559e-05, 1.59052119e-04],\n",
              "       [3.41172541e-01, 1.55376028e-01, 1.49316970e-04, 5.01929637e-01,\n",
              "        7.98542303e-04, 5.73934169e-04],\n",
              "       [9.20879500e-01, 6.16394519e-03, 5.13310402e-03, 6.34297265e-03,\n",
              "        1.96726761e-04, 6.12837512e-02],\n",
              "       [6.78033710e-05, 6.67509024e-04, 9.99170053e-01, 1.28232467e-05,\n",
              "        2.61449283e-05, 5.56663528e-05],\n",
              "       [1.97062599e-03, 5.50992805e-05, 5.34136461e-01, 4.63806113e-01,\n",
              "        2.38974828e-05, 7.80401479e-06],\n",
              "       [3.86031816e-05, 7.12696124e-04, 8.23744206e-01, 6.98262867e-05,\n",
              "        1.73735179e-01, 1.69948994e-03],\n",
              "       [8.06690853e-01, 7.81076706e-05, 5.81118139e-03, 1.23021616e-01,\n",
              "        4.73989647e-03, 5.96583457e-02],\n",
              "       [5.72767849e-05, 5.70150100e-04, 9.98101581e-01, 1.20048419e-03,\n",
              "        3.63270846e-06, 6.68753842e-05],\n",
              "       [3.48602509e-05, 3.56204681e-04, 9.99389727e-01, 3.29426791e-05,\n",
              "        1.48071336e-04, 3.81935976e-05],\n",
              "       [1.15796156e-02, 9.21708898e-05, 9.52941210e-01, 3.46511682e-02,\n",
              "        1.22811446e-04, 6.13024279e-04],\n",
              "       [2.77484328e-05, 5.74833624e-04, 9.42099350e-01, 5.69339031e-02,\n",
              "        1.60558638e-04, 2.03605744e-04],\n",
              "       [2.73579463e-02, 5.86202141e-04, 5.44271144e-02, 7.69816423e-01,\n",
              "        6.21614300e-04, 1.47190699e-01],\n",
              "       [5.03410911e-05, 1.73142078e-04, 1.00387854e-02, 5.52069268e-04,\n",
              "        1.74214677e-03, 9.87443515e-01],\n",
              "       [8.33975401e-05, 4.47917025e-04, 9.98076486e-01, 1.08489697e-03,\n",
              "        3.03033691e-04, 4.26926138e-06],\n",
              "       [2.53958014e-05, 1.11573863e-04, 9.99223860e-01, 5.60522670e-04,\n",
              "        3.13575054e-05, 4.72904567e-05],\n",
              "       [5.39643819e-05, 9.94510597e-05, 9.88276883e-01, 1.15625531e-02,\n",
              "        6.13545389e-06, 1.01342021e-06],\n",
              "       [1.66437431e-01, 3.86421807e-05, 1.03292809e-05, 2.64461850e-03,\n",
              "        7.70589907e-01, 6.02790719e-02],\n",
              "       [4.45920323e-01, 9.45342612e-06, 5.53886907e-01, 7.01814835e-05,\n",
              "        5.49726638e-06, 1.07637981e-04],\n",
              "       [1.40608418e-03, 5.97464718e-05, 6.96085978e-01, 8.20163845e-02,\n",
              "        4.76219931e-03, 2.15669607e-01],\n",
              "       [3.65037749e-03, 2.58512011e-04, 9.92266294e-01, 3.74191433e-03,\n",
              "        1.18988495e-05, 7.10029753e-05],\n",
              "       [8.34144821e-01, 3.74363848e-02, 3.01944379e-02, 4.95045096e-05,\n",
              "        9.34195264e-02, 4.75532550e-03],\n",
              "       [6.92854542e-04, 1.13974426e-03, 2.73264120e-01, 1.02160915e-04,\n",
              "        8.22911292e-04, 7.23978209e-01],\n",
              "       [5.09149983e-01, 1.92393908e-03, 3.51954471e-01, 1.33522941e-01,\n",
              "        3.08735779e-03, 3.61308738e-04],\n",
              "       [3.02243112e-02, 1.72019284e-04, 9.69088875e-01, 4.67741827e-06,\n",
              "        4.40244625e-05, 4.66092206e-04],\n",
              "       [5.28099528e-04, 1.00236722e-03, 2.09414108e-02, 9.73115053e-01,\n",
              "        6.95427532e-05, 4.34352702e-03],\n",
              "       [1.75236740e-04, 1.85542527e-04, 9.53320146e-01, 4.29846895e-02,\n",
              "        3.14741849e-03, 1.86966924e-04],\n",
              "       [9.68572057e-03, 1.12259488e-03, 1.17957521e-02, 9.47528314e-01,\n",
              "        4.06330733e-03, 2.58043113e-02],\n",
              "       [1.87513467e-03, 1.84111077e-05, 6.93965713e-05, 9.97047129e-01,\n",
              "        8.02152884e-04, 1.87775294e-04],\n",
              "       [1.28037658e-02, 9.09928482e-06, 9.06322430e-01, 4.39880440e-05,\n",
              "        2.24323499e-04, 8.05963933e-02],\n",
              "       [9.32835964e-03, 2.67612474e-04, 9.82968858e-01, 2.69884110e-06,\n",
              "        7.11166158e-03, 3.20809634e-04],\n",
              "       [5.70947158e-03, 6.04758890e-03, 9.87941571e-01, 2.57269250e-05,\n",
              "        6.72781986e-05, 2.08363705e-04],\n",
              "       [1.46553946e-04, 5.73196955e-05, 2.13991682e-02, 9.54691635e-01,\n",
              "        4.46757178e-05, 2.36606476e-02],\n",
              "       [1.19665465e-04, 1.62467496e-04, 9.99510752e-01, 1.43446165e-06,\n",
              "        1.73655590e-06, 2.03943729e-04],\n",
              "       [5.95547381e-02, 2.11854992e-03, 2.36631252e-05, 5.32514267e-05,\n",
              "        4.75560788e-02, 8.90693719e-01],\n",
              "       [1.56754511e-01, 1.07618495e-03, 2.54224161e-01, 2.65458439e-04,\n",
              "        1.20202282e-01, 4.67477402e-01],\n",
              "       [6.14259932e-06, 8.44313910e-05, 9.93261702e-01, 7.63442485e-04,\n",
              "        2.28391403e-03, 3.60036772e-03],\n",
              "       [1.70522761e-01, 1.38719709e-04, 8.28726596e-01, 3.36547220e-04,\n",
              "        3.78676361e-05, 2.37508075e-04],\n",
              "       [4.35686876e-04, 1.02361526e-04, 6.31596261e-03, 7.52137781e-06,\n",
              "        6.20502290e-02, 9.31088239e-01],\n",
              "       [5.18592287e-01, 3.12080512e-02, 2.02513192e-03, 4.39577321e-01,\n",
              "        7.28371475e-03, 1.31349406e-03],\n",
              "       [3.25217687e-03, 2.19166982e-02, 8.38155867e-01, 2.36712951e-02,\n",
              "        7.87829810e-02, 3.42209823e-02],\n",
              "       [9.14011571e-04, 9.01464937e-04, 2.81278454e-03, 4.54344850e-03,\n",
              "        9.90791156e-01, 3.71345653e-05],\n",
              "       [8.96031680e-03, 2.30789270e-03, 8.15797662e-01, 4.89462893e-03,\n",
              "        5.10750852e-04, 1.67528749e-01],\n",
              "       [3.66556219e-05, 1.55799067e-03, 3.00930221e-05, 4.58016967e-02,\n",
              "        1.02514691e-01, 8.50058873e-01],\n",
              "       [7.48043153e-04, 5.03477535e-03, 9.90381696e-01, 2.42299691e-03,\n",
              "        1.41151718e-03, 9.71418450e-07]])"
            ]
          },
          "metadata": {
            "tags": []
          },
          "execution_count": 34
        }
      ]
    },
    {
      "cell_type": "code",
      "metadata": {
        "colab": {
          "base_uri": "https://localhost:8080/"
        },
        "id": "BaERxOoz7A_e",
        "outputId": "08f85f41-7a58-4ae8-d8ca-597ce7f906d4"
      },
      "source": [
        "pos=[]\r\n",
        "large=[]\r\n",
        "ind = []\r\n",
        "i=0\r\n",
        "for j in pred_unlabel_2:\r\n",
        "  if max(j)> 0.98:\r\n",
        "    ind.append(np.argmax(j))\r\n",
        "    large.append(max(j))\r\n",
        "    pos.append(i)\r\n",
        "  i+=1\r\n",
        "\r\n",
        "\r\n",
        "print(ind)\r\n",
        "print(large)\r\n",
        "print(pos)\r\n",
        "print(len(ind))\r\n",
        "print(len(large))\r\n",
        "print(len(pos))"
      ],
      "execution_count": 35,
      "outputs": [
        {
          "output_type": "stream",
          "text": [
            "[2, 2, 2, 2, 2, 2, 2, 2, 2, 2, 2, 2, 2, 1, 2, 1, 2, 3, 2, 1, 2, 2, 2, 2, 5, 2, 2, 2, 2, 3, 2, 2, 2, 2, 4, 2]\n",
            "[0.9873405497057722, 0.998560626163031, 0.9827034031812859, 0.9911696208368082, 0.9928658267928504, 0.9988594013713826, 0.998197749276386, 0.9997882226723475, 0.9906703395163713, 0.9846079264506703, 0.9989437334134439, 0.9887551383007501, 0.9876975034522971, 0.995316796238503, 0.999718039614436, 0.9904545424545884, 0.9982607676891384, 0.9997646759097027, 0.9966665420138819, 0.9973738382902736, 0.9957575187749984, 0.9991700530769136, 0.9981015808316438, 0.9993897274550881, 0.9874435154037188, 0.998076485514705, 0.99922385970357, 0.9882768825768523, 0.9922662943430366, 0.9970471294758356, 0.9829688578390461, 0.987941570685464, 0.9995107522934077, 0.9932617017784631, 0.9907911558885182, 0.9903816959901347]\n",
            "[0, 2, 3, 4, 6, 7, 8, 12, 20, 21, 29, 32, 34, 36, 37, 38, 39, 42, 44, 49, 50, 59, 63, 64, 68, 69, 70, 71, 75, 83, 85, 86, 88, 91, 96, 99]\n",
            "36\n",
            "36\n",
            "36\n"
          ],
          "name": "stdout"
        }
      ]
    },
    {
      "cell_type": "code",
      "metadata": {
        "colab": {
          "base_uri": "https://localhost:8080/",
          "height": 196
        },
        "id": "jeL8hIho7Lai",
        "outputId": "a67280ea-6f88-40d6-b435-fd5f62a3ffd1"
      },
      "source": [
        "unlabel_2 = unlabel_2.loc[[0, 2, 3, 4, 6, 7, 8, 12, 20, 21, 29, 32, 34, 36, 37, 38, 39, 42, 44, 49, 50, 59, 63, 64, 68, 69, 70, 71, 75, 83, 85, 86, 88, 91, 96, 99 ],:]\r\n",
        "unlabel_2.head()"
      ],
      "execution_count": 36,
      "outputs": [
        {
          "output_type": "execute_result",
          "data": {
            "text/html": [
              "<div>\n",
              "<style scoped>\n",
              "    .dataframe tbody tr th:only-of-type {\n",
              "        vertical-align: middle;\n",
              "    }\n",
              "\n",
              "    .dataframe tbody tr th {\n",
              "        vertical-align: top;\n",
              "    }\n",
              "\n",
              "    .dataframe thead th {\n",
              "        text-align: right;\n",
              "    }\n",
              "</style>\n",
              "<table border=\"1\" class=\"dataframe\">\n",
              "  <thead>\n",
              "    <tr style=\"text-align: right;\">\n",
              "      <th></th>\n",
              "      <th>Unnamed: 0</th>\n",
              "      <th>Sentence</th>\n",
              "      <th>Target</th>\n",
              "    </tr>\n",
              "  </thead>\n",
              "  <tbody>\n",
              "    <tr>\n",
              "      <th>0</th>\n",
              "      <td>1207</td>\n",
              "      <td>examination occurred night middle may testifie...</td>\n",
              "      <td>Invalid</td>\n",
              "    </tr>\n",
              "    <tr>\n",
              "      <th>2</th>\n",
              "      <td>2072</td>\n",
              "      <td>appellant testify offer evidence behalf</td>\n",
              "      <td>Facts</td>\n",
              "    </tr>\n",
              "    <tr>\n",
              "      <th>3</th>\n",
              "      <td>517</td>\n",
              "      <td>56 uniform act regulating traffic highways gis...</td>\n",
              "      <td>Rule/Law/Holding</td>\n",
              "    </tr>\n",
              "    <tr>\n",
              "      <th>4</th>\n",
              "      <td>906</td>\n",
              "      <td>agreed accompany gave pawn ticket money reclai...</td>\n",
              "      <td>Facts</td>\n",
              "    </tr>\n",
              "    <tr>\n",
              "      <th>6</th>\n",
              "      <td>570</td>\n",
              "      <td>appellant performed work asked 7500 money ther...</td>\n",
              "      <td>Facts</td>\n",
              "    </tr>\n",
              "  </tbody>\n",
              "</table>\n",
              "</div>"
            ],
            "text/plain": [
              "   Unnamed: 0  ...            Target\n",
              "0        1207  ...           Invalid\n",
              "2        2072  ...             Facts\n",
              "3         517  ...  Rule/Law/Holding\n",
              "4         906  ...             Facts\n",
              "6         570  ...             Facts\n",
              "\n",
              "[5 rows x 3 columns]"
            ]
          },
          "metadata": {
            "tags": []
          },
          "execution_count": 36
        }
      ]
    },
    {
      "cell_type": "code",
      "metadata": {
        "colab": {
          "base_uri": "https://localhost:8080/"
        },
        "id": "KDwKtB1Z7Zc9",
        "outputId": "4464503f-9aae-4a71-9e2d-59cc820fdb2a"
      },
      "source": [
        "frame_2 = [train_1,unlabel_2]\r\n",
        "train_2 = pd.concat(frame_2)\r\n",
        "len(train_2)"
      ],
      "execution_count": 37,
      "outputs": [
        {
          "output_type": "execute_result",
          "data": {
            "text/plain": [
              "3027"
            ]
          },
          "metadata": {
            "tags": []
          },
          "execution_count": 37
        }
      ]
    },
    {
      "cell_type": "code",
      "metadata": {
        "colab": {
          "base_uri": "https://localhost:8080/"
        },
        "id": "TVQSV1BY7w1O",
        "outputId": "8cd46c81-7120-4c7a-87fa-fe3ad5ca41ad"
      },
      "source": [
        "x_train_2 = tfidf_vect.transform(train_2['Sentence'])\r\n",
        "X_train, x_val, Y_train, y_val = train_test_split(x_train_2,train_2['Target'],test_size=0.25,random_state=2)\r\n",
        "support = svm.LinearSVC()\r\n",
        "clf = support.fit(X_train, Y_train)\r\n",
        "calibrator = CalibratedClassifierCV(clf, cv='prefit')\r\n",
        "model_2=calibrator.fit(X_train, Y_train)\r\n",
        "pred_svm = model_2.predict(x_val)\r\n",
        "print('Accuracy %s' % accuracy_score(pred_svm,y_val))\r\n",
        "print(classification_report(y_val,pred_svm))"
      ],
      "execution_count": 45,
      "outputs": [
        {
          "output_type": "stream",
          "text": [
            "Accuracy 0.6803170409511229\n",
            "                  precision    recall  f1-score   support\n",
            "\n",
            "        Analysis       0.54      0.50      0.52       115\n",
            "      Conclusion       0.63      0.47      0.54        40\n",
            "           Facts       0.76      0.89      0.82       385\n",
            "         Invalid       0.55      0.49      0.52       136\n",
            "           Issue       0.65      0.42      0.52        40\n",
            "Rule/Law/Holding       0.54      0.32      0.40        41\n",
            "\n",
            "        accuracy                           0.68       757\n",
            "       macro avg       0.61      0.52      0.55       757\n",
            "    weighted avg       0.67      0.68      0.67       757\n",
            "\n"
          ],
          "name": "stdout"
        }
      ]
    },
    {
      "cell_type": "code",
      "metadata": {
        "colab": {
          "base_uri": "https://localhost:8080/"
        },
        "id": "sLaoOKMz_yfR",
        "outputId": "aff77e4a-05fd-4068-887b-b005ce2b4c0a"
      },
      "source": [
        "x_un3 = tfidf_vect.transform(unlabel_3['Sentence'])\r\n",
        "pred_unlabel_3 = model_2.predict_proba(x_un3)\r\n",
        "pred_unlabel_3"
      ],
      "execution_count": 46,
      "outputs": [
        {
          "output_type": "execute_result",
          "data": {
            "text/plain": [
              "array([[9.58422410e-01, 4.13340318e-02, 3.53740314e-06, 2.08736383e-04,\n",
              "        2.04973022e-05, 1.07875751e-05],\n",
              "       [5.32082362e-01, 2.20338334e-03, 1.16858829e-01, 3.48793909e-01,\n",
              "        5.40345256e-05, 7.48196452e-06],\n",
              "       [1.92764334e-05, 2.91484317e-05, 9.93027573e-01, 6.69573158e-03,\n",
              "        9.25811192e-05, 1.35689634e-04],\n",
              "       [3.61941922e-05, 2.32562381e-03, 9.94735670e-01, 2.73748771e-03,\n",
              "        3.81245640e-05, 1.26899894e-04],\n",
              "       [1.62066372e-04, 1.30258817e-04, 9.93698914e-01, 5.47675309e-03,\n",
              "        1.91015825e-05, 5.12906059e-04],\n",
              "       [2.03781792e-02, 2.79502341e-05, 2.00196794e-01, 7.63593812e-01,\n",
              "        1.57827434e-02, 2.05203907e-05],\n",
              "       [9.47746411e-04, 5.53963225e-04, 9.45358733e-01, 5.22760199e-02,\n",
              "        8.17090236e-04, 4.64469578e-05],\n",
              "       [2.55381675e-03, 5.26414559e-04, 9.96866123e-01, 3.07901974e-05,\n",
              "        1.58778060e-06, 2.12678995e-05],\n",
              "       [1.23858359e-03, 1.80587826e-04, 9.97793695e-01, 1.13870558e-05,\n",
              "        4.80172521e-07, 7.75266852e-04],\n",
              "       [1.83604134e-03, 5.50343697e-04, 1.18638249e-02, 9.81212001e-01,\n",
              "        5.64026980e-05, 4.48138632e-03],\n",
              "       [2.60295794e-01, 7.90275384e-05, 1.58135553e-05, 7.37644028e-01,\n",
              "        1.95830484e-03, 7.03216967e-06],\n",
              "       [9.79054168e-01, 5.12392109e-05, 6.38356152e-04, 1.52229283e-03,\n",
              "        2.59455420e-04, 1.84744885e-02],\n",
              "       [4.50040022e-06, 6.12882887e-04, 9.99080216e-01, 2.32033393e-05,\n",
              "        1.28345852e-04, 1.50851037e-04],\n",
              "       [9.77400209e-01, 1.52576714e-04, 4.23497533e-04, 3.13334459e-03,\n",
              "        5.74438401e-07, 1.88897977e-02],\n",
              "       [5.36017482e-03, 2.82281676e-03, 8.55771421e-01, 1.30508974e-01,\n",
              "        1.37200881e-04, 5.39941294e-03],\n",
              "       [1.78143650e-05, 4.87410313e-04, 1.21987379e-02, 9.87076936e-01,\n",
              "        1.31684518e-05, 2.05933313e-04],\n",
              "       [2.11733706e-02, 1.42573822e-02, 7.71215962e-01, 6.92428358e-02,\n",
              "        1.23880258e-01, 2.30190975e-04],\n",
              "       [1.59849765e-03, 5.92092428e-04, 9.67846125e-01, 2.99018227e-02,\n",
              "        3.05211487e-05, 3.09411292e-05],\n",
              "       [3.44495800e-05, 3.98635126e-03, 9.90624895e-01, 4.55259653e-03,\n",
              "        5.59302835e-05, 7.45777828e-04],\n",
              "       [2.13727257e-02, 8.43145467e-04, 9.53592019e-01, 2.40622275e-02,\n",
              "        9.29374516e-05, 3.69445746e-05],\n",
              "       [6.59233004e-06, 2.43686085e-04, 9.99577233e-01, 4.32894391e-05,\n",
              "        2.47020312e-05, 1.04496667e-04],\n",
              "       [3.05614636e-04, 9.17749556e-01, 8.10137732e-02, 7.84128079e-04,\n",
              "        3.09741575e-08, 1.46897195e-04],\n",
              "       [1.60568348e-02, 2.23330293e-04, 9.08702515e-01, 3.39116721e-02,\n",
              "        9.87680939e-05, 4.10068796e-02],\n",
              "       [6.18027434e-04, 3.88341266e-01, 4.70361827e-03, 6.06164647e-01,\n",
              "        1.57609993e-04, 1.48318462e-05],\n",
              "       [1.64775218e-05, 8.04296754e-04, 9.11049032e-01, 8.75558323e-02,\n",
              "        5.50150396e-04, 2.42109574e-05],\n",
              "       [7.33851582e-06, 5.17737624e-05, 4.11594138e-01, 5.88120545e-01,\n",
              "        1.29841101e-04, 9.63641592e-05],\n",
              "       [5.95196084e-04, 6.98947164e-04, 9.97812975e-01, 6.95017649e-04,\n",
              "        1.16847328e-04, 8.10164382e-05],\n",
              "       [3.99469199e-04, 1.66082477e-04, 9.99353087e-01, 6.73630821e-06,\n",
              "        1.03253628e-05, 6.42995646e-05],\n",
              "       [1.39529462e-02, 6.64600080e-04, 8.91337644e-02, 1.69457510e-03,\n",
              "        1.06549430e-02, 8.83899171e-01],\n",
              "       [3.32040282e-04, 1.81658852e-04, 9.90736548e-01, 7.85433995e-03,\n",
              "        7.66620923e-04, 1.28791637e-04],\n",
              "       [4.82314079e-04, 1.51407049e-04, 9.97864267e-01, 2.90171388e-04,\n",
              "        1.16588118e-03, 4.59595383e-05],\n",
              "       [7.18577844e-05, 7.66552676e-02, 7.28504603e-01, 1.93574694e-01,\n",
              "        1.19123517e-03, 2.34257979e-06],\n",
              "       [2.39473849e-04, 1.22259545e-03, 2.84324939e-02, 9.69373895e-01,\n",
              "        8.80408241e-05, 6.43501011e-04],\n",
              "       [1.51212316e-01, 2.08027461e-05, 8.34331641e-01, 6.13116290e-07,\n",
              "        1.29891537e-02, 1.44547291e-03],\n",
              "       [4.87560426e-05, 4.07114158e-03, 9.92870812e-01, 2.92576148e-03,\n",
              "        7.80990584e-05, 5.42982050e-06],\n",
              "       [2.93745670e-04, 3.87721466e-06, 9.99157743e-01, 9.10833752e-05,\n",
              "        4.47945539e-04, 5.60471007e-06],\n",
              "       [6.59527726e-06, 1.89490089e-04, 9.93222114e-01, 6.48733825e-03,\n",
              "        8.98333959e-05, 4.62939109e-06],\n",
              "       [3.42048407e-01, 8.05364481e-04, 6.13762796e-01, 5.71970186e-05,\n",
              "        4.33246455e-02, 1.59074837e-06],\n",
              "       [5.50414402e-03, 6.84223706e-04, 2.03965298e-01, 7.61544118e-01,\n",
              "        2.82675081e-02, 3.47085528e-05],\n",
              "       [1.13493699e-03, 1.54223223e-01, 8.43604558e-01, 1.60026220e-04,\n",
              "        8.63926345e-05, 7.90862508e-04],\n",
              "       [1.42378394e-04, 2.06444176e-04, 9.86398943e-01, 1.30828370e-02,\n",
              "        3.61136376e-06, 1.65786216e-04],\n",
              "       [1.52265922e-06, 1.96090598e-05, 8.31109478e-01, 1.67280484e-01,\n",
              "        8.61542930e-04, 7.27363372e-04],\n",
              "       [9.45001099e-03, 4.55524573e-04, 9.65980146e-01, 2.40140931e-02,\n",
              "        9.35114540e-05, 6.71431654e-06],\n",
              "       [5.85530009e-04, 1.16576156e-04, 9.98397070e-01, 8.03357308e-04,\n",
              "        1.03423577e-05, 8.71238678e-05],\n",
              "       [1.81681941e-02, 3.17954708e-04, 2.52767244e-02, 9.56231910e-01,\n",
              "        1.11268039e-06, 4.10438504e-06],\n",
              "       [2.69419414e-02, 9.41811798e-01, 2.31952628e-05, 1.29312893e-03,\n",
              "        2.99254962e-02, 4.43976737e-06],\n",
              "       [4.79788927e-05, 6.95714658e-05, 9.98434746e-01, 1.42554489e-05,\n",
              "        1.43337381e-03, 7.42553240e-08],\n",
              "       [3.11536623e-04, 1.06078197e-03, 9.95798298e-01, 2.65616439e-03,\n",
              "        4.48545175e-05, 1.28364239e-04],\n",
              "       [2.33215782e-04, 4.13989682e-04, 9.98845031e-01, 3.41207634e-04,\n",
              "        2.66859925e-05, 1.39869479e-04],\n",
              "       [1.55214772e-04, 8.23059931e-04, 9.92417152e-01, 5.90565847e-03,\n",
              "        5.44344942e-06, 6.93471389e-04],\n",
              "       [2.76277845e-03, 4.14223017e-04, 9.41453467e-01, 5.46957030e-02,\n",
              "        1.65417792e-05, 6.57286893e-04],\n",
              "       [1.13880156e-03, 1.08422125e-04, 9.98135059e-01, 4.34858238e-04,\n",
              "        1.81780095e-04, 1.07848817e-06],\n",
              "       [3.54864888e-04, 6.91148604e-05, 9.90204094e-01, 2.01666650e-03,\n",
              "        7.34724555e-03, 8.01395826e-06],\n",
              "       [3.14922384e-03, 9.96640754e-01, 8.49630559e-06, 2.20473274e-07,\n",
              "        3.08601760e-05, 1.70445038e-04],\n",
              "       [1.27701667e-06, 2.00259091e-03, 1.17969120e-04, 9.97838653e-01,\n",
              "        2.09409409e-05, 1.85685775e-05],\n",
              "       [9.40338465e-01, 5.33530184e-05, 1.10970452e-03, 5.49027321e-02,\n",
              "        9.26007519e-06, 3.58648573e-03],\n",
              "       [1.17541113e-04, 9.99500091e-01, 2.82922340e-04, 1.01414172e-05,\n",
              "        8.79069978e-05, 1.39672989e-06],\n",
              "       [2.72732516e-02, 4.38918807e-04, 9.71959574e-01, 7.52709080e-05,\n",
              "        2.37441196e-05, 2.29240237e-04],\n",
              "       [2.51336650e-03, 1.30448840e-04, 2.98487101e-01, 4.80475438e-05,\n",
              "        8.58073753e-04, 6.97962962e-01],\n",
              "       [2.49507916e-07, 1.86438639e-04, 4.59257959e-01, 5.38378162e-01,\n",
              "        2.17514570e-03, 2.04512030e-06],\n",
              "       [2.79354303e-09, 2.38738062e-03, 2.84467695e-01, 8.98508002e-04,\n",
              "        7.12245814e-01, 5.99151118e-07],\n",
              "       [7.17302519e-03, 1.83808171e-01, 5.30718878e-01, 3.21291588e-02,\n",
              "        3.35577115e-06, 2.46167412e-01],\n",
              "       [5.63000791e-05, 2.68865405e-04, 7.51401359e-01, 6.06421056e-05,\n",
              "        5.82469345e-02, 1.89965898e-01],\n",
              "       [1.21664344e-04, 7.20506782e-05, 9.99666755e-01, 1.21744306e-05,\n",
              "        1.08297741e-04, 1.90575203e-05],\n",
              "       [7.98223236e-03, 3.33300597e-04, 9.90581185e-01, 2.21309294e-04,\n",
              "        6.41680087e-04, 2.40292921e-04],\n",
              "       [1.13063939e-04, 2.02932739e-04, 9.99627730e-01, 1.91593147e-06,\n",
              "        4.11215033e-05, 1.32356758e-05],\n",
              "       [1.04897170e-03, 3.83096673e-04, 9.97923855e-01, 6.25196441e-04,\n",
              "        3.72113818e-06, 1.51590060e-05],\n",
              "       [1.14391846e-04, 7.07277295e-05, 9.93983158e-01, 3.33465174e-04,\n",
              "        5.00884053e-03, 4.89416350e-04],\n",
              "       [6.27139166e-05, 5.75260570e-04, 9.99242117e-01, 3.33975231e-06,\n",
              "        6.66030714e-06, 1.09908203e-04],\n",
              "       [2.03131800e-03, 2.58664271e-04, 9.61251686e-01, 2.89136979e-03,\n",
              "        2.45410324e-04, 3.33215520e-02],\n",
              "       [1.59462807e-04, 1.77611147e-04, 9.97632905e-01, 1.80788452e-03,\n",
              "        2.21325932e-04, 8.10670310e-07],\n",
              "       [5.74014937e-04, 7.25931677e-04, 9.50189978e-01, 4.84384406e-02,\n",
              "        4.37898035e-05, 2.78446870e-05],\n",
              "       [9.20114781e-04, 1.81756117e-04, 9.98737468e-01, 8.18991961e-05,\n",
              "        2.30002685e-05, 5.57611650e-05],\n",
              "       [4.53247522e-03, 2.17343303e-04, 9.85725146e-01, 9.48272729e-03,\n",
              "        2.43312871e-05, 1.79767169e-05],\n",
              "       [1.11192344e-01, 4.52187229e-04, 8.76784275e-01, 1.13137032e-02,\n",
              "        2.02370058e-06, 2.55466526e-04],\n",
              "       [2.52273075e-04, 4.91873405e-04, 9.97770234e-01, 1.00840159e-03,\n",
              "        4.76301367e-04, 9.16115032e-07],\n",
              "       [1.46344501e-06, 1.09560238e-03, 2.01483896e-05, 4.79216479e-01,\n",
              "        5.19663078e-01, 3.22905077e-06],\n",
              "       [5.39678401e-01, 2.95526417e-01, 6.60419796e-02, 3.50422871e-02,\n",
              "        4.23362273e-02, 2.13746873e-02],\n",
              "       [1.17194392e-02, 6.08180371e-05, 9.88071812e-01, 2.50128041e-05,\n",
              "        3.34764707e-05, 8.94414553e-05],\n",
              "       [1.02226217e-03, 1.25496122e-03, 9.97599160e-01, 2.83696323e-05,\n",
              "        4.70321738e-05, 4.82147652e-05],\n",
              "       [1.86522026e-04, 3.56325193e-02, 9.42962611e-01, 2.08609408e-02,\n",
              "        1.45787915e-05, 3.42828397e-04],\n",
              "       [4.38039063e-01, 2.45505017e-02, 3.59426881e-02, 4.99753909e-01,\n",
              "        1.43994011e-03, 2.73897473e-04],\n",
              "       [1.12395632e-01, 4.23329527e-05, 2.53032411e-06, 8.86554452e-01,\n",
              "        2.42005644e-04, 7.63047086e-04],\n",
              "       [7.76977726e-01, 5.70994539e-04, 2.06924274e-02, 2.01525331e-01,\n",
              "        8.06615934e-06, 2.25454876e-04],\n",
              "       [4.36904579e-01, 8.56334116e-05, 1.09857828e-04, 5.61649453e-01,\n",
              "        1.23813888e-03, 1.23374849e-05],\n",
              "       [8.31941309e-01, 1.32942124e-03, 3.86099489e-06, 1.65579931e-01,\n",
              "        9.79990456e-04, 1.65486635e-04],\n",
              "       [1.29463479e-03, 9.71983519e-02, 5.18527187e-01, 3.79931556e-01,\n",
              "        3.04749773e-03, 7.72214487e-07],\n",
              "       [3.62677661e-03, 3.13020684e-04, 9.89518501e-01, 7.35174781e-04,\n",
              "        5.79867625e-03, 7.85114719e-06],\n",
              "       [5.49270162e-04, 1.77859226e-03, 9.20474204e-01, 7.70728594e-02,\n",
              "        1.03343556e-04, 2.17305465e-05],\n",
              "       [7.16864488e-04, 2.03211355e-04, 9.99064652e-01, 8.31344920e-06,\n",
              "        5.34770603e-06, 1.61097319e-06],\n",
              "       [2.14969275e-05, 7.06398814e-05, 2.16128893e-03, 2.00498886e-04,\n",
              "        9.97541882e-01, 4.19379260e-06],\n",
              "       [1.10325190e-02, 1.30889163e-05, 9.88773549e-01, 1.11403128e-04,\n",
              "        2.51939433e-05, 4.42459030e-05],\n",
              "       [9.92023421e-01, 1.52886448e-05, 3.53930971e-03, 3.59455716e-03,\n",
              "        7.83047595e-04, 4.43759072e-05],\n",
              "       [7.69035394e-01, 4.22779821e-04, 2.24559448e-01, 4.97840801e-06,\n",
              "        4.19218595e-03, 1.78521367e-03],\n",
              "       [1.04303957e-01, 2.50421681e-04, 6.96287416e-01, 1.96451277e-01,\n",
              "        3.21037038e-05, 2.67482534e-03],\n",
              "       [8.71640266e-01, 3.24282411e-04, 1.27403846e-01, 5.66266779e-05,\n",
              "        6.89058919e-05, 5.06073254e-04],\n",
              "       [3.78049841e-06, 2.83670469e-04, 9.92397570e-01, 6.80117814e-03,\n",
              "        5.10070491e-04, 3.73018606e-06],\n",
              "       [1.85279875e-03, 6.67194472e-04, 9.82525187e-01, 6.39932756e-05,\n",
              "        1.48544003e-02, 3.64260255e-05],\n",
              "       [8.30312152e-02, 2.11230749e-01, 5.72745239e-01, 2.49515489e-02,\n",
              "        1.06975737e-01, 1.06551135e-03],\n",
              "       [7.71903175e-01, 3.22332790e-03, 2.71112741e-03, 4.28421481e-03,\n",
              "        7.98451009e-05, 2.17798310e-01]])"
            ]
          },
          "metadata": {
            "tags": []
          },
          "execution_count": 46
        }
      ]
    },
    {
      "cell_type": "code",
      "metadata": {
        "colab": {
          "base_uri": "https://localhost:8080/"
        },
        "id": "B8-Oyzf__466",
        "outputId": "1b06517a-2cbb-4a25-a5ec-f0e1e6f1f86f"
      },
      "source": [
        "pos=[]\r\n",
        "large=[]\r\n",
        "ind = []\r\n",
        "i=0\r\n",
        "for j in pred_unlabel_3:\r\n",
        "  if max(j)> 0.98:\r\n",
        "    ind.append(np.argmax(j))\r\n",
        "    large.append(max(j))\r\n",
        "    pos.append(i)\r\n",
        "  i+=1\r\n",
        "\r\n",
        "\r\n",
        "print(ind)\r\n",
        "print(large)\r\n",
        "print(pos)\r\n",
        "print(len(ind))\r\n",
        "print(len(large))\r\n",
        "print(len(pos))"
      ],
      "execution_count": 47,
      "outputs": [
        {
          "output_type": "stream",
          "text": [
            "[2, 2, 2, 2, 2, 3, 2, 3, 2, 2, 2, 2, 2, 2, 2, 2, 2, 2, 2, 2, 2, 2, 2, 2, 2, 1, 3, 1, 2, 2, 2, 2, 2, 2, 2, 2, 2, 2, 2, 2, 2, 2, 4, 2, 0, 2, 2]\n",
            "[0.9930275727990354, 0.9947356698274391, 0.9936989140746526, 0.9968661228116026, 0.9977936945013316, 0.9812120010817951, 0.9990802164846375, 0.9870769356407149, 0.9906248945188626, 0.9995772334481631, 0.997812975335988, 0.9993530870885573, 0.9907365483564019, 0.9978642667615891, 0.9928708120098781, 0.9991577434907032, 0.9932221136005938, 0.9863989428709641, 0.998397070302069, 0.9984347461228904, 0.9957982982551646, 0.9988450314299517, 0.9924171519856929, 0.9981350594938138, 0.9902040942481136, 0.9966407541628297, 0.9978386534332022, 0.9995000914014914, 0.9996667552853625, 0.9905811847362126, 0.9996277302118475, 0.9979238550443501, 0.993983158372029, 0.9992421172514936, 0.997632904920351, 0.9987374684729201, 0.9857251461869773, 0.9977702344461576, 0.9880718119862245, 0.9975991600391366, 0.989518500528339, 0.9990646520285288, 0.9975418815877415, 0.9887735491347597, 0.9920234209767923, 0.9923975702147196, 0.9825251871639487]\n",
            "[2, 3, 4, 7, 8, 9, 12, 15, 18, 20, 26, 27, 29, 30, 34, 35, 36, 40, 43, 46, 47, 48, 49, 51, 52, 53, 54, 56, 63, 64, 65, 66, 67, 68, 70, 72, 73, 75, 78, 79, 87, 89, 90, 91, 92, 96, 97]\n",
            "47\n",
            "47\n",
            "47\n"
          ],
          "name": "stdout"
        }
      ]
    },
    {
      "cell_type": "code",
      "metadata": {
        "colab": {
          "base_uri": "https://localhost:8080/",
          "height": 196
        },
        "id": "vE2nIrqbABX5",
        "outputId": "32c8c608-78f6-45f4-f994-02c6ace06e2f"
      },
      "source": [
        "unlabel_3 = unlabel_3.loc[[2, 3, 4, 7, 8, 9, 12, 15, 18, 20, 26, 27, 29, 30, 34, 35, 36, 40, 43, 46, 47, 48, 49, 51, 52, 53, 54, 56, 63, 64, 65, 66, 67, 68, 70, 72, 73, 75, 78, 79, 87, 89, 90, 91, 92, 96, 97],:]\r\n",
        "unlabel_3.head()"
      ],
      "execution_count": 48,
      "outputs": [
        {
          "output_type": "execute_result",
          "data": {
            "text/html": [
              "<div>\n",
              "<style scoped>\n",
              "    .dataframe tbody tr th:only-of-type {\n",
              "        vertical-align: middle;\n",
              "    }\n",
              "\n",
              "    .dataframe tbody tr th {\n",
              "        vertical-align: top;\n",
              "    }\n",
              "\n",
              "    .dataframe thead th {\n",
              "        text-align: right;\n",
              "    }\n",
              "</style>\n",
              "<table border=\"1\" class=\"dataframe\">\n",
              "  <thead>\n",
              "    <tr style=\"text-align: right;\">\n",
              "      <th></th>\n",
              "      <th>Unnamed: 0</th>\n",
              "      <th>Sentence</th>\n",
              "      <th>Target</th>\n",
              "    </tr>\n",
              "  </thead>\n",
              "  <tbody>\n",
              "    <tr>\n",
              "      <th>2</th>\n",
              "      <td>1417</td>\n",
              "      <td>certification attending physician shown filed ...</td>\n",
              "      <td>Facts</td>\n",
              "    </tr>\n",
              "    <tr>\n",
              "      <th>3</th>\n",
              "      <td>2932</td>\n",
              "      <td>testified agent bland first left automobile wa...</td>\n",
              "      <td>Facts</td>\n",
              "    </tr>\n",
              "    <tr>\n",
              "      <th>4</th>\n",
              "      <td>1584</td>\n",
              "      <td>officer testified could smell odor alcohol app...</td>\n",
              "      <td>Facts</td>\n",
              "    </tr>\n",
              "    <tr>\n",
              "      <th>7</th>\n",
              "      <td>2115</td>\n",
              "      <td>told get back bed said floor cool sick stomach...</td>\n",
              "      <td>Facts</td>\n",
              "    </tr>\n",
              "    <tr>\n",
              "      <th>8</th>\n",
              "      <td>1278</td>\n",
              "      <td>testified first time would come bed week altho...</td>\n",
              "      <td>Facts</td>\n",
              "    </tr>\n",
              "  </tbody>\n",
              "</table>\n",
              "</div>"
            ],
            "text/plain": [
              "   Unnamed: 0                                           Sentence Target\n",
              "2        1417  certification attending physician shown filed ...  Facts\n",
              "3        2932  testified agent bland first left automobile wa...  Facts\n",
              "4        1584  officer testified could smell odor alcohol app...  Facts\n",
              "7        2115  told get back bed said floor cool sick stomach...  Facts\n",
              "8        1278  testified first time would come bed week altho...  Facts"
            ]
          },
          "metadata": {
            "tags": []
          },
          "execution_count": 48
        }
      ]
    },
    {
      "cell_type": "code",
      "metadata": {
        "colab": {
          "base_uri": "https://localhost:8080/"
        },
        "id": "ptee1-7rAR1w",
        "outputId": "7264f7e7-216b-4a46-8273-b60e4a4ec15e"
      },
      "source": [
        "frame_3 = [train_2,unlabel_3]\r\n",
        "train_3 = pd.concat(frame_3)\r\n",
        "len(train_3)\r\n",
        "x_train_3 = tfidf_vect.transform(train_3['Sentence'])\r\n",
        "X_train, x_val, Y_train, y_val = train_test_split(x_train_3,train_3['Target'],test_size=0.3,random_state=42)\r\n",
        "support = svm.LinearSVC()\r\n",
        "clf = support.fit(X_train, Y_train)\r\n",
        "calibrator = CalibratedClassifierCV(clf, cv='prefit')\r\n",
        "model_3=calibrator.fit(X_train, Y_train)\r\n",
        "pred_svm = model_3.predict(x_val)\r\n",
        "print('Accuracy %s' % accuracy_score(pred_svm,y_val))\r\n",
        "print(classification_report(y_val,pred_svm))"
      ],
      "execution_count": 57,
      "outputs": [
        {
          "output_type": "stream",
          "text": [
            "Accuracy 0.6717226435536294\n",
            "                  precision    recall  f1-score   support\n",
            "\n",
            "        Analysis       0.47      0.44      0.46       125\n",
            "      Conclusion       0.78      0.51      0.62        55\n",
            "           Facts       0.78      0.89      0.83       499\n",
            "         Invalid       0.50      0.43      0.46       144\n",
            "           Issue       0.47      0.43      0.45        46\n",
            "Rule/Law/Holding       0.34      0.19      0.24        54\n",
            "\n",
            "        accuracy                           0.67       923\n",
            "       macro avg       0.56      0.48      0.51       923\n",
            "    weighted avg       0.65      0.67      0.66       923\n",
            "\n"
          ],
          "name": "stdout"
        }
      ]
    },
    {
      "cell_type": "code",
      "metadata": {
        "colab": {
          "base_uri": "https://localhost:8080/"
        },
        "id": "Ejc_-E7vGFnf",
        "outputId": "7226d5a3-8554-4b17-a138-9828ee51cd38"
      },
      "source": [
        "x_un4 = tfidf_vect.transform(unlabel_4['Sentence'])\r\n",
        "pred_unlabel_4 = model_3.predict_proba(x_un4)\r\n",
        "pred_unlabel_4"
      ],
      "execution_count": 58,
      "outputs": [
        {
          "output_type": "execute_result",
          "data": {
            "text/plain": [
              "array([[1.29469578e-04, 4.18861869e-04, 8.13557843e-04, 9.85213072e-01,\n",
              "        1.05467942e-03, 1.23703596e-02],\n",
              "       [1.08198931e-02, 9.88125594e-03, 2.03661198e-01, 6.89042075e-01,\n",
              "        8.64497776e-02, 1.45800280e-04],\n",
              "       [9.96320109e-01, 3.17454329e-03, 2.23140855e-04, 5.38114329e-07,\n",
              "        2.46781647e-04, 3.48868669e-05],\n",
              "       [1.07134864e-03, 4.81388228e-03, 7.25796985e-05, 9.92562905e-01,\n",
              "        1.03256993e-04, 1.37602779e-03],\n",
              "       [3.63293367e-06, 1.94456537e-03, 9.96148268e-01, 1.67797023e-03,\n",
              "        2.07289783e-04, 1.82733620e-05],\n",
              "       [3.37047389e-03, 1.66459218e-03, 1.95164794e-03, 1.00285329e-03,\n",
              "        7.21001810e-01, 2.71008623e-01],\n",
              "       [8.19646790e-05, 1.44270378e-04, 8.17196642e-06, 4.76616113e-03,\n",
              "        6.00503826e-02, 9.34949049e-01],\n",
              "       [1.15349464e-05, 2.06565485e-03, 9.97829933e-01, 7.73917568e-05,\n",
              "        2.82775740e-06, 1.26577024e-05],\n",
              "       [1.56908408e-05, 1.18274068e-04, 9.95974844e-01, 3.74753110e-03,\n",
              "        8.94926872e-05, 5.41672066e-05],\n",
              "       [6.70466077e-02, 2.32870643e-04, 9.30225827e-01, 2.34989622e-03,\n",
              "        3.54731053e-05, 1.09325482e-04],\n",
              "       [3.57341083e-07, 2.23482348e-04, 9.98317560e-01, 1.97868276e-06,\n",
              "        1.45237872e-03, 4.24308654e-06],\n",
              "       [1.96366181e-06, 2.11975026e-04, 9.84078888e-01, 1.46023865e-02,\n",
              "        1.09648478e-03, 8.30212389e-06],\n",
              "       [1.01644832e-02, 3.90000613e-03, 9.12118872e-01, 4.66522643e-04,\n",
              "        7.27221923e-02, 6.27924110e-04],\n",
              "       [2.79051925e-03, 1.21764742e-04, 1.09708133e-05, 7.30575145e-01,\n",
              "        5.83271979e-04, 2.65918328e-01],\n",
              "       [1.03724577e-01, 1.78558842e-02, 8.76781587e-01, 1.18218094e-03,\n",
              "        2.22104786e-05, 4.33560130e-04],\n",
              "       [3.15962094e-07, 5.44400571e-04, 9.81078933e-01, 1.80217188e-02,\n",
              "        3.16578136e-04, 3.80537253e-05],\n",
              "       [4.06976240e-04, 6.35699695e-03, 9.67717435e-01, 2.52076965e-02,\n",
              "        8.81687949e-06, 3.02078364e-04],\n",
              "       [1.11310589e-01, 1.05553912e-03, 8.01642942e-01, 6.54963404e-04,\n",
              "        3.14676407e-04, 8.50212901e-02],\n",
              "       [1.31425397e-04, 3.03025085e-04, 9.98794539e-01, 2.61913908e-05,\n",
              "        1.58570783e-04, 5.86248496e-04],\n",
              "       [1.11945136e-03, 8.67934347e-03, 1.07291985e-01, 6.77371201e-04,\n",
              "        8.82147702e-01, 8.41465023e-05],\n",
              "       [8.92386475e-03, 1.57722063e-04, 4.13726113e-04, 9.90161849e-01,\n",
              "        1.40746473e-04, 2.02092079e-04],\n",
              "       [3.85490779e-05, 4.98716728e-05, 9.83022101e-01, 1.68534192e-02,\n",
              "        1.24856791e-06, 3.48108691e-05],\n",
              "       [9.88518888e-05, 7.34769462e-04, 9.97479873e-01, 9.16647435e-04,\n",
              "        6.20003800e-04, 1.49854461e-04],\n",
              "       [2.32764648e-03, 1.84729505e-04, 1.53619333e-01, 8.43847806e-01,\n",
              "        1.71795417e-05, 3.30547825e-06],\n",
              "       [2.24328745e-01, 1.74325277e-03, 5.53700981e-04, 7.72492053e-01,\n",
              "        2.47224790e-05, 8.57525880e-04],\n",
              "       [7.53943494e-01, 7.99017929e-03, 1.98775863e-01, 1.26054277e-02,\n",
              "        2.16119987e-02, 5.07303723e-03],\n",
              "       [6.63144285e-04, 1.15445159e-03, 9.24756379e-01, 1.00589036e-03,\n",
              "        2.04960977e-04, 7.22151735e-02],\n",
              "       [1.13947126e-04, 3.29161732e-04, 9.98488629e-01, 1.00022195e-03,\n",
              "        3.32032050e-05, 3.48371494e-05],\n",
              "       [1.23165667e-03, 6.85329838e-04, 9.97912089e-01, 6.68631810e-05,\n",
              "        1.12793447e-05, 9.27822015e-05],\n",
              "       [1.05295837e-04, 1.84494334e-04, 9.99548054e-01, 2.27530381e-05,\n",
              "        9.23510106e-05, 4.70513149e-05],\n",
              "       [2.71918192e-04, 3.94709061e-03, 9.93255179e-01, 2.35404210e-03,\n",
              "        1.60051069e-04, 1.17192594e-05],\n",
              "       [5.69993280e-06, 3.44862190e-04, 9.99194867e-01, 2.39282352e-04,\n",
              "        2.12075785e-04, 3.21295462e-06],\n",
              "       [4.46098408e-05, 2.73204766e-05, 2.40756911e-07, 9.99875450e-01,\n",
              "        4.96740737e-06, 4.74119224e-05],\n",
              "       [1.60818229e-02, 4.80820649e-02, 1.80497775e-02, 5.99523158e-03,\n",
              "        5.37456190e-05, 9.11737358e-01],\n",
              "       [5.08854941e-04, 3.91994276e-04, 9.98797505e-01, 6.49328374e-07,\n",
              "        2.74911034e-04, 2.60857263e-05],\n",
              "       [3.96643245e-06, 7.11238492e-05, 9.52227621e-01, 4.76541824e-02,\n",
              "        1.44522384e-05, 2.86539148e-05],\n",
              "       [2.83459548e-04, 3.12212686e-03, 8.64623199e-03, 2.10356606e-03,\n",
              "        2.94475156e-04, 9.85550140e-01],\n",
              "       [3.71798631e-06, 2.79218923e-03, 9.96972441e-01, 1.42327717e-04,\n",
              "        3.22310475e-05, 5.70927952e-05],\n",
              "       [1.05082235e-03, 2.47659987e-04, 9.83040006e-01, 1.50403480e-02,\n",
              "        5.93523415e-04, 2.76397130e-05],\n",
              "       [2.68341281e-04, 4.05954245e-04, 9.94836766e-01, 1.81977453e-03,\n",
              "        2.41133125e-03, 2.57833194e-04],\n",
              "       [3.70705548e-05, 8.38508240e-04, 9.98566706e-01, 1.33208157e-04,\n",
              "        4.89811015e-06, 4.19609079e-04],\n",
              "       [1.65036176e-05, 1.98440609e-02, 6.73018149e-02, 9.12065686e-01,\n",
              "        1.11215483e-04, 6.60719477e-04],\n",
              "       [4.93430232e-03, 1.93047984e-05, 9.90792542e-01, 4.07760252e-03,\n",
              "        2.90948122e-05, 1.47153543e-04],\n",
              "       [7.98713222e-01, 2.72429319e-04, 2.22128972e-03, 1.98489392e-01,\n",
              "        2.58808996e-04, 4.48583014e-05],\n",
              "       [2.48512568e-04, 9.24467990e-05, 2.57388935e-01, 6.79634290e-07,\n",
              "        7.42269225e-01, 2.00992530e-07],\n",
              "       [5.37858761e-04, 9.82374031e-01, 1.38036420e-02, 7.56608796e-04,\n",
              "        5.19104784e-04, 2.00875498e-03],\n",
              "       [9.89443362e-01, 1.48871333e-03, 2.00492632e-04, 5.09038802e-03,\n",
              "        1.28194735e-03, 2.49509659e-03],\n",
              "       [1.65110279e-02, 2.79298372e-03, 9.04893194e-01, 5.88517127e-02,\n",
              "        1.13423362e-02, 5.60874548e-03],\n",
              "       [9.89365319e-01, 1.69564090e-03, 3.26995685e-03, 1.97388308e-04,\n",
              "        1.48633817e-05, 5.45683146e-03],\n",
              "       [1.32226533e-02, 4.18309587e-04, 9.79995999e-01, 1.44886960e-03,\n",
              "        4.67024949e-03, 2.43919538e-04],\n",
              "       [1.86313415e-04, 7.60656427e-03, 9.91386914e-01, 1.89496382e-04,\n",
              "        3.75254066e-06, 6.26959818e-04],\n",
              "       [1.81770476e-02, 6.39041708e-02, 8.98767777e-01, 2.94150905e-04,\n",
              "        7.98779058e-03, 1.08690633e-02],\n",
              "       [2.92386131e-02, 4.75890513e-04, 2.26612049e-02, 1.23795349e-01,\n",
              "        1.19216521e-02, 8.11907290e-01],\n",
              "       [3.68424533e-01, 8.78126180e-04, 6.30636198e-01, 5.88812384e-06,\n",
              "        4.97032137e-05, 5.55101161e-06],\n",
              "       [9.82694979e-01, 1.11055524e-03, 5.61305915e-04, 1.53574225e-02,\n",
              "        1.39945812e-04, 1.35791141e-04],\n",
              "       [8.35733554e-03, 1.22642923e-03, 9.80572011e-01, 8.11939562e-03,\n",
              "        5.65686427e-04, 1.15914208e-03],\n",
              "       [4.66177789e-04, 2.48272915e-04, 9.86204030e-01, 1.29716312e-02,\n",
              "        5.33595147e-05, 5.65286684e-05],\n",
              "       [4.40100248e-05, 1.57134491e-04, 9.60422198e-01, 6.12246965e-03,\n",
              "        3.32152873e-02, 3.89001566e-05],\n",
              "       [1.70512828e-03, 5.63363348e-05, 8.06666574e-06, 9.95747588e-01,\n",
              "        2.86429130e-04, 2.19645154e-03],\n",
              "       [9.79659586e-01, 2.20503497e-04, 1.61355128e-02, 1.55101971e-03,\n",
              "        1.04724364e-03, 1.38613439e-03],\n",
              "       [1.40253086e-03, 3.67228953e-04, 9.93434252e-01, 4.39848764e-03,\n",
              "        3.65551604e-04, 3.19488094e-05],\n",
              "       [1.23418832e-02, 4.49720068e-04, 9.85170901e-01, 1.73397572e-03,\n",
              "        1.28132910e-04, 1.75386584e-04],\n",
              "       [8.09249749e-06, 9.11006344e-04, 7.02254297e-01, 2.84946085e-01,\n",
              "        7.10948963e-05, 1.18094243e-02],\n",
              "       [7.02570446e-04, 2.91450449e-05, 9.98688393e-01, 1.64984879e-04,\n",
              "        2.92145032e-04, 1.22761995e-04],\n",
              "       [7.32921476e-05, 5.52899131e-04, 8.85796674e-01, 1.12809301e-01,\n",
              "        3.03822899e-04, 4.64010471e-04],\n",
              "       [9.18997773e-05, 6.84758338e-04, 3.82776741e-01, 2.52870954e-06,\n",
              "        6.91142361e-05, 6.16374958e-01],\n",
              "       [5.00437870e-05, 7.04688590e-04, 1.76195782e-03, 9.96684755e-01,\n",
              "        1.83289148e-04, 6.15265176e-04],\n",
              "       [9.96479080e-01, 1.69383267e-03, 3.66391891e-04, 1.90985840e-05,\n",
              "        2.06416119e-04, 1.23518102e-03],\n",
              "       [6.40363348e-03, 2.33416110e-03, 5.37078002e-03, 1.68917436e-02,\n",
              "        7.50467768e-06, 9.68992177e-01],\n",
              "       [7.59666544e-03, 4.67679080e-04, 9.91764968e-01, 3.25197462e-05,\n",
              "        3.58526403e-05, 1.02314952e-04],\n",
              "       [1.16013304e-02, 8.67819719e-05, 9.88182643e-01, 5.05477965e-05,\n",
              "        6.02870498e-05, 1.84097795e-05],\n",
              "       [3.77261311e-05, 9.97729720e-05, 9.99652190e-01, 1.65487024e-04,\n",
              "        2.79266333e-05, 1.68968817e-05],\n",
              "       [2.96282196e-03, 2.32170392e-04, 9.95023491e-01, 7.14811936e-04,\n",
              "        1.06589237e-03, 8.11878083e-07],\n",
              "       [9.83709513e-01, 1.13523075e-03, 1.07408931e-03, 1.35919547e-02,\n",
              "        1.43594596e-04, 3.45617366e-04],\n",
              "       [5.70783074e-04, 2.38078180e-04, 9.31121952e-01, 6.70704687e-02,\n",
              "        2.30869489e-06, 9.96409230e-04],\n",
              "       [7.35733838e-06, 8.68752069e-05, 9.99826951e-01, 3.32744705e-06,\n",
              "        4.93274845e-05, 2.61613509e-05],\n",
              "       [4.04253930e-01, 1.15392581e-04, 4.53687486e-05, 7.77004051e-03,\n",
              "        1.33921100e-04, 5.87681347e-01],\n",
              "       [3.58782325e-02, 4.67036423e-04, 3.60167864e-03, 3.92123547e-01,\n",
              "        5.67277666e-01, 6.51838845e-04],\n",
              "       [8.87609397e-01, 1.46071858e-02, 9.94166974e-03, 8.77612025e-02,\n",
              "        4.24052928e-05, 3.81400259e-05],\n",
              "       [4.57073787e-01, 4.39572341e-01, 9.50628043e-02, 8.54283919e-04,\n",
              "        1.56789597e-03, 5.86888728e-03],\n",
              "       [7.58479463e-04, 1.70335728e-02, 8.50395219e-01, 1.01998232e-02,\n",
              "        5.37407707e-02, 6.78721351e-02],\n",
              "       [8.92465307e-08, 1.22488391e-03, 6.67838942e-01, 3.30923708e-01,\n",
              "        2.18831965e-07, 1.21572667e-05],\n",
              "       [9.06620749e-02, 1.26294784e-03, 9.06956377e-01, 9.72111812e-06,\n",
              "        1.06909961e-03, 3.97799321e-05],\n",
              "       [5.23319488e-01, 3.51125962e-04, 3.91873796e-01, 8.44189459e-02,\n",
              "        6.83138108e-06, 2.98126798e-05],\n",
              "       [1.15784720e-01, 1.03476378e-04, 2.79355427e-06, 8.57988407e-01,\n",
              "        1.67898141e-02, 9.33078974e-03],\n",
              "       [1.16463001e-05, 6.07350220e-04, 9.99127286e-01, 1.96198633e-04,\n",
              "        1.37227726e-05, 4.37964784e-05],\n",
              "       [8.55054072e-04, 1.23898474e-03, 7.12792577e-01, 2.80365270e-01,\n",
              "        7.80762751e-06, 4.74030682e-03],\n",
              "       [4.85186417e-05, 5.29486380e-03, 9.94378634e-01, 1.29168867e-04,\n",
              "        8.07488466e-05, 6.80656043e-05],\n",
              "       [1.35672881e-03, 2.15847107e-03, 2.81671145e-02, 8.40861605e-01,\n",
              "        2.87326731e-04, 1.27168754e-01],\n",
              "       [3.92804654e-05, 2.49425543e-03, 8.90124691e-01, 3.22822039e-02,\n",
              "        7.33781962e-02, 1.68137259e-03],\n",
              "       [3.94832376e-01, 1.06065139e-04, 6.04965231e-01, 7.47080208e-05,\n",
              "        1.38492140e-05, 7.77063415e-06],\n",
              "       [1.69268130e-01, 5.45981996e-04, 8.27107275e-01, 2.83943064e-03,\n",
              "        2.98738429e-05, 2.09308155e-04],\n",
              "       [3.13584966e-01, 1.80385478e-01, 3.11718913e-01, 1.18077848e-01,\n",
              "        7.54228131e-02, 8.09982358e-04],\n",
              "       [6.58815680e-04, 5.22016432e-05, 9.92590993e-01, 2.25083687e-03,\n",
              "        3.45822964e-03, 9.88922759e-04],\n",
              "       [7.30611651e-05, 4.65008609e-04, 5.05805965e-04, 2.05610765e-03,\n",
              "        1.11001232e-02, 9.85799893e-01],\n",
              "       [5.20503881e-01, 5.37641166e-04, 4.78529325e-01, 8.45464925e-06,\n",
              "        9.03654027e-05, 3.30332593e-04],\n",
              "       [2.81020913e-01, 1.47468341e-02, 2.50551920e-01, 4.26970414e-01,\n",
              "        3.70018507e-03, 2.30097337e-02],\n",
              "       [1.67988262e-02, 2.07145031e-03, 9.76996853e-01, 2.95309124e-03,\n",
              "        8.55451226e-04, 3.24327848e-04],\n",
              "       [5.12659851e-01, 1.52111797e-04, 4.87045879e-01, 4.59014322e-06,\n",
              "        2.52213407e-06, 1.35045209e-04],\n",
              "       [1.14290178e-03, 3.48145744e-04, 9.98103888e-01, 1.97435315e-05,\n",
              "        8.52782753e-05, 3.00043145e-04]])"
            ]
          },
          "metadata": {
            "tags": []
          },
          "execution_count": 58
        }
      ]
    },
    {
      "cell_type": "code",
      "metadata": {
        "colab": {
          "base_uri": "https://localhost:8080/"
        },
        "id": "dkOXYKEBGKQR",
        "outputId": "44428eaf-1f56-49ec-ce6e-74451c7bc2ab"
      },
      "source": [
        "pos=[]\r\n",
        "large=[]\r\n",
        "ind = []\r\n",
        "i=0\r\n",
        "for j in pred_unlabel_4:\r\n",
        "  if max(j)> 0.98:\r\n",
        "    ind.append(np.argmax(j))\r\n",
        "    large.append(max(j))\r\n",
        "    pos.append(i)\r\n",
        "  i+=1\r\n",
        "\r\n",
        "\r\n",
        "print(ind)\r\n",
        "print(large)\r\n",
        "print(pos)\r\n",
        "print(len(ind))\r\n",
        "print(len(large))\r\n",
        "print(len(pos))"
      ],
      "execution_count": 59,
      "outputs": [
        {
          "output_type": "stream",
          "text": [
            "[3, 0, 3, 2, 2, 2, 2, 2, 2, 2, 3, 2, 2, 2, 2, 2, 2, 2, 3, 2, 5, 2, 2, 2, 2, 2, 1, 0, 0, 2, 0, 2, 2, 3, 2, 2, 2, 3, 0, 2, 2, 2, 2, 0, 2, 2, 2, 2, 5, 2]\n",
            "[0.9852130717131916, 0.996320109231326, 0.9925629045963505, 0.9961482683237932, 0.9978299329828588, 0.9959748441017648, 0.9983175598223651, 0.9840788879051711, 0.9810789327707822, 0.9987945388487491, 0.9901618485256424, 0.9830221005799373, 0.9974798729541411, 0.9984886288342216, 0.9979120887683947, 0.9995480544660423, 0.993255178766798, 0.9991948667856558, 0.9998754495958827, 0.998797504694732, 0.9855501403853646, 0.9969724412274169, 0.9830400064906508, 0.9948367655046149, 0.9985667058595954, 0.9907925420139255, 0.9823740306295514, 0.9894433620661569, 0.989365319102458, 0.9913869135779727, 0.9826949793959684, 0.9805720111108018, 0.9862040299559365, 0.9957475880484471, 0.9934342521365979, 0.985170901474226, 0.998688392603582, 0.9966847554826556, 0.9964790797215283, 0.9917649681378384, 0.9881826429578061, 0.9996521903578474, 0.9950234914581308, 0.9837095132566649, 0.9998269511722, 0.9991272855959795, 0.9943786342419791, 0.9925909934009496, 0.9857998934005276, 0.9981038875202604]\n",
            "[0, 2, 3, 4, 7, 8, 10, 11, 15, 18, 20, 21, 22, 27, 28, 29, 30, 31, 32, 34, 36, 37, 38, 39, 40, 42, 45, 46, 48, 50, 54, 55, 56, 58, 60, 61, 63, 66, 67, 69, 70, 71, 72, 73, 75, 85, 87, 93, 94, 99]\n",
            "50\n",
            "50\n",
            "50\n"
          ],
          "name": "stdout"
        }
      ]
    },
    {
      "cell_type": "code",
      "metadata": {
        "colab": {
          "base_uri": "https://localhost:8080/",
          "height": 196
        },
        "id": "J80cI3inGUJT",
        "outputId": "d0417128-f1aa-43b8-a57a-fe4af8a0bf72"
      },
      "source": [
        "unlabel_4 = unlabel_4.loc[[0, 2, 3, 4, 7, 8, 10, 11, 15, 18, 20, 21, 22, 27, 28, 29, 30, 31, 32, 34, 36, 37, 38, 39, 40, 42, 45, 46, 48, 50, 54, 55, 56, 58, 60, 61, 63, 66, 67, 69, 70, 71, 72, 73, 75, 85, 87, 93, 94, 99 ],:]\r\n",
        "unlabel_4.head()"
      ],
      "execution_count": 60,
      "outputs": [
        {
          "output_type": "execute_result",
          "data": {
            "text/html": [
              "<div>\n",
              "<style scoped>\n",
              "    .dataframe tbody tr th:only-of-type {\n",
              "        vertical-align: middle;\n",
              "    }\n",
              "\n",
              "    .dataframe tbody tr th {\n",
              "        vertical-align: top;\n",
              "    }\n",
              "\n",
              "    .dataframe thead th {\n",
              "        text-align: right;\n",
              "    }\n",
              "</style>\n",
              "<table border=\"1\" class=\"dataframe\">\n",
              "  <thead>\n",
              "    <tr style=\"text-align: right;\">\n",
              "      <th></th>\n",
              "      <th>Unnamed: 0</th>\n",
              "      <th>Sentence</th>\n",
              "      <th>Target</th>\n",
              "    </tr>\n",
              "  </thead>\n",
              "  <tbody>\n",
              "    <tr>\n",
              "      <th>0</th>\n",
              "      <td>266</td>\n",
              "      <td>section 6 pl</td>\n",
              "      <td>Invalid</td>\n",
              "    </tr>\n",
              "    <tr>\n",
              "      <th>2</th>\n",
              "      <td>1471</td>\n",
              "      <td>evidence sufficient support conviction appella...</td>\n",
              "      <td>Analysis</td>\n",
              "    </tr>\n",
              "    <tr>\n",
              "      <th>3</th>\n",
              "      <td>1990</td>\n",
              "      <td>cases cited note 19</td>\n",
              "      <td>Invalid</td>\n",
              "    </tr>\n",
              "    <tr>\n",
              "      <th>4</th>\n",
              "      <td>2757</td>\n",
              "      <td>july 8 1960 order entered revoking said probat...</td>\n",
              "      <td>Facts</td>\n",
              "    </tr>\n",
              "    <tr>\n",
              "      <th>7</th>\n",
              "      <td>765</td>\n",
              "      <td>time ambulance police called ruby bickmore rem...</td>\n",
              "      <td>Facts</td>\n",
              "    </tr>\n",
              "  </tbody>\n",
              "</table>\n",
              "</div>"
            ],
            "text/plain": [
              "   Unnamed: 0                                           Sentence    Target\n",
              "0         266                                       section 6 pl   Invalid\n",
              "2        1471  evidence sufficient support conviction appella...  Analysis\n",
              "3        1990                                cases cited note 19   Invalid\n",
              "4        2757  july 8 1960 order entered revoking said probat...     Facts\n",
              "7         765  time ambulance police called ruby bickmore rem...     Facts"
            ]
          },
          "metadata": {
            "tags": []
          },
          "execution_count": 60
        }
      ]
    },
    {
      "cell_type": "code",
      "metadata": {
        "colab": {
          "base_uri": "https://localhost:8080/"
        },
        "id": "5DRHRgNhGbgn",
        "outputId": "81be8b96-b86b-46be-a486-43aa1a5d992b"
      },
      "source": [
        "frame_4 = [train_3,unlabel_4]\r\n",
        "train_4 = pd.concat(frame_4)\r\n",
        "len(train_4)\r\n",
        "x_train_4 = tfidf_vect.transform(train_4['Sentence'])\r\n",
        "X_train, x_val, Y_train, y_val = train_test_split(x_train_4,train_4['Target'],test_size=0.18,random_state=42)\r\n",
        "support = svm.LinearSVC()\r\n",
        "clf = support.fit(X_train, Y_train)\r\n",
        "calibrator = CalibratedClassifierCV(clf, cv='prefit')\r\n",
        "model_4=calibrator.fit(X_train, Y_train)\r\n",
        "pred_svm = model_4.predict(x_val)\r\n",
        "print('Accuracy %s' % accuracy_score(pred_svm,y_val))\r\n",
        "print(classification_report(y_val,pred_svm))"
      ],
      "execution_count": 64,
      "outputs": [
        {
          "output_type": "stream",
          "text": [
            "Accuracy 0.7015985790408525\n",
            "                  precision    recall  f1-score   support\n",
            "\n",
            "        Analysis       0.50      0.46      0.48        70\n",
            "      Conclusion       0.61      0.47      0.53        30\n",
            "           Facts       0.81      0.92      0.86       306\n",
            "         Invalid       0.47      0.50      0.49        84\n",
            "           Issue       0.56      0.44      0.49        32\n",
            "Rule/Law/Holding       0.87      0.32      0.46        41\n",
            "\n",
            "        accuracy                           0.70       563\n",
            "       macro avg       0.64      0.52      0.55       563\n",
            "    weighted avg       0.70      0.70      0.69       563\n",
            "\n"
          ],
          "name": "stdout"
        }
      ]
    },
    {
      "cell_type": "code",
      "metadata": {
        "colab": {
          "base_uri": "https://localhost:8080/"
        },
        "id": "xCXbaMSnGwdX",
        "outputId": "c8fd9c30-4c18-4c8d-f5df-2ef206ddc3b7"
      },
      "source": [
        "x_un5 = tfidf_vect.transform(unlabel_5['Sentence'])\r\n",
        "\r\n",
        "pred_unlabel_5 = model_4.predict_proba(x_un5)\r\n",
        "pred_unlabel_5"
      ],
      "execution_count": 65,
      "outputs": [
        {
          "output_type": "execute_result",
          "data": {
            "text/plain": [
              "array([[3.47839756e-01, 2.96622740e-01, 9.01815655e-05, 2.31916267e-01,\n",
              "        9.44695583e-02, 2.90614975e-02],\n",
              "       [8.80320365e-01, 2.71389029e-04, 1.69418277e-02, 3.59935102e-02,\n",
              "        8.44173884e-06, 6.64644667e-02],\n",
              "       [2.87776771e-04, 2.90171758e-03, 9.38695941e-03, 1.32651696e-01,\n",
              "        8.50780244e-01, 3.99160633e-03],\n",
              "       [2.24282052e-04, 4.01667431e-04, 9.98884359e-01, 3.81666400e-04,\n",
              "        6.87301253e-05, 3.92950865e-05],\n",
              "       [4.74247023e-02, 5.19689597e-03, 5.93616977e-01, 3.53537141e-01,\n",
              "        5.07648946e-05, 1.73519340e-04],\n",
              "       [2.10510295e-03, 1.91609669e-03, 7.88509935e-01, 2.07164166e-01,\n",
              "        7.81131898e-05, 2.26586712e-04],\n",
              "       [5.87280576e-01, 1.49013203e-01, 3.15400750e-03, 1.96295279e-02,\n",
              "        2.35180557e-01, 5.74212732e-03],\n",
              "       [3.87215083e-04, 2.43959962e-04, 9.96357540e-01, 2.88163394e-03,\n",
              "        4.63538517e-05, 8.32969590e-05],\n",
              "       [4.96142075e-04, 2.79519003e-04, 2.33903997e-01, 7.50528184e-01,\n",
              "        1.67535933e-04, 1.46246223e-02],\n",
              "       [2.02824342e-05, 5.70002379e-04, 9.80763174e-01, 1.91603877e-04,\n",
              "        1.84439166e-02, 1.10205911e-05],\n",
              "       [7.47667123e-03, 3.02637506e-04, 9.43535013e-01, 3.36417255e-02,\n",
              "        1.40241475e-02, 1.01980488e-03],\n",
              "       [8.09070799e-01, 1.25394271e-04, 1.84380686e-01, 3.44440077e-03,\n",
              "        1.51481830e-04, 2.82723761e-03],\n",
              "       [2.21084228e-05, 8.23826907e-04, 9.74003977e-01, 2.50007973e-02,\n",
              "        1.07166160e-04, 4.21242056e-05],\n",
              "       [9.62204602e-01, 2.44240453e-03, 5.49984259e-03, 4.10350734e-04,\n",
              "        2.42019836e-02, 5.24081669e-03],\n",
              "       [9.49725412e-04, 4.13924723e-04, 2.23231528e-02, 1.03148097e-05,\n",
              "        8.51927714e-02, 8.91110111e-01],\n",
              "       [1.85716808e-05, 2.09365998e-02, 2.56071782e-05, 3.39801581e-01,\n",
              "        6.39204158e-01, 1.34819488e-05],\n",
              "       [9.10916717e-01, 9.74089406e-04, 8.73307699e-02, 7.51704240e-04,\n",
              "        2.00861871e-05, 6.63368526e-06],\n",
              "       [6.02239902e-02, 2.46635828e-04, 9.38490412e-01, 8.36750059e-04,\n",
              "        8.68250736e-05, 1.15386626e-04],\n",
              "       [4.76337578e-04, 1.55040977e-03, 2.41107946e-03, 6.07241535e-04,\n",
              "        7.34393736e-04, 9.94220538e-01],\n",
              "       [1.39464869e-05, 2.53832666e-04, 9.10736993e-08, 9.99340504e-01,\n",
              "        5.07160159e-06, 3.86553895e-04],\n",
              "       [1.30476960e-03, 1.18762111e-03, 9.89468521e-01, 7.94837698e-03,\n",
              "        4.22488285e-05, 4.84629513e-05],\n",
              "       [3.77153041e-03, 2.47174972e-03, 3.50922226e-02, 2.17660269e-01,\n",
              "        7.27037869e-01, 1.39663586e-02],\n",
              "       [4.63215118e-05, 2.28448020e-03, 9.82628498e-01, 9.09977466e-04,\n",
              "        3.55945176e-05, 1.40951287e-02],\n",
              "       [5.01237581e-05, 6.36123420e-04, 9.98891547e-01, 2.78068968e-04,\n",
              "        5.86621191e-05, 8.54742467e-05],\n",
              "       [4.68252642e-04, 3.85224908e-01, 1.94304224e-05, 6.14275869e-01,\n",
              "        4.31249367e-06, 7.22738379e-06],\n",
              "       [2.69745420e-03, 1.96308634e-04, 5.14316010e-01, 4.79976639e-01,\n",
              "        5.91013242e-04, 2.22257516e-03],\n",
              "       [1.24919580e-04, 8.42558637e-05, 9.99579674e-01, 1.65520789e-05,\n",
              "        1.83399001e-04, 1.11994830e-05],\n",
              "       [3.09868860e-04, 1.99391653e-02, 9.77951005e-01, 1.17474803e-03,\n",
              "        1.35072843e-04, 4.90139550e-04],\n",
              "       [2.72914199e-04, 4.52551446e-04, 9.73099356e-01, 2.59848380e-02,\n",
              "        2.27248422e-05, 1.67615295e-04],\n",
              "       [5.31649428e-02, 1.01066781e-03, 9.39607558e-01, 6.11984517e-03,\n",
              "        9.05639482e-05, 6.42226646e-06],\n",
              "       [6.75937687e-01, 2.30657896e-03, 3.17138064e-01, 4.32008147e-04,\n",
              "        2.96319175e-04, 3.88934337e-03],\n",
              "       [1.43879536e-01, 8.55940960e-01, 9.83227209e-07, 1.65581169e-07,\n",
              "        7.09638984e-05, 1.07391305e-04],\n",
              "       [1.04981949e-05, 4.98527690e-04, 9.98425237e-01, 9.33973980e-04,\n",
              "        1.27312159e-04, 4.45125856e-06],\n",
              "       [1.92852446e-02, 1.53491436e-03, 4.65931650e-01, 5.13048485e-01,\n",
              "        1.99086821e-04, 6.19620758e-07],\n",
              "       [7.81651752e-07, 9.36800702e-05, 5.32895024e-01, 4.66980791e-01,\n",
              "        6.99051226e-06, 2.27329224e-05],\n",
              "       [6.77614882e-02, 8.15485080e-02, 9.49721511e-04, 8.49017228e-01,\n",
              "        4.31760837e-04, 2.91293703e-04],\n",
              "       [5.61696021e-08, 9.99766947e-01, 4.11242542e-06, 3.83642238e-06,\n",
              "        1.33806371e-05, 2.11667660e-04],\n",
              "       [9.41279069e-01, 8.39486015e-04, 5.69971925e-02, 8.80722667e-04,\n",
              "        3.50464995e-06, 2.50581005e-08],\n",
              "       [2.10761787e-02, 1.95225881e-02, 1.75372751e-05, 9.58273544e-01,\n",
              "        3.40502596e-05, 1.07610132e-03],\n",
              "       [9.76401316e-01, 5.91387973e-05, 2.20162699e-02, 1.42043893e-03,\n",
              "        7.61482450e-05, 2.66883428e-05],\n",
              "       [3.84858933e-01, 2.80575785e-02, 5.72891145e-01, 8.92727512e-03,\n",
              "        1.61818384e-03, 3.64688459e-03],\n",
              "       [4.81374384e-01, 5.18465707e-01, 1.64463070e-07, 7.49177257e-08,\n",
              "        1.58779484e-04, 8.90558117e-07],\n",
              "       [5.17428182e-05, 1.49426597e-03, 3.95593862e-02, 9.56795308e-01,\n",
              "        3.80688905e-04, 1.71860772e-03],\n",
              "       [1.80904320e-05, 2.41867836e-04, 9.72017389e-01, 2.56202717e-02,\n",
              "        2.09539703e-03, 6.98434453e-06],\n",
              "       [3.17438256e-01, 1.31835383e-02, 4.78294326e-01, 1.86391105e-01,\n",
              "        1.81721217e-03, 2.87556208e-03],\n",
              "       [8.33892117e-04, 7.25205897e-01, 4.22000706e-04, 2.73493110e-01,\n",
              "        1.65026388e-05, 2.85971488e-05],\n",
              "       [1.54857970e-03, 9.93043234e-01, 5.33054967e-03, 6.65525780e-05,\n",
              "        7.55176158e-06, 3.53219724e-06],\n",
              "       [7.53979422e-01, 2.46017272e-01, 1.03511123e-06, 7.05646537e-07,\n",
              "        1.42790103e-07, 1.42314465e-06],\n",
              "       [2.30383519e-03, 2.49796174e-04, 7.24302959e-07, 9.90570481e-01,\n",
              "        3.16884856e-03, 3.70631464e-03],\n",
              "       [8.77178461e-01, 4.61750867e-05, 1.20694657e-01, 1.66683323e-03,\n",
              "        3.51915845e-04, 6.19579556e-05],\n",
              "       [1.27031482e-05, 6.69434656e-05, 9.86554758e-01, 2.94809630e-04,\n",
              "        1.97868798e-03, 1.10920974e-02],\n",
              "       [4.05973468e-03, 3.58163791e-03, 1.76746967e-05, 6.67893361e-04,\n",
              "        1.37605432e-02, 9.77912516e-01],\n",
              "       [4.88743559e-05, 5.52893437e-05, 9.86280998e-01, 1.36144040e-02,\n",
              "        3.85504780e-07, 4.86662879e-08],\n",
              "       [2.76212796e-04, 5.52578248e-05, 9.99644519e-01, 8.39430745e-06,\n",
              "        1.06096274e-05, 5.00668611e-06],\n",
              "       [8.85927326e-02, 1.40228624e-03, 4.25686466e-01, 4.84129660e-01,\n",
              "        1.71417491e-04, 1.74374313e-05],\n",
              "       [2.10510295e-03, 1.91609669e-03, 7.88509935e-01, 2.07164166e-01,\n",
              "        7.81131898e-05, 2.26586712e-04],\n",
              "       [9.07687500e-02, 4.16044162e-04, 8.85265632e-01, 3.30858115e-04,\n",
              "        1.07708380e-03, 2.21416322e-02],\n",
              "       [1.42700932e-01, 7.93499321e-04, 1.01469672e-01, 7.54716153e-01,\n",
              "        5.83686058e-05, 2.61374661e-04],\n",
              "       [3.90667747e-01, 8.28066310e-05, 6.05166929e-01, 4.03872051e-03,\n",
              "        4.23195301e-05, 1.47691720e-06],\n",
              "       [5.62875012e-03, 1.25315230e-03, 9.93063553e-01, 1.96235555e-06,\n",
              "        2.06591435e-05, 3.19232538e-05],\n",
              "       [5.32184574e-07, 2.29534738e-03, 9.97584839e-01, 5.62598432e-05,\n",
              "        5.12427603e-05, 1.17785933e-05],\n",
              "       [8.89016319e-01, 1.51194016e-04, 1.19353110e-05, 4.25506381e-03,\n",
              "        1.05960218e-01, 6.05269102e-04],\n",
              "       [9.19884725e-01, 5.06287268e-05, 4.30644822e-02, 1.79687275e-02,\n",
              "        8.49468367e-03, 1.05367531e-02],\n",
              "       [4.22185623e-04, 1.18113474e-04, 9.95120414e-01, 4.12923185e-03,\n",
              "        2.08122093e-04, 1.93309715e-06],\n",
              "       [1.43879536e-01, 8.55940960e-01, 9.83227209e-07, 1.65581169e-07,\n",
              "        7.09638984e-05, 1.07391305e-04],\n",
              "       [2.09511332e-04, 6.57348329e-05, 9.90188733e-01, 9.49416434e-03,\n",
              "        1.07992744e-05, 3.10573107e-05],\n",
              "       [6.76821542e-01, 1.85972536e-05, 3.22977276e-01, 2.91661122e-07,\n",
              "        4.31478004e-06, 1.77978176e-04],\n",
              "       [1.41920114e-03, 7.06589592e-05, 9.63478324e-01, 3.41964644e-02,\n",
              "        6.12148507e-05, 7.74136708e-04],\n",
              "       [1.04009886e-01, 2.24783142e-05, 7.98498130e-01, 9.68627419e-02,\n",
              "        6.04596190e-04, 2.16763043e-06],\n",
              "       [1.16698035e-06, 1.96961325e-05, 7.19916633e-04, 9.73956931e-01,\n",
              "        3.23267726e-06, 2.52990564e-02],\n",
              "       [7.45591367e-01, 6.45228434e-05, 2.53656383e-01, 6.50885639e-04,\n",
              "        2.72612711e-06, 3.41155439e-05],\n",
              "       [3.22929887e-01, 8.68789176e-03, 6.01622385e-01, 1.79830511e-02,\n",
              "        9.37562139e-04, 4.78392227e-02],\n",
              "       [8.73382294e-02, 2.88489086e-05, 9.62911357e-04, 3.31969745e-02,\n",
              "        8.07260610e-05, 8.78392310e-01],\n",
              "       [9.65375042e-03, 7.72601702e-05, 9.90229600e-01, 8.32041212e-06,\n",
              "        2.55469168e-06, 2.85139914e-05],\n",
              "       [1.98390838e-02, 1.40923038e-04, 1.90060199e-03, 1.07897508e-05,\n",
              "        2.48541297e-02, 9.53254472e-01],\n",
              "       [9.86172725e-01, 3.20835398e-04, 1.27568735e-02, 1.01681146e-04,\n",
              "        4.06532093e-06, 6.43819410e-04],\n",
              "       [9.62043747e-03, 9.67751123e-05, 9.77683680e-01, 1.16402495e-02,\n",
              "        1.11035068e-04, 8.47823114e-04],\n",
              "       [3.71473309e-05, 3.62017187e-04, 9.82745446e-01, 1.62781836e-02,\n",
              "        5.64446278e-04, 1.27600097e-05],\n",
              "       [4.51181531e-04, 6.54719664e-05, 9.86252335e-01, 6.68652084e-03,\n",
              "        3.52549186e-03, 3.01899913e-03],\n",
              "       [2.63466848e-01, 3.20510607e-03, 3.54965924e-01, 2.79424461e-01,\n",
              "        9.79737453e-02, 9.63915280e-04],\n",
              "       [3.48516544e-01, 4.75706590e-03, 5.90789662e-01, 4.98849757e-02,\n",
              "        2.41813806e-05, 6.02757017e-03],\n",
              "       [9.73289484e-01, 8.52227007e-03, 1.57195209e-02, 3.41082547e-05,\n",
              "        1.50777036e-03, 9.26846928e-04],\n",
              "       [2.53585470e-07, 1.85607714e-05, 9.99889312e-01, 5.41141053e-07,\n",
              "        1.58145400e-05, 7.55176351e-05],\n",
              "       [1.62806983e-02, 4.38554392e-05, 1.95181787e-02, 8.72383317e-01,\n",
              "        2.18894583e-03, 8.95850044e-02],\n",
              "       [8.62606834e-01, 1.33393309e-04, 1.36541765e-01, 6.58295336e-04,\n",
              "        1.17769507e-05, 4.79356623e-05],\n",
              "       [2.19141315e-03, 1.61978832e-03, 9.92369347e-01, 3.17039879e-04,\n",
              "        3.16225919e-03, 3.40152550e-04],\n",
              "       [3.75057011e-05, 1.64483032e-04, 9.99625261e-01, 2.56156268e-05,\n",
              "        2.08614020e-05, 1.26273330e-04],\n",
              "       [8.13789786e-01, 1.34098796e-02, 1.72277842e-01, 4.89858637e-04,\n",
              "        2.88481058e-05, 3.78590183e-06],\n",
              "       [9.67378136e-03, 8.44355176e-01, 2.55902384e-02, 1.20288326e-01,\n",
              "        9.23825867e-05, 9.52640145e-08],\n",
              "       [4.69579817e-04, 7.43219181e-05, 2.24722498e-05, 2.67310866e-04,\n",
              "        5.20495963e-01, 4.78670352e-01],\n",
              "       [1.85948538e-02, 2.17218783e-04, 6.90264475e-01, 2.90816556e-01,\n",
              "        9.74375482e-05, 9.45907067e-06],\n",
              "       [4.74240094e-04, 1.20959165e-04, 9.96870390e-01, 2.59158529e-04,\n",
              "        9.86144906e-04, 1.28910684e-03],\n",
              "       [5.99683657e-05, 2.07315888e-04, 7.59740555e-01, 2.39942931e-01,\n",
              "        3.25433113e-06, 4.59754604e-05],\n",
              "       [3.79154071e-04, 2.17694359e-04, 5.78540866e-01, 4.20683571e-01,\n",
              "        1.18838721e-04, 5.98761715e-05],\n",
              "       [3.43350729e-05, 3.68988710e-04, 9.98991468e-01, 5.93365365e-04,\n",
              "        8.24523125e-06, 3.59714889e-06],\n",
              "       [3.20193079e-06, 2.88182416e-04, 9.98971264e-01, 3.10033684e-05,\n",
              "        4.33786272e-06, 7.02010801e-04],\n",
              "       [5.03849957e-01, 8.47330698e-04, 1.44198715e-01, 3.45034192e-01,\n",
              "        2.06417342e-04, 5.86338856e-03],\n",
              "       [9.91791845e-06, 1.28860369e-03, 9.98034822e-01, 3.68226292e-05,\n",
              "        1.80855510e-04, 4.48978515e-04],\n",
              "       [1.13816885e-02, 8.25560691e-04, 5.26008023e-05, 4.96169184e-02,\n",
              "        1.62672688e-02, 9.21855963e-01],\n",
              "       [8.68838359e-04, 1.92206516e-04, 9.37544402e-01, 2.84959977e-05,\n",
              "        1.20812639e-05, 6.13539763e-02],\n",
              "       [1.99247007e-05, 2.71154398e-04, 9.97137925e-01, 2.55813331e-03,\n",
              "        9.32909544e-06, 3.53329051e-06],\n",
              "       [5.19281990e-01, 8.00110197e-05, 4.80543033e-01, 8.36179629e-05,\n",
              "        2.07038741e-07, 1.11405671e-05],\n",
              "       [1.09156547e-04, 9.27506776e-05, 9.93021118e-01, 6.71218232e-03,\n",
              "        1.12260880e-05, 5.35661885e-05],\n",
              "       [9.80495453e-01, 4.05633979e-04, 5.54183670e-03, 1.27410284e-02,\n",
              "        5.80683642e-05, 7.57979591e-04],\n",
              "       [9.33703515e-01, 6.32625945e-04, 6.14362812e-02, 2.26775959e-05,\n",
              "        7.00134604e-06, 4.19789841e-03],\n",
              "       [1.15392587e-01, 4.26539231e-02, 7.48346697e-01, 1.74074374e-02,\n",
              "        2.21850364e-04, 7.59775056e-02],\n",
              "       [2.97697058e-01, 7.05111501e-04, 1.59982868e-03, 6.99916638e-01,\n",
              "        1.68190267e-05, 6.45449378e-05],\n",
              "       [9.69540862e-03, 1.37778444e-03, 1.77175913e-06, 9.88881045e-01,\n",
              "        6.19187849e-07, 4.33711887e-05],\n",
              "       [5.53602040e-01, 1.91290071e-04, 4.45740262e-01, 8.51786139e-05,\n",
              "        3.81223874e-04, 5.04349890e-09],\n",
              "       [9.88241678e-01, 6.50413196e-05, 5.37582991e-03, 6.52841273e-05,\n",
              "        4.79907191e-03, 1.45309505e-03],\n",
              "       [9.97814747e-01, 4.93953988e-04, 3.27844350e-04, 5.19888412e-05,\n",
              "        1.25349234e-03, 5.79733987e-05],\n",
              "       [1.03373606e-04, 7.45886758e-05, 2.65274729e-01, 7.31813180e-01,\n",
              "        1.43632721e-04, 2.59049590e-03],\n",
              "       [8.52202755e-01, 3.92297046e-03, 1.10259674e-01, 8.05342401e-04,\n",
              "        3.20713451e-02, 7.37913176e-04],\n",
              "       [9.51948890e-01, 2.92251596e-02, 1.17213764e-05, 1.87847332e-02,\n",
              "        7.58570213e-07, 2.87370131e-05],\n",
              "       [8.20678451e-01, 3.26462578e-06, 1.36507201e-06, 7.57999186e-02,\n",
              "        8.92427748e-04, 1.02624573e-01],\n",
              "       [6.23557565e-04, 3.08540672e-05, 1.03033654e-01, 8.95031010e-01,\n",
              "        2.37002287e-05, 1.25722415e-03],\n",
              "       [3.30861762e-04, 8.49720103e-04, 9.81896373e-01, 1.66346579e-02,\n",
              "        6.97524539e-05, 2.18634703e-04],\n",
              "       [2.10717185e-04, 2.80308821e-03, 1.29464745e-01, 8.67312265e-01,\n",
              "        1.69575942e-05, 1.92227840e-04],\n",
              "       [9.18423215e-03, 7.55434178e-03, 6.48887601e-01, 1.58816232e-01,\n",
              "        3.06034604e-02, 1.44954133e-01],\n",
              "       [1.83024657e-04, 1.14230668e-02, 2.12289425e-04, 6.53503280e-01,\n",
              "        3.34651837e-01, 2.65018409e-05]])"
            ]
          },
          "metadata": {
            "tags": []
          },
          "execution_count": 65
        }
      ]
    },
    {
      "cell_type": "code",
      "metadata": {
        "colab": {
          "base_uri": "https://localhost:8080/"
        },
        "id": "YTCr8qI2G09G",
        "outputId": "40ce8b1d-9044-4c82-9b64-dc9906174bd2"
      },
      "source": [
        "pos=[]\r\n",
        "large=[]\r\n",
        "ind = []\r\n",
        "i=0\r\n",
        "for j in pred_unlabel_5:\r\n",
        "  if max(j)> 0.98:\r\n",
        "    ind.append(np.argmax(j))\r\n",
        "    large.append(max(j))\r\n",
        "    pos.append(i)\r\n",
        "  i+=1\r\n",
        "\r\n",
        "\r\n",
        "print(ind)\r\n",
        "print(large)\r\n",
        "print(pos)\r\n",
        "print(len(ind))\r\n",
        "print(len(large))\r\n",
        "print(len(pos))"
      ],
      "execution_count": 66,
      "outputs": [
        {
          "output_type": "stream",
          "text": [
            "[2, 2, 2, 5, 3, 2, 2, 2, 2, 2, 1, 1, 3, 2, 2, 2, 2, 2, 2, 2, 2, 0, 2, 2, 2, 2, 2, 2, 2, 2, 2, 2, 2, 0, 3, 0, 0, 2]\n",
            "[0.9988843589047455, 0.9963575402073694, 0.9807631741625501, 0.9942205379257215, 0.9993405042765197, 0.9894685205253773, 0.9826284975834824, 0.9988915474883969, 0.9995796739938198, 0.998425236717666, 0.9997669466853755, 0.9930432340855844, 0.9905704811329934, 0.9865547583354342, 0.9862809980994308, 0.9996445187585361, 0.9930635528278839, 0.9975848392414258, 0.9951204138607904, 0.9901887329057516, 0.9902296003121398, 0.986172725228249, 0.9827454456294094, 0.9862523346704901, 0.9998893123269155, 0.9923693469096124, 0.9996252609081542, 0.9968703904702425, 0.9989914684719491, 0.9989712636212011, 0.9980348217374974, 0.9971379252105111, 0.9930211181825325, 0.9804954529919857, 0.9888810447950914, 0.9882416776853894, 0.9978147470781918, 0.9818963730694658]\n",
            "[3, 7, 9, 18, 19, 20, 22, 23, 26, 32, 36, 46, 48, 50, 52, 53, 59, 60, 63, 65, 73, 75, 77, 78, 82, 85, 86, 91, 94, 95, 97, 100, 102, 103, 107, 109, 110, 116]\n",
            "38\n",
            "38\n",
            "38\n"
          ],
          "name": "stdout"
        }
      ]
    },
    {
      "cell_type": "code",
      "metadata": {
        "colab": {
          "base_uri": "https://localhost:8080/",
          "height": 196
        },
        "id": "pHewDYKuG5YI",
        "outputId": "8ee41890-796b-41b9-ebe3-f12d90cc5cc0"
      },
      "source": [
        "unlabel_5 = unlabel_5.loc[[3, 7, 9, 18, 19, 20, 22, 23, 26, 32, 36, 46, 48, 50, 52, 53, 59, 60, 63, 65, 73, 75, 77, 78, 82, 85, 86, 91, 94, 95, 97, 100, 102, 103, 107, 109, 110, 116],:]\r\n",
        "unlabel_5.head()"
      ],
      "execution_count": 67,
      "outputs": [
        {
          "output_type": "execute_result",
          "data": {
            "text/html": [
              "<div>\n",
              "<style scoped>\n",
              "    .dataframe tbody tr th:only-of-type {\n",
              "        vertical-align: middle;\n",
              "    }\n",
              "\n",
              "    .dataframe tbody tr th {\n",
              "        vertical-align: top;\n",
              "    }\n",
              "\n",
              "    .dataframe thead th {\n",
              "        text-align: right;\n",
              "    }\n",
              "</style>\n",
              "<table border=\"1\" class=\"dataframe\">\n",
              "  <thead>\n",
              "    <tr style=\"text-align: right;\">\n",
              "      <th></th>\n",
              "      <th>Unnamed: 0</th>\n",
              "      <th>Sentence</th>\n",
              "      <th>Target</th>\n",
              "    </tr>\n",
              "  </thead>\n",
              "  <tbody>\n",
              "    <tr>\n",
              "      <th>3</th>\n",
              "      <td>658</td>\n",
              "      <td>appellant needle marks inside left elbow</td>\n",
              "      <td>Facts</td>\n",
              "    </tr>\n",
              "    <tr>\n",
              "      <th>7</th>\n",
              "      <td>2005</td>\n",
              "      <td>âœall male persons habitually associate prosti...</td>\n",
              "      <td>Invalid</td>\n",
              "    </tr>\n",
              "    <tr>\n",
              "      <th>9</th>\n",
              "      <td>3087</td>\n",
              "      <td>appellant urges error failure trial court admo...</td>\n",
              "      <td>Issue</td>\n",
              "    </tr>\n",
              "    <tr>\n",
              "      <th>18</th>\n",
              "      <td>1438</td>\n",
              "      <td>conviction possession heroin punishment twenty...</td>\n",
              "      <td>Rule/Law/Holding</td>\n",
              "    </tr>\n",
              "    <tr>\n",
              "      <th>19</th>\n",
              "      <td>1034</td>\n",
              "      <td>stateâs brief cited massey v</td>\n",
              "      <td>Invalid</td>\n",
              "    </tr>\n",
              "  </tbody>\n",
              "</table>\n",
              "</div>"
            ],
            "text/plain": [
              "    Unnamed: 0  ...            Target\n",
              "3          658  ...             Facts\n",
              "7         2005  ...           Invalid\n",
              "9         3087  ...             Issue\n",
              "18        1438  ...  Rule/Law/Holding\n",
              "19        1034  ...           Invalid\n",
              "\n",
              "[5 rows x 3 columns]"
            ]
          },
          "metadata": {
            "tags": []
          },
          "execution_count": 67
        }
      ]
    },
    {
      "cell_type": "code",
      "metadata": {
        "colab": {
          "base_uri": "https://localhost:8080/"
        },
        "id": "fFfDN20eHGrr",
        "outputId": "c497f19c-6bf3-4d8c-a232-2e66efaf522d"
      },
      "source": [
        "frame_5 = [train_4,unlabel_5]\r\n",
        "train_5 = pd.concat(frame_5)\r\n",
        "len(train_5)\r\n",
        "x_train_5 = tfidf_vect.transform(train_5['Sentence'])\r\n",
        "X_train, x_val, Y_train, y_val = train_test_split(x_train_5,train_5['Target'],test_size=0.3,random_state=42)\r\n",
        "support = svm.LinearSVC()\r\n",
        "clf = support.fit(X_train, Y_train)\r\n",
        "calibrator = CalibratedClassifierCV(clf, cv='prefit')\r\n",
        "model_5=calibrator.fit(X_train, Y_train)\r\n",
        "pred_svm = model_5.predict(x_val)\r\n",
        "print('Accuracy %s' % accuracy_score(pred_svm,y_val))\r\n",
        "print(classification_report(y_val,pred_svm))"
      ],
      "execution_count": 82,
      "outputs": [
        {
          "output_type": "stream",
          "text": [
            "Accuracy 0.6828240252897787\n",
            "                  precision    recall  f1-score   support\n",
            "\n",
            "        Analysis       0.46      0.42      0.44       123\n",
            "      Conclusion       0.66      0.49      0.56        47\n",
            "           Facts       0.78      0.90      0.84       521\n",
            "         Invalid       0.50      0.48      0.49       144\n",
            "           Issue       0.61      0.46      0.52        50\n",
            "Rule/Law/Holding       0.48      0.22      0.30        64\n",
            "\n",
            "        accuracy                           0.68       949\n",
            "       macro avg       0.58      0.49      0.52       949\n",
            "    weighted avg       0.66      0.68      0.67       949\n",
            "\n"
          ],
          "name": "stdout"
        }
      ]
    },
    {
      "cell_type": "code",
      "metadata": {
        "colab": {
          "base_uri": "https://localhost:8080/"
        },
        "id": "YHUHanjhHsaF",
        "outputId": "10469676-bc98-4d32-c011-27f1df2e2141"
      },
      "source": [
        "t_p = tfidf_vect.transform(test['Sentence'])\r\n",
        "test_pred = model_5.predict(t_p)\r\n",
        "print('Accuracy %s' % accuracy_score(test_pred,test['Target']))"
      ],
      "execution_count": 83,
      "outputs": [
        {
          "output_type": "stream",
          "text": [
            "Accuracy 0.6660268714011516\n"
          ],
          "name": "stdout"
        }
      ]
    }
  ]
}