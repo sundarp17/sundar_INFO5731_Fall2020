{
  "nbformat": 4,
  "nbformat_minor": 0,
  "metadata": {
    "colab": {
      "name": "Highkappa_unbalanced_high_probability.ipynb",
      "provenance": [],
      "authorship_tag": "ABX9TyMrucEVwSIWGVRdoSoTJ8ZH",
      "include_colab_link": true
    },
    "kernelspec": {
      "name": "python3",
      "display_name": "Python 3"
    }
  },
  "cells": [
    {
      "cell_type": "markdown",
      "metadata": {
        "id": "view-in-github",
        "colab_type": "text"
      },
      "source": [
        "<a href=\"https://colab.research.google.com/github/sundarp17/sundar_info5731_fall2020/blob/master/Highkappa_unbalanced_high_probability.ipynb\" target=\"_parent\"><img src=\"https://colab.research.google.com/assets/colab-badge.svg\" alt=\"Open In Colab\"/></a>"
      ]
    },
    {
      "cell_type": "code",
      "metadata": {
        "colab": {
          "base_uri": "https://localhost:8080/",
          "height": 196
        },
        "id": "qBBpKXkQSzQM",
        "outputId": "f84fbe31-f69f-4420-9568-b55f8cb0eb0a"
      },
      "source": [
        "import pandas as pd\n",
        "\n",
        "train_kappa = pd.read_csv(r'/content/train_data_highkappa.csv')\n",
        "train_kappa.head()"
      ],
      "execution_count": null,
      "outputs": [
        {
          "output_type": "execute_result",
          "data": {
            "text/html": [
              "<div>\n",
              "<style scoped>\n",
              "    .dataframe tbody tr th:only-of-type {\n",
              "        vertical-align: middle;\n",
              "    }\n",
              "\n",
              "    .dataframe tbody tr th {\n",
              "        vertical-align: top;\n",
              "    }\n",
              "\n",
              "    .dataframe thead th {\n",
              "        text-align: right;\n",
              "    }\n",
              "</style>\n",
              "<table border=\"1\" class=\"dataframe\">\n",
              "  <thead>\n",
              "    <tr style=\"text-align: right;\">\n",
              "      <th></th>\n",
              "      <th>Unnamed: 0</th>\n",
              "      <th>Sentence</th>\n",
              "      <th>Target</th>\n",
              "    </tr>\n",
              "  </thead>\n",
              "  <tbody>\n",
              "    <tr>\n",
              "      <th>0</th>\n",
              "      <td>659</td>\n",
              "      <td>Appellant had stated to the officers that she ...</td>\n",
              "      <td>Invalid</td>\n",
              "    </tr>\n",
              "    <tr>\n",
              "      <th>1</th>\n",
              "      <td>3456</td>\n",
              "      <td>We shall discuss the facts more fully in conne...</td>\n",
              "      <td>Others</td>\n",
              "    </tr>\n",
              "    <tr>\n",
              "      <th>2</th>\n",
              "      <td>2043</td>\n",
              "      <td>â€œPerjury is a false statement, either writte...</td>\n",
              "      <td>Invalid</td>\n",
              "    </tr>\n",
              "    <tr>\n",
              "      <th>3</th>\n",
              "      <td>3344</td>\n",
              "      <td>The offense is felony theft by false pretext; ...</td>\n",
              "      <td>Issue</td>\n",
              "    </tr>\n",
              "    <tr>\n",
              "      <th>4</th>\n",
              "      <td>3231</td>\n",
              "      <td>Numerous contentions urging the commission of ...</td>\n",
              "      <td>Issue</td>\n",
              "    </tr>\n",
              "  </tbody>\n",
              "</table>\n",
              "</div>"
            ],
            "text/plain": [
              "   Unnamed: 0                                           Sentence   Target\n",
              "0         659  Appellant had stated to the officers that she ...  Invalid\n",
              "1        3456  We shall discuss the facts more fully in conne...   Others\n",
              "2        2043  â€œPerjury is a false statement, either writte...  Invalid\n",
              "3        3344  The offense is felony theft by false pretext; ...    Issue\n",
              "4        3231  Numerous contentions urging the commission of ...    Issue"
            ]
          },
          "metadata": {
            "tags": []
          },
          "execution_count": 1
        }
      ]
    },
    {
      "cell_type": "code",
      "metadata": {
        "colab": {
          "base_uri": "https://localhost:8080/"
        },
        "id": "5JMNNECeXLoV",
        "outputId": "18bdfded-f138-42ee-c6d7-c6ef94d666f0"
      },
      "source": [
        "train_kappa['Target'].unique()"
      ],
      "execution_count": null,
      "outputs": [
        {
          "output_type": "execute_result",
          "data": {
            "text/plain": [
              "array(['Invalid', 'Others', 'Issue', 'Analysis', 'Facts', 'Conclusion',\n",
              "       'Rule/Law/Holding'], dtype=object)"
            ]
          },
          "metadata": {
            "tags": []
          },
          "execution_count": 2
        }
      ]
    },
    {
      "cell_type": "code",
      "metadata": {
        "colab": {
          "base_uri": "https://localhost:8080/"
        },
        "id": "T5TRUVelXT-C",
        "outputId": "3556096a-4635-4512-df22-a8e27282559b"
      },
      "source": [
        "train_kappa['Target']=train_kappa['Target'].replace(['Others'],'Invalid')\n",
        "train_kappa['Target'].unique()"
      ],
      "execution_count": null,
      "outputs": [
        {
          "output_type": "execute_result",
          "data": {
            "text/plain": [
              "array(['Invalid', 'Issue', 'Analysis', 'Facts', 'Conclusion',\n",
              "       'Rule/Law/Holding'], dtype=object)"
            ]
          },
          "metadata": {
            "tags": []
          },
          "execution_count": 3
        }
      ]
    },
    {
      "cell_type": "code",
      "metadata": {
        "colab": {
          "base_uri": "https://localhost:8080/"
        },
        "id": "IIHQOLn7XvLo",
        "outputId": "d1b69596-d0a1-4f3b-db93-be2607c59969"
      },
      "source": [
        "#cleaning\n",
        "import nltk\n",
        "import re\n",
        "import string\n",
        "nltk.download('stopwords')\n",
        "nltk.download('wordnet')\n",
        "stopword=nltk.corpus.stopwords.words('english')\n",
        "from nltk.stem import WordNetLemmatizer\n",
        "wl= WordNetLemmatizer()\n",
        "\n",
        "def clean_text(text):\n",
        "  text=\"\".join([word.lower() for word in text if word not in string.punctuation])\n",
        "  tokens = re.split('\\W+',text)\n",
        "  text = [wl.lemmatize(word) for word in tokens if word not in stopword]\n",
        "  return text"
      ],
      "execution_count": null,
      "outputs": [
        {
          "output_type": "stream",
          "text": [
            "[nltk_data] Downloading package stopwords to /root/nltk_data...\n",
            "[nltk_data]   Unzipping corpora/stopwords.zip.\n",
            "[nltk_data] Downloading package wordnet to /root/nltk_data...\n",
            "[nltk_data]   Unzipping corpora/wordnet.zip.\n"
          ],
          "name": "stdout"
        }
      ]
    },
    {
      "cell_type": "code",
      "metadata": {
        "colab": {
          "base_uri": "https://localhost:8080/"
        },
        "id": "z_QmpPopYLBB",
        "outputId": "d309ffd8-b211-4126-d353-7eac8163f72a"
      },
      "source": [
        "from sklearn.feature_extraction.text import TfidfVectorizer\n",
        "\n",
        "tfidf_vect = TfidfVectorizer(analyzer = clean_text)\n",
        "X_tfidf = tfidf_vect.fit_transform(train_kappa['Sentence'])\n",
        "print(X_tfidf.shape)"
      ],
      "execution_count": null,
      "outputs": [
        {
          "output_type": "stream",
          "text": [
            "(2951, 5835)\n"
          ],
          "name": "stdout"
        }
      ]
    },
    {
      "cell_type": "code",
      "metadata": {
        "colab": {
          "base_uri": "https://localhost:8080/"
        },
        "id": "CuZUfqrnYTvM",
        "outputId": "449d5021-a3b9-4ca9-fe0f-fbc86cd8ed84"
      },
      "source": [
        "#using smote and stochastic gradient boosting\n",
        "from sklearn.model_selection import train_test_split\n",
        "from sklearn.linear_model import SGDClassifier\n",
        "from sklearn.metrics import accuracy_score\n",
        "from sklearn.metrics import classification_report\n",
        "from sklearn.calibration import CalibratedClassifierCV\n",
        "\n",
        "\n",
        "X_train, x_val, Y_train, y_val = train_test_split(X_tfidf,train_kappa['Target'],test_size=0.26,random_state=42)\n",
        "sgd = SGDClassifier(max_iter=1000, tol=1e-3,loss='hinge',class_weight='balanced')\n",
        "clf = sgd.fit(X_train, Y_train)\n",
        "calibrator = CalibratedClassifierCV(clf, cv='prefit')\n",
        "model=calibrator.fit(X_train, Y_train)\n",
        "pred_sgd = model.predict(x_val)\n",
        "print('Accuracy %s' % accuracy_score(pred_sgd,y_val))\n",
        "print(classification_report(y_val,pred_sgd))"
      ],
      "execution_count": null,
      "outputs": [
        {
          "output_type": "stream",
          "text": [
            "Accuracy 0.66796875\n",
            "                  precision    recall  f1-score   support\n",
            "\n",
            "        Analysis       0.56      0.46      0.51       104\n",
            "      Conclusion       0.63      0.46      0.54        41\n",
            "           Facts       0.75      0.88      0.81       416\n",
            "         Invalid       0.45      0.49      0.47       109\n",
            "           Issue       0.67      0.33      0.44        55\n",
            "Rule/Law/Holding       0.43      0.23      0.30        43\n",
            "\n",
            "        accuracy                           0.67       768\n",
            "       macro avg       0.58      0.47      0.51       768\n",
            "    weighted avg       0.65      0.67      0.65       768\n",
            "\n"
          ],
          "name": "stdout"
        }
      ]
    },
    {
      "cell_type": "code",
      "metadata": {
        "colab": {
          "base_uri": "https://localhost:8080/"
        },
        "id": "Xtgr06WzdPFW",
        "outputId": "2022ebcb-5e2c-417a-f85c-e4130a994319"
      },
      "source": [
        "def frequency_table(data):\n",
        "    frequencytable = {}\n",
        "    for key in data:\n",
        "        if key in frequencytable:\n",
        "            frequencytable[key] += 1\n",
        "        else:\n",
        "            frequencytable[key] = 1\n",
        "    return frequencytable\n",
        "\n",
        "frequency_table(train_kappa['Target'])\n",
        "\n"
      ],
      "execution_count": null,
      "outputs": [
        {
          "output_type": "execute_result",
          "data": {
            "text/plain": [
              "{'Analysis': 439,\n",
              " 'Conclusion': 147,\n",
              " 'Facts': 1510,\n",
              " 'Invalid': 475,\n",
              " 'Issue': 190,\n",
              " 'Rule/Law/Holding': 190}"
            ]
          },
          "metadata": {
            "tags": []
          },
          "execution_count": 7
        }
      ]
    },
    {
      "cell_type": "code",
      "metadata": {
        "colab": {
          "base_uri": "https://localhost:8080/",
          "height": 196
        },
        "id": "e9LreUVIz6Hu",
        "outputId": "5260df62-53a9-45d8-ce7c-832b2231e515"
      },
      "source": [
        "test = pd.read_csv(r'/content/test_data.csv')\r\n",
        "test.head()"
      ],
      "execution_count": null,
      "outputs": [
        {
          "output_type": "execute_result",
          "data": {
            "text/html": [
              "<div>\n",
              "<style scoped>\n",
              "    .dataframe tbody tr th:only-of-type {\n",
              "        vertical-align: middle;\n",
              "    }\n",
              "\n",
              "    .dataframe tbody tr th {\n",
              "        vertical-align: top;\n",
              "    }\n",
              "\n",
              "    .dataframe thead th {\n",
              "        text-align: right;\n",
              "    }\n",
              "</style>\n",
              "<table border=\"1\" class=\"dataframe\">\n",
              "  <thead>\n",
              "    <tr style=\"text-align: right;\">\n",
              "      <th></th>\n",
              "      <th>Unnamed: 0</th>\n",
              "      <th>Sentence</th>\n",
              "      <th>Target</th>\n",
              "    </tr>\n",
              "  </thead>\n",
              "  <tbody>\n",
              "    <tr>\n",
              "      <th>0</th>\n",
              "      <td>2173</td>\n",
              "      <td>Darden Sr. testified â€œI saw he was staggerin...</td>\n",
              "      <td>Facts</td>\n",
              "    </tr>\n",
              "    <tr>\n",
              "      <th>1</th>\n",
              "      <td>466</td>\n",
              "      <td>Additional moral justification may have been d...</td>\n",
              "      <td>Analysis</td>\n",
              "    </tr>\n",
              "    <tr>\n",
              "      <th>2</th>\n",
              "      <td>525</td>\n",
              "      <td>85, 22 S.W. 140, wherein the accused was actin...</td>\n",
              "      <td>Rule/Law/Holding</td>\n",
              "    </tr>\n",
              "    <tr>\n",
              "      <th>3</th>\n",
              "      <td>2199</td>\n",
              "      <td>Under a proper instruction from the court on m...</td>\n",
              "      <td>Facts</td>\n",
              "    </tr>\n",
              "    <tr>\n",
              "      <th>4</th>\n",
              "      <td>79</td>\n",
              "      <td>He is eligible for leaves to renew contacts wi...</td>\n",
              "      <td>Facts</td>\n",
              "    </tr>\n",
              "  </tbody>\n",
              "</table>\n",
              "</div>"
            ],
            "text/plain": [
              "   Unnamed: 0  ...            Target\n",
              "0        2173  ...             Facts\n",
              "1         466  ...          Analysis\n",
              "2         525  ...  Rule/Law/Holding\n",
              "3        2199  ...             Facts\n",
              "4          79  ...             Facts\n",
              "\n",
              "[5 rows x 3 columns]"
            ]
          },
          "metadata": {
            "tags": []
          },
          "execution_count": 63
        }
      ]
    },
    {
      "cell_type": "code",
      "metadata": {
        "id": "8vUSZtLCdcsl",
        "colab": {
          "base_uri": "https://localhost:8080/"
        },
        "outputId": "d9a65d64-a2fc-4776-e9e6-c823700c0596"
      },
      "source": [
        "test['Target'].unique()"
      ],
      "execution_count": null,
      "outputs": [
        {
          "output_type": "execute_result",
          "data": {
            "text/plain": [
              "array(['Facts', 'Analysis', 'Rule/Law/Holding', 'Conclusion', 'Invalid',\n",
              "       'Issue', 'Others'], dtype=object)"
            ]
          },
          "metadata": {
            "tags": []
          },
          "execution_count": 64
        }
      ]
    },
    {
      "cell_type": "code",
      "metadata": {
        "id": "hJ8LaLxrdmb3",
        "colab": {
          "base_uri": "https://localhost:8080/"
        },
        "outputId": "2c13c70e-6506-4a9a-ce34-31bfa8866ca7"
      },
      "source": [
        "test['Target']=test['Target'].replace(['Others'],'Invalid')\r\n",
        "test['Target'].unique()"
      ],
      "execution_count": null,
      "outputs": [
        {
          "output_type": "execute_result",
          "data": {
            "text/plain": [
              "array(['Facts', 'Analysis', 'Rule/Law/Holding', 'Conclusion', 'Invalid',\n",
              "       'Issue'], dtype=object)"
            ]
          },
          "metadata": {
            "tags": []
          },
          "execution_count": 65
        }
      ]
    },
    {
      "cell_type": "code",
      "metadata": {
        "id": "wcmnUsEz0bpM"
      },
      "source": [
        "test['Sentence'] = test['Sentence'].apply(lambda x: \" \".join(x.lower() for x in str(x).split()))\r\n",
        "test['Sentence'] = test['Sentence'].str.replace('[^\\w\\s]','')\r\n",
        "from nltk.corpus import stopwords\r\n",
        "words = stopwords.words('english')\r\n",
        "test['Sentence'] = test['Sentence'].apply(lambda x: \" \".join(x for x in x.split() if x not in words))"
      ],
      "execution_count": null,
      "outputs": []
    },
    {
      "cell_type": "code",
      "metadata": {
        "colab": {
          "base_uri": "https://localhost:8080/"
        },
        "id": "IsHvHbib03-n",
        "outputId": "e15fca21-ae40-409d-dc5d-59c926dbcf64"
      },
      "source": [
        "from textblob import TextBlob\r\n",
        "from textblob import Word\r\n",
        "nltk.download('wordnet')\r\n",
        "nltk.download('punkt')\r\n",
        "test['Sentence'] = test['Sentence'].apply(lambda x: TextBlob(x).words)\r\n",
        "test['Sentence'] = test['Sentence'].apply(lambda x: \" \".join([Word(word).lemmatize() for word in x]))"
      ],
      "execution_count": null,
      "outputs": [
        {
          "output_type": "stream",
          "text": [
            "[nltk_data] Downloading package wordnet to /root/nltk_data...\n",
            "[nltk_data]   Package wordnet is already up-to-date!\n",
            "[nltk_data] Downloading package punkt to /root/nltk_data...\n",
            "[nltk_data]   Package punkt is already up-to-date!\n"
          ],
          "name": "stdout"
        }
      ]
    },
    {
      "cell_type": "code",
      "metadata": {
        "colab": {
          "base_uri": "https://localhost:8080/"
        },
        "id": "iWDvQ3GN1E6h",
        "outputId": "8c370d9e-abfe-4b68-e2ad-5ba7d0ff9ee5"
      },
      "source": [
        "test['Sentence'].head()"
      ],
      "execution_count": null,
      "outputs": [
        {
          "output_type": "execute_result",
          "data": {
            "text/plain": [
              "0    darden sr testified âœi saw staggering â prett...\n",
              "1    additional moral justification may due complai...\n",
              "2    85 22 sw 140 wherein accused acting upon advic...\n",
              "3    proper instruction court murder malice murder ...\n",
              "4                   eligible leaf renew contact family\n",
              "Name: Sentence, dtype: object"
            ]
          },
          "metadata": {
            "tags": []
          },
          "execution_count": 68
        }
      ]
    },
    {
      "cell_type": "code",
      "metadata": {
        "colab": {
          "base_uri": "https://localhost:8080/"
        },
        "id": "92S7Iw601JMO",
        "outputId": "d33de5f4-4f62-4c7e-f27b-675bb2ce4118"
      },
      "source": [
        "len(test['Sentence'])"
      ],
      "execution_count": null,
      "outputs": [
        {
          "output_type": "execute_result",
          "data": {
            "text/plain": [
              "521"
            ]
          },
          "metadata": {
            "tags": []
          },
          "execution_count": 69
        }
      ]
    },
    {
      "cell_type": "code",
      "metadata": {
        "colab": {
          "base_uri": "https://localhost:8080/"
        },
        "id": "w0LqUlJs1Nix",
        "outputId": "6071a454-6768-470f-d94d-c5b21eac46a7"
      },
      "source": [
        "unlabel_1 = test.loc[:100]\r\n",
        "print(\"length of unlabel_1\",len(unlabel_1))\r\n",
        "unlabel_2 = test.loc[101:200]\r\n",
        "print(\"length of unlabel_2\",len(unlabel_2))\r\n",
        "unlabel_3 = test.loc[201:300]\r\n",
        "print(\"length of unlabel_3\",len(unlabel_3))\r\n",
        "unlabel_4 = test.loc[301:400]\r\n",
        "print(\"length of unlabel_4\",len(unlabel_4))\r\n",
        "unlabel_5 = test.loc[401:]\r\n",
        "print(\"length of unlabel_5\",len(unlabel_5))"
      ],
      "execution_count": null,
      "outputs": [
        {
          "output_type": "stream",
          "text": [
            "length of unlabel_1 101\n",
            "length of unlabel_2 100\n",
            "length of unlabel_3 100\n",
            "length of unlabel_4 100\n",
            "length of unlabel_5 120\n"
          ],
          "name": "stdout"
        }
      ]
    },
    {
      "cell_type": "code",
      "metadata": {
        "id": "zF8EYBx-el7l",
        "colab": {
          "base_uri": "https://localhost:8080/",
          "height": 196
        },
        "outputId": "c68cb6ed-136a-4d36-d294-0a855e6986b1"
      },
      "source": [
        "unlabel_1.head()"
      ],
      "execution_count": null,
      "outputs": [
        {
          "output_type": "execute_result",
          "data": {
            "text/html": [
              "<div>\n",
              "<style scoped>\n",
              "    .dataframe tbody tr th:only-of-type {\n",
              "        vertical-align: middle;\n",
              "    }\n",
              "\n",
              "    .dataframe tbody tr th {\n",
              "        vertical-align: top;\n",
              "    }\n",
              "\n",
              "    .dataframe thead th {\n",
              "        text-align: right;\n",
              "    }\n",
              "</style>\n",
              "<table border=\"1\" class=\"dataframe\">\n",
              "  <thead>\n",
              "    <tr style=\"text-align: right;\">\n",
              "      <th></th>\n",
              "      <th>Unnamed: 0</th>\n",
              "      <th>Sentence</th>\n",
              "      <th>Target</th>\n",
              "    </tr>\n",
              "  </thead>\n",
              "  <tbody>\n",
              "    <tr>\n",
              "      <th>0</th>\n",
              "      <td>2173</td>\n",
              "      <td>darden sr testified âœi saw staggering â prett...</td>\n",
              "      <td>Facts</td>\n",
              "    </tr>\n",
              "    <tr>\n",
              "      <th>1</th>\n",
              "      <td>466</td>\n",
              "      <td>additional moral justification may due complai...</td>\n",
              "      <td>Analysis</td>\n",
              "    </tr>\n",
              "    <tr>\n",
              "      <th>2</th>\n",
              "      <td>525</td>\n",
              "      <td>85 22 sw 140 wherein accused acting upon advic...</td>\n",
              "      <td>Rule/Law/Holding</td>\n",
              "    </tr>\n",
              "    <tr>\n",
              "      <th>3</th>\n",
              "      <td>2199</td>\n",
              "      <td>proper instruction court murder malice murder ...</td>\n",
              "      <td>Facts</td>\n",
              "    </tr>\n",
              "    <tr>\n",
              "      <th>4</th>\n",
              "      <td>79</td>\n",
              "      <td>eligible leaf renew contact family</td>\n",
              "      <td>Facts</td>\n",
              "    </tr>\n",
              "  </tbody>\n",
              "</table>\n",
              "</div>"
            ],
            "text/plain": [
              "   Unnamed: 0  ...            Target\n",
              "0        2173  ...             Facts\n",
              "1         466  ...          Analysis\n",
              "2         525  ...  Rule/Law/Holding\n",
              "3        2199  ...             Facts\n",
              "4          79  ...             Facts\n",
              "\n",
              "[5 rows x 3 columns]"
            ]
          },
          "metadata": {
            "tags": []
          },
          "execution_count": 71
        }
      ]
    },
    {
      "cell_type": "code",
      "metadata": {
        "id": "w2aJvBckeqO_",
        "colab": {
          "base_uri": "https://localhost:8080/",
          "height": 196
        },
        "outputId": "b3c316dd-87fe-4a0a-8f0c-5f0c4337fb3b"
      },
      "source": [
        "unlabel_2.reset_index(inplace=True)\r\n",
        "del unlabel_2['index']\r\n",
        "unlabel_2.head()"
      ],
      "execution_count": null,
      "outputs": [
        {
          "output_type": "execute_result",
          "data": {
            "text/html": [
              "<div>\n",
              "<style scoped>\n",
              "    .dataframe tbody tr th:only-of-type {\n",
              "        vertical-align: middle;\n",
              "    }\n",
              "\n",
              "    .dataframe tbody tr th {\n",
              "        vertical-align: top;\n",
              "    }\n",
              "\n",
              "    .dataframe thead th {\n",
              "        text-align: right;\n",
              "    }\n",
              "</style>\n",
              "<table border=\"1\" class=\"dataframe\">\n",
              "  <thead>\n",
              "    <tr style=\"text-align: right;\">\n",
              "      <th></th>\n",
              "      <th>Unnamed: 0</th>\n",
              "      <th>Sentence</th>\n",
              "      <th>Target</th>\n",
              "    </tr>\n",
              "  </thead>\n",
              "  <tbody>\n",
              "    <tr>\n",
              "      <th>0</th>\n",
              "      <td>1207</td>\n",
              "      <td>examination occurred night middle may testifie...</td>\n",
              "      <td>Invalid</td>\n",
              "    </tr>\n",
              "    <tr>\n",
              "      <th>1</th>\n",
              "      <td>3400</td>\n",
              "      <td>undisputed testimony reflects appellant drivin...</td>\n",
              "      <td>Facts</td>\n",
              "    </tr>\n",
              "    <tr>\n",
              "      <th>2</th>\n",
              "      <td>2072</td>\n",
              "      <td>appellant testify offer evidence behalf</td>\n",
              "      <td>Facts</td>\n",
              "    </tr>\n",
              "    <tr>\n",
              "      <th>3</th>\n",
              "      <td>517</td>\n",
              "      <td>56 uniform act regulating traffic highway gist...</td>\n",
              "      <td>Rule/Law/Holding</td>\n",
              "    </tr>\n",
              "    <tr>\n",
              "      <th>4</th>\n",
              "      <td>906</td>\n",
              "      <td>agreed accompany gave pawn ticket money reclai...</td>\n",
              "      <td>Facts</td>\n",
              "    </tr>\n",
              "  </tbody>\n",
              "</table>\n",
              "</div>"
            ],
            "text/plain": [
              "   Unnamed: 0  ...            Target\n",
              "0        1207  ...           Invalid\n",
              "1        3400  ...             Facts\n",
              "2        2072  ...             Facts\n",
              "3         517  ...  Rule/Law/Holding\n",
              "4         906  ...             Facts\n",
              "\n",
              "[5 rows x 3 columns]"
            ]
          },
          "metadata": {
            "tags": []
          },
          "execution_count": 79
        }
      ]
    },
    {
      "cell_type": "code",
      "metadata": {
        "id": "lE4yO0D2et76",
        "colab": {
          "base_uri": "https://localhost:8080/",
          "height": 196
        },
        "outputId": "0cca0d96-67f2-41dd-f94c-e24475d6c328"
      },
      "source": [
        "unlabel_3.reset_index(inplace=True)\r\n",
        "del unlabel_3['index']\r\n",
        "unlabel_3.head()"
      ],
      "execution_count": null,
      "outputs": [
        {
          "output_type": "execute_result",
          "data": {
            "text/html": [
              "<div>\n",
              "<style scoped>\n",
              "    .dataframe tbody tr th:only-of-type {\n",
              "        vertical-align: middle;\n",
              "    }\n",
              "\n",
              "    .dataframe tbody tr th {\n",
              "        vertical-align: top;\n",
              "    }\n",
              "\n",
              "    .dataframe thead th {\n",
              "        text-align: right;\n",
              "    }\n",
              "</style>\n",
              "<table border=\"1\" class=\"dataframe\">\n",
              "  <thead>\n",
              "    <tr style=\"text-align: right;\">\n",
              "      <th></th>\n",
              "      <th>Unnamed: 0</th>\n",
              "      <th>Sentence</th>\n",
              "      <th>Target</th>\n",
              "    </tr>\n",
              "  </thead>\n",
              "  <tbody>\n",
              "    <tr>\n",
              "      <th>0</th>\n",
              "      <td>1882</td>\n",
              "      <td>find evidence amply sufficient sustain juryâs ...</td>\n",
              "      <td>Analysis</td>\n",
              "    </tr>\n",
              "    <tr>\n",
              "      <th>1</th>\n",
              "      <td>964</td>\n",
              "      <td>action show thatâ</td>\n",
              "      <td>Invalid</td>\n",
              "    </tr>\n",
              "    <tr>\n",
              "      <th>2</th>\n",
              "      <td>1417</td>\n",
              "      <td>certification attending physician shown filed ...</td>\n",
              "      <td>Facts</td>\n",
              "    </tr>\n",
              "    <tr>\n",
              "      <th>3</th>\n",
              "      <td>2932</td>\n",
              "      <td>testified agent bland first left automobile wa...</td>\n",
              "      <td>Facts</td>\n",
              "    </tr>\n",
              "    <tr>\n",
              "      <th>4</th>\n",
              "      <td>1584</td>\n",
              "      <td>officer testified could smell odor alcohol app...</td>\n",
              "      <td>Facts</td>\n",
              "    </tr>\n",
              "  </tbody>\n",
              "</table>\n",
              "</div>"
            ],
            "text/plain": [
              "   Unnamed: 0                                           Sentence    Target\n",
              "0        1882  find evidence amply sufficient sustain juryâs ...  Analysis\n",
              "1         964                                  action show thatâ   Invalid\n",
              "2        1417  certification attending physician shown filed ...     Facts\n",
              "3        2932  testified agent bland first left automobile wa...     Facts\n",
              "4        1584  officer testified could smell odor alcohol app...     Facts"
            ]
          },
          "metadata": {
            "tags": []
          },
          "execution_count": 80
        }
      ]
    },
    {
      "cell_type": "code",
      "metadata": {
        "id": "PYCjGWEhgnet",
        "colab": {
          "base_uri": "https://localhost:8080/",
          "height": 196
        },
        "outputId": "b3df1c34-0518-4337-8779-ebf99756e182"
      },
      "source": [
        "unlabel_4.reset_index(inplace=True)\r\n",
        "del unlabel_4['index']\r\n",
        "unlabel_4.head()"
      ],
      "execution_count": null,
      "outputs": [
        {
          "output_type": "execute_result",
          "data": {
            "text/html": [
              "<div>\n",
              "<style scoped>\n",
              "    .dataframe tbody tr th:only-of-type {\n",
              "        vertical-align: middle;\n",
              "    }\n",
              "\n",
              "    .dataframe tbody tr th {\n",
              "        vertical-align: top;\n",
              "    }\n",
              "\n",
              "    .dataframe thead th {\n",
              "        text-align: right;\n",
              "    }\n",
              "</style>\n",
              "<table border=\"1\" class=\"dataframe\">\n",
              "  <thead>\n",
              "    <tr style=\"text-align: right;\">\n",
              "      <th></th>\n",
              "      <th>Unnamed: 0</th>\n",
              "      <th>Sentence</th>\n",
              "      <th>Target</th>\n",
              "    </tr>\n",
              "  </thead>\n",
              "  <tbody>\n",
              "    <tr>\n",
              "      <th>0</th>\n",
              "      <td>266</td>\n",
              "      <td>section 6 pl</td>\n",
              "      <td>Invalid</td>\n",
              "    </tr>\n",
              "    <tr>\n",
              "      <th>1</th>\n",
              "      <td>3469</td>\n",
              "      <td>amended answer appellant alleged bond invalid ...</td>\n",
              "      <td>Analysis</td>\n",
              "    </tr>\n",
              "    <tr>\n",
              "      <th>2</th>\n",
              "      <td>1471</td>\n",
              "      <td>evidence sufficient support conviction appella...</td>\n",
              "      <td>Analysis</td>\n",
              "    </tr>\n",
              "    <tr>\n",
              "      <th>3</th>\n",
              "      <td>1990</td>\n",
              "      <td>case cited note 19</td>\n",
              "      <td>Invalid</td>\n",
              "    </tr>\n",
              "    <tr>\n",
              "      <th>4</th>\n",
              "      <td>2757</td>\n",
              "      <td>july 8 1960 order entered revoking said probat...</td>\n",
              "      <td>Facts</td>\n",
              "    </tr>\n",
              "  </tbody>\n",
              "</table>\n",
              "</div>"
            ],
            "text/plain": [
              "   Unnamed: 0                                           Sentence    Target\n",
              "0         266                                       section 6 pl   Invalid\n",
              "1        3469  amended answer appellant alleged bond invalid ...  Analysis\n",
              "2        1471  evidence sufficient support conviction appella...  Analysis\n",
              "3        1990                                 case cited note 19   Invalid\n",
              "4        2757  july 8 1960 order entered revoking said probat...     Facts"
            ]
          },
          "metadata": {
            "tags": []
          },
          "execution_count": 82
        }
      ]
    },
    {
      "cell_type": "code",
      "metadata": {
        "id": "TuzNNRsNhACu",
        "colab": {
          "base_uri": "https://localhost:8080/",
          "height": 196
        },
        "outputId": "fe44eac4-2056-40ca-ebbe-f6e1ee8e26ae"
      },
      "source": [
        "unlabel_5.reset_index(inplace=True)\r\n",
        "del unlabel_5['index']\r\n",
        "unlabel_5.head()"
      ],
      "execution_count": null,
      "outputs": [
        {
          "output_type": "execute_result",
          "data": {
            "text/html": [
              "<div>\n",
              "<style scoped>\n",
              "    .dataframe tbody tr th:only-of-type {\n",
              "        vertical-align: middle;\n",
              "    }\n",
              "\n",
              "    .dataframe tbody tr th {\n",
              "        vertical-align: top;\n",
              "    }\n",
              "\n",
              "    .dataframe thead th {\n",
              "        text-align: right;\n",
              "    }\n",
              "</style>\n",
              "<table border=\"1\" class=\"dataframe\">\n",
              "  <thead>\n",
              "    <tr style=\"text-align: right;\">\n",
              "      <th></th>\n",
              "      <th>Unnamed: 0</th>\n",
              "      <th>Sentence</th>\n",
              "      <th>Target</th>\n",
              "    </tr>\n",
              "  </thead>\n",
              "  <tbody>\n",
              "    <tr>\n",
              "      <th>0</th>\n",
              "      <td>2979</td>\n",
              "      <td>overrule appellantâs contention court erred pe...</td>\n",
              "      <td>Analysis</td>\n",
              "    </tr>\n",
              "    <tr>\n",
              "      <th>1</th>\n",
              "      <td>2135</td>\n",
              "      <td>state regarded authority case</td>\n",
              "      <td>Invalid</td>\n",
              "    </tr>\n",
              "    <tr>\n",
              "      <th>2</th>\n",
              "      <td>1591</td>\n",
              "      <td>testimony adduced appellant mother lillie mae ...</td>\n",
              "      <td>Facts</td>\n",
              "    </tr>\n",
              "    <tr>\n",
              "      <th>3</th>\n",
              "      <td>658</td>\n",
              "      <td>appellant needle mark inside left elbow</td>\n",
              "      <td>Facts</td>\n",
              "    </tr>\n",
              "    <tr>\n",
              "      <th>4</th>\n",
              "      <td>2562</td>\n",
              "      <td>analysis content 3 capsule chemist kenneth and...</td>\n",
              "      <td>Facts</td>\n",
              "    </tr>\n",
              "  </tbody>\n",
              "</table>\n",
              "</div>"
            ],
            "text/plain": [
              "   Unnamed: 0                                           Sentence    Target\n",
              "0        2979  overrule appellantâs contention court erred pe...  Analysis\n",
              "1        2135                      state regarded authority case   Invalid\n",
              "2        1591  testimony adduced appellant mother lillie mae ...     Facts\n",
              "3         658            appellant needle mark inside left elbow     Facts\n",
              "4        2562  analysis content 3 capsule chemist kenneth and...     Facts"
            ]
          },
          "metadata": {
            "tags": []
          },
          "execution_count": 83
        }
      ]
    },
    {
      "cell_type": "code",
      "metadata": {
        "id": "2Eg73bAcH8eW",
        "colab": {
          "base_uri": "https://localhost:8080/"
        },
        "outputId": "7ac8fd9c-9c9b-4411-9295-d30ff8a8361f"
      },
      "source": [
        "model.classes_"
      ],
      "execution_count": null,
      "outputs": [
        {
          "output_type": "execute_result",
          "data": {
            "text/plain": [
              "array(['Analysis', 'Conclusion', 'Facts', 'Invalid', 'Issue',\n",
              "       'Rule/Law/Holding'], dtype='<U16')"
            ]
          },
          "metadata": {
            "tags": []
          },
          "execution_count": 84
        }
      ]
    },
    {
      "cell_type": "code",
      "metadata": {
        "colab": {
          "base_uri": "https://localhost:8080/"
        },
        "id": "8QS4Ihxv1jRn",
        "outputId": "2a010bd1-253e-496e-c900-f891c9208d98"
      },
      "source": [
        "x_un1 = tfidf_vect.transform(unlabel_1['Sentence'])\r\n",
        "pred_unlabel_1 = model.predict_proba(x_un1)\r\n",
        "pred_unlabel_1"
      ],
      "execution_count": null,
      "outputs": [
        {
          "output_type": "execute_result",
          "data": {
            "text/plain": [
              "array([[3.03412070e-04, 5.26175762e-04, 9.93505532e-01, 5.54680417e-03,\n",
              "        2.31607084e-06, 1.15759910e-04],\n",
              "       [2.39288256e-01, 1.70128268e-04, 7.60144367e-01, 3.60763504e-05,\n",
              "        2.49816749e-05, 3.36190862e-04],\n",
              "       [7.53371028e-04, 2.63245497e-04, 3.53534254e-02, 9.61121267e-01,\n",
              "        1.15252917e-03, 1.35616198e-03],\n",
              "       [4.88186597e-01, 2.39416888e-07, 5.04803747e-01, 8.52447948e-04,\n",
              "        7.09938674e-06, 6.14986968e-03],\n",
              "       [2.04526651e-03, 1.43504664e-04, 9.95041971e-01, 2.69189869e-03,\n",
              "        1.91668555e-05, 5.81921143e-05],\n",
              "       [9.55507324e-05, 8.89996984e-05, 9.98072916e-01, 1.61123764e-03,\n",
              "        2.48000321e-05, 1.06496377e-04],\n",
              "       [5.84487060e-04, 1.53753195e-04, 3.61178102e-01, 6.37842550e-01,\n",
              "        2.16537925e-04, 2.45699066e-05],\n",
              "       [2.38464780e-05, 5.97754541e-01, 2.87489116e-02, 3.73463223e-01,\n",
              "        3.35747166e-07, 9.14195098e-06],\n",
              "       [1.50683255e-03, 2.42287077e-05, 3.10793979e-02, 9.67304764e-01,\n",
              "        1.10628320e-05, 7.37140320e-05],\n",
              "       [2.39960567e-03, 3.52347204e-06, 4.29747247e-01, 5.67499795e-01,\n",
              "        1.56525393e-04, 1.93303151e-04],\n",
              "       [7.37074451e-02, 4.87592493e-05, 4.22769497e-02, 8.82617356e-01,\n",
              "        1.39402892e-04, 1.21008711e-03],\n",
              "       [4.29414830e-04, 3.59974152e-04, 9.99020609e-01, 1.17394991e-06,\n",
              "        2.54747677e-05, 1.63353576e-04],\n",
              "       [1.35849122e-03, 2.56955803e-05, 9.95794708e-01, 8.05025579e-07,\n",
              "        9.66582307e-06, 2.81063439e-03],\n",
              "       [6.52012721e-02, 7.29798526e-05, 9.13407650e-01, 2.08039148e-02,\n",
              "        1.59722004e-05, 4.98211517e-04],\n",
              "       [8.45874585e-02, 1.43351368e-03, 5.20904559e-01, 2.90291246e-04,\n",
              "        3.92782526e-01, 1.65149050e-06],\n",
              "       [1.10017118e-01, 3.43448921e-04, 1.11603371e-03, 1.52337818e-03,\n",
              "        1.84752886e-03, 8.85152492e-01],\n",
              "       [5.43997794e-01, 4.09821127e-06, 4.45480031e-01, 1.05133281e-02,\n",
              "        4.01247951e-06, 7.36605610e-07],\n",
              "       [1.33027604e-02, 4.15314270e-05, 9.86192580e-01, 9.55650878e-05,\n",
              "        9.87033598e-05, 2.68859835e-04],\n",
              "       [1.34753621e-02, 1.89649762e-05, 6.12857400e-01, 3.73604501e-01,\n",
              "        3.97933094e-05, 3.97892933e-06],\n",
              "       [4.54715449e-01, 2.21725460e-05, 5.43129878e-01, 9.81274283e-07,\n",
              "        2.09777544e-03, 3.37442358e-05],\n",
              "       [9.82805137e-01, 5.65309208e-04, 1.61584044e-02, 2.33236639e-05,\n",
              "        4.46424477e-04, 1.40099206e-06],\n",
              "       [3.45523719e-03, 3.14214831e-06, 9.93529006e-01, 1.35922324e-03,\n",
              "        8.71143490e-04, 7.82247644e-04],\n",
              "       [2.18155599e-03, 9.48668799e-06, 6.70312835e-05, 7.49479313e-01,\n",
              "        2.05721123e-04, 2.48056892e-01],\n",
              "       [5.42388257e-05, 2.86364951e-04, 9.93929025e-01, 5.69333865e-03,\n",
              "        1.90595478e-05, 1.79730007e-05],\n",
              "       [1.37130827e-01, 8.50768280e-01, 5.60286088e-04, 1.14583312e-02,\n",
              "        8.22495354e-05, 2.67067421e-08],\n",
              "       [4.40826991e-02, 1.66321258e-02, 6.49228175e-01, 2.81407275e-01,\n",
              "        7.92253272e-05, 8.57049977e-03],\n",
              "       [3.91631137e-03, 3.01985238e-03, 5.70195690e-02, 9.36028269e-01,\n",
              "        4.24894583e-06, 1.17491789e-05],\n",
              "       [4.49842824e-04, 1.89010414e-01, 2.38096478e-01, 5.72414476e-01,\n",
              "        2.58108261e-05, 2.97903550e-06],\n",
              "       [3.94281150e-02, 4.97000082e-07, 4.40105928e-01, 5.20063264e-01,\n",
              "        1.15808163e-06, 4.01038280e-04],\n",
              "       [6.05081744e-04, 6.93294796e-04, 9.81313115e-01, 1.73189617e-02,\n",
              "        1.25347337e-06, 6.82933124e-05],\n",
              "       [9.84454259e-01, 3.50263494e-04, 7.77147171e-04, 1.39816805e-02,\n",
              "        4.36518405e-04, 1.31374928e-07],\n",
              "       [4.04366067e-04, 9.97012661e-01, 2.46227535e-03, 4.04000190e-07,\n",
              "        3.93764923e-05, 8.09170343e-05],\n",
              "       [7.26568456e-04, 9.48171480e-01, 4.45131099e-02, 6.39801508e-03,\n",
              "        1.80263305e-04, 1.05629014e-05],\n",
              "       [1.10236176e-03, 2.04203623e-04, 9.97160130e-01, 1.51281725e-03,\n",
              "        6.12929460e-06, 1.43583349e-05],\n",
              "       [1.24510413e-04, 8.53175013e-05, 8.97734158e-01, 1.01794353e-01,\n",
              "        2.46785773e-04, 1.48761533e-05],\n",
              "       [9.75705576e-03, 3.69158381e-05, 9.84631597e-01, 5.29544330e-03,\n",
              "        1.05494856e-05, 2.68438650e-04],\n",
              "       [4.79298638e-03, 2.24924420e-04, 8.29691244e-01, 1.31309346e-01,\n",
              "        5.79412194e-04, 3.34020870e-02],\n",
              "       [9.10852640e-06, 2.82907779e-05, 9.40153965e-01, 1.47826427e-06,\n",
              "        6.69560838e-03, 5.31115492e-02],\n",
              "       [4.35053362e-01, 2.07093097e-03, 1.44196884e-02, 5.48280323e-01,\n",
              "        4.47900226e-06, 1.71217023e-04],\n",
              "       [7.98214996e-03, 4.15837319e-07, 9.87668487e-01, 1.50194099e-04,\n",
              "        4.19204716e-03, 6.70631395e-06],\n",
              "       [1.46507498e-04, 8.57227624e-05, 9.93709530e-01, 5.68676445e-03,\n",
              "        6.12628688e-05, 3.10212598e-04],\n",
              "       [1.75109394e-01, 1.90881101e-05, 8.22807056e-01, 2.56386528e-05,\n",
              "        2.48985000e-06, 2.03633384e-03],\n",
              "       [3.41597605e-02, 1.26661110e-04, 2.43386267e-01, 7.21595073e-01,\n",
              "        4.34743399e-04, 2.97494986e-04],\n",
              "       [3.62555349e-01, 3.34627005e-05, 1.14720307e-01, 5.22575053e-01,\n",
              "        6.23789975e-06, 1.09591162e-04],\n",
              "       [4.31018734e-01, 6.83788765e-03, 1.37602749e-02, 5.21656935e-01,\n",
              "        1.20611946e-04, 2.66055565e-02],\n",
              "       [1.93268273e-03, 4.49858679e-05, 9.96899923e-01, 1.01269352e-03,\n",
              "        4.77208835e-06, 1.04942319e-04],\n",
              "       [2.59258830e-03, 2.08815858e-04, 1.43867076e-01, 8.53127714e-01,\n",
              "        1.80999868e-04, 2.28061233e-05],\n",
              "       [2.72607165e-01, 1.51370288e-05, 1.12118074e-01, 6.15164446e-01,\n",
              "        2.71131739e-05, 6.80644215e-05],\n",
              "       [4.60251548e-05, 2.47627253e-04, 9.99639808e-01, 4.02732898e-07,\n",
              "        6.40111331e-05, 2.12602720e-06],\n",
              "       [1.45682874e-03, 1.65143873e-02, 1.51279566e-05, 9.79553722e-01,\n",
              "        3.00130265e-06, 2.45693292e-03],\n",
              "       [5.09995647e-03, 1.56634230e-04, 9.87285695e-01, 7.36438750e-03,\n",
              "        2.54886941e-05, 6.78383313e-05],\n",
              "       [8.89996935e-05, 9.21180384e-05, 9.68894825e-01, 2.96274542e-02,\n",
              "        1.43211589e-05, 1.28228178e-03],\n",
              "       [7.58317641e-05, 2.20149954e-02, 9.66652250e-01, 1.08006606e-02,\n",
              "        4.26319142e-04, 2.99435708e-05],\n",
              "       [1.25543889e-01, 7.17328138e-04, 8.70463132e-01, 3.22889122e-03,\n",
              "        3.53254027e-05, 1.14349428e-05],\n",
              "       [8.64222361e-01, 1.45942879e-04, 5.91151427e-02, 1.89661363e-04,\n",
              "        7.37143940e-02, 2.61249829e-03],\n",
              "       [1.76921484e-05, 2.09005097e-05, 9.17892359e-01, 8.03998189e-02,\n",
              "        1.14758690e-03, 5.21642164e-04],\n",
              "       [2.16714708e-04, 2.09613787e-05, 9.94658611e-01, 5.08373199e-03,\n",
              "        1.93600980e-06, 1.80447218e-05],\n",
              "       [2.88441461e-01, 9.69765415e-03, 6.71920263e-01, 8.47192440e-04,\n",
              "        2.06766809e-02, 8.41674806e-03],\n",
              "       [4.59993762e-01, 1.56981940e-05, 1.77469196e-02, 4.56448549e-01,\n",
              "        1.93498152e-05, 6.57757222e-02],\n",
              "       [7.03327160e-03, 1.32438471e-05, 9.67872802e-01, 7.68949307e-06,\n",
              "        2.50191887e-02, 5.38048350e-05],\n",
              "       [1.99234950e-02, 4.06042273e-03, 9.23827409e-01, 5.17064907e-02,\n",
              "        4.81159744e-04, 1.02316980e-06],\n",
              "       [8.23381085e-01, 3.26298337e-03, 3.13723094e-05, 1.91901472e-04,\n",
              "        1.71296326e-01, 1.83633275e-03],\n",
              "       [6.33839564e-06, 1.71677066e-04, 9.98494539e-01, 1.28851083e-03,\n",
              "        2.69565093e-05, 1.19783788e-05],\n",
              "       [3.81088971e-01, 1.18817252e-03, 6.17675845e-01, 8.62836151e-06,\n",
              "        3.56081845e-05, 2.77508284e-06],\n",
              "       [2.82000869e-01, 4.01615087e-03, 7.12283251e-01, 3.90905893e-05,\n",
              "        1.64397511e-03, 1.66636159e-05],\n",
              "       [7.83548190e-05, 2.73629003e-04, 9.97137033e-01, 1.30304541e-03,\n",
              "        1.07900564e-03, 1.28932596e-04],\n",
              "       [9.60653692e-01, 3.49635219e-04, 1.22139249e-02, 4.41874720e-06,\n",
              "        2.67528751e-02, 2.54535138e-05],\n",
              "       [5.10070018e-01, 2.24654048e-05, 1.97226141e-03, 4.87896707e-01,\n",
              "        2.00492664e-05, 1.84985981e-05],\n",
              "       [6.56148201e-05, 7.32440249e-05, 6.78981592e-01, 3.20770688e-01,\n",
              "        2.55522627e-06, 1.06305918e-04],\n",
              "       [2.23061463e-01, 4.36583951e-04, 7.73765336e-01, 2.73461087e-03,\n",
              "        1.06431584e-06, 9.42213875e-07],\n",
              "       [8.07067332e-03, 8.82626840e-05, 4.87234331e-01, 5.04073486e-01,\n",
              "        4.68042504e-05, 4.86443049e-04],\n",
              "       [3.58118023e-03, 9.17737002e-02, 8.79326832e-01, 2.21799831e-02,\n",
              "        6.54441390e-05, 3.07286044e-03],\n",
              "       [6.62540861e-02, 8.06194204e-06, 4.63047808e-02, 8.81484693e-01,\n",
              "        5.94342389e-03, 4.95403430e-06],\n",
              "       [1.21954386e-02, 8.79780814e-05, 3.33551740e-01, 6.49231515e-01,\n",
              "        4.91921344e-03, 1.41146348e-05],\n",
              "       [5.60393367e-05, 1.10934543e-04, 9.23494918e-01, 7.62555645e-02,\n",
              "        2.31351622e-05, 5.94080895e-05],\n",
              "       [2.13533597e-02, 2.52272137e-04, 9.74036253e-01, 1.12512215e-03,\n",
              "        3.23046112e-03, 2.53155079e-06],\n",
              "       [1.24402583e-06, 1.04277208e-05, 9.98124702e-01, 1.81161668e-03,\n",
              "        5.18628107e-05, 1.46443211e-07],\n",
              "       [5.19682341e-02, 8.20803501e-03, 9.38213010e-01, 2.47222377e-05,\n",
              "        2.00746231e-06, 1.58399100e-03],\n",
              "       [3.78244752e-02, 9.61201143e-01, 3.11725073e-04, 1.24265967e-04,\n",
              "        4.68666247e-04, 6.97248090e-05],\n",
              "       [2.92949254e-03, 1.95873239e-03, 9.82667226e-01, 2.70319610e-06,\n",
              "        9.32139853e-03, 3.12044752e-03],\n",
              "       [2.79297958e-03, 2.58842053e-05, 2.50491723e-03, 9.84936450e-01,\n",
              "        2.06175604e-04, 9.53359313e-03],\n",
              "       [4.89624784e-04, 1.67657590e-06, 8.97090091e-01, 8.38675785e-03,\n",
              "        2.34953097e-04, 9.37968963e-02],\n",
              "       [2.51291759e-03, 1.25608350e-05, 6.59301670e-01, 2.73512328e-01,\n",
              "        3.12178135e-05, 6.46293053e-02],\n",
              "       [5.28190381e-01, 7.51919139e-06, 4.36179279e-01, 3.55726268e-02,\n",
              "        4.75814795e-06, 4.54354810e-05],\n",
              "       [5.25110822e-03, 2.10924052e-04, 7.49427981e-01, 2.42351235e-01,\n",
              "        1.49402572e-06, 2.75725795e-03],\n",
              "       [4.12093801e-04, 4.18912016e-07, 9.58991702e-01, 3.90791006e-02,\n",
              "        1.48781839e-03, 2.88667351e-05],\n",
              "       [6.45779994e-02, 4.31829852e-05, 6.97654157e-03, 4.87782052e-03,\n",
              "        3.32186731e-04, 9.23192269e-01],\n",
              "       [8.33587126e-02, 6.47459404e-06, 9.05822584e-01, 9.01546083e-04,\n",
              "        1.90038391e-05, 9.89167882e-03],\n",
              "       [2.14184674e-02, 4.21381491e-05, 6.89943411e-01, 2.88574913e-01,\n",
              "        6.89113122e-06, 1.41798162e-05],\n",
              "       [3.54289834e-03, 5.61901685e-04, 9.95706383e-01, 1.78470698e-05,\n",
              "        1.39705259e-04, 3.12644305e-05],\n",
              "       [9.78638566e-02, 8.49605269e-03, 9.54514548e-03, 8.83674762e-01,\n",
              "        4.01274808e-04, 1.89079946e-05],\n",
              "       [4.86245635e-01, 1.00488520e-07, 4.97248580e-01, 1.60976822e-02,\n",
              "        2.36749048e-05, 3.84326431e-04],\n",
              "       [3.87138533e-02, 1.46983949e-01, 7.89097107e-03, 8.06409174e-01,\n",
              "        7.26481702e-07, 1.32608795e-06],\n",
              "       [6.49310865e-02, 6.39782045e-05, 6.24720354e-02, 8.70999841e-01,\n",
              "        2.86908691e-04, 1.24615013e-03],\n",
              "       [8.46221586e-04, 8.20512197e-05, 9.98528227e-01, 2.88572982e-05,\n",
              "        5.05261337e-04, 9.38188738e-06],\n",
              "       [2.27687462e-03, 3.03454586e-05, 9.97629648e-01, 1.88310886e-05,\n",
              "        3.21057715e-05, 1.21950553e-05],\n",
              "       [2.76006500e-06, 1.32688257e-03, 9.98451928e-01, 6.21715688e-05,\n",
              "        1.48159408e-04, 8.09796918e-06],\n",
              "       [8.51938028e-04, 5.01874255e-03, 1.02967454e-02, 2.10551329e-02,\n",
              "        1.62284653e-04, 9.62615156e-01],\n",
              "       [5.19192324e-04, 1.74002062e-03, 2.31097188e-03, 9.90316508e-01,\n",
              "        8.55912923e-05, 5.02771542e-03],\n",
              "       [4.70713097e-04, 5.61881332e-02, 4.56329816e-01, 1.74648474e-07,\n",
              "        1.92722768e-06, 4.87009236e-01],\n",
              "       [5.76010413e-03, 1.49630994e-01, 7.87646323e-01, 1.37056506e-02,\n",
              "        4.32242729e-02, 3.26555689e-05]])"
            ]
          },
          "metadata": {
            "tags": []
          },
          "execution_count": 85
        }
      ]
    },
    {
      "cell_type": "code",
      "metadata": {
        "id": "OCPJ_Og2IQ9p",
        "colab": {
          "base_uri": "https://localhost:8080/"
        },
        "outputId": "6a0f67ef-3795-4f0c-a161-0ceefdc7b1c5"
      },
      "source": [
        "import numpy as np\r\n",
        "pos=[]\r\n",
        "large=[]\r\n",
        "ind = []\r\n",
        "i=0\r\n",
        "for j in pred_unlabel_1:\r\n",
        "  if max(j)> 0.98:\r\n",
        "    ind.append(np.argmax(j))\r\n",
        "    large.append(max(j))\r\n",
        "    pos.append(i)\r\n",
        "  i+=1\r\n",
        "\r\n",
        "\r\n",
        "print(ind)\r\n",
        "print(large)\r\n",
        "print(pos)\r\n",
        "print(len(ind))\r\n",
        "print(len(large))\r\n",
        "print(len(pos))"
      ],
      "execution_count": null,
      "outputs": [
        {
          "output_type": "stream",
          "text": [
            "[2, 2, 2, 2, 2, 2, 0, 2, 2, 2, 0, 1, 2, 2, 2, 2, 2, 2, 2, 2, 2, 2, 2, 2, 3, 2, 2, 2, 2, 3]\n",
            "[0.9935055320185071, 0.9950419711631091, 0.9980729155190468, 0.9990206087250071, 0.9957947079613816, 0.986192579874566, 0.9828051372648968, 0.9935290062915814, 0.9939290250290735, 0.9813131149552955, 0.9844542590365958, 0.9970126610520873, 0.9971601297356079, 0.9846315969719541, 0.9876684866325023, 0.9937095298238904, 0.9968999234719642, 0.9996398076985459, 0.9872856947703561, 0.9946586111942958, 0.9984945388185681, 0.9971370325268678, 0.998124702314649, 0.9826672258186224, 0.9849364502558071, 0.9957063832191267, 0.9985282266718613, 0.9976296480060459, 0.9984519284216712, 0.9903165084584724]\n",
            "[0, 4, 5, 11, 12, 17, 20, 21, 23, 29, 30, 31, 33, 35, 39, 40, 45, 48, 50, 56, 62, 65, 76, 79, 80, 89, 94, 95, 96, 98]\n",
            "30\n",
            "30\n",
            "30\n"
          ],
          "name": "stdout"
        }
      ]
    },
    {
      "cell_type": "code",
      "metadata": {
        "id": "AO_shWh_oc8C",
        "colab": {
          "base_uri": "https://localhost:8080/",
          "height": 196
        },
        "outputId": "202e7d1f-15e3-40e5-aa30-19fbce219e9b"
      },
      "source": [
        "unlabel_1 = unlabel_1.loc[[0,4,5,11,12,17,20,21,23,29,30,31,33,35,39,40,45,48,50,56,62,65,76,79,80,89,94,95,96,98],:]\r\n",
        "unlabel_1.head()"
      ],
      "execution_count": null,
      "outputs": [
        {
          "output_type": "execute_result",
          "data": {
            "text/html": [
              "<div>\n",
              "<style scoped>\n",
              "    .dataframe tbody tr th:only-of-type {\n",
              "        vertical-align: middle;\n",
              "    }\n",
              "\n",
              "    .dataframe tbody tr th {\n",
              "        vertical-align: top;\n",
              "    }\n",
              "\n",
              "    .dataframe thead th {\n",
              "        text-align: right;\n",
              "    }\n",
              "</style>\n",
              "<table border=\"1\" class=\"dataframe\">\n",
              "  <thead>\n",
              "    <tr style=\"text-align: right;\">\n",
              "      <th></th>\n",
              "      <th>Unnamed: 0</th>\n",
              "      <th>Sentence</th>\n",
              "      <th>Target</th>\n",
              "    </tr>\n",
              "  </thead>\n",
              "  <tbody>\n",
              "    <tr>\n",
              "      <th>0</th>\n",
              "      <td>2173</td>\n",
              "      <td>darden sr testified âœi saw staggering â prett...</td>\n",
              "      <td>Facts</td>\n",
              "    </tr>\n",
              "    <tr>\n",
              "      <th>4</th>\n",
              "      <td>79</td>\n",
              "      <td>eligible leaf renew contact family</td>\n",
              "      <td>Facts</td>\n",
              "    </tr>\n",
              "    <tr>\n",
              "      <th>5</th>\n",
              "      <td>1955</td>\n",
              "      <td>got downstairs ponce went car wife left home</td>\n",
              "      <td>Facts</td>\n",
              "    </tr>\n",
              "    <tr>\n",
              "      <th>11</th>\n",
              "      <td>1604</td>\n",
              "      <td>police notified deceased found lying mr moersâ...</td>\n",
              "      <td>Facts</td>\n",
              "    </tr>\n",
              "    <tr>\n",
              "      <th>12</th>\n",
              "      <td>1102</td>\n",
              "      <td>shown vine street drug storeâs supply narcotic...</td>\n",
              "      <td>Facts</td>\n",
              "    </tr>\n",
              "  </tbody>\n",
              "</table>\n",
              "</div>"
            ],
            "text/plain": [
              "    Unnamed: 0                                           Sentence Target\n",
              "0         2173  darden sr testified âœi saw staggering â prett...  Facts\n",
              "4           79                 eligible leaf renew contact family  Facts\n",
              "5         1955       got downstairs ponce went car wife left home  Facts\n",
              "11        1604  police notified deceased found lying mr moersâ...  Facts\n",
              "12        1102  shown vine street drug storeâs supply narcotic...  Facts"
            ]
          },
          "metadata": {
            "tags": []
          },
          "execution_count": 87
        }
      ]
    },
    {
      "cell_type": "code",
      "metadata": {
        "colab": {
          "base_uri": "https://localhost:8080/"
        },
        "id": "IvXmmzFE14bB",
        "outputId": "8a3f64bd-ec36-4f9c-c89f-5704003fffc9"
      },
      "source": [
        "frame_1 = [train_kappa,unlabel_1]\r\n",
        "train_1 = pd.concat(frame_1)\r\n",
        "len(train_1)"
      ],
      "execution_count": null,
      "outputs": [
        {
          "output_type": "execute_result",
          "data": {
            "text/plain": [
              "2981"
            ]
          },
          "metadata": {
            "tags": []
          },
          "execution_count": 88
        }
      ]
    },
    {
      "cell_type": "code",
      "metadata": {
        "colab": {
          "base_uri": "https://localhost:8080/"
        },
        "id": "KhaKOBGN2ycS",
        "outputId": "7437a422-9065-4bd4-f2d6-75b40cdffd40"
      },
      "source": [
        "x_train_1 = tfidf_vect.transform(train_1['Sentence'])\r\n",
        "x_train_1.shape\r\n",
        "X_train, x_val, Y_train, y_val = train_test_split(x_train_1,train_1['Target'],test_size=0.25,random_state=2)\r\n",
        "sgd = SGDClassifier(max_iter=1000, tol=1e-3,loss='hinge',class_weight='balanced')\r\n",
        "clf = sgd.fit(X_train, Y_train)\r\n",
        "calibrator = CalibratedClassifierCV(clf, cv='prefit')\r\n",
        "model_1=calibrator.fit(X_train, Y_train)\r\n",
        "pred_sgd = model_1.predict(x_val)\r\n",
        "print('Accuracy %s' % accuracy_score(pred_sgd,y_val))\r\n",
        "print(classification_report(y_val,pred_sgd))"
      ],
      "execution_count": null,
      "outputs": [
        {
          "output_type": "stream",
          "text": [
            "Accuracy 0.6568364611260054\n",
            "                  precision    recall  f1-score   support\n",
            "\n",
            "        Analysis       0.46      0.40      0.42        96\n",
            "      Conclusion       0.67      0.46      0.55        39\n",
            "           Facts       0.73      0.90      0.81       398\n",
            "         Invalid       0.50      0.41      0.45       129\n",
            "           Issue       0.52      0.33      0.40        40\n",
            "Rule/Law/Holding       0.67      0.18      0.29        44\n",
            "\n",
            "        accuracy                           0.66       746\n",
            "       macro avg       0.59      0.45      0.49       746\n",
            "    weighted avg       0.64      0.66      0.63       746\n",
            "\n"
          ],
          "name": "stdout"
        }
      ]
    },
    {
      "cell_type": "code",
      "metadata": {
        "id": "ym3XqOC8dCjc",
        "colab": {
          "base_uri": "https://localhost:8080/",
          "height": 196
        },
        "outputId": "e04f92bf-c001-46db-ea8d-0f4eabe1f835"
      },
      "source": [
        "unlabel_2.head()"
      ],
      "execution_count": null,
      "outputs": [
        {
          "output_type": "execute_result",
          "data": {
            "text/html": [
              "<div>\n",
              "<style scoped>\n",
              "    .dataframe tbody tr th:only-of-type {\n",
              "        vertical-align: middle;\n",
              "    }\n",
              "\n",
              "    .dataframe tbody tr th {\n",
              "        vertical-align: top;\n",
              "    }\n",
              "\n",
              "    .dataframe thead th {\n",
              "        text-align: right;\n",
              "    }\n",
              "</style>\n",
              "<table border=\"1\" class=\"dataframe\">\n",
              "  <thead>\n",
              "    <tr style=\"text-align: right;\">\n",
              "      <th></th>\n",
              "      <th>Unnamed: 0</th>\n",
              "      <th>Sentence</th>\n",
              "      <th>Target</th>\n",
              "    </tr>\n",
              "  </thead>\n",
              "  <tbody>\n",
              "    <tr>\n",
              "      <th>0</th>\n",
              "      <td>1207</td>\n",
              "      <td>examination occurred night middle may testifie...</td>\n",
              "      <td>Invalid</td>\n",
              "    </tr>\n",
              "    <tr>\n",
              "      <th>1</th>\n",
              "      <td>3400</td>\n",
              "      <td>undisputed testimony reflects appellant drivin...</td>\n",
              "      <td>Facts</td>\n",
              "    </tr>\n",
              "    <tr>\n",
              "      <th>2</th>\n",
              "      <td>2072</td>\n",
              "      <td>appellant testify offer evidence behalf</td>\n",
              "      <td>Facts</td>\n",
              "    </tr>\n",
              "    <tr>\n",
              "      <th>3</th>\n",
              "      <td>517</td>\n",
              "      <td>56 uniform act regulating traffic highway gist...</td>\n",
              "      <td>Rule/Law/Holding</td>\n",
              "    </tr>\n",
              "    <tr>\n",
              "      <th>4</th>\n",
              "      <td>906</td>\n",
              "      <td>agreed accompany gave pawn ticket money reclai...</td>\n",
              "      <td>Facts</td>\n",
              "    </tr>\n",
              "  </tbody>\n",
              "</table>\n",
              "</div>"
            ],
            "text/plain": [
              "   Unnamed: 0  ...            Target\n",
              "0        1207  ...           Invalid\n",
              "1        3400  ...             Facts\n",
              "2        2072  ...             Facts\n",
              "3         517  ...  Rule/Law/Holding\n",
              "4         906  ...             Facts\n",
              "\n",
              "[5 rows x 3 columns]"
            ]
          },
          "metadata": {
            "tags": []
          },
          "execution_count": 95
        }
      ]
    },
    {
      "cell_type": "code",
      "metadata": {
        "colab": {
          "base_uri": "https://localhost:8080/"
        },
        "id": "auSDjm6M3kPB",
        "outputId": "185d02c9-10ba-454d-8dff-4a9b49e0abe9"
      },
      "source": [
        "x_un2 = tfidf_vect.transform(unlabel_2['Sentence'])\r\n",
        "pred_unlabel_2 = model_1.predict_proba(x_un2)\r\n",
        "pred_unlabel_2"
      ],
      "execution_count": null,
      "outputs": [
        {
          "output_type": "execute_result",
          "data": {
            "text/plain": [
              "array([[5.72628693e-02, 1.29721660e-06, 6.53044765e-01, 2.89675467e-01,\n",
              "        5.45072357e-06, 1.01511441e-05],\n",
              "       [1.73803675e-02, 7.26015735e-06, 9.65100692e-01, 1.74750340e-02,\n",
              "        2.30309893e-05, 1.36148588e-05],\n",
              "       [3.20787982e-03, 6.17603029e-05, 9.95841965e-01, 6.72201861e-04,\n",
              "        2.16092443e-04, 1.00203887e-07],\n",
              "       [4.90743364e-03, 6.94297121e-05, 9.14849233e-01, 7.88162201e-02,\n",
              "        1.42077716e-06, 1.35626322e-03],\n",
              "       [1.35594784e-03, 3.11692227e-04, 9.85914118e-01, 1.64894112e-03,\n",
              "        4.87361601e-06, 1.07644276e-02],\n",
              "       [6.71843008e-01, 2.02142370e-04, 1.02952617e-01, 5.47737122e-02,\n",
              "        1.70214334e-01, 1.41861971e-05],\n",
              "       [1.07782119e-01, 1.96738815e-05, 8.88551313e-01, 3.36790080e-03,\n",
              "        2.48174705e-04, 3.08188240e-05],\n",
              "       [9.47991367e-04, 1.84932626e-04, 9.97260319e-01, 1.52706656e-03,\n",
              "        7.85811691e-05, 1.10924332e-06],\n",
              "       [5.02642831e-02, 1.63690661e-04, 9.05086577e-01, 1.44333686e-02,\n",
              "        2.98544489e-02, 1.97631902e-04],\n",
              "       [7.67853708e-05, 1.43834379e-06, 9.88171219e-01, 1.02114871e-02,\n",
              "        1.52980601e-03, 9.26442711e-06],\n",
              "       [5.35000514e-04, 2.59636866e-05, 8.64297390e-01, 1.24845531e-01,\n",
              "        5.49811552e-05, 1.02411341e-02],\n",
              "       [4.35971701e-02, 2.05967042e-03, 1.81314884e-03, 1.15027022e-01,\n",
              "        8.37501051e-01, 1.93850517e-06],\n",
              "       [1.79282885e-05, 4.96687085e-06, 9.99464518e-01, 3.02270172e-04,\n",
              "        2.05594016e-04, 4.72281854e-06],\n",
              "       [1.50182310e-03, 1.40861441e-07, 9.79920267e-01, 2.87426383e-03,\n",
              "        4.58963922e-04, 1.52445417e-02],\n",
              "       [7.15179322e-03, 2.20570912e-04, 9.73391953e-01, 1.91619152e-02,\n",
              "        5.86582127e-05, 1.51093009e-05],\n",
              "       [2.83849152e-03, 4.76460840e-05, 9.94451382e-01, 1.22775793e-03,\n",
              "        7.20394343e-04, 7.14328116e-04],\n",
              "       [1.35302090e-03, 2.27578246e-04, 5.27942366e-01, 8.70526385e-03,\n",
              "        3.37647487e-01, 1.24124284e-01],\n",
              "       [1.54701268e-02, 6.14206775e-03, 4.98693219e-01, 4.59992273e-01,\n",
              "        1.95269917e-02, 1.75321217e-04],\n",
              "       [8.19876044e-04, 3.00092753e-04, 4.59038621e-01, 5.39592715e-01,\n",
              "        1.39181383e-05, 2.34776932e-04],\n",
              "       [6.88333556e-01, 3.04219640e-01, 1.02460572e-05, 7.05757407e-03,\n",
              "        3.30450287e-04, 4.85329213e-05],\n",
              "       [5.77493495e-03, 7.67510586e-06, 9.85888120e-01, 5.96808119e-03,\n",
              "        2.33486724e-03, 2.63212430e-05],\n",
              "       [6.94267620e-03, 6.53166949e-05, 8.81229559e-01, 1.11751886e-01,\n",
              "        7.43906863e-06, 3.12354031e-06],\n",
              "       [2.15694818e-06, 2.79771398e-05, 6.84081543e-01, 3.14478761e-01,\n",
              "        1.40739091e-03, 2.17102622e-06],\n",
              "       [1.26314476e-03, 7.05230786e-05, 9.97744655e-01, 8.29538094e-04,\n",
              "        5.06064376e-05, 4.15325335e-05],\n",
              "       [7.26538219e-01, 2.26796656e-05, 2.55088686e-01, 1.26590482e-02,\n",
              "        1.23427002e-03, 4.45709620e-03],\n",
              "       [2.48970103e-01, 3.27884807e-07, 7.48043360e-01, 1.14052174e-03,\n",
              "        1.84252601e-03, 3.16066969e-06],\n",
              "       [3.07942154e-05, 1.26664981e-04, 8.01281363e-01, 1.97904797e-01,\n",
              "        6.50928300e-04, 5.45195000e-06],\n",
              "       [7.85751801e-01, 1.09679138e-03, 1.34721747e-01, 7.83317576e-02,\n",
              "        3.99885479e-05, 5.79144338e-05],\n",
              "       [4.47750287e-01, 5.14550211e-06, 5.66154680e-02, 4.94395997e-01,\n",
              "        1.34216353e-07, 1.23296812e-03],\n",
              "       [2.21219823e-05, 2.14466886e-04, 9.99696344e-01, 8.77993721e-06,\n",
              "        5.29643035e-05, 5.32240265e-06],\n",
              "       [2.46147235e-03, 3.51609510e-07, 2.64269265e-01, 1.00099210e-01,\n",
              "        4.02150650e-06, 6.33165680e-01],\n",
              "       [5.35369192e-04, 1.63307041e-05, 9.96253761e-01, 2.06891332e-06,\n",
              "        2.07346329e-03, 1.11900721e-03],\n",
              "       [1.89918413e-01, 2.98683260e-05, 8.09285102e-01, 6.59541591e-04,\n",
              "        2.07123723e-06, 1.05003891e-04],\n",
              "       [4.51045919e-03, 3.12258444e-05, 5.41043283e-02, 1.67803144e-03,\n",
              "        1.02792786e-05, 9.39665676e-01],\n",
              "       [2.51412321e-02, 5.25500026e-05, 9.45747472e-01, 2.89083974e-02,\n",
              "        2.22862350e-06, 1.48120088e-04],\n",
              "       [3.14232944e-04, 4.25905559e-05, 8.47286098e-01, 1.51817263e-01,\n",
              "        5.34575173e-05, 4.86357580e-04],\n",
              "       [2.96546627e-03, 9.96059426e-01, 6.34005190e-04, 7.73219748e-06,\n",
              "        2.88609571e-04, 4.47606667e-05],\n",
              "       [3.20785742e-03, 1.28483843e-05, 9.96509060e-01, 7.59231762e-05,\n",
              "        1.69090661e-04, 2.52200052e-05],\n",
              "       [2.18956345e-04, 5.36168371e-01, 4.63584826e-01, 3.05185716e-06,\n",
              "        3.02777977e-08, 2.47643487e-05],\n",
              "       [2.19064827e-03, 5.80745965e-05, 9.97380451e-01, 1.77370117e-04,\n",
              "        1.92173437e-04, 1.28304586e-06],\n",
              "       [4.90891592e-01, 1.12484289e-05, 5.08013667e-01, 6.22279532e-04,\n",
              "        4.35182702e-04, 2.60310172e-05],\n",
              "       [5.73168900e-01, 3.41675786e-06, 4.22170420e-01, 7.44790327e-05,\n",
              "        8.75408641e-06, 4.57402942e-03],\n",
              "       [2.71344246e-05, 1.55841598e-05, 1.46605083e-05, 9.98233267e-01,\n",
              "        9.24260098e-05, 1.61692760e-03],\n",
              "       [7.00130952e-01, 1.88998030e-04, 2.84985685e-01, 2.14097094e-04,\n",
              "        1.44742623e-02, 6.00567173e-06],\n",
              "       [1.22927749e-03, 3.12522011e-04, 9.07242761e-01, 9.07808196e-02,\n",
              "        4.34263687e-04, 3.56440553e-07],\n",
              "       [5.45023098e-02, 5.80076299e-07, 3.73331951e-02, 3.90871823e-01,\n",
              "        5.17275302e-01, 1.67892354e-05],\n",
              "       [4.87244169e-03, 1.14133487e-04, 9.61397849e-01, 3.35314606e-02,\n",
              "        1.00882776e-05, 7.40269958e-05],\n",
              "       [1.42345188e-01, 7.19530571e-04, 8.94707617e-02, 2.40796509e-03,\n",
              "        1.39306251e-03, 7.63663492e-01],\n",
              "       [1.93204611e-02, 1.10873877e-03, 4.06745726e-01, 8.43300831e-02,\n",
              "        3.44608910e-01, 1.43886081e-01],\n",
              "       [1.14228302e-04, 9.95523189e-01, 2.25607058e-03, 8.59195039e-06,\n",
              "        2.08116002e-05, 2.07710840e-03],\n",
              "       [1.34382983e-03, 3.42698717e-05, 9.76186251e-01, 3.64275689e-03,\n",
              "        1.87922084e-02, 6.84347728e-07],\n",
              "       [8.54831997e-01, 1.53382898e-05, 1.22918152e-01, 1.99110086e-02,\n",
              "        2.04959589e-03, 2.73908246e-04],\n",
              "       [1.64225142e-01, 2.86057478e-04, 6.96975962e-01, 1.37914649e-01,\n",
              "        6.41817942e-05, 5.34007111e-04],\n",
              "       [9.89466473e-01, 2.49208803e-03, 4.92430279e-03, 1.14437977e-03,\n",
              "        1.30036921e-04, 1.84271973e-03],\n",
              "       [4.04832921e-04, 4.99307367e-05, 9.86085538e-01, 8.54864883e-03,\n",
              "        4.66532105e-03, 2.45727981e-04],\n",
              "       [4.20976469e-03, 6.23885357e-06, 9.72319583e-01, 6.13887645e-03,\n",
              "        1.47370436e-04, 1.71781664e-02],\n",
              "       [1.37120605e-01, 1.24072805e-04, 7.40330277e-01, 1.22334079e-01,\n",
              "        3.83630981e-05, 5.26033138e-05],\n",
              "       [7.23426717e-02, 2.63542221e-01, 3.94179619e-03, 6.60141115e-01,\n",
              "        1.64009281e-05, 1.57960291e-05],\n",
              "       [8.98422259e-01, 3.44178195e-04, 6.69844097e-02, 1.92434715e-03,\n",
              "        7.25792434e-05, 3.22522265e-02],\n",
              "       [1.31483865e-04, 1.29695582e-04, 9.99490861e-01, 2.29700397e-05,\n",
              "        8.43592967e-05, 1.40630587e-04],\n",
              "       [3.38023426e-02, 1.42933265e-05, 5.88798364e-01, 3.77337060e-01,\n",
              "        4.65432954e-05, 1.39741494e-06],\n",
              "       [2.06457087e-04, 1.75744110e-01, 7.27532086e-01, 2.64677597e-05,\n",
              "        9.64514005e-02, 3.94789863e-05],\n",
              "       [4.39209776e-01, 4.59861636e-03, 3.31071208e-02, 2.39392926e-02,\n",
              "        3.26580719e-01, 1.72564475e-01],\n",
              "       [2.34570330e-04, 2.34604918e-05, 9.93590009e-01, 6.06700836e-03,\n",
              "        6.99366388e-05, 1.50153079e-05],\n",
              "       [1.71007364e-04, 5.71032603e-05, 9.99580629e-01, 3.26911359e-05,\n",
              "        1.49785896e-04, 8.78333064e-06],\n",
              "       [8.20018267e-02, 5.73138366e-06, 9.07927491e-01, 1.00287977e-02,\n",
              "        2.59073610e-05, 1.02458053e-05],\n",
              "       [5.03756058e-04, 1.04582189e-04, 7.85537423e-01, 2.13491256e-01,\n",
              "        2.72502277e-04, 9.04810550e-05],\n",
              "       [4.15399852e-03, 2.62931628e-05, 9.56620075e-01, 2.90273502e-04,\n",
              "        5.56806941e-05, 3.88536789e-02],\n",
              "       [3.45901822e-03, 9.04397857e-06, 3.06196978e-01, 9.35576348e-03,\n",
              "        1.43119554e-03, 6.79548001e-01],\n",
              "       [3.65858725e-03, 3.06305124e-04, 9.93559053e-01, 1.84903542e-03,\n",
              "        6.24899723e-04, 2.11987425e-06],\n",
              "       [2.13012982e-03, 1.38871864e-05, 9.90089269e-01, 7.66702552e-03,\n",
              "        8.18985326e-05, 1.77897977e-05],\n",
              "       [1.71346024e-03, 3.30099052e-06, 9.59746332e-01, 3.85082931e-02,\n",
              "        2.66675849e-05, 1.94606964e-06],\n",
              "       [1.19012945e-03, 1.28185381e-06, 1.56626320e-01, 1.34465678e-02,\n",
              "        7.69797686e-01, 5.89380144e-02],\n",
              "       [6.31500636e-01, 1.20935590e-06, 3.61561594e-01, 6.93292207e-03,\n",
              "        3.40959418e-06, 2.28734063e-07],\n",
              "       [6.60455584e-02, 1.06638870e-04, 5.71294792e-02, 8.35407917e-01,\n",
              "        1.46072297e-02, 2.67031766e-02],\n",
              "       [5.94031965e-03, 3.58276779e-05, 9.87758943e-01, 6.22280655e-03,\n",
              "        1.12483631e-05, 3.08550253e-05],\n",
              "       [8.15575285e-01, 3.08751852e-03, 1.26513373e-01, 6.28801709e-05,\n",
              "        5.26787738e-02, 2.08216876e-03],\n",
              "       [4.49272177e-04, 2.07780071e-05, 4.69237143e-01, 1.07937597e-04,\n",
              "        1.48233913e-03, 5.28702530e-01],\n",
              "       [4.56528488e-01, 1.27986836e-04, 2.71605755e-01, 2.67824349e-01,\n",
              "        3.88271685e-03, 3.07043106e-05],\n",
              "       [7.40589491e-02, 8.25426313e-06, 9.25576842e-01, 8.50887709e-06,\n",
              "        1.64302691e-04, 1.83142860e-04],\n",
              "       [5.86651684e-03, 1.06386120e-04, 2.43285446e-01, 7.43845531e-01,\n",
              "        3.72235932e-05, 6.85889661e-03],\n",
              "       [4.02386986e-04, 2.62065886e-04, 9.79243056e-01, 1.54826184e-02,\n",
              "        4.51548669e-03, 9.43861539e-05],\n",
              "       [3.22388004e-02, 3.83279062e-04, 5.50786295e-01, 3.77389639e-01,\n",
              "        1.16813328e-02, 2.75206531e-02],\n",
              "       [1.68289979e-02, 1.40048717e-05, 2.18959920e-04, 9.76419732e-01,\n",
              "        5.45669935e-03, 1.06160599e-03],\n",
              "       [8.55089348e-03, 1.39659469e-06, 9.87145911e-01, 1.67918197e-05,\n",
              "        2.02986652e-03, 2.25514057e-03],\n",
              "       [1.16704731e-03, 5.89276157e-05, 9.94696642e-01, 1.60587645e-06,\n",
              "        4.07213555e-03, 3.64160689e-06],\n",
              "       [2.49165157e-03, 1.66053363e-02, 9.77570267e-01, 3.12165371e-03,\n",
              "        1.33868014e-04, 7.72238194e-05],\n",
              "       [8.27755484e-04, 4.12818542e-05, 7.35227261e-01, 2.55012380e-01,\n",
              "        8.81113217e-03, 8.01901191e-05],\n",
              "       [1.14511418e-03, 4.60858362e-05, 9.98670995e-01, 5.78971239e-08,\n",
              "        8.08183902e-05, 5.69283162e-05],\n",
              "       [9.38327411e-01, 6.01963800e-03, 1.46044650e-05, 7.69893137e-04,\n",
              "        2.49034624e-02, 2.99649911e-02],\n",
              "       [2.02245192e-01, 2.33447421e-05, 2.79398086e-01, 2.59850298e-03,\n",
              "        3.34745410e-01, 1.80989464e-01],\n",
              "       [5.96775612e-05, 1.14652227e-04, 9.85363638e-01, 1.05649491e-04,\n",
              "        1.17071002e-03, 1.31856722e-02],\n",
              "       [2.77102386e-01, 6.38791607e-06, 7.19867456e-01, 2.88335015e-03,\n",
              "        7.98760589e-06, 1.32432982e-04],\n",
              "       [1.49647294e-02, 1.47509579e-04, 1.44560594e-01, 4.74644803e-04,\n",
              "        8.78360892e-03, 8.31068914e-01],\n",
              "       [3.49359593e-01, 8.59460706e-02, 3.82507217e-02, 5.25260869e-01,\n",
              "        1.17566535e-03, 7.08021278e-06],\n",
              "       [5.01683834e-03, 3.56206091e-04, 9.53217734e-01, 4.00196723e-02,\n",
              "        5.26975179e-04, 8.62574137e-04],\n",
              "       [8.68833720e-05, 2.08370245e-03, 1.16729155e-01, 8.76317249e-01,\n",
              "        4.66236441e-03, 1.20646317e-04],\n",
              "       [4.77364114e-02, 1.64871809e-04, 8.19414787e-01, 3.86603533e-02,\n",
              "        1.87692733e-05, 9.40048068e-02],\n",
              "       [1.03189064e-02, 7.04727647e-04, 1.45037598e-02, 1.45459622e-01,\n",
              "        1.17095714e-01, 7.11917270e-01],\n",
              "       [3.73631872e-03, 1.29471956e-05, 5.18029363e-01, 3.63931057e-04,\n",
              "        4.77857405e-01, 3.55376744e-08]])"
            ]
          },
          "metadata": {
            "tags": []
          },
          "execution_count": 96
        }
      ]
    },
    {
      "cell_type": "code",
      "metadata": {
        "id": "1kFzxzlxcFGi",
        "colab": {
          "base_uri": "https://localhost:8080/"
        },
        "outputId": "c02939f2-fa92-4bc8-ecd0-642eecddd7d7"
      },
      "source": [
        "pos=[]\r\n",
        "large=[]\r\n",
        "ind = []\r\n",
        "i=0\r\n",
        "for j in pred_unlabel_2:\r\n",
        "  if max(j)> 0.98:\r\n",
        "    ind.append(np.argmax(j))\r\n",
        "    large.append(max(j))\r\n",
        "    pos.append(i)\r\n",
        "  i+=1\r\n",
        "\r\n",
        "\r\n",
        "print(ind)\r\n",
        "print(large)\r\n",
        "print(pos)\r\n",
        "print(len(ind))\r\n",
        "print(len(large))\r\n",
        "print(len(pos))"
      ],
      "execution_count": null,
      "outputs": [
        {
          "output_type": "stream",
          "text": [
            "[2, 2, 2, 2, 2, 2, 2, 2, 2, 2, 1, 2, 2, 3, 1, 0, 2, 2, 2, 2, 2, 2, 2, 2, 2, 2, 2]\n",
            "[0.9958419653670616, 0.9859141175885046, 0.9972603190374736, 0.9881712187194087, 0.999464517834786, 0.9944513820130505, 0.9858881202663298, 0.9977446550932919, 0.999696344487791, 0.9962537606982749, 0.9960594261034281, 0.9965090603491691, 0.9973804505387537, 0.9982332672975743, 0.9955231891601946, 0.9894664727571506, 0.9860855384889253, 0.999490860630111, 0.9935900088752679, 0.9995806290125435, 0.9935590526042122, 0.9900892691499836, 0.9877589427351785, 0.9871459110191689, 0.9946966420416423, 0.9986709953821614, 0.9853636384755653]\n",
            "[2, 4, 7, 9, 12, 15, 20, 23, 29, 31, 36, 37, 39, 42, 49, 53, 54, 59, 63, 64, 69, 70, 75, 84, 85, 88, 91]\n",
            "27\n",
            "27\n",
            "27\n"
          ],
          "name": "stdout"
        }
      ]
    },
    {
      "cell_type": "code",
      "metadata": {
        "id": "SjEIW0SRcUim",
        "colab": {
          "base_uri": "https://localhost:8080/",
          "height": 196
        },
        "outputId": "3b845a7d-893f-4ec1-ab02-e1b082f98d36"
      },
      "source": [
        "unlabel_2 = unlabel_2.loc[[2, 4, 7, 9, 12, 15, 20, 23, 29, 31, 36, 37, 39, 42, 49, 53, 54, 59, 63, 64, 69, 70, 75, 84, 85, 88, 91],:]\r\n",
        "unlabel_2.head()"
      ],
      "execution_count": null,
      "outputs": [
        {
          "output_type": "execute_result",
          "data": {
            "text/html": [
              "<div>\n",
              "<style scoped>\n",
              "    .dataframe tbody tr th:only-of-type {\n",
              "        vertical-align: middle;\n",
              "    }\n",
              "\n",
              "    .dataframe tbody tr th {\n",
              "        vertical-align: top;\n",
              "    }\n",
              "\n",
              "    .dataframe thead th {\n",
              "        text-align: right;\n",
              "    }\n",
              "</style>\n",
              "<table border=\"1\" class=\"dataframe\">\n",
              "  <thead>\n",
              "    <tr style=\"text-align: right;\">\n",
              "      <th></th>\n",
              "      <th>Unnamed: 0</th>\n",
              "      <th>Sentence</th>\n",
              "      <th>Target</th>\n",
              "    </tr>\n",
              "  </thead>\n",
              "  <tbody>\n",
              "    <tr>\n",
              "      <th>2</th>\n",
              "      <td>2072</td>\n",
              "      <td>appellant testify offer evidence behalf</td>\n",
              "      <td>Facts</td>\n",
              "    </tr>\n",
              "    <tr>\n",
              "      <th>4</th>\n",
              "      <td>906</td>\n",
              "      <td>agreed accompany gave pawn ticket money reclai...</td>\n",
              "      <td>Facts</td>\n",
              "    </tr>\n",
              "    <tr>\n",
              "      <th>7</th>\n",
              "      <td>3150</td>\n",
              "      <td>finding door facing street seen man walking pr...</td>\n",
              "      <td>Facts</td>\n",
              "    </tr>\n",
              "    <tr>\n",
              "      <th>9</th>\n",
              "      <td>2887</td>\n",
              "      <td>sole ground advanced setting aside courtâs ord...</td>\n",
              "      <td>Issue</td>\n",
              "    </tr>\n",
              "    <tr>\n",
              "      <th>12</th>\n",
              "      <td>2085</td>\n",
              "      <td>mr joyce wisnoski sister appellant testified v...</td>\n",
              "      <td>Facts</td>\n",
              "    </tr>\n",
              "  </tbody>\n",
              "</table>\n",
              "</div>"
            ],
            "text/plain": [
              "    Unnamed: 0                                           Sentence Target\n",
              "2         2072            appellant testify offer evidence behalf  Facts\n",
              "4          906  agreed accompany gave pawn ticket money reclai...  Facts\n",
              "7         3150  finding door facing street seen man walking pr...  Facts\n",
              "9         2887  sole ground advanced setting aside courtâs ord...  Issue\n",
              "12        2085  mr joyce wisnoski sister appellant testified v...  Facts"
            ]
          },
          "metadata": {
            "tags": []
          },
          "execution_count": 98
        }
      ]
    },
    {
      "cell_type": "code",
      "metadata": {
        "colab": {
          "base_uri": "https://localhost:8080/"
        },
        "id": "NxclooBx4BZC",
        "outputId": "96d52740-8976-4b09-fb3d-c5399fd965b3"
      },
      "source": [
        "frame_2 = [train_1,unlabel_2]\r\n",
        "train_2 = pd.concat(frame_2)\r\n",
        "len(train_2)"
      ],
      "execution_count": null,
      "outputs": [
        {
          "output_type": "execute_result",
          "data": {
            "text/plain": [
              "3008"
            ]
          },
          "metadata": {
            "tags": []
          },
          "execution_count": 99
        }
      ]
    },
    {
      "cell_type": "code",
      "metadata": {
        "colab": {
          "base_uri": "https://localhost:8080/"
        },
        "id": "5BkYWivL83cu",
        "outputId": "e69b584e-cb00-4377-c5ef-93c94882195b"
      },
      "source": [
        "x_train_2 = tfidf_vect.transform(train_2['Sentence'])\r\n",
        "X_train, x_val, Y_train, y_val = train_test_split(x_train_2,train_2['Target'],test_size=0.22,random_state=42)\r\n",
        "sgd = SGDClassifier(max_iter=1000, tol=1e-3,loss='hinge',class_weight='balanced')\r\n",
        "clf = sgd.fit(X_train, Y_train)\r\n",
        "calibrator = CalibratedClassifierCV(clf, cv='prefit')\r\n",
        "model_2=calibrator.fit(X_train, Y_train)\r\n",
        "pred_sgd = model_2.predict(x_val)\r\n",
        "print('Accuracy %s' % accuracy_score(pred_sgd,y_val))\r\n",
        "print(classification_report(y_val,pred_sgd))"
      ],
      "execution_count": null,
      "outputs": [
        {
          "output_type": "stream",
          "text": [
            "Accuracy 0.6570996978851964\n",
            "                  precision    recall  f1-score   support\n",
            "\n",
            "        Analysis       0.54      0.40      0.46        92\n",
            "      Conclusion       0.65      0.37      0.47        35\n",
            "           Facts       0.74      0.90      0.81       357\n",
            "         Invalid       0.46      0.44      0.45       102\n",
            "           Issue       0.55      0.31      0.39        39\n",
            "Rule/Law/Holding       0.35      0.19      0.25        37\n",
            "\n",
            "        accuracy                           0.66       662\n",
            "       macro avg       0.55      0.44      0.47       662\n",
            "    weighted avg       0.63      0.66      0.63       662\n",
            "\n"
          ],
          "name": "stdout"
        }
      ]
    },
    {
      "cell_type": "code",
      "metadata": {
        "id": "840L4foPlGg6",
        "colab": {
          "base_uri": "https://localhost:8080/"
        },
        "outputId": "99266022-996d-4576-f2f7-a4ee1b28a830"
      },
      "source": [
        "x_un3 = tfidf_vect.transform(unlabel_3['Sentence'])\r\n",
        "pred_unlabel_3 = model_2.predict_proba(x_un3)\r\n",
        "pred_unlabel_3"
      ],
      "execution_count": null,
      "outputs": [
        {
          "output_type": "execute_result",
          "data": {
            "text/plain": [
              "array([[9.93602895e-01, 4.56114765e-03, 7.87726990e-04, 1.01954229e-03,\n",
              "        2.85295757e-05, 1.58286873e-07],\n",
              "       [2.89067157e-01, 2.07941443e-04, 6.18733489e-01, 9.19822567e-02,\n",
              "        6.64646138e-06, 2.50938319e-06],\n",
              "       [4.74448861e-05, 1.02915547e-06, 6.83358539e-01, 3.16555242e-01,\n",
              "        1.14365796e-05, 2.63083080e-05],\n",
              "       [1.57317029e-03, 3.38828107e-04, 9.17043282e-01, 8.10039914e-02,\n",
              "        2.19897505e-05, 1.87380423e-05],\n",
              "       [2.15774869e-02, 4.04795058e-05, 9.67259900e-01, 1.10048966e-02,\n",
              "        2.15057371e-05, 9.57312548e-05],\n",
              "       [2.19101469e-03, 1.96875954e-04, 8.40668533e-02, 9.12090047e-01,\n",
              "        1.44336811e-03, 1.18411010e-05],\n",
              "       [2.45378426e-02, 5.24999989e-04, 5.58795001e-01, 4.15852737e-01,\n",
              "        1.36109132e-04, 1.53310145e-04],\n",
              "       [4.71121884e-03, 1.33400196e-04, 9.94696020e-01, 4.51796355e-04,\n",
              "        2.87191682e-07, 7.27693102e-06],\n",
              "       [3.34839125e-03, 3.05315810e-05, 9.95513096e-01, 9.12884261e-04,\n",
              "        2.15000697e-07, 1.94881559e-04],\n",
              "       [9.39769215e-02, 8.78570969e-05, 2.35561525e-01, 6.70294412e-01,\n",
              "        4.39875060e-06, 7.48857630e-05],\n",
              "       [3.45413566e-01, 1.66634967e-06, 3.62707964e-04, 6.53621310e-01,\n",
              "        5.97802351e-04, 2.94721848e-06],\n",
              "       [8.48731182e-01, 2.38682033e-05, 1.36467497e-01, 1.02027198e-02,\n",
              "        1.53685737e-04, 4.42104777e-03],\n",
              "       [1.54434932e-04, 8.81766289e-05, 9.99543655e-01, 1.08928576e-04,\n",
              "        7.45009950e-05, 3.03041189e-05],\n",
              "       [5.80461947e-01, 9.08509004e-04, 1.17713591e-02, 4.06369727e-01,\n",
              "        7.34176292e-07, 4.87723339e-04],\n",
              "       [1.07972796e-02, 1.00972755e-04, 9.61606761e-01, 2.74051568e-02,\n",
              "        1.72768359e-05, 7.25531032e-05],\n",
              "       [1.76051594e-04, 2.59988718e-05, 2.97101775e-01, 7.02656894e-01,\n",
              "        1.78310289e-06, 3.74973237e-05],\n",
              "       [6.42791791e-02, 1.68376737e-02, 5.92971286e-01, 2.60605670e-01,\n",
              "        6.44916531e-02, 8.14538255e-04],\n",
              "       [2.24812405e-03, 1.60961838e-04, 6.44167968e-01, 3.53354218e-01,\n",
              "        1.17215053e-05, 5.70063045e-05],\n",
              "       [3.04178334e-05, 1.48483130e-02, 2.84781954e-01, 7.00117033e-01,\n",
              "        9.34385912e-06, 2.12938423e-04],\n",
              "       [1.02374733e-02, 2.17534206e-04, 9.87731084e-01, 1.75401890e-03,\n",
              "        8.46584184e-06, 5.14235117e-05],\n",
              "       [1.72156491e-03, 1.76812629e-05, 9.97640783e-01, 5.96674943e-06,\n",
              "        6.63135278e-05, 5.47690888e-04],\n",
              "       [4.83578570e-03, 9.87511463e-01, 4.41481871e-03, 3.23385111e-03,\n",
              "        1.83103032e-10, 4.08084161e-06],\n",
              "       [4.45309884e-03, 7.29286969e-05, 9.57936201e-01, 2.65685892e-02,\n",
              "        1.61542800e-04, 1.08076391e-02],\n",
              "       [1.49724963e-02, 9.33446527e-02, 7.06077736e-01, 1.85583807e-01,\n",
              "        1.96366888e-05, 1.67197943e-06],\n",
              "       [1.47612216e-03, 1.10466602e-04, 7.63356089e-01, 2.34944589e-01,\n",
              "        1.10728644e-04, 2.00462517e-06],\n",
              "       [1.97220860e-04, 2.35642444e-05, 4.85986233e-01, 5.13762076e-01,\n",
              "        1.68646602e-05, 1.40411533e-05],\n",
              "       [1.00823196e-02, 1.72942907e-04, 9.60908128e-01, 2.87514195e-02,\n",
              "        6.16741597e-05, 2.35156396e-05],\n",
              "       [6.86651944e-04, 7.56678071e-05, 9.99072649e-01, 1.15558154e-05,\n",
              "        1.36677098e-04, 1.67984536e-05],\n",
              "       [4.40824378e-01, 3.04984700e-04, 2.00956222e-01, 5.18588015e-03,\n",
              "        2.54473588e-01, 9.82549473e-02],\n",
              "       [1.00627752e-02, 1.91254024e-04, 9.85376743e-01, 3.13613591e-03,\n",
              "        1.48943546e-05, 1.21819708e-03],\n",
              "       [1.24683416e-02, 5.18635057e-05, 9.86231858e-01, 1.97930059e-04,\n",
              "        9.69005511e-04, 8.10011191e-05],\n",
              "       [4.71151190e-04, 1.92663710e-02, 9.79343768e-01, 4.24009241e-04,\n",
              "        4.93624220e-04, 1.07621844e-06],\n",
              "       [8.74946680e-03, 2.79690610e-04, 4.87512742e-01, 5.02851100e-01,\n",
              "        2.51227406e-04, 3.55773118e-04],\n",
              "       [1.58100994e-02, 1.42609431e-05, 9.79631983e-01, 5.73667208e-06,\n",
              "        3.51394970e-04, 4.18652540e-03],\n",
              "       [4.05908764e-05, 1.24034513e-04, 9.19089754e-01, 8.07034209e-02,\n",
              "        4.05620433e-05, 1.63819323e-06],\n",
              "       [7.89517880e-04, 1.79663755e-07, 9.98548015e-01, 2.72381909e-06,\n",
              "        6.45404986e-04, 1.41583060e-05],\n",
              "       [1.07024282e-04, 4.16475665e-05, 9.90654157e-01, 7.80285174e-03,\n",
              "        1.38857727e-03, 5.74206508e-06],\n",
              "       [2.60170414e-01, 1.28401348e-03, 7.21044161e-01, 9.29450782e-06,\n",
              "        1.74871361e-02, 4.98138555e-06],\n",
              "       [5.77402407e-02, 1.59890661e-04, 6.92582076e-01, 2.48872504e-01,\n",
              "        6.00812868e-04, 4.44752361e-05],\n",
              "       [5.97234209e-03, 2.63030553e-02, 9.64316256e-01, 2.98235671e-03,\n",
              "        1.63843082e-05, 4.09606012e-04],\n",
              "       [2.75010726e-04, 2.69702376e-04, 9.60476617e-01, 3.89372625e-02,\n",
              "        8.24348291e-06, 3.31635234e-05],\n",
              "       [6.60005109e-04, 7.87581889e-06, 7.14402255e-01, 2.82872073e-01,\n",
              "        1.40953282e-03, 6.48257523e-04],\n",
              "       [3.76380045e-01, 3.14569023e-05, 4.35925626e-01, 1.87606789e-01,\n",
              "        3.70637213e-05, 1.90192530e-05],\n",
              "       [3.32190329e-04, 4.01229608e-06, 9.99376223e-01, 4.95829545e-05,\n",
              "        1.60034870e-04, 7.79569585e-05],\n",
              "       [2.06269220e-02, 9.92211819e-05, 5.47158132e-01, 4.32112329e-01,\n",
              "        9.53894968e-08, 3.30045673e-06],\n",
              "       [7.93790565e-02, 6.77640170e-01, 1.00299970e-05, 2.39526080e-01,\n",
              "        3.42166275e-03, 2.30004664e-05],\n",
              "       [1.88530624e-03, 4.59301525e-06, 9.97648188e-01, 2.13273927e-08,\n",
              "        4.61154996e-04, 7.36634897e-07],\n",
              "       [1.29966757e-03, 1.69630787e-04, 9.97455453e-01, 9.99650978e-04,\n",
              "        1.34535098e-05, 6.21436575e-05],\n",
              "       [2.23801777e-03, 6.39243454e-05, 9.95238211e-01, 2.32454850e-03,\n",
              "        1.52515862e-05, 1.20046654e-04],\n",
              "       [3.99420100e-04, 1.98252786e-04, 9.85291477e-01, 1.27680986e-02,\n",
              "        2.49670361e-05, 1.31778404e-03],\n",
              "       [1.68825621e-03, 7.55514138e-05, 7.73022897e-01, 2.24998557e-01,\n",
              "        1.92681156e-05, 1.95470925e-04],\n",
              "       [3.43734396e-03, 1.99712531e-05, 9.77266045e-01, 1.91216302e-02,\n",
              "        1.53719359e-04, 1.29050628e-06],\n",
              "       [8.13728221e-04, 2.33744664e-05, 8.32566022e-01, 6.56404161e-04,\n",
              "        1.65938883e-01, 1.58871564e-06],\n",
              "       [8.33596449e-04, 9.97393087e-01, 1.60201464e-03, 1.92437716e-06,\n",
              "        1.15148184e-04, 5.42292715e-05],\n",
              "       [5.01089530e-06, 2.79590632e-04, 1.11773527e-02, 9.88457716e-01,\n",
              "        2.22367494e-05, 5.80926394e-05],\n",
              "       [7.48594179e-01, 4.64846216e-05, 1.53537172e-01, 9.31970049e-02,\n",
              "        4.01273974e-06, 4.62114674e-03],\n",
              "       [2.49699734e-05, 8.45640483e-01, 2.89517580e-03, 1.50844446e-01,\n",
              "        5.94394885e-04, 5.30822744e-07],\n",
              "       [2.40033461e-04, 7.97754578e-05, 9.97983563e-01, 1.62971854e-03,\n",
              "        6.24585409e-06, 6.06639525e-05],\n",
              "       [5.41770237e-02, 2.80960113e-05, 5.89034247e-01, 1.03376999e-06,\n",
              "        1.21072222e-04, 3.56638527e-01],\n",
              "       [5.78403815e-07, 1.35351334e-04, 1.12090139e-01, 8.87370330e-01,\n",
              "        3.97701509e-04, 5.90021783e-06],\n",
              "       [7.83642312e-07, 3.09541184e-04, 7.84404840e-01, 1.02435439e-04,\n",
              "        2.15181683e-01, 7.16093775e-07],\n",
              "       [1.22392483e-03, 7.08816879e-03, 7.74473910e-03, 2.15161616e-01,\n",
              "        1.76374796e-06, 7.68779787e-01],\n",
              "       [5.76204776e-03, 3.44144892e-05, 8.16634272e-01, 2.44925892e-04,\n",
              "        1.73206451e-01, 4.11788840e-03],\n",
              "       [3.69355906e-04, 9.96123053e-06, 9.98386880e-01, 3.50202128e-04,\n",
              "        8.30780243e-04, 5.28207346e-05],\n",
              "       [1.29417344e-03, 3.70820614e-04, 9.86532162e-01, 8.97527919e-03,\n",
              "        2.71886651e-03, 1.08698193e-04],\n",
              "       [4.45800291e-03, 6.66736490e-05, 9.95415413e-01, 1.28789553e-05,\n",
              "        2.83335125e-05, 1.86984288e-05],\n",
              "       [1.74738330e-04, 9.73688007e-06, 7.29205709e-01, 2.70595763e-01,\n",
              "        8.87535029e-08, 1.39642478e-05],\n",
              "       [1.37375973e-02, 5.69573803e-05, 9.77465850e-01, 5.24427952e-04,\n",
              "        3.40310242e-04, 7.87485712e-03],\n",
              "       [1.19913980e-03, 3.06649041e-04, 9.98404881e-01, 4.96988902e-05,\n",
              "        1.23923314e-05, 2.72384857e-05],\n",
              "       [1.00426732e-03, 6.48475491e-05, 6.17739256e-01, 3.80467278e-01,\n",
              "        1.48882984e-04, 5.75467519e-04],\n",
              "       [3.57762254e-04, 1.66892752e-05, 6.57947623e-01, 3.41531746e-01,\n",
              "        1.45468060e-04, 7.11726812e-07],\n",
              "       [2.48300856e-03, 7.45265824e-05, 8.33023832e-01, 1.64399084e-01,\n",
              "        4.33306662e-06, 1.52151935e-05],\n",
              "       [1.04328406e-02, 2.43772734e-05, 9.88999300e-01, 4.89795342e-04,\n",
              "        1.87008112e-05, 3.49863059e-05],\n",
              "       [1.11957643e-02, 1.07303151e-04, 8.64767432e-01, 1.23827809e-01,\n",
              "        5.34044693e-06, 9.63513411e-05],\n",
              "       [4.65123218e-01, 3.98314708e-05, 5.34351503e-01, 4.82839640e-04,\n",
              "        1.28866415e-06, 1.31825745e-06],\n",
              "       [4.32729875e-03, 8.26219991e-05, 9.71151540e-01, 2.42864444e-02,\n",
              "        1.50092318e-04, 2.00292587e-06],\n",
              "       [2.33976045e-05, 1.72961513e-02, 5.59859942e-04, 3.75128542e-01,\n",
              "        6.06986944e-01, 5.10572345e-06],\n",
              "       [8.19611430e-01, 1.36210361e-02, 2.97954821e-02, 1.88804369e-02,\n",
              "        1.17223691e-01, 8.67923996e-04],\n",
              "       [6.94456284e-03, 2.10266232e-05, 9.92820140e-01, 5.07677684e-05,\n",
              "        5.71096916e-05, 1.06393194e-04],\n",
              "       [9.45099661e-02, 3.72884817e-04, 9.05084196e-01, 7.98822373e-06,\n",
              "        3.94506166e-06, 2.10195774e-05],\n",
              "       [2.72356966e-03, 8.28825143e-04, 8.75278042e-01, 1.21077134e-01,\n",
              "        8.60558624e-06, 8.38238385e-05],\n",
              "       [8.98698065e-02, 1.92559789e-03, 8.20421200e-01, 8.73310612e-02,\n",
              "        4.22169258e-04, 3.01647822e-05],\n",
              "       [7.05894947e-01, 9.37806684e-06, 3.48076794e-03, 2.88778113e-01,\n",
              "        2.40032543e-05, 1.81279069e-03],\n",
              "       [7.52575368e-01, 3.56838986e-05, 4.68365502e-02, 1.99449759e-01,\n",
              "        4.80162918e-06, 1.09783733e-03],\n",
              "       [1.31482256e-01, 8.49266755e-02, 1.62802288e-02, 7.65103762e-01,\n",
              "        2.20652172e-03, 5.55818552e-07],\n",
              "       [2.89368124e-01, 4.29914548e-05, 1.04385450e-04, 7.10231156e-01,\n",
              "        2.39696005e-04, 1.36475756e-05],\n",
              "       [1.53182764e-03, 1.34446028e-01, 5.87940464e-01, 2.75434767e-01,\n",
              "        6.07811526e-04, 3.91020748e-05],\n",
              "       [8.83006630e-03, 4.10414019e-04, 9.66872820e-01, 9.43515051e-05,\n",
              "        2.37903174e-02, 2.03116893e-06],\n",
              "       [1.88776418e-03, 8.78720827e-04, 9.09998219e-01, 8.71022088e-02,\n",
              "        5.25425690e-05, 8.05443630e-05],\n",
              "       [5.15878028e-03, 5.32292246e-05, 9.94754031e-01, 6.56444366e-06,\n",
              "        2.68672725e-05, 5.27728463e-07],\n",
              "       [5.22174450e-04, 1.38967998e-05, 1.53412837e-01, 6.36109689e-04,\n",
              "        8.45413596e-01, 1.38622471e-06],\n",
              "       [4.52358855e-02, 1.20524500e-06, 9.54126004e-01, 5.95554681e-04,\n",
              "        3.51896083e-05, 6.16133495e-06],\n",
              "       [5.24629605e-01, 1.25396958e-06, 1.53709693e-01, 3.21159804e-01,\n",
              "        4.63160733e-04, 3.64840650e-05],\n",
              "       [8.77366918e-01, 4.64255130e-05, 1.20589300e-01, 8.77418858e-07,\n",
              "        5.39883676e-04, 1.45659446e-03],\n",
              "       [4.82619929e-01, 2.80670445e-05, 5.02247373e-01, 1.47994620e-02,\n",
              "        8.02875901e-05, 2.24881167e-04],\n",
              "       [6.07083910e-01, 1.20702800e-05, 3.91227975e-01, 5.40517479e-05,\n",
              "        2.80949621e-05, 1.59389793e-03],\n",
              "       [3.39695038e-06, 4.84570128e-05, 5.30892168e-01, 4.68694621e-01,\n",
              "        3.57865812e-04, 3.49080220e-06],\n",
              "       [1.85647231e-03, 7.57307385e-04, 9.79457788e-01, 3.37848759e-04,\n",
              "        1.74914894e-02, 9.90941889e-05],\n",
              "       [2.14637893e-03, 2.87647743e-03, 8.76816851e-01, 1.12926160e-01,\n",
              "        4.63250293e-03, 6.01629060e-04],\n",
              "       [3.11021136e-01, 2.30670885e-03, 1.34431051e-01, 4.08158518e-02,\n",
              "        3.15823000e-03, 5.08267023e-01]])"
            ]
          },
          "metadata": {
            "tags": []
          },
          "execution_count": 108
        }
      ]
    },
    {
      "cell_type": "code",
      "metadata": {
        "id": "KWI2ImgCmAZl",
        "colab": {
          "base_uri": "https://localhost:8080/"
        },
        "outputId": "2ce9e79d-3c2a-422d-ba3f-9b7dacbaa196"
      },
      "source": [
        "pos=[]\r\n",
        "large=[]\r\n",
        "ind = []\r\n",
        "i=0\r\n",
        "for j in pred_unlabel_3:\r\n",
        "  if max(j)> 0.98:\r\n",
        "    ind.append(np.argmax(j))\r\n",
        "    large.append(max(j))\r\n",
        "    pos.append(i)\r\n",
        "  i+=1\r\n",
        "\r\n",
        "\r\n",
        "print(ind)\r\n",
        "print(large)\r\n",
        "print(pos)\r\n",
        "print(len(ind))\r\n",
        "print(len(large))\r\n",
        "print(len(pos))"
      ],
      "execution_count": null,
      "outputs": [
        {
          "output_type": "stream",
          "text": [
            "[0, 2, 2, 2, 2, 2, 1, 2, 2, 2, 2, 2, 2, 2, 2, 2, 2, 1, 3, 2, 2, 2, 2, 2, 2, 2, 2]\n",
            "[0.9936028952137997, 0.9946960204883722, 0.9955130963509797, 0.9995436547492852, 0.9877310842070094, 0.9976407826583045, 0.9875114634599979, 0.9990726488822422, 0.9853767434441922, 0.9862318581799873, 0.9985480153449864, 0.9906541570816229, 0.9993762225919262, 0.9976481877828374, 0.9974554534973792, 0.9952382111464214, 0.9852914774439763, 0.997393087074503, 0.98845771638222, 0.9979835627350904, 0.9983868797570952, 0.9865321620555932, 0.9954154125414592, 0.9984048814540502, 0.9889992997130015, 0.9928201398809484, 0.9947540310484745]\n",
            "[0, 7, 8, 12, 19, 20, 21, 27, 29, 30, 35, 36, 43, 46, 47, 48, 49, 53, 54, 57, 63, 64, 65, 68, 72, 78, 89]\n",
            "27\n",
            "27\n",
            "27\n"
          ],
          "name": "stdout"
        }
      ]
    },
    {
      "cell_type": "code",
      "metadata": {
        "id": "XazWCU3lmWra",
        "colab": {
          "base_uri": "https://localhost:8080/",
          "height": 196
        },
        "outputId": "45d7a16e-1320-4671-ab49-86e0a0512af3"
      },
      "source": [
        "unlabel_3 = unlabel_3.loc[[0, 7, 8, 12, 19, 20, 21, 27, 29, 30, 35, 36, 43, 46, 47, 48, 49, 53, 54, 57, 63, 64, 65, 68, 72, 78, 89],:]\r\n",
        "unlabel_3.head()"
      ],
      "execution_count": null,
      "outputs": [
        {
          "output_type": "execute_result",
          "data": {
            "text/html": [
              "<div>\n",
              "<style scoped>\n",
              "    .dataframe tbody tr th:only-of-type {\n",
              "        vertical-align: middle;\n",
              "    }\n",
              "\n",
              "    .dataframe tbody tr th {\n",
              "        vertical-align: top;\n",
              "    }\n",
              "\n",
              "    .dataframe thead th {\n",
              "        text-align: right;\n",
              "    }\n",
              "</style>\n",
              "<table border=\"1\" class=\"dataframe\">\n",
              "  <thead>\n",
              "    <tr style=\"text-align: right;\">\n",
              "      <th></th>\n",
              "      <th>Unnamed: 0</th>\n",
              "      <th>Sentence</th>\n",
              "      <th>Target</th>\n",
              "    </tr>\n",
              "  </thead>\n",
              "  <tbody>\n",
              "    <tr>\n",
              "      <th>0</th>\n",
              "      <td>1882</td>\n",
              "      <td>find evidence amply sufficient sustain juryâs ...</td>\n",
              "      <td>Analysis</td>\n",
              "    </tr>\n",
              "    <tr>\n",
              "      <th>7</th>\n",
              "      <td>2115</td>\n",
              "      <td>told get back bed said floor cool sick stomach...</td>\n",
              "      <td>Facts</td>\n",
              "    </tr>\n",
              "    <tr>\n",
              "      <th>8</th>\n",
              "      <td>1278</td>\n",
              "      <td>testified first time would come bed week altho...</td>\n",
              "      <td>Facts</td>\n",
              "    </tr>\n",
              "    <tr>\n",
              "      <th>12</th>\n",
              "      <td>2106</td>\n",
              "      <td>came gone ten day said get something somebody ...</td>\n",
              "      <td>Facts</td>\n",
              "    </tr>\n",
              "    <tr>\n",
              "      <th>19</th>\n",
              "      <td>985</td>\n",
              "      <td>knew wrong knew wrong â</td>\n",
              "      <td>Facts</td>\n",
              "    </tr>\n",
              "  </tbody>\n",
              "</table>\n",
              "</div>"
            ],
            "text/plain": [
              "    Unnamed: 0                                           Sentence    Target\n",
              "0         1882  find evidence amply sufficient sustain juryâs ...  Analysis\n",
              "7         2115  told get back bed said floor cool sick stomach...     Facts\n",
              "8         1278  testified first time would come bed week altho...     Facts\n",
              "12        2106  came gone ten day said get something somebody ...     Facts\n",
              "19         985                            knew wrong knew wrong â     Facts"
            ]
          },
          "metadata": {
            "tags": []
          },
          "execution_count": 112
        }
      ]
    },
    {
      "cell_type": "code",
      "metadata": {
        "colab": {
          "base_uri": "https://localhost:8080/"
        },
        "id": "T7yXXS789pL4",
        "outputId": "562f45dc-74d7-4093-c1e1-44ae6c6b2944"
      },
      "source": [
        "frame_3 = [train_2,unlabel_3]\r\n",
        "train_3 = pd.concat(frame_3)\r\n",
        "len(train_3)\r\n",
        "x_train_3 = tfidf_vect.transform(train_3['Sentence'])\r\n",
        "X_train, x_val, Y_train, y_val = train_test_split(x_train_3,train_3['Target'],test_size=0.2,random_state=2)\r\n",
        "sgd = SGDClassifier(max_iter=1000, tol=1e-3,loss='hinge',class_weight='balanced')\r\n",
        "clf = sgd.fit(X_train, Y_train)\r\n",
        "calibrator = CalibratedClassifierCV(clf, cv='prefit')\r\n",
        "model_3=calibrator.fit(X_train, Y_train)\r\n",
        "pred_sgd = model_3.predict(x_val)\r\n",
        "print('Accuracy %s' % accuracy_score(pred_sgd,y_val))\r\n",
        "print(classification_report(y_val,pred_sgd))"
      ],
      "execution_count": null,
      "outputs": [
        {
          "output_type": "stream",
          "text": [
            "Accuracy 0.642504118616145\n",
            "                  precision    recall  f1-score   support\n",
            "\n",
            "        Analysis       0.53      0.39      0.45       101\n",
            "      Conclusion       0.53      0.37      0.43        27\n",
            "           Facts       0.71      0.88      0.79       302\n",
            "         Invalid       0.52      0.56      0.54       104\n",
            "           Issue       0.50      0.20      0.28        41\n",
            "Rule/Law/Holding       0.62      0.25      0.36        32\n",
            "\n",
            "        accuracy                           0.64       607\n",
            "       macro avg       0.57      0.44      0.47       607\n",
            "    weighted avg       0.62      0.64      0.62       607\n",
            "\n"
          ],
          "name": "stdout"
        }
      ]
    },
    {
      "cell_type": "code",
      "metadata": {
        "colab": {
          "base_uri": "https://localhost:8080/"
        },
        "id": "h_8qlMM4-335",
        "outputId": "ebef4f4d-2cda-4679-fd77-12fa61284cf9"
      },
      "source": [
        "x_un4 = tfidf_vect.transform(unlabel_4['Sentence'])\r\n",
        "pred_unlabel_4 = model_3.predict_proba(x_un4)\r\n",
        "pred_unlabel_4"
      ],
      "execution_count": null,
      "outputs": [
        {
          "output_type": "execute_result",
          "data": {
            "text/plain": [
              "array([[6.56988519e-04, 2.99152708e-05, 6.56024593e-02, 9.30378667e-01,\n",
              "        3.14569320e-04, 3.01740081e-03],\n",
              "       [2.07697371e-01, 8.48454979e-04, 2.44897733e-02, 7.64117337e-01,\n",
              "        2.72588132e-03, 1.21183172e-04],\n",
              "       [9.72196282e-01, 1.98535513e-04, 3.22388204e-04, 2.67403788e-02,\n",
              "        1.03646506e-05, 5.32051113e-04],\n",
              "       [2.14521021e-02, 1.01757599e-02, 9.57481903e-03, 9.58671072e-01,\n",
              "        2.72417132e-05, 9.90050970e-05],\n",
              "       [2.20192694e-07, 1.95171514e-03, 9.95107742e-01, 6.36897512e-04,\n",
              "        2.27772721e-03, 2.56983649e-05],\n",
              "       [4.73977928e-03, 8.60934393e-04, 2.80198091e-01, 1.43481850e-01,\n",
              "        3.14662737e-01, 2.56056608e-01],\n",
              "       [3.00907396e-03, 4.54195492e-04, 3.94730073e-03, 2.75109736e-03,\n",
              "        4.23776623e-03, 9.85600566e-01],\n",
              "       [5.31779563e-04, 1.82134342e-04, 9.69739558e-01, 2.94549306e-02,\n",
              "        1.84778884e-06, 8.97494449e-05],\n",
              "       [1.45201091e-03, 2.77054123e-05, 9.67111746e-01, 3.11810546e-02,\n",
              "        2.05136528e-04, 2.23464881e-05],\n",
              "       [1.50652043e-01, 8.36425807e-05, 8.47329448e-01, 4.85750698e-05,\n",
              "        1.79813517e-04, 1.70647726e-03],\n",
              "       [4.63634456e-05, 3.36633131e-05, 9.99671646e-01, 6.46358770e-07,\n",
              "        2.47127439e-04, 5.53307393e-07],\n",
              "       [3.13465808e-05, 4.86909167e-05, 9.65922619e-01, 3.31096375e-02,\n",
              "        8.74121836e-04, 1.35837674e-05],\n",
              "       [7.02472428e-04, 5.71850178e-04, 9.84789570e-01, 3.11479692e-03,\n",
              "        1.07437275e-02, 7.75828452e-05],\n",
              "       [3.08907170e-03, 9.18650405e-05, 1.81013217e-02, 9.28798491e-01,\n",
              "        2.47402833e-04, 4.96718477e-02],\n",
              "       [4.46763440e-01, 1.95901287e-04, 5.46520799e-01, 6.49965311e-03,\n",
              "        7.29541302e-06, 1.29112941e-05],\n",
              "       [7.92918804e-05, 1.89696634e-04, 9.98686647e-01, 7.46980215e-04,\n",
              "        2.21319132e-04, 7.60649519e-05],\n",
              "       [1.15083972e-01, 1.59236747e-04, 7.12602116e-01, 1.70655314e-01,\n",
              "        3.42218042e-04, 1.15714380e-03],\n",
              "       [2.59459723e-02, 7.31523764e-05, 9.55031917e-01, 8.09751358e-04,\n",
              "        1.68702737e-04, 1.79705046e-02],\n",
              "       [1.21806321e-03, 2.76772446e-04, 9.96236479e-01, 7.93906032e-06,\n",
              "        8.35123007e-05, 2.17723360e-03],\n",
              "       [4.14483128e-03, 5.82265931e-04, 7.93856563e-01, 7.39636880e-04,\n",
              "        1.99881227e-01, 7.95475746e-04],\n",
              "       [1.53629494e-01, 1.32061200e-05, 4.07834112e-02, 8.05097453e-01,\n",
              "        3.14333867e-05, 4.45002755e-04],\n",
              "       [1.88078252e-03, 7.21220078e-05, 6.22853798e-01, 3.73336270e-01,\n",
              "        6.90592540e-07, 1.85633625e-03],\n",
              "       [1.59567984e-03, 1.38192010e-04, 9.85020941e-01, 8.99185418e-03,\n",
              "        1.80829257e-03, 2.44504022e-03],\n",
              "       [7.95879795e-02, 3.36602170e-06, 9.97390720e-02, 8.20661695e-01,\n",
              "        7.56040763e-06, 3.26529677e-07],\n",
              "       [4.11901757e-02, 4.64703652e-04, 1.53980088e-03, 9.53968675e-01,\n",
              "        1.21028074e-05, 2.82454184e-03],\n",
              "       [9.56008296e-01, 9.79771481e-04, 4.89946894e-03, 2.59375339e-02,\n",
              "        7.77864926e-03, 4.39628004e-03],\n",
              "       [8.49389955e-02, 4.39441783e-04, 9.04896242e-01, 8.92775547e-03,\n",
              "        2.22771717e-05, 7.75288506e-04],\n",
              "       [3.83764060e-04, 1.38597242e-04, 8.86189592e-01, 1.13097446e-01,\n",
              "        1.85586959e-04, 5.01392550e-06],\n",
              "       [1.25189017e-02, 1.55993867e-04, 9.83100865e-01, 4.18734082e-03,\n",
              "        1.29194593e-05, 2.39792032e-05],\n",
              "       [2.35802472e-04, 1.19687930e-04, 9.98670184e-01, 1.61388489e-05,\n",
              "        1.11039283e-04, 8.47147437e-04],\n",
              "       [1.96050927e-02, 4.57571816e-04, 9.77679333e-01, 1.76373105e-03,\n",
              "        4.84045118e-04, 1.02262919e-05],\n",
              "       [5.70897040e-04, 2.74877363e-05, 9.90359662e-01, 2.79305555e-03,\n",
              "        6.24145521e-03, 7.44270902e-06],\n",
              "       [1.40407806e-02, 9.78616947e-07, 1.14894663e-05, 9.85928113e-01,\n",
              "        1.27652729e-05, 5.87322211e-06],\n",
              "       [2.35111172e-03, 2.73285551e-01, 7.73376936e-02, 1.45874864e-05,\n",
              "        1.47185009e-05, 6.46996338e-01],\n",
              "       [2.58078687e-03, 5.92669989e-04, 9.95708328e-01, 1.51446749e-05,\n",
              "        1.09453173e-03, 8.53915181e-06],\n",
              "       [1.31670474e-04, 3.56321826e-05, 6.47192937e-01, 3.52527618e-01,\n",
              "        7.80615680e-05, 3.40805400e-05],\n",
              "       [6.12970561e-04, 5.81111909e-04, 3.92942121e-02, 1.33671844e-03,\n",
              "        6.88683194e-05, 9.58106119e-01],\n",
              "       [1.02650787e-04, 1.04540956e-03, 9.85909242e-01, 1.28796158e-02,\n",
              "        1.52953254e-05, 4.77865956e-05],\n",
              "       [1.01670642e-02, 1.54958524e-04, 9.88151773e-01, 1.23996437e-03,\n",
              "        2.55199950e-04, 3.10395904e-05],\n",
              "       [3.11565100e-04, 3.11416478e-04, 9.95799400e-01, 1.91546055e-03,\n",
              "        1.39763280e-03, 2.64524925e-04],\n",
              "       [1.12504662e-03, 1.74524242e-04, 9.78572593e-01, 2.00308322e-02,\n",
              "        5.37067111e-06, 9.16331293e-05],\n",
              "       [3.30236074e-04, 1.49049777e-03, 5.02247777e-01, 4.95839352e-01,\n",
              "        1.74661868e-05, 7.46705760e-05],\n",
              "       [4.32280521e-03, 1.68591700e-06, 9.88402935e-01, 9.66636618e-04,\n",
              "        1.98861754e-05, 6.28605137e-03],\n",
              "       [4.54970288e-01, 4.04137471e-05, 5.24332032e-01, 2.00489286e-02,\n",
              "        4.94908454e-04, 1.13428633e-04],\n",
              "       [2.95785038e-03, 4.07333956e-05, 1.82543753e-01, 1.96077241e-04,\n",
              "        8.14261431e-01, 1.55361276e-07],\n",
              "       [3.30870125e-06, 3.32814859e-01, 5.44509416e-01, 2.82935321e-05,\n",
              "        2.92872859e-02, 9.33568373e-02],\n",
              "       [9.94921492e-01, 6.86308241e-05, 2.88753237e-03, 1.37154348e-03,\n",
              "        2.94881278e-04, 4.55919746e-04],\n",
              "       [1.36825113e-02, 5.27658946e-05, 9.78734223e-01, 2.01260659e-03,\n",
              "        7.52339328e-05, 5.44265928e-03],\n",
              "       [1.10554634e-02, 7.64021537e-04, 9.64916822e-01, 1.91821917e-02,\n",
              "        9.73131529e-05, 3.98418801e-03],\n",
              "       [8.78047559e-05, 2.85133739e-04, 8.39507734e-01, 8.77886206e-05,\n",
              "        1.59960446e-01, 7.10926584e-05],\n",
              "       [5.64607771e-04, 1.64927311e-02, 9.82258533e-01, 9.83054991e-05,\n",
              "        1.97515934e-06, 5.83847330e-04],\n",
              "       [1.31504413e-02, 2.15583663e-01, 7.46965603e-01, 2.18862348e-02,\n",
              "        2.28617631e-03, 1.27881918e-04],\n",
              "       [3.97078533e-01, 1.84474555e-04, 1.16187481e-01, 4.55585429e-01,\n",
              "        7.08722601e-04, 3.02553597e-02],\n",
              "       [5.12799681e-01, 3.33754450e-05, 4.84711253e-01, 6.35333828e-06,\n",
              "        2.44868660e-03, 6.50460237e-07],\n",
              "       [7.98491377e-02, 8.55202779e-05, 9.63839308e-02, 8.23400468e-01,\n",
              "        1.02775049e-04, 1.78168394e-04],\n",
              "       [6.75428548e-02, 1.45867322e-04, 8.72165679e-01, 6.00480236e-02,\n",
              "        7.70531229e-06, 8.98703852e-05],\n",
              "       [2.58870869e-05, 4.07077231e-05, 9.96842341e-01, 2.78942772e-03,\n",
              "        1.25179226e-04, 1.76457327e-04],\n",
              "       [2.21093951e-03, 4.99658457e-06, 4.04059809e-02, 9.48582948e-01,\n",
              "        8.75130631e-03, 4.38285820e-05],\n",
              "       [1.25079349e-02, 1.16865811e-06, 7.10629506e-04, 9.86246403e-01,\n",
              "        2.20443957e-05, 5.11819314e-04],\n",
              "       [9.16510426e-01, 2.23478733e-04, 3.30000687e-02, 4.74136374e-02,\n",
              "        8.85034402e-04, 1.96735521e-03],\n",
              "       [9.93757911e-03, 6.90451227e-05, 9.75661566e-01, 1.40511054e-02,\n",
              "        2.36039410e-04, 4.46645277e-05],\n",
              "       [7.98463200e-02, 9.92565095e-05, 8.95304244e-01, 2.47165170e-02,\n",
              "        2.29420933e-05, 1.07203937e-05],\n",
              "       [1.28770694e-04, 1.05829756e-03, 8.78853755e-01, 5.10384401e-02,\n",
              "        5.75112352e-05, 6.88632254e-02],\n",
              "       [1.67048502e-01, 4.66973274e-06, 8.32888037e-01, 6.46979478e-07,\n",
              "        3.72060401e-05, 2.09377899e-05],\n",
              "       [2.09731503e-03, 1.24620023e-04, 9.94804310e-01, 2.84410009e-03,\n",
              "        3.26419985e-05, 9.70128576e-05],\n",
              "       [2.03276621e-03, 2.22380244e-03, 7.41797143e-01, 7.03445041e-06,\n",
              "        1.72348250e-03, 2.52215771e-01],\n",
              "       [8.86122537e-03, 1.86127535e-04, 3.18536270e-03, 9.87542067e-01,\n",
              "        7.37183723e-05, 1.51498730e-04],\n",
              "       [9.97263658e-01, 1.07591630e-04, 1.28987433e-04, 3.94279044e-05,\n",
              "        7.14770456e-04, 1.74556421e-03],\n",
              "       [1.55175499e-01, 4.08011293e-05, 1.48233691e-02, 3.38168264e-03,\n",
              "        4.35820325e-05, 8.26535066e-01],\n",
              "       [1.16149088e-01, 3.14965948e-05, 8.83564994e-01, 3.21555279e-05,\n",
              "        1.26960474e-04, 9.53059603e-05],\n",
              "       [1.90917082e-03, 2.64598804e-05, 9.97784309e-01, 3.94975334e-05,\n",
              "        1.93648975e-04, 4.69137106e-05],\n",
              "       [7.98024598e-05, 2.31502627e-05, 6.11060139e-01, 3.88812627e-01,\n",
              "        9.59393399e-06, 1.46873756e-05],\n",
              "       [6.13448673e-03, 2.89257234e-04, 9.91705670e-01, 1.71417435e-03,\n",
              "        1.55654963e-04, 7.56846717e-07],\n",
              "       [9.37662041e-01, 8.79789139e-05, 5.11664143e-02, 1.09379608e-02,\n",
              "        3.09992594e-05, 1.14605555e-04],\n",
              "       [6.75834483e-03, 9.51208678e-05, 5.62181640e-01, 4.30758116e-01,\n",
              "        1.80771386e-06, 2.04970285e-04],\n",
              "       [5.73857664e-05, 2.98034027e-05, 9.99516053e-01, 3.58621425e-04,\n",
              "        2.92770225e-05, 8.85900955e-06],\n",
              "       [2.73300577e-01, 8.79976530e-05, 3.47627462e-02, 5.34384391e-05,\n",
              "        1.67867839e-04, 6.91627372e-01],\n",
              "       [8.10189192e-02, 4.90543120e-05, 2.90172082e-01, 5.45736168e-01,\n",
              "        1.09610004e-02, 7.20627758e-02],\n",
              "       [7.50771564e-01, 2.73439166e-03, 2.40770664e-01, 5.62382547e-03,\n",
              "        3.24474823e-05, 6.71071397e-05],\n",
              "       [8.86123653e-01, 5.02015673e-03, 8.49920585e-02, 2.34825395e-02,\n",
              "        6.49552795e-06, 3.75096403e-04],\n",
              "       [4.40081453e-05, 8.67019900e-03, 9.08017841e-01, 7.88708432e-02,\n",
              "        2.59489382e-03, 1.80221456e-03],\n",
              "       [5.51425496e-06, 7.96852607e-05, 5.03521379e-01, 4.96391997e-01,\n",
              "        4.72817923e-07, 9.51088731e-07],\n",
              "       [2.29505334e-02, 1.49024363e-02, 9.57169595e-01, 2.02900182e-07,\n",
              "        4.69342352e-03, 2.83808588e-04],\n",
              "       [2.57147202e-03, 3.48233317e-03, 9.63645944e-01, 3.02713977e-02,\n",
              "        5.22155242e-07, 2.83313290e-05],\n",
              "       [3.55334793e-02, 1.11304001e-04, 1.05927181e-04, 9.62483493e-01,\n",
              "        1.29178958e-03, 4.74007277e-04],\n",
              "       [2.59253828e-04, 9.26159579e-04, 9.65776353e-01, 3.18780753e-02,\n",
              "        1.14879625e-03, 1.13624822e-05],\n",
              "       [5.39025890e-03, 1.14083858e-03, 5.12275299e-01, 4.80714119e-01,\n",
              "        9.07408639e-06, 4.70409637e-04],\n",
              "       [4.28172018e-04, 1.37935341e-03, 8.78896490e-01, 1.19212123e-01,\n",
              "        1.43572708e-05, 6.95037638e-05],\n",
              "       [1.88129315e-03, 1.20732815e-04, 2.19449109e-01, 7.44409794e-01,\n",
              "        1.25729583e-05, 3.41264982e-02],\n",
              "       [1.11715697e-03, 1.67148416e-04, 9.72439761e-01, 9.44962722e-04,\n",
              "        2.51290906e-02, 2.01880720e-04],\n",
              "       [1.05050967e-01, 3.35160942e-04, 8.94443500e-01, 1.40660881e-04,\n",
              "        7.80801494e-07, 2.89305616e-05],\n",
              "       [5.01660856e-01, 6.84386971e-05, 4.98195171e-01, 3.81016822e-05,\n",
              "        1.70493196e-05, 2.03840618e-05],\n",
              "       [1.06802690e-01, 1.18522629e-02, 5.70936771e-01, 4.50650031e-05,\n",
              "        3.10253550e-01, 1.09661139e-04],\n",
              "       [2.47319169e-02, 2.88814700e-06, 9.68469770e-01, 3.86482726e-07,\n",
              "        6.59545944e-03, 1.99579479e-04],\n",
              "       [1.00773362e-03, 6.63192643e-05, 1.62194932e-01, 1.17064775e-02,\n",
              "        2.35744637e-04, 8.24788793e-01],\n",
              "       [1.66637395e-01, 2.50236583e-04, 8.30013831e-01, 1.79431732e-03,\n",
              "        1.63342101e-05, 1.28788640e-03],\n",
              "       [5.47118300e-03, 6.72102424e-04, 9.52894934e-01, 3.64840042e-02,\n",
              "        1.30943564e-03, 3.16834060e-03],\n",
              "       [3.82889352e-03, 2.02169550e-04, 9.83677135e-01, 1.18103770e-02,\n",
              "        3.94544255e-04, 8.68810785e-05],\n",
              "       [4.92778427e-01, 4.01360054e-05, 5.07045616e-01, 1.79283392e-07,\n",
              "        1.50252563e-05, 1.20616799e-04],\n",
              "       [3.07732424e-03, 5.27814946e-05, 9.96034990e-01, 3.11974993e-06,\n",
              "        3.24313009e-05, 7.99353443e-04]])"
            ]
          },
          "metadata": {
            "tags": []
          },
          "execution_count": 119
        }
      ]
    },
    {
      "cell_type": "code",
      "metadata": {
        "id": "Hw6scryQnt3G",
        "colab": {
          "base_uri": "https://localhost:8080/"
        },
        "outputId": "668f205b-89bd-4557-81c9-95179427751a"
      },
      "source": [
        "pos=[]\r\n",
        "large=[]\r\n",
        "ind = []\r\n",
        "i=0\r\n",
        "for j in pred_unlabel_4:\r\n",
        "  if max(j)> 0.98:\r\n",
        "    ind.append(np.argmax(j))\r\n",
        "    large.append(max(j))\r\n",
        "    pos.append(i)\r\n",
        "  i+=1\r\n",
        "\r\n",
        "\r\n",
        "print(ind)\r\n",
        "print(large)\r\n",
        "print(pos)\r\n",
        "print(len(ind))\r\n",
        "print(len(large))\r\n",
        "print(len(pos))"
      ],
      "execution_count": null,
      "outputs": [
        {
          "output_type": "stream",
          "text": [
            "[2, 5, 2, 2, 2, 2, 2, 2, 2, 2, 3, 2, 2, 2, 2, 2, 0, 2, 2, 3, 2, 3, 0, 2, 2, 2, 2, 2]\n",
            "[0.9951077415886511, 0.9856005662262424, 0.9996716461360757, 0.9847895700917801, 0.9986866471861087, 0.9962364793793735, 0.9850209411810147, 0.9831008649841181, 0.9986701840288749, 0.9903596617508807, 0.985928112788697, 0.9957083275814085, 0.9859092419087077, 0.9881517733790415, 0.9957994001448696, 0.9884029347142943, 0.994921492299187, 0.9822585331557668, 0.9968423409218347, 0.986246403211791, 0.9948043099979872, 0.9875420672935075, 0.9972636583664112, 0.9977843090823967, 0.9917056698780886, 0.9995160533733003, 0.9836771345621451, 0.9960349897687263]\n",
            "[4, 6, 10, 12, 15, 18, 22, 28, 29, 31, 32, 34, 37, 38, 39, 42, 46, 50, 56, 58, 64, 66, 67, 70, 72, 75, 97, 99]\n",
            "28\n",
            "28\n",
            "28\n"
          ],
          "name": "stdout"
        }
      ]
    },
    {
      "cell_type": "code",
      "metadata": {
        "id": "PH1G5nQGoOXr",
        "colab": {
          "base_uri": "https://localhost:8080/",
          "height": 196
        },
        "outputId": "f026c47d-54ef-4a3f-aa06-1278f76f18c4"
      },
      "source": [
        "unlabel_4 = unlabel_4.loc[[4, 6, 10, 12, 15, 18, 22, 28, 29, 31, 32, 34, 37, 38, 39, 42, 46, 50, 56, 58, 64, 66, 67, 70, 72, 75, 97, 99],:]\r\n",
        "unlabel_4.head()"
      ],
      "execution_count": null,
      "outputs": [
        {
          "output_type": "execute_result",
          "data": {
            "text/html": [
              "<div>\n",
              "<style scoped>\n",
              "    .dataframe tbody tr th:only-of-type {\n",
              "        vertical-align: middle;\n",
              "    }\n",
              "\n",
              "    .dataframe tbody tr th {\n",
              "        vertical-align: top;\n",
              "    }\n",
              "\n",
              "    .dataframe thead th {\n",
              "        text-align: right;\n",
              "    }\n",
              "</style>\n",
              "<table border=\"1\" class=\"dataframe\">\n",
              "  <thead>\n",
              "    <tr style=\"text-align: right;\">\n",
              "      <th></th>\n",
              "      <th>Unnamed: 0</th>\n",
              "      <th>Sentence</th>\n",
              "      <th>Target</th>\n",
              "    </tr>\n",
              "  </thead>\n",
              "  <tbody>\n",
              "    <tr>\n",
              "      <th>4</th>\n",
              "      <td>2757</td>\n",
              "      <td>july 8 1960 order entered revoking said probat...</td>\n",
              "      <td>Facts</td>\n",
              "    </tr>\n",
              "    <tr>\n",
              "      <th>6</th>\n",
              "      <td>2333</td>\n",
              "      <td>offense burglary two prior conviction felony l...</td>\n",
              "      <td>Issue</td>\n",
              "    </tr>\n",
              "    <tr>\n",
              "      <th>10</th>\n",
              "      <td>1204</td>\n",
              "      <td>crossexamination captain johnson testified wen...</td>\n",
              "      <td>Facts</td>\n",
              "    </tr>\n",
              "    <tr>\n",
              "      <th>12</th>\n",
              "      <td>406</td>\n",
              "      <td>unnecessarily restrictive beyond reasonable re...</td>\n",
              "      <td>Issue</td>\n",
              "    </tr>\n",
              "    <tr>\n",
              "      <th>15</th>\n",
              "      <td>2589</td>\n",
              "      <td>appellant arrested following day two three day...</td>\n",
              "      <td>Facts</td>\n",
              "    </tr>\n",
              "  </tbody>\n",
              "</table>\n",
              "</div>"
            ],
            "text/plain": [
              "    Unnamed: 0                                           Sentence Target\n",
              "4         2757  july 8 1960 order entered revoking said probat...  Facts\n",
              "6         2333  offense burglary two prior conviction felony l...  Issue\n",
              "10        1204  crossexamination captain johnson testified wen...  Facts\n",
              "12         406  unnecessarily restrictive beyond reasonable re...  Issue\n",
              "15        2589  appellant arrested following day two three day...  Facts"
            ]
          },
          "metadata": {
            "tags": []
          },
          "execution_count": 121
        }
      ]
    },
    {
      "cell_type": "code",
      "metadata": {
        "colab": {
          "base_uri": "https://localhost:8080/"
        },
        "id": "Oek9wXof_KUf",
        "outputId": "b0fcfd79-5d91-4742-87e5-dd4890bff1a7"
      },
      "source": [
        "frame_4 = [train_3,unlabel_4]\r\n",
        "train_4 = pd.concat(frame_4)\r\n",
        "len(train_4)\r\n",
        "x_train_4 = tfidf_vect.transform(train_4['Sentence'])\r\n",
        "X_train, x_val, Y_train, y_val = train_test_split(x_train_4,train_4['Target'],test_size=0.2,random_state=42)\r\n",
        "sgd = SGDClassifier(max_iter=1000, tol=1e-3,loss='hinge',class_weight='balanced')\r\n",
        "clf = sgd.fit(X_train, Y_train)\r\n",
        "calibrator = CalibratedClassifierCV(clf, cv='prefit')\r\n",
        "model_4=calibrator.fit(X_train, Y_train)\r\n",
        "pred_sgd = model_4.predict(x_val)\r\n",
        "print('Accuracy %s' % accuracy_score(pred_sgd,y_val))\r\n",
        "print(classification_report(y_val,pred_sgd))"
      ],
      "execution_count": null,
      "outputs": [
        {
          "output_type": "stream",
          "text": [
            "Accuracy 0.6606851549755302\n",
            "                  precision    recall  f1-score   support\n",
            "\n",
            "        Analysis       0.54      0.39      0.45        85\n",
            "      Conclusion       0.62      0.37      0.46        35\n",
            "           Facts       0.73      0.92      0.81       325\n",
            "         Invalid       0.47      0.44      0.45        96\n",
            "           Issue       0.62      0.35      0.45        37\n",
            "Rule/Law/Holding       0.50      0.17      0.26        35\n",
            "\n",
            "        accuracy                           0.66       613\n",
            "       macro avg       0.58      0.44      0.48       613\n",
            "    weighted avg       0.64      0.66      0.63       613\n",
            "\n"
          ],
          "name": "stdout"
        }
      ]
    },
    {
      "cell_type": "code",
      "metadata": {
        "colab": {
          "base_uri": "https://localhost:8080/"
        },
        "id": "3YkgbXLh_kk5",
        "outputId": "20868d77-fdf0-46ec-d100-10ffa5a57e1a"
      },
      "source": [
        "x_un5 = tfidf_vect.transform(unlabel_5['Sentence'])\r\n",
        "\r\n",
        "pred_unlabel_5 = model_4.predict_proba(x_un5)\r\n",
        "pred_unlabel_5\r\n"
      ],
      "execution_count": null,
      "outputs": [
        {
          "output_type": "execute_result",
          "data": {
            "text/plain": [
              "array([[2.39650943e-01, 7.48035310e-01, 1.10620400e-04, 1.04483412e-02,\n",
              "        1.22811998e-03, 5.26665410e-04],\n",
              "       [8.46735815e-01, 4.88843357e-03, 5.81539255e-02, 4.63718771e-02,\n",
              "        8.21393038e-05, 4.37678098e-02],\n",
              "       [4.69537033e-03, 3.51993318e-04, 4.95251826e-01, 6.47771466e-02,\n",
              "        4.33796085e-01, 1.12757881e-03],\n",
              "       [2.25131549e-03, 1.08339290e-04, 9.95412810e-01, 2.16953817e-03,\n",
              "        5.37037809e-05, 4.29332204e-06],\n",
              "       [2.51910762e-01, 9.32543291e-05, 7.14406643e-01, 3.35820301e-02,\n",
              "        6.32896769e-06, 9.82167740e-07],\n",
              "       [3.30058652e-03, 2.10405090e-04, 7.36079739e-01, 2.60346780e-01,\n",
              "        1.01951225e-05, 5.22940983e-05],\n",
              "       [2.42686531e-01, 6.75136582e-02, 7.07644615e-03, 9.84193830e-03,\n",
              "        6.65014792e-01, 7.86663417e-03],\n",
              "       [2.51268873e-03, 8.80610585e-05, 9.97115123e-01, 1.94848926e-04,\n",
              "        5.08760195e-05, 3.84025592e-05],\n",
              "       [5.37168140e-04, 1.32601102e-04, 5.04135642e-02, 9.27734075e-01,\n",
              "        6.29800976e-05, 2.11196118e-02],\n",
              "       [5.94651860e-05, 8.63903287e-05, 9.57583416e-01, 1.09668837e-02,\n",
              "        3.12861570e-02, 1.76876723e-05],\n",
              "       [7.76312538e-02, 7.96755960e-05, 8.93567353e-01, 1.95659265e-02,\n",
              "        9.03466980e-03, 1.21121084e-04],\n",
              "       [4.16205154e-01, 7.66733040e-05, 5.78534034e-01, 1.05454214e-04,\n",
              "        7.23884197e-05, 5.00629655e-03],\n",
              "       [1.46166728e-04, 2.44941572e-04, 9.39279028e-01, 6.02794361e-02,\n",
              "        9.32849365e-06, 4.10994057e-05],\n",
              "       [9.66634241e-01, 1.56873566e-03, 8.60715102e-03, 2.06860847e-03,\n",
              "        5.06543381e-04, 2.06147207e-02],\n",
              "       [3.22026380e-03, 1.55506343e-04, 1.65122132e-02, 3.87736382e-04,\n",
              "        4.07696050e-03, 9.75647320e-01],\n",
              "       [1.06349552e-04, 4.29462786e-02, 3.37884054e-03, 2.93044834e-01,\n",
              "        6.60510372e-01, 1.33243683e-05],\n",
              "       [3.40927373e-01, 8.08309495e-04, 6.57619965e-01, 1.86877901e-04,\n",
              "        5.58733647e-05, 4.01601445e-04],\n",
              "       [1.09885018e-01, 9.13923000e-05, 8.80971266e-01, 8.93880056e-03,\n",
              "        1.59080871e-05, 9.76151746e-05],\n",
              "       [1.95611461e-03, 1.23009764e-03, 2.38885556e-02, 1.49922675e-03,\n",
              "        1.28797078e-04, 9.71297208e-01],\n",
              "       [1.48976181e-03, 4.79798716e-03, 3.29454613e-05, 9.93521525e-01,\n",
              "        1.90636343e-05, 1.38717386e-04],\n",
              "       [4.07043730e-03, 2.59481374e-04, 9.81138784e-01, 1.44899831e-02,\n",
              "        1.25731008e-05, 2.87411081e-05],\n",
              "       [2.78077790e-02, 9.00495454e-03, 2.25007428e-03, 8.44140793e-01,\n",
              "        1.14255389e-01, 2.54100998e-03],\n",
              "       [4.62417084e-04, 9.90574704e-04, 8.05677072e-01, 1.61560467e-04,\n",
              "        1.20514611e-05, 1.92696325e-01],\n",
              "       [1.93560404e-05, 6.10345905e-04, 9.86313769e-01, 1.29276428e-02,\n",
              "        3.78011468e-05, 9.10848162e-05],\n",
              "       [5.17074668e-03, 1.18401613e-01, 4.98861927e-03, 8.71432979e-01,\n",
              "        3.30029306e-06, 2.74162934e-06],\n",
              "       [1.39141482e-01, 5.16169433e-05, 7.17644628e-01, 1.36965738e-01,\n",
              "        2.18697159e-03, 4.00956407e-03],\n",
              "       [3.04094018e-03, 7.96128941e-06, 9.96392634e-01, 4.37266549e-04,\n",
              "        1.20393356e-04, 8.04523277e-07],\n",
              "       [1.06365756e-04, 1.72283442e-03, 9.95169084e-01, 1.74843841e-03,\n",
              "        6.79054147e-04, 5.74223453e-04],\n",
              "       [9.35468994e-04, 1.19328952e-04, 6.50527867e-01, 3.48362527e-01,\n",
              "        4.80808812e-06, 4.99999859e-05],\n",
              "       [3.71983996e-01, 1.31781773e-04, 6.20238967e-01, 7.19700261e-03,\n",
              "        4.46227272e-04, 2.02529551e-06],\n",
              "       [4.80123488e-01, 2.68062166e-05, 5.18833917e-01, 5.90931921e-04,\n",
              "        3.40886447e-04, 8.39706732e-05],\n",
              "       [1.34497896e-02, 9.85933358e-01, 2.00716880e-04, 3.45753928e-08,\n",
              "        3.83141763e-05, 3.77786725e-04],\n",
              "       [3.68810410e-04, 1.20962954e-04, 9.97773984e-01, 1.62053235e-03,\n",
              "        1.04161939e-04, 1.15487958e-05],\n",
              "       [1.76337616e-01, 1.56179657e-04, 7.22040939e-01, 1.01411818e-01,\n",
              "        5.33304263e-05, 1.17763282e-07],\n",
              "       [2.36110897e-06, 9.91234699e-05, 5.28579038e-01, 4.71313959e-01,\n",
              "        3.75471884e-06, 1.76375066e-06],\n",
              "       [3.90680888e-01, 2.48863639e-01, 2.13766879e-01, 1.41969677e-01,\n",
              "        2.33056857e-03, 2.38834794e-03],\n",
              "       [1.42000676e-08, 9.99042337e-01, 1.34263751e-04, 7.82406869e-07,\n",
              "        1.21677709e-05, 8.10435051e-04],\n",
              "       [7.45510441e-01, 3.95323633e-04, 2.53898847e-01, 1.47495459e-04,\n",
              "        4.78580601e-05, 3.48582245e-08],\n",
              "       [2.57072857e-02, 2.63725476e-02, 1.94839775e-05, 9.43717498e-01,\n",
              "        6.16058477e-05, 4.12157863e-03],\n",
              "       [3.67009092e-01, 1.87098791e-07, 6.32609798e-01, 3.24025893e-04,\n",
              "        6.61330694e-06, 5.02841917e-05],\n",
              "       [1.04435974e-02, 2.28594288e-03, 9.29512694e-01, 5.32436023e-02,\n",
              "        3.57703690e-03, 9.37126257e-04],\n",
              "       [1.21006276e-01, 8.78883514e-01, 6.98753614e-06, 2.47189373e-09,\n",
              "        9.88490894e-05, 4.37108204e-06],\n",
              "       [2.11528912e-04, 2.88322554e-04, 4.89962683e-01, 5.08712266e-01,\n",
              "        1.50694106e-04, 6.74505233e-04],\n",
              "       [1.03373877e-04, 2.11930553e-05, 8.37389525e-01, 1.50572548e-01,\n",
              "        1.19111910e-02, 2.16857913e-06],\n",
              "       [9.37639941e-01, 6.42420221e-03, 3.90394713e-02, 1.38081695e-02,\n",
              "        2.97358546e-03, 1.14630608e-04],\n",
              "       [5.45515030e-02, 1.32722833e-01, 2.00625640e-01, 6.11977188e-01,\n",
              "        1.06789568e-04, 1.60465267e-05],\n",
              "       [3.80797609e-03, 7.95239517e-01, 2.00697849e-01, 2.53720691e-04,\n",
              "        7.17886075e-07, 2.19341588e-07],\n",
              "       [6.85943917e-01, 3.13911474e-01, 1.43786261e-04, 3.91092865e-07,\n",
              "        1.17213101e-08, 4.19741017e-07],\n",
              "       [6.26351843e-03, 2.73831209e-03, 1.24409117e-03, 9.68171681e-01,\n",
              "        4.64755668e-03, 1.69348402e-02],\n",
              "       [6.03818556e-01, 2.34758265e-05, 6.46290894e-02, 3.31235627e-01,\n",
              "        2.83699013e-04, 9.55299043e-06],\n",
              "       [4.32237604e-04, 2.96830464e-05, 9.81280367e-01, 6.13658018e-04,\n",
              "        2.21212399e-03, 1.54319303e-02],\n",
              "       [6.90243686e-02, 6.40583155e-04, 4.14375496e-03, 6.67374768e-02,\n",
              "        2.92233421e-01, 5.67220395e-01],\n",
              "       [2.48426281e-03, 1.47707011e-05, 8.71772576e-01, 1.25725578e-01,\n",
              "        2.62446168e-06, 1.87731009e-07],\n",
              "       [5.17298855e-03, 5.36271064e-05, 9.94736399e-01, 2.63059504e-05,\n",
              "        5.39261467e-06, 5.28715599e-06],\n",
              "       [1.73640819e-01, 1.20987574e-04, 5.33537473e-01, 2.92660156e-01,\n",
              "        1.57336268e-06, 3.89911789e-05],\n",
              "       [3.30058652e-03, 2.10405090e-04, 7.36079739e-01, 2.60346780e-01,\n",
              "        1.01951225e-05, 5.22940983e-05],\n",
              "       [2.56972620e-01, 1.31246154e-04, 7.26003189e-01, 1.21918462e-02,\n",
              "        3.15743992e-04, 4.38535548e-03],\n",
              "       [2.20422876e-01, 5.28618947e-05, 7.08215202e-01, 7.12816449e-02,\n",
              "        6.53142212e-06, 2.08837883e-05],\n",
              "       [3.13063996e-01, 5.77578041e-05, 6.73004480e-01, 1.38493364e-02,\n",
              "        1.41149360e-05, 1.03151156e-05],\n",
              "       [9.74068846e-02, 2.55017252e-04, 9.02088635e-01, 6.37868854e-05,\n",
              "        3.76110667e-05, 1.48065432e-04],\n",
              "       [2.96033163e-05, 2.87176660e-04, 9.99525165e-01, 3.76540980e-05,\n",
              "        3.93029176e-05, 8.10981603e-05],\n",
              "       [9.63819927e-01, 1.73288384e-04, 3.32099283e-05, 6.18337473e-03,\n",
              "        2.87205391e-02, 1.06966071e-03],\n",
              "       [6.96927818e-01, 5.62350975e-05, 1.84485431e-02, 5.10440709e-03,\n",
              "        1.98654657e-04, 2.79264342e-01],\n",
              "       [3.36513531e-04, 1.03196892e-04, 7.31860502e-01, 2.67598602e-01,\n",
              "        9.97610525e-05, 1.42450783e-06],\n",
              "       [1.34497896e-02, 9.85933358e-01, 2.00716880e-04, 3.45753928e-08,\n",
              "        3.83141763e-05, 3.77786725e-04],\n",
              "       [8.37707284e-04, 5.74693244e-05, 9.98513436e-01, 5.68826563e-04,\n",
              "        2.17966373e-06, 2.03815304e-05],\n",
              "       [9.01656207e-01, 1.15835300e-05, 9.79154979e-02, 3.37270748e-04,\n",
              "        2.42076054e-05, 5.52331938e-05],\n",
              "       [2.61820261e-03, 1.39009328e-05, 9.20849369e-01, 7.63477536e-02,\n",
              "        4.05205432e-06, 1.66722114e-04],\n",
              "       [1.25782826e-01, 7.17725589e-06, 4.32489465e-01, 4.41243650e-01,\n",
              "        4.76084312e-04, 7.97445968e-07],\n",
              "       [8.01410509e-06, 2.16480365e-05, 4.87441780e-02, 9.47419544e-01,\n",
              "        9.65889392e-07, 3.80564996e-03],\n",
              "       [3.60927814e-01, 1.15048873e-05, 2.59388920e-01, 3.79625225e-01,\n",
              "        3.34022937e-05, 1.31345441e-05],\n",
              "       [1.00840617e-01, 1.42468778e-04, 8.81930225e-01, 1.01541058e-02,\n",
              "        4.14023983e-05, 6.89118127e-03],\n",
              "       [3.43263563e-01, 4.16026250e-05, 2.29117791e-01, 5.94790022e-02,\n",
              "        8.63509494e-04, 3.67234531e-01],\n",
              "       [1.48452906e-02, 3.40736345e-05, 9.84556245e-01, 4.50820563e-04,\n",
              "        9.47589975e-07, 1.12622928e-04],\n",
              "       [1.50069061e-02, 1.83483486e-05, 3.01590280e-02, 4.73785027e-05,\n",
              "        3.53575737e-03, 9.51232582e-01],\n",
              "       [9.75978202e-01, 1.47526143e-04, 2.18715360e-02, 1.85668689e-03,\n",
              "        6.17592349e-06, 1.39873213e-04],\n",
              "       [4.14093059e-03, 6.73218488e-06, 6.89201087e-01, 3.05833711e-01,\n",
              "        5.25700303e-06, 8.12282485e-04],\n",
              "       [7.79789417e-04, 1.55826570e-04, 9.81133094e-01, 1.69069616e-02,\n",
              "        1.01146222e-03, 1.28666861e-05],\n",
              "       [4.10202838e-05, 1.28912696e-04, 6.93531926e-01, 2.86511242e-01,\n",
              "        1.59084257e-02, 3.87847297e-03],\n",
              "       [9.62107167e-01, 7.32872435e-05, 6.15860255e-03, 2.97515753e-02,\n",
              "        1.34015139e-03, 5.69216995e-04],\n",
              "       [1.89926338e-01, 1.07946999e-03, 5.32205745e-01, 2.76070769e-01,\n",
              "        1.75875252e-05, 7.00090539e-04],\n",
              "       [9.17443846e-01, 1.41625363e-02, 6.73324448e-02, 4.41232587e-06,\n",
              "        1.01340746e-03, 4.33536004e-05],\n",
              "       [7.08145598e-05, 4.82471885e-06, 9.99785146e-01, 2.15339142e-06,\n",
              "        5.71388512e-05, 7.99228402e-05],\n",
              "       [2.48266926e-03, 7.92842376e-06, 4.09802755e-02, 9.51240748e-01,\n",
              "        4.52103124e-03, 7.67347592e-04],\n",
              "       [2.10176539e-01, 2.30412128e-04, 7.66700393e-01, 2.28371707e-02,\n",
              "        7.86509394e-06, 4.76204896e-05],\n",
              "       [1.75683823e-03, 4.54757950e-04, 9.84119652e-01, 4.35038715e-03,\n",
              "        4.17365333e-03, 5.14471119e-03],\n",
              "       [2.88824529e-03, 9.35966596e-05, 9.96979456e-01, 3.59648181e-06,\n",
              "        5.95419172e-06, 2.91513566e-05],\n",
              "       [5.00696005e-01, 2.51240801e-04, 4.98535025e-01, 5.01113521e-04,\n",
              "        1.42773399e-05, 2.33852773e-06],\n",
              "       [4.88413552e-03, 2.12426467e-01, 4.34654003e-01, 3.47886574e-01,\n",
              "        1.48446203e-04, 3.74342560e-07],\n",
              "       [5.24040143e-03, 4.36052218e-05, 2.37967788e-03, 4.33068451e-04,\n",
              "        7.20818878e-01, 2.71084369e-01],\n",
              "       [3.83875634e-02, 3.52962176e-05, 6.42423643e-01, 3.19120044e-01,\n",
              "        1.13442753e-06, 3.23188879e-05],\n",
              "       [8.59714530e-05, 1.22916653e-04, 9.95022228e-01, 2.34257844e-03,\n",
              "        3.04961879e-04, 2.12134393e-03],\n",
              "       [1.55443824e-03, 5.37764447e-05, 8.65403101e-01, 1.32972114e-01,\n",
              "        1.17146895e-05, 4.85541843e-06],\n",
              "       [7.65587571e-03, 6.95433080e-04, 8.49496847e-01, 1.42019816e-01,\n",
              "        9.35595153e-05, 3.84684245e-05],\n",
              "       [1.67823426e-04, 3.38226869e-04, 9.99262018e-01, 2.24006138e-04,\n",
              "        4.47988492e-06, 3.44530816e-06],\n",
              "       [4.06116063e-05, 1.23406191e-04, 9.99574084e-01, 2.12456443e-05,\n",
              "        1.90970617e-06, 2.38742591e-04],\n",
              "       [2.49534202e-01, 3.57991926e-04, 1.10263199e-01, 6.38537248e-01,\n",
              "        1.78963576e-04, 1.12839515e-03],\n",
              "       [4.01683947e-05, 3.44791008e-04, 9.93758473e-01, 1.40528179e-03,\n",
              "        4.70454816e-04, 3.98083113e-03],\n",
              "       [1.43067647e-01, 1.47619607e-04, 2.21986691e-03, 1.01982963e-01,\n",
              "        5.89940995e-03, 7.46682494e-01],\n",
              "       [5.83772185e-03, 2.11076936e-05, 9.89949850e-01, 3.30154538e-06,\n",
              "        8.66555171e-04, 3.32146342e-03],\n",
              "       [6.76013563e-04, 7.02996838e-05, 9.03434701e-01, 9.58086206e-02,\n",
              "        9.93538245e-07, 9.37203916e-06],\n",
              "       [3.76609630e-01, 5.62973431e-05, 6.16227814e-01, 7.08733496e-03,\n",
              "        2.20924533e-07, 1.87023923e-05],\n",
              "       [1.22945102e-03, 7.10971742e-05, 5.47523970e-01, 4.51161966e-01,\n",
              "        5.44332358e-06, 8.07163967e-06],\n",
              "       [9.00773042e-01, 9.39459224e-04, 1.03946370e-02, 8.67105206e-02,\n",
              "        1.85604446e-05, 1.16378092e-03],\n",
              "       [9.94696842e-01, 1.82538994e-03, 1.28996094e-03, 1.87859522e-05,\n",
              "        5.77891235e-05, 2.11123186e-03],\n",
              "       [5.08897288e-01, 5.43442218e-03, 4.79896661e-01, 1.03363584e-03,\n",
              "        6.82953061e-05, 4.66969808e-03],\n",
              "       [7.51898227e-02, 2.44810897e-04, 3.33879717e-02, 8.86566289e-01,\n",
              "        4.72784222e-06, 4.60637753e-03],\n",
              "       [1.86012743e-03, 1.73752740e-04, 3.26701143e-04, 9.97625848e-01,\n",
              "        3.96905835e-07, 1.31737884e-05],\n",
              "       [3.95826654e-01, 5.75079405e-04, 5.69519312e-01, 3.33136331e-02,\n",
              "        7.65279958e-04, 4.16055981e-08],\n",
              "       [7.11779424e-01, 1.12289407e-05, 2.66292307e-01, 2.48801623e-03,\n",
              "        1.83800484e-02, 1.04897516e-03],\n",
              "       [9.87475198e-01, 5.75284091e-04, 2.31874056e-03, 2.37376440e-03,\n",
              "        7.16180292e-03, 9.52097135e-05],\n",
              "       [8.55854357e-04, 6.53520096e-05, 4.88199722e-01, 4.97522975e-01,\n",
              "        2.67157546e-04, 1.30889393e-02],\n",
              "       [7.74896130e-01, 3.49650494e-03, 1.65670941e-01, 8.95554870e-03,\n",
              "        4.69670396e-02, 1.38361319e-05],\n",
              "       [9.89431921e-01, 8.62156513e-04, 9.49604961e-04, 8.74537589e-03,\n",
              "        1.13104704e-06, 9.81083520e-06],\n",
              "       [9.18028630e-01, 1.78738695e-06, 3.37037404e-04, 1.02360549e-02,\n",
              "        1.21655730e-04, 7.12748348e-02],\n",
              "       [4.77422714e-06, 4.99362073e-05, 1.85339743e-01, 8.01001368e-01,\n",
              "        8.67884737e-06, 1.35954996e-02],\n",
              "       [2.11472724e-04, 6.92610464e-04, 4.80131217e-01, 5.18880107e-01,\n",
              "        1.40250518e-05, 7.05677396e-05],\n",
              "       [1.11704188e-03, 1.61907317e-04, 2.96381667e-01, 7.02274009e-01,\n",
              "        2.91881521e-06, 6.24561235e-05],\n",
              "       [7.08535082e-03, 1.68263296e-03, 9.41612215e-01, 4.50322755e-02,\n",
              "        4.22790933e-03, 3.59616519e-04],\n",
              "       [3.13736393e-03, 1.82844793e-02, 1.48881204e-01, 2.19894254e-01,\n",
              "        6.09737402e-01, 6.52969420e-05]])"
            ]
          },
          "metadata": {
            "tags": []
          },
          "execution_count": 126
        }
      ]
    },
    {
      "cell_type": "code",
      "metadata": {
        "id": "Y0fPhuUgpq0Y",
        "colab": {
          "base_uri": "https://localhost:8080/"
        },
        "outputId": "08310f15-5124-406d-e283-bd1f6ad97a4a"
      },
      "source": [
        "pos=[]\r\n",
        "large=[]\r\n",
        "ind = []\r\n",
        "i=0\r\n",
        "for j in pred_unlabel_5:\r\n",
        "  if max(j)> 0.98:\r\n",
        "    ind.append(np.argmax(j))\r\n",
        "    large.append(max(j))\r\n",
        "    pos.append(i)\r\n",
        "  i+=1\r\n",
        "\r\n",
        "\r\n",
        "print(ind)\r\n",
        "print(large)\r\n",
        "print(pos)\r\n",
        "print(len(ind))\r\n",
        "print(len(large))\r\n",
        "print(len(pos))"
      ],
      "execution_count": null,
      "outputs": [
        {
          "output_type": "stream",
          "text": [
            "[2, 2, 3, 2, 2, 2, 2, 1, 2, 1, 2, 2, 2, 1, 2, 2, 2, 2, 2, 2, 2, 2, 2, 2, 2, 0, 3, 0, 0]\n",
            "[0.9954128099505486, 0.9971151227090946, 0.9935215245500303, 0.9811387839710393, 0.986313769340299, 0.9963926340974268, 0.995169083820218, 0.9859333580260976, 0.9977739835534862, 0.9990423368197966, 0.9812803670844139, 0.9947363986211027, 0.9995251648478767, 0.9859333580260976, 0.9985134356343949, 0.9845562446912134, 0.9811330935275482, 0.9997851456385038, 0.9841196521512124, 0.9969794560187277, 0.9950222276472876, 0.999262018373968, 0.9995740842609027, 0.9937584728569153, 0.9899498503183384, 0.9946968421805346, 0.9976258479911546, 0.9874751983156796, 0.989431920754817]\n",
            "[3, 7, 19, 20, 23, 26, 27, 31, 32, 36, 50, 53, 60, 64, 65, 73, 77, 82, 85, 86, 91, 94, 95, 97, 99, 104, 107, 110, 113]\n",
            "29\n",
            "29\n",
            "29\n"
          ],
          "name": "stdout"
        }
      ]
    },
    {
      "cell_type": "code",
      "metadata": {
        "id": "aI7aJXFNqBC1",
        "colab": {
          "base_uri": "https://localhost:8080/",
          "height": 196
        },
        "outputId": "948a3d7e-dc9d-4d20-e7cb-3784bf9cf79a"
      },
      "source": [
        "unlabel_5 = unlabel_5.loc[[3, 7, 19, 20, 23, 26, 27, 31, 32, 36, 50, 53, 60, 64, 65, 73, 77, 82, 85, 86, 91, 94, 95, 97, 99, 104, 107, 110, 113],:]\r\n",
        "unlabel_5.head()"
      ],
      "execution_count": null,
      "outputs": [
        {
          "output_type": "execute_result",
          "data": {
            "text/html": [
              "<div>\n",
              "<style scoped>\n",
              "    .dataframe tbody tr th:only-of-type {\n",
              "        vertical-align: middle;\n",
              "    }\n",
              "\n",
              "    .dataframe tbody tr th {\n",
              "        vertical-align: top;\n",
              "    }\n",
              "\n",
              "    .dataframe thead th {\n",
              "        text-align: right;\n",
              "    }\n",
              "</style>\n",
              "<table border=\"1\" class=\"dataframe\">\n",
              "  <thead>\n",
              "    <tr style=\"text-align: right;\">\n",
              "      <th></th>\n",
              "      <th>Unnamed: 0</th>\n",
              "      <th>Sentence</th>\n",
              "      <th>Target</th>\n",
              "    </tr>\n",
              "  </thead>\n",
              "  <tbody>\n",
              "    <tr>\n",
              "      <th>3</th>\n",
              "      <td>658</td>\n",
              "      <td>appellant needle mark inside left elbow</td>\n",
              "      <td>Facts</td>\n",
              "    </tr>\n",
              "    <tr>\n",
              "      <th>7</th>\n",
              "      <td>2005</td>\n",
              "      <td>âœall male person habitually associate prostit...</td>\n",
              "      <td>Invalid</td>\n",
              "    </tr>\n",
              "    <tr>\n",
              "      <th>19</th>\n",
              "      <td>1034</td>\n",
              "      <td>stateâs brief cited massey v</td>\n",
              "      <td>Invalid</td>\n",
              "    </tr>\n",
              "    <tr>\n",
              "      <th>20</th>\n",
              "      <td>808</td>\n",
              "      <td>cheto collapsed sidewalkâ</td>\n",
              "      <td>Facts</td>\n",
              "    </tr>\n",
              "    <tr>\n",
              "      <th>23</th>\n",
              "      <td>2673</td>\n",
              "      <td>testified waited five minute proceeded directi...</td>\n",
              "      <td>Facts</td>\n",
              "    </tr>\n",
              "  </tbody>\n",
              "</table>\n",
              "</div>"
            ],
            "text/plain": [
              "    Unnamed: 0                                           Sentence   Target\n",
              "3          658            appellant needle mark inside left elbow    Facts\n",
              "7         2005  âœall male person habitually associate prostit...  Invalid\n",
              "19        1034                       stateâs brief cited massey v  Invalid\n",
              "20         808                          cheto collapsed sidewalkâ    Facts\n",
              "23        2673  testified waited five minute proceeded directi...    Facts"
            ]
          },
          "metadata": {
            "tags": []
          },
          "execution_count": 128
        }
      ]
    },
    {
      "cell_type": "code",
      "metadata": {
        "colab": {
          "base_uri": "https://localhost:8080/"
        },
        "id": "1q4fTBur_1k1",
        "outputId": "f098ff55-0607-42ba-fff3-3d067d22469d"
      },
      "source": [
        "frame_5 = [train_4,unlabel_5]\r\n",
        "train_5 = pd.concat(frame_5)\r\n",
        "len(train_5)\r\n",
        "x_train_5 = tfidf_vect.transform(train_5['Sentence'])\r\n",
        "X_train, x_val, Y_train, y_val = train_test_split(x_train_5,train_5['Target'],test_size=0.2,random_state=42)\r\n",
        "sgd = SGDClassifier(max_iter=1000, tol=1e-3,loss='hinge',class_weight='balanced')\r\n",
        "clf = sgd.fit(X_train, Y_train)\r\n",
        "calibrator = CalibratedClassifierCV(clf, cv='prefit')\r\n",
        "model_5=calibrator.fit(X_train, Y_train)\r\n",
        "pred_sgd = model_5.predict(x_val)\r\n",
        "print('Accuracy %s' % accuracy_score(pred_sgd,y_val))\r\n",
        "print(classification_report(y_val,pred_sgd))"
      ],
      "execution_count": null,
      "outputs": [
        {
          "output_type": "stream",
          "text": [
            "Accuracy 0.6655896607431341\n",
            "                  precision    recall  f1-score   support\n",
            "\n",
            "        Analysis       0.49      0.36      0.42        91\n",
            "      Conclusion       0.86      0.49      0.62        37\n",
            "           Facts       0.74      0.88      0.81       339\n",
            "         Invalid       0.41      0.46      0.44        80\n",
            "           Issue       0.72      0.51      0.60        35\n",
            "Rule/Law/Holding       0.54      0.19      0.28        37\n",
            "\n",
            "        accuracy                           0.67       619\n",
            "       macro avg       0.63      0.48      0.53       619\n",
            "    weighted avg       0.66      0.67      0.65       619\n",
            "\n"
          ],
          "name": "stdout"
        }
      ]
    },
    {
      "cell_type": "code",
      "metadata": {
        "id": "7hkJ3SSd3L8L",
        "colab": {
          "base_uri": "https://localhost:8080/"
        },
        "outputId": "6054d344-46cc-485c-f24c-e46dd5aadc8c"
      },
      "source": [
        "t_p = tfidf_vect.transform(test['Sentence'])\r\n",
        "test_pred = model_5.predict(t_p)\r\n",
        "print('Accuracy %s' % accuracy_score(test_pred,test['Target']))"
      ],
      "execution_count": null,
      "outputs": [
        {
          "output_type": "stream",
          "text": [
            "Accuracy 0.6218809980806143\n"
          ],
          "name": "stdout"
        }
      ]
    }
  ]
}