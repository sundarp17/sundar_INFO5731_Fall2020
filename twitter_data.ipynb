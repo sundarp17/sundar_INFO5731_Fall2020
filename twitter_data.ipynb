{
  "nbformat": 4,
  "nbformat_minor": 0,
  "metadata": {
    "colab": {
      "name": "twitter data.ipynb",
      "provenance": [],
      "authorship_tag": "ABX9TyMreMlxlbBQW5iAkrKK1X/T",
      "include_colab_link": true
    },
    "kernelspec": {
      "name": "python3",
      "display_name": "Python 3"
    }
  },
  "cells": [
    {
      "cell_type": "markdown",
      "metadata": {
        "id": "view-in-github",
        "colab_type": "text"
      },
      "source": [
        "<a href=\"https://colab.research.google.com/github/sundarp17/sundar_info5731_fall2020/blob/master/twitter_data.ipynb\" target=\"_parent\"><img src=\"https://colab.research.google.com/assets/colab-badge.svg\" alt=\"Open In Colab\"/></a>"
      ]
    },
    {
      "cell_type": "code",
      "metadata": {
        "id": "ExJU4gxqAQSu",
        "outputId": "7059d72b-cfd3-47eb-e7e7-1e34f71acfd2",
        "colab": {
          "base_uri": "https://localhost:8080/",
          "height": 402
        }
      },
      "source": [
        "import tweepy as tw\n",
        "import pandas as pd\n",
        "\n",
        "consumer_key = 'qWaI6kizU7SAcRNc6EnnoNChq'\n",
        "consumer_secret = 'xumE7NgIZMiLCUXFeEl0pr3zhsuqdLvOPB0tG94HBQ8PgP2vsK'\n",
        "access_token = '2747565082-8g1OYC9aFI4NxRInAV5ArxV1te4V6alDLHlQuNn'\n",
        "access_token_secret = 'rDMmFApw3H5vL5KqVRxwRKdmJCkRdmrqjG8CCfmVroNKV'\n",
        "\n",
        "auth = tw.OAuthHandler(consumer_key, consumer_secret)\n",
        "auth.set_access_token(access_token, access_token_secret)\n",
        "api = tw.API(auth,wait_on_rate_limit=True)\n",
        "\n",
        "time=[]\n",
        "text=[]\n",
        "\n",
        "\n",
        "for tweet in tw.Cursor(api.search,q=\"Covid19 2020election\",lang=\"en\",since=\"2020-09-01\",until=\"2020-10-30\").items(100):\n",
        "  time.append(tweet.created_at)\n",
        "  text.append(tweet.text)\n",
        "covid_election_tweets=pd.DataFrame({'tweets':text,'created':time})\n",
        "covid_election_tweets.to_csv('covid_election.csv')\n",
        "covid_election_tweets"
      ],
      "execution_count": 19,
      "outputs": [
        {
          "output_type": "execute_result",
          "data": {
            "text/html": [
              "<div>\n",
              "<style scoped>\n",
              "    .dataframe tbody tr th:only-of-type {\n",
              "        vertical-align: middle;\n",
              "    }\n",
              "\n",
              "    .dataframe tbody tr th {\n",
              "        vertical-align: top;\n",
              "    }\n",
              "\n",
              "    .dataframe thead th {\n",
              "        text-align: right;\n",
              "    }\n",
              "</style>\n",
              "<table border=\"1\" class=\"dataframe\">\n",
              "  <thead>\n",
              "    <tr style=\"text-align: right;\">\n",
              "      <th></th>\n",
              "      <th>tweets</th>\n",
              "      <th>created</th>\n",
              "    </tr>\n",
              "  </thead>\n",
              "  <tbody>\n",
              "    <tr>\n",
              "      <th>0</th>\n",
              "      <td>RT @SilverAdie: It’s a life &amp;amp; ☠️death—emer...</td>\n",
              "      <td>2020-10-29 23:51:22</td>\n",
              "    </tr>\n",
              "    <tr>\n",
              "      <th>1</th>\n",
              "      <td>A woman on @FoxNews said @POTUS has “driven us...</td>\n",
              "      <td>2020-10-29 23:41:37</td>\n",
              "    </tr>\n",
              "    <tr>\n",
              "      <th>2</th>\n",
              "      <td>RT @coloradopols: This week on The Get More Sm...</td>\n",
              "      <td>2020-10-29 23:35:29</td>\n",
              "    </tr>\n",
              "    <tr>\n",
              "      <th>3</th>\n",
              "      <td>Facts matter. #COVID19 #COVID #CoronaVirusUpda...</td>\n",
              "      <td>2020-10-29 23:27:54</td>\n",
              "    </tr>\n",
              "    <tr>\n",
              "      <th>4</th>\n",
              "      <td>RT @TLAVagabond: The Darkest Winter https://t....</td>\n",
              "      <td>2020-10-29 23:21:45</td>\n",
              "    </tr>\n",
              "    <tr>\n",
              "      <th>...</th>\n",
              "      <td>...</td>\n",
              "      <td>...</td>\n",
              "    </tr>\n",
              "    <tr>\n",
              "      <th>95</th>\n",
              "      <td>Good morning! Let's check in on Lonnie Sims' r...</td>\n",
              "      <td>2020-10-29 12:02:38</td>\n",
              "    </tr>\n",
              "    <tr>\n",
              "      <th>96</th>\n",
              "      <td>Former Trump campaign official: Father forgive...</td>\n",
              "      <td>2020-10-29 11:55:39</td>\n",
              "    </tr>\n",
              "    <tr>\n",
              "      <th>97</th>\n",
              "      <td>#PODCAST Season 2 Episode 1 of @transitzonepod...</td>\n",
              "      <td>2020-10-29 11:08:20</td>\n",
              "    </tr>\n",
              "    <tr>\n",
              "      <th>98</th>\n",
              "      <td>@KamalaHarris Not only did #LiarInChief #Trump...</td>\n",
              "      <td>2020-10-29 11:05:12</td>\n",
              "    </tr>\n",
              "    <tr>\n",
              "      <th>99</th>\n",
              "      <td>President Donald Trump is for the people of Fa...</td>\n",
              "      <td>2020-10-29 11:01:41</td>\n",
              "    </tr>\n",
              "  </tbody>\n",
              "</table>\n",
              "<p>100 rows × 2 columns</p>\n",
              "</div>"
            ],
            "text/plain": [
              "                                               tweets             created\n",
              "0   RT @SilverAdie: It’s a life &amp; ☠️death—emer... 2020-10-29 23:51:22\n",
              "1   A woman on @FoxNews said @POTUS has “driven us... 2020-10-29 23:41:37\n",
              "2   RT @coloradopols: This week on The Get More Sm... 2020-10-29 23:35:29\n",
              "3   Facts matter. #COVID19 #COVID #CoronaVirusUpda... 2020-10-29 23:27:54\n",
              "4   RT @TLAVagabond: The Darkest Winter https://t.... 2020-10-29 23:21:45\n",
              "..                                                ...                 ...\n",
              "95  Good morning! Let's check in on Lonnie Sims' r... 2020-10-29 12:02:38\n",
              "96  Former Trump campaign official: Father forgive... 2020-10-29 11:55:39\n",
              "97  #PODCAST Season 2 Episode 1 of @transitzonepod... 2020-10-29 11:08:20\n",
              "98  @KamalaHarris Not only did #LiarInChief #Trump... 2020-10-29 11:05:12\n",
              "99  President Donald Trump is for the people of Fa... 2020-10-29 11:01:41\n",
              "\n",
              "[100 rows x 2 columns]"
            ]
          },
          "metadata": {
            "tags": []
          },
          "execution_count": 19
        }
      ]
    }
  ]
}