{
  "nbformat": 4,
  "nbformat_minor": 0,
  "metadata": {
    "colab": {
      "name": "best algorithm.ipynb",
      "provenance": [],
      "authorship_tag": "ABX9TyNWqF/02wm9d8fWjIsz7yK6",
      "include_colab_link": true
    },
    "kernelspec": {
      "name": "python3",
      "display_name": "Python 3"
    }
  },
  "cells": [
    {
      "cell_type": "markdown",
      "metadata": {
        "id": "view-in-github",
        "colab_type": "text"
      },
      "source": [
        "<a href=\"https://colab.research.google.com/github/sundarp17/sundar_info5731_fall2020/blob/master/best_algorithm.ipynb\" target=\"_parent\"><img src=\"https://colab.research.google.com/assets/colab-badge.svg\" alt=\"Open In Colab\"/></a>"
      ]
    },
    {
      "cell_type": "code",
      "metadata": {
        "id": "B7b4JMvN3fue"
      },
      "source": [
        "import numpy as np\r\n",
        "import pandas as pd\r\n",
        "import matplotlib.pyplot as plt\r\n",
        "import os\r\n",
        "from sklearn.naive_bayes import MultinomialNB\r\n",
        "from sklearn.svm import SVC\r\n",
        "from sklearn.neighbors import KNeighborsClassifier\r\n",
        "from sklearn.tree import DecisionTreeClassifier\r\n",
        "from sklearn.ensemble import RandomForestClassifier\r\n",
        "from sklearn.model_selection import GridSearchCV\r\n",
        "from xgboost import XGBClassifier\r\n",
        "from sklearn.feature_extraction.text import CountVectorizer\r\n",
        "from sklearn.feature_extraction.text import TfidfTransformer\r\n",
        "from sklearn.model_selection import KFold\r\n",
        "from sklearn.model_selection import cross_val_score\r\n",
        "from sklearn.pipeline import Pipeline\r\n",
        "from numpy import mean\r\n",
        "from numpy import std"
      ],
      "execution_count": 51,
      "outputs": []
    },
    {
      "cell_type": "code",
      "metadata": {
        "id": "lpoPEsfN3mUz"
      },
      "source": [
        "\r\n",
        "high_kappa = pd.read_csv(r'/content/train_data_highkappa.csv')\r\n",
        "train_1 = pd.read_csv(r'/content/train_data1.csv')\r\n",
        "train_2 = pd.read_csv(r'/content/train_data2.csv')\r\n",
        "train_3 = pd.read_csv(r'/content/train_data3.csv')\r\n",
        "train_4 = pd.read_csv(r'/content/train_data4.csv')\r\n",
        "train_5 = pd.read_csv(r'/content/train_data5.csv')\r\n",
        "train_6 = pd.read_csv(r'/content/train_data6.csv')\r\n",
        "train_7 = pd.read_csv(r'/content/train_data7.csv')\r\n",
        "train_8 = pd.read_csv(r'/content/train_data8.csv')\r\n",
        "train_9 = pd.read_csv(r'/content/train_data9.csv')\r\n",
        "train_10 = pd.read_csv(r'/content/train_data10.csv')\r\n",
        "\r\n",
        "test = pd.read_csv(r'/content/test_data.csv')\r\n"
      ],
      "execution_count": 52,
      "outputs": []
    },
    {
      "cell_type": "code",
      "metadata": {
        "id": "XQKS4EVqMCcQ"
      },
      "source": [
        "high_kappa['Target'] = high_kappa['Target'].replace(['Others'],'Invalid')\r\n",
        "train_1['Target'] = train_1['Target'].replace(['Others'],'Invalid')\r\n",
        "train_2['Target'] = train_2['Target'].replace(['Others'],'Invalid')\r\n",
        "train_3['Target'] = train_3['Target'].replace(['Others'],'Invalid')\r\n",
        "train_4['Target'] = train_4['Target'].replace(['Others'],'Invalid')\r\n",
        "train_5['Target'] = train_5['Target'].replace(['Others'],'Invalid')\r\n",
        "train_6['Target'] = train_6['Target'].replace(['Others'],'Invalid')\r\n",
        "train_7['Target'] = train_7['Target'].replace(['Others'],'Invalid')\r\n",
        "train_8['Target'] = train_8['Target'].replace(['Others'],'Invalid')\r\n",
        "train_9['Target'] = train_9['Target'].replace(['Others'],'Invalid')\r\n",
        "train_10['Target'] = train_10['Target'].replace(['Others'],'Invalid')\r\n"
      ],
      "execution_count": 53,
      "outputs": []
    },
    {
      "cell_type": "code",
      "metadata": {
        "colab": {
          "base_uri": "https://localhost:8080/"
        },
        "id": "-pNf0ot7MkW2",
        "outputId": "fd78b3ad-c4a5-4792-d66a-f2a4fdf654fe"
      },
      "source": [
        "train_5['Target'].unique()"
      ],
      "execution_count": 54,
      "outputs": [
        {
          "output_type": "execute_result",
          "data": {
            "text/plain": [
              "array(['Invalid', 'Issue', 'Analysis', 'Facts', 'Conclusion',\n",
              "       'Rule/Law/Holding'], dtype=object)"
            ]
          },
          "metadata": {
            "tags": []
          },
          "execution_count": 54
        }
      ]
    },
    {
      "cell_type": "code",
      "metadata": {
        "colab": {
          "base_uri": "https://localhost:8080/"
        },
        "id": "3bkdKTa3MpYt",
        "outputId": "c0098ecf-96d0-46b4-ae63-9d86d41fa2f0"
      },
      "source": [
        "#cleaning\r\n",
        "import nltk\r\n",
        "import re\r\n",
        "import string\r\n",
        "nltk.download('stopwords')\r\n",
        "nltk.download('wordnet')\r\n",
        "stopword=nltk.corpus.stopwords.words('english')\r\n",
        "from nltk.stem import WordNetLemmatizer\r\n",
        "wl= WordNetLemmatizer()\r\n",
        "\r\n",
        "def clean_text(text):\r\n",
        "  text=\"\".join([word.lower() for word in text if word not in string.punctuation])\r\n",
        "  tokens = re.split('\\W+',text)\r\n",
        "  text = [wl.lemmatize(word) for word in tokens if word not in stopword]\r\n",
        "  return text"
      ],
      "execution_count": 55,
      "outputs": [
        {
          "output_type": "stream",
          "text": [
            "[nltk_data] Downloading package stopwords to /root/nltk_data...\n",
            "[nltk_data]   Package stopwords is already up-to-date!\n",
            "[nltk_data] Downloading package wordnet to /root/nltk_data...\n",
            "[nltk_data]   Package wordnet is already up-to-date!\n"
          ],
          "name": "stdout"
        }
      ]
    },
    {
      "cell_type": "code",
      "metadata": {
        "id": "gkAl4XdCMu3S"
      },
      "source": [
        "from sklearn.feature_extraction.text import TfidfVectorizer\r\n",
        "\r\n",
        "tfidf_vect = TfidfVectorizer(analyzer = clean_text)\r\n",
        "high_kappa_X_tfidf = tfidf_vect.fit_transform(high_kappa['Sentence'])\r\n",
        "train1_Xtfidf = tfidf_vect.transform(train_1['Sentence'])\r\n",
        "train2_Xtfidf = tfidf_vect.transform(train_2['Sentence'])\r\n",
        "train3_Xtfidf = tfidf_vect.transform(train_3['Sentence'])\r\n",
        "train4_Xtfidf = tfidf_vect.transform(train_4['Sentence'])\r\n",
        "train5_Xtfidf = tfidf_vect.transform(train_5['Sentence'])\r\n",
        "train6_Xtfidf = tfidf_vect.transform(train_6['Sentence'])\r\n",
        "train7_Xtfidf = tfidf_vect.transform(train_7['Sentence'])\r\n",
        "train8_Xtfidf = tfidf_vect.transform(train_8['Sentence'])\r\n",
        "train9_Xtfidf = tfidf_vect.transform(train_9['Sentence'])\r\n",
        "train10_Xtfidf = tfidf_vect.transform(train_10['Sentence'])"
      ],
      "execution_count": 64,
      "outputs": []
    },
    {
      "cell_type": "code",
      "metadata": {
        "id": "VUlnzbrUStwh"
      },
      "source": [
        "test['Target']=test['Target'].replace(['Others'],'Invalid')\r\n",
        "test['Sentence'] = test['Sentence'].apply(lambda x: \" \".join(x.lower() for x in str(x).split()))\r\n",
        "test['Sentence'] = test['Sentence'].str.replace('[^\\w\\s]','')\r\n",
        "from nltk.corpus import stopwords\r\n",
        "words = stopwords.words('english')\r\n",
        "test['Sentence'] = test['Sentence'].apply(lambda x: \" \".join(x for x in x.split() if x not in words))\r\n"
      ],
      "execution_count": 65,
      "outputs": []
    },
    {
      "cell_type": "code",
      "metadata": {
        "id": "jzrL7xS1PP7A"
      },
      "source": [
        "from sklearn.model_selection import train_test_split\r\n",
        "from sklearn.metrics import accuracy_score\r\n",
        "from sklearn.metrics import classification_report\r\n",
        "from sklearn.calibration import CalibratedClassifierCV"
      ],
      "execution_count": 66,
      "outputs": []
    },
    {
      "cell_type": "markdown",
      "metadata": {
        "id": "EEzs5jYkPW80"
      },
      "source": [
        "SVM"
      ]
    },
    {
      "cell_type": "code",
      "metadata": {
        "id": "VRXB1G1PP513"
      },
      "source": [
        "def svm_accu(x_train,x_val,y_train,y_val):\r\n",
        "  support = svm.LinearSVC(multi_class='ovr',class_weight='balanced')\r\n",
        "  clf = support.fit(x_train, y_train)\r\n",
        "  calibrator = CalibratedClassifierCV(clf, cv='prefit')\r\n",
        "  model=calibrator.fit(x_train, y_train)\r\n",
        "  pred_svm = model.predict(x_val)\r\n",
        "  acc_train = accuracy_score(pred_svm,y_val)\r\n",
        "  test_pred = model.predict(t_p)\r\n",
        "  acc_test = accuracy_score(test_pred,test['Target'])\r\n",
        "  \r\n",
        "  return acc_train,acc_test"
      ],
      "execution_count": 69,
      "outputs": []
    },
    {
      "cell_type": "code",
      "metadata": {
        "colab": {
          "base_uri": "https://localhost:8080/"
        },
        "id": "r3NsC_d-TKry",
        "outputId": "6fea068e-abf2-4612-e483-fd25ab3a2b9e"
      },
      "source": [
        "print(high_kappa_X_tfidf.shape)"
      ],
      "execution_count": 59,
      "outputs": [
        {
          "output_type": "stream",
          "text": [
            "(2951, 5835)\n"
          ],
          "name": "stdout"
        }
      ]
    },
    {
      "cell_type": "code",
      "metadata": {
        "colab": {
          "base_uri": "https://localhost:8080/"
        },
        "id": "5JifzQXUSU5u",
        "outputId": "1a17a3c0-0727-4f23-9502-ff38da7d44c0"
      },
      "source": [
        "from sklearn import svm\r\n",
        "X_train_hk, x_val_hk, Y_train_hk, y_val_hk = train_test_split(high_kappa_X_tfidf,high_kappa['Target'],test_size=0.26,random_state=42)\r\n",
        "svm_accu(X_train_hk,x_val_hk,Y_train_hk,y_val_hk)"
      ],
      "execution_count": 70,
      "outputs": [
        {
          "output_type": "execute_result",
          "data": {
            "text/plain": [
              "(0.6861979166666666, 0.6065259117082533)"
            ]
          },
          "metadata": {
            "tags": []
          },
          "execution_count": 70
        }
      ]
    },
    {
      "cell_type": "code",
      "metadata": {
        "colab": {
          "base_uri": "https://localhost:8080/"
        },
        "id": "QXl-H2QVjKvU",
        "outputId": "66e51226-083b-4cfd-88c9-a201771bae3c"
      },
      "source": [
        "x_train1, x_val1, Y_train1, y_val1 = train_test_split(train1_Xtfidf,train_1['Target'],test_size=0.26,random_state=42)\r\n",
        "svm_accu(x_train1,x_val1,Y_train1,y_val1)"
      ],
      "execution_count": 71,
      "outputs": [
        {
          "output_type": "execute_result",
          "data": {
            "text/plain": [
              "(0.672566371681416, 0.6103646833013435)"
            ]
          },
          "metadata": {
            "tags": []
          },
          "execution_count": 71
        }
      ]
    },
    {
      "cell_type": "code",
      "metadata": {
        "colab": {
          "base_uri": "https://localhost:8080/"
        },
        "id": "l6e8AqiLkJcM",
        "outputId": "e5465ca3-cab5-4a8e-fedb-81a0a3d6d50d"
      },
      "source": [
        "x_train2, x_val2, Y_train2, y_val2 = train_test_split(train2_Xtfidf,train_2['Target'],test_size=0.26,random_state=42)\r\n",
        "svm_accu(x_train2,x_val2,Y_train2,y_val2)"
      ],
      "execution_count": 72,
      "outputs": [
        {
          "output_type": "execute_result",
          "data": {
            "text/plain": [
              "(0.665929203539823, 0.6084452975047985)"
            ]
          },
          "metadata": {
            "tags": []
          },
          "execution_count": 72
        }
      ]
    },
    {
      "cell_type": "code",
      "metadata": {
        "colab": {
          "base_uri": "https://localhost:8080/"
        },
        "id": "yCzypldhkpd-",
        "outputId": "9f9d7dd6-9fde-48e3-d364-8be30ff6017e"
      },
      "source": [
        "x_train3, x_val3, Y_train3, y_val3 = train_test_split(train3_Xtfidf,train_3['Target'],test_size=0.26,random_state=42)\r\n",
        "x_train4, x_val4, Y_train4, y_val4 = train_test_split(train4_Xtfidf,train_4['Target'],test_size=0.26,random_state=42)\r\n",
        "x_train5, x_val5, Y_train5, y_val5 = train_test_split(train5_Xtfidf,train_5['Target'],test_size=0.26,random_state=42)\r\n",
        "x_train6, x_val6, Y_train6, y_val6 = train_test_split(train6_Xtfidf,train_6['Target'],test_size=0.26,random_state=42)\r\n",
        "x_train7, x_val7, Y_train7, y_val7 = train_test_split(train7_Xtfidf,train_7['Target'],test_size=0.26,random_state=42)\r\n",
        "x_train8, x_val8, Y_train8, y_val8 = train_test_split(train8_Xtfidf,train_8['Target'],test_size=0.26,random_state=42)\r\n",
        "x_train9, x_val9, Y_train9, y_val9 = train_test_split(train9_Xtfidf,train_9['Target'],test_size=0.26,random_state=42)\r\n",
        "x_train10, x_val10, Y_train10, y_val10 = train_test_split(train10_Xtfidf,train_10['Target'],test_size=0.26,random_state=42)\r\n",
        "print(svm_accu(x_train3,x_val3,Y_train3,y_val3))\r\n",
        "print(svm_accu(x_train4,x_val4,Y_train4,y_val4))\r\n",
        "print(svm_accu(x_train5,x_val5,Y_train5,y_val5))\r\n",
        "print(svm_accu(x_train6,x_val6,Y_train6,y_val6))\r\n",
        "print(svm_accu(x_train7,x_val7,Y_train7,y_val7))\r\n",
        "print(svm_accu(x_train8,x_val8,Y_train8,y_val8))\r\n",
        "print(svm_accu(x_train9,x_val9,Y_train9,y_val9))\r\n",
        "print(svm_accu(x_train10,x_val10,Y_train10,y_val10))"
      ],
      "execution_count": 74,
      "outputs": [
        {
          "output_type": "stream",
          "text": [
            "(0.6769911504424779, 0.6180422264875239)\n",
            "(0.6814159292035398, 0.6180422264875239)\n",
            "(0.6758849557522124, 0.6180422264875239)\n",
            "(0.6946902654867256, 0.6333973128598849)\n",
            "(0.6758849557522124, 0.6142034548944337)\n",
            "(0.6836283185840708, 0.6238003838771593)\n",
            "(0.6780973451327433, 0.6142034548944337)\n",
            "(0.6736725663716814, 0.6142034548944337)\n"
          ],
          "name": "stdout"
        }
      ]
    },
    {
      "cell_type": "markdown",
      "metadata": {
        "id": "g49rsMkvmHQa"
      },
      "source": [
        "MultinomialNB"
      ]
    },
    {
      "cell_type": "code",
      "metadata": {
        "id": "jaD08kOomI89"
      },
      "source": [
        "def mnb_accu(x_train,x_val,y_train,y_val):\r\n",
        "  support = MultinomialNB()\r\n",
        "  clf = support.fit(x_train, y_train)\r\n",
        "  calibrator = CalibratedClassifierCV(clf, cv='prefit')\r\n",
        "  model=calibrator.fit(x_train, y_train)\r\n",
        "  pred_svm = model.predict(x_val)\r\n",
        "  acc_train = accuracy_score(pred_svm,y_val)\r\n",
        "  test_pred = model.predict(t_p)\r\n",
        "  acc_test = accuracy_score(test_pred,test['Target'])\r\n",
        "  \r\n",
        "  return acc_train,acc_test"
      ],
      "execution_count": 75,
      "outputs": []
    },
    {
      "cell_type": "code",
      "metadata": {
        "colab": {
          "base_uri": "https://localhost:8080/"
        },
        "id": "PsLjPqCxmx1F",
        "outputId": "5c1de332-736a-40a0-d9f8-9b0f6da56f0b"
      },
      "source": [
        "from sklearn.naive_bayes import MultinomialNB\r\n",
        "X_train_hk, x_val_hk, Y_train_hk, y_val_hk = train_test_split(high_kappa_X_tfidf,high_kappa['Target'],test_size=0.26,random_state=42)\r\n",
        "x_train1, x_val1, Y_train1, y_val1 = train_test_split(train1_Xtfidf,train_1['Target'],test_size=0.26,random_state=42)\r\n",
        "x_train2, x_val2, Y_train2, y_val2 = train_test_split(train2_Xtfidf,train_2['Target'],test_size=0.26,random_state=42)\r\n",
        "x_train3, x_val3, Y_train3, y_val3 = train_test_split(train3_Xtfidf,train_3['Target'],test_size=0.26,random_state=42)\r\n",
        "x_train4, x_val4, Y_train4, y_val4 = train_test_split(train4_Xtfidf,train_4['Target'],test_size=0.26,random_state=42)\r\n",
        "x_train5, x_val5, Y_train5, y_val5 = train_test_split(train5_Xtfidf,train_5['Target'],test_size=0.26,random_state=42)\r\n",
        "x_train6, x_val6, Y_train6, y_val6 = train_test_split(train6_Xtfidf,train_6['Target'],test_size=0.26,random_state=42)\r\n",
        "x_train7, x_val7, Y_train7, y_val7 = train_test_split(train7_Xtfidf,train_7['Target'],test_size=0.26,random_state=42)\r\n",
        "x_train8, x_val8, Y_train8, y_val8 = train_test_split(train8_Xtfidf,train_8['Target'],test_size=0.26,random_state=42)\r\n",
        "x_train9, x_val9, Y_train9, y_val9 = train_test_split(train9_Xtfidf,train_9['Target'],test_size=0.26,random_state=42)\r\n",
        "x_train10, x_val10, Y_train10, y_val10 = train_test_split(train10_Xtfidf,train_10['Target'],test_size=0.26,random_state=42)\r\n",
        "print(mnb_accu(X_train_hk,x_val_hk,Y_train_hk,y_val_hk))\r\n",
        "print(mnb_accu(x_train1,x_val1,Y_train1,y_val1))\r\n",
        "print(mnb_accu(x_train2,x_val2,Y_train2,y_val2))\r\n",
        "print(mnb_accu(x_train3,x_val3,Y_train3,y_val3))\r\n",
        "print(mnb_accu(x_train4,x_val4,Y_train4,y_val4))\r\n",
        "print(mnb_accu(x_train5,x_val5,Y_train5,y_val5))\r\n",
        "print(mnb_accu(x_train6,x_val6,Y_train6,y_val6))\r\n",
        "print(mnb_accu(x_train7,x_val7,Y_train7,y_val7))\r\n",
        "print(mnb_accu(x_train8,x_val8,Y_train8,y_val8))\r\n",
        "print(mnb_accu(x_train9,x_val9,Y_train9,y_val9))\r\n",
        "print(mnb_accu(x_train10,x_val10,Y_train10,y_val10))\r\n"
      ],
      "execution_count": 80,
      "outputs": [
        {
          "output_type": "stream",
          "text": [
            "(0.6510416666666666, 0.6046065259117083)\n",
            "(0.6526548672566371, 0.6007677543186181)\n",
            "(0.6460176991150443, 0.6026871401151631)\n",
            "(0.6537610619469026, 0.6046065259117083)\n",
            "(0.6438053097345132, 0.5988483685220729)\n",
            "(0.6327433628318584, 0.5988483685220729)\n",
            "(0.665929203539823, 0.6103646833013435)\n",
            "(0.6548672566371682, 0.6065259117082533)\n",
            "(0.6526548672566371, 0.5969289827255279)\n",
            "(0.6426991150442478, 0.5930902111324377)\n",
            "(0.6438053097345132, 0.5892514395393474)\n"
          ],
          "name": "stdout"
        }
      ]
    },
    {
      "cell_type": "markdown",
      "metadata": {
        "id": "AhtrQG3yogCZ"
      },
      "source": [
        "KNN"
      ]
    },
    {
      "cell_type": "code",
      "metadata": {
        "id": "CffVCebMohZJ"
      },
      "source": [
        "def knn_accu(x_train,x_val,y_train,y_val):\r\n",
        "  support = KNeighborsClassifier(n_neighbors=5)\r\n",
        "  clf = support.fit(x_train, y_train)\r\n",
        "  calibrator = CalibratedClassifierCV(clf, cv='prefit')\r\n",
        "  model=calibrator.fit(x_train, y_train)\r\n",
        "  pred_svm = model.predict(x_val)\r\n",
        "  acc_train = accuracy_score(pred_svm,y_val)\r\n",
        "  test_pred = model.predict(t_p)\r\n",
        "  acc_test = accuracy_score(test_pred,test['Target'])\r\n",
        "  \r\n",
        "  return acc_train,acc_test"
      ],
      "execution_count": 83,
      "outputs": []
    },
    {
      "cell_type": "code",
      "metadata": {
        "colab": {
          "base_uri": "https://localhost:8080/"
        },
        "id": "bCyrx0AepJLW",
        "outputId": "b91f2cf0-964d-4db8-9a17-0e99c046818b"
      },
      "source": [
        "from sklearn.neighbors import KNeighborsClassifier\r\n",
        "X_train_hk, x_val_hk, Y_train_hk, y_val_hk = train_test_split(high_kappa_X_tfidf,high_kappa['Target'],test_size=0.26,random_state=42)\r\n",
        "x_train1, x_val1, Y_train1, y_val1 = train_test_split(train1_Xtfidf,train_1['Target'],test_size=0.26,random_state=42)\r\n",
        "x_train2, x_val2, Y_train2, y_val2 = train_test_split(train2_Xtfidf,train_2['Target'],test_size=0.26,random_state=42)\r\n",
        "x_train3, x_val3, Y_train3, y_val3 = train_test_split(train3_Xtfidf,train_3['Target'],test_size=0.26,random_state=42)\r\n",
        "x_train4, x_val4, Y_train4, y_val4 = train_test_split(train4_Xtfidf,train_4['Target'],test_size=0.26,random_state=42)\r\n",
        "x_train5, x_val5, Y_train5, y_val5 = train_test_split(train5_Xtfidf,train_5['Target'],test_size=0.26,random_state=42)\r\n",
        "x_train6, x_val6, Y_train6, y_val6 = train_test_split(train6_Xtfidf,train_6['Target'],test_size=0.26,random_state=42)\r\n",
        "x_train7, x_val7, Y_train7, y_val7 = train_test_split(train7_Xtfidf,train_7['Target'],test_size=0.26,random_state=42)\r\n",
        "x_train8, x_val8, Y_train8, y_val8 = train_test_split(train8_Xtfidf,train_8['Target'],test_size=0.26,random_state=42)\r\n",
        "x_train9, x_val9, Y_train9, y_val9 = train_test_split(train9_Xtfidf,train_9['Target'],test_size=0.26,random_state=42)\r\n",
        "x_train10, x_val10, Y_train10, y_val10 = train_test_split(train10_Xtfidf,train_10['Target'],test_size=0.26,random_state=42)\r\n",
        "print(knn_accu(X_train_hk,x_val_hk,Y_train_hk,y_val_hk))\r\n",
        "print(knn_accu(x_train1,x_val1,Y_train1,y_val1))\r\n",
        "print(knn_accu(x_train2,x_val2,Y_train2,y_val2))\r\n",
        "print(knn_accu(x_train3,x_val3,Y_train3,y_val3))\r\n",
        "print(knn_accu(x_train4,x_val4,Y_train4,y_val4))\r\n",
        "print(knn_accu(x_train5,x_val5,Y_train5,y_val5))\r\n",
        "print(knn_accu(x_train6,x_val6,Y_train6,y_val6))\r\n",
        "print(knn_accu(x_train7,x_val7,Y_train7,y_val7))\r\n",
        "print(knn_accu(x_train8,x_val8,Y_train8,y_val8))\r\n",
        "print(knn_accu(x_train9,x_val9,Y_train9,y_val9))\r\n",
        "print(knn_accu(x_train10,x_val10,Y_train10,y_val10))"
      ],
      "execution_count": 84,
      "outputs": [
        {
          "output_type": "stream",
          "text": [
            "(0.6041666666666666, 0.5143953934740882)\n",
            "(0.5896017699115044, 0.5220729366602687)\n",
            "(0.5707964601769911, 0.54510556621881)\n",
            "(0.6017699115044248, 0.5547024952015355)\n",
            "(0.5464601769911505, 0.5124760076775432)\n",
            "(0.2488938053097345, 0.22264875239923224)\n",
            "(0.6161504424778761, 0.5374280230326296)\n",
            "(0.23783185840707965, 0.22840690978886757)\n",
            "(0.5553097345132744, 0.4932821497120921)\n",
            "(0.5320796460176991, 0.491362763915547)\n",
            "(0.5519911504424779, 0.4952015355086372)\n"
          ],
          "name": "stdout"
        }
      ]
    },
    {
      "cell_type": "markdown",
      "metadata": {
        "id": "vPUZctkVqey1"
      },
      "source": [
        "Decision trees"
      ]
    },
    {
      "cell_type": "code",
      "metadata": {
        "id": "8oBxsBpqqgfH"
      },
      "source": [
        "def dnt_accu(x_train,x_val,y_train,y_val):\r\n",
        "  support = DecisionTreeClassifier()\r\n",
        "  clf = support.fit(x_train, y_train)\r\n",
        "  calibrator = CalibratedClassifierCV(clf, cv='prefit')\r\n",
        "  model=calibrator.fit(x_train, y_train)\r\n",
        "  pred_svm = model.predict(x_val)\r\n",
        "  acc_train = accuracy_score(pred_svm,y_val)\r\n",
        "  test_pred = model.predict(t_p)\r\n",
        "  acc_test = accuracy_score(test_pred,test['Target'])\r\n",
        "  \r\n",
        "  return acc_train,acc_test"
      ],
      "execution_count": 89,
      "outputs": []
    },
    {
      "cell_type": "code",
      "metadata": {
        "colab": {
          "base_uri": "https://localhost:8080/"
        },
        "id": "KY0YYOIaqs41",
        "outputId": "7879a16f-ba54-4d8b-c6b7-dd25a89a539c"
      },
      "source": [
        "from sklearn.tree import DecisionTreeClassifier\r\n",
        "X_train_hk, x_val_hk, Y_train_hk, y_val_hk = train_test_split(high_kappa_X_tfidf,high_kappa['Target'],test_size=0.26,random_state=42)\r\n",
        "x_train1, x_val1, Y_train1, y_val1 = train_test_split(train1_Xtfidf,train_1['Target'],test_size=0.26,random_state=42)\r\n",
        "x_train2, x_val2, Y_train2, y_val2 = train_test_split(train2_Xtfidf,train_2['Target'],test_size=0.26,random_state=42)\r\n",
        "x_train3, x_val3, Y_train3, y_val3 = train_test_split(train3_Xtfidf,train_3['Target'],test_size=0.26,random_state=42)\r\n",
        "x_train4, x_val4, Y_train4, y_val4 = train_test_split(train4_Xtfidf,train_4['Target'],test_size=0.26,random_state=42)\r\n",
        "x_train5, x_val5, Y_train5, y_val5 = train_test_split(train5_Xtfidf,train_5['Target'],test_size=0.26,random_state=42)\r\n",
        "x_train6, x_val6, Y_train6, y_val6 = train_test_split(train6_Xtfidf,train_6['Target'],test_size=0.26,random_state=42)\r\n",
        "x_train7, x_val7, Y_train7, y_val7 = train_test_split(train7_Xtfidf,train_7['Target'],test_size=0.26,random_state=42)\r\n",
        "x_train8, x_val8, Y_train8, y_val8 = train_test_split(train8_Xtfidf,train_8['Target'],test_size=0.26,random_state=42)\r\n",
        "x_train9, x_val9, Y_train9, y_val9 = train_test_split(train9_Xtfidf,train_9['Target'],test_size=0.26,random_state=42)\r\n",
        "x_train10, x_val10, Y_train10, y_val10 = train_test_split(train10_Xtfidf,train_10['Target'],test_size=0.26,random_state=42)\r\n",
        "print(dnt_accu(X_train_hk,x_val_hk,Y_train_hk,y_val_hk))\r\n",
        "print(dnt_accu(x_train1,x_val1,Y_train1,y_val1))\r\n",
        "print(dnt_accu(x_train2,x_val2,Y_train2,y_val2))\r\n",
        "print(dnt_accu(x_train3,x_val3,Y_train3,y_val3))\r\n",
        "print(dnt_accu(x_train4,x_val4,Y_train4,y_val4))\r\n",
        "print(dnt_accu(x_train5,x_val5,Y_train5,y_val5))\r\n",
        "print(dnt_accu(x_train6,x_val6,Y_train6,y_val6))\r\n",
        "print(dnt_accu(x_train7,x_val7,Y_train7,y_val7))\r\n",
        "print(dnt_accu(x_train8,x_val8,Y_train8,y_val8))\r\n",
        "print(dnt_accu(x_train9,x_val9,Y_train9,y_val9))\r\n",
        "print(dnt_accu(x_train10,x_val10,Y_train10,y_val10))"
      ],
      "execution_count": 90,
      "outputs": [
        {
          "output_type": "stream",
          "text": [
            "(0.5755208333333334, 0.5220729366602687)\n",
            "(0.6028761061946902, 0.5412667946257198)\n",
            "(0.5829646017699115, 0.5239923224568138)\n",
            "(0.5674778761061947, 0.5355086372360844)\n",
            "(0.581858407079646, 0.5220729366602687)\n",
            "(0.5663716814159292, 0.5163147792706334)\n",
            "(0.5741150442477876, 0.5412667946257198)\n",
            "(0.5696902654867256, 0.5239923224568138)\n",
            "(0.5685840707964602, 0.5143953934740882)\n",
            "(0.5586283185840708, 0.4990403071017274)\n",
            "(0.5608407079646017, 0.5028790786948176)\n"
          ],
          "name": "stdout"
        }
      ]
    },
    {
      "cell_type": "markdown",
      "metadata": {
        "id": "WPJc03C2sYHx"
      },
      "source": [
        "Random Forest"
      ]
    },
    {
      "cell_type": "code",
      "metadata": {
        "id": "81rVYz-jsavo"
      },
      "source": [
        "def rdf_accu(x_train,x_val,y_train,y_val):\r\n",
        "  support = RandomForestClassifier()\r\n",
        "  clf = support.fit(x_train, y_train)\r\n",
        "  calibrator = CalibratedClassifierCV(clf, cv='prefit')\r\n",
        "  model=calibrator.fit(x_train, y_train)\r\n",
        "  pred_svm = model.predict(x_val)\r\n",
        "  acc_train = accuracy_score(pred_svm,y_val)\r\n",
        "  test_pred = model.predict(t_p)\r\n",
        "  acc_test = accuracy_score(test_pred,test['Target'])\r\n",
        "  \r\n",
        "  return acc_train,acc_test"
      ],
      "execution_count": 92,
      "outputs": []
    },
    {
      "cell_type": "code",
      "metadata": {
        "colab": {
          "base_uri": "https://localhost:8080/"
        },
        "id": "bxh5C4Ets4aZ",
        "outputId": "16aeb227-3248-435b-f919-f9b1cf597339"
      },
      "source": [
        "from sklearn.ensemble import RandomForestClassifier\r\n",
        "X_train_hk, x_val_hk, Y_train_hk, y_val_hk = train_test_split(high_kappa_X_tfidf,high_kappa['Target'],test_size=0.26,random_state=42)\r\n",
        "x_train1, x_val1, Y_train1, y_val1 = train_test_split(train1_Xtfidf,train_1['Target'],test_size=0.26,random_state=42)\r\n",
        "x_train2, x_val2, Y_train2, y_val2 = train_test_split(train2_Xtfidf,train_2['Target'],test_size=0.26,random_state=42)\r\n",
        "x_train3, x_val3, Y_train3, y_val3 = train_test_split(train3_Xtfidf,train_3['Target'],test_size=0.26,random_state=42)\r\n",
        "x_train4, x_val4, Y_train4, y_val4 = train_test_split(train4_Xtfidf,train_4['Target'],test_size=0.26,random_state=42)\r\n",
        "x_train5, x_val5, Y_train5, y_val5 = train_test_split(train5_Xtfidf,train_5['Target'],test_size=0.26,random_state=42)\r\n",
        "x_train6, x_val6, Y_train6, y_val6 = train_test_split(train6_Xtfidf,train_6['Target'],test_size=0.26,random_state=42)\r\n",
        "x_train7, x_val7, Y_train7, y_val7 = train_test_split(train7_Xtfidf,train_7['Target'],test_size=0.26,random_state=42)\r\n",
        "x_train8, x_val8, Y_train8, y_val8 = train_test_split(train8_Xtfidf,train_8['Target'],test_size=0.26,random_state=42)\r\n",
        "x_train9, x_val9, Y_train9, y_val9 = train_test_split(train9_Xtfidf,train_9['Target'],test_size=0.26,random_state=42)\r\n",
        "x_train10, x_val10, Y_train10, y_val10 = train_test_split(train10_Xtfidf,train_10['Target'],test_size=0.26,random_state=42)\r\n",
        "print(rdf_accu(X_train_hk,x_val_hk,Y_train_hk,y_val_hk))\r\n",
        "print(rdf_accu(x_train1,x_val1,Y_train1,y_val1))\r\n",
        "print(rdf_accu(x_train2,x_val2,Y_train2,y_val2))\r\n",
        "print(rdf_accu(x_train3,x_val3,Y_train3,y_val3))\r\n",
        "print(rdf_accu(x_train4,x_val4,Y_train4,y_val4))\r\n",
        "print(rdf_accu(x_train5,x_val5,Y_train5,y_val5))\r\n",
        "print(rdf_accu(x_train6,x_val6,Y_train6,y_val6))\r\n",
        "print(rdf_accu(x_train7,x_val7,Y_train7,y_val7))\r\n",
        "print(rdf_accu(x_train8,x_val8,Y_train8,y_val8))\r\n",
        "print(rdf_accu(x_train9,x_val9,Y_train9,y_val9))\r\n",
        "print(rdf_accu(x_train10,x_val10,Y_train10,y_val10))"
      ],
      "execution_count": 93,
      "outputs": [
        {
          "output_type": "stream",
          "text": [
            "(0.6627604166666666, 0.6026871401151631)\n",
            "(0.672566371681416, 0.6429942418426103)\n",
            "(0.6581858407079646, 0.6142034548944337)\n",
            "(0.6780973451327433, 0.6238003838771593)\n",
            "(0.6670353982300885, 0.6065259117082533)\n",
            "(0.6891592920353983, 0.6180422264875239)\n",
            "(0.6880530973451328, 0.6161228406909789)\n",
            "(0.6692477876106194, 0.6276391554702495)\n",
            "(0.6814159292035398, 0.6238003838771593)\n",
            "(0.6548672566371682, 0.6142034548944337)\n",
            "(0.6592920353982301, 0.6084452975047985)\n"
          ],
          "name": "stdout"
        }
      ]
    },
    {
      "cell_type": "markdown",
      "metadata": {
        "id": "i7S8iJNGt2aW"
      },
      "source": [
        "stochastic gradient boosting"
      ]
    },
    {
      "cell_type": "code",
      "metadata": {
        "id": "gQW9K5oVt26o"
      },
      "source": [
        "def sgb_accu(x_train,x_val,y_train,y_val):\r\n",
        "  support = SGDClassifier(max_iter=1000, tol=1e-3,loss='hinge',class_weight='balanced')\r\n",
        "  clf = support.fit(x_train, y_train)\r\n",
        "  calibrator = CalibratedClassifierCV(clf, cv='prefit')\r\n",
        "  model=calibrator.fit(x_train, y_train)\r\n",
        "  pred_svm = model.predict(x_val)\r\n",
        "  acc_train = accuracy_score(pred_svm,y_val)\r\n",
        "  test_pred = model.predict(t_p)\r\n",
        "  acc_test = accuracy_score(test_pred,test['Target'])\r\n",
        "  \r\n",
        "  return acc_train,acc_test"
      ],
      "execution_count": 94,
      "outputs": []
    },
    {
      "cell_type": "code",
      "metadata": {
        "colab": {
          "base_uri": "https://localhost:8080/"
        },
        "id": "1oF1dSDquE-n",
        "outputId": "737a6f71-a2b7-43bc-d5d7-1922edb56d8a"
      },
      "source": [
        "from sklearn.linear_model import SGDClassifier\r\n",
        "X_train_hk, x_val_hk, Y_train_hk, y_val_hk = train_test_split(high_kappa_X_tfidf,high_kappa['Target'],test_size=0.26,random_state=42)\r\n",
        "x_train1, x_val1, Y_train1, y_val1 = train_test_split(train1_Xtfidf,train_1['Target'],test_size=0.26,random_state=42)\r\n",
        "x_train2, x_val2, Y_train2, y_val2 = train_test_split(train2_Xtfidf,train_2['Target'],test_size=0.26,random_state=42)\r\n",
        "x_train3, x_val3, Y_train3, y_val3 = train_test_split(train3_Xtfidf,train_3['Target'],test_size=0.26,random_state=42)\r\n",
        "x_train4, x_val4, Y_train4, y_val4 = train_test_split(train4_Xtfidf,train_4['Target'],test_size=0.26,random_state=42)\r\n",
        "x_train5, x_val5, Y_train5, y_val5 = train_test_split(train5_Xtfidf,train_5['Target'],test_size=0.26,random_state=42)\r\n",
        "x_train6, x_val6, Y_train6, y_val6 = train_test_split(train6_Xtfidf,train_6['Target'],test_size=0.26,random_state=42)\r\n",
        "x_train7, x_val7, Y_train7, y_val7 = train_test_split(train7_Xtfidf,train_7['Target'],test_size=0.26,random_state=42)\r\n",
        "x_train8, x_val8, Y_train8, y_val8 = train_test_split(train8_Xtfidf,train_8['Target'],test_size=0.26,random_state=42)\r\n",
        "x_train9, x_val9, Y_train9, y_val9 = train_test_split(train9_Xtfidf,train_9['Target'],test_size=0.26,random_state=42)\r\n",
        "x_train10, x_val10, Y_train10, y_val10 = train_test_split(train10_Xtfidf,train_10['Target'],test_size=0.26,random_state=42)\r\n",
        "print(sgb_accu(X_train_hk,x_val_hk,Y_train_hk,y_val_hk))\r\n",
        "print(sgb_accu(x_train1,x_val1,Y_train1,y_val1))\r\n",
        "print(sgb_accu(x_train2,x_val2,Y_train2,y_val2))\r\n",
        "print(sgb_accu(x_train3,x_val3,Y_train3,y_val3))\r\n",
        "print(sgb_accu(x_train4,x_val4,Y_train4,y_val4))\r\n",
        "print(sgb_accu(x_train5,x_val5,Y_train5,y_val5))\r\n",
        "print(sgb_accu(x_train6,x_val6,Y_train6,y_val6))\r\n",
        "print(sgb_accu(x_train7,x_val7,Y_train7,y_val7))\r\n",
        "print(sgb_accu(x_train8,x_val8,Y_train8,y_val8))\r\n",
        "print(sgb_accu(x_train9,x_val9,Y_train9,y_val9))\r\n",
        "print(sgb_accu(x_train10,x_val10,Y_train10,y_val10))"
      ],
      "execution_count": 95,
      "outputs": [
        {
          "output_type": "stream",
          "text": [
            "(0.6731770833333334, 0.5930902111324377)\n",
            "(0.6626106194690266, 0.5930902111324377)\n",
            "(0.6493362831858407, 0.6007677543186181)\n",
            "(0.6537610619469026, 0.5950095969289827)\n",
            "(0.6592920353982301, 0.6007677543186181)\n",
            "(0.6692477876106194, 0.6180422264875239)\n",
            "(0.6747787610619469, 0.6180422264875239)\n",
            "(0.6504424778761062, 0.5892514395393474)\n",
            "(0.6803097345132744, 0.6065259117082533)\n",
            "(0.6592920353982301, 0.6046065259117083)\n",
            "(0.6548672566371682, 0.6007677543186181)\n"
          ],
          "name": "stdout"
        }
      ]
    }
  ]
}