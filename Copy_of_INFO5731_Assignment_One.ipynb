{
  "nbformat": 4,
  "nbformat_minor": 0,
  "metadata": {
    "colab": {
      "name": "Copy of INFO5731_Assignment_One.ipynb",
      "provenance": [],
      "collapsed_sections": [],
      "toc_visible": true,
      "include_colab_link": true
    },
    "kernelspec": {
      "name": "python3",
      "display_name": "Python 3"
    }
  },
  "cells": [
    {
      "cell_type": "markdown",
      "metadata": {
        "id": "view-in-github",
        "colab_type": "text"
      },
      "source": [
        "<a href=\"https://colab.research.google.com/github/sundarp17/sundar_info5731_fall2020/blob/master/Copy_of_INFO5731_Assignment_One.ipynb\" target=\"_parent\"><img src=\"https://colab.research.google.com/assets/colab-badge.svg\" alt=\"Open In Colab\"/></a>"
      ]
    },
    {
      "cell_type": "markdown",
      "metadata": {
        "id": "Ryk8D1Q4Wsrp",
        "colab_type": "text"
      },
      "source": [
        "# **INFO5731 Assignment One**"
      ]
    },
    {
      "cell_type": "markdown",
      "metadata": {
        "id": "90_NR8c5XGWc",
        "colab_type": "text"
      },
      "source": [
        "# Question 1\n",
        "\n",
        "(20 points). Write a Python program to generate 12 random numbers between 1 and 100. Sort the list of numbers in ascending order and print it out. Sort the list of numbers in descending order and print it out. Calculate the average for the group and print it out."
      ]
    },
    {
      "cell_type": "code",
      "metadata": {
        "id": "5QX6bJjGWXY9",
        "colab_type": "code",
        "colab": {
          "base_uri": "https://localhost:8080/",
          "height": 88
        },
        "outputId": "34ee0a80-793d-46aa-d09a-63e33b21cffc"
      },
      "source": [
        "# Your code here\n",
        "\n",
        "import numpy as np\n",
        "import random\n",
        "random_numbers=[]\n",
        "for x in range(12):\n",
        "  random_numbers.append(random.randint(2,99))\n",
        "print(\"random numbers between 1 and 100\",random_numbers)\n",
        "for i in range(len(random_numbers)):\n",
        "  j=i+1\n",
        "  for j in range(len(random_numbers)-1):\n",
        "    if(random_numbers[i]>random_numbers[j]):\n",
        "      temp=random_numbers[i]\n",
        "      random_numbers[i]=random_numbers[j]\n",
        "      random_numbers[j]=temp\n",
        "print(\"random numbers in descending order\",random_numbers)\n",
        "for i in range(len(random_numbers)):\n",
        "  j=i+1\n",
        "  for j in range(len(random_numbers)-1):\n",
        "    if(random_numbers[i]<random_numbers[j]):\n",
        "      temp=random_numbers[i]\n",
        "      random_numbers[i]=random_numbers[j]\n",
        "      random_numbers[j]=temp\n",
        "print(\"random numbers in ascending order\",random_numbers)\n",
        "print(\"Average of the group=\",(np.sum(random_numbers)/12))\n",
        "\n"
      ],
      "execution_count": null,
      "outputs": [
        {
          "output_type": "stream",
          "text": [
            "random numbers between 1 and 100 [37, 66, 20, 54, 16, 92, 81, 38, 81, 29, 5, 88]\n",
            "random numbers in descending order [92, 88, 81, 81, 66, 54, 38, 37, 29, 20, 16, 5]\n",
            "random numbers in ascending order [5, 16, 20, 29, 37, 38, 54, 66, 81, 81, 88, 92]\n",
            "Average of the group= 50.583333333333336\n"
          ],
          "name": "stdout"
        }
      ]
    },
    {
      "cell_type": "markdown",
      "metadata": {
        "id": "1F_PZdH9Sh49",
        "colab_type": "text"
      },
      "source": [
        "# Question 2\n",
        "(25 points). Write a program that will do the following string formatting tasks:\n",
        "\n",
        "(1) Ask the user to enter two sentences.\n",
        "\n",
        "(2) Make each sentence into a list. Each element in the list should correspond to a word in the sentence. For example, if the sentence is \"Alas! Am I alive? This is my first python program\", the program should print out ['Alas, '!', 'Am', 'I', 'alive, '?', 'This', 'is', 'my', 'first', 'python', 'program'].\n",
        "\n",
        "(3) Compare the two sentences. Print out a list of words that occur in both sentences.\n",
        "\n",
        "(4) Remove any punctuation from the sentence and print it back out. It should remove at least the following characters, but it can remove more: period(“.”), comma (“,”), semicolon (“;”), and colon (“:”)\n",
        "\n",
        "(5) Count the number of vowels in the sentences. Print out each vowel and the number of times it appears in the sentences, such as: a:2, e:1, i:0, etc"
      ]
    },
    {
      "cell_type": "code",
      "metadata": {
        "id": "Y0oOSlsOS0cq",
        "colab_type": "code",
        "colab": {
          "base_uri": "https://localhost:8080/",
          "height": 212
        },
        "outputId": "a921422d-ab12-4d95-c010-b8b3e94f5227"
      },
      "source": [
        "# Your code here\n",
        "import nltk\n",
        "import string\n",
        "nltk.download('punkt')\n",
        "#1\n",
        "sentence1=input(\"enter the first sentence: \")\n",
        "sentence2=input(\"enter the second sentence: \")\n",
        "#2\n",
        "list1=nltk.word_tokenize(sentence1)\n",
        "list2=nltk.word_tokenize(sentence2)\n",
        "print(\"list of words in sentence 1 are \",list1)\n",
        "print(\"list of words in sentence 2 are\",list2)\n",
        "#3\n",
        "matching_words=[]\n",
        "for i in range(len(list1)):\n",
        "  for j in range(len(list2)):\n",
        "    if(list1[i]==list2[j]):\n",
        "      matching_words.append(list1[i])\n",
        "print(\"list of words that occur in both sentences are \",matching_words)\n",
        "#4\n",
        "s1_np=\" \".join([word for word in list1 if word not in string.punctuation])\n",
        "print(\"sentence 1 without punctuation is \",s1_np)\n",
        "s2_np=\" \".join([word for word in list2 if word not in string.punctuation])\n",
        "print(\"sentence 2 without punctuation is \",s2_np)\n",
        "#5\n",
        "vowels='aeiou'\n",
        "def vowel(sentence,vowels):\n",
        "  sentence=sentence.lower()\n",
        "  count={}.fromkeys(vowels,0)\n",
        "  for character in sentence: \n",
        "        if character in count: \n",
        "            count[character] += 1    \n",
        "  return count\n",
        "print(\"number of vowels in sentence 1 \",vowel(sentence1,vowels))\n",
        "print(\"number of vowels in sentence 2 \",vowel(sentence2,vowels))\n",
        "\n"
      ],
      "execution_count": null,
      "outputs": [
        {
          "output_type": "stream",
          "text": [
            "[nltk_data] Downloading package punkt to /root/nltk_data...\n",
            "[nltk_data]   Package punkt is already up-to-date!\n",
            "enter the first sentence: Alas! Am I alive? This is my first python program\n",
            "enter the second sentence: Welcome to python course\n",
            "list of words in sentence 1 are  ['Alas', '!', 'Am', 'I', 'alive', '?', 'This', 'is', 'my', 'first', 'python', 'program']\n",
            "list of words in sentence 2 are ['Welcome', 'to', 'python', 'course']\n",
            "list of words that occur in both sentences are  ['python']\n",
            "sentence 1 without punctuation is  Alas Am I alive This is my first python program\n",
            "sentence 2 without punctuation is  Welcome to python course\n",
            "number of vowels in sentence 1  {'a': 5, 'e': 1, 'i': 5, 'o': 2, 'u': 0}\n",
            "number of vowels in sentence 2  {'a': 0, 'e': 3, 'i': 0, 'o': 4, 'u': 1}\n"
          ],
          "name": "stdout"
        }
      ]
    },
    {
      "cell_type": "markdown",
      "metadata": {
        "id": "CmFoI4jDS9nx",
        "colab_type": "text"
      },
      "source": [
        "# Question 3 \n",
        "\n",
        "(15 points). The formula that describes the volume V of a sphere with radius r is the following:\n",
        "\n",
        "$ V=\\frac{4}{3}\\ast\\ \\pi\\ast\\ r^3 $\n",
        "\n",
        "Write a program to calculate the value of V when r is in the range of 1–10. Output the result in the following format:\n",
        "\n",
        "\tr\tV\n",
        "\t1\t…\n",
        "\t2\t…\n",
        "\t3\t…\n"
      ]
    },
    {
      "cell_type": "code",
      "metadata": {
        "id": "pEyqeioAT95b",
        "colab_type": "code",
        "colab": {
          "base_uri": "https://localhost:8080/",
          "height": 195
        },
        "outputId": "53d56d3d-19df-4165-df80-9e3ce813b63a"
      },
      "source": [
        "# Your code here\n",
        "import math\n",
        "\n",
        "print(\"r V\")\n",
        "for i in range(1,10):\n",
        "  v=((4/3)*math.pi*pow(i,3))\n",
        "  print(i,end = \" \")\n",
        "  print(v)\n"
      ],
      "execution_count": null,
      "outputs": [
        {
          "output_type": "stream",
          "text": [
            "r V\n",
            "1 4.1887902047863905\n",
            "2 33.510321638291124\n",
            "3 113.09733552923254\n",
            "4 268.082573106329\n",
            "5 523.5987755982989\n",
            "6 904.7786842338603\n",
            "7 1436.7550402417319\n",
            "8 2144.660584850632\n",
            "9 3053.6280592892786\n"
          ],
          "name": "stdout"
        }
      ]
    },
    {
      "cell_type": "code",
      "metadata": {
        "id": "pMCr3l8tnu0j",
        "colab_type": "code",
        "colab": {}
      },
      "source": [
        ""
      ],
      "execution_count": null,
      "outputs": []
    },
    {
      "cell_type": "markdown",
      "metadata": {
        "id": "z3tBE7E-Xn5X",
        "colab_type": "text"
      },
      "source": [
        "# Question 4\n",
        "\n",
        "(40 points). In the field of Data Science, data is often formatted as a comma-delimited (CSV) file, where each line in a file corresponds to a field's value. Refer to Chapter 9 (p. 106) for more information on comma-delimited files. To answer this question, you will need to download the file [Assignment1_denton_housing.csv](https://github.com/unt-iialab/INFO5731_FALL2020/blob/master/Assignments/Assignment1_denton_housing.csv) included with this assignment. The [file Assignment1_denton_housing.csv](https://github.com/unt-iialab/INFO5731_FALL2020/blob/master/Assignments/Assignment1_denton_housing.csv) contains statistics about housing in the city of Denton from 2008 to 2014. Write a program to implement the following questions.\n",
        "\n",
        "(1) (10 pts) Calculate the difference in the number of Occupied Housing Units from year to year and print it. The difference must be calculated for the consecutive years such as 2008-2009, 2009-2010 etc. Finally, print the values in the ascending order.\n",
        "\n",
        "(2) (10 pts) For all the years, calculate the percentage of housing units which are vacant an occupied. Print the results in the following format:\n",
        "\n",
        "Year Vacant Housing Units Occupied Housing Units\n",
        "\n",
        "    2008  30%   70%                          \n",
        "\t2009 ----- -----\n",
        "\t2010 ----- -----\n",
        "    2011 ----- -----\n",
        "\t2012 ----- -----\n",
        "    2013 ----- -----\n",
        "\t2014 ----- -----\n",
        "  \n",
        "  \n",
        "\n",
        "(3) (10 pts) Calculate and print the valued and years in which the highest number of housing units were vacant and occupied. Print the results in the following format:  \n",
        "\n",
        "                              Year\tValue\n",
        "\tVacant Housing Units\t  -----   -----\n",
        "\tOccupied Housing Units\t-----   -----\n",
        "\n",
        "(4) (10 pts) Calculate the harmonic mean of the total housing units and print it out. You can find the information about harmonic mean here: https://ncalculators.com/statistics/harmonic-mean-calculator.htm"
      ]
    },
    {
      "cell_type": "code",
      "metadata": {
        "id": "lqGYuHBhcsRH",
        "colab_type": "code",
        "colab": {
          "base_uri": "https://localhost:8080/",
          "height": 372
        },
        "outputId": "78bd1cc8-a1ca-4b93-a68d-745e202387a0"
      },
      "source": [
        "# Your code here\n",
        "#1 question in question 4\n",
        "import pandas as pd\n",
        "df=pd.read_csv(r'/content/Assignment1_denton_housing.csv')\n",
        "#print(df)\n",
        "df_occupied=(df[df['title_field']=='Occupied Housing Units'])\n",
        "#print(df_occupied)\n",
        "df_occupied=df_occupied.drop(columns='title_field')\n",
        "df_occupied=df_occupied.set_index('year').diff()\n",
        "print(\"Difference in the number of Occupied Housing Units from year to year\\n\", df_occupied)\n",
        "df_occupied=df_occupied.sort_values(by=['value'])\n",
        "print(\"Difference in ascending order\\n\",df_occupied)\n",
        "\n",
        "\n"
      ],
      "execution_count": null,
      "outputs": [
        {
          "output_type": "stream",
          "text": [
            "Difference in the number of Occupied Housing Units from year to year\n",
            "        value\n",
            "year        \n",
            "2014     NaN\n",
            "2013 -2622.0\n",
            "2012 -1565.0\n",
            "2011 -1404.0\n",
            "2010   303.0\n",
            "2009 -5091.0\n",
            "2008   795.0\n",
            "Difference in ascending order\n",
            "        value\n",
            "year        \n",
            "2009 -5091.0\n",
            "2013 -2622.0\n",
            "2012 -1565.0\n",
            "2011 -1404.0\n",
            "2010   303.0\n",
            "2008   795.0\n",
            "2014     NaN\n"
          ],
          "name": "stdout"
        }
      ]
    },
    {
      "cell_type": "code",
      "metadata": {
        "id": "n4LS2BbBgpBI",
        "colab_type": "code",
        "colab": {
          "base_uri": "https://localhost:8080/",
          "height": 195
        },
        "outputId": "575d31f8-68c0-4f4b-9696-3cd1d7d4f74b"
      },
      "source": [
        "import pandas as pd\n",
        "df=pd.read_csv(r'/content/Assignment1_denton_housing.csv')\n",
        "#print(df)\n",
        "print(df.loc[(df['title_field']=='Vacant Housing Units') & (df['year']==2014),'value'])\n",
        "df_new=pd.DataFrame(columns=['year','Vacant','Occupied'])\n",
        "Vacant_Percentage=[]\n",
        "Occupied_Percentage=[]\n",
        "years=[]\n",
        "for year in df['year'].unique():\n",
        "  Vacant_Percentage.append((df.loc[(df['title_field']=='Vacant Housing Units') & (df['year']==year),'value'].values)*100/(df.loc[(df['title_field']=='Total Housing Units') & (df['year']==year),'value'].values))\n",
        "  Occupied_Percentage.append((df.loc[(df['title_field']=='Occupied Housing Units') & (df['year']==year),'value'].values)*100/(df.loc[(df['title_field']=='Total Housing Units') & (df['year']==year),'value'].values))\n",
        "  years.append(year)\n",
        "df_new['Vacant']=Vacant_Percentage\n",
        "df_new['Occupied']=Occupied_Percentage\n",
        "df_new['year']=years\n",
        "print(df_new)"
      ],
      "execution_count": null,
      "outputs": [
        {
          "output_type": "stream",
          "text": [
            "1    2814\n",
            "Name: value, dtype: int64\n",
            "   year               Vacant             Occupied\n",
            "0  2014  [5.730110570363885]  [94.26988942963611]\n",
            "1  2013  [8.801787504176412]  [91.19821249582358]\n",
            "2  2012  [6.677600230491345]  [93.32239976950865]\n",
            "3  2011  [9.379522229890688]  [90.62047777010932]\n",
            "4  2010  [8.142556337081672]  [91.85744366291833]\n",
            "5  2009   [9.07111572444872]  [90.92888427555128]\n",
            "6  2008  [10.88265281351653]  [89.11734718648347]\n"
          ],
          "name": "stdout"
        }
      ]
    },
    {
      "cell_type": "code",
      "metadata": {
        "id": "3bSrw8Ym02V0",
        "colab_type": "code",
        "colab": {
          "base_uri": "https://localhost:8080/",
          "height": 70
        },
        "outputId": "a773f242-58de-4c0a-cf8d-5e0601b12be4"
      },
      "source": [
        "#3\n",
        "import pandas as pd\n",
        "df=pd.read_csv(r'/content/Assignment1_denton_housing.csv')\n",
        "df = df.sort_values(by = ['year'])\n",
        "maxOccupied = df.loc[df['title_field'] == 'Occupied Housing Units','value'].max()\n",
        "maxVacant = df.loc[df['title_field'] == 'Vacant Housing Units','value'].max()\n",
        "df_occ = df.loc[(df['title_field'] == 'Occupied Housing Units') & (df['value'] == maxOccupied)]\n",
        "df_vac = df.loc[(df['title_field'] == 'Vacant Housing Units') & (df['value'] == maxVacant)]\n",
        "df = pd.concat([df_vac,df_occ])\n",
        "print(df[['title_field','year','value']])"
      ],
      "execution_count": null,
      "outputs": [
        {
          "output_type": "stream",
          "text": [
            "               title_field  year  value\n",
            "19    Vacant Housing Units  2008   4483\n",
            "2   Occupied Housing Units  2014  46295\n"
          ],
          "name": "stdout"
        }
      ]
    },
    {
      "cell_type": "code",
      "metadata": {
        "id": "fFKrhbk4Nvrt",
        "colab_type": "code",
        "colab": {
          "base_uri": "https://localhost:8080/",
          "height": 35
        },
        "outputId": "ff6ef31d-8f7c-4c51-a38d-ed93c3ece47a"
      },
      "source": [
        "#4\n",
        "from scipy import stats\n",
        "df = pd.read_csv(r'/content/Assignment1_denton_housing.csv')\n",
        "total = df.loc[df['title_field'] == 'Total Housing Units','value'].values\n",
        "print (\"harmonic mean of total housing units=  %f\"%stats.hmean(total))"
      ],
      "execution_count": null,
      "outputs": [
        {
          "output_type": "stream",
          "text": [
            "harmonic mean of total housing units=  44398.285440\n"
          ],
          "name": "stdout"
        }
      ]
    }
  ]
}