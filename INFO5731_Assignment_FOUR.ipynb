{
  "nbformat": 4,
  "nbformat_minor": 0,
  "metadata": {
    "colab": {
      "name": "INFO5731_Assignment_FOUR.ipynb",
      "provenance": [],
      "collapsed_sections": [],
      "toc_visible": true,
      "include_colab_link": true
    },
    "kernelspec": {
      "display_name": "Python 3",
      "language": "python",
      "name": "python3"
    },
    "language_info": {
      "codemirror_mode": {
        "name": "ipython",
        "version": 3
      },
      "file_extension": ".py",
      "mimetype": "text/x-python",
      "name": "python",
      "nbconvert_exporter": "python",
      "pygments_lexer": "ipython3",
      "version": "3.7.4"
    }
  },
  "cells": [
    {
      "cell_type": "markdown",
      "metadata": {
        "id": "view-in-github",
        "colab_type": "text"
      },
      "source": [
        "<a href=\"https://colab.research.google.com/github/sundarp17/sundar_info5731_fall2020/blob/master/INFO5731_Assignment_FOUR.ipynb\" target=\"_parent\"><img src=\"https://colab.research.google.com/assets/colab-badge.svg\" alt=\"Open In Colab\"/></a>"
      ]
    },
    {
      "cell_type": "markdown",
      "metadata": {
        "id": "USSdXHuqnwv9"
      },
      "source": [
        "# **INFO5731 Assignment Four**\n",
        "\n",
        "In this assignment, you are required to conduct topic modeling, sentiment analysis, and regression analysis."
      ]
    },
    {
      "cell_type": "markdown",
      "metadata": {
        "id": "YWxodXh5n4xF"
      },
      "source": [
        "# **Question 1: Topic Modeling**"
      ]
    },
    {
      "cell_type": "markdown",
      "metadata": {
        "id": "TenBkDJ5n95k"
      },
      "source": [
        "(30 points). This question is designed to help you understand topic modeling better as well as how to visualize topic modeling results, aims to collect the human meanings of documents. Based on the yelp review data (only the review text will be used for this question), which can be download from Dropbox: https://www.dropbox.com/s/59hsrk56sfwh9u2/Assignment%20four%20data%20Yelp%20%28question%201%20and%202%29.zip?dl=0, **select two models** and write a python program to **identify the top 20 topics (with 15 words for each topic) in the dataset**. Before answering this question, please review the materials in lesson 8, as well as the introduction of these models by the links provided.\n",
        "\n",
        "(1)   Labeled LDA (LLDA): https://github.com/JoeZJH/Labeled-LDA-Python\n",
        "\n",
        "(2)   Biterm Topic Model (BTM): https://github.com/markoarnauto/biterm\n",
        "\n",
        "(3)   HMM-LDA: https://github.com/dongwookim-ml/python-topic-model\n",
        "\n",
        "(4)   SupervisedLDA: https://github.com/dongwookim-ml/python-topic-model/tree/master/notebook\n",
        "\n",
        "(5)   Relational Topic Model: https://github.com/dongwookim-ml/python-topic-model/tree/master/notebook\n",
        "\n",
        "(6)   LDA2VEC: https://github.com/cemoody/lda2vec\n",
        "\n",
        "(7)   BERTopic: https://github.com/MaartenGr/BERTopic\n",
        "\n",
        "(8)   LDA+BERT Topic Modeling: https://www.kaggle.com/dskswu/topic-modeling-bert-lda\n",
        "\n",
        "(9)   Clustering for Topic models: (paper: https://arxiv.org/abs/2004.14914), (code: https://github.com/adalmia96/Cluster-Analysis)\n",
        "\n",
        "\n",
        "**The following information should be reported:**\n",
        "\n",
        "(1) Top 20 clusters for topic modeling.\n",
        "\n",
        "(2) Summarize and describe the topic for each cluster. \n",
        "\n",
        "(3) Visualize the topic modeling reasults by using pyLDAVis: https://www.machinelearningplus.com/nlp/topic-modeling-visualization-how-to-present-results-lda-models/#14.-pyLDAVis\n"
      ]
    },
    {
      "cell_type": "code",
      "metadata": {
        "id": "PuFPKhC0m1fd"
      },
      "source": [
        "# Write your code here\n",
        "import zipfile\n",
        "\n",
        "\n"
      ],
      "execution_count": null,
      "outputs": []
    },
    {
      "cell_type": "code",
      "metadata": {
        "id": "Kapci4UUtG3N"
      },
      "source": [
        "\n",
        "with zipfile.ZipFile('/content/Assignment four data Yelp (question 1 and 2).zip', 'r') as zip_ref:\n",
        "    zip_ref.extractall('/content/Assignment4')"
      ],
      "execution_count": null,
      "outputs": []
    },
    {
      "cell_type": "code",
      "metadata": {
        "id": "OAe8LemZtQbr",
        "colab": {
          "base_uri": "https://localhost:8080/"
        },
        "outputId": "7f6a3a37-22e2-4c67-eb20-6f1e1ef04d9e"
      },
      "source": [
        "import json\n",
        "reviews=[]\n",
        "\n",
        "import glob\n",
        "for files in glob.iglob('/content/Assignment4/Assignment four data Yelp (question 1 and 2)/*'):\n",
        "  f=open(files)\n",
        "  data=json.load(f)\n",
        "  for i in data:\n",
        "    reviews.append(i['text'])\n",
        "\n",
        "print(\"total reviews:\",len(reviews))"
      ],
      "execution_count": null,
      "outputs": [
        {
          "output_type": "stream",
          "text": [
            "total reviews: 500000\n"
          ],
          "name": "stdout"
        }
      ]
    },
    {
      "cell_type": "code",
      "metadata": {
        "id": "DPy3KpXKtXv3",
        "colab": {
          "base_uri": "https://localhost:8080/"
        },
        "outputId": "bb88df20-f2e8-451b-e291-0b4bd1b95c01"
      },
      "source": [
        "ratings=[]\n",
        "for files in glob.iglob('/content/Assignment4/Assignment four data Yelp (question 1 and 2)/*'):\n",
        "  f=open(files)\n",
        "  data=json.load(f)\n",
        "  for i in data:\n",
        "    ratings.append(i['stars'])\n",
        "\n",
        "print(\"total ratings:\",len(ratings))"
      ],
      "execution_count": null,
      "outputs": [
        {
          "output_type": "stream",
          "text": [
            "total ratings: 500000\n"
          ],
          "name": "stdout"
        }
      ]
    },
    {
      "cell_type": "code",
      "metadata": {
        "id": "Cc9rO19BtcDu",
        "colab": {
          "base_uri": "https://localhost:8080/",
          "height": 195
        },
        "outputId": "fc8f0b7d-d764-41cf-bef9-63af815a6511"
      },
      "source": [
        "import pandas as pd\n",
        "\n",
        "df = pd.DataFrame(reviews,columns=['review'])\n",
        "df['ratings']=ratings\n",
        "df.head()"
      ],
      "execution_count": null,
      "outputs": [
        {
          "output_type": "execute_result",
          "data": {
            "text/html": [
              "<div>\n",
              "<style scoped>\n",
              "    .dataframe tbody tr th:only-of-type {\n",
              "        vertical-align: middle;\n",
              "    }\n",
              "\n",
              "    .dataframe tbody tr th {\n",
              "        vertical-align: top;\n",
              "    }\n",
              "\n",
              "    .dataframe thead th {\n",
              "        text-align: right;\n",
              "    }\n",
              "</style>\n",
              "<table border=\"1\" class=\"dataframe\">\n",
              "  <thead>\n",
              "    <tr style=\"text-align: right;\">\n",
              "      <th></th>\n",
              "      <th>review</th>\n",
              "      <th>ratings</th>\n",
              "    </tr>\n",
              "  </thead>\n",
              "  <tbody>\n",
              "    <tr>\n",
              "      <th>0</th>\n",
              "      <td>Awesome service and fantastic food, the wait s...</td>\n",
              "      <td>5.0</td>\n",
              "    </tr>\n",
              "    <tr>\n",
              "      <th>1</th>\n",
              "      <td>Seemed pretty pricey to me for what you got......</td>\n",
              "      <td>2.0</td>\n",
              "    </tr>\n",
              "    <tr>\n",
              "      <th>2</th>\n",
              "      <td>We TRIED to go to the buffet on Tuesday eve fo...</td>\n",
              "      <td>1.0</td>\n",
              "    </tr>\n",
              "    <tr>\n",
              "      <th>3</th>\n",
              "      <td>Came here for lunch on my 20th birthday and th...</td>\n",
              "      <td>5.0</td>\n",
              "    </tr>\n",
              "    <tr>\n",
              "      <th>4</th>\n",
              "      <td>Amazing treats - I love their cinnamon roll, c...</td>\n",
              "      <td>5.0</td>\n",
              "    </tr>\n",
              "  </tbody>\n",
              "</table>\n",
              "</div>"
            ],
            "text/plain": [
              "                                              review  ratings\n",
              "0  Awesome service and fantastic food, the wait s...      5.0\n",
              "1  Seemed pretty pricey to me for what you got......      2.0\n",
              "2  We TRIED to go to the buffet on Tuesday eve fo...      1.0\n",
              "3  Came here for lunch on my 20th birthday and th...      5.0\n",
              "4  Amazing treats - I love their cinnamon roll, c...      5.0"
            ]
          },
          "metadata": {
            "tags": []
          },
          "execution_count": 57
        }
      ]
    },
    {
      "cell_type": "code",
      "metadata": {
        "id": "TgzEdvXLthUM",
        "colab": {
          "base_uri": "https://localhost:8080/",
          "height": 195
        },
        "outputId": "097639c4-2ff4-4994-ce37-f1aa33d371fa"
      },
      "source": [
        "df['ratings']=df['ratings'].astype(int)\n",
        "df.head()"
      ],
      "execution_count": null,
      "outputs": [
        {
          "output_type": "execute_result",
          "data": {
            "text/html": [
              "<div>\n",
              "<style scoped>\n",
              "    .dataframe tbody tr th:only-of-type {\n",
              "        vertical-align: middle;\n",
              "    }\n",
              "\n",
              "    .dataframe tbody tr th {\n",
              "        vertical-align: top;\n",
              "    }\n",
              "\n",
              "    .dataframe thead th {\n",
              "        text-align: right;\n",
              "    }\n",
              "</style>\n",
              "<table border=\"1\" class=\"dataframe\">\n",
              "  <thead>\n",
              "    <tr style=\"text-align: right;\">\n",
              "      <th></th>\n",
              "      <th>review</th>\n",
              "      <th>ratings</th>\n",
              "    </tr>\n",
              "  </thead>\n",
              "  <tbody>\n",
              "    <tr>\n",
              "      <th>0</th>\n",
              "      <td>Awesome service and fantastic food, the wait s...</td>\n",
              "      <td>5</td>\n",
              "    </tr>\n",
              "    <tr>\n",
              "      <th>1</th>\n",
              "      <td>Seemed pretty pricey to me for what you got......</td>\n",
              "      <td>2</td>\n",
              "    </tr>\n",
              "    <tr>\n",
              "      <th>2</th>\n",
              "      <td>We TRIED to go to the buffet on Tuesday eve fo...</td>\n",
              "      <td>1</td>\n",
              "    </tr>\n",
              "    <tr>\n",
              "      <th>3</th>\n",
              "      <td>Came here for lunch on my 20th birthday and th...</td>\n",
              "      <td>5</td>\n",
              "    </tr>\n",
              "    <tr>\n",
              "      <th>4</th>\n",
              "      <td>Amazing treats - I love their cinnamon roll, c...</td>\n",
              "      <td>5</td>\n",
              "    </tr>\n",
              "  </tbody>\n",
              "</table>\n",
              "</div>"
            ],
            "text/plain": [
              "                                              review  ratings\n",
              "0  Awesome service and fantastic food, the wait s...        5\n",
              "1  Seemed pretty pricey to me for what you got......        2\n",
              "2  We TRIED to go to the buffet on Tuesday eve fo...        1\n",
              "3  Came here for lunch on my 20th birthday and th...        5\n",
              "4  Amazing treats - I love their cinnamon roll, c...        5"
            ]
          },
          "metadata": {
            "tags": []
          },
          "execution_count": 40
        }
      ]
    },
    {
      "cell_type": "code",
      "metadata": {
        "id": "udFEDzUstuSW",
        "colab": {
          "base_uri": "https://localhost:8080/",
          "height": 343
        },
        "outputId": "3bc8192a-4658-4261-a197-4c395a0f1f23"
      },
      "source": [
        "import re\n",
        "#removing punctutations\n",
        "df['review']=df['review'].map(lambda x: re.sub('[?|!|\\'|\"|#]', '', x))\n",
        "#lower\n",
        "df['review']=df['review'].map(lambda x: x.lower())\n",
        "\n",
        "df.head(10)"
      ],
      "execution_count": null,
      "outputs": [
        {
          "output_type": "execute_result",
          "data": {
            "text/html": [
              "<div>\n",
              "<style scoped>\n",
              "    .dataframe tbody tr th:only-of-type {\n",
              "        vertical-align: middle;\n",
              "    }\n",
              "\n",
              "    .dataframe tbody tr th {\n",
              "        vertical-align: top;\n",
              "    }\n",
              "\n",
              "    .dataframe thead th {\n",
              "        text-align: right;\n",
              "    }\n",
              "</style>\n",
              "<table border=\"1\" class=\"dataframe\">\n",
              "  <thead>\n",
              "    <tr style=\"text-align: right;\">\n",
              "      <th></th>\n",
              "      <th>review</th>\n",
              "      <th>ratings</th>\n",
              "    </tr>\n",
              "  </thead>\n",
              "  <tbody>\n",
              "    <tr>\n",
              "      <th>0</th>\n",
              "      <td>awesome service and fantastic food, the wait s...</td>\n",
              "      <td>5.0</td>\n",
              "    </tr>\n",
              "    <tr>\n",
              "      <th>1</th>\n",
              "      <td>seemed pretty pricey to me for what you got......</td>\n",
              "      <td>2.0</td>\n",
              "    </tr>\n",
              "    <tr>\n",
              "      <th>2</th>\n",
              "      <td>we tried to go to the buffet on tuesday eve fo...</td>\n",
              "      <td>1.0</td>\n",
              "    </tr>\n",
              "    <tr>\n",
              "      <th>3</th>\n",
              "      <td>came here for lunch on my 20th birthday and th...</td>\n",
              "      <td>5.0</td>\n",
              "    </tr>\n",
              "    <tr>\n",
              "      <th>4</th>\n",
              "      <td>amazing treats - i love their cinnamon roll, c...</td>\n",
              "      <td>5.0</td>\n",
              "    </tr>\n",
              "    <tr>\n",
              "      <th>5</th>\n",
              "      <td>me and my family went to tastebuds tonight..i ...</td>\n",
              "      <td>4.0</td>\n",
              "    </tr>\n",
              "    <tr>\n",
              "      <th>6</th>\n",
              "      <td>stay away from this train wreck of a hospital ...</td>\n",
              "      <td>1.0</td>\n",
              "    </tr>\n",
              "    <tr>\n",
              "      <th>7</th>\n",
              "      <td>i have now had two amazing meals here and cant...</td>\n",
              "      <td>5.0</td>\n",
              "    </tr>\n",
              "    <tr>\n",
              "      <th>8</th>\n",
              "      <td>my classmates and i go here because we go to c...</td>\n",
              "      <td>4.0</td>\n",
              "    </tr>\n",
              "    <tr>\n",
              "      <th>9</th>\n",
              "      <td>really good service. they helped us pick out f...</td>\n",
              "      <td>5.0</td>\n",
              "    </tr>\n",
              "  </tbody>\n",
              "</table>\n",
              "</div>"
            ],
            "text/plain": [
              "                                              review  ratings\n",
              "0  awesome service and fantastic food, the wait s...      5.0\n",
              "1  seemed pretty pricey to me for what you got......      2.0\n",
              "2  we tried to go to the buffet on tuesday eve fo...      1.0\n",
              "3  came here for lunch on my 20th birthday and th...      5.0\n",
              "4  amazing treats - i love their cinnamon roll, c...      5.0\n",
              "5  me and my family went to tastebuds tonight..i ...      4.0\n",
              "6  stay away from this train wreck of a hospital ...      1.0\n",
              "7  i have now had two amazing meals here and cant...      5.0\n",
              "8  my classmates and i go here because we go to c...      4.0\n",
              "9  really good service. they helped us pick out f...      5.0"
            ]
          },
          "metadata": {
            "tags": []
          },
          "execution_count": 58
        }
      ]
    },
    {
      "cell_type": "code",
      "metadata": {
        "id": "pflhMRN0tyoR",
        "colab": {
          "base_uri": "https://localhost:8080/",
          "height": 444
        },
        "outputId": "d31bd1a0-9b90-4638-c27a-2d9d27d2d2db"
      },
      "source": [
        "import nltk\n",
        "nltk.download('stopwords')\n",
        "from nltk.corpus import stopwords\n",
        "words = stopwords.words('english')\n",
        "from textblob import Word\n",
        "from textblob import TextBlob\n",
        "nltk.download('punkt')\n",
        "nltk.download('wordnet')\n",
        "\n",
        "df['review']=df['review'].apply(lambda x:\" \".join(x for x in x.split() if x not in words))\n",
        "df['review']=df['review'].apply(lambda x: \" \".join([Word(word).lemmatize() for word in x.split()]))\n",
        "\n",
        "df.head(10)"
      ],
      "execution_count": null,
      "outputs": [
        {
          "output_type": "stream",
          "text": [
            "[nltk_data] Downloading package stopwords to /root/nltk_data...\n",
            "[nltk_data]   Package stopwords is already up-to-date!\n",
            "[nltk_data] Downloading package punkt to /root/nltk_data...\n",
            "[nltk_data]   Package punkt is already up-to-date!\n",
            "[nltk_data] Downloading package wordnet to /root/nltk_data...\n",
            "[nltk_data]   Package wordnet is already up-to-date!\n"
          ],
          "name": "stdout"
        },
        {
          "output_type": "execute_result",
          "data": {
            "text/html": [
              "<div>\n",
              "<style scoped>\n",
              "    .dataframe tbody tr th:only-of-type {\n",
              "        vertical-align: middle;\n",
              "    }\n",
              "\n",
              "    .dataframe tbody tr th {\n",
              "        vertical-align: top;\n",
              "    }\n",
              "\n",
              "    .dataframe thead th {\n",
              "        text-align: right;\n",
              "    }\n",
              "</style>\n",
              "<table border=\"1\" class=\"dataframe\">\n",
              "  <thead>\n",
              "    <tr style=\"text-align: right;\">\n",
              "      <th></th>\n",
              "      <th>review</th>\n",
              "      <th>ratings</th>\n",
              "    </tr>\n",
              "  </thead>\n",
              "  <tbody>\n",
              "    <tr>\n",
              "      <th>0</th>\n",
              "      <td>awesome service fantastic food, wait staff fri...</td>\n",
              "      <td>5.0</td>\n",
              "    </tr>\n",
              "    <tr>\n",
              "      <th>1</th>\n",
              "      <td>seemed pretty pricey got.....burgers tasted pr...</td>\n",
              "      <td>2.0</td>\n",
              "    </tr>\n",
              "    <tr>\n",
              "      <th>2</th>\n",
              "      <td>tried go buffet tuesday eve dinner, found clos...</td>\n",
              "      <td>1.0</td>\n",
              "    </tr>\n",
              "    <tr>\n",
              "      <th>3</th>\n",
              "      <td>came lunch 20th birthday gave u free dessert s...</td>\n",
              "      <td>5.0</td>\n",
              "    </tr>\n",
              "    <tr>\n",
              "      <th>4</th>\n",
              "      <td>amazing treat - love cinnamon roll, cupcakes, ...</td>\n",
              "      <td>5.0</td>\n",
              "    </tr>\n",
              "    <tr>\n",
              "      <th>5</th>\n",
              "      <td>family went tastebud tonight..i love place beg...</td>\n",
              "      <td>4.0</td>\n",
              "    </tr>\n",
              "    <tr>\n",
              "      <th>6</th>\n",
              "      <td>stay away train wreck hospital , er unprofessi...</td>\n",
              "      <td>1.0</td>\n",
              "    </tr>\n",
              "    <tr>\n",
              "      <th>7</th>\n",
              "      <td>two amazing meal cant wait return. steaks, lob...</td>\n",
              "      <td>5.0</td>\n",
              "    </tr>\n",
              "    <tr>\n",
              "      <th>8</th>\n",
              "      <td>classmate go go cpcc walking distance class al...</td>\n",
              "      <td>4.0</td>\n",
              "    </tr>\n",
              "    <tr>\n",
              "      <th>9</th>\n",
              "      <td>really good service. helped u pick frame whole...</td>\n",
              "      <td>5.0</td>\n",
              "    </tr>\n",
              "  </tbody>\n",
              "</table>\n",
              "</div>"
            ],
            "text/plain": [
              "                                              review  ratings\n",
              "0  awesome service fantastic food, wait staff fri...      5.0\n",
              "1  seemed pretty pricey got.....burgers tasted pr...      2.0\n",
              "2  tried go buffet tuesday eve dinner, found clos...      1.0\n",
              "3  came lunch 20th birthday gave u free dessert s...      5.0\n",
              "4  amazing treat - love cinnamon roll, cupcakes, ...      5.0\n",
              "5  family went tastebud tonight..i love place beg...      4.0\n",
              "6  stay away train wreck hospital , er unprofessi...      1.0\n",
              "7  two amazing meal cant wait return. steaks, lob...      5.0\n",
              "8  classmate go go cpcc walking distance class al...      4.0\n",
              "9  really good service. helped u pick frame whole...      5.0"
            ]
          },
          "metadata": {
            "tags": []
          },
          "execution_count": 59
        }
      ]
    },
    {
      "cell_type": "markdown",
      "metadata": {
        "id": "U4yj8zHxt-Ei"
      },
      "source": [
        "Supervised LDA"
      ]
    },
    {
      "cell_type": "code",
      "metadata": {
        "id": "aFtlnn_rt5FM",
        "colab": {
          "base_uri": "https://localhost:8080/"
        },
        "outputId": "470cb71b-0bf0-4054-d849-8e9c4e70cfea"
      },
      "source": [
        "!pip install tomotopy"
      ],
      "execution_count": null,
      "outputs": [
        {
          "output_type": "stream",
          "text": [
            "Collecting tomotopy\n",
            "\u001b[?25l  Downloading https://files.pythonhosted.org/packages/70/39/29b0348bfcb689054abb7d627367fed37a4c282ff23feff13b3aef9a1de0/tomotopy-0.9.1-cp36-cp36m-manylinux2010_x86_64.whl (13.5MB)\n",
            "\u001b[K     |████████████████████████████████| 13.5MB 330kB/s \n",
            "\u001b[?25hRequirement already satisfied: numpy>=1.10.0 in /usr/local/lib/python3.6/dist-packages (from tomotopy) (1.18.5)\n",
            "Collecting py-cpuinfo\n",
            "\u001b[?25l  Downloading https://files.pythonhosted.org/packages/f6/f5/8e6e85ce2e9f6e05040cf0d4e26f43a4718bcc4bce988b433276d4b1a5c1/py-cpuinfo-7.0.0.tar.gz (95kB)\n",
            "\u001b[K     |████████████████████████████████| 102kB 12.0MB/s \n",
            "\u001b[?25hBuilding wheels for collected packages: py-cpuinfo\n",
            "  Building wheel for py-cpuinfo (setup.py) ... \u001b[?25l\u001b[?25hdone\n",
            "  Created wheel for py-cpuinfo: filename=py_cpuinfo-7.0.0-cp36-none-any.whl size=20071 sha256=5371b37b91370b2ec707ecf271d3d8fd3737b92841949aead31604b60cdf286d\n",
            "  Stored in directory: /root/.cache/pip/wheels/f1/93/7b/127daf0c3a5a49feb2fecd468d508067c733fba5192f726ad1\n",
            "Successfully built py-cpuinfo\n",
            "Installing collected packages: py-cpuinfo, tomotopy\n",
            "Successfully installed py-cpuinfo-7.0.0 tomotopy-0.9.1\n"
          ],
          "name": "stdout"
        }
      ]
    },
    {
      "cell_type": "code",
      "metadata": {
        "id": "nExjbB0VvArx",
        "colab": {
          "base_uri": "https://localhost:8080/"
        },
        "outputId": "be308b1e-8602-4f3c-d57c-594f393b5c92"
      },
      "source": [
        "import os\n",
        "import logging\n",
        "import nltk\n",
        "import numpy as np\n",
        "import matplotlib.pyplot as plt\n",
        "\n",
        "import tomotopy as tp\n",
        "mdl = tp.SLDAModel(k=20) #supervisedLDA\n",
        "for i in df['review']:\n",
        "    mdl.add_doc(i.split())\n",
        "for i in range(0, 100, 10):\n",
        "    mdl.train(10)\n",
        "    print('Iteration: {}\\tLog-likelihood: {}'.format(i, mdl.ll_per_word))\n",
        "for k in range(mdl.k):\n",
        "    print('Top 15 words of topic #{}'.format(k))\n",
        "    print(mdl.get_topic_words(k, top_n=15))"
      ],
      "execution_count": null,
      "outputs": [
        {
          "output_type": "stream",
          "text": [
            "Iteration: 0\tLog-likelihood: -10.298571166761924\n",
            "Iteration: 10\tLog-likelihood: -9.754011437161427\n",
            "Iteration: 20\tLog-likelihood: -9.510082878945768\n",
            "Iteration: 30\tLog-likelihood: -9.388092668917666\n",
            "Iteration: 40\tLog-likelihood: -9.31768354270489\n",
            "Iteration: 50\tLog-likelihood: -9.274736236229648\n",
            "Iteration: 60\tLog-likelihood: -9.247037363464484\n",
            "Iteration: 70\tLog-likelihood: -9.228078411644322\n",
            "Iteration: 80\tLog-likelihood: -9.213215817637758\n",
            "Iteration: 90\tLog-likelihood: -9.201066733854097\n",
            "Top 15 words of topic #0\n",
            "[('sushi', 0.02402769774198532), ('roll', 0.013485962525010109), ('good', 0.010328955948352814), ('place', 0.00963932741433382), ('fish', 0.009361735545098782), ('like', 0.008694353513419628), ('really', 0.006655452772974968), ('meat', 0.00658871466293931), ('-', 0.00627146614715457), ('korean', 0.0061080059967935085), ('also', 0.005646641831845045), ('food', 0.0056002154015004635), ('eat', 0.005419345106929541), ('ordered', 0.0051939827390015125), ('one', 0.005089522805064917)]\n",
            "Top 15 words of topic #1\n",
            "[('pizza', 0.03476297855377197), ('good', 0.009924340061843395), ('ordered', 0.009631337597966194), ('like', 0.00949824508279562), ('salad', 0.008575537241995335), ('cheese', 0.00808488205075264), ('sauce', 0.007471067830920219), ('pasta', 0.007264476269483566), ('italian', 0.006115312222391367), ('would', 0.0060050636529922485), ('really', 0.0060050636529922485), ('pizza.', 0.005327682476490736), ('one', 0.005323709920048714), ('order', 0.0052770278416574), ('bread', 0.005187637638300657)]\n",
            "Top 15 words of topic #2\n",
            "[('u', 0.016940465196967125), ('food', 0.016456685960292816), ('time', 0.011146396398544312), ('came', 0.011118373833596706), ('minute', 0.01105999294668436), ('table', 0.009986180812120438), ('order', 0.009351001121103764), ('got', 0.008474905043840408), ('would', 0.00828847661614418), ('service', 0.008081420324742794), ('didnt', 0.007726856507360935), ('took', 0.007724910043179989), ('get', 0.0077093420550227165), ('ordered', 0.007577402051538229), ('one', 0.007428726647049189)]\n",
            "Top 15 words of topic #3\n",
            "[('dont', 0.010990925133228302), ('customer', 0.010340987704694271), ('get', 0.009814330376684666), ('like', 0.009206997230648994), ('one', 0.008778691291809082), ('go', 0.008751044049859047), ('time', 0.008418823592364788), ('said', 0.008149602450430393), ('never', 0.008013632148504257), ('even', 0.007771605160087347), ('service', 0.007343752775341272), ('didnt', 0.00703827291727066), ('would', 0.006586398929357529), ('asked', 0.006544701289385557), ('back', 0.00643184594810009)]\n",
            "Top 15 words of topic #4\n",
            "[('great', 0.04751891642808914), ('place', 0.03467113524675369), ('love', 0.022120686247944832), ('always', 0.020458845421671867), ('service', 0.019547512754797935), ('food', 0.017304714769124985), ('good', 0.01686587929725647), ('friendly', 0.015528177842497826), ('time', 0.014859951101243496), ('staff', 0.013967319391667843), ('best', 0.0137678487226367), ('&', 0.013154476881027222), ('back', 0.011682133190333843), ('definitely', 0.011438405141234398), ('go', 0.011259504593908787)]\n",
            "Top 15 words of topic #5\n",
            "[('-', 0.010548751801252365), ('steak', 0.00724433921277523), ('ordered', 0.006612904369831085), ('dish', 0.005495526362210512), ('egg', 0.005387862212955952), ('potato', 0.005081747192889452), ('restaurant', 0.004740132484585047), ('cheese', 0.004729656968265772), ('also', 0.004397353623062372), ('cooked', 0.004385131876915693), ('side', 0.004329263232648373), ('meal', 0.004317624028772116), ('bread', 0.004294927231967449), ('one', 0.003928287420421839), ('chicken', 0.0038252791855484247)]\n",
            "Top 15 words of topic #6\n",
            "[('food', 0.015661174431443214), ('chicken', 0.014548993669450283), ('like', 0.009552459232509136), ('good', 0.00935698114335537), ('noodle', 0.00921194814145565), ('ordered', 0.008714580908417702), ('dish', 0.008710639551281929), ('soup', 0.008658616803586483), ('rice', 0.008500972762703896), ('fried', 0.008108438923954964), ('place', 0.0072098663076758385), ('chinese', 0.006980494130402803), ('thai', 0.006863049231469631), ('restaurant', 0.0062017315067350864), ('really', 0.006078768987208605)]\n",
            "Top 15 words of topic #7\n",
            "[('place', 0.019952522590756416), ('good', 0.01656627655029297), ('beer', 0.012236532755196095), ('food', 0.011731857433915138), ('bar', 0.011659232899546623), ('great', 0.01079451572149992), ('-', 0.00939373392611742), ('pretty', 0.008456392213702202), ('nice', 0.008017570711672306), ('drink', 0.007515357807278633), ('like', 0.00722486199811101), ('really', 0.006739881355315447), ('get', 0.006653717253357172), ('lot', 0.005225855857133865), ('little', 0.00519816018640995)]\n",
            "Top 15 words of topic #8\n",
            "[('de', 0.045992691069841385), ('le', 0.036741357296705246), ('et', 0.02430638298392296), ('la', 0.02251400053501129), ('un', 0.01611626334488392), ('à', 0.013734881766140461), ('pour', 0.012384247034788132), ('que', 0.011043768376111984), ('est', 0.00990639254450798), ('en', 0.009449411183595657), ('pa', 0.00870300829410553), ('je', 0.008190173655748367), ('*', 0.00818001851439476), ('une', 0.008149553090333939), ('du', 0.007194969337433577)]\n",
            "Top 15 words of topic #9\n",
            "[('-', 0.010754985734820366), ('one', 0.006918337196111679), ('get', 0.003616641042754054), ('take', 0.0035092090256512165), ('see', 0.003456964623183012), ('lot', 0.0032796282321214676), ('park', 0.0031832335516810417), ('around', 0.0031824978068470955), ('area', 0.0030787449795752764), ('parking', 0.002991180634126067), ('way', 0.002880069427192211), ('day', 0.002847692696377635), ('many', 0.00272627966478467), ('also', 0.0025629240553826094), ('two', 0.0025356982368975878)]\n",
            "Top 15 words of topic #10\n",
            "[('room', 0.029799403622746468), ('hotel', 0.01813366636633873), ('stay', 0.0095363175496459), ('pool', 0.006991904228925705), ('nice', 0.006380741950124502), ('one', 0.006045399233698845), ('get', 0.005757843144237995), ('stayed', 0.005550768692046404), ('vega', 0.005443458911031485), ('would', 0.005336149595677853), ('like', 0.005171831697225571), ('casino', 0.004849064163863659), ('bathroom', 0.004766067024320364), ('night', 0.004720795433968306), ('bed', 0.004560669418424368)]\n",
            "Top 15 words of topic #11\n",
            "[('great', 0.01244199089705944), ('recommend', 0.008539383299648762), ('work', 0.007342998404055834), ('u', 0.007135413121432066), ('staff', 0.006639975588768721), ('made', 0.0062773930840194225), ('time', 0.0061832875944674015), ('experience', 0.006150765810161829), ('thank', 0.005996460560709238), ('highly', 0.005776419769972563), ('would', 0.005715528037399054), ('best', 0.0056068915873765945), ('make', 0.005178573541343212), ('care', 0.004950921516865492), ('amazing', 0.004589030519127846)]\n",
            "Top 15 words of topic #12\n",
            "[('burger', 0.015749065205454826), ('chicken', 0.013547215610742569), ('sandwich', 0.013320505619049072), ('fry', 0.01270825881510973), ('good', 0.009985768236219883), ('food', 0.008319716900587082), ('cheese', 0.008095643483102322), ('salad', 0.007661995943635702), ('ordered', 0.007646837737411261), ('got', 0.00760400015860796), ('like', 0.0073786089196801186), ('really', 0.005842388607561588), ('place', 0.005684219300746918), ('also', 0.0055893175303936005), ('get', 0.005233436357229948)]\n",
            "Top 15 words of topic #13\n",
            "[('great', 0.025707174092531204), ('food', 0.024419033899903297), ('service', 0.015475546941161156), ('restaurant', 0.011499792337417603), ('place', 0.010022533126175404), ('definitely', 0.009469453245401382), ('good', 0.008929932489991188), ('back', 0.008499599993228912), ('dinner', 0.0070837149396538734), ('menu', 0.0069267116487026215), ('nice', 0.006837505381554365), ('time', 0.006332239601761103), ('would', 0.0062216236256062984), ('wine', 0.0061952187679708), ('drink', 0.0060667614452540874)]\n",
            "Top 15 words of topic #14\n",
            "[('food', 0.029403958469629288), ('place', 0.01675036922097206), ('taco', 0.015725277364253998), ('restaurant', 0.012017861939966679), ('good', 0.011369535699486732), ('best', 0.011052116751670837), ('ive', 0.009438945911824703), ('mexican', 0.009232129901647568), ('great', 0.0077871098183095455), ('one', 0.007153171580284834), ('chicken', 0.006840248592197895), ('love', 0.006654113531112671), ('food.', 0.006261161528527737), ('service', 0.0061991168186068535), ('try', 0.006025570444762707)]\n",
            "Top 15 words of topic #15\n",
            "[('like', 0.013394186273217201), ('get', 0.008784476667642593), ('dont', 0.006945549976080656), ('place', 0.006894744001328945), ('one', 0.006793132051825523), ('really', 0.006489535328000784), ('show', 0.006321008317172527), ('im', 0.00617230823263526), ('go', 0.006153720431029797), ('people', 0.005984574090689421), ('see', 0.004967215936630964), ('night', 0.004880474414676428), ('would', 0.004688403103500605), ('know', 0.004514919128268957), ('time', 0.004164854064583778)]\n",
            "Top 15 words of topic #16\n",
            "[('car', 0.013051187619566917), ('would', 0.011245868168771267), ('called', 0.008198702707886696), ('told', 0.007908686995506287), ('get', 0.007856003008782864), ('call', 0.00726543553173542), ('service', 0.007018069736659527), ('back', 0.006543408613651991), ('day', 0.005970402620732784), ('time', 0.00575514929369092), ('said', 0.005734075792133808), ('company', 0.004953342955559492), ('got', 0.00468941917642951), ('new', 0.004614155739545822), ('could', 0.004541400820016861)]\n",
            "Top 15 words of topic #17\n",
            "[('nail', 0.013383300974965096), ('hair', 0.01285190973430872), ('time', 0.008624105714261532), ('get', 0.008425374515354633), ('salon', 0.006717144511640072), ('back', 0.0065840804018080235), ('appointment', 0.006247100420296192), ('massage', 0.006139957811683416), ('cut', 0.005754590965807438), ('got', 0.005464269779622555), ('would', 0.00539255328476429), ('go', 0.005314788781106472), ('dr.', 0.005184317007660866), ('like', 0.004963983781635761), ('done', 0.004962255712598562)]\n",
            "Top 15 words of topic #18\n",
            "[('always', 0.013503286987543106), ('ive', 0.012139498256146908), ('get', 0.0117226867005229), ('place', 0.011595753952860832), ('like', 0.011555016972124577), ('store', 0.010641101747751236), ('one', 0.009799213148653507), ('dont', 0.009606747888028622), ('go', 0.00850213784724474), ('love', 0.008000310510396957), ('time', 0.007966658100485802), ('im', 0.007411106489598751), ('find', 0.006998427212238312), ('location', 0.006814227439463139), ('good', 0.006529661826789379)]\n",
            "Top 15 words of topic #19\n",
            "[('coffee', 0.015957433730363846), ('ice', 0.014060928486287594), ('tea', 0.012582280673086643), ('cream', 0.012430332601070404), ('chocolate', 0.009020042605698109), ('place', 0.008805415593087673), ('like', 0.008580341935157776), ('cake', 0.008376161567866802), ('also', 0.006995330564677715), ('try', 0.00603520730510354), ('sweet', 0.006013364531099796), ('drink', 0.005810133647173643), ('one', 0.005661034490913153), ('good', 0.0055641671642661095), ('flavor', 0.0055299787782132626)]\n"
          ],
          "name": "stdout"
        }
      ]
    },
    {
      "cell_type": "markdown",
      "metadata": {
        "id": "TzObQcnMxcSo"
      },
      "source": [
        "Topic 1: The ordered sushi roll at this korean place was good.\n",
        "----------------------------------------------------------------------\n",
        "Topic 2: The pizza and the italian pasta was good with cheese and sauce.\n",
        "----------------------------------------------------------------------\n",
        "Topic 3: The server didn't took much time to bring the food to the table.\n",
        "------------------------------------------------------------------------\n",
        "Topic 4: The customer didnt liked the service.\n",
        "------------------------------------------------------------------------\n",
        "Topic 5: It was a great place to have food and I love the service provided by the friendly staff.\n",
        "-----------------------------------------------------------------------\n",
        "Topic 6: It is about what the customer ordered to eat.\n",
        "------------------------------------------------------------------------\n",
        "Topic 7: Different types of food items available like chicken, thai, chinese.\n",
        "------------------------------------------------------------------------\n",
        "Topic 8: The bar was a good place to have beer and food.\n",
        "------------------------------------------------------------------------\n",
        "Topic 9: Customer ordered food in spanish.\n",
        "-----------------------------------------------------------------------\n",
        "Topic 10: About the car parking.\n",
        "------------------------------------------------------------------------\n",
        "Topic 11: The room in the casino hotel was nice and the hotel contains a pool.\n",
        "----------------------------------------------------------------------\n",
        "Topic 12: Token of appriciation about the staff and the restaurant.\n",
        "----------------------------------------------------------------------\n",
        "Topic 13: Chicken burger sandwich was good.\n",
        "----------------------------------------------------------------------\n",
        "Topic 14: Love the food at the restaurant and definitely a good place to come back.\n",
        "----------------------------------------------------------------------\n",
        "Topic 15: Mexican food was great at this restaurant.\n",
        "-----------------------------------------------------------------------\n",
        "Topic 16: One of the night places to look\n",
        "----------------------------------------------------------------------\n",
        "Topic 17: Regarding car service.\n",
        "-------------------------------------------------\n",
        "Topic 18: It is about a salon shop and how great the services provided there like the massage, haircut.\n",
        "------------------------------------------------------------------------\n",
        "Topic 19: like to spend time at this store.\n",
        "-----------------------------------------------------------------------\n",
        "Topic 20: Customer ordered Iced coffee tea and a choclate cake.\n",
        "-------------------------------------------------------------------------"
      ]
    },
    {
      "cell_type": "code",
      "metadata": {
        "id": "_zECL-nH2fXo",
        "colab": {
          "base_uri": "https://localhost:8080/"
        },
        "outputId": "02dc8d24-a598-45ac-ea0f-af53510188e1"
      },
      "source": [
        "!pip install pyLDAvis\n",
        "import numpy as np\n",
        "import pyLDAvis\n",
        "\n",
        "\n",
        "topic_term_dists = np.stack([mdl.get_topic_word_dist(k) for k in range(mdl.k)])\n",
        "doc_topic_dists = np.stack([doc.get_topic_dist() for doc in mdl.docs])\n",
        "doc_lengths = np.array([len(doc.words) for doc in mdl.docs])\n",
        "vocab = list(mdl.used_vocabs)\n",
        "term_frequency = mdl.used_vocab_freq\n",
        "\n",
        "prepared_data = pyLDAvis.prepare(\n",
        "    topic_term_dists, \n",
        "    doc_topic_dists, \n",
        "    doc_lengths, \n",
        "    vocab, \n",
        "    term_frequency\n",
        ")\n",
        "pyLDAvis.save_html(prepared_data, 'ldavis.html')"
      ],
      "execution_count": null,
      "outputs": [
        {
          "output_type": "stream",
          "text": [
            "Collecting pyLDAvis\n",
            "\u001b[?25l  Downloading https://files.pythonhosted.org/packages/a5/3a/af82e070a8a96e13217c8f362f9a73e82d61ac8fff3a2561946a97f96266/pyLDAvis-2.1.2.tar.gz (1.6MB)\n",
            "\u001b[K     |████████████████████████████████| 1.6MB 5.6MB/s \n",
            "\u001b[?25hRequirement already satisfied: wheel>=0.23.0 in /usr/local/lib/python3.6/dist-packages (from pyLDAvis) (0.35.1)\n",
            "Requirement already satisfied: numpy>=1.9.2 in /usr/local/lib/python3.6/dist-packages (from pyLDAvis) (1.18.5)\n",
            "Requirement already satisfied: scipy>=0.18.0 in /usr/local/lib/python3.6/dist-packages (from pyLDAvis) (1.4.1)\n",
            "Requirement already satisfied: pandas>=0.17.0 in /usr/local/lib/python3.6/dist-packages (from pyLDAvis) (1.1.4)\n",
            "Requirement already satisfied: joblib>=0.8.4 in /usr/local/lib/python3.6/dist-packages (from pyLDAvis) (0.17.0)\n",
            "Requirement already satisfied: jinja2>=2.7.2 in /usr/local/lib/python3.6/dist-packages (from pyLDAvis) (2.11.2)\n",
            "Requirement already satisfied: numexpr in /usr/local/lib/python3.6/dist-packages (from pyLDAvis) (2.7.1)\n",
            "Requirement already satisfied: pytest in /usr/local/lib/python3.6/dist-packages (from pyLDAvis) (3.6.4)\n",
            "Requirement already satisfied: future in /usr/local/lib/python3.6/dist-packages (from pyLDAvis) (0.16.0)\n",
            "Collecting funcy\n",
            "  Downloading https://files.pythonhosted.org/packages/66/89/479de0afbbfb98d1c4b887936808764627300208bb771fcd823403645a36/funcy-1.15-py2.py3-none-any.whl\n",
            "Requirement already satisfied: pytz>=2017.2 in /usr/local/lib/python3.6/dist-packages (from pandas>=0.17.0->pyLDAvis) (2018.9)\n",
            "Requirement already satisfied: python-dateutil>=2.7.3 in /usr/local/lib/python3.6/dist-packages (from pandas>=0.17.0->pyLDAvis) (2.8.1)\n",
            "Requirement already satisfied: MarkupSafe>=0.23 in /usr/local/lib/python3.6/dist-packages (from jinja2>=2.7.2->pyLDAvis) (1.1.1)\n",
            "Requirement already satisfied: setuptools in /usr/local/lib/python3.6/dist-packages (from pytest->pyLDAvis) (50.3.2)\n",
            "Requirement already satisfied: six>=1.10.0 in /usr/local/lib/python3.6/dist-packages (from pytest->pyLDAvis) (1.15.0)\n",
            "Requirement already satisfied: more-itertools>=4.0.0 in /usr/local/lib/python3.6/dist-packages (from pytest->pyLDAvis) (8.6.0)\n",
            "Requirement already satisfied: atomicwrites>=1.0 in /usr/local/lib/python3.6/dist-packages (from pytest->pyLDAvis) (1.4.0)\n",
            "Requirement already satisfied: attrs>=17.4.0 in /usr/local/lib/python3.6/dist-packages (from pytest->pyLDAvis) (20.3.0)\n",
            "Requirement already satisfied: pluggy<0.8,>=0.5 in /usr/local/lib/python3.6/dist-packages (from pytest->pyLDAvis) (0.7.1)\n",
            "Requirement already satisfied: py>=1.5.0 in /usr/local/lib/python3.6/dist-packages (from pytest->pyLDAvis) (1.9.0)\n",
            "Building wheels for collected packages: pyLDAvis\n",
            "  Building wheel for pyLDAvis (setup.py) ... \u001b[?25l\u001b[?25hdone\n",
            "  Created wheel for pyLDAvis: filename=pyLDAvis-2.1.2-py2.py3-none-any.whl size=97712 sha256=7a8ed8bcf8634a4695b44e4ae62319b08e6344b7072cc2a71fc1ca1ea9bd8521\n",
            "  Stored in directory: /root/.cache/pip/wheels/98/71/24/513a99e58bb6b8465bae4d2d5e9dba8f0bef8179e3051ac414\n",
            "Successfully built pyLDAvis\n",
            "Installing collected packages: funcy, pyLDAvis\n",
            "Successfully installed funcy-1.15 pyLDAvis-2.1.2\n"
          ],
          "name": "stdout"
        }
      ]
    },
    {
      "cell_type": "markdown",
      "metadata": {
        "id": "KqzChkwq3ThY"
      },
      "source": [
        "BIterm\n",
        "**bold text**"
      ]
    },
    {
      "cell_type": "code",
      "metadata": {
        "id": "-DrYlLSz3S6V",
        "colab": {
          "base_uri": "https://localhost:8080/"
        },
        "outputId": "8060e4b3-7b4f-415c-95eb-b77dcac6cae3"
      },
      "source": [
        "!pip install biterm"
      ],
      "execution_count": null,
      "outputs": [
        {
          "output_type": "stream",
          "text": [
            "Collecting biterm\n",
            "\u001b[?25l  Downloading https://files.pythonhosted.org/packages/36/ca/5a43511e6ea8ca02cc9e8be1b8898ad79b140c055d4400342dc210ba23bb/biterm-0.1.5.tar.gz (79kB)\n",
            "\u001b[K     |████████████████████████████████| 81kB 3.6MB/s \n",
            "\u001b[?25hRequirement already satisfied: numpy in /usr/local/lib/python3.6/dist-packages (from biterm) (1.18.5)\n",
            "Requirement already satisfied: tqdm in /usr/local/lib/python3.6/dist-packages (from biterm) (4.41.1)\n",
            "Requirement already satisfied: cython in /usr/local/lib/python3.6/dist-packages (from biterm) (0.29.21)\n",
            "Requirement already satisfied: nltk in /usr/local/lib/python3.6/dist-packages (from biterm) (3.2.5)\n",
            "Requirement already satisfied: six in /usr/local/lib/python3.6/dist-packages (from nltk->biterm) (1.15.0)\n",
            "Building wheels for collected packages: biterm\n",
            "  Building wheel for biterm (setup.py) ... \u001b[?25l\u001b[?25hdone\n",
            "  Created wheel for biterm: filename=biterm-0.1.5-cp36-cp36m-linux_x86_64.whl size=195423 sha256=14efc292d399b11955a6f3b7ace77fe074d2b7ac541e4f9c8ea6e34d06cfd6f4\n",
            "  Stored in directory: /root/.cache/pip/wheels/86/04/10/231fb1d39d86ab58c2683fd3d4fe8415a5bc284ba8a20fd638\n",
            "Successfully built biterm\n",
            "Installing collected packages: biterm\n",
            "Successfully installed biterm-0.1.5\n"
          ],
          "name": "stdout"
        }
      ]
    },
    {
      "cell_type": "code",
      "metadata": {
        "id": "pqm071yuWRG9",
        "colab": {
          "base_uri": "https://localhost:8080/"
        },
        "outputId": "71f30e4d-a441-46d7-b8a0-1ee72010a6c1"
      },
      "source": [
        "from sklearn.feature_extraction.text import TfidfVectorizer\n",
        "from biterm.btm import oBTM\n",
        "from biterm.utility import vec_to_biterms, topic_summuary\n",
        "\n",
        "reviews_biterm = df['review'].head(100).values\n",
        "XTf_vec = TfidfVectorizer(stop_words='english')\n",
        "X_TFIDF_trans = XTf_vec.fit_transform(reviews_biterm).toarray()\n",
        "\n",
        "\n",
        "vocab = np.array(XTf_vec.get_feature_names())\n",
        "words = vec_to_biterms(X_TFIDF_trans)\n",
        "\n",
        "bi_term_model = oBTM(num_topics=20, V=vocab)\n",
        "model_btm = bi_term_model.fit_transform(words, iterations=10)\n",
        "\n",
        "\n",
        "topic_summuary(bi_term_model.phi_wz.T, X_TFIDF_trans, vocab, 15)"
      ],
      "execution_count": null,
      "outputs": [
        {
          "output_type": "stream",
          "text": [
            "\n",
            "\n",
            "\n",
            "\n",
            "  0%|          | 0/10 [00:00<?, ?it/s]\u001b[A\u001b[A\u001b[A\u001b[A\n",
            "\n",
            "\n",
            "\n",
            " 10%|█         | 1/10 [00:27<04:09, 27.72s/it]\u001b[A\u001b[A\u001b[A\u001b[A\n",
            "\n",
            "\n",
            "\n",
            " 20%|██        | 2/10 [00:55<03:41, 27.75s/it]\u001b[A\u001b[A\u001b[A\u001b[A\n",
            "\n",
            "\n",
            "\n",
            " 30%|███       | 3/10 [01:23<03:14, 27.74s/it]\u001b[A\u001b[A\u001b[A\u001b[A\n",
            "\n",
            "\n",
            "\n",
            " 40%|████      | 4/10 [01:50<02:46, 27.70s/it]\u001b[A\u001b[A\u001b[A\u001b[A\n",
            "\n",
            "\n",
            "\n",
            " 50%|█████     | 5/10 [02:18<02:18, 27.69s/it]\u001b[A\u001b[A\u001b[A\u001b[A\n",
            "\n",
            "\n",
            "\n",
            " 60%|██████    | 6/10 [02:46<01:50, 27.75s/it]\u001b[A\u001b[A\u001b[A\u001b[A\n",
            "\n",
            "\n",
            "\n",
            " 70%|███████   | 7/10 [03:14<01:23, 27.76s/it]\u001b[A\u001b[A\u001b[A\u001b[A\n",
            "\n",
            "\n",
            "\n",
            " 80%|████████  | 8/10 [03:41<00:55, 27.73s/it]\u001b[A\u001b[A\u001b[A\u001b[A\n",
            "\n",
            "\n",
            "\n",
            " 90%|█████████ | 9/10 [04:09<00:27, 27.74s/it]\u001b[A\u001b[A\u001b[A\u001b[A\n",
            "\n",
            "\n",
            "\n",
            "100%|██████████| 10/10 [04:37<00:00, 27.73s/it]\n"
          ],
          "name": "stderr"
        },
        {
          "output_type": "stream",
          "text": [
            "Topic 0 | Coherence=-107.10 | Top words= seat went good place like cheese lack girlfriend served saturday know got 24 going offer\n",
            "Topic 1 | Coherence=-99.24 | Top words= sweet sandwich food huge order coffee love crispy sauce good cooked friendly definitely regular awesome\n",
            "Topic 2 | Coherence=-123.68 | Top words= worth butter need want meal recommend service place highly food got pricey problem fry steak\n",
            "Topic 3 | Coherence=-143.43 | Top words= food good like come bit great night dont seated excellent way thing place choice server\n",
            "Topic 4 | Coherence=-129.35 | Top words= make care good super im come ive instead great service got serve money better thought\n",
            "Topic 5 | Coherence=-110.67 | Top words= place attentive sandwich spot enjoy best 15 minute line service 20 expect dont date happy\n",
            "Topic 6 | Coherence=-76.61 | Top words= asked feel week better business like wont used famous didnt scarborough hell usually dont issue\n",
            "Topic 7 | Coherence=-112.52 | Top words= food great indian asked bring business staff considered close game restaurant bad dont cold issue\n",
            "Topic 8 | Coherence=-130.39 | Top words= know guy good come place charge food small didnt ok people manager phone looking decided\n",
            "Topic 9 | Coherence=-127.48 | Top words= place like awesome really fantastic price great sit deal game dont love selection pay im\n",
            "Topic 10 | Coherence=-138.99 | Top words= like food place good dont bar night got area game price say believe small far\n",
            "Topic 11 | Coherence=-121.52 | Top words= come food thought bread little ordered flavor bland great banana meat cheese better really loved\n",
            "Topic 12 | Coherence=-135.30 | Top words= time staff day sale friendly good extremely walked money took people price gave said looking\n",
            "Topic 13 | Coherence=-118.11 | Top words= pretty great definitely im thats food counter better deal larger bit say good youll want\n",
            "Topic 14 | Coherence=-139.24 | Top words= really fabulous thing place food people bar lot charge cool eaten think ask cup organic\n",
            "Topic 15 | Coherence=-45.61 | Top words= basic door hope way soul patio oh hot place loud really waiting especially area think\n",
            "Topic 16 | Coherence=-146.96 | Top words= time dont really food make hot delicious definitely page didnt giving buffet ate straight mix\n",
            "Topic 17 | Coherence=33.84 | Top words= putting maximize decrepit rudely clock avoid old clean candle overall bottle assume theyve canada saying\n",
            "Topic 18 | Coherence=-141.50 | Top words= food great amazing little time want really went wait special menu left eat got waiting\n",
            "Topic 19 | Coherence=-87.42 | Top words= low went work mind told said thank know started sat store wrong minutes door minute\n"
          ],
          "name": "stdout"
        },
        {
          "output_type": "execute_result",
          "data": {
            "text/plain": [
              "{'coherence': [-107.10077944838329,\n",
              "  -99.24408114452598,\n",
              "  -123.67598997843237,\n",
              "  -143.4342332500792,\n",
              "  -129.3519813170975,\n",
              "  -110.6685753783218,\n",
              "  -76.60874984557817,\n",
              "  -112.51953924432667,\n",
              "  -130.39201429208472,\n",
              "  -127.47673455625197,\n",
              "  -138.9880600709542,\n",
              "  -121.51716481397806,\n",
              "  -135.3000847124247,\n",
              "  -118.10937556264159,\n",
              "  -139.24072308878283,\n",
              "  -45.61371736378968,\n",
              "  -146.9638030664805,\n",
              "  33.8406173504967,\n",
              "  -141.50159891117258,\n",
              "  -87.41627182495634],\n",
              " 'top_words': [array(['seat', 'went', 'good', 'place', 'like', 'cheese', 'lack',\n",
              "         'girlfriend', 'served', 'saturday', 'know', 'got', '24', 'going',\n",
              "         'offer'], dtype='<U14'),\n",
              "  array(['sweet', 'sandwich', 'food', 'huge', 'order', 'coffee', 'love',\n",
              "         'crispy', 'sauce', 'good', 'cooked', 'friendly', 'definitely',\n",
              "         'regular', 'awesome'], dtype='<U14'),\n",
              "  array(['worth', 'butter', 'need', 'want', 'meal', 'recommend', 'service',\n",
              "         'place', 'highly', 'food', 'got', 'pricey', 'problem', 'fry',\n",
              "         'steak'], dtype='<U14'),\n",
              "  array(['food', 'good', 'like', 'come', 'bit', 'great', 'night', 'dont',\n",
              "         'seated', 'excellent', 'way', 'thing', 'place', 'choice', 'server'],\n",
              "        dtype='<U14'),\n",
              "  array(['make', 'care', 'good', 'super', 'im', 'come', 'ive', 'instead',\n",
              "         'great', 'service', 'got', 'serve', 'money', 'better', 'thought'],\n",
              "        dtype='<U14'),\n",
              "  array(['place', 'attentive', 'sandwich', 'spot', 'enjoy', 'best', '15',\n",
              "         'minute', 'line', 'service', '20', 'expect', 'dont', 'date',\n",
              "         'happy'], dtype='<U14'),\n",
              "  array(['asked', 'feel', 'week', 'better', 'business', 'like', 'wont',\n",
              "         'used', 'famous', 'didnt', 'scarborough', 'hell', 'usually',\n",
              "         'dont', 'issue'], dtype='<U14'),\n",
              "  array(['food', 'great', 'indian', 'asked', 'bring', 'business', 'staff',\n",
              "         'considered', 'close', 'game', 'restaurant', 'bad', 'dont', 'cold',\n",
              "         'issue'], dtype='<U14'),\n",
              "  array(['know', 'guy', 'good', 'come', 'place', 'charge', 'food', 'small',\n",
              "         'didnt', 'ok', 'people', 'manager', 'phone', 'looking', 'decided'],\n",
              "        dtype='<U14'),\n",
              "  array(['place', 'like', 'awesome', 'really', 'fantastic', 'price',\n",
              "         'great', 'sit', 'deal', 'game', 'dont', 'love', 'selection', 'pay',\n",
              "         'im'], dtype='<U14'),\n",
              "  array(['like', 'food', 'place', 'good', 'dont', 'bar', 'night', 'got',\n",
              "         'area', 'game', 'price', 'say', 'believe', 'small', 'far'],\n",
              "        dtype='<U14'),\n",
              "  array(['come', 'food', 'thought', 'bread', 'little', 'ordered', 'flavor',\n",
              "         'bland', 'great', 'banana', 'meat', 'cheese', 'better', 'really',\n",
              "         'loved'], dtype='<U14'),\n",
              "  array(['time', 'staff', 'day', 'sale', 'friendly', 'good', 'extremely',\n",
              "         'walked', 'money', 'took', 'people', 'price', 'gave', 'said',\n",
              "         'looking'], dtype='<U14'),\n",
              "  array(['pretty', 'great', 'definitely', 'im', 'thats', 'food', 'counter',\n",
              "         'better', 'deal', 'larger', 'bit', 'say', 'good', 'youll', 'want'],\n",
              "        dtype='<U14'),\n",
              "  array(['really', 'fabulous', 'thing', 'place', 'food', 'people', 'bar',\n",
              "         'lot', 'charge', 'cool', 'eaten', 'think', 'ask', 'cup', 'organic'],\n",
              "        dtype='<U14'),\n",
              "  array(['basic', 'door', 'hope', 'way', 'soul', 'patio', 'oh', 'hot',\n",
              "         'place', 'loud', 'really', 'waiting', 'especially', 'area',\n",
              "         'think'], dtype='<U14'),\n",
              "  array(['time', 'dont', 'really', 'food', 'make', 'hot', 'delicious',\n",
              "         'definitely', 'page', 'didnt', 'giving', 'buffet', 'ate',\n",
              "         'straight', 'mix'], dtype='<U14'),\n",
              "  array(['putting', 'maximize', 'decrepit', 'rudely', 'clock', 'avoid',\n",
              "         'old', 'clean', 'candle', 'overall', 'bottle', 'assume', 'theyve',\n",
              "         'canada', 'saying'], dtype='<U14'),\n",
              "  array(['food', 'great', 'amazing', 'little', 'time', 'want', 'really',\n",
              "         'went', 'wait', 'special', 'menu', 'left', 'eat', 'got', 'waiting'],\n",
              "        dtype='<U14'),\n",
              "  array(['low', 'went', 'work', 'mind', 'told', 'said', 'thank', 'know',\n",
              "         'started', 'sat', 'store', 'wrong', 'minutes', 'door', 'minute'],\n",
              "        dtype='<U14')]}"
            ]
          },
          "metadata": {
            "tags": []
          },
          "execution_count": 53
        }
      ]
    },
    {
      "cell_type": "code",
      "metadata": {
        "id": "nEM7Pg6He9tG"
      },
      "source": [
        "'''\n",
        "Topic 1: went to a good place with girlfriend on saturday\n",
        "Topic 2: About how good is the food\n",
        "Topic 3: About the service of the food\n",
        "Topic 4: About how good is the food at night\n",
        "Topic 5: About car service\n",
        "Topic 6: Waiting for sandwich(it took 15mins)\n",
        "Topic 7: About business of last week\n",
        "Topic 8: Giving advice to business staff on how to improve \n",
        "Topic 9: review of a restaurant( food and service was good)\n",
        "Topic 10: Explained how great is the place with fantastic prices\n",
        "Topic 11: About how good is the place and food at the bar\n",
        "Topic 12: About the type of food ordered\n",
        "Topic 13: About the friendly staff\n",
        "Topic 14: About the deal on the food\n",
        "Topic 15: The place was fabulous with great food and people\n",
        "Topic 16: About the place(explained in temperature perspective)\n",
        "Topic 17: No time to eat buffet\n",
        "Topic 18: Explaining an issue\n",
        "Topic 19: About how good is food and it served in a little time\n",
        "Topic 20: About how he came late( came in the wrong time)\n",
        "\n",
        "'''"
      ],
      "execution_count": null,
      "outputs": []
    },
    {
      "cell_type": "code",
      "metadata": {
        "id": "3R1-XoK2cvu5"
      },
      "source": [
        "import pyLDAvis\n",
        "prepared_biterm=pyLDAvis.prepare(bi_term_model.phi_wz.T, model_btm, np.count_nonzero(X_TFIDF_trans, axis=1), vocab, np.sum(X_TFIDF_trans, axis=0))\n",
        "pyLDAvis.save_html(prepared_biterm, 'biterm.html')"
      ],
      "execution_count": null,
      "outputs": []
    },
    {
      "cell_type": "markdown",
      "metadata": {
        "id": "AfpMRCrRwN6Z"
      },
      "source": [
        "# **Question 2: Yelp Review Sentiment Analysis**"
      ]
    },
    {
      "cell_type": "markdown",
      "metadata": {
        "id": "1dCQEbDawWCw"
      },
      "source": [
        "(30 points). Sentiment analysis also known as opinion mining is a sub field within Natural Language Processing (NLP) that builds machine learning algorithms to classify a text according to the sentimental polarities of opinions it contains, e.g., positive, negative, neutral. The purpose of this question is to develop a machine learning classifier for sentiment analysis. Based on the dataset from assignment three, write a python program to implement a sentiment classifier and evaluate its performance. Notice: **80% data for training and 20% data for testing**.\n",
        "\n",
        "The data can be download from Dropbox: https://www.dropbox.com/s/59hsrk56sfwh9u2/Assignment%20four%20data%20Yelp%20%28question%201%20and%202%29.zip?dl=0 \n",
        "\n",
        "The data was saved in json format, here is an example of the data (for this task, you only need to use the star rating and the review text fields):\n",
        "\n",
        "{\n",
        "    // string, 22 character unique review id\n",
        "    \"review_id\": \"zdSx_SD6obEhz9VrW9uAWA\",\n",
        "\n",
        "    // string, 22 character unique user id, maps to the user in user.json\n",
        "    \"user_id\": \"Ha3iJu77CxlrFm-vQRs_8g\",\n",
        "\n",
        "    // string, 22 character business id, maps to business in business.json\n",
        "    \"business_id\": \"tnhfDv5Il8EaGSXZGiuQGg\",\n",
        "\n",
        "    // integer, star rating\n",
        "    \"stars\": 4,\n",
        "\n",
        "    // string, date formatted YYYY-MM-DD\n",
        "    \"date\": \"2016-03-09\",\n",
        "\n",
        "    // string, the review itself\n",
        "    \"text\": \"Great place to hang out after work: the prices are decent, and the ambience is fun. It's a bit loud, but very lively. The staff is friendly, and the food is good. They have a good selection of drinks.\",\n",
        "\n",
        "    // integer, number of useful votes received\n",
        "    \"useful\": 0,\n",
        "\n",
        "    // integer, number of funny votes received\n",
        "    \"funny\": 0,\n",
        "\n",
        "    // integer, number of cool votes received\n",
        "    \"cool\": 0\n",
        "}\n",
        "\n",
        "The sentiment of can be accessed based on the star rating, if no star information avaliable for a record, just remove that record. Detail star and sentiment level can be matched blew:\n",
        "\n",
        "Very positive = 5 stars\n",
        "\n",
        "Positive = 4 stars\n",
        "\n",
        "Neutral = 3 stars\n",
        "\n",
        "Negative = 2 stars\n",
        "\n",
        "Very negative = 1 star\n",
        "\n",
        "Here is code for yelp data preprocessing: https://github.com/Yelp/dataset-examples. \n",
        "\n",
        "Answer the following questions:\n",
        "\n",
        "(1) Features used for sentiment classification and explain why you select these features (tf-idf, sentiment lexicon, word2vec, etc). Considering achieve the best performance as you can. \n",
        "\n",
        "(2) Select two of the supervised learning algorithm from scikit-learn library: https://scikit-learn.org/stable/supervised_learning.html#supervised-learning, to build a sentiment classifier respectively. \n",
        "\n",
        "(3) Compare the performance over accuracy, precision, recall, and F1 score for the two algorithms you selected. Here is the reference of how to calculate these metrics: https://towardsdatascience.com/accuracy-precision-recall-or-f1-331fb37c5cb9. "
      ]
    },
    {
      "cell_type": "code",
      "metadata": {
        "id": "uDTpYjDA4ech",
        "colab": {
          "base_uri": "https://localhost:8080/",
          "height": 343
        },
        "outputId": "081ec7d0-d8b8-4fa8-cf6d-198a6a830ed2"
      },
      "source": [
        "df.loc[df['ratings']==5,'ratings'] = 'very positive'\n",
        "df.loc[df['ratings']==4,'ratings'] = 'positive'\n",
        "df.loc[df['ratings']==3,'ratings'] = 'neutral'\n",
        "df.loc[df['ratings']==2,'ratings'] = 'negative'\n",
        "df.loc[df['ratings']==1,'ratings'] = 'very negative'\n",
        "df.head(10)"
      ],
      "execution_count": null,
      "outputs": [
        {
          "output_type": "execute_result",
          "data": {
            "text/html": [
              "<div>\n",
              "<style scoped>\n",
              "    .dataframe tbody tr th:only-of-type {\n",
              "        vertical-align: middle;\n",
              "    }\n",
              "\n",
              "    .dataframe tbody tr th {\n",
              "        vertical-align: top;\n",
              "    }\n",
              "\n",
              "    .dataframe thead th {\n",
              "        text-align: right;\n",
              "    }\n",
              "</style>\n",
              "<table border=\"1\" class=\"dataframe\">\n",
              "  <thead>\n",
              "    <tr style=\"text-align: right;\">\n",
              "      <th></th>\n",
              "      <th>review</th>\n",
              "      <th>ratings</th>\n",
              "    </tr>\n",
              "  </thead>\n",
              "  <tbody>\n",
              "    <tr>\n",
              "      <th>0</th>\n",
              "      <td>awesome service fantastic food, wait staff fri...</td>\n",
              "      <td>very positive</td>\n",
              "    </tr>\n",
              "    <tr>\n",
              "      <th>1</th>\n",
              "      <td>seemed pretty pricey got.....burgers tasted pr...</td>\n",
              "      <td>negative</td>\n",
              "    </tr>\n",
              "    <tr>\n",
              "      <th>2</th>\n",
              "      <td>tried go buffet tuesday eve dinner, found clos...</td>\n",
              "      <td>very negative</td>\n",
              "    </tr>\n",
              "    <tr>\n",
              "      <th>3</th>\n",
              "      <td>came lunch 20th birthday gave u free dessert s...</td>\n",
              "      <td>very positive</td>\n",
              "    </tr>\n",
              "    <tr>\n",
              "      <th>4</th>\n",
              "      <td>amazing treat - love cinnamon roll, cupcakes, ...</td>\n",
              "      <td>very positive</td>\n",
              "    </tr>\n",
              "    <tr>\n",
              "      <th>5</th>\n",
              "      <td>family went tastebud tonight..i love place beg...</td>\n",
              "      <td>positive</td>\n",
              "    </tr>\n",
              "    <tr>\n",
              "      <th>6</th>\n",
              "      <td>stay away train wreck hospital , er unprofessi...</td>\n",
              "      <td>very negative</td>\n",
              "    </tr>\n",
              "    <tr>\n",
              "      <th>7</th>\n",
              "      <td>two amazing meal cant wait return. steaks, lob...</td>\n",
              "      <td>very positive</td>\n",
              "    </tr>\n",
              "    <tr>\n",
              "      <th>8</th>\n",
              "      <td>classmate go go cpcc walking distance class al...</td>\n",
              "      <td>positive</td>\n",
              "    </tr>\n",
              "    <tr>\n",
              "      <th>9</th>\n",
              "      <td>really good service. helped u pick frame whole...</td>\n",
              "      <td>very positive</td>\n",
              "    </tr>\n",
              "  </tbody>\n",
              "</table>\n",
              "</div>"
            ],
            "text/plain": [
              "                                              review        ratings\n",
              "0  awesome service fantastic food, wait staff fri...  very positive\n",
              "1  seemed pretty pricey got.....burgers tasted pr...       negative\n",
              "2  tried go buffet tuesday eve dinner, found clos...  very negative\n",
              "3  came lunch 20th birthday gave u free dessert s...  very positive\n",
              "4  amazing treat - love cinnamon roll, cupcakes, ...  very positive\n",
              "5  family went tastebud tonight..i love place beg...       positive\n",
              "6  stay away train wreck hospital , er unprofessi...  very negative\n",
              "7  two amazing meal cant wait return. steaks, lob...  very positive\n",
              "8  classmate go go cpcc walking distance class al...       positive\n",
              "9  really good service. helped u pick frame whole...  very positive"
            ]
          },
          "metadata": {
            "tags": []
          },
          "execution_count": 9
        }
      ]
    },
    {
      "cell_type": "code",
      "metadata": {
        "id": "TSXLMlRx6kQT",
        "colab": {
          "base_uri": "https://localhost:8080/"
        },
        "outputId": "e1ad7001-0ccd-4399-f69c-cf534cc3f1d1"
      },
      "source": [
        "from sklearn.model_selection import train_test_split\n",
        "from sklearn.svm import LinearSVC\n",
        "from sklearn.ensemble import RandomForestClassifier\n",
        "from sklearn.metrics import classification_report\n",
        "from sklearn.feature_extraction.text import TfidfVectorizer\n",
        "\n",
        "tfidf_vect = TfidfVectorizer()\n",
        "X_tfidf = tfidf_vect.fit_transform(df['review'])\n",
        "print(X_tfidf.shape)\n"
      ],
      "execution_count": null,
      "outputs": [
        {
          "output_type": "stream",
          "text": [
            "(500000, 169280)\n"
          ],
          "name": "stdout"
        }
      ]
    },
    {
      "cell_type": "code",
      "metadata": {
        "id": "c2tLnHbG8Auw"
      },
      "source": [
        "from sklearn.naive_bayes import MultinomialNB\n",
        "from sklearn.svm import LinearSVC\n",
        "mnb = MultinomialNB()\n",
        "svm = LinearSVC()"
      ],
      "execution_count": null,
      "outputs": []
    },
    {
      "cell_type": "code",
      "metadata": {
        "id": "mZ9AXYii8Eg4"
      },
      "source": [
        "x_train, x_test, y_train, y_test = train_test_split(X_tfidf, df['ratings'], test_size=0.2, random_state=42)\n",
        "model_mnb = mnb.fit(x_train,y_train)"
      ],
      "execution_count": null,
      "outputs": []
    },
    {
      "cell_type": "code",
      "metadata": {
        "id": "ZYAd7hsw-Pr8",
        "colab": {
          "base_uri": "https://localhost:8080/"
        },
        "outputId": "a1c68f47-65af-48d1-dfc7-67befbfab136"
      },
      "source": [
        "from sklearn.metrics import classification_report\n",
        "from sklearn.metrics import accuracy_score\n",
        "y_pred_mnb = model_mnb.predict(x_test)\n",
        "print('Accuracy %s' % accuracy_score(y_pred_mnb,y_test))\n",
        "print(classification_report(y_test,y_pred_mnb))"
      ],
      "execution_count": null,
      "outputs": [
        {
          "output_type": "stream",
          "text": [
            "Accuracy 0.55819\n",
            "               precision    recall  f1-score   support\n",
            "\n",
            "     negative       0.06      0.00      0.00      8121\n",
            "      neutral       0.24      0.00      0.01     11293\n",
            "     positive       0.33      0.19      0.24     22512\n",
            "very negative       0.75      0.64      0.69     14147\n",
            "very positive       0.57      0.97      0.71     43927\n",
            "\n",
            "     accuracy                           0.56    100000\n",
            "    macro avg       0.39      0.36      0.33    100000\n",
            " weighted avg       0.46      0.56      0.47    100000\n",
            "\n"
          ],
          "name": "stdout"
        }
      ]
    },
    {
      "cell_type": "code",
      "metadata": {
        "id": "OZOXNYGd-vX-",
        "colab": {
          "base_uri": "https://localhost:8080/"
        },
        "outputId": "c90626f2-f181-4de3-c949-83b33980e59c"
      },
      "source": [
        "from sklearn.model_selection import cross_val_score\n",
        "scores = cross_val_score(mnb, x_test, y_test, cv=10)\n",
        "print(\"using MNB\",scores.mean())"
      ],
      "execution_count": null,
      "outputs": [
        {
          "output_type": "stream",
          "text": [
            "using MNB 0.46617\n"
          ],
          "name": "stdout"
        }
      ]
    },
    {
      "cell_type": "code",
      "metadata": {
        "id": "jCE001oU-1UW",
        "colab": {
          "base_uri": "https://localhost:8080/"
        },
        "outputId": "779f0753-40ea-491f-cb6f-cd52663c42aa"
      },
      "source": [
        "model_svm = svm.fit(x_train,y_train)\n",
        "y_pred_svm = model_svm.predict(x_test)\n",
        "print('Accuracy %s' % accuracy_score(y_pred_svm,y_test))\n",
        "print(classification_report(y_test,y_pred_svm))"
      ],
      "execution_count": null,
      "outputs": [
        {
          "output_type": "stream",
          "text": [
            "Accuracy 0.65581\n",
            "               precision    recall  f1-score   support\n",
            "\n",
            "     negative       0.44      0.23      0.30      8121\n",
            "      neutral       0.46      0.31      0.37     11293\n",
            "     positive       0.50      0.44      0.47     22512\n",
            "very negative       0.71      0.84      0.77     14147\n",
            "very positive       0.74      0.88      0.80     43927\n",
            "\n",
            "     accuracy                           0.66    100000\n",
            "    macro avg       0.57      0.54      0.54    100000\n",
            " weighted avg       0.63      0.66      0.63    100000\n",
            "\n"
          ],
          "name": "stdout"
        }
      ]
    },
    {
      "cell_type": "code",
      "metadata": {
        "id": "bK3xrbgB-7ki",
        "colab": {
          "base_uri": "https://localhost:8080/"
        },
        "outputId": "be4e4340-671b-4880-b05b-6a6ac2b3143f"
      },
      "source": [
        "scores = cross_val_score(svm, x_test, y_test, cv=10)\n",
        "print(\"using svm\",scores.mean())"
      ],
      "execution_count": null,
      "outputs": [
        {
          "output_type": "stream",
          "text": [
            "using svm 0.6369900000000001\n"
          ],
          "name": "stdout"
        }
      ]
    },
    {
      "cell_type": "markdown",
      "metadata": {
        "id": "RAQVlkcsATuT"
      },
      "source": [
        "I selected linear svm and multinomial naivee bayes algorithms.\n",
        "\n",
        "I performed tf-idf as is it balances out the term frequency (how often the word appears in the document) with its inverse document frequency (how often the term appears across all documents in the data set).\n",
        "---------------------------------------------------------------\n",
        "This means that words like “a” and “the” will have very low scores as they’ll appear in all documents in your set. Rarer words like for example 'Natural language processing' will be very common in just a handful of documents which talk about text classification. TF-IDF will give higher scores to these words and thus they’ll be the ones that the model identifies as important and tries to learn.\n",
        "-----------------------------------------------------------------------\n",
        "\n",
        "Using MNB i got \n",
        "\n",
        "accuracy: 55.8\n",
        "                  precision    recall  f1-score   support\n",
        "\n",
        "     negative       0.06      0.00      0.00      8121\n",
        "      neutral       0.24      0.00      0.01     11293\n",
        "     positive       0.33      0.19      0.24     22512\n",
        "very negative       0.75      0.64      0.69     14147\n",
        "very positive       0.57      0.97      0.71     43927\n",
        "\n",
        "\n",
        "using SVM i got\n",
        "\n",
        "accuracy: 65.5\n",
        "\n",
        "                 precision    recall  f1-score   support\n",
        "\n",
        "     negative       0.44      0.23      0.30      8121\n",
        "      neutral       0.46      0.31      0.37     11293\n",
        "     positive       0.50      0.44      0.47     22512\n",
        "very negative       0.71      0.84      0.77     14147\n",
        "very positive       0.74      0.88      0.80     43927\n",
        "\n",
        "As you can see svm algorithm is better for this dataset as it has more accuracy, precision, recall, f1 score.\n"
      ]
    },
    {
      "cell_type": "markdown",
      "metadata": {
        "id": "E5mmYIfN8eYV"
      },
      "source": [
        "# **Question 3: House price prediction**"
      ]
    },
    {
      "cell_type": "markdown",
      "metadata": {
        "id": "hsi2y4z88ngX"
      },
      "source": [
        "(40 points). You are required to build a **regression** model to predict the house price with 79 explanatory variables describing (almost) every aspect of residential homes. The purpose of this question is to practice regression analysis, an supervised learning model. The training data, testing data, and data description files can be download from Dropbox: https://www.dropbox.com/s/52j9hpxppfo921o/assignment4-question3-data.zip?dl=0. Here is an axample for the implementation: https://towardsdatascience.com/linear-regression-in-python-predict-the-bay-areas-home-price-5c91c8378878. \n"
      ]
    },
    {
      "cell_type": "code",
      "metadata": {
        "colab": {
          "base_uri": "https://localhost:8080/",
          "height": 244
        },
        "id": "XfvMKJjIXS5G",
        "outputId": "1deb67af-9819-4778-e732-9c65a495b8fb"
      },
      "source": [
        "# Write your code here\n",
        "import pandas as pd\n",
        "train = pd.read_csv(r'/content/train.csv')\n",
        "test = pd.read_csv(r'/content/test.csv')\n",
        "\n",
        "train.head()"
      ],
      "execution_count": null,
      "outputs": [
        {
          "output_type": "execute_result",
          "data": {
            "text/html": [
              "<div>\n",
              "<style scoped>\n",
              "    .dataframe tbody tr th:only-of-type {\n",
              "        vertical-align: middle;\n",
              "    }\n",
              "\n",
              "    .dataframe tbody tr th {\n",
              "        vertical-align: top;\n",
              "    }\n",
              "\n",
              "    .dataframe thead th {\n",
              "        text-align: right;\n",
              "    }\n",
              "</style>\n",
              "<table border=\"1\" class=\"dataframe\">\n",
              "  <thead>\n",
              "    <tr style=\"text-align: right;\">\n",
              "      <th></th>\n",
              "      <th>Id</th>\n",
              "      <th>MSSubClass</th>\n",
              "      <th>MSZoning</th>\n",
              "      <th>LotFrontage</th>\n",
              "      <th>LotArea</th>\n",
              "      <th>Street</th>\n",
              "      <th>Alley</th>\n",
              "      <th>LotShape</th>\n",
              "      <th>LandContour</th>\n",
              "      <th>Utilities</th>\n",
              "      <th>LotConfig</th>\n",
              "      <th>LandSlope</th>\n",
              "      <th>Neighborhood</th>\n",
              "      <th>Condition1</th>\n",
              "      <th>Condition2</th>\n",
              "      <th>BldgType</th>\n",
              "      <th>HouseStyle</th>\n",
              "      <th>OverallQual</th>\n",
              "      <th>OverallCond</th>\n",
              "      <th>YearBuilt</th>\n",
              "      <th>YearRemodAdd</th>\n",
              "      <th>RoofStyle</th>\n",
              "      <th>RoofMatl</th>\n",
              "      <th>Exterior1st</th>\n",
              "      <th>Exterior2nd</th>\n",
              "      <th>MasVnrType</th>\n",
              "      <th>MasVnrArea</th>\n",
              "      <th>ExterQual</th>\n",
              "      <th>ExterCond</th>\n",
              "      <th>Foundation</th>\n",
              "      <th>BsmtQual</th>\n",
              "      <th>BsmtCond</th>\n",
              "      <th>BsmtExposure</th>\n",
              "      <th>BsmtFinType1</th>\n",
              "      <th>BsmtFinSF1</th>\n",
              "      <th>BsmtFinType2</th>\n",
              "      <th>BsmtFinSF2</th>\n",
              "      <th>BsmtUnfSF</th>\n",
              "      <th>TotalBsmtSF</th>\n",
              "      <th>Heating</th>\n",
              "      <th>...</th>\n",
              "      <th>CentralAir</th>\n",
              "      <th>Electrical</th>\n",
              "      <th>1stFlrSF</th>\n",
              "      <th>2ndFlrSF</th>\n",
              "      <th>LowQualFinSF</th>\n",
              "      <th>GrLivArea</th>\n",
              "      <th>BsmtFullBath</th>\n",
              "      <th>BsmtHalfBath</th>\n",
              "      <th>FullBath</th>\n",
              "      <th>HalfBath</th>\n",
              "      <th>BedroomAbvGr</th>\n",
              "      <th>KitchenAbvGr</th>\n",
              "      <th>KitchenQual</th>\n",
              "      <th>TotRmsAbvGrd</th>\n",
              "      <th>Functional</th>\n",
              "      <th>Fireplaces</th>\n",
              "      <th>FireplaceQu</th>\n",
              "      <th>GarageType</th>\n",
              "      <th>GarageYrBlt</th>\n",
              "      <th>GarageFinish</th>\n",
              "      <th>GarageCars</th>\n",
              "      <th>GarageArea</th>\n",
              "      <th>GarageQual</th>\n",
              "      <th>GarageCond</th>\n",
              "      <th>PavedDrive</th>\n",
              "      <th>WoodDeckSF</th>\n",
              "      <th>OpenPorchSF</th>\n",
              "      <th>EnclosedPorch</th>\n",
              "      <th>3SsnPorch</th>\n",
              "      <th>ScreenPorch</th>\n",
              "      <th>PoolArea</th>\n",
              "      <th>PoolQC</th>\n",
              "      <th>Fence</th>\n",
              "      <th>MiscFeature</th>\n",
              "      <th>MiscVal</th>\n",
              "      <th>MoSold</th>\n",
              "      <th>YrSold</th>\n",
              "      <th>SaleType</th>\n",
              "      <th>SaleCondition</th>\n",
              "      <th>SalePrice</th>\n",
              "    </tr>\n",
              "  </thead>\n",
              "  <tbody>\n",
              "    <tr>\n",
              "      <th>0</th>\n",
              "      <td>1</td>\n",
              "      <td>60</td>\n",
              "      <td>RL</td>\n",
              "      <td>65.0</td>\n",
              "      <td>8450</td>\n",
              "      <td>Pave</td>\n",
              "      <td>NaN</td>\n",
              "      <td>Reg</td>\n",
              "      <td>Lvl</td>\n",
              "      <td>AllPub</td>\n",
              "      <td>Inside</td>\n",
              "      <td>Gtl</td>\n",
              "      <td>CollgCr</td>\n",
              "      <td>Norm</td>\n",
              "      <td>Norm</td>\n",
              "      <td>1Fam</td>\n",
              "      <td>2Story</td>\n",
              "      <td>7</td>\n",
              "      <td>5</td>\n",
              "      <td>2003</td>\n",
              "      <td>2003</td>\n",
              "      <td>Gable</td>\n",
              "      <td>CompShg</td>\n",
              "      <td>VinylSd</td>\n",
              "      <td>VinylSd</td>\n",
              "      <td>BrkFace</td>\n",
              "      <td>196.0</td>\n",
              "      <td>Gd</td>\n",
              "      <td>TA</td>\n",
              "      <td>PConc</td>\n",
              "      <td>Gd</td>\n",
              "      <td>TA</td>\n",
              "      <td>No</td>\n",
              "      <td>GLQ</td>\n",
              "      <td>706</td>\n",
              "      <td>Unf</td>\n",
              "      <td>0</td>\n",
              "      <td>150</td>\n",
              "      <td>856</td>\n",
              "      <td>GasA</td>\n",
              "      <td>...</td>\n",
              "      <td>Y</td>\n",
              "      <td>SBrkr</td>\n",
              "      <td>856</td>\n",
              "      <td>854</td>\n",
              "      <td>0</td>\n",
              "      <td>1710</td>\n",
              "      <td>1</td>\n",
              "      <td>0</td>\n",
              "      <td>2</td>\n",
              "      <td>1</td>\n",
              "      <td>3</td>\n",
              "      <td>1</td>\n",
              "      <td>Gd</td>\n",
              "      <td>8</td>\n",
              "      <td>Typ</td>\n",
              "      <td>0</td>\n",
              "      <td>NaN</td>\n",
              "      <td>Attchd</td>\n",
              "      <td>2003.0</td>\n",
              "      <td>RFn</td>\n",
              "      <td>2</td>\n",
              "      <td>548</td>\n",
              "      <td>TA</td>\n",
              "      <td>TA</td>\n",
              "      <td>Y</td>\n",
              "      <td>0</td>\n",
              "      <td>61</td>\n",
              "      <td>0</td>\n",
              "      <td>0</td>\n",
              "      <td>0</td>\n",
              "      <td>0</td>\n",
              "      <td>NaN</td>\n",
              "      <td>NaN</td>\n",
              "      <td>NaN</td>\n",
              "      <td>0</td>\n",
              "      <td>2</td>\n",
              "      <td>2008</td>\n",
              "      <td>WD</td>\n",
              "      <td>Normal</td>\n",
              "      <td>208500</td>\n",
              "    </tr>\n",
              "    <tr>\n",
              "      <th>1</th>\n",
              "      <td>2</td>\n",
              "      <td>20</td>\n",
              "      <td>RL</td>\n",
              "      <td>80.0</td>\n",
              "      <td>9600</td>\n",
              "      <td>Pave</td>\n",
              "      <td>NaN</td>\n",
              "      <td>Reg</td>\n",
              "      <td>Lvl</td>\n",
              "      <td>AllPub</td>\n",
              "      <td>FR2</td>\n",
              "      <td>Gtl</td>\n",
              "      <td>Veenker</td>\n",
              "      <td>Feedr</td>\n",
              "      <td>Norm</td>\n",
              "      <td>1Fam</td>\n",
              "      <td>1Story</td>\n",
              "      <td>6</td>\n",
              "      <td>8</td>\n",
              "      <td>1976</td>\n",
              "      <td>1976</td>\n",
              "      <td>Gable</td>\n",
              "      <td>CompShg</td>\n",
              "      <td>MetalSd</td>\n",
              "      <td>MetalSd</td>\n",
              "      <td>None</td>\n",
              "      <td>0.0</td>\n",
              "      <td>TA</td>\n",
              "      <td>TA</td>\n",
              "      <td>CBlock</td>\n",
              "      <td>Gd</td>\n",
              "      <td>TA</td>\n",
              "      <td>Gd</td>\n",
              "      <td>ALQ</td>\n",
              "      <td>978</td>\n",
              "      <td>Unf</td>\n",
              "      <td>0</td>\n",
              "      <td>284</td>\n",
              "      <td>1262</td>\n",
              "      <td>GasA</td>\n",
              "      <td>...</td>\n",
              "      <td>Y</td>\n",
              "      <td>SBrkr</td>\n",
              "      <td>1262</td>\n",
              "      <td>0</td>\n",
              "      <td>0</td>\n",
              "      <td>1262</td>\n",
              "      <td>0</td>\n",
              "      <td>1</td>\n",
              "      <td>2</td>\n",
              "      <td>0</td>\n",
              "      <td>3</td>\n",
              "      <td>1</td>\n",
              "      <td>TA</td>\n",
              "      <td>6</td>\n",
              "      <td>Typ</td>\n",
              "      <td>1</td>\n",
              "      <td>TA</td>\n",
              "      <td>Attchd</td>\n",
              "      <td>1976.0</td>\n",
              "      <td>RFn</td>\n",
              "      <td>2</td>\n",
              "      <td>460</td>\n",
              "      <td>TA</td>\n",
              "      <td>TA</td>\n",
              "      <td>Y</td>\n",
              "      <td>298</td>\n",
              "      <td>0</td>\n",
              "      <td>0</td>\n",
              "      <td>0</td>\n",
              "      <td>0</td>\n",
              "      <td>0</td>\n",
              "      <td>NaN</td>\n",
              "      <td>NaN</td>\n",
              "      <td>NaN</td>\n",
              "      <td>0</td>\n",
              "      <td>5</td>\n",
              "      <td>2007</td>\n",
              "      <td>WD</td>\n",
              "      <td>Normal</td>\n",
              "      <td>181500</td>\n",
              "    </tr>\n",
              "    <tr>\n",
              "      <th>2</th>\n",
              "      <td>3</td>\n",
              "      <td>60</td>\n",
              "      <td>RL</td>\n",
              "      <td>68.0</td>\n",
              "      <td>11250</td>\n",
              "      <td>Pave</td>\n",
              "      <td>NaN</td>\n",
              "      <td>IR1</td>\n",
              "      <td>Lvl</td>\n",
              "      <td>AllPub</td>\n",
              "      <td>Inside</td>\n",
              "      <td>Gtl</td>\n",
              "      <td>CollgCr</td>\n",
              "      <td>Norm</td>\n",
              "      <td>Norm</td>\n",
              "      <td>1Fam</td>\n",
              "      <td>2Story</td>\n",
              "      <td>7</td>\n",
              "      <td>5</td>\n",
              "      <td>2001</td>\n",
              "      <td>2002</td>\n",
              "      <td>Gable</td>\n",
              "      <td>CompShg</td>\n",
              "      <td>VinylSd</td>\n",
              "      <td>VinylSd</td>\n",
              "      <td>BrkFace</td>\n",
              "      <td>162.0</td>\n",
              "      <td>Gd</td>\n",
              "      <td>TA</td>\n",
              "      <td>PConc</td>\n",
              "      <td>Gd</td>\n",
              "      <td>TA</td>\n",
              "      <td>Mn</td>\n",
              "      <td>GLQ</td>\n",
              "      <td>486</td>\n",
              "      <td>Unf</td>\n",
              "      <td>0</td>\n",
              "      <td>434</td>\n",
              "      <td>920</td>\n",
              "      <td>GasA</td>\n",
              "      <td>...</td>\n",
              "      <td>Y</td>\n",
              "      <td>SBrkr</td>\n",
              "      <td>920</td>\n",
              "      <td>866</td>\n",
              "      <td>0</td>\n",
              "      <td>1786</td>\n",
              "      <td>1</td>\n",
              "      <td>0</td>\n",
              "      <td>2</td>\n",
              "      <td>1</td>\n",
              "      <td>3</td>\n",
              "      <td>1</td>\n",
              "      <td>Gd</td>\n",
              "      <td>6</td>\n",
              "      <td>Typ</td>\n",
              "      <td>1</td>\n",
              "      <td>TA</td>\n",
              "      <td>Attchd</td>\n",
              "      <td>2001.0</td>\n",
              "      <td>RFn</td>\n",
              "      <td>2</td>\n",
              "      <td>608</td>\n",
              "      <td>TA</td>\n",
              "      <td>TA</td>\n",
              "      <td>Y</td>\n",
              "      <td>0</td>\n",
              "      <td>42</td>\n",
              "      <td>0</td>\n",
              "      <td>0</td>\n",
              "      <td>0</td>\n",
              "      <td>0</td>\n",
              "      <td>NaN</td>\n",
              "      <td>NaN</td>\n",
              "      <td>NaN</td>\n",
              "      <td>0</td>\n",
              "      <td>9</td>\n",
              "      <td>2008</td>\n",
              "      <td>WD</td>\n",
              "      <td>Normal</td>\n",
              "      <td>223500</td>\n",
              "    </tr>\n",
              "    <tr>\n",
              "      <th>3</th>\n",
              "      <td>4</td>\n",
              "      <td>70</td>\n",
              "      <td>RL</td>\n",
              "      <td>60.0</td>\n",
              "      <td>9550</td>\n",
              "      <td>Pave</td>\n",
              "      <td>NaN</td>\n",
              "      <td>IR1</td>\n",
              "      <td>Lvl</td>\n",
              "      <td>AllPub</td>\n",
              "      <td>Corner</td>\n",
              "      <td>Gtl</td>\n",
              "      <td>Crawfor</td>\n",
              "      <td>Norm</td>\n",
              "      <td>Norm</td>\n",
              "      <td>1Fam</td>\n",
              "      <td>2Story</td>\n",
              "      <td>7</td>\n",
              "      <td>5</td>\n",
              "      <td>1915</td>\n",
              "      <td>1970</td>\n",
              "      <td>Gable</td>\n",
              "      <td>CompShg</td>\n",
              "      <td>Wd Sdng</td>\n",
              "      <td>Wd Shng</td>\n",
              "      <td>None</td>\n",
              "      <td>0.0</td>\n",
              "      <td>TA</td>\n",
              "      <td>TA</td>\n",
              "      <td>BrkTil</td>\n",
              "      <td>TA</td>\n",
              "      <td>Gd</td>\n",
              "      <td>No</td>\n",
              "      <td>ALQ</td>\n",
              "      <td>216</td>\n",
              "      <td>Unf</td>\n",
              "      <td>0</td>\n",
              "      <td>540</td>\n",
              "      <td>756</td>\n",
              "      <td>GasA</td>\n",
              "      <td>...</td>\n",
              "      <td>Y</td>\n",
              "      <td>SBrkr</td>\n",
              "      <td>961</td>\n",
              "      <td>756</td>\n",
              "      <td>0</td>\n",
              "      <td>1717</td>\n",
              "      <td>1</td>\n",
              "      <td>0</td>\n",
              "      <td>1</td>\n",
              "      <td>0</td>\n",
              "      <td>3</td>\n",
              "      <td>1</td>\n",
              "      <td>Gd</td>\n",
              "      <td>7</td>\n",
              "      <td>Typ</td>\n",
              "      <td>1</td>\n",
              "      <td>Gd</td>\n",
              "      <td>Detchd</td>\n",
              "      <td>1998.0</td>\n",
              "      <td>Unf</td>\n",
              "      <td>3</td>\n",
              "      <td>642</td>\n",
              "      <td>TA</td>\n",
              "      <td>TA</td>\n",
              "      <td>Y</td>\n",
              "      <td>0</td>\n",
              "      <td>35</td>\n",
              "      <td>272</td>\n",
              "      <td>0</td>\n",
              "      <td>0</td>\n",
              "      <td>0</td>\n",
              "      <td>NaN</td>\n",
              "      <td>NaN</td>\n",
              "      <td>NaN</td>\n",
              "      <td>0</td>\n",
              "      <td>2</td>\n",
              "      <td>2006</td>\n",
              "      <td>WD</td>\n",
              "      <td>Abnorml</td>\n",
              "      <td>140000</td>\n",
              "    </tr>\n",
              "    <tr>\n",
              "      <th>4</th>\n",
              "      <td>5</td>\n",
              "      <td>60</td>\n",
              "      <td>RL</td>\n",
              "      <td>84.0</td>\n",
              "      <td>14260</td>\n",
              "      <td>Pave</td>\n",
              "      <td>NaN</td>\n",
              "      <td>IR1</td>\n",
              "      <td>Lvl</td>\n",
              "      <td>AllPub</td>\n",
              "      <td>FR2</td>\n",
              "      <td>Gtl</td>\n",
              "      <td>NoRidge</td>\n",
              "      <td>Norm</td>\n",
              "      <td>Norm</td>\n",
              "      <td>1Fam</td>\n",
              "      <td>2Story</td>\n",
              "      <td>8</td>\n",
              "      <td>5</td>\n",
              "      <td>2000</td>\n",
              "      <td>2000</td>\n",
              "      <td>Gable</td>\n",
              "      <td>CompShg</td>\n",
              "      <td>VinylSd</td>\n",
              "      <td>VinylSd</td>\n",
              "      <td>BrkFace</td>\n",
              "      <td>350.0</td>\n",
              "      <td>Gd</td>\n",
              "      <td>TA</td>\n",
              "      <td>PConc</td>\n",
              "      <td>Gd</td>\n",
              "      <td>TA</td>\n",
              "      <td>Av</td>\n",
              "      <td>GLQ</td>\n",
              "      <td>655</td>\n",
              "      <td>Unf</td>\n",
              "      <td>0</td>\n",
              "      <td>490</td>\n",
              "      <td>1145</td>\n",
              "      <td>GasA</td>\n",
              "      <td>...</td>\n",
              "      <td>Y</td>\n",
              "      <td>SBrkr</td>\n",
              "      <td>1145</td>\n",
              "      <td>1053</td>\n",
              "      <td>0</td>\n",
              "      <td>2198</td>\n",
              "      <td>1</td>\n",
              "      <td>0</td>\n",
              "      <td>2</td>\n",
              "      <td>1</td>\n",
              "      <td>4</td>\n",
              "      <td>1</td>\n",
              "      <td>Gd</td>\n",
              "      <td>9</td>\n",
              "      <td>Typ</td>\n",
              "      <td>1</td>\n",
              "      <td>TA</td>\n",
              "      <td>Attchd</td>\n",
              "      <td>2000.0</td>\n",
              "      <td>RFn</td>\n",
              "      <td>3</td>\n",
              "      <td>836</td>\n",
              "      <td>TA</td>\n",
              "      <td>TA</td>\n",
              "      <td>Y</td>\n",
              "      <td>192</td>\n",
              "      <td>84</td>\n",
              "      <td>0</td>\n",
              "      <td>0</td>\n",
              "      <td>0</td>\n",
              "      <td>0</td>\n",
              "      <td>NaN</td>\n",
              "      <td>NaN</td>\n",
              "      <td>NaN</td>\n",
              "      <td>0</td>\n",
              "      <td>12</td>\n",
              "      <td>2008</td>\n",
              "      <td>WD</td>\n",
              "      <td>Normal</td>\n",
              "      <td>250000</td>\n",
              "    </tr>\n",
              "  </tbody>\n",
              "</table>\n",
              "<p>5 rows × 81 columns</p>\n",
              "</div>"
            ],
            "text/plain": [
              "   Id  MSSubClass MSZoning  ...  SaleType  SaleCondition SalePrice\n",
              "0   1          60       RL  ...        WD         Normal    208500\n",
              "1   2          20       RL  ...        WD         Normal    181500\n",
              "2   3          60       RL  ...        WD         Normal    223500\n",
              "3   4          70       RL  ...        WD        Abnorml    140000\n",
              "4   5          60       RL  ...        WD         Normal    250000\n",
              "\n",
              "[5 rows x 81 columns]"
            ]
          },
          "metadata": {
            "tags": []
          },
          "execution_count": 4
        }
      ]
    },
    {
      "cell_type": "code",
      "metadata": {
        "id": "4iiZKiLiC7uN",
        "colab": {
          "base_uri": "https://localhost:8080/"
        },
        "outputId": "548aa0ae-c306-45fc-9c84-da7fc7fea24f"
      },
      "source": [
        "print(train.columns)"
      ],
      "execution_count": null,
      "outputs": [
        {
          "output_type": "stream",
          "text": [
            "Index(['Id', 'MSSubClass', 'MSZoning', 'LotFrontage', 'LotArea', 'Street',\n",
            "       'Alley', 'LotShape', 'LandContour', 'Utilities', 'LotConfig',\n",
            "       'LandSlope', 'Neighborhood', 'Condition1', 'Condition2', 'BldgType',\n",
            "       'HouseStyle', 'OverallQual', 'OverallCond', 'YearBuilt', 'YearRemodAdd',\n",
            "       'RoofStyle', 'RoofMatl', 'Exterior1st', 'Exterior2nd', 'MasVnrType',\n",
            "       'MasVnrArea', 'ExterQual', 'ExterCond', 'Foundation', 'BsmtQual',\n",
            "       'BsmtCond', 'BsmtExposure', 'BsmtFinType1', 'BsmtFinSF1',\n",
            "       'BsmtFinType2', 'BsmtFinSF2', 'BsmtUnfSF', 'TotalBsmtSF', 'Heating',\n",
            "       'HeatingQC', 'CentralAir', 'Electrical', '1stFlrSF', '2ndFlrSF',\n",
            "       'LowQualFinSF', 'GrLivArea', 'BsmtFullBath', 'BsmtHalfBath', 'FullBath',\n",
            "       'HalfBath', 'BedroomAbvGr', 'KitchenAbvGr', 'KitchenQual',\n",
            "       'TotRmsAbvGrd', 'Functional', 'Fireplaces', 'FireplaceQu', 'GarageType',\n",
            "       'GarageYrBlt', 'GarageFinish', 'GarageCars', 'GarageArea', 'GarageQual',\n",
            "       'GarageCond', 'PavedDrive', 'WoodDeckSF', 'OpenPorchSF',\n",
            "       'EnclosedPorch', '3SsnPorch', 'ScreenPorch', 'PoolArea', 'PoolQC',\n",
            "       'Fence', 'MiscFeature', 'MiscVal', 'MoSold', 'YrSold', 'SaleType',\n",
            "       'SaleCondition', 'SalePrice'],\n",
            "      dtype='object')\n"
          ],
          "name": "stdout"
        }
      ]
    },
    {
      "cell_type": "code",
      "metadata": {
        "id": "enSF6DVTDG9g",
        "colab": {
          "base_uri": "https://localhost:8080/"
        },
        "outputId": "750934f3-f086-419e-80cc-4ce6ce7bc447"
      },
      "source": [
        "len(train)"
      ],
      "execution_count": null,
      "outputs": [
        {
          "output_type": "execute_result",
          "data": {
            "text/plain": [
              "1460"
            ]
          },
          "metadata": {
            "tags": []
          },
          "execution_count": 15
        }
      ]
    },
    {
      "cell_type": "code",
      "metadata": {
        "id": "6ONVw5mmxMli"
      },
      "source": [
        "pd.set_option('max_rows', 99999)"
      ],
      "execution_count": null,
      "outputs": []
    },
    {
      "cell_type": "code",
      "metadata": {
        "id": "91Ly1Jb_C_HC",
        "colab": {
          "base_uri": "https://localhost:8080/"
        },
        "outputId": "34eea45e-0d3e-41a7-8efa-42326d530781"
      },
      "source": [
        "print(train.isnull().sum()*100/train.isnull().count())"
      ],
      "execution_count": null,
      "outputs": [
        {
          "output_type": "stream",
          "text": [
            "Id                0.000000\n",
            "MSSubClass        0.000000\n",
            "MSZoning          0.000000\n",
            "LotFrontage      17.739726\n",
            "LotArea           0.000000\n",
            "                   ...    \n",
            "MoSold            0.000000\n",
            "YrSold            0.000000\n",
            "SaleType          0.000000\n",
            "SaleCondition     0.000000\n",
            "SalePrice         0.000000\n",
            "Length: 81, dtype: float64\n"
          ],
          "name": "stdout"
        }
      ]
    },
    {
      "cell_type": "markdown",
      "metadata": {
        "id": "jQHGM60rxYKo"
      },
      "source": [
        "deleted some columns as they have more null values."
      ]
    },
    {
      "cell_type": "code",
      "metadata": {
        "id": "1BulyHduNdWi"
      },
      "source": [
        "\n",
        "train.fillna(train.mean(), inplace = True)\n",
        "test.fillna(test.mean(), inplace = True)"
      ],
      "execution_count": null,
      "outputs": []
    },
    {
      "cell_type": "code",
      "metadata": {
        "id": "1zuWiYxfQtEp"
      },
      "source": [
        "train=train.drop(['PoolQC','Fence','MiscFeature','FireplaceQu','Alley','LotFrontage'],axis=1)"
      ],
      "execution_count": null,
      "outputs": []
    },
    {
      "cell_type": "code",
      "metadata": {
        "id": "UsocUXBOQLhP",
        "colab": {
          "base_uri": "https://localhost:8080/"
        },
        "outputId": "8d38c8d5-1c2c-4ceb-9215-08ca21ba30a8"
      },
      "source": [
        "\n",
        "print(train.isnull().sum())"
      ],
      "execution_count": null,
      "outputs": [
        {
          "output_type": "stream",
          "text": [
            "Id               0\n",
            "MSSubClass       0\n",
            "MSZoning         0\n",
            "LotArea          0\n",
            "Street           0\n",
            "                ..\n",
            "MoSold           0\n",
            "YrSold           0\n",
            "SaleType         0\n",
            "SaleCondition    0\n",
            "SalePrice        0\n",
            "Length: 75, dtype: int64\n"
          ],
          "name": "stdout"
        }
      ]
    },
    {
      "cell_type": "code",
      "metadata": {
        "id": "FrrhmZEO9XZp",
        "colab": {
          "base_uri": "https://localhost:8080/"
        },
        "outputId": "6c6f219e-c2ec-400f-962f-eaf7fcd0b3fc"
      },
      "source": [
        "correlation = train.corr()\n",
        "print('Correlation Values:\\n', correlation[\"SalePrice\"].sort_values(ascending=False))"
      ],
      "execution_count": null,
      "outputs": [
        {
          "output_type": "stream",
          "text": [
            "Correlation Values:\n",
            " SalePrice        1.000000\n",
            "OverallQual      0.790982\n",
            "GrLivArea        0.708624\n",
            "GarageCars       0.640409\n",
            "GarageArea       0.623431\n",
            "TotalBsmtSF      0.613581\n",
            "1stFlrSF         0.605852\n",
            "FullBath         0.560664\n",
            "TotRmsAbvGrd     0.533723\n",
            "YearBuilt        0.522897\n",
            "YearRemodAdd     0.507101\n",
            "MasVnrArea       0.475241\n",
            "GarageYrBlt      0.470177\n",
            "Fireplaces       0.466929\n",
            "BsmtFinSF1       0.386420\n",
            "WoodDeckSF       0.324413\n",
            "2ndFlrSF         0.319334\n",
            "OpenPorchSF      0.315856\n",
            "HalfBath         0.284108\n",
            "LotArea          0.263843\n",
            "BsmtFullBath     0.227122\n",
            "BsmtUnfSF        0.214479\n",
            "BedroomAbvGr     0.168213\n",
            "ScreenPorch      0.111447\n",
            "PoolArea         0.092404\n",
            "MoSold           0.046432\n",
            "3SsnPorch        0.044584\n",
            "BsmtFinSF2      -0.011378\n",
            "BsmtHalfBath    -0.016844\n",
            "MiscVal         -0.021190\n",
            "Id              -0.021917\n",
            "LowQualFinSF    -0.025606\n",
            "YrSold          -0.028923\n",
            "OverallCond     -0.077856\n",
            "MSSubClass      -0.084284\n",
            "EnclosedPorch   -0.128578\n",
            "KitchenAbvGr    -0.135907\n",
            "Name: SalePrice, dtype: float64\n"
          ],
          "name": "stdout"
        }
      ]
    },
    {
      "cell_type": "code",
      "metadata": {
        "id": "l45VlOCkJuVf",
        "colab": {
          "base_uri": "https://localhost:8080/",
          "height": 282
        },
        "outputId": "cec635fb-0624-47a0-f139-735cd10a613b"
      },
      "source": [
        "train.boxplot(column=['OverallQual','GrLivArea','GarageCars','GarageArea','TotalBsmtSF','1stFlrSF'])\n"
      ],
      "execution_count": null,
      "outputs": [
        {
          "output_type": "execute_result",
          "data": {
            "text/plain": [
              "<matplotlib.axes._subplots.AxesSubplot at 0x7f5285564278>"
            ]
          },
          "metadata": {
            "tags": []
          },
          "execution_count": 12
        },
        {
          "output_type": "display_data",
          "data": {
            "image/png": "[encoded data removed]",
            "text/plain": [
              "<Figure size 432x288 with 1 Axes>"
            ]
          },
          "metadata": {
            "tags": [],
            "needs_background": "light"
          }
        }
      ]
    },
    {
      "cell_type": "code",
      "metadata": {
        "id": "mLrUgMaAKCm_"
      },
      "source": [
        "import seaborn as sns\n",
        "from scipy.stats.mstats import winsorize\n",
        "import matplotlib.pyplot as plt\n",
        "train['GrLivArea']=winsorize(train['GrLivArea'],limits=[0.05,0.05])\n",
        "train['GarageArea']=winsorize(train['GarageArea'],limits=[0.05,0.05])\n",
        "train['TotalBsmtSF']=winsorize(train['TotalBsmtSF'],limits=[0.05,0.05])\n",
        "train['1stFlrSF']=winsorize(train['1stFlrSF'],limits=[0.05,0.05])"
      ],
      "execution_count": null,
      "outputs": []
    },
    {
      "cell_type": "code",
      "metadata": {
        "id": "l94ivHYlKYns",
        "colab": {
          "base_uri": "https://localhost:8080/",
          "height": 282
        },
        "outputId": "bb8ef910-4e6e-4515-cc01-df7ae8dd91ac"
      },
      "source": [
        "train.boxplot(column=['OverallQual','GrLivArea','GarageCars','GarageArea','TotalBsmtSF','1stFlrSF'])\n"
      ],
      "execution_count": null,
      "outputs": [
        {
          "output_type": "execute_result",
          "data": {
            "text/plain": [
              "<matplotlib.axes._subplots.AxesSubplot at 0x7f527aeeb0f0>"
            ]
          },
          "metadata": {
            "tags": []
          },
          "execution_count": 16
        },
        {
          "output_type": "display_data",
          "data": {
            "image/png": "[encoded data removed]",
            "text/plain": [
              "<Figure size 432x288 with 1 Axes>"
            ]
          },
          "metadata": {
            "tags": [],
            "needs_background": "light"
          }
        }
      ]
    },
    {
      "cell_type": "code",
      "metadata": {
        "id": "HqnjpP9AKzPd",
        "colab": {
          "base_uri": "https://localhost:8080/",
          "height": 282
        },
        "outputId": "9ab6fc26-9d05-403c-fa2d-99b3a54892b1"
      },
      "source": [
        "train.boxplot(column=['FullBath','GrLivArea','YearBuilt','YearRemodAdd'])"
      ],
      "execution_count": null,
      "outputs": [
        {
          "output_type": "execute_result",
          "data": {
            "text/plain": [
              "<matplotlib.axes._subplots.AxesSubplot at 0x7f527af80f28>"
            ]
          },
          "metadata": {
            "tags": []
          },
          "execution_count": 17
        },
        {
          "output_type": "display_data",
          "data": {
            "image/png": "[encoded data removed]",
            "text/plain": [
              "<Figure size 432x288 with 1 Axes>"
            ]
          },
          "metadata": {
            "tags": [],
            "needs_background": "light"
          }
        }
      ]
    },
    {
      "cell_type": "code",
      "metadata": {
        "id": "mjdKH9_99xcb"
      },
      "source": [
        "cols=train[['OverallQual','GrLivArea','GarageCars','GarageArea','TotalBsmtSF','1stFlrSF','FullBath','GrLivArea','YearBuilt','YearRemodAdd']]\n",
        "test_cols=test[['OverallQual','GrLivArea','GarageCars','GarageArea','TotalBsmtSF','1stFlrSF','FullBath','GrLivArea','YearBuilt','YearRemodAdd']]\n",
        "\n"
      ],
      "execution_count": null,
      "outputs": []
    },
    {
      "cell_type": "code",
      "metadata": {
        "id": "a659U9U4Mu6Y",
        "colab": {
          "base_uri": "https://localhost:8080/"
        },
        "outputId": "4f838b81-a938-454b-9520-4d9e8b1f8a0c"
      },
      "source": [
        "test_cols.isnull().sum()"
      ],
      "execution_count": null,
      "outputs": [
        {
          "output_type": "execute_result",
          "data": {
            "text/plain": [
              "OverallQual     0\n",
              "GrLivArea       0\n",
              "GarageCars      0\n",
              "GarageArea      0\n",
              "TotalBsmtSF     0\n",
              "1stFlrSF        0\n",
              "FullBath        0\n",
              "GrLivArea       0\n",
              "YearBuilt       0\n",
              "YearRemodAdd    0\n",
              "dtype: int64"
            ]
          },
          "metadata": {
            "tags": []
          },
          "execution_count": 27
        }
      ]
    },
    {
      "cell_type": "code",
      "metadata": {
        "id": "zGR7b3AOMnnJ",
        "colab": {
          "base_uri": "https://localhost:8080/"
        },
        "outputId": "1d5844fa-2041-410e-d84b-959a84d6eec0"
      },
      "source": [
        "y=train['SalePrice']\n",
        "from sklearn.linear_model import LinearRegression\n",
        "from sklearn.metrics import classification_report\n",
        "from sklearn.metrics import accuracy_score\n",
        "from sklearn.model_selection import train_test_split\n",
        "import numpy as np\n",
        "from sklearn import metrics\n",
        "\n",
        "x_train,x_test,y_train,y_test=train_test_split(cols.values,y.values,random_state=1,test_size=0.25)\n",
        "lm = LinearRegression(normalize=True)\n",
        "model = lm.fit(x_train,y_train)\n",
        "y_pred = lm.predict(test_cols)\n",
        "model.score(cols,y)"
      ],
      "execution_count": null,
      "outputs": [
        {
          "output_type": "execute_result",
          "data": {
            "text/plain": [
              "0.7751584204953317"
            ]
          },
          "metadata": {
            "tags": []
          },
          "execution_count": 37
        }
      ]
    },
    {
      "cell_type": "code",
      "metadata": {
        "id": "iz04YdJCHanH",
        "colab": {
          "base_uri": "https://localhost:8080/"
        },
        "outputId": "9513509f-23b2-4687-87e7-7ea30fa27d32"
      },
      "source": [
        "test['predicted']=y_pred\n",
        "test['predicted'].head(10)"
      ],
      "execution_count": null,
      "outputs": [
        {
          "output_type": "execute_result",
          "data": {
            "text/plain": [
              "0    110168.478234\n",
              "1    165743.677033\n",
              "2    168730.155484\n",
              "3    185742.006858\n",
              "4    219712.225314\n",
              "5    177171.836192\n",
              "6    174269.651827\n",
              "7    168579.861828\n",
              "8    213403.766308\n",
              "9     97684.431142\n",
              "Name: predicted, dtype: float64"
            ]
          },
          "metadata": {
            "tags": []
          },
          "execution_count": 39
        }
      ]
    }
  ]
}