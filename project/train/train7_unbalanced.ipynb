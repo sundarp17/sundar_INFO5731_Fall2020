{
  "nbformat": 4,
  "nbformat_minor": 0,
  "metadata": {
    "colab": {
      "name": "train7_unbalanced.ipynb",
      "provenance": [],
      "collapsed_sections": [],
      "authorship_tag": "ABX9TyNlA5Jds+TPgCMkoAXSSn7/",
      "include_colab_link": true
    },
    "kernelspec": {
      "name": "python3",
      "display_name": "Python 3"
    }
  },
  "cells": [
    {
      "cell_type": "markdown",
      "metadata": {
        "id": "view-in-github",
        "colab_type": "text"
      },
      "source": [
        "<a href=\"https://colab.research.google.com/github/sundarp17/sundar_info5731_fall2020/blob/master/project/train/train7_unbalanced.ipynb\" target=\"_parent\"><img src=\"https://colab.research.google.com/assets/colab-badge.svg\" alt=\"Open In Colab\"/></a>"
      ]
    },
    {
      "cell_type": "code",
      "metadata": {
        "colab": {
          "base_uri": "https://localhost:8080/",
          "height": 195
        },
        "id": "qBBpKXkQSzQM",
        "outputId": "87ac9e05-8ff3-4ab6-cdfe-0f945c2faf9b"
      },
      "source": [
        "import pandas as pd\n",
        "\n",
        "train = pd.read_csv(r'/content/train_data7.csv')\n",
        "train.head()"
      ],
      "execution_count": 172,
      "outputs": [
        {
          "output_type": "execute_result",
          "data": {
            "text/html": [
              "<div>\n",
              "<style scoped>\n",
              "    .dataframe tbody tr th:only-of-type {\n",
              "        vertical-align: middle;\n",
              "    }\n",
              "\n",
              "    .dataframe tbody tr th {\n",
              "        vertical-align: top;\n",
              "    }\n",
              "\n",
              "    .dataframe thead th {\n",
              "        text-align: right;\n",
              "    }\n",
              "</style>\n",
              "<table border=\"1\" class=\"dataframe\">\n",
              "  <thead>\n",
              "    <tr style=\"text-align: right;\">\n",
              "      <th></th>\n",
              "      <th>Unnamed: 0</th>\n",
              "      <th>Sentence</th>\n",
              "      <th>Target</th>\n",
              "    </tr>\n",
              "  </thead>\n",
              "  <tbody>\n",
              "    <tr>\n",
              "      <th>0</th>\n",
              "      <td>659</td>\n",
              "      <td>Appellant had stated to the officers that she ...</td>\n",
              "      <td>Invalid</td>\n",
              "    </tr>\n",
              "    <tr>\n",
              "      <th>1</th>\n",
              "      <td>3456</td>\n",
              "      <td>We shall discuss the facts more fully in conne...</td>\n",
              "      <td>Others</td>\n",
              "    </tr>\n",
              "    <tr>\n",
              "      <th>2</th>\n",
              "      <td>2043</td>\n",
              "      <td>â€œPerjury is a false statement, either writte...</td>\n",
              "      <td>Invalid</td>\n",
              "    </tr>\n",
              "    <tr>\n",
              "      <th>3</th>\n",
              "      <td>3344</td>\n",
              "      <td>The offense is felony theft by false pretext; ...</td>\n",
              "      <td>Issue</td>\n",
              "    </tr>\n",
              "    <tr>\n",
              "      <th>4</th>\n",
              "      <td>3231</td>\n",
              "      <td>Numerous contentions urging the commission of ...</td>\n",
              "      <td>Issue</td>\n",
              "    </tr>\n",
              "  </tbody>\n",
              "</table>\n",
              "</div>"
            ],
            "text/plain": [
              "   Unnamed: 0                                           Sentence   Target\n",
              "0         659  Appellant had stated to the officers that she ...  Invalid\n",
              "1        3456  We shall discuss the facts more fully in conne...   Others\n",
              "2        2043  â€œPerjury is a false statement, either writte...  Invalid\n",
              "3        3344  The offense is felony theft by false pretext; ...    Issue\n",
              "4        3231  Numerous contentions urging the commission of ...    Issue"
            ]
          },
          "metadata": {
            "tags": []
          },
          "execution_count": 172
        }
      ]
    },
    {
      "cell_type": "code",
      "metadata": {
        "colab": {
          "base_uri": "https://localhost:8080/"
        },
        "id": "5JMNNECeXLoV",
        "outputId": "20bad65a-ff26-4324-b2a0-63f8d3c9f0f6"
      },
      "source": [
        "train['Target'].unique()"
      ],
      "execution_count": 173,
      "outputs": [
        {
          "output_type": "execute_result",
          "data": {
            "text/plain": [
              "array(['Invalid', 'Others', 'Issue', 'Analysis', 'Facts', 'Conclusion',\n",
              "       'Rule/Law/Holding'], dtype=object)"
            ]
          },
          "metadata": {
            "tags": []
          },
          "execution_count": 173
        }
      ]
    },
    {
      "cell_type": "code",
      "metadata": {
        "colab": {
          "base_uri": "https://localhost:8080/"
        },
        "id": "T5TRUVelXT-C",
        "outputId": "f73e061f-98b5-40a4-9a8a-b2320b1fa049"
      },
      "source": [
        "train['Target']=train['Target'].replace(['Others'],'Invalid')\n",
        "train['Target'].unique()"
      ],
      "execution_count": 174,
      "outputs": [
        {
          "output_type": "execute_result",
          "data": {
            "text/plain": [
              "array(['Invalid', 'Issue', 'Analysis', 'Facts', 'Conclusion',\n",
              "       'Rule/Law/Holding'], dtype=object)"
            ]
          },
          "metadata": {
            "tags": []
          },
          "execution_count": 174
        }
      ]
    },
    {
      "cell_type": "code",
      "metadata": {
        "colab": {
          "base_uri": "https://localhost:8080/"
        },
        "id": "IIHQOLn7XvLo",
        "outputId": "6bc09dc1-6d41-44ab-aba5-182a9ab805ed"
      },
      "source": [
        "#cleaning\n",
        "import nltk\n",
        "import re\n",
        "import string\n",
        "nltk.download('stopwords')\n",
        "nltk.download('wordnet')\n",
        "stopword=nltk.corpus.stopwords.words('english')\n",
        "from nltk.stem import WordNetLemmatizer\n",
        "wl= WordNetLemmatizer()\n",
        "\n",
        "def clean_text(text):\n",
        "  text=\"\".join([word.lower() for word in text if word not in string.punctuation])\n",
        "  tokens = re.split('\\W+',text)\n",
        "  text = [wl.lemmatize(word) for word in tokens if word not in stopword]\n",
        "  return text"
      ],
      "execution_count": 175,
      "outputs": [
        {
          "output_type": "stream",
          "text": [
            "[nltk_data] Downloading package stopwords to /root/nltk_data...\n",
            "[nltk_data]   Package stopwords is already up-to-date!\n",
            "[nltk_data] Downloading package wordnet to /root/nltk_data...\n",
            "[nltk_data]   Package wordnet is already up-to-date!\n"
          ],
          "name": "stdout"
        }
      ]
    },
    {
      "cell_type": "code",
      "metadata": {
        "colab": {
          "base_uri": "https://localhost:8080/"
        },
        "id": "z_QmpPopYLBB",
        "outputId": "23631a43-ca9e-4186-8c4c-df6771c35371"
      },
      "source": [
        "from sklearn.feature_extraction.text import TfidfVectorizer\n",
        "\n",
        "tfidf_vect = TfidfVectorizer(analyzer = clean_text)\n",
        "X_tfidf = tfidf_vect.fit_transform(train['Sentence'])\n",
        "print(X_tfidf.shape)"
      ],
      "execution_count": 176,
      "outputs": [
        {
          "output_type": "stream",
          "text": [
            "(3476, 6392)\n"
          ],
          "name": "stdout"
        }
      ]
    },
    {
      "cell_type": "code",
      "metadata": {
        "colab": {
          "base_uri": "https://localhost:8080/"
        },
        "id": "CuZUfqrnYTvM",
        "outputId": "4f76f21b-5dfc-437c-aba4-9e19adb205b2"
      },
      "source": [
        "#using smote and stochastic gradient boosting\n",
        "from sklearn.model_selection import train_test_split\n",
        "from sklearn.linear_model import SGDClassifier\n",
        "from sklearn.metrics import accuracy_score\n",
        "from sklearn.metrics import classification_report\n",
        "\n",
        "\n",
        "X_train, x_val, Y_train, y_val = train_test_split(X_tfidf,train['Target'],test_size=0.26,random_state=42)\n",
        "sgd = SGDClassifier(max_iter=1000, tol=1e-3)\n",
        "sgd.fit(X_train, Y_train)\n",
        "pred_sgd = sgd.predict(x_val)\n",
        "print('Accuracy %s' % accuracy_score(pred_sgd,y_val))\n",
        "print(classification_report(y_val,pred_sgd))"
      ],
      "execution_count": 177,
      "outputs": [
        {
          "output_type": "stream",
          "text": [
            "Accuracy 0.6747787610619469\n",
            "                  precision    recall  f1-score   support\n",
            "\n",
            "        Analysis       0.54      0.45      0.49       130\n",
            "      Conclusion       0.67      0.53      0.59        49\n",
            "           Facts       0.77      0.88      0.82       475\n",
            "         Invalid       0.49      0.45      0.47       128\n",
            "           Issue       0.52      0.55      0.53        53\n",
            "Rule/Law/Holding       0.59      0.35      0.44        69\n",
            "\n",
            "        accuracy                           0.67       904\n",
            "       macro avg       0.59      0.53      0.55       904\n",
            "    weighted avg       0.66      0.67      0.66       904\n",
            "\n"
          ],
          "name": "stdout"
        }
      ]
    },
    {
      "cell_type": "code",
      "metadata": {
        "colab": {
          "base_uri": "https://localhost:8080/"
        },
        "id": "Xtgr06WzdPFW",
        "outputId": "9ed30ece-6ac5-45ed-ae79-dead90a53a49"
      },
      "source": [
        "def frequency_table(data):\n",
        "    frequencytable = {}\n",
        "    for key in data:\n",
        "        if key in frequencytable:\n",
        "            frequencytable[key] += 1\n",
        "        else:\n",
        "            frequencytable[key] = 1\n",
        "    return frequencytable\n",
        "\n",
        "frequency_table(train['Target'])\n",
        "\n"
      ],
      "execution_count": 178,
      "outputs": [
        {
          "output_type": "execute_result",
          "data": {
            "text/plain": [
              "{'Analysis': 520,\n",
              " 'Conclusion': 179,\n",
              " 'Facts': 1770,\n",
              " 'Invalid': 549,\n",
              " 'Issue': 218,\n",
              " 'Rule/Law/Holding': 240}"
            ]
          },
          "metadata": {
            "tags": []
          },
          "execution_count": 178
        }
      ]
    },
    {
      "cell_type": "code",
      "metadata": {
        "colab": {
          "base_uri": "https://localhost:8080/",
          "height": 195
        },
        "id": "e9LreUVIz6Hu",
        "outputId": "4131c0dc-39b0-4aa2-beb6-45d63778a9a2"
      },
      "source": [
        "test = pd.read_csv(r'/content/test_data.csv')\r\n",
        "test.head()"
      ],
      "execution_count": 117,
      "outputs": [
        {
          "output_type": "execute_result",
          "data": {
            "text/html": [
              "<div>\n",
              "<style scoped>\n",
              "    .dataframe tbody tr th:only-of-type {\n",
              "        vertical-align: middle;\n",
              "    }\n",
              "\n",
              "    .dataframe tbody tr th {\n",
              "        vertical-align: top;\n",
              "    }\n",
              "\n",
              "    .dataframe thead th {\n",
              "        text-align: right;\n",
              "    }\n",
              "</style>\n",
              "<table border=\"1\" class=\"dataframe\">\n",
              "  <thead>\n",
              "    <tr style=\"text-align: right;\">\n",
              "      <th></th>\n",
              "      <th>Unnamed: 0</th>\n",
              "      <th>Sentence</th>\n",
              "      <th>Target</th>\n",
              "    </tr>\n",
              "  </thead>\n",
              "  <tbody>\n",
              "    <tr>\n",
              "      <th>0</th>\n",
              "      <td>2173</td>\n",
              "      <td>Darden Sr. testified â€œI saw he was staggerin...</td>\n",
              "      <td>Facts</td>\n",
              "    </tr>\n",
              "    <tr>\n",
              "      <th>1</th>\n",
              "      <td>466</td>\n",
              "      <td>Additional moral justification may have been d...</td>\n",
              "      <td>Analysis</td>\n",
              "    </tr>\n",
              "    <tr>\n",
              "      <th>2</th>\n",
              "      <td>525</td>\n",
              "      <td>85, 22 S.W. 140, wherein the accused was actin...</td>\n",
              "      <td>Rule/Law/Holding</td>\n",
              "    </tr>\n",
              "    <tr>\n",
              "      <th>3</th>\n",
              "      <td>2199</td>\n",
              "      <td>Under a proper instruction from the court on m...</td>\n",
              "      <td>Facts</td>\n",
              "    </tr>\n",
              "    <tr>\n",
              "      <th>4</th>\n",
              "      <td>79</td>\n",
              "      <td>He is eligible for leaves to renew contacts wi...</td>\n",
              "      <td>Facts</td>\n",
              "    </tr>\n",
              "  </tbody>\n",
              "</table>\n",
              "</div>"
            ],
            "text/plain": [
              "   Unnamed: 0  ...            Target\n",
              "0        2173  ...             Facts\n",
              "1         466  ...          Analysis\n",
              "2         525  ...  Rule/Law/Holding\n",
              "3        2199  ...             Facts\n",
              "4          79  ...             Facts\n",
              "\n",
              "[5 rows x 3 columns]"
            ]
          },
          "metadata": {
            "tags": []
          },
          "execution_count": 117
        }
      ]
    },
    {
      "cell_type": "code",
      "metadata": {
        "id": "wcmnUsEz0bpM"
      },
      "source": [
        "test['Sentence'] = test['Sentence'].apply(lambda x: \" \".join(x.lower() for x in str(x).split()))\r\n",
        "test['Sentence'] = test['Sentence'].str.replace('[^\\w\\s]','')\r\n",
        "from nltk.corpus import stopwords\r\n",
        "words = stopwords.words('english')\r\n",
        "test['Sentence'] = test['Sentence'].apply(lambda x: \" \".join(x for x in x.split() if x not in words))"
      ],
      "execution_count": 118,
      "outputs": []
    },
    {
      "cell_type": "code",
      "metadata": {
        "colab": {
          "base_uri": "https://localhost:8080/"
        },
        "id": "IsHvHbib03-n",
        "outputId": "89ebf552-b89a-4a6e-e6cf-0cc829917f23"
      },
      "source": [
        "from textblob import TextBlob\r\n",
        "from textblob import Word\r\n",
        "nltk.download('wordnet')\r\n",
        "nltk.download('punkt')\r\n",
        "test['Sentence'] = test['Sentence'].apply(lambda x: TextBlob(x).words)\r\n",
        "test['Sentence'] = test['Sentence'].apply(lambda x: \" \".join([Word(word).lemmatize() for word in x]))"
      ],
      "execution_count": 119,
      "outputs": [
        {
          "output_type": "stream",
          "text": [
            "[nltk_data] Downloading package wordnet to /root/nltk_data...\n",
            "[nltk_data]   Package wordnet is already up-to-date!\n",
            "[nltk_data] Downloading package punkt to /root/nltk_data...\n",
            "[nltk_data]   Package punkt is already up-to-date!\n"
          ],
          "name": "stdout"
        }
      ]
    },
    {
      "cell_type": "code",
      "metadata": {
        "colab": {
          "base_uri": "https://localhost:8080/"
        },
        "id": "iWDvQ3GN1E6h",
        "outputId": "885cb62c-0634-4a70-9b94-ef3c7f0a6ea0"
      },
      "source": [
        "test['Sentence'].head()"
      ],
      "execution_count": 120,
      "outputs": [
        {
          "output_type": "execute_result",
          "data": {
            "text/plain": [
              "0    darden sr testified âœi saw staggering â prett...\n",
              "1    additional moral justification may due complai...\n",
              "2    85 22 sw 140 wherein accused acting upon advic...\n",
              "3    proper instruction court murder malice murder ...\n",
              "4                   eligible leaf renew contact family\n",
              "Name: Sentence, dtype: object"
            ]
          },
          "metadata": {
            "tags": []
          },
          "execution_count": 120
        }
      ]
    },
    {
      "cell_type": "code",
      "metadata": {
        "colab": {
          "base_uri": "https://localhost:8080/"
        },
        "id": "92S7Iw601JMO",
        "outputId": "05b3baaf-4b42-4532-8e63-31b21e847955"
      },
      "source": [
        "len(test['Sentence'])"
      ],
      "execution_count": 121,
      "outputs": [
        {
          "output_type": "execute_result",
          "data": {
            "text/plain": [
              "521"
            ]
          },
          "metadata": {
            "tags": []
          },
          "execution_count": 121
        }
      ]
    },
    {
      "cell_type": "code",
      "metadata": {
        "colab": {
          "base_uri": "https://localhost:8080/"
        },
        "id": "w0LqUlJs1Nix",
        "outputId": "b48ec128-308e-446c-d0c3-94e0886ebafd"
      },
      "source": [
        "unlabel_1 = test.loc[:100]\r\n",
        "print(\"length of unlabel_1\",len(unlabel_1))\r\n",
        "unlabel_2 = test.loc[101:200]\r\n",
        "print(\"length of unlabel_2\",len(unlabel_2))\r\n",
        "unlabel_3 = test.loc[201:300]\r\n",
        "print(\"length of unlabel_3\",len(unlabel_3))\r\n",
        "unlabel_4 = test.loc[301:400]\r\n",
        "print(\"length of unlabel_4\",len(unlabel_4))\r\n",
        "unlabel_5 = test.loc[401:]\r\n",
        "print(\"length of unlabel_5\",len(unlabel_5))"
      ],
      "execution_count": 122,
      "outputs": [
        {
          "output_type": "stream",
          "text": [
            "length of unlabel_1 101\n",
            "length of unlabel_2 100\n",
            "length of unlabel_3 100\n",
            "length of unlabel_4 100\n",
            "length of unlabel_5 120\n"
          ],
          "name": "stdout"
        }
      ]
    },
    {
      "cell_type": "code",
      "metadata": {
        "colab": {
          "base_uri": "https://localhost:8080/",
          "height": 195
        },
        "id": "8QS4Ihxv1jRn",
        "outputId": "c9fddc33-03b1-4331-de5e-74313388177f"
      },
      "source": [
        "x_un1 = tfidf_vect.transform(unlabel_1['Sentence'])\r\n",
        "pred_unlabel_1 = sgd.predict(x_un1)\r\n",
        "unlabel_1['Predicted']=pred_unlabel_1\r\n",
        "unlabel_1.head()"
      ],
      "execution_count": 179,
      "outputs": [
        {
          "output_type": "execute_result",
          "data": {
            "text/html": [
              "<div>\n",
              "<style scoped>\n",
              "    .dataframe tbody tr th:only-of-type {\n",
              "        vertical-align: middle;\n",
              "    }\n",
              "\n",
              "    .dataframe tbody tr th {\n",
              "        vertical-align: top;\n",
              "    }\n",
              "\n",
              "    .dataframe thead th {\n",
              "        text-align: right;\n",
              "    }\n",
              "</style>\n",
              "<table border=\"1\" class=\"dataframe\">\n",
              "  <thead>\n",
              "    <tr style=\"text-align: right;\">\n",
              "      <th></th>\n",
              "      <th>Unnamed: 0</th>\n",
              "      <th>Sentence</th>\n",
              "      <th>Target</th>\n",
              "      <th>Predicted</th>\n",
              "    </tr>\n",
              "  </thead>\n",
              "  <tbody>\n",
              "    <tr>\n",
              "      <th>0</th>\n",
              "      <td>2173</td>\n",
              "      <td>darden sr testified âœi saw staggering â prett...</td>\n",
              "      <td>Facts</td>\n",
              "      <td>Facts</td>\n",
              "    </tr>\n",
              "    <tr>\n",
              "      <th>1</th>\n",
              "      <td>466</td>\n",
              "      <td>additional moral justification may due complai...</td>\n",
              "      <td>Facts</td>\n",
              "      <td>Analysis</td>\n",
              "    </tr>\n",
              "    <tr>\n",
              "      <th>2</th>\n",
              "      <td>525</td>\n",
              "      <td>85 22 sw 140 wherein accused acting upon advic...</td>\n",
              "      <td>Invalid</td>\n",
              "      <td>Invalid</td>\n",
              "    </tr>\n",
              "    <tr>\n",
              "      <th>3</th>\n",
              "      <td>2199</td>\n",
              "      <td>proper instruction court murder malice murder ...</td>\n",
              "      <td>Analysis</td>\n",
              "      <td>Rule/Law/Holding</td>\n",
              "    </tr>\n",
              "    <tr>\n",
              "      <th>4</th>\n",
              "      <td>79</td>\n",
              "      <td>eligible leaf renew contact family</td>\n",
              "      <td>Facts</td>\n",
              "      <td>Facts</td>\n",
              "    </tr>\n",
              "  </tbody>\n",
              "</table>\n",
              "</div>"
            ],
            "text/plain": [
              "   Unnamed: 0  ...         Predicted\n",
              "0        2173  ...             Facts\n",
              "1         466  ...          Analysis\n",
              "2         525  ...           Invalid\n",
              "3        2199  ...  Rule/Law/Holding\n",
              "4          79  ...             Facts\n",
              "\n",
              "[5 rows x 4 columns]"
            ]
          },
          "metadata": {
            "tags": []
          },
          "execution_count": 179
        }
      ]
    },
    {
      "cell_type": "code",
      "metadata": {
        "id": "HoXQKv1j2CFG"
      },
      "source": [
        "test_target = test['Target']"
      ],
      "execution_count": 16,
      "outputs": []
    },
    {
      "cell_type": "code",
      "metadata": {
        "colab": {
          "base_uri": "https://localhost:8080/"
        },
        "id": "3viED6HH2hw0",
        "outputId": "5bff19c3-9800-48ae-f559-688ccb5d6854"
      },
      "source": [
        "len(test_target)"
      ],
      "execution_count": null,
      "outputs": [
        {
          "output_type": "execute_result",
          "data": {
            "text/plain": [
              "521"
            ]
          },
          "metadata": {
            "tags": []
          },
          "execution_count": 25
        }
      ]
    },
    {
      "cell_type": "code",
      "metadata": {
        "id": "KY5ZNuXt2nMC"
      },
      "source": [
        "del unlabel_1['Target']"
      ],
      "execution_count": 180,
      "outputs": []
    },
    {
      "cell_type": "code",
      "metadata": {
        "colab": {
          "base_uri": "https://localhost:8080/",
          "height": 195
        },
        "id": "_qT0B0FI2Oon",
        "outputId": "81ea3cd3-9e1a-4db0-85c7-79217bae5d7f"
      },
      "source": [
        "unlabel_1 = unlabel_1.rename(columns={'Predicted':'Target'})\r\n",
        "unlabel_1.head()"
      ],
      "execution_count": 181,
      "outputs": [
        {
          "output_type": "execute_result",
          "data": {
            "text/html": [
              "<div>\n",
              "<style scoped>\n",
              "    .dataframe tbody tr th:only-of-type {\n",
              "        vertical-align: middle;\n",
              "    }\n",
              "\n",
              "    .dataframe tbody tr th {\n",
              "        vertical-align: top;\n",
              "    }\n",
              "\n",
              "    .dataframe thead th {\n",
              "        text-align: right;\n",
              "    }\n",
              "</style>\n",
              "<table border=\"1\" class=\"dataframe\">\n",
              "  <thead>\n",
              "    <tr style=\"text-align: right;\">\n",
              "      <th></th>\n",
              "      <th>Unnamed: 0</th>\n",
              "      <th>Sentence</th>\n",
              "      <th>Target</th>\n",
              "    </tr>\n",
              "  </thead>\n",
              "  <tbody>\n",
              "    <tr>\n",
              "      <th>0</th>\n",
              "      <td>2173</td>\n",
              "      <td>darden sr testified âœi saw staggering â prett...</td>\n",
              "      <td>Facts</td>\n",
              "    </tr>\n",
              "    <tr>\n",
              "      <th>1</th>\n",
              "      <td>466</td>\n",
              "      <td>additional moral justification may due complai...</td>\n",
              "      <td>Analysis</td>\n",
              "    </tr>\n",
              "    <tr>\n",
              "      <th>2</th>\n",
              "      <td>525</td>\n",
              "      <td>85 22 sw 140 wherein accused acting upon advic...</td>\n",
              "      <td>Invalid</td>\n",
              "    </tr>\n",
              "    <tr>\n",
              "      <th>3</th>\n",
              "      <td>2199</td>\n",
              "      <td>proper instruction court murder malice murder ...</td>\n",
              "      <td>Rule/Law/Holding</td>\n",
              "    </tr>\n",
              "    <tr>\n",
              "      <th>4</th>\n",
              "      <td>79</td>\n",
              "      <td>eligible leaf renew contact family</td>\n",
              "      <td>Facts</td>\n",
              "    </tr>\n",
              "  </tbody>\n",
              "</table>\n",
              "</div>"
            ],
            "text/plain": [
              "   Unnamed: 0  ...            Target\n",
              "0        2173  ...             Facts\n",
              "1         466  ...          Analysis\n",
              "2         525  ...           Invalid\n",
              "3        2199  ...  Rule/Law/Holding\n",
              "4          79  ...             Facts\n",
              "\n",
              "[5 rows x 3 columns]"
            ]
          },
          "metadata": {
            "tags": []
          },
          "execution_count": 181
        }
      ]
    },
    {
      "cell_type": "code",
      "metadata": {
        "colab": {
          "base_uri": "https://localhost:8080/"
        },
        "id": "IvXmmzFE14bB",
        "outputId": "36d0329c-60a0-481f-d116-c0e1627e8e6d"
      },
      "source": [
        "frame_1 = [train,unlabel_1]\r\n",
        "train_1 = pd.concat(frame_1)\r\n",
        "len(train_1)"
      ],
      "execution_count": 182,
      "outputs": [
        {
          "output_type": "execute_result",
          "data": {
            "text/plain": [
              "3577"
            ]
          },
          "metadata": {
            "tags": []
          },
          "execution_count": 182
        }
      ]
    },
    {
      "cell_type": "code",
      "metadata": {
        "colab": {
          "base_uri": "https://localhost:8080/"
        },
        "id": "KhaKOBGN2ycS",
        "outputId": "ddc023b4-19aa-4c21-9596-c70077650158"
      },
      "source": [
        "x_train_1 = tfidf_vect.transform(train_1['Sentence'])\r\n",
        "x_train_1.shape\r\n",
        "X_train, x_val, Y_train, y_val = train_test_split(x_train_1,train_1['Target'],test_size=0.2,random_state=42)\r\n",
        "sgd = SGDClassifier(max_iter=1000, tol=1e-3)\r\n",
        "sgd.fit(X_train, Y_train)\r\n",
        "pred_sgd = sgd.predict(x_val)\r\n",
        "print('Accuracy %s' % accuracy_score(pred_sgd,y_val))\r\n",
        "print(classification_report(y_val,pred_sgd))"
      ],
      "execution_count": 183,
      "outputs": [
        {
          "output_type": "stream",
          "text": [
            "Accuracy 0.6899441340782123\n",
            "                  precision    recall  f1-score   support\n",
            "\n",
            "        Analysis       0.42      0.44      0.43        81\n",
            "      Conclusion       0.63      0.56      0.59        34\n",
            "           Facts       0.79      0.86      0.82       394\n",
            "         Invalid       0.57      0.50      0.53       110\n",
            "           Issue       0.59      0.65      0.62        40\n",
            "Rule/Law/Holding       0.59      0.35      0.44        57\n",
            "\n",
            "        accuracy                           0.69       716\n",
            "       macro avg       0.60      0.56      0.57       716\n",
            "    weighted avg       0.68      0.69      0.68       716\n",
            "\n"
          ],
          "name": "stdout"
        }
      ]
    },
    {
      "cell_type": "code",
      "metadata": {
        "id": "ohGPXE0I31OW"
      },
      "source": [
        "del unlabel_2['Target']\r\n",
        "del unlabel_3['Target']\r\n",
        "del unlabel_4['Target']\r\n",
        "del unlabel_5['Target']"
      ],
      "execution_count": 184,
      "outputs": []
    },
    {
      "cell_type": "code",
      "metadata": {
        "colab": {
          "base_uri": "https://localhost:8080/",
          "height": 296
        },
        "id": "auSDjm6M3kPB",
        "outputId": "4a74fa25-57d3-4893-8695-ea5e3202d688"
      },
      "source": [
        "x_un2 = tfidf_vect.transform(unlabel_2['Sentence'])\r\n",
        "pred_unlabel_2 = sgd.predict(x_un2)\r\n",
        "unlabel_2['Target']=pred_unlabel_2\r\n",
        "unlabel_2.head()"
      ],
      "execution_count": 185,
      "outputs": [
        {
          "output_type": "stream",
          "text": [
            "/usr/local/lib/python3.6/dist-packages/ipykernel_launcher.py:3: SettingWithCopyWarning: \n",
            "A value is trying to be set on a copy of a slice from a DataFrame.\n",
            "Try using .loc[row_indexer,col_indexer] = value instead\n",
            "\n",
            "See the caveats in the documentation: https://pandas.pydata.org/pandas-docs/stable/user_guide/indexing.html#returning-a-view-versus-a-copy\n",
            "  This is separate from the ipykernel package so we can avoid doing imports until\n"
          ],
          "name": "stderr"
        },
        {
          "output_type": "execute_result",
          "data": {
            "text/html": [
              "<div>\n",
              "<style scoped>\n",
              "    .dataframe tbody tr th:only-of-type {\n",
              "        vertical-align: middle;\n",
              "    }\n",
              "\n",
              "    .dataframe tbody tr th {\n",
              "        vertical-align: top;\n",
              "    }\n",
              "\n",
              "    .dataframe thead th {\n",
              "        text-align: right;\n",
              "    }\n",
              "</style>\n",
              "<table border=\"1\" class=\"dataframe\">\n",
              "  <thead>\n",
              "    <tr style=\"text-align: right;\">\n",
              "      <th></th>\n",
              "      <th>Unnamed: 0</th>\n",
              "      <th>Sentence</th>\n",
              "      <th>Target</th>\n",
              "    </tr>\n",
              "  </thead>\n",
              "  <tbody>\n",
              "    <tr>\n",
              "      <th>101</th>\n",
              "      <td>1207</td>\n",
              "      <td>examination occurred night middle may testifie...</td>\n",
              "      <td>Facts</td>\n",
              "    </tr>\n",
              "    <tr>\n",
              "      <th>102</th>\n",
              "      <td>3400</td>\n",
              "      <td>undisputed testimony reflects appellant drivin...</td>\n",
              "      <td>Facts</td>\n",
              "    </tr>\n",
              "    <tr>\n",
              "      <th>103</th>\n",
              "      <td>2072</td>\n",
              "      <td>appellant testify offer evidence behalf</td>\n",
              "      <td>Facts</td>\n",
              "    </tr>\n",
              "    <tr>\n",
              "      <th>104</th>\n",
              "      <td>517</td>\n",
              "      <td>56 uniform act regulating traffic highway gist...</td>\n",
              "      <td>Facts</td>\n",
              "    </tr>\n",
              "    <tr>\n",
              "      <th>105</th>\n",
              "      <td>906</td>\n",
              "      <td>agreed accompany gave pawn ticket money reclai...</td>\n",
              "      <td>Facts</td>\n",
              "    </tr>\n",
              "  </tbody>\n",
              "</table>\n",
              "</div>"
            ],
            "text/plain": [
              "     Unnamed: 0                                           Sentence Target\n",
              "101        1207  examination occurred night middle may testifie...  Facts\n",
              "102        3400  undisputed testimony reflects appellant drivin...  Facts\n",
              "103        2072            appellant testify offer evidence behalf  Facts\n",
              "104         517  56 uniform act regulating traffic highway gist...  Facts\n",
              "105         906  agreed accompany gave pawn ticket money reclai...  Facts"
            ]
          },
          "metadata": {
            "tags": []
          },
          "execution_count": 185
        }
      ]
    },
    {
      "cell_type": "code",
      "metadata": {
        "colab": {
          "base_uri": "https://localhost:8080/"
        },
        "id": "NxclooBx4BZC",
        "outputId": "474d7339-1716-488f-bc5f-3b9aea633608"
      },
      "source": [
        "frame_2 = [train_1,unlabel_2]\r\n",
        "train_2 = pd.concat(frame_2)\r\n",
        "len(train_2)"
      ],
      "execution_count": 186,
      "outputs": [
        {
          "output_type": "execute_result",
          "data": {
            "text/plain": [
              "3677"
            ]
          },
          "metadata": {
            "tags": []
          },
          "execution_count": 186
        }
      ]
    },
    {
      "cell_type": "code",
      "metadata": {
        "colab": {
          "base_uri": "https://localhost:8080/"
        },
        "id": "5BkYWivL83cu",
        "outputId": "921bb5f0-233e-4d47-9d13-7d5ba1cd9f92"
      },
      "source": [
        "x_train_2 = tfidf_vect.transform(train_2['Sentence'])\r\n",
        "X_train, x_val, Y_train, y_val = train_test_split(x_train_2,train_2['Target'],test_size=0.2,random_state=42)\r\n",
        "sgd = SGDClassifier(max_iter=1000, tol=1e-3)\r\n",
        "sgd.fit(X_train, Y_train)\r\n",
        "pred_sgd = sgd.predict(x_val)\r\n",
        "print('Accuracy %s' % accuracy_score(pred_sgd,y_val))\r\n",
        "print(classification_report(y_val,pred_sgd))"
      ],
      "execution_count": 188,
      "outputs": [
        {
          "output_type": "stream",
          "text": [
            "Accuracy 0.686141304347826\n",
            "                  precision    recall  f1-score   support\n",
            "\n",
            "        Analysis       0.55      0.53      0.54       102\n",
            "      Conclusion       0.67      0.59      0.62        41\n",
            "           Facts       0.77      0.87      0.82       383\n",
            "         Invalid       0.59      0.50      0.54       119\n",
            "           Issue       0.51      0.53      0.52        36\n",
            "Rule/Law/Holding       0.50      0.31      0.38        55\n",
            "\n",
            "        accuracy                           0.69       736\n",
            "       macro avg       0.60      0.55      0.57       736\n",
            "    weighted avg       0.67      0.69      0.68       736\n",
            "\n"
          ],
          "name": "stdout"
        }
      ]
    },
    {
      "cell_type": "code",
      "metadata": {
        "colab": {
          "base_uri": "https://localhost:8080/",
          "height": 296
        },
        "id": "sVXdrSsR9OZL",
        "outputId": "8c5676df-a015-49b8-daea-884a7e2e8782"
      },
      "source": [
        "x_un3 = tfidf_vect.transform(unlabel_3['Sentence'])\r\n",
        "x_un3.shape\r\n",
        "pred_unlabel_3 = sgd.predict(x_un3)\r\n",
        "unlabel_3['Target']=pred_unlabel_3\r\n",
        "unlabel_3.head()"
      ],
      "execution_count": 189,
      "outputs": [
        {
          "output_type": "stream",
          "text": [
            "/usr/local/lib/python3.6/dist-packages/ipykernel_launcher.py:4: SettingWithCopyWarning: \n",
            "A value is trying to be set on a copy of a slice from a DataFrame.\n",
            "Try using .loc[row_indexer,col_indexer] = value instead\n",
            "\n",
            "See the caveats in the documentation: https://pandas.pydata.org/pandas-docs/stable/user_guide/indexing.html#returning-a-view-versus-a-copy\n",
            "  after removing the cwd from sys.path.\n"
          ],
          "name": "stderr"
        },
        {
          "output_type": "execute_result",
          "data": {
            "text/html": [
              "<div>\n",
              "<style scoped>\n",
              "    .dataframe tbody tr th:only-of-type {\n",
              "        vertical-align: middle;\n",
              "    }\n",
              "\n",
              "    .dataframe tbody tr th {\n",
              "        vertical-align: top;\n",
              "    }\n",
              "\n",
              "    .dataframe thead th {\n",
              "        text-align: right;\n",
              "    }\n",
              "</style>\n",
              "<table border=\"1\" class=\"dataframe\">\n",
              "  <thead>\n",
              "    <tr style=\"text-align: right;\">\n",
              "      <th></th>\n",
              "      <th>Unnamed: 0</th>\n",
              "      <th>Sentence</th>\n",
              "      <th>Target</th>\n",
              "    </tr>\n",
              "  </thead>\n",
              "  <tbody>\n",
              "    <tr>\n",
              "      <th>201</th>\n",
              "      <td>1882</td>\n",
              "      <td>find evidence amply sufficient sustain juryâs ...</td>\n",
              "      <td>Analysis</td>\n",
              "    </tr>\n",
              "    <tr>\n",
              "      <th>202</th>\n",
              "      <td>964</td>\n",
              "      <td>action show thatâ</td>\n",
              "      <td>Analysis</td>\n",
              "    </tr>\n",
              "    <tr>\n",
              "      <th>203</th>\n",
              "      <td>1417</td>\n",
              "      <td>certification attending physician shown filed ...</td>\n",
              "      <td>Facts</td>\n",
              "    </tr>\n",
              "    <tr>\n",
              "      <th>204</th>\n",
              "      <td>2932</td>\n",
              "      <td>testified agent bland first left automobile wa...</td>\n",
              "      <td>Facts</td>\n",
              "    </tr>\n",
              "    <tr>\n",
              "      <th>205</th>\n",
              "      <td>1584</td>\n",
              "      <td>officer testified could smell odor alcohol app...</td>\n",
              "      <td>Facts</td>\n",
              "    </tr>\n",
              "  </tbody>\n",
              "</table>\n",
              "</div>"
            ],
            "text/plain": [
              "     Unnamed: 0                                           Sentence    Target\n",
              "201        1882  find evidence amply sufficient sustain juryâs ...  Analysis\n",
              "202         964                                  action show thatâ  Analysis\n",
              "203        1417  certification attending physician shown filed ...     Facts\n",
              "204        2932  testified agent bland first left automobile wa...     Facts\n",
              "205        1584  officer testified could smell odor alcohol app...     Facts"
            ]
          },
          "metadata": {
            "tags": []
          },
          "execution_count": 189
        }
      ]
    },
    {
      "cell_type": "code",
      "metadata": {
        "colab": {
          "base_uri": "https://localhost:8080/"
        },
        "id": "T7yXXS789pL4",
        "outputId": "2c1f1fb8-eb81-47ce-dee2-fe142b0d4933"
      },
      "source": [
        "frame_3 = [train_2,unlabel_3]\r\n",
        "train_3 = pd.concat(frame_3)\r\n",
        "len(train_3)\r\n",
        "x_train_3 = tfidf_vect.transform(train_3['Sentence'])\r\n",
        "X_train, x_val, Y_train, y_val = train_test_split(x_train_3,train_3['Target'],test_size=0.25,random_state=42)\r\n",
        "sgd = SGDClassifier(max_iter=1000, tol=1e-3)\r\n",
        "sgd.fit(X_train, Y_train)\r\n",
        "pred_sgd = sgd.predict(x_val)\r\n",
        "print('Accuracy %s' % accuracy_score(pred_sgd,y_val))\r\n",
        "print(classification_report(y_val,pred_sgd))"
      ],
      "execution_count": 191,
      "outputs": [
        {
          "output_type": "stream",
          "text": [
            "Accuracy 0.6857142857142857\n",
            "                  precision    recall  f1-score   support\n",
            "\n",
            "        Analysis       0.54      0.44      0.48       139\n",
            "      Conclusion       0.80      0.50      0.62        56\n",
            "           Facts       0.78      0.89      0.83       498\n",
            "         Invalid       0.48      0.50      0.49       129\n",
            "           Issue       0.59      0.53      0.56        55\n",
            "Rule/Law/Holding       0.52      0.35      0.42        68\n",
            "\n",
            "        accuracy                           0.69       945\n",
            "       macro avg       0.62      0.53      0.57       945\n",
            "    weighted avg       0.67      0.69      0.67       945\n",
            "\n"
          ],
          "name": "stdout"
        }
      ]
    },
    {
      "cell_type": "code",
      "metadata": {
        "colab": {
          "base_uri": "https://localhost:8080/",
          "height": 296
        },
        "id": "h_8qlMM4-335",
        "outputId": "c4d5b09a-1ad1-4245-cd97-390e156cec60"
      },
      "source": [
        "x_un4 = tfidf_vect.transform(unlabel_4['Sentence'])\r\n",
        "x_un4.shape\r\n",
        "pred_unlabel_4 = sgd.predict(x_un4)\r\n",
        "unlabel_4['Target']=pred_unlabel_4\r\n",
        "unlabel_4.head()"
      ],
      "execution_count": 192,
      "outputs": [
        {
          "output_type": "stream",
          "text": [
            "/usr/local/lib/python3.6/dist-packages/ipykernel_launcher.py:4: SettingWithCopyWarning: \n",
            "A value is trying to be set on a copy of a slice from a DataFrame.\n",
            "Try using .loc[row_indexer,col_indexer] = value instead\n",
            "\n",
            "See the caveats in the documentation: https://pandas.pydata.org/pandas-docs/stable/user_guide/indexing.html#returning-a-view-versus-a-copy\n",
            "  after removing the cwd from sys.path.\n"
          ],
          "name": "stderr"
        },
        {
          "output_type": "execute_result",
          "data": {
            "text/html": [
              "<div>\n",
              "<style scoped>\n",
              "    .dataframe tbody tr th:only-of-type {\n",
              "        vertical-align: middle;\n",
              "    }\n",
              "\n",
              "    .dataframe tbody tr th {\n",
              "        vertical-align: top;\n",
              "    }\n",
              "\n",
              "    .dataframe thead th {\n",
              "        text-align: right;\n",
              "    }\n",
              "</style>\n",
              "<table border=\"1\" class=\"dataframe\">\n",
              "  <thead>\n",
              "    <tr style=\"text-align: right;\">\n",
              "      <th></th>\n",
              "      <th>Unnamed: 0</th>\n",
              "      <th>Sentence</th>\n",
              "      <th>Target</th>\n",
              "    </tr>\n",
              "  </thead>\n",
              "  <tbody>\n",
              "    <tr>\n",
              "      <th>301</th>\n",
              "      <td>266</td>\n",
              "      <td>section 6 pl</td>\n",
              "      <td>Invalid</td>\n",
              "    </tr>\n",
              "    <tr>\n",
              "      <th>302</th>\n",
              "      <td>3469</td>\n",
              "      <td>amended answer appellant alleged bond invalid ...</td>\n",
              "      <td>Facts</td>\n",
              "    </tr>\n",
              "    <tr>\n",
              "      <th>303</th>\n",
              "      <td>1471</td>\n",
              "      <td>evidence sufficient support conviction appella...</td>\n",
              "      <td>Analysis</td>\n",
              "    </tr>\n",
              "    <tr>\n",
              "      <th>304</th>\n",
              "      <td>1990</td>\n",
              "      <td>case cited note 19</td>\n",
              "      <td>Invalid</td>\n",
              "    </tr>\n",
              "    <tr>\n",
              "      <th>305</th>\n",
              "      <td>2757</td>\n",
              "      <td>july 8 1960 order entered revoking said probat...</td>\n",
              "      <td>Facts</td>\n",
              "    </tr>\n",
              "  </tbody>\n",
              "</table>\n",
              "</div>"
            ],
            "text/plain": [
              "     Unnamed: 0                                           Sentence    Target\n",
              "301         266                                       section 6 pl   Invalid\n",
              "302        3469  amended answer appellant alleged bond invalid ...     Facts\n",
              "303        1471  evidence sufficient support conviction appella...  Analysis\n",
              "304        1990                                 case cited note 19   Invalid\n",
              "305        2757  july 8 1960 order entered revoking said probat...     Facts"
            ]
          },
          "metadata": {
            "tags": []
          },
          "execution_count": 192
        }
      ]
    },
    {
      "cell_type": "code",
      "metadata": {
        "colab": {
          "base_uri": "https://localhost:8080/"
        },
        "id": "Oek9wXof_KUf",
        "outputId": "b36e40ba-5ac3-4a6d-c980-676868a6e034"
      },
      "source": [
        "frame_4 = [train_3,unlabel_4]\r\n",
        "train_4 = pd.concat(frame_4)\r\n",
        "len(train_4)\r\n",
        "x_train_4 = tfidf_vect.transform(train_4['Sentence'])\r\n",
        "X_train, x_val, Y_train, y_val = train_test_split(x_train_4,train_4['Target'],test_size=0.2,random_state=42)\r\n",
        "sgd = SGDClassifier(max_iter=1000, tol=1e-3)\r\n",
        "sgd.fit(X_train, Y_train)\r\n",
        "pred_sgd = sgd.predict(x_val)\r\n",
        "print('Accuracy %s' % accuracy_score(pred_sgd,y_val))\r\n",
        "print(classification_report(y_val,pred_sgd))"
      ],
      "execution_count": 193,
      "outputs": [
        {
          "output_type": "stream",
          "text": [
            "Accuracy 0.6894329896907216\n",
            "                  precision    recall  f1-score   support\n",
            "\n",
            "        Analysis       0.52      0.50      0.51       106\n",
            "      Conclusion       0.69      0.48      0.56        46\n",
            "           Facts       0.79      0.88      0.83       403\n",
            "         Invalid       0.58      0.56      0.57       121\n",
            "           Issue       0.53      0.41      0.47        41\n",
            "Rule/Law/Holding       0.50      0.37      0.43        59\n",
            "\n",
            "        accuracy                           0.69       776\n",
            "       macro avg       0.60      0.53      0.56       776\n",
            "    weighted avg       0.68      0.69      0.68       776\n",
            "\n"
          ],
          "name": "stdout"
        }
      ]
    },
    {
      "cell_type": "code",
      "metadata": {
        "colab": {
          "base_uri": "https://localhost:8080/",
          "height": 296
        },
        "id": "3YkgbXLh_kk5",
        "outputId": "9001baf1-2af1-4dcb-bc75-6a285d9d7d43"
      },
      "source": [
        "x_un5 = tfidf_vect.transform(unlabel_5['Sentence'])\r\n",
        "x_un5.shape\r\n",
        "pred_unlabel_5 = sgd.predict(x_un5)\r\n",
        "unlabel_5['Target']=pred_unlabel_5\r\n",
        "unlabel_5.head()"
      ],
      "execution_count": 194,
      "outputs": [
        {
          "output_type": "stream",
          "text": [
            "/usr/local/lib/python3.6/dist-packages/ipykernel_launcher.py:4: SettingWithCopyWarning: \n",
            "A value is trying to be set on a copy of a slice from a DataFrame.\n",
            "Try using .loc[row_indexer,col_indexer] = value instead\n",
            "\n",
            "See the caveats in the documentation: https://pandas.pydata.org/pandas-docs/stable/user_guide/indexing.html#returning-a-view-versus-a-copy\n",
            "  after removing the cwd from sys.path.\n"
          ],
          "name": "stderr"
        },
        {
          "output_type": "execute_result",
          "data": {
            "text/html": [
              "<div>\n",
              "<style scoped>\n",
              "    .dataframe tbody tr th:only-of-type {\n",
              "        vertical-align: middle;\n",
              "    }\n",
              "\n",
              "    .dataframe tbody tr th {\n",
              "        vertical-align: top;\n",
              "    }\n",
              "\n",
              "    .dataframe thead th {\n",
              "        text-align: right;\n",
              "    }\n",
              "</style>\n",
              "<table border=\"1\" class=\"dataframe\">\n",
              "  <thead>\n",
              "    <tr style=\"text-align: right;\">\n",
              "      <th></th>\n",
              "      <th>Unnamed: 0</th>\n",
              "      <th>Sentence</th>\n",
              "      <th>Target</th>\n",
              "    </tr>\n",
              "  </thead>\n",
              "  <tbody>\n",
              "    <tr>\n",
              "      <th>401</th>\n",
              "      <td>2979</td>\n",
              "      <td>overrule appellantâs contention court erred pe...</td>\n",
              "      <td>Conclusion</td>\n",
              "    </tr>\n",
              "    <tr>\n",
              "      <th>402</th>\n",
              "      <td>2135</td>\n",
              "      <td>state regarded authority case</td>\n",
              "      <td>Analysis</td>\n",
              "    </tr>\n",
              "    <tr>\n",
              "      <th>403</th>\n",
              "      <td>1591</td>\n",
              "      <td>testimony adduced appellant mother lillie mae ...</td>\n",
              "      <td>Issue</td>\n",
              "    </tr>\n",
              "    <tr>\n",
              "      <th>404</th>\n",
              "      <td>658</td>\n",
              "      <td>appellant needle mark inside left elbow</td>\n",
              "      <td>Facts</td>\n",
              "    </tr>\n",
              "    <tr>\n",
              "      <th>405</th>\n",
              "      <td>2562</td>\n",
              "      <td>analysis content 3 capsule chemist kenneth and...</td>\n",
              "      <td>Facts</td>\n",
              "    </tr>\n",
              "  </tbody>\n",
              "</table>\n",
              "</div>"
            ],
            "text/plain": [
              "     Unnamed: 0                                           Sentence      Target\n",
              "401        2979  overrule appellantâs contention court erred pe...  Conclusion\n",
              "402        2135                      state regarded authority case    Analysis\n",
              "403        1591  testimony adduced appellant mother lillie mae ...       Issue\n",
              "404         658            appellant needle mark inside left elbow       Facts\n",
              "405        2562  analysis content 3 capsule chemist kenneth and...       Facts"
            ]
          },
          "metadata": {
            "tags": []
          },
          "execution_count": 194
        }
      ]
    },
    {
      "cell_type": "code",
      "metadata": {
        "colab": {
          "base_uri": "https://localhost:8080/"
        },
        "id": "1q4fTBur_1k1",
        "outputId": "9cb22514-88a9-42c9-a193-4b7c1f3f37e8"
      },
      "source": [
        "frame_5 = [train_4,unlabel_5]\r\n",
        "train_5 = pd.concat(frame_5)\r\n",
        "len(train_5)\r\n",
        "x_train_5 = tfidf_vect.transform(train_5['Sentence'])\r\n",
        "X_train, x_val, Y_train, y_val = train_test_split(x_train_5,train_5['Target'],test_size=0.18,random_state=2)\r\n",
        "sgd = SGDClassifier(max_iter=1000, tol=1e-3)\r\n",
        "sgd.fit(X_train, Y_train)\r\n",
        "pred_sgd = sgd.predict(x_val)\r\n",
        "print('Accuracy %s' % accuracy_score(pred_sgd,y_val))\r\n",
        "print(classification_report(y_val,pred_sgd))"
      ],
      "execution_count": 201,
      "outputs": [
        {
          "output_type": "stream",
          "text": [
            "Accuracy 0.7263888888888889\n",
            "                  precision    recall  f1-score   support\n",
            "\n",
            "        Analysis       0.58      0.58      0.58       105\n",
            "      Conclusion       0.69      0.54      0.61        37\n",
            "           Facts       0.81      0.89      0.85       384\n",
            "         Invalid       0.59      0.58      0.59        98\n",
            "           Issue       0.66      0.52      0.58        44\n",
            "Rule/Law/Holding       0.65      0.38      0.48        52\n",
            "\n",
            "        accuracy                           0.73       720\n",
            "       macro avg       0.66      0.58      0.61       720\n",
            "    weighted avg       0.72      0.73      0.72       720\n",
            "\n"
          ],
          "name": "stdout"
        }
      ]
    },
    {
      "cell_type": "code",
      "metadata": {
        "colab": {
          "base_uri": "https://localhost:8080/"
        },
        "id": "7hkJ3SSd3L8L",
        "outputId": "f2f9d700-c558-4ac1-b025-f34103edd99d"
      },
      "source": [
        "t_p = tfidf_vect.transform(test['Sentence'])\r\n",
        "test_pred = sgd.predict(t_p)\r\n",
        "print('Accuracy %s' % accuracy_score(test_pred,test['Target']))"
      ],
      "execution_count": 202,
      "outputs": [
        {
          "output_type": "stream",
          "text": [
            "Accuracy 0.6295585412667947\n"
          ],
          "name": "stdout"
        }
      ]
    }
  ]
}