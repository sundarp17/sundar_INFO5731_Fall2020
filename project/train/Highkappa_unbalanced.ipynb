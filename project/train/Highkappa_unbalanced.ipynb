{
  "nbformat": 4,
  "nbformat_minor": 0,
  "metadata": {
    "colab": {
      "name": "Highkappa_unbalanced.ipynb",
      "provenance": [],
      "authorship_tag": "ABX9TyPw9RiCZeV8Ge2vx9yG3DtO",
      "include_colab_link": true
    },
    "kernelspec": {
      "name": "python3",
      "display_name": "Python 3"
    }
  },
  "cells": [
    {
      "cell_type": "markdown",
      "metadata": {
        "id": "view-in-github",
        "colab_type": "text"
      },
      "source": [
        "<a href=\"https://colab.research.google.com/github/sundarp17/sundar_info5731_fall2020/blob/master/project/train/Highkappa_unbalanced.ipynb\" target=\"_parent\"><img src=\"https://colab.research.google.com/assets/colab-badge.svg\" alt=\"Open In Colab\"/></a>"
      ]
    },
    {
      "cell_type": "code",
      "metadata": {
        "colab": {
          "base_uri": "https://localhost:8080/",
          "height": 195
        },
        "id": "qBBpKXkQSzQM",
        "outputId": "87a009ac-2845-4a54-bb14-9bc7265fbce0"
      },
      "source": [
        "import pandas as pd\n",
        "\n",
        "train_kappa = pd.read_csv(r'/content/train_data_highkappa.csv')\n",
        "train_kappa.head()"
      ],
      "execution_count": 1,
      "outputs": [
        {
          "output_type": "execute_result",
          "data": {
            "text/html": [
              "<div>\n",
              "<style scoped>\n",
              "    .dataframe tbody tr th:only-of-type {\n",
              "        vertical-align: middle;\n",
              "    }\n",
              "\n",
              "    .dataframe tbody tr th {\n",
              "        vertical-align: top;\n",
              "    }\n",
              "\n",
              "    .dataframe thead th {\n",
              "        text-align: right;\n",
              "    }\n",
              "</style>\n",
              "<table border=\"1\" class=\"dataframe\">\n",
              "  <thead>\n",
              "    <tr style=\"text-align: right;\">\n",
              "      <th></th>\n",
              "      <th>Unnamed: 0</th>\n",
              "      <th>Sentence</th>\n",
              "      <th>Target</th>\n",
              "    </tr>\n",
              "  </thead>\n",
              "  <tbody>\n",
              "    <tr>\n",
              "      <th>0</th>\n",
              "      <td>659</td>\n",
              "      <td>Appellant had stated to the officers that she ...</td>\n",
              "      <td>Invalid</td>\n",
              "    </tr>\n",
              "    <tr>\n",
              "      <th>1</th>\n",
              "      <td>3456</td>\n",
              "      <td>We shall discuss the facts more fully in conne...</td>\n",
              "      <td>Others</td>\n",
              "    </tr>\n",
              "    <tr>\n",
              "      <th>2</th>\n",
              "      <td>2043</td>\n",
              "      <td>â€œPerjury is a false statement, either writte...</td>\n",
              "      <td>Invalid</td>\n",
              "    </tr>\n",
              "    <tr>\n",
              "      <th>3</th>\n",
              "      <td>3344</td>\n",
              "      <td>The offense is felony theft by false pretext; ...</td>\n",
              "      <td>Issue</td>\n",
              "    </tr>\n",
              "    <tr>\n",
              "      <th>4</th>\n",
              "      <td>3231</td>\n",
              "      <td>Numerous contentions urging the commission of ...</td>\n",
              "      <td>Issue</td>\n",
              "    </tr>\n",
              "  </tbody>\n",
              "</table>\n",
              "</div>"
            ],
            "text/plain": [
              "   Unnamed: 0                                           Sentence   Target\n",
              "0         659  Appellant had stated to the officers that she ...  Invalid\n",
              "1        3456  We shall discuss the facts more fully in conne...   Others\n",
              "2        2043  â€œPerjury is a false statement, either writte...  Invalid\n",
              "3        3344  The offense is felony theft by false pretext; ...    Issue\n",
              "4        3231  Numerous contentions urging the commission of ...    Issue"
            ]
          },
          "metadata": {
            "tags": []
          },
          "execution_count": 1
        }
      ]
    },
    {
      "cell_type": "code",
      "metadata": {
        "colab": {
          "base_uri": "https://localhost:8080/"
        },
        "id": "5JMNNECeXLoV",
        "outputId": "5a4202fb-aada-4e49-ad52-7906e48427b6"
      },
      "source": [
        "train_kappa['Target'].unique()"
      ],
      "execution_count": 2,
      "outputs": [
        {
          "output_type": "execute_result",
          "data": {
            "text/plain": [
              "array(['Invalid', 'Others', 'Issue', 'Analysis', 'Facts', 'Conclusion',\n",
              "       'Rule/Law/Holding'], dtype=object)"
            ]
          },
          "metadata": {
            "tags": []
          },
          "execution_count": 2
        }
      ]
    },
    {
      "cell_type": "code",
      "metadata": {
        "colab": {
          "base_uri": "https://localhost:8080/"
        },
        "id": "T5TRUVelXT-C",
        "outputId": "dac5d6fa-b999-4557-984a-964d3c71cdaf"
      },
      "source": [
        "train_kappa['Target']=train_kappa['Target'].replace(['Others'],'Invalid')\n",
        "train_kappa['Target'].unique()"
      ],
      "execution_count": 3,
      "outputs": [
        {
          "output_type": "execute_result",
          "data": {
            "text/plain": [
              "array(['Invalid', 'Issue', 'Analysis', 'Facts', 'Conclusion',\n",
              "       'Rule/Law/Holding'], dtype=object)"
            ]
          },
          "metadata": {
            "tags": []
          },
          "execution_count": 3
        }
      ]
    },
    {
      "cell_type": "code",
      "metadata": {
        "colab": {
          "base_uri": "https://localhost:8080/"
        },
        "id": "IIHQOLn7XvLo",
        "outputId": "41495753-57fe-44c5-e1b0-2f7623f8b1f8"
      },
      "source": [
        "#cleaning\n",
        "import nltk\n",
        "import re\n",
        "import string\n",
        "nltk.download('stopwords')\n",
        "nltk.download('wordnet')\n",
        "stopword=nltk.corpus.stopwords.words('english')\n",
        "from nltk.stem import WordNetLemmatizer\n",
        "wl= WordNetLemmatizer()\n",
        "\n",
        "def clean_text(text):\n",
        "  text=\"\".join([word.lower() for word in text if word not in string.punctuation])\n",
        "  tokens = re.split('\\W+',text)\n",
        "  text = [wl.lemmatize(word) for word in tokens if word not in stopword]\n",
        "  return text"
      ],
      "execution_count": 4,
      "outputs": [
        {
          "output_type": "stream",
          "text": [
            "[nltk_data] Downloading package stopwords to /root/nltk_data...\n",
            "[nltk_data]   Unzipping corpora/stopwords.zip.\n",
            "[nltk_data] Downloading package wordnet to /root/nltk_data...\n",
            "[nltk_data]   Unzipping corpora/wordnet.zip.\n"
          ],
          "name": "stdout"
        }
      ]
    },
    {
      "cell_type": "code",
      "metadata": {
        "colab": {
          "base_uri": "https://localhost:8080/"
        },
        "id": "z_QmpPopYLBB",
        "outputId": "232d1e00-fefe-4aea-a8c4-07b1784cf242"
      },
      "source": [
        "from sklearn.feature_extraction.text import TfidfVectorizer\n",
        "\n",
        "tfidf_vect = TfidfVectorizer(analyzer = clean_text)\n",
        "X_tfidf = tfidf_vect.fit_transform(train_kappa['Sentence'])\n",
        "print(X_tfidf.shape)"
      ],
      "execution_count": 5,
      "outputs": [
        {
          "output_type": "stream",
          "text": [
            "(2951, 5835)\n"
          ],
          "name": "stdout"
        }
      ]
    },
    {
      "cell_type": "code",
      "metadata": {
        "colab": {
          "base_uri": "https://localhost:8080/"
        },
        "id": "CuZUfqrnYTvM",
        "outputId": "1b00afbf-047a-4b2f-df21-a20f60dfd158"
      },
      "source": [
        "#using smote and stochastic gradient boosting\n",
        "from sklearn.model_selection import train_test_split\n",
        "from sklearn.linear_model import SGDClassifier\n",
        "from sklearn.metrics import accuracy_score\n",
        "from sklearn.metrics import classification_report\n",
        "\n",
        "\n",
        "X_train, x_val, Y_train, y_val = train_test_split(X_tfidf,train_kappa['Target'],test_size=0.26,random_state=42)\n",
        "sgd = SGDClassifier(max_iter=1000, tol=1e-3)\n",
        "sgd.fit(X_train, Y_train)\n",
        "pred_sgd = sgd.predict(x_val)\n",
        "print('Accuracy %s' % accuracy_score(pred_sgd,y_val))\n",
        "print(classification_report(y_val,pred_sgd))"
      ],
      "execution_count": 13,
      "outputs": [
        {
          "output_type": "stream",
          "text": [
            "Accuracy 0.6692708333333334\n",
            "                  precision    recall  f1-score   support\n",
            "\n",
            "        Analysis       0.51      0.49      0.50       104\n",
            "      Conclusion       0.55      0.51      0.53        41\n",
            "           Facts       0.79      0.86      0.82       416\n",
            "         Invalid       0.47      0.43      0.45       109\n",
            "           Issue       0.66      0.38      0.48        55\n",
            "Rule/Law/Holding       0.34      0.35      0.34        43\n",
            "\n",
            "        accuracy                           0.67       768\n",
            "       macro avg       0.55      0.50      0.52       768\n",
            "    weighted avg       0.66      0.67      0.66       768\n",
            "\n"
          ],
          "name": "stdout"
        }
      ]
    },
    {
      "cell_type": "code",
      "metadata": {
        "colab": {
          "base_uri": "https://localhost:8080/"
        },
        "id": "Xtgr06WzdPFW",
        "outputId": "a52fa871-dee6-4b81-8d9e-8b470371d040"
      },
      "source": [
        "def frequency_table(data):\n",
        "    frequencytable = {}\n",
        "    for key in data:\n",
        "        if key in frequencytable:\n",
        "            frequencytable[key] += 1\n",
        "        else:\n",
        "            frequencytable[key] = 1\n",
        "    return frequencytable\n",
        "\n",
        "frequency_table(train_kappa['Target'])\n",
        "\n"
      ],
      "execution_count": 14,
      "outputs": [
        {
          "output_type": "execute_result",
          "data": {
            "text/plain": [
              "{'Analysis': 439,\n",
              " 'Conclusion': 147,\n",
              " 'Facts': 1510,\n",
              " 'Invalid': 475,\n",
              " 'Issue': 190,\n",
              " 'Rule/Law/Holding': 190}"
            ]
          },
          "metadata": {
            "tags": []
          },
          "execution_count": 14
        }
      ]
    },
    {
      "cell_type": "code",
      "metadata": {
        "colab": {
          "base_uri": "https://localhost:8080/",
          "height": 195
        },
        "id": "e9LreUVIz6Hu",
        "outputId": "3cc8f999-9f89-4baa-8f99-8ebca901777b"
      },
      "source": [
        "test = pd.read_csv(r'/content/test_data.csv')\r\n",
        "test.head()"
      ],
      "execution_count": 16,
      "outputs": [
        {
          "output_type": "execute_result",
          "data": {
            "text/html": [
              "<div>\n",
              "<style scoped>\n",
              "    .dataframe tbody tr th:only-of-type {\n",
              "        vertical-align: middle;\n",
              "    }\n",
              "\n",
              "    .dataframe tbody tr th {\n",
              "        vertical-align: top;\n",
              "    }\n",
              "\n",
              "    .dataframe thead th {\n",
              "        text-align: right;\n",
              "    }\n",
              "</style>\n",
              "<table border=\"1\" class=\"dataframe\">\n",
              "  <thead>\n",
              "    <tr style=\"text-align: right;\">\n",
              "      <th></th>\n",
              "      <th>Unnamed: 0</th>\n",
              "      <th>Sentence</th>\n",
              "      <th>Target</th>\n",
              "    </tr>\n",
              "  </thead>\n",
              "  <tbody>\n",
              "    <tr>\n",
              "      <th>0</th>\n",
              "      <td>2173</td>\n",
              "      <td>Darden Sr. testified â€œI saw he was staggerin...</td>\n",
              "      <td>Facts</td>\n",
              "    </tr>\n",
              "    <tr>\n",
              "      <th>1</th>\n",
              "      <td>466</td>\n",
              "      <td>Additional moral justification may have been d...</td>\n",
              "      <td>Analysis</td>\n",
              "    </tr>\n",
              "    <tr>\n",
              "      <th>2</th>\n",
              "      <td>525</td>\n",
              "      <td>85, 22 S.W. 140, wherein the accused was actin...</td>\n",
              "      <td>Rule/Law/Holding</td>\n",
              "    </tr>\n",
              "    <tr>\n",
              "      <th>3</th>\n",
              "      <td>2199</td>\n",
              "      <td>Under a proper instruction from the court on m...</td>\n",
              "      <td>Facts</td>\n",
              "    </tr>\n",
              "    <tr>\n",
              "      <th>4</th>\n",
              "      <td>79</td>\n",
              "      <td>He is eligible for leaves to renew contacts wi...</td>\n",
              "      <td>Facts</td>\n",
              "    </tr>\n",
              "  </tbody>\n",
              "</table>\n",
              "</div>"
            ],
            "text/plain": [
              "   Unnamed: 0  ...            Target\n",
              "0        2173  ...             Facts\n",
              "1         466  ...          Analysis\n",
              "2         525  ...  Rule/Law/Holding\n",
              "3        2199  ...             Facts\n",
              "4          79  ...             Facts\n",
              "\n",
              "[5 rows x 3 columns]"
            ]
          },
          "metadata": {
            "tags": []
          },
          "execution_count": 16
        }
      ]
    },
    {
      "cell_type": "code",
      "metadata": {
        "id": "wcmnUsEz0bpM"
      },
      "source": [
        "test['Sentence'] = test['Sentence'].apply(lambda x: \" \".join(x.lower() for x in str(x).split()))\r\n",
        "test['Sentence'] = test['Sentence'].str.replace('[^\\w\\s]','')\r\n",
        "from nltk.corpus import stopwords\r\n",
        "words = stopwords.words('english')\r\n",
        "test['Sentence'] = test['Sentence'].apply(lambda x: \" \".join(x for x in x.split() if x not in words))"
      ],
      "execution_count": 17,
      "outputs": []
    },
    {
      "cell_type": "code",
      "metadata": {
        "colab": {
          "base_uri": "https://localhost:8080/"
        },
        "id": "IsHvHbib03-n",
        "outputId": "7cd9b79b-3d44-446c-9987-842c8639b7a1"
      },
      "source": [
        "from textblob import TextBlob\r\n",
        "from textblob import Word\r\n",
        "nltk.download('wordnet')\r\n",
        "nltk.download('punkt')\r\n",
        "test['Sentence'] = test['Sentence'].apply(lambda x: TextBlob(x).words)\r\n",
        "test['Sentence'] = test['Sentence'].apply(lambda x: \" \".join([Word(word).lemmatize() for word in x]))"
      ],
      "execution_count": 18,
      "outputs": [
        {
          "output_type": "stream",
          "text": [
            "[nltk_data] Downloading package wordnet to /root/nltk_data...\n",
            "[nltk_data]   Package wordnet is already up-to-date!\n",
            "[nltk_data] Downloading package punkt to /root/nltk_data...\n",
            "[nltk_data]   Unzipping tokenizers/punkt.zip.\n"
          ],
          "name": "stdout"
        }
      ]
    },
    {
      "cell_type": "code",
      "metadata": {
        "colab": {
          "base_uri": "https://localhost:8080/"
        },
        "id": "iWDvQ3GN1E6h",
        "outputId": "7a054750-ee63-4d67-af14-7e2145e0d11b"
      },
      "source": [
        "test['Sentence'].head()"
      ],
      "execution_count": 19,
      "outputs": [
        {
          "output_type": "execute_result",
          "data": {
            "text/plain": [
              "0    darden sr testified âœi saw staggering â prett...\n",
              "1    additional moral justification may due complai...\n",
              "2    85 22 sw 140 wherein accused acting upon advic...\n",
              "3    proper instruction court murder malice murder ...\n",
              "4                   eligible leaf renew contact family\n",
              "Name: Sentence, dtype: object"
            ]
          },
          "metadata": {
            "tags": []
          },
          "execution_count": 19
        }
      ]
    },
    {
      "cell_type": "code",
      "metadata": {
        "colab": {
          "base_uri": "https://localhost:8080/"
        },
        "id": "92S7Iw601JMO",
        "outputId": "90138558-ce03-4b01-b21c-66241c54c422"
      },
      "source": [
        "len(test['Sentence'])"
      ],
      "execution_count": 20,
      "outputs": [
        {
          "output_type": "execute_result",
          "data": {
            "text/plain": [
              "521"
            ]
          },
          "metadata": {
            "tags": []
          },
          "execution_count": 20
        }
      ]
    },
    {
      "cell_type": "code",
      "metadata": {
        "colab": {
          "base_uri": "https://localhost:8080/"
        },
        "id": "w0LqUlJs1Nix",
        "outputId": "4fa1dc49-a43e-4404-be49-95943ad4a3b9"
      },
      "source": [
        "unlabel_1 = test.loc[:100]\r\n",
        "print(\"length of unlabel_1\",len(unlabel_1))\r\n",
        "unlabel_2 = test.loc[101:200]\r\n",
        "print(\"length of unlabel_2\",len(unlabel_2))\r\n",
        "unlabel_3 = test.loc[201:300]\r\n",
        "print(\"length of unlabel_3\",len(unlabel_3))\r\n",
        "unlabel_4 = test.loc[301:400]\r\n",
        "print(\"length of unlabel_4\",len(unlabel_4))\r\n",
        "unlabel_5 = test.loc[401:]\r\n",
        "print(\"length of unlabel_5\",len(unlabel_5))"
      ],
      "execution_count": 21,
      "outputs": [
        {
          "output_type": "stream",
          "text": [
            "length of unlabel_1 101\n",
            "length of unlabel_2 100\n",
            "length of unlabel_3 100\n",
            "length of unlabel_4 100\n",
            "length of unlabel_5 120\n"
          ],
          "name": "stdout"
        }
      ]
    },
    {
      "cell_type": "code",
      "metadata": {
        "colab": {
          "base_uri": "https://localhost:8080/",
          "height": 296
        },
        "id": "8QS4Ihxv1jRn",
        "outputId": "c34fa165-3d06-406c-8033-ad8aef2cdc9c"
      },
      "source": [
        "x_un1 = tfidf_vect.transform(unlabel_1['Sentence'])\r\n",
        "pred_unlabel_1 = sgd.predict(x_un1)\r\n",
        "unlabel_1['Predicted']=pred_unlabel_1\r\n",
        "unlabel_1.head()"
      ],
      "execution_count": 22,
      "outputs": [
        {
          "output_type": "stream",
          "text": [
            "/usr/local/lib/python3.6/dist-packages/ipykernel_launcher.py:3: SettingWithCopyWarning: \n",
            "A value is trying to be set on a copy of a slice from a DataFrame.\n",
            "Try using .loc[row_indexer,col_indexer] = value instead\n",
            "\n",
            "See the caveats in the documentation: https://pandas.pydata.org/pandas-docs/stable/user_guide/indexing.html#returning-a-view-versus-a-copy\n",
            "  This is separate from the ipykernel package so we can avoid doing imports until\n"
          ],
          "name": "stderr"
        },
        {
          "output_type": "execute_result",
          "data": {
            "text/html": [
              "<div>\n",
              "<style scoped>\n",
              "    .dataframe tbody tr th:only-of-type {\n",
              "        vertical-align: middle;\n",
              "    }\n",
              "\n",
              "    .dataframe tbody tr th {\n",
              "        vertical-align: top;\n",
              "    }\n",
              "\n",
              "    .dataframe thead th {\n",
              "        text-align: right;\n",
              "    }\n",
              "</style>\n",
              "<table border=\"1\" class=\"dataframe\">\n",
              "  <thead>\n",
              "    <tr style=\"text-align: right;\">\n",
              "      <th></th>\n",
              "      <th>Unnamed: 0</th>\n",
              "      <th>Sentence</th>\n",
              "      <th>Target</th>\n",
              "      <th>Predicted</th>\n",
              "    </tr>\n",
              "  </thead>\n",
              "  <tbody>\n",
              "    <tr>\n",
              "      <th>0</th>\n",
              "      <td>2173</td>\n",
              "      <td>darden sr testified âœi saw staggering â prett...</td>\n",
              "      <td>Facts</td>\n",
              "      <td>Facts</td>\n",
              "    </tr>\n",
              "    <tr>\n",
              "      <th>1</th>\n",
              "      <td>466</td>\n",
              "      <td>additional moral justification may due complai...</td>\n",
              "      <td>Analysis</td>\n",
              "      <td>Facts</td>\n",
              "    </tr>\n",
              "    <tr>\n",
              "      <th>2</th>\n",
              "      <td>525</td>\n",
              "      <td>85 22 sw 140 wherein accused acting upon advic...</td>\n",
              "      <td>Rule/Law/Holding</td>\n",
              "      <td>Invalid</td>\n",
              "    </tr>\n",
              "    <tr>\n",
              "      <th>3</th>\n",
              "      <td>2199</td>\n",
              "      <td>proper instruction court murder malice murder ...</td>\n",
              "      <td>Facts</td>\n",
              "      <td>Facts</td>\n",
              "    </tr>\n",
              "    <tr>\n",
              "      <th>4</th>\n",
              "      <td>79</td>\n",
              "      <td>eligible leaf renew contact family</td>\n",
              "      <td>Facts</td>\n",
              "      <td>Facts</td>\n",
              "    </tr>\n",
              "  </tbody>\n",
              "</table>\n",
              "</div>"
            ],
            "text/plain": [
              "   Unnamed: 0  ... Predicted\n",
              "0        2173  ...     Facts\n",
              "1         466  ...     Facts\n",
              "2         525  ...   Invalid\n",
              "3        2199  ...     Facts\n",
              "4          79  ...     Facts\n",
              "\n",
              "[5 rows x 4 columns]"
            ]
          },
          "metadata": {
            "tags": []
          },
          "execution_count": 22
        }
      ]
    },
    {
      "cell_type": "code",
      "metadata": {
        "id": "HoXQKv1j2CFG"
      },
      "source": [
        "test_target = test['Target']"
      ],
      "execution_count": 23,
      "outputs": []
    },
    {
      "cell_type": "code",
      "metadata": {
        "colab": {
          "base_uri": "https://localhost:8080/"
        },
        "id": "3viED6HH2hw0",
        "outputId": "5bff19c3-9800-48ae-f559-688ccb5d6854"
      },
      "source": [
        "len(test_target)"
      ],
      "execution_count": 25,
      "outputs": [
        {
          "output_type": "execute_result",
          "data": {
            "text/plain": [
              "521"
            ]
          },
          "metadata": {
            "tags": []
          },
          "execution_count": 25
        }
      ]
    },
    {
      "cell_type": "code",
      "metadata": {
        "id": "8Enz1UHT2LXz"
      },
      "source": [
        "del test['Target']"
      ],
      "execution_count": 24,
      "outputs": []
    },
    {
      "cell_type": "code",
      "metadata": {
        "id": "KY5ZNuXt2nMC"
      },
      "source": [
        "del unlabel_1['Target']"
      ],
      "execution_count": 26,
      "outputs": []
    },
    {
      "cell_type": "code",
      "metadata": {
        "colab": {
          "base_uri": "https://localhost:8080/",
          "height": 195
        },
        "id": "_qT0B0FI2Oon",
        "outputId": "609049a7-2c45-4fad-8c0c-400090a4afd1"
      },
      "source": [
        "unlabel_1 = unlabel_1.rename(columns={'Predicted':'Target'})\r\n",
        "unlabel_1.head()"
      ],
      "execution_count": 27,
      "outputs": [
        {
          "output_type": "execute_result",
          "data": {
            "text/html": [
              "<div>\n",
              "<style scoped>\n",
              "    .dataframe tbody tr th:only-of-type {\n",
              "        vertical-align: middle;\n",
              "    }\n",
              "\n",
              "    .dataframe tbody tr th {\n",
              "        vertical-align: top;\n",
              "    }\n",
              "\n",
              "    .dataframe thead th {\n",
              "        text-align: right;\n",
              "    }\n",
              "</style>\n",
              "<table border=\"1\" class=\"dataframe\">\n",
              "  <thead>\n",
              "    <tr style=\"text-align: right;\">\n",
              "      <th></th>\n",
              "      <th>Unnamed: 0</th>\n",
              "      <th>Sentence</th>\n",
              "      <th>Target</th>\n",
              "    </tr>\n",
              "  </thead>\n",
              "  <tbody>\n",
              "    <tr>\n",
              "      <th>0</th>\n",
              "      <td>2173</td>\n",
              "      <td>darden sr testified âœi saw staggering â prett...</td>\n",
              "      <td>Facts</td>\n",
              "    </tr>\n",
              "    <tr>\n",
              "      <th>1</th>\n",
              "      <td>466</td>\n",
              "      <td>additional moral justification may due complai...</td>\n",
              "      <td>Facts</td>\n",
              "    </tr>\n",
              "    <tr>\n",
              "      <th>2</th>\n",
              "      <td>525</td>\n",
              "      <td>85 22 sw 140 wherein accused acting upon advic...</td>\n",
              "      <td>Invalid</td>\n",
              "    </tr>\n",
              "    <tr>\n",
              "      <th>3</th>\n",
              "      <td>2199</td>\n",
              "      <td>proper instruction court murder malice murder ...</td>\n",
              "      <td>Facts</td>\n",
              "    </tr>\n",
              "    <tr>\n",
              "      <th>4</th>\n",
              "      <td>79</td>\n",
              "      <td>eligible leaf renew contact family</td>\n",
              "      <td>Facts</td>\n",
              "    </tr>\n",
              "  </tbody>\n",
              "</table>\n",
              "</div>"
            ],
            "text/plain": [
              "   Unnamed: 0                                           Sentence   Target\n",
              "0        2173  darden sr testified âœi saw staggering â prett...    Facts\n",
              "1         466  additional moral justification may due complai...    Facts\n",
              "2         525  85 22 sw 140 wherein accused acting upon advic...  Invalid\n",
              "3        2199  proper instruction court murder malice murder ...    Facts\n",
              "4          79                 eligible leaf renew contact family    Facts"
            ]
          },
          "metadata": {
            "tags": []
          },
          "execution_count": 27
        }
      ]
    },
    {
      "cell_type": "code",
      "metadata": {
        "colab": {
          "base_uri": "https://localhost:8080/"
        },
        "id": "IvXmmzFE14bB",
        "outputId": "fa556d8f-5211-44ed-9af2-2dee565b1cc4"
      },
      "source": [
        "frame_1 = [train_kappa,unlabel_1]\r\n",
        "train_1 = pd.concat(frame_1)\r\n",
        "len(train_1)"
      ],
      "execution_count": 28,
      "outputs": [
        {
          "output_type": "execute_result",
          "data": {
            "text/plain": [
              "3052"
            ]
          },
          "metadata": {
            "tags": []
          },
          "execution_count": 28
        }
      ]
    },
    {
      "cell_type": "code",
      "metadata": {
        "colab": {
          "base_uri": "https://localhost:8080/"
        },
        "id": "KhaKOBGN2ycS",
        "outputId": "35cfa837-d383-4f92-b3ad-9184097e2f2b"
      },
      "source": [
        "x_train_1 = tfidf_vect.transform(train_1['Sentence'])\r\n",
        "x_train_1.shape\r\n",
        "X_train, x_val, Y_train, y_val = train_test_split(x_train_1,train_1['Target'],test_size=0.37,random_state=42)\r\n",
        "sgd = SGDClassifier(max_iter=1000, tol=1e-3)\r\n",
        "sgd.fit(X_train, Y_train)\r\n",
        "pred_sgd = sgd.predict(x_val)\r\n",
        "print('Accuracy %s' % accuracy_score(pred_sgd,y_val))\r\n",
        "print(classification_report(y_val,pred_sgd))"
      ],
      "execution_count": 57,
      "outputs": [
        {
          "output_type": "stream",
          "text": [
            "Accuracy 0.6566371681415929\n",
            "                  precision    recall  f1-score   support\n",
            "\n",
            "        Analysis       0.48      0.45      0.46       161\n",
            "      Conclusion       0.78      0.45      0.57        71\n",
            "           Facts       0.77      0.88      0.82       585\n",
            "         Invalid       0.47      0.45      0.46       169\n",
            "           Issue       0.41      0.43      0.42        65\n",
            "Rule/Law/Holding       0.49      0.23      0.31        79\n",
            "\n",
            "        accuracy                           0.66      1130\n",
            "       macro avg       0.57      0.48      0.51      1130\n",
            "    weighted avg       0.64      0.66      0.64      1130\n",
            "\n"
          ],
          "name": "stdout"
        }
      ]
    },
    {
      "cell_type": "code",
      "metadata": {
        "id": "ohGPXE0I31OW"
      },
      "source": [
        "del unlabel_2['Target']\r\n",
        "del unlabel_3['Target']\r\n",
        "del unlabel_4['Target']\r\n",
        "del unlabel_5['Target']"
      ],
      "execution_count": 34,
      "outputs": []
    },
    {
      "cell_type": "code",
      "metadata": {
        "colab": {
          "base_uri": "https://localhost:8080/",
          "height": 296
        },
        "id": "auSDjm6M3kPB",
        "outputId": "1ce2a3eb-b305-4258-e6e6-c58fc14bef93"
      },
      "source": [
        "x_un2 = tfidf_vect.transform(unlabel_2['Sentence'])\r\n",
        "pred_unlabel_2 = sgd.predict(x_un2)\r\n",
        "unlabel_2['Target']=pred_unlabel_2\r\n",
        "unlabel_2.head()"
      ],
      "execution_count": 35,
      "outputs": [
        {
          "output_type": "stream",
          "text": [
            "/usr/local/lib/python3.6/dist-packages/ipykernel_launcher.py:3: SettingWithCopyWarning: \n",
            "A value is trying to be set on a copy of a slice from a DataFrame.\n",
            "Try using .loc[row_indexer,col_indexer] = value instead\n",
            "\n",
            "See the caveats in the documentation: https://pandas.pydata.org/pandas-docs/stable/user_guide/indexing.html#returning-a-view-versus-a-copy\n",
            "  This is separate from the ipykernel package so we can avoid doing imports until\n"
          ],
          "name": "stderr"
        },
        {
          "output_type": "execute_result",
          "data": {
            "text/html": [
              "<div>\n",
              "<style scoped>\n",
              "    .dataframe tbody tr th:only-of-type {\n",
              "        vertical-align: middle;\n",
              "    }\n",
              "\n",
              "    .dataframe tbody tr th {\n",
              "        vertical-align: top;\n",
              "    }\n",
              "\n",
              "    .dataframe thead th {\n",
              "        text-align: right;\n",
              "    }\n",
              "</style>\n",
              "<table border=\"1\" class=\"dataframe\">\n",
              "  <thead>\n",
              "    <tr style=\"text-align: right;\">\n",
              "      <th></th>\n",
              "      <th>Unnamed: 0</th>\n",
              "      <th>Sentence</th>\n",
              "      <th>Target</th>\n",
              "    </tr>\n",
              "  </thead>\n",
              "  <tbody>\n",
              "    <tr>\n",
              "      <th>101</th>\n",
              "      <td>1207</td>\n",
              "      <td>examination occurred night middle may testifie...</td>\n",
              "      <td>Facts</td>\n",
              "    </tr>\n",
              "    <tr>\n",
              "      <th>102</th>\n",
              "      <td>3400</td>\n",
              "      <td>undisputed testimony reflects appellant drivin...</td>\n",
              "      <td>Facts</td>\n",
              "    </tr>\n",
              "    <tr>\n",
              "      <th>103</th>\n",
              "      <td>2072</td>\n",
              "      <td>appellant testify offer evidence behalf</td>\n",
              "      <td>Facts</td>\n",
              "    </tr>\n",
              "    <tr>\n",
              "      <th>104</th>\n",
              "      <td>517</td>\n",
              "      <td>56 uniform act regulating traffic highway gist...</td>\n",
              "      <td>Facts</td>\n",
              "    </tr>\n",
              "    <tr>\n",
              "      <th>105</th>\n",
              "      <td>906</td>\n",
              "      <td>agreed accompany gave pawn ticket money reclai...</td>\n",
              "      <td>Facts</td>\n",
              "    </tr>\n",
              "  </tbody>\n",
              "</table>\n",
              "</div>"
            ],
            "text/plain": [
              "     Unnamed: 0                                           Sentence Target\n",
              "101        1207  examination occurred night middle may testifie...  Facts\n",
              "102        3400  undisputed testimony reflects appellant drivin...  Facts\n",
              "103        2072            appellant testify offer evidence behalf  Facts\n",
              "104         517  56 uniform act regulating traffic highway gist...  Facts\n",
              "105         906  agreed accompany gave pawn ticket money reclai...  Facts"
            ]
          },
          "metadata": {
            "tags": []
          },
          "execution_count": 35
        }
      ]
    },
    {
      "cell_type": "code",
      "metadata": {
        "colab": {
          "base_uri": "https://localhost:8080/"
        },
        "id": "NxclooBx4BZC",
        "outputId": "832768be-c5fd-4445-838c-e3b84280cf21"
      },
      "source": [
        "frame_2 = [train_1,unlabel_2]\r\n",
        "train_2 = pd.concat(frame_2)\r\n",
        "len(train_2)"
      ],
      "execution_count": 36,
      "outputs": [
        {
          "output_type": "execute_result",
          "data": {
            "text/plain": [
              "3152"
            ]
          },
          "metadata": {
            "tags": []
          },
          "execution_count": 36
        }
      ]
    },
    {
      "cell_type": "code",
      "metadata": {
        "colab": {
          "base_uri": "https://localhost:8080/"
        },
        "id": "5BkYWivL83cu",
        "outputId": "accbd3c0-9cd5-4f4a-e095-10ca8bc3fd5b"
      },
      "source": [
        "x_train_2 = tfidf_vect.transform(train_2['Sentence'])\r\n",
        "X_train, x_val, Y_train, y_val = train_test_split(x_train_2,train_2['Target'],test_size=0.3,random_state=42)\r\n",
        "sgd = SGDClassifier(max_iter=1000, tol=1e-3)\r\n",
        "sgd.fit(X_train, Y_train)\r\n",
        "pred_sgd = sgd.predict(x_val)\r\n",
        "print('Accuracy %s' % accuracy_score(pred_sgd,y_val))\r\n",
        "print(classification_report(y_val,pred_sgd))"
      ],
      "execution_count": 41,
      "outputs": [
        {
          "output_type": "stream",
          "text": [
            "Accuracy 0.6511627906976745\n",
            "                  precision    recall  f1-score   support\n",
            "\n",
            "        Analysis       0.45      0.40      0.43       134\n",
            "      Conclusion       0.63      0.44      0.52        55\n",
            "           Facts       0.77      0.86      0.81       509\n",
            "         Invalid       0.43      0.47      0.45       128\n",
            "           Issue       0.48      0.46      0.47        48\n",
            "Rule/Law/Holding       0.49      0.25      0.33        72\n",
            "\n",
            "        accuracy                           0.65       946\n",
            "       macro avg       0.54      0.48      0.50       946\n",
            "    weighted avg       0.64      0.65      0.64       946\n",
            "\n"
          ],
          "name": "stdout"
        }
      ]
    },
    {
      "cell_type": "code",
      "metadata": {
        "colab": {
          "base_uri": "https://localhost:8080/",
          "height": 296
        },
        "id": "sVXdrSsR9OZL",
        "outputId": "e4bae431-46a2-4f60-9831-a9172cc17c21"
      },
      "source": [
        "x_un3 = tfidf_vect.transform(unlabel_3['Sentence'])\r\n",
        "x_un3.shape\r\n",
        "pred_unlabel_3 = sgd.predict(x_un3)\r\n",
        "unlabel_3['Target']=pred_unlabel_3\r\n",
        "unlabel_3.head()"
      ],
      "execution_count": 42,
      "outputs": [
        {
          "output_type": "stream",
          "text": [
            "/usr/local/lib/python3.6/dist-packages/ipykernel_launcher.py:4: SettingWithCopyWarning: \n",
            "A value is trying to be set on a copy of a slice from a DataFrame.\n",
            "Try using .loc[row_indexer,col_indexer] = value instead\n",
            "\n",
            "See the caveats in the documentation: https://pandas.pydata.org/pandas-docs/stable/user_guide/indexing.html#returning-a-view-versus-a-copy\n",
            "  after removing the cwd from sys.path.\n"
          ],
          "name": "stderr"
        },
        {
          "output_type": "execute_result",
          "data": {
            "text/html": [
              "<div>\n",
              "<style scoped>\n",
              "    .dataframe tbody tr th:only-of-type {\n",
              "        vertical-align: middle;\n",
              "    }\n",
              "\n",
              "    .dataframe tbody tr th {\n",
              "        vertical-align: top;\n",
              "    }\n",
              "\n",
              "    .dataframe thead th {\n",
              "        text-align: right;\n",
              "    }\n",
              "</style>\n",
              "<table border=\"1\" class=\"dataframe\">\n",
              "  <thead>\n",
              "    <tr style=\"text-align: right;\">\n",
              "      <th></th>\n",
              "      <th>Unnamed: 0</th>\n",
              "      <th>Sentence</th>\n",
              "      <th>Target</th>\n",
              "    </tr>\n",
              "  </thead>\n",
              "  <tbody>\n",
              "    <tr>\n",
              "      <th>201</th>\n",
              "      <td>1882</td>\n",
              "      <td>find evidence amply sufficient sustain juryâs ...</td>\n",
              "      <td>Analysis</td>\n",
              "    </tr>\n",
              "    <tr>\n",
              "      <th>202</th>\n",
              "      <td>964</td>\n",
              "      <td>action show thatâ</td>\n",
              "      <td>Analysis</td>\n",
              "    </tr>\n",
              "    <tr>\n",
              "      <th>203</th>\n",
              "      <td>1417</td>\n",
              "      <td>certification attending physician shown filed ...</td>\n",
              "      <td>Facts</td>\n",
              "    </tr>\n",
              "    <tr>\n",
              "      <th>204</th>\n",
              "      <td>2932</td>\n",
              "      <td>testified agent bland first left automobile wa...</td>\n",
              "      <td>Facts</td>\n",
              "    </tr>\n",
              "    <tr>\n",
              "      <th>205</th>\n",
              "      <td>1584</td>\n",
              "      <td>officer testified could smell odor alcohol app...</td>\n",
              "      <td>Facts</td>\n",
              "    </tr>\n",
              "  </tbody>\n",
              "</table>\n",
              "</div>"
            ],
            "text/plain": [
              "     Unnamed: 0                                           Sentence    Target\n",
              "201        1882  find evidence amply sufficient sustain juryâs ...  Analysis\n",
              "202         964                                  action show thatâ  Analysis\n",
              "203        1417  certification attending physician shown filed ...     Facts\n",
              "204        2932  testified agent bland first left automobile wa...     Facts\n",
              "205        1584  officer testified could smell odor alcohol app...     Facts"
            ]
          },
          "metadata": {
            "tags": []
          },
          "execution_count": 42
        }
      ]
    },
    {
      "cell_type": "code",
      "metadata": {
        "colab": {
          "base_uri": "https://localhost:8080/"
        },
        "id": "T7yXXS789pL4",
        "outputId": "fb342ea3-9e37-4341-81c3-ae334606e40e"
      },
      "source": [
        "frame_3 = [train_2,unlabel_3]\r\n",
        "train_3 = pd.concat(frame_3)\r\n",
        "len(train_3)\r\n",
        "x_train_3 = tfidf_vect.transform(train_3['Sentence'])\r\n",
        "X_train, x_val, Y_train, y_val = train_test_split(x_train_3,train_3['Target'],test_size=0.32,random_state=42)\r\n",
        "sgd = SGDClassifier(max_iter=1000, tol=1e-3)\r\n",
        "sgd.fit(X_train, Y_train)\r\n",
        "pred_sgd = sgd.predict(x_val)\r\n",
        "print('Accuracy %s' % accuracy_score(pred_sgd,y_val))\r\n",
        "print(classification_report(y_val,pred_sgd))"
      ],
      "execution_count": 46,
      "outputs": [
        {
          "output_type": "stream",
          "text": [
            "Accuracy 0.6705091258405379\n",
            "                  precision    recall  f1-score   support\n",
            "\n",
            "        Analysis       0.52      0.46      0.48       145\n",
            "      Conclusion       0.60      0.48      0.54        54\n",
            "           Facts       0.79      0.87      0.83       558\n",
            "         Invalid       0.48      0.45      0.47       164\n",
            "           Issue       0.48      0.41      0.44        58\n",
            "Rule/Law/Holding       0.47      0.37      0.41        62\n",
            "\n",
            "        accuracy                           0.67      1041\n",
            "       macro avg       0.56      0.51      0.53      1041\n",
            "    weighted avg       0.65      0.67      0.66      1041\n",
            "\n"
          ],
          "name": "stdout"
        }
      ]
    },
    {
      "cell_type": "code",
      "metadata": {
        "colab": {
          "base_uri": "https://localhost:8080/",
          "height": 296
        },
        "id": "h_8qlMM4-335",
        "outputId": "a319196e-3132-4725-cc24-75aec1fe7f70"
      },
      "source": [
        "x_un4 = tfidf_vect.transform(unlabel_4['Sentence'])\r\n",
        "x_un4.shape\r\n",
        "pred_unlabel_4 = sgd.predict(x_un4)\r\n",
        "unlabel_4['Target']=pred_unlabel_4\r\n",
        "unlabel_4.head()"
      ],
      "execution_count": 47,
      "outputs": [
        {
          "output_type": "stream",
          "text": [
            "/usr/local/lib/python3.6/dist-packages/ipykernel_launcher.py:4: SettingWithCopyWarning: \n",
            "A value is trying to be set on a copy of a slice from a DataFrame.\n",
            "Try using .loc[row_indexer,col_indexer] = value instead\n",
            "\n",
            "See the caveats in the documentation: https://pandas.pydata.org/pandas-docs/stable/user_guide/indexing.html#returning-a-view-versus-a-copy\n",
            "  after removing the cwd from sys.path.\n"
          ],
          "name": "stderr"
        },
        {
          "output_type": "execute_result",
          "data": {
            "text/html": [
              "<div>\n",
              "<style scoped>\n",
              "    .dataframe tbody tr th:only-of-type {\n",
              "        vertical-align: middle;\n",
              "    }\n",
              "\n",
              "    .dataframe tbody tr th {\n",
              "        vertical-align: top;\n",
              "    }\n",
              "\n",
              "    .dataframe thead th {\n",
              "        text-align: right;\n",
              "    }\n",
              "</style>\n",
              "<table border=\"1\" class=\"dataframe\">\n",
              "  <thead>\n",
              "    <tr style=\"text-align: right;\">\n",
              "      <th></th>\n",
              "      <th>Unnamed: 0</th>\n",
              "      <th>Sentence</th>\n",
              "      <th>Target</th>\n",
              "    </tr>\n",
              "  </thead>\n",
              "  <tbody>\n",
              "    <tr>\n",
              "      <th>301</th>\n",
              "      <td>266</td>\n",
              "      <td>section 6 pl</td>\n",
              "      <td>Invalid</td>\n",
              "    </tr>\n",
              "    <tr>\n",
              "      <th>302</th>\n",
              "      <td>3469</td>\n",
              "      <td>amended answer appellant alleged bond invalid ...</td>\n",
              "      <td>Analysis</td>\n",
              "    </tr>\n",
              "    <tr>\n",
              "      <th>303</th>\n",
              "      <td>1471</td>\n",
              "      <td>evidence sufficient support conviction appella...</td>\n",
              "      <td>Analysis</td>\n",
              "    </tr>\n",
              "    <tr>\n",
              "      <th>304</th>\n",
              "      <td>1990</td>\n",
              "      <td>case cited note 19</td>\n",
              "      <td>Invalid</td>\n",
              "    </tr>\n",
              "    <tr>\n",
              "      <th>305</th>\n",
              "      <td>2757</td>\n",
              "      <td>july 8 1960 order entered revoking said probat...</td>\n",
              "      <td>Facts</td>\n",
              "    </tr>\n",
              "  </tbody>\n",
              "</table>\n",
              "</div>"
            ],
            "text/plain": [
              "     Unnamed: 0                                           Sentence    Target\n",
              "301         266                                       section 6 pl   Invalid\n",
              "302        3469  amended answer appellant alleged bond invalid ...  Analysis\n",
              "303        1471  evidence sufficient support conviction appella...  Analysis\n",
              "304        1990                                 case cited note 19   Invalid\n",
              "305        2757  july 8 1960 order entered revoking said probat...     Facts"
            ]
          },
          "metadata": {
            "tags": []
          },
          "execution_count": 47
        }
      ]
    },
    {
      "cell_type": "code",
      "metadata": {
        "colab": {
          "base_uri": "https://localhost:8080/"
        },
        "id": "Oek9wXof_KUf",
        "outputId": "afacd56d-1516-499c-bef3-abbb2dc0fc6e"
      },
      "source": [
        "frame_4 = [train_3,unlabel_4]\r\n",
        "train_4 = pd.concat(frame_4)\r\n",
        "len(train_4)\r\n",
        "x_train_4 = tfidf_vect.transform(train_4['Sentence'])\r\n",
        "X_train, x_val, Y_train, y_val = train_test_split(x_train_4,train_4['Target'],test_size=0.2,random_state=42)\r\n",
        "sgd = SGDClassifier(max_iter=1000, tol=1e-3)\r\n",
        "sgd.fit(X_train, Y_train)\r\n",
        "pred_sgd = sgd.predict(x_val)\r\n",
        "print('Accuracy %s' % accuracy_score(pred_sgd,y_val))\r\n",
        "print(classification_report(y_val,pred_sgd))"
      ],
      "execution_count": 52,
      "outputs": [
        {
          "output_type": "stream",
          "text": [
            "Accuracy 0.6751117734724292\n",
            "                  precision    recall  f1-score   support\n",
            "\n",
            "        Analysis       0.52      0.54      0.53       100\n",
            "      Conclusion       0.55      0.52      0.53        33\n",
            "           Facts       0.77      0.87      0.82       343\n",
            "         Invalid       0.56      0.43      0.49       111\n",
            "           Issue       0.56      0.64      0.60        39\n",
            "Rule/Law/Holding       0.55      0.24      0.34        45\n",
            "\n",
            "        accuracy                           0.68       671\n",
            "       macro avg       0.58      0.54      0.55       671\n",
            "    weighted avg       0.66      0.68      0.66       671\n",
            "\n"
          ],
          "name": "stdout"
        }
      ]
    },
    {
      "cell_type": "code",
      "metadata": {
        "colab": {
          "base_uri": "https://localhost:8080/",
          "height": 296
        },
        "id": "3YkgbXLh_kk5",
        "outputId": "0e5ac4db-3e0b-47c4-e7c8-b0b73d58bd52"
      },
      "source": [
        "x_un5 = tfidf_vect.transform(unlabel_5['Sentence'])\r\n",
        "x_un5.shape\r\n",
        "pred_unlabel_5 = sgd.predict(x_un5)\r\n",
        "unlabel_5['Target']=pred_unlabel_5\r\n",
        "unlabel_5.head()"
      ],
      "execution_count": 53,
      "outputs": [
        {
          "output_type": "stream",
          "text": [
            "/usr/local/lib/python3.6/dist-packages/ipykernel_launcher.py:4: SettingWithCopyWarning: \n",
            "A value is trying to be set on a copy of a slice from a DataFrame.\n",
            "Try using .loc[row_indexer,col_indexer] = value instead\n",
            "\n",
            "See the caveats in the documentation: https://pandas.pydata.org/pandas-docs/stable/user_guide/indexing.html#returning-a-view-versus-a-copy\n",
            "  after removing the cwd from sys.path.\n"
          ],
          "name": "stderr"
        },
        {
          "output_type": "execute_result",
          "data": {
            "text/html": [
              "<div>\n",
              "<style scoped>\n",
              "    .dataframe tbody tr th:only-of-type {\n",
              "        vertical-align: middle;\n",
              "    }\n",
              "\n",
              "    .dataframe tbody tr th {\n",
              "        vertical-align: top;\n",
              "    }\n",
              "\n",
              "    .dataframe thead th {\n",
              "        text-align: right;\n",
              "    }\n",
              "</style>\n",
              "<table border=\"1\" class=\"dataframe\">\n",
              "  <thead>\n",
              "    <tr style=\"text-align: right;\">\n",
              "      <th></th>\n",
              "      <th>Unnamed: 0</th>\n",
              "      <th>Sentence</th>\n",
              "      <th>Target</th>\n",
              "    </tr>\n",
              "  </thead>\n",
              "  <tbody>\n",
              "    <tr>\n",
              "      <th>401</th>\n",
              "      <td>2979</td>\n",
              "      <td>overrule appellantâs contention court erred pe...</td>\n",
              "      <td>Issue</td>\n",
              "    </tr>\n",
              "    <tr>\n",
              "      <th>402</th>\n",
              "      <td>2135</td>\n",
              "      <td>state regarded authority case</td>\n",
              "      <td>Analysis</td>\n",
              "    </tr>\n",
              "    <tr>\n",
              "      <th>403</th>\n",
              "      <td>1591</td>\n",
              "      <td>testimony adduced appellant mother lillie mae ...</td>\n",
              "      <td>Issue</td>\n",
              "    </tr>\n",
              "    <tr>\n",
              "      <th>404</th>\n",
              "      <td>658</td>\n",
              "      <td>appellant needle mark inside left elbow</td>\n",
              "      <td>Facts</td>\n",
              "    </tr>\n",
              "    <tr>\n",
              "      <th>405</th>\n",
              "      <td>2562</td>\n",
              "      <td>analysis content 3 capsule chemist kenneth and...</td>\n",
              "      <td>Analysis</td>\n",
              "    </tr>\n",
              "  </tbody>\n",
              "</table>\n",
              "</div>"
            ],
            "text/plain": [
              "     Unnamed: 0                                           Sentence    Target\n",
              "401        2979  overrule appellantâs contention court erred pe...     Issue\n",
              "402        2135                      state regarded authority case  Analysis\n",
              "403        1591  testimony adduced appellant mother lillie mae ...     Issue\n",
              "404         658            appellant needle mark inside left elbow     Facts\n",
              "405        2562  analysis content 3 capsule chemist kenneth and...  Analysis"
            ]
          },
          "metadata": {
            "tags": []
          },
          "execution_count": 53
        }
      ]
    },
    {
      "cell_type": "code",
      "metadata": {
        "colab": {
          "base_uri": "https://localhost:8080/"
        },
        "id": "1q4fTBur_1k1",
        "outputId": "0afd847d-83a9-447a-d172-bbae0ebbd946"
      },
      "source": [
        "frame_5 = [train_4,unlabel_5]\r\n",
        "train_5 = pd.concat(frame_5)\r\n",
        "len(train_5)\r\n",
        "x_train_5 = tfidf_vect.transform(train_5['Sentence'])\r\n",
        "X_train, x_val, Y_train, y_val = train_test_split(x_train_5,train_5['Target'],test_size=0.2,random_state=42)\r\n",
        "sgd = SGDClassifier(max_iter=1000, tol=1e-3)\r\n",
        "sgd.fit(X_train, Y_train)\r\n",
        "pred_sgd = sgd.predict(x_val)\r\n",
        "print('Accuracy %s' % accuracy_score(pred_sgd,y_val))\r\n",
        "print(classification_report(y_val,pred_sgd))"
      ],
      "execution_count": 54,
      "outputs": [
        {
          "output_type": "stream",
          "text": [
            "Accuracy 0.7007194244604317\n",
            "                  precision    recall  f1-score   support\n",
            "\n",
            "        Analysis       0.49      0.45      0.47       100\n",
            "      Conclusion       0.73      0.57      0.64        42\n",
            "           Facts       0.81      0.89      0.84       375\n",
            "         Invalid       0.52      0.48      0.50        93\n",
            "           Issue       0.67      0.57      0.62        49\n",
            "Rule/Law/Holding       0.43      0.36      0.39        36\n",
            "\n",
            "        accuracy                           0.70       695\n",
            "       macro avg       0.61      0.55      0.58       695\n",
            "    weighted avg       0.69      0.70      0.69       695\n",
            "\n"
          ],
          "name": "stdout"
        }
      ]
    }
  ]
}