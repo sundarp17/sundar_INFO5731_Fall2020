{
  "nbformat": 4,
  "nbformat_minor": 0,
  "metadata": {
    "colab": {
      "name": "Highkappa_unbalanced.ipynb",
      "provenance": [],
      "authorship_tag": "ABX9TyMMLuGRXp+T1/xl8yNChDYx",
      "include_colab_link": true
    },
    "kernelspec": {
      "name": "python3",
      "display_name": "Python 3"
    }
  },
  "cells": [
    {
      "cell_type": "markdown",
      "metadata": {
        "id": "view-in-github",
        "colab_type": "text"
      },
      "source": [
        "<a href=\"https://colab.research.google.com/github/sundarp17/sundar_info5731_fall2020/blob/master/project/train/Highkappa_unbalanced.ipynb\" target=\"_parent\"><img src=\"https://colab.research.google.com/assets/colab-badge.svg\" alt=\"Open In Colab\"/></a>"
      ]
    },
    {
      "cell_type": "code",
      "metadata": {
        "colab": {
          "base_uri": "https://localhost:8080/",
          "height": 195
        },
        "id": "qBBpKXkQSzQM",
        "outputId": "a75277f3-eba5-44fd-aaae-b7ae31ac1e69"
      },
      "source": [
        "import pandas as pd\n",
        "\n",
        "train_kappa = pd.read_csv(r'/content/train_data_highkappa.csv')\n",
        "train_kappa.head()"
      ],
      "execution_count": 1,
      "outputs": [
        {
          "output_type": "execute_result",
          "data": {
            "text/html": [
              "<div>\n",
              "<style scoped>\n",
              "    .dataframe tbody tr th:only-of-type {\n",
              "        vertical-align: middle;\n",
              "    }\n",
              "\n",
              "    .dataframe tbody tr th {\n",
              "        vertical-align: top;\n",
              "    }\n",
              "\n",
              "    .dataframe thead th {\n",
              "        text-align: right;\n",
              "    }\n",
              "</style>\n",
              "<table border=\"1\" class=\"dataframe\">\n",
              "  <thead>\n",
              "    <tr style=\"text-align: right;\">\n",
              "      <th></th>\n",
              "      <th>Unnamed: 0</th>\n",
              "      <th>Sentence</th>\n",
              "      <th>Target</th>\n",
              "    </tr>\n",
              "  </thead>\n",
              "  <tbody>\n",
              "    <tr>\n",
              "      <th>0</th>\n",
              "      <td>659</td>\n",
              "      <td>Appellant had stated to the officers that she ...</td>\n",
              "      <td>Invalid</td>\n",
              "    </tr>\n",
              "    <tr>\n",
              "      <th>1</th>\n",
              "      <td>3456</td>\n",
              "      <td>We shall discuss the facts more fully in conne...</td>\n",
              "      <td>Others</td>\n",
              "    </tr>\n",
              "    <tr>\n",
              "      <th>2</th>\n",
              "      <td>2043</td>\n",
              "      <td>â€œPerjury is a false statement, either writte...</td>\n",
              "      <td>Invalid</td>\n",
              "    </tr>\n",
              "    <tr>\n",
              "      <th>3</th>\n",
              "      <td>3344</td>\n",
              "      <td>The offense is felony theft by false pretext; ...</td>\n",
              "      <td>Issue</td>\n",
              "    </tr>\n",
              "    <tr>\n",
              "      <th>4</th>\n",
              "      <td>3231</td>\n",
              "      <td>Numerous contentions urging the commission of ...</td>\n",
              "      <td>Issue</td>\n",
              "    </tr>\n",
              "  </tbody>\n",
              "</table>\n",
              "</div>"
            ],
            "text/plain": [
              "   Unnamed: 0                                           Sentence   Target\n",
              "0         659  Appellant had stated to the officers that she ...  Invalid\n",
              "1        3456  We shall discuss the facts more fully in conne...   Others\n",
              "2        2043  â€œPerjury is a false statement, either writte...  Invalid\n",
              "3        3344  The offense is felony theft by false pretext; ...    Issue\n",
              "4        3231  Numerous contentions urging the commission of ...    Issue"
            ]
          },
          "metadata": {
            "tags": []
          },
          "execution_count": 1
        }
      ]
    },
    {
      "cell_type": "code",
      "metadata": {
        "colab": {
          "base_uri": "https://localhost:8080/"
        },
        "id": "5JMNNECeXLoV",
        "outputId": "db5139a0-d1a8-4f5e-869a-78e59382395d"
      },
      "source": [
        "train_kappa['Target'].unique()"
      ],
      "execution_count": 2,
      "outputs": [
        {
          "output_type": "execute_result",
          "data": {
            "text/plain": [
              "array(['Invalid', 'Others', 'Issue', 'Analysis', 'Facts', 'Conclusion',\n",
              "       'Rule/Law/Holding'], dtype=object)"
            ]
          },
          "metadata": {
            "tags": []
          },
          "execution_count": 2
        }
      ]
    },
    {
      "cell_type": "code",
      "metadata": {
        "colab": {
          "base_uri": "https://localhost:8080/"
        },
        "id": "T5TRUVelXT-C",
        "outputId": "0b38d9be-ff0e-46ed-dd1c-8d055ea0682d"
      },
      "source": [
        "train_kappa['Target']=train_kappa['Target'].replace(['Others'],'Invalid')\n",
        "train_kappa['Target'].unique()"
      ],
      "execution_count": 3,
      "outputs": [
        {
          "output_type": "execute_result",
          "data": {
            "text/plain": [
              "array(['Invalid', 'Issue', 'Analysis', 'Facts', 'Conclusion',\n",
              "       'Rule/Law/Holding'], dtype=object)"
            ]
          },
          "metadata": {
            "tags": []
          },
          "execution_count": 3
        }
      ]
    },
    {
      "cell_type": "code",
      "metadata": {
        "colab": {
          "base_uri": "https://localhost:8080/"
        },
        "id": "IIHQOLn7XvLo",
        "outputId": "9fd77045-c425-4213-d889-50b035abf79f"
      },
      "source": [
        "#cleaning\n",
        "import nltk\n",
        "import re\n",
        "import string\n",
        "nltk.download('stopwords')\n",
        "nltk.download('wordnet')\n",
        "stopword=nltk.corpus.stopwords.words('english')\n",
        "from nltk.stem import WordNetLemmatizer\n",
        "wl= WordNetLemmatizer()\n",
        "\n",
        "def clean_text(text):\n",
        "  text=\"\".join([word.lower() for word in text if word not in string.punctuation])\n",
        "  tokens = re.split('\\W+',text)\n",
        "  text = [wl.lemmatize(word) for word in tokens if word not in stopword]\n",
        "  return text"
      ],
      "execution_count": 4,
      "outputs": [
        {
          "output_type": "stream",
          "text": [
            "[nltk_data] Downloading package stopwords to /root/nltk_data...\n",
            "[nltk_data]   Unzipping corpora/stopwords.zip.\n",
            "[nltk_data] Downloading package wordnet to /root/nltk_data...\n",
            "[nltk_data]   Unzipping corpora/wordnet.zip.\n"
          ],
          "name": "stdout"
        }
      ]
    },
    {
      "cell_type": "code",
      "metadata": {
        "colab": {
          "base_uri": "https://localhost:8080/"
        },
        "id": "z_QmpPopYLBB",
        "outputId": "524c360a-10a9-47be-8028-afa58bf7dbe3"
      },
      "source": [
        "from sklearn.feature_extraction.text import TfidfVectorizer\n",
        "\n",
        "tfidf_vect = TfidfVectorizer(analyzer = clean_text)\n",
        "X_tfidf = tfidf_vect.fit_transform(train_kappa['Sentence'])\n",
        "print(X_tfidf.shape)"
      ],
      "execution_count": 5,
      "outputs": [
        {
          "output_type": "stream",
          "text": [
            "(2951, 5835)\n"
          ],
          "name": "stdout"
        }
      ]
    },
    {
      "cell_type": "code",
      "metadata": {
        "colab": {
          "base_uri": "https://localhost:8080/"
        },
        "id": "CuZUfqrnYTvM",
        "outputId": "5ff8932e-1b6a-49c5-efd2-745c13219563"
      },
      "source": [
        "#using smote and stochastic gradient boosting\n",
        "from sklearn.model_selection import train_test_split\n",
        "from sklearn.linear_model import SGDClassifier\n",
        "from sklearn.metrics import accuracy_score\n",
        "from sklearn.metrics import classification_report\n",
        "\n",
        "\n",
        "X_train, x_val, Y_train, y_val = train_test_split(X_tfidf,train_kappa['Target'],test_size=0.26,random_state=42)\n",
        "sgd = SGDClassifier(max_iter=1000, tol=1e-3)\n",
        "sgd.fit(X_train, Y_train)\n",
        "pred_sgd = sgd.predict(x_val)\n",
        "print('Accuracy %s' % accuracy_score(pred_sgd,y_val))\n",
        "print(classification_report(y_val,pred_sgd))"
      ],
      "execution_count": 6,
      "outputs": [
        {
          "output_type": "stream",
          "text": [
            "Accuracy 0.66796875\n",
            "                  precision    recall  f1-score   support\n",
            "\n",
            "        Analysis       0.53      0.50      0.51       104\n",
            "      Conclusion       0.52      0.54      0.53        41\n",
            "           Facts       0.79      0.86      0.83       416\n",
            "         Invalid       0.46      0.42      0.44       109\n",
            "           Issue       0.61      0.36      0.45        55\n",
            "Rule/Law/Holding       0.34      0.33      0.33        43\n",
            "\n",
            "        accuracy                           0.67       768\n",
            "       macro avg       0.54      0.50      0.52       768\n",
            "    weighted avg       0.66      0.67      0.66       768\n",
            "\n"
          ],
          "name": "stdout"
        }
      ]
    },
    {
      "cell_type": "code",
      "metadata": {
        "colab": {
          "base_uri": "https://localhost:8080/"
        },
        "id": "Xtgr06WzdPFW",
        "outputId": "528a2ff6-fde1-4a13-d1a6-f5c997daef79"
      },
      "source": [
        "def frequency_table(data):\n",
        "    frequencytable = {}\n",
        "    for key in data:\n",
        "        if key in frequencytable:\n",
        "            frequencytable[key] += 1\n",
        "        else:\n",
        "            frequencytable[key] = 1\n",
        "    return frequencytable\n",
        "\n",
        "frequency_table(train_kappa['Target'])\n",
        "\n"
      ],
      "execution_count": 7,
      "outputs": [
        {
          "output_type": "execute_result",
          "data": {
            "text/plain": [
              "{'Analysis': 439,\n",
              " 'Conclusion': 147,\n",
              " 'Facts': 1510,\n",
              " 'Invalid': 475,\n",
              " 'Issue': 190,\n",
              " 'Rule/Law/Holding': 190}"
            ]
          },
          "metadata": {
            "tags": []
          },
          "execution_count": 7
        }
      ]
    },
    {
      "cell_type": "code",
      "metadata": {
        "colab": {
          "base_uri": "https://localhost:8080/",
          "height": 195
        },
        "id": "e9LreUVIz6Hu",
        "outputId": "47706b16-84ca-4a74-c117-faff319b7fc7"
      },
      "source": [
        "test = pd.read_csv(r'/content/test_data.csv')\r\n",
        "test.head()"
      ],
      "execution_count": 8,
      "outputs": [
        {
          "output_type": "execute_result",
          "data": {
            "text/html": [
              "<div>\n",
              "<style scoped>\n",
              "    .dataframe tbody tr th:only-of-type {\n",
              "        vertical-align: middle;\n",
              "    }\n",
              "\n",
              "    .dataframe tbody tr th {\n",
              "        vertical-align: top;\n",
              "    }\n",
              "\n",
              "    .dataframe thead th {\n",
              "        text-align: right;\n",
              "    }\n",
              "</style>\n",
              "<table border=\"1\" class=\"dataframe\">\n",
              "  <thead>\n",
              "    <tr style=\"text-align: right;\">\n",
              "      <th></th>\n",
              "      <th>Unnamed: 0</th>\n",
              "      <th>Sentence</th>\n",
              "      <th>Target</th>\n",
              "    </tr>\n",
              "  </thead>\n",
              "  <tbody>\n",
              "    <tr>\n",
              "      <th>0</th>\n",
              "      <td>2173</td>\n",
              "      <td>Darden Sr. testified â€œI saw he was staggerin...</td>\n",
              "      <td>Facts</td>\n",
              "    </tr>\n",
              "    <tr>\n",
              "      <th>1</th>\n",
              "      <td>466</td>\n",
              "      <td>Additional moral justification may have been d...</td>\n",
              "      <td>Analysis</td>\n",
              "    </tr>\n",
              "    <tr>\n",
              "      <th>2</th>\n",
              "      <td>525</td>\n",
              "      <td>85, 22 S.W. 140, wherein the accused was actin...</td>\n",
              "      <td>Rule/Law/Holding</td>\n",
              "    </tr>\n",
              "    <tr>\n",
              "      <th>3</th>\n",
              "      <td>2199</td>\n",
              "      <td>Under a proper instruction from the court on m...</td>\n",
              "      <td>Facts</td>\n",
              "    </tr>\n",
              "    <tr>\n",
              "      <th>4</th>\n",
              "      <td>79</td>\n",
              "      <td>He is eligible for leaves to renew contacts wi...</td>\n",
              "      <td>Facts</td>\n",
              "    </tr>\n",
              "  </tbody>\n",
              "</table>\n",
              "</div>"
            ],
            "text/plain": [
              "   Unnamed: 0  ...            Target\n",
              "0        2173  ...             Facts\n",
              "1         466  ...          Analysis\n",
              "2         525  ...  Rule/Law/Holding\n",
              "3        2199  ...             Facts\n",
              "4          79  ...             Facts\n",
              "\n",
              "[5 rows x 3 columns]"
            ]
          },
          "metadata": {
            "tags": []
          },
          "execution_count": 8
        }
      ]
    },
    {
      "cell_type": "code",
      "metadata": {
        "id": "wcmnUsEz0bpM"
      },
      "source": [
        "test['Sentence'] = test['Sentence'].apply(lambda x: \" \".join(x.lower() for x in str(x).split()))\r\n",
        "test['Sentence'] = test['Sentence'].str.replace('[^\\w\\s]','')\r\n",
        "from nltk.corpus import stopwords\r\n",
        "words = stopwords.words('english')\r\n",
        "test['Sentence'] = test['Sentence'].apply(lambda x: \" \".join(x for x in x.split() if x not in words))"
      ],
      "execution_count": 9,
      "outputs": []
    },
    {
      "cell_type": "code",
      "metadata": {
        "colab": {
          "base_uri": "https://localhost:8080/"
        },
        "id": "IsHvHbib03-n",
        "outputId": "6db60263-e8e9-4c17-8fa9-05d5e92741d7"
      },
      "source": [
        "from textblob import TextBlob\r\n",
        "from textblob import Word\r\n",
        "nltk.download('wordnet')\r\n",
        "nltk.download('punkt')\r\n",
        "test['Sentence'] = test['Sentence'].apply(lambda x: TextBlob(x).words)\r\n",
        "test['Sentence'] = test['Sentence'].apply(lambda x: \" \".join([Word(word).lemmatize() for word in x]))"
      ],
      "execution_count": 10,
      "outputs": [
        {
          "output_type": "stream",
          "text": [
            "[nltk_data] Downloading package wordnet to /root/nltk_data...\n",
            "[nltk_data]   Package wordnet is already up-to-date!\n",
            "[nltk_data] Downloading package punkt to /root/nltk_data...\n",
            "[nltk_data]   Unzipping tokenizers/punkt.zip.\n"
          ],
          "name": "stdout"
        }
      ]
    },
    {
      "cell_type": "code",
      "metadata": {
        "colab": {
          "base_uri": "https://localhost:8080/"
        },
        "id": "iWDvQ3GN1E6h",
        "outputId": "0d6ed9a7-be74-4602-cad1-a8ed37e21961"
      },
      "source": [
        "test['Sentence'].head()"
      ],
      "execution_count": 11,
      "outputs": [
        {
          "output_type": "execute_result",
          "data": {
            "text/plain": [
              "0    darden sr testified âœi saw staggering â prett...\n",
              "1    additional moral justification may due complai...\n",
              "2    85 22 sw 140 wherein accused acting upon advic...\n",
              "3    proper instruction court murder malice murder ...\n",
              "4                   eligible leaf renew contact family\n",
              "Name: Sentence, dtype: object"
            ]
          },
          "metadata": {
            "tags": []
          },
          "execution_count": 11
        }
      ]
    },
    {
      "cell_type": "code",
      "metadata": {
        "colab": {
          "base_uri": "https://localhost:8080/"
        },
        "id": "92S7Iw601JMO",
        "outputId": "6b302fef-c80f-4a31-fbe3-56f2bca4f1e4"
      },
      "source": [
        "len(test['Sentence'])"
      ],
      "execution_count": 12,
      "outputs": [
        {
          "output_type": "execute_result",
          "data": {
            "text/plain": [
              "521"
            ]
          },
          "metadata": {
            "tags": []
          },
          "execution_count": 12
        }
      ]
    },
    {
      "cell_type": "code",
      "metadata": {
        "colab": {
          "base_uri": "https://localhost:8080/"
        },
        "id": "w0LqUlJs1Nix",
        "outputId": "f01d5eb3-b41d-40b1-e95a-3555d046134c"
      },
      "source": [
        "unlabel_1 = test.loc[:100]\r\n",
        "print(\"length of unlabel_1\",len(unlabel_1))\r\n",
        "unlabel_2 = test.loc[101:200]\r\n",
        "print(\"length of unlabel_2\",len(unlabel_2))\r\n",
        "unlabel_3 = test.loc[201:300]\r\n",
        "print(\"length of unlabel_3\",len(unlabel_3))\r\n",
        "unlabel_4 = test.loc[301:400]\r\n",
        "print(\"length of unlabel_4\",len(unlabel_4))\r\n",
        "unlabel_5 = test.loc[401:]\r\n",
        "print(\"length of unlabel_5\",len(unlabel_5))"
      ],
      "execution_count": 13,
      "outputs": [
        {
          "output_type": "stream",
          "text": [
            "length of unlabel_1 101\n",
            "length of unlabel_2 100\n",
            "length of unlabel_3 100\n",
            "length of unlabel_4 100\n",
            "length of unlabel_5 120\n"
          ],
          "name": "stdout"
        }
      ]
    },
    {
      "cell_type": "code",
      "metadata": {
        "colab": {
          "base_uri": "https://localhost:8080/",
          "height": 296
        },
        "id": "8QS4Ihxv1jRn",
        "outputId": "e9153883-c280-4c4c-82e0-12e63eb008c5"
      },
      "source": [
        "x_un1 = tfidf_vect.transform(unlabel_1['Sentence'])\r\n",
        "pred_unlabel_1 = sgd.predict(x_un1)\r\n",
        "unlabel_1['Predicted']=pred_unlabel_1\r\n",
        "unlabel_1.head()"
      ],
      "execution_count": 14,
      "outputs": [
        {
          "output_type": "stream",
          "text": [
            "/usr/local/lib/python3.6/dist-packages/ipykernel_launcher.py:3: SettingWithCopyWarning: \n",
            "A value is trying to be set on a copy of a slice from a DataFrame.\n",
            "Try using .loc[row_indexer,col_indexer] = value instead\n",
            "\n",
            "See the caveats in the documentation: https://pandas.pydata.org/pandas-docs/stable/user_guide/indexing.html#returning-a-view-versus-a-copy\n",
            "  This is separate from the ipykernel package so we can avoid doing imports until\n"
          ],
          "name": "stderr"
        },
        {
          "output_type": "execute_result",
          "data": {
            "text/html": [
              "<div>\n",
              "<style scoped>\n",
              "    .dataframe tbody tr th:only-of-type {\n",
              "        vertical-align: middle;\n",
              "    }\n",
              "\n",
              "    .dataframe tbody tr th {\n",
              "        vertical-align: top;\n",
              "    }\n",
              "\n",
              "    .dataframe thead th {\n",
              "        text-align: right;\n",
              "    }\n",
              "</style>\n",
              "<table border=\"1\" class=\"dataframe\">\n",
              "  <thead>\n",
              "    <tr style=\"text-align: right;\">\n",
              "      <th></th>\n",
              "      <th>Unnamed: 0</th>\n",
              "      <th>Sentence</th>\n",
              "      <th>Target</th>\n",
              "      <th>Predicted</th>\n",
              "    </tr>\n",
              "  </thead>\n",
              "  <tbody>\n",
              "    <tr>\n",
              "      <th>0</th>\n",
              "      <td>2173</td>\n",
              "      <td>darden sr testified âœi saw staggering â prett...</td>\n",
              "      <td>Facts</td>\n",
              "      <td>Facts</td>\n",
              "    </tr>\n",
              "    <tr>\n",
              "      <th>1</th>\n",
              "      <td>466</td>\n",
              "      <td>additional moral justification may due complai...</td>\n",
              "      <td>Analysis</td>\n",
              "      <td>Facts</td>\n",
              "    </tr>\n",
              "    <tr>\n",
              "      <th>2</th>\n",
              "      <td>525</td>\n",
              "      <td>85 22 sw 140 wherein accused acting upon advic...</td>\n",
              "      <td>Rule/Law/Holding</td>\n",
              "      <td>Invalid</td>\n",
              "    </tr>\n",
              "    <tr>\n",
              "      <th>3</th>\n",
              "      <td>2199</td>\n",
              "      <td>proper instruction court murder malice murder ...</td>\n",
              "      <td>Facts</td>\n",
              "      <td>Facts</td>\n",
              "    </tr>\n",
              "    <tr>\n",
              "      <th>4</th>\n",
              "      <td>79</td>\n",
              "      <td>eligible leaf renew contact family</td>\n",
              "      <td>Facts</td>\n",
              "      <td>Facts</td>\n",
              "    </tr>\n",
              "  </tbody>\n",
              "</table>\n",
              "</div>"
            ],
            "text/plain": [
              "   Unnamed: 0  ... Predicted\n",
              "0        2173  ...     Facts\n",
              "1         466  ...     Facts\n",
              "2         525  ...   Invalid\n",
              "3        2199  ...     Facts\n",
              "4          79  ...     Facts\n",
              "\n",
              "[5 rows x 4 columns]"
            ]
          },
          "metadata": {
            "tags": []
          },
          "execution_count": 14
        }
      ]
    },
    {
      "cell_type": "code",
      "metadata": {
        "id": "HoXQKv1j2CFG"
      },
      "source": [
        "test_target = test['Target']"
      ],
      "execution_count": null,
      "outputs": []
    },
    {
      "cell_type": "code",
      "metadata": {
        "colab": {
          "base_uri": "https://localhost:8080/"
        },
        "id": "3viED6HH2hw0",
        "outputId": "5bff19c3-9800-48ae-f559-688ccb5d6854"
      },
      "source": [
        "len(test_target)"
      ],
      "execution_count": null,
      "outputs": [
        {
          "output_type": "execute_result",
          "data": {
            "text/plain": [
              "521"
            ]
          },
          "metadata": {
            "tags": []
          },
          "execution_count": 25
        }
      ]
    },
    {
      "cell_type": "code",
      "metadata": {
        "id": "KY5ZNuXt2nMC"
      },
      "source": [
        "del unlabel_1['Target']"
      ],
      "execution_count": 15,
      "outputs": []
    },
    {
      "cell_type": "code",
      "metadata": {
        "colab": {
          "base_uri": "https://localhost:8080/",
          "height": 195
        },
        "id": "_qT0B0FI2Oon",
        "outputId": "1c7b3855-3902-4643-9b58-01b7b71ca602"
      },
      "source": [
        "unlabel_1 = unlabel_1.rename(columns={'Predicted':'Target'})\r\n",
        "unlabel_1.head()"
      ],
      "execution_count": 16,
      "outputs": [
        {
          "output_type": "execute_result",
          "data": {
            "text/html": [
              "<div>\n",
              "<style scoped>\n",
              "    .dataframe tbody tr th:only-of-type {\n",
              "        vertical-align: middle;\n",
              "    }\n",
              "\n",
              "    .dataframe tbody tr th {\n",
              "        vertical-align: top;\n",
              "    }\n",
              "\n",
              "    .dataframe thead th {\n",
              "        text-align: right;\n",
              "    }\n",
              "</style>\n",
              "<table border=\"1\" class=\"dataframe\">\n",
              "  <thead>\n",
              "    <tr style=\"text-align: right;\">\n",
              "      <th></th>\n",
              "      <th>Unnamed: 0</th>\n",
              "      <th>Sentence</th>\n",
              "      <th>Target</th>\n",
              "    </tr>\n",
              "  </thead>\n",
              "  <tbody>\n",
              "    <tr>\n",
              "      <th>0</th>\n",
              "      <td>2173</td>\n",
              "      <td>darden sr testified âœi saw staggering â prett...</td>\n",
              "      <td>Facts</td>\n",
              "    </tr>\n",
              "    <tr>\n",
              "      <th>1</th>\n",
              "      <td>466</td>\n",
              "      <td>additional moral justification may due complai...</td>\n",
              "      <td>Facts</td>\n",
              "    </tr>\n",
              "    <tr>\n",
              "      <th>2</th>\n",
              "      <td>525</td>\n",
              "      <td>85 22 sw 140 wherein accused acting upon advic...</td>\n",
              "      <td>Invalid</td>\n",
              "    </tr>\n",
              "    <tr>\n",
              "      <th>3</th>\n",
              "      <td>2199</td>\n",
              "      <td>proper instruction court murder malice murder ...</td>\n",
              "      <td>Facts</td>\n",
              "    </tr>\n",
              "    <tr>\n",
              "      <th>4</th>\n",
              "      <td>79</td>\n",
              "      <td>eligible leaf renew contact family</td>\n",
              "      <td>Facts</td>\n",
              "    </tr>\n",
              "  </tbody>\n",
              "</table>\n",
              "</div>"
            ],
            "text/plain": [
              "   Unnamed: 0                                           Sentence   Target\n",
              "0        2173  darden sr testified âœi saw staggering â prett...    Facts\n",
              "1         466  additional moral justification may due complai...    Facts\n",
              "2         525  85 22 sw 140 wherein accused acting upon advic...  Invalid\n",
              "3        2199  proper instruction court murder malice murder ...    Facts\n",
              "4          79                 eligible leaf renew contact family    Facts"
            ]
          },
          "metadata": {
            "tags": []
          },
          "execution_count": 16
        }
      ]
    },
    {
      "cell_type": "code",
      "metadata": {
        "colab": {
          "base_uri": "https://localhost:8080/"
        },
        "id": "IvXmmzFE14bB",
        "outputId": "69a42de3-4124-41e1-f2a4-2ac4264ad05b"
      },
      "source": [
        "frame_1 = [train_kappa,unlabel_1]\r\n",
        "train_1 = pd.concat(frame_1)\r\n",
        "len(train_1)"
      ],
      "execution_count": 17,
      "outputs": [
        {
          "output_type": "execute_result",
          "data": {
            "text/plain": [
              "3052"
            ]
          },
          "metadata": {
            "tags": []
          },
          "execution_count": 17
        }
      ]
    },
    {
      "cell_type": "code",
      "metadata": {
        "colab": {
          "base_uri": "https://localhost:8080/"
        },
        "id": "KhaKOBGN2ycS",
        "outputId": "28bf46dc-4b26-4027-bd38-c4d3af247cbd"
      },
      "source": [
        "x_train_1 = tfidf_vect.transform(train_1['Sentence'])\r\n",
        "x_train_1.shape\r\n",
        "X_train, x_val, Y_train, y_val = train_test_split(x_train_1,train_1['Target'],test_size=0.37,random_state=42)\r\n",
        "sgd = SGDClassifier(max_iter=1000, tol=1e-3)\r\n",
        "sgd.fit(X_train, Y_train)\r\n",
        "pred_sgd = sgd.predict(x_val)\r\n",
        "print('Accuracy %s' % accuracy_score(pred_sgd,y_val))\r\n",
        "print(classification_report(y_val,pred_sgd))"
      ],
      "execution_count": 18,
      "outputs": [
        {
          "output_type": "stream",
          "text": [
            "Accuracy 0.6539823008849558\n",
            "                  precision    recall  f1-score   support\n",
            "\n",
            "        Analysis       0.48      0.45      0.46       161\n",
            "      Conclusion       0.72      0.48      0.58        71\n",
            "           Facts       0.77      0.87      0.82       586\n",
            "         Invalid       0.47      0.45      0.46       168\n",
            "           Issue       0.40      0.42      0.41        65\n",
            "Rule/Law/Holding       0.49      0.25      0.33        79\n",
            "\n",
            "        accuracy                           0.65      1130\n",
            "       macro avg       0.55      0.49      0.51      1130\n",
            "    weighted avg       0.64      0.65      0.64      1130\n",
            "\n"
          ],
          "name": "stdout"
        }
      ]
    },
    {
      "cell_type": "code",
      "metadata": {
        "id": "ohGPXE0I31OW"
      },
      "source": [
        "del unlabel_2['Target']\r\n",
        "del unlabel_3['Target']\r\n",
        "del unlabel_4['Target']\r\n",
        "del unlabel_5['Target']"
      ],
      "execution_count": 19,
      "outputs": []
    },
    {
      "cell_type": "code",
      "metadata": {
        "colab": {
          "base_uri": "https://localhost:8080/",
          "height": 296
        },
        "id": "auSDjm6M3kPB",
        "outputId": "a4b6ae81-f2d3-4e6a-eb22-a353033e2ad8"
      },
      "source": [
        "x_un2 = tfidf_vect.transform(unlabel_2['Sentence'])\r\n",
        "pred_unlabel_2 = sgd.predict(x_un2)\r\n",
        "unlabel_2['Target']=pred_unlabel_2\r\n",
        "unlabel_2.head()"
      ],
      "execution_count": 20,
      "outputs": [
        {
          "output_type": "stream",
          "text": [
            "/usr/local/lib/python3.6/dist-packages/ipykernel_launcher.py:3: SettingWithCopyWarning: \n",
            "A value is trying to be set on a copy of a slice from a DataFrame.\n",
            "Try using .loc[row_indexer,col_indexer] = value instead\n",
            "\n",
            "See the caveats in the documentation: https://pandas.pydata.org/pandas-docs/stable/user_guide/indexing.html#returning-a-view-versus-a-copy\n",
            "  This is separate from the ipykernel package so we can avoid doing imports until\n"
          ],
          "name": "stderr"
        },
        {
          "output_type": "execute_result",
          "data": {
            "text/html": [
              "<div>\n",
              "<style scoped>\n",
              "    .dataframe tbody tr th:only-of-type {\n",
              "        vertical-align: middle;\n",
              "    }\n",
              "\n",
              "    .dataframe tbody tr th {\n",
              "        vertical-align: top;\n",
              "    }\n",
              "\n",
              "    .dataframe thead th {\n",
              "        text-align: right;\n",
              "    }\n",
              "</style>\n",
              "<table border=\"1\" class=\"dataframe\">\n",
              "  <thead>\n",
              "    <tr style=\"text-align: right;\">\n",
              "      <th></th>\n",
              "      <th>Unnamed: 0</th>\n",
              "      <th>Sentence</th>\n",
              "      <th>Target</th>\n",
              "    </tr>\n",
              "  </thead>\n",
              "  <tbody>\n",
              "    <tr>\n",
              "      <th>101</th>\n",
              "      <td>1207</td>\n",
              "      <td>examination occurred night middle may testifie...</td>\n",
              "      <td>Facts</td>\n",
              "    </tr>\n",
              "    <tr>\n",
              "      <th>102</th>\n",
              "      <td>3400</td>\n",
              "      <td>undisputed testimony reflects appellant drivin...</td>\n",
              "      <td>Facts</td>\n",
              "    </tr>\n",
              "    <tr>\n",
              "      <th>103</th>\n",
              "      <td>2072</td>\n",
              "      <td>appellant testify offer evidence behalf</td>\n",
              "      <td>Facts</td>\n",
              "    </tr>\n",
              "    <tr>\n",
              "      <th>104</th>\n",
              "      <td>517</td>\n",
              "      <td>56 uniform act regulating traffic highway gist...</td>\n",
              "      <td>Facts</td>\n",
              "    </tr>\n",
              "    <tr>\n",
              "      <th>105</th>\n",
              "      <td>906</td>\n",
              "      <td>agreed accompany gave pawn ticket money reclai...</td>\n",
              "      <td>Facts</td>\n",
              "    </tr>\n",
              "  </tbody>\n",
              "</table>\n",
              "</div>"
            ],
            "text/plain": [
              "     Unnamed: 0                                           Sentence Target\n",
              "101        1207  examination occurred night middle may testifie...  Facts\n",
              "102        3400  undisputed testimony reflects appellant drivin...  Facts\n",
              "103        2072            appellant testify offer evidence behalf  Facts\n",
              "104         517  56 uniform act regulating traffic highway gist...  Facts\n",
              "105         906  agreed accompany gave pawn ticket money reclai...  Facts"
            ]
          },
          "metadata": {
            "tags": []
          },
          "execution_count": 20
        }
      ]
    },
    {
      "cell_type": "code",
      "metadata": {
        "colab": {
          "base_uri": "https://localhost:8080/"
        },
        "id": "NxclooBx4BZC",
        "outputId": "4e16f797-9eee-46f5-c111-943e2e90704e"
      },
      "source": [
        "frame_2 = [train_1,unlabel_2]\r\n",
        "train_2 = pd.concat(frame_2)\r\n",
        "len(train_2)"
      ],
      "execution_count": 21,
      "outputs": [
        {
          "output_type": "execute_result",
          "data": {
            "text/plain": [
              "3152"
            ]
          },
          "metadata": {
            "tags": []
          },
          "execution_count": 21
        }
      ]
    },
    {
      "cell_type": "code",
      "metadata": {
        "colab": {
          "base_uri": "https://localhost:8080/"
        },
        "id": "5BkYWivL83cu",
        "outputId": "b43216dd-94d8-4ae3-f4a2-2d0b6576e7cb"
      },
      "source": [
        "x_train_2 = tfidf_vect.transform(train_2['Sentence'])\r\n",
        "X_train, x_val, Y_train, y_val = train_test_split(x_train_2,train_2['Target'],test_size=0.3,random_state=42)\r\n",
        "sgd = SGDClassifier(max_iter=1000, tol=1e-3)\r\n",
        "sgd.fit(X_train, Y_train)\r\n",
        "pred_sgd = sgd.predict(x_val)\r\n",
        "print('Accuracy %s' % accuracy_score(pred_sgd,y_val))\r\n",
        "print(classification_report(y_val,pred_sgd))"
      ],
      "execution_count": 22,
      "outputs": [
        {
          "output_type": "stream",
          "text": [
            "Accuracy 0.6553911205073996\n",
            "                  precision    recall  f1-score   support\n",
            "\n",
            "        Analysis       0.45      0.41      0.43       134\n",
            "      Conclusion       0.68      0.42      0.52        55\n",
            "           Facts       0.78      0.87      0.82       509\n",
            "         Invalid       0.44      0.46      0.45       128\n",
            "           Issue       0.44      0.44      0.44        48\n",
            "Rule/Law/Holding       0.50      0.29      0.37        72\n",
            "\n",
            "        accuracy                           0.66       946\n",
            "       macro avg       0.55      0.48      0.50       946\n",
            "    weighted avg       0.64      0.66      0.64       946\n",
            "\n"
          ],
          "name": "stdout"
        }
      ]
    },
    {
      "cell_type": "code",
      "metadata": {
        "colab": {
          "base_uri": "https://localhost:8080/",
          "height": 296
        },
        "id": "sVXdrSsR9OZL",
        "outputId": "33102b4b-a6b2-4be0-a951-34dce8605f95"
      },
      "source": [
        "x_un3 = tfidf_vect.transform(unlabel_3['Sentence'])\r\n",
        "x_un3.shape\r\n",
        "pred_unlabel_3 = sgd.predict(x_un3)\r\n",
        "unlabel_3['Target']=pred_unlabel_3\r\n",
        "unlabel_3.head()"
      ],
      "execution_count": 23,
      "outputs": [
        {
          "output_type": "stream",
          "text": [
            "/usr/local/lib/python3.6/dist-packages/ipykernel_launcher.py:4: SettingWithCopyWarning: \n",
            "A value is trying to be set on a copy of a slice from a DataFrame.\n",
            "Try using .loc[row_indexer,col_indexer] = value instead\n",
            "\n",
            "See the caveats in the documentation: https://pandas.pydata.org/pandas-docs/stable/user_guide/indexing.html#returning-a-view-versus-a-copy\n",
            "  after removing the cwd from sys.path.\n"
          ],
          "name": "stderr"
        },
        {
          "output_type": "execute_result",
          "data": {
            "text/html": [
              "<div>\n",
              "<style scoped>\n",
              "    .dataframe tbody tr th:only-of-type {\n",
              "        vertical-align: middle;\n",
              "    }\n",
              "\n",
              "    .dataframe tbody tr th {\n",
              "        vertical-align: top;\n",
              "    }\n",
              "\n",
              "    .dataframe thead th {\n",
              "        text-align: right;\n",
              "    }\n",
              "</style>\n",
              "<table border=\"1\" class=\"dataframe\">\n",
              "  <thead>\n",
              "    <tr style=\"text-align: right;\">\n",
              "      <th></th>\n",
              "      <th>Unnamed: 0</th>\n",
              "      <th>Sentence</th>\n",
              "      <th>Target</th>\n",
              "    </tr>\n",
              "  </thead>\n",
              "  <tbody>\n",
              "    <tr>\n",
              "      <th>201</th>\n",
              "      <td>1882</td>\n",
              "      <td>find evidence amply sufficient sustain juryâs ...</td>\n",
              "      <td>Analysis</td>\n",
              "    </tr>\n",
              "    <tr>\n",
              "      <th>202</th>\n",
              "      <td>964</td>\n",
              "      <td>action show thatâ</td>\n",
              "      <td>Analysis</td>\n",
              "    </tr>\n",
              "    <tr>\n",
              "      <th>203</th>\n",
              "      <td>1417</td>\n",
              "      <td>certification attending physician shown filed ...</td>\n",
              "      <td>Facts</td>\n",
              "    </tr>\n",
              "    <tr>\n",
              "      <th>204</th>\n",
              "      <td>2932</td>\n",
              "      <td>testified agent bland first left automobile wa...</td>\n",
              "      <td>Facts</td>\n",
              "    </tr>\n",
              "    <tr>\n",
              "      <th>205</th>\n",
              "      <td>1584</td>\n",
              "      <td>officer testified could smell odor alcohol app...</td>\n",
              "      <td>Facts</td>\n",
              "    </tr>\n",
              "  </tbody>\n",
              "</table>\n",
              "</div>"
            ],
            "text/plain": [
              "     Unnamed: 0                                           Sentence    Target\n",
              "201        1882  find evidence amply sufficient sustain juryâs ...  Analysis\n",
              "202         964                                  action show thatâ  Analysis\n",
              "203        1417  certification attending physician shown filed ...     Facts\n",
              "204        2932  testified agent bland first left automobile wa...     Facts\n",
              "205        1584  officer testified could smell odor alcohol app...     Facts"
            ]
          },
          "metadata": {
            "tags": []
          },
          "execution_count": 23
        }
      ]
    },
    {
      "cell_type": "code",
      "metadata": {
        "colab": {
          "base_uri": "https://localhost:8080/"
        },
        "id": "T7yXXS789pL4",
        "outputId": "e54e912c-7065-4035-98f7-1cccd09846fb"
      },
      "source": [
        "frame_3 = [train_2,unlabel_3]\r\n",
        "train_3 = pd.concat(frame_3)\r\n",
        "len(train_3)\r\n",
        "x_train_3 = tfidf_vect.transform(train_3['Sentence'])\r\n",
        "X_train, x_val, Y_train, y_val = train_test_split(x_train_3,train_3['Target'],test_size=0.32,random_state=42)\r\n",
        "sgd = SGDClassifier(max_iter=1000, tol=1e-3)\r\n",
        "sgd.fit(X_train, Y_train)\r\n",
        "pred_sgd = sgd.predict(x_val)\r\n",
        "print('Accuracy %s' % accuracy_score(pred_sgd,y_val))\r\n",
        "print(classification_report(y_val,pred_sgd))"
      ],
      "execution_count": 24,
      "outputs": [
        {
          "output_type": "stream",
          "text": [
            "Accuracy 0.6666666666666666\n",
            "                  precision    recall  f1-score   support\n",
            "\n",
            "        Analysis       0.48      0.43      0.45       145\n",
            "      Conclusion       0.59      0.48      0.53        54\n",
            "           Facts       0.78      0.88      0.83       560\n",
            "         Invalid       0.49      0.43      0.46       162\n",
            "           Issue       0.44      0.42      0.43        57\n",
            "Rule/Law/Holding       0.49      0.35      0.41        63\n",
            "\n",
            "        accuracy                           0.67      1041\n",
            "       macro avg       0.55      0.50      0.52      1041\n",
            "    weighted avg       0.65      0.67      0.65      1041\n",
            "\n"
          ],
          "name": "stdout"
        }
      ]
    },
    {
      "cell_type": "code",
      "metadata": {
        "colab": {
          "base_uri": "https://localhost:8080/",
          "height": 296
        },
        "id": "h_8qlMM4-335",
        "outputId": "e30d476b-7786-4576-cb5c-705e89d3385e"
      },
      "source": [
        "x_un4 = tfidf_vect.transform(unlabel_4['Sentence'])\r\n",
        "x_un4.shape\r\n",
        "pred_unlabel_4 = sgd.predict(x_un4)\r\n",
        "unlabel_4['Target']=pred_unlabel_4\r\n",
        "unlabel_4.head()"
      ],
      "execution_count": 25,
      "outputs": [
        {
          "output_type": "stream",
          "text": [
            "/usr/local/lib/python3.6/dist-packages/ipykernel_launcher.py:4: SettingWithCopyWarning: \n",
            "A value is trying to be set on a copy of a slice from a DataFrame.\n",
            "Try using .loc[row_indexer,col_indexer] = value instead\n",
            "\n",
            "See the caveats in the documentation: https://pandas.pydata.org/pandas-docs/stable/user_guide/indexing.html#returning-a-view-versus-a-copy\n",
            "  after removing the cwd from sys.path.\n"
          ],
          "name": "stderr"
        },
        {
          "output_type": "execute_result",
          "data": {
            "text/html": [
              "<div>\n",
              "<style scoped>\n",
              "    .dataframe tbody tr th:only-of-type {\n",
              "        vertical-align: middle;\n",
              "    }\n",
              "\n",
              "    .dataframe tbody tr th {\n",
              "        vertical-align: top;\n",
              "    }\n",
              "\n",
              "    .dataframe thead th {\n",
              "        text-align: right;\n",
              "    }\n",
              "</style>\n",
              "<table border=\"1\" class=\"dataframe\">\n",
              "  <thead>\n",
              "    <tr style=\"text-align: right;\">\n",
              "      <th></th>\n",
              "      <th>Unnamed: 0</th>\n",
              "      <th>Sentence</th>\n",
              "      <th>Target</th>\n",
              "    </tr>\n",
              "  </thead>\n",
              "  <tbody>\n",
              "    <tr>\n",
              "      <th>301</th>\n",
              "      <td>266</td>\n",
              "      <td>section 6 pl</td>\n",
              "      <td>Invalid</td>\n",
              "    </tr>\n",
              "    <tr>\n",
              "      <th>302</th>\n",
              "      <td>3469</td>\n",
              "      <td>amended answer appellant alleged bond invalid ...</td>\n",
              "      <td>Analysis</td>\n",
              "    </tr>\n",
              "    <tr>\n",
              "      <th>303</th>\n",
              "      <td>1471</td>\n",
              "      <td>evidence sufficient support conviction appella...</td>\n",
              "      <td>Analysis</td>\n",
              "    </tr>\n",
              "    <tr>\n",
              "      <th>304</th>\n",
              "      <td>1990</td>\n",
              "      <td>case cited note 19</td>\n",
              "      <td>Invalid</td>\n",
              "    </tr>\n",
              "    <tr>\n",
              "      <th>305</th>\n",
              "      <td>2757</td>\n",
              "      <td>july 8 1960 order entered revoking said probat...</td>\n",
              "      <td>Facts</td>\n",
              "    </tr>\n",
              "  </tbody>\n",
              "</table>\n",
              "</div>"
            ],
            "text/plain": [
              "     Unnamed: 0                                           Sentence    Target\n",
              "301         266                                       section 6 pl   Invalid\n",
              "302        3469  amended answer appellant alleged bond invalid ...  Analysis\n",
              "303        1471  evidence sufficient support conviction appella...  Analysis\n",
              "304        1990                                 case cited note 19   Invalid\n",
              "305        2757  july 8 1960 order entered revoking said probat...     Facts"
            ]
          },
          "metadata": {
            "tags": []
          },
          "execution_count": 25
        }
      ]
    },
    {
      "cell_type": "code",
      "metadata": {
        "colab": {
          "base_uri": "https://localhost:8080/"
        },
        "id": "Oek9wXof_KUf",
        "outputId": "345bfb9c-fc5d-45bd-8a8f-8030c2a3c5ad"
      },
      "source": [
        "frame_4 = [train_3,unlabel_4]\r\n",
        "train_4 = pd.concat(frame_4)\r\n",
        "len(train_4)\r\n",
        "x_train_4 = tfidf_vect.transform(train_4['Sentence'])\r\n",
        "X_train, x_val, Y_train, y_val = train_test_split(x_train_4,train_4['Target'],test_size=0.2,random_state=42)\r\n",
        "sgd = SGDClassifier(max_iter=1000, tol=1e-3)\r\n",
        "sgd.fit(X_train, Y_train)\r\n",
        "pred_sgd = sgd.predict(x_val)\r\n",
        "print('Accuracy %s' % accuracy_score(pred_sgd,y_val))\r\n",
        "print(classification_report(y_val,pred_sgd))"
      ],
      "execution_count": 26,
      "outputs": [
        {
          "output_type": "stream",
          "text": [
            "Accuracy 0.6646795827123696\n",
            "                  precision    recall  f1-score   support\n",
            "\n",
            "        Analysis       0.51      0.51      0.51       100\n",
            "      Conclusion       0.58      0.56      0.57        34\n",
            "           Facts       0.76      0.86      0.81       341\n",
            "         Invalid       0.54      0.41      0.47       112\n",
            "           Issue       0.56      0.62      0.59        39\n",
            "Rule/Law/Holding       0.48      0.27      0.34        45\n",
            "\n",
            "        accuracy                           0.66       671\n",
            "       macro avg       0.57      0.54      0.55       671\n",
            "    weighted avg       0.65      0.66      0.65       671\n",
            "\n"
          ],
          "name": "stdout"
        }
      ]
    },
    {
      "cell_type": "code",
      "metadata": {
        "colab": {
          "base_uri": "https://localhost:8080/",
          "height": 296
        },
        "id": "3YkgbXLh_kk5",
        "outputId": "4f2e3408-d46e-436e-dd4e-d8c52e3b6f7d"
      },
      "source": [
        "x_un5 = tfidf_vect.transform(unlabel_5['Sentence'])\r\n",
        "x_un5.shape\r\n",
        "pred_unlabel_5 = sgd.predict(x_un5)\r\n",
        "unlabel_5['Target']=pred_unlabel_5\r\n",
        "unlabel_5.head()"
      ],
      "execution_count": 27,
      "outputs": [
        {
          "output_type": "stream",
          "text": [
            "/usr/local/lib/python3.6/dist-packages/ipykernel_launcher.py:4: SettingWithCopyWarning: \n",
            "A value is trying to be set on a copy of a slice from a DataFrame.\n",
            "Try using .loc[row_indexer,col_indexer] = value instead\n",
            "\n",
            "See the caveats in the documentation: https://pandas.pydata.org/pandas-docs/stable/user_guide/indexing.html#returning-a-view-versus-a-copy\n",
            "  after removing the cwd from sys.path.\n"
          ],
          "name": "stderr"
        },
        {
          "output_type": "execute_result",
          "data": {
            "text/html": [
              "<div>\n",
              "<style scoped>\n",
              "    .dataframe tbody tr th:only-of-type {\n",
              "        vertical-align: middle;\n",
              "    }\n",
              "\n",
              "    .dataframe tbody tr th {\n",
              "        vertical-align: top;\n",
              "    }\n",
              "\n",
              "    .dataframe thead th {\n",
              "        text-align: right;\n",
              "    }\n",
              "</style>\n",
              "<table border=\"1\" class=\"dataframe\">\n",
              "  <thead>\n",
              "    <tr style=\"text-align: right;\">\n",
              "      <th></th>\n",
              "      <th>Unnamed: 0</th>\n",
              "      <th>Sentence</th>\n",
              "      <th>Target</th>\n",
              "    </tr>\n",
              "  </thead>\n",
              "  <tbody>\n",
              "    <tr>\n",
              "      <th>401</th>\n",
              "      <td>2979</td>\n",
              "      <td>overrule appellantâs contention court erred pe...</td>\n",
              "      <td>Conclusion</td>\n",
              "    </tr>\n",
              "    <tr>\n",
              "      <th>402</th>\n",
              "      <td>2135</td>\n",
              "      <td>state regarded authority case</td>\n",
              "      <td>Analysis</td>\n",
              "    </tr>\n",
              "    <tr>\n",
              "      <th>403</th>\n",
              "      <td>1591</td>\n",
              "      <td>testimony adduced appellant mother lillie mae ...</td>\n",
              "      <td>Issue</td>\n",
              "    </tr>\n",
              "    <tr>\n",
              "      <th>404</th>\n",
              "      <td>658</td>\n",
              "      <td>appellant needle mark inside left elbow</td>\n",
              "      <td>Facts</td>\n",
              "    </tr>\n",
              "    <tr>\n",
              "      <th>405</th>\n",
              "      <td>2562</td>\n",
              "      <td>analysis content 3 capsule chemist kenneth and...</td>\n",
              "      <td>Analysis</td>\n",
              "    </tr>\n",
              "  </tbody>\n",
              "</table>\n",
              "</div>"
            ],
            "text/plain": [
              "     Unnamed: 0                                           Sentence      Target\n",
              "401        2979  overrule appellantâs contention court erred pe...  Conclusion\n",
              "402        2135                      state regarded authority case    Analysis\n",
              "403        1591  testimony adduced appellant mother lillie mae ...       Issue\n",
              "404         658            appellant needle mark inside left elbow       Facts\n",
              "405        2562  analysis content 3 capsule chemist kenneth and...    Analysis"
            ]
          },
          "metadata": {
            "tags": []
          },
          "execution_count": 27
        }
      ]
    },
    {
      "cell_type": "code",
      "metadata": {
        "colab": {
          "base_uri": "https://localhost:8080/"
        },
        "id": "1q4fTBur_1k1",
        "outputId": "c5af0329-1055-4a2e-be3f-3c2c7ffab4ef"
      },
      "source": [
        "frame_5 = [train_4,unlabel_5]\r\n",
        "train_5 = pd.concat(frame_5)\r\n",
        "len(train_5)\r\n",
        "x_train_5 = tfidf_vect.transform(train_5['Sentence'])\r\n",
        "X_train, x_val, Y_train, y_val = train_test_split(x_train_5,train_5['Target'],test_size=0.2,random_state=42)\r\n",
        "sgd = SGDClassifier(max_iter=1000, tol=1e-3)\r\n",
        "sgd.fit(X_train, Y_train)\r\n",
        "pred_sgd = sgd.predict(x_val)\r\n",
        "print('Accuracy %s' % accuracy_score(pred_sgd,y_val))\r\n",
        "print(classification_report(y_val,pred_sgd))"
      ],
      "execution_count": 28,
      "outputs": [
        {
          "output_type": "stream",
          "text": [
            "Accuracy 0.702158273381295\n",
            "                  precision    recall  f1-score   support\n",
            "\n",
            "        Analysis       0.51      0.47      0.49       100\n",
            "      Conclusion       0.63      0.56      0.59        43\n",
            "           Facts       0.81      0.88      0.84       375\n",
            "         Invalid       0.52      0.47      0.49        92\n",
            "           Issue       0.66      0.62      0.64        47\n",
            "Rule/Law/Holding       0.52      0.42      0.46        38\n",
            "\n",
            "        accuracy                           0.70       695\n",
            "       macro avg       0.61      0.57      0.59       695\n",
            "    weighted avg       0.69      0.70      0.69       695\n",
            "\n"
          ],
          "name": "stdout"
        }
      ]
    },
    {
      "cell_type": "code",
      "metadata": {
        "id": "7hkJ3SSd3L8L",
        "outputId": "8c3cf558-f4cf-44d8-cbb0-1aa1681f0fb5",
        "colab": {
          "base_uri": "https://localhost:8080/"
        }
      },
      "source": [
        "t_p = tfidf_vect.transform(test['Sentence'])\r\n",
        "test_pred = sgd.predict(t_p)\r\n",
        "print('Accuracy %s' % accuracy_score(test_pred,test['Target']))"
      ],
      "execution_count": 29,
      "outputs": [
        {
          "output_type": "stream",
          "text": [
            "Accuracy 0.6026871401151631\n"
          ],
          "name": "stdout"
        }
      ]
    }
  ]
}