{
  "nbformat": 4,
  "nbformat_minor": 0,
  "metadata": {
    "colab": {
      "name": "train10.ipynb",
      "provenance": [],
      "collapsed_sections": [],
      "authorship_tag": "ABX9TyNhC9V/tsRA9YLbK2Zp4c2u",
      "include_colab_link": true
    },
    "kernelspec": {
      "name": "python3",
      "display_name": "Python 3"
    }
  },
  "cells": [
    {
      "cell_type": "markdown",
      "metadata": {
        "id": "view-in-github",
        "colab_type": "text"
      },
      "source": [
        "<a href=\"https://colab.research.google.com/github/sundarp17/sundar_info5731_fall2020/blob/master/project/train/train10.ipynb\" target=\"_parent\"><img src=\"https://colab.research.google.com/assets/colab-badge.svg\" alt=\"Open In Colab\"/></a>"
      ]
    },
    {
      "cell_type": "code",
      "metadata": {
        "id": "j6A99EynhmXC"
      },
      "source": [
        "import pandas as pd\r\n",
        "\r\n",
        "train10 = pd.read_csv(r'/content/train_data10.csv')\r\n"
      ],
      "execution_count": 145,
      "outputs": []
    },
    {
      "cell_type": "code",
      "metadata": {
        "id": "YgKnWrLqiXxu"
      },
      "source": [
        "train10['Target']=train10['Target'].replace(['Others'],'Invalid')\r\n"
      ],
      "execution_count": 146,
      "outputs": []
    },
    {
      "cell_type": "code",
      "metadata": {
        "colab": {
          "base_uri": "https://localhost:8080/"
        },
        "id": "O7nRa81di8D5",
        "outputId": "2b5e5128-6ce2-43e3-d9e6-3dce7aa8c253"
      },
      "source": [
        "train10['Target'].unique()"
      ],
      "execution_count": 147,
      "outputs": [
        {
          "output_type": "execute_result",
          "data": {
            "text/plain": [
              "array(['Invalid', 'Issue', 'Analysis', 'Facts', 'Conclusion',\n",
              "       'Rule/Law/Holding'], dtype=object)"
            ]
          },
          "metadata": {
            "tags": []
          },
          "execution_count": 147
        }
      ]
    },
    {
      "cell_type": "code",
      "metadata": {
        "colab": {
          "base_uri": "https://localhost:8080/"
        },
        "id": "eeCLnC60jCmf",
        "outputId": "2ab793f7-1be5-48fd-cd43-6c6693b71c26"
      },
      "source": [
        "#cleaning\r\n",
        "import nltk\r\n",
        "import re\r\n",
        "import string\r\n",
        "nltk.download('stopwords')\r\n",
        "nltk.download('wordnet')\r\n",
        "stopword=nltk.corpus.stopwords.words('english')\r\n",
        "from nltk.stem import WordNetLemmatizer\r\n",
        "wl= WordNetLemmatizer()\r\n",
        "\r\n",
        "def clean_text(text):\r\n",
        "  text=\"\".join([word.lower() for word in text if word not in string.punctuation])\r\n",
        "  tokens = re.split('\\W+',text)\r\n",
        "  text = [wl.lemmatize(word) for word in tokens if word not in stopword]\r\n",
        "  return text"
      ],
      "execution_count": 148,
      "outputs": [
        {
          "output_type": "stream",
          "text": [
            "[nltk_data] Downloading package stopwords to /root/nltk_data...\n",
            "[nltk_data]   Package stopwords is already up-to-date!\n",
            "[nltk_data] Downloading package wordnet to /root/nltk_data...\n",
            "[nltk_data]   Package wordnet is already up-to-date!\n"
          ],
          "name": "stdout"
        }
      ]
    },
    {
      "cell_type": "markdown",
      "metadata": {
        "id": "C5yLr37njPrz"
      },
      "source": [
        "Train 10"
      ]
    },
    {
      "cell_type": "code",
      "metadata": {
        "colab": {
          "base_uri": "https://localhost:8080/"
        },
        "id": "TIj7TXi-jIDL",
        "outputId": "a03ea67d-9017-4740-a79d-814fbe74872d"
      },
      "source": [
        "from sklearn.feature_extraction.text import TfidfVectorizer\r\n",
        "\r\n",
        "tfidf_vect = TfidfVectorizer(analyzer = clean_text)\r\n",
        "X_tfidf = tfidf_vect.fit_transform(train10['Sentence'])\r\n",
        "print(X_tfidf.shape)"
      ],
      "execution_count": 149,
      "outputs": [
        {
          "output_type": "stream",
          "text": [
            "(3476, 6403)\n"
          ],
          "name": "stdout"
        }
      ]
    },
    {
      "cell_type": "code",
      "metadata": {
        "colab": {
          "base_uri": "https://localhost:8080/",
          "height": 419
        },
        "id": "UuPd9XGcjlfz",
        "outputId": "aa3501be-57c0-49db-afe4-af1418b1e45c"
      },
      "source": [
        "from imblearn.over_sampling import SMOTE\r\n",
        "from collections import Counter\r\n",
        "from matplotlib import pyplot\r\n",
        "oversample = SMOTE(random_state=777,k_neighbors=5)\r\n",
        "X, y = oversample.fit_resample(X_tfidf, train10['Target'])\r\n",
        "# summarize distribution\r\n",
        "counter = Counter(y)\r\n",
        "for k,v in counter.items():\r\n",
        "\tper = v / len(y) * 100\r\n",
        "\tprint('Class=%s, n=%d (%.3f%%)' % (k, v, per))\r\n",
        "# plot the distribution\r\n",
        "pyplot.bar(counter.keys(), counter.values())\r\n",
        "pyplot.show()"
      ],
      "execution_count": 150,
      "outputs": [
        {
          "output_type": "stream",
          "text": [
            "/usr/local/lib/python3.6/dist-packages/sklearn/utils/deprecation.py:87: FutureWarning: Function safe_indexing is deprecated; safe_indexing is deprecated in version 0.22 and will be removed in version 0.24.\n",
            "  warnings.warn(msg, category=FutureWarning)\n"
          ],
          "name": "stderr"
        },
        {
          "output_type": "stream",
          "text": [
            "Class=Invalid, n=1769 (16.667%)\n",
            "Class=Issue, n=1769 (16.667%)\n",
            "Class=Analysis, n=1769 (16.667%)\n",
            "Class=Facts, n=1769 (16.667%)\n",
            "Class=Conclusion, n=1769 (16.667%)\n",
            "Class=Rule/Law/Holding, n=1769 (16.667%)\n"
          ],
          "name": "stdout"
        },
        {
          "output_type": "display_data",
          "data": {
            "image/png": "[encoded data removed]",
            "text/plain": [
              "<Figure size 432x288 with 1 Axes>"
            ]
          },
          "metadata": {
            "tags": [],
            "needs_background": "light"
          }
        }
      ]
    },
    {
      "cell_type": "code",
      "metadata": {
        "colab": {
          "base_uri": "https://localhost:8080/"
        },
        "id": "0r5xBLLfjwKt",
        "outputId": "41eb8fc9-1cfe-45d2-b307-3087cab71130"
      },
      "source": [
        "from sklearn.model_selection import train_test_split\r\n",
        "from sklearn.linear_model import SGDClassifier\r\n",
        "from sklearn.metrics import accuracy_score\r\n",
        "from sklearn.metrics import classification_report\r\n",
        "\r\n",
        "\r\n",
        "X_train, x_test, Y_train, y_test = train_test_split(X,y,test_size=0.2,random_state=42)\r\n",
        "sgd = SGDClassifier(max_iter=1000, tol=1e-3)\r\n",
        "sgd.fit(X_train, Y_train)\r\n",
        "pred_sgd = sgd.predict(x_test)\r\n",
        "print('Accuracy %s' % accuracy_score(pred_sgd,y_test))\r\n",
        "print(classification_report(y_test,pred_sgd))"
      ],
      "execution_count": 151,
      "outputs": [
        {
          "output_type": "stream",
          "text": [
            "Accuracy 0.9218087611869995\n",
            "                  precision    recall  f1-score   support\n",
            "\n",
            "        Analysis       0.90      0.94      0.92       367\n",
            "      Conclusion       0.94      0.98      0.96       361\n",
            "           Facts       0.90      0.73      0.80       329\n",
            "         Invalid       0.86      0.88      0.87       339\n",
            "           Issue       0.97      0.98      0.98       377\n",
            "Rule/Law/Holding       0.95      1.00      0.97       350\n",
            "\n",
            "        accuracy                           0.92      2123\n",
            "       macro avg       0.92      0.92      0.92      2123\n",
            "    weighted avg       0.92      0.92      0.92      2123\n",
            "\n"
          ],
          "name": "stdout"
        }
      ]
    },
    {
      "cell_type": "code",
      "metadata": {
        "colab": {
          "base_uri": "https://localhost:8080/",
          "height": 195
        },
        "id": "8t_uyp7rj6DK",
        "outputId": "9cc2490a-fb73-4bbd-e337-8da1791c0f7c"
      },
      "source": [
        "test = pd.read_csv(r'/content/test_data.csv')\r\n",
        "test.head()"
      ],
      "execution_count": 152,
      "outputs": [
        {
          "output_type": "execute_result",
          "data": {
            "text/html": [
              "<div>\n",
              "<style scoped>\n",
              "    .dataframe tbody tr th:only-of-type {\n",
              "        vertical-align: middle;\n",
              "    }\n",
              "\n",
              "    .dataframe tbody tr th {\n",
              "        vertical-align: top;\n",
              "    }\n",
              "\n",
              "    .dataframe thead th {\n",
              "        text-align: right;\n",
              "    }\n",
              "</style>\n",
              "<table border=\"1\" class=\"dataframe\">\n",
              "  <thead>\n",
              "    <tr style=\"text-align: right;\">\n",
              "      <th></th>\n",
              "      <th>Unnamed: 0</th>\n",
              "      <th>Sentence</th>\n",
              "      <th>Target</th>\n",
              "    </tr>\n",
              "  </thead>\n",
              "  <tbody>\n",
              "    <tr>\n",
              "      <th>0</th>\n",
              "      <td>2173</td>\n",
              "      <td>Darden Sr. testified â€œI saw he was staggerin...</td>\n",
              "      <td>Facts</td>\n",
              "    </tr>\n",
              "    <tr>\n",
              "      <th>1</th>\n",
              "      <td>466</td>\n",
              "      <td>Additional moral justification may have been d...</td>\n",
              "      <td>Analysis</td>\n",
              "    </tr>\n",
              "    <tr>\n",
              "      <th>2</th>\n",
              "      <td>525</td>\n",
              "      <td>85, 22 S.W. 140, wherein the accused was actin...</td>\n",
              "      <td>Rule/Law/Holding</td>\n",
              "    </tr>\n",
              "    <tr>\n",
              "      <th>3</th>\n",
              "      <td>2199</td>\n",
              "      <td>Under a proper instruction from the court on m...</td>\n",
              "      <td>Facts</td>\n",
              "    </tr>\n",
              "    <tr>\n",
              "      <th>4</th>\n",
              "      <td>79</td>\n",
              "      <td>He is eligible for leaves to renew contacts wi...</td>\n",
              "      <td>Facts</td>\n",
              "    </tr>\n",
              "  </tbody>\n",
              "</table>\n",
              "</div>"
            ],
            "text/plain": [
              "   Unnamed: 0  ...            Target\n",
              "0        2173  ...             Facts\n",
              "1         466  ...          Analysis\n",
              "2         525  ...  Rule/Law/Holding\n",
              "3        2199  ...             Facts\n",
              "4          79  ...             Facts\n",
              "\n",
              "[5 rows x 3 columns]"
            ]
          },
          "metadata": {
            "tags": []
          },
          "execution_count": 152
        }
      ]
    },
    {
      "cell_type": "code",
      "metadata": {
        "id": "vCR3L1FHkH71"
      },
      "source": [
        "test['Sentence'] = test['Sentence'].apply(lambda x: \" \".join(x.lower() for x in str(x).split()))\r\n",
        "test['Sentence'] = test['Sentence'].str.replace('[^\\w\\s]','')\r\n",
        "from nltk.corpus import stopwords\r\n",
        "words = stopwords.words('english')\r\n",
        "test['Sentence'] = test['Sentence'].apply(lambda x: \" \".join(x for x in x.split() if x not in words))\r\n"
      ],
      "execution_count": 153,
      "outputs": []
    },
    {
      "cell_type": "code",
      "metadata": {
        "colab": {
          "base_uri": "https://localhost:8080/"
        },
        "id": "nqEv12sckVyl",
        "outputId": "276e5c3c-2c33-4f28-fe90-36d835e8caf1"
      },
      "source": [
        "from textblob import TextBlob\r\n",
        "from textblob import Word\r\n",
        "nltk.download('wordnet')\r\n",
        "nltk.download('punkt')\r\n",
        "test['Sentence'] = test['Sentence'].apply(lambda x: TextBlob(x).words)\r\n",
        "test['Sentence'] = test['Sentence'].apply(lambda x: \" \".join([Word(word).lemmatize() for word in x]))"
      ],
      "execution_count": 154,
      "outputs": [
        {
          "output_type": "stream",
          "text": [
            "[nltk_data] Downloading package wordnet to /root/nltk_data...\n",
            "[nltk_data]   Package wordnet is already up-to-date!\n",
            "[nltk_data] Downloading package punkt to /root/nltk_data...\n",
            "[nltk_data]   Package punkt is already up-to-date!\n"
          ],
          "name": "stdout"
        }
      ]
    },
    {
      "cell_type": "code",
      "metadata": {
        "colab": {
          "base_uri": "https://localhost:8080/"
        },
        "id": "DDQiOjSfkZnB",
        "outputId": "659bd05a-cf62-495b-bce2-d4e003064954"
      },
      "source": [
        "del test['Target']\r\n",
        "unlabel_1 = test.loc[:100]\r\n",
        "print(\"length of unlabel_1\",len(unlabel_1))\r\n",
        "unlabel_2 = test.loc[101:200]\r\n",
        "print(\"length of unlabel_2\",len(unlabel_2))\r\n",
        "unlabel_3 = test.loc[201:300]\r\n",
        "print(\"length of unlabel_3\",len(unlabel_3))\r\n",
        "unlabel_4 = test.loc[301:400]\r\n",
        "print(\"length of unlabel_4\",len(unlabel_4))\r\n",
        "unlabel_5 = test.loc[401:]\r\n",
        "print(\"length of unlabel_5\",len(unlabel_5))"
      ],
      "execution_count": 155,
      "outputs": [
        {
          "output_type": "stream",
          "text": [
            "length of unlabel_1 101\n",
            "length of unlabel_2 100\n",
            "length of unlabel_3 100\n",
            "length of unlabel_4 100\n",
            "length of unlabel_5 120\n"
          ],
          "name": "stdout"
        }
      ]
    },
    {
      "cell_type": "code",
      "metadata": {
        "colab": {
          "base_uri": "https://localhost:8080/",
          "height": 296
        },
        "id": "Msni182QkkLe",
        "outputId": "291888ab-1fef-4119-f2d6-a464c5991ec7"
      },
      "source": [
        "x_un1 = tfidf_vect.transform(unlabel_1['Sentence'])\r\n",
        "pred_unlabel_1 = sgd.predict(x_un1)\r\n",
        "unlabel_1['Predicted']=pred_unlabel_1\r\n",
        "unlabel_1.head()"
      ],
      "execution_count": 156,
      "outputs": [
        {
          "output_type": "stream",
          "text": [
            "/usr/local/lib/python3.6/dist-packages/ipykernel_launcher.py:3: SettingWithCopyWarning: \n",
            "A value is trying to be set on a copy of a slice from a DataFrame.\n",
            "Try using .loc[row_indexer,col_indexer] = value instead\n",
            "\n",
            "See the caveats in the documentation: https://pandas.pydata.org/pandas-docs/stable/user_guide/indexing.html#returning-a-view-versus-a-copy\n",
            "  This is separate from the ipykernel package so we can avoid doing imports until\n"
          ],
          "name": "stderr"
        },
        {
          "output_type": "execute_result",
          "data": {
            "text/html": [
              "<div>\n",
              "<style scoped>\n",
              "    .dataframe tbody tr th:only-of-type {\n",
              "        vertical-align: middle;\n",
              "    }\n",
              "\n",
              "    .dataframe tbody tr th {\n",
              "        vertical-align: top;\n",
              "    }\n",
              "\n",
              "    .dataframe thead th {\n",
              "        text-align: right;\n",
              "    }\n",
              "</style>\n",
              "<table border=\"1\" class=\"dataframe\">\n",
              "  <thead>\n",
              "    <tr style=\"text-align: right;\">\n",
              "      <th></th>\n",
              "      <th>Unnamed: 0</th>\n",
              "      <th>Sentence</th>\n",
              "      <th>Predicted</th>\n",
              "    </tr>\n",
              "  </thead>\n",
              "  <tbody>\n",
              "    <tr>\n",
              "      <th>0</th>\n",
              "      <td>2173</td>\n",
              "      <td>darden sr testified âœi saw staggering â prett...</td>\n",
              "      <td>Facts</td>\n",
              "    </tr>\n",
              "    <tr>\n",
              "      <th>1</th>\n",
              "      <td>466</td>\n",
              "      <td>additional moral justification may due complai...</td>\n",
              "      <td>Issue</td>\n",
              "    </tr>\n",
              "    <tr>\n",
              "      <th>2</th>\n",
              "      <td>525</td>\n",
              "      <td>85 22 sw 140 wherein accused acting upon advic...</td>\n",
              "      <td>Invalid</td>\n",
              "    </tr>\n",
              "    <tr>\n",
              "      <th>3</th>\n",
              "      <td>2199</td>\n",
              "      <td>proper instruction court murder malice murder ...</td>\n",
              "      <td>Facts</td>\n",
              "    </tr>\n",
              "    <tr>\n",
              "      <th>4</th>\n",
              "      <td>79</td>\n",
              "      <td>eligible leaf renew contact family</td>\n",
              "      <td>Facts</td>\n",
              "    </tr>\n",
              "  </tbody>\n",
              "</table>\n",
              "</div>"
            ],
            "text/plain": [
              "   Unnamed: 0                                           Sentence Predicted\n",
              "0        2173  darden sr testified âœi saw staggering â prett...     Facts\n",
              "1         466  additional moral justification may due complai...     Issue\n",
              "2         525  85 22 sw 140 wherein accused acting upon advic...   Invalid\n",
              "3        2199  proper instruction court murder malice murder ...     Facts\n",
              "4          79                 eligible leaf renew contact family     Facts"
            ]
          },
          "metadata": {
            "tags": []
          },
          "execution_count": 156
        }
      ]
    },
    {
      "cell_type": "code",
      "metadata": {
        "colab": {
          "base_uri": "https://localhost:8080/",
          "height": 195
        },
        "id": "3cgBUmEzk0-F",
        "outputId": "6328e1a7-16b5-463d-b772-a41ab3b42928"
      },
      "source": [
        "unlabel_1 = unlabel_1.rename(columns={'Predicted':'Target'})\r\n",
        "unlabel_1.head()\r\n"
      ],
      "execution_count": 157,
      "outputs": [
        {
          "output_type": "execute_result",
          "data": {
            "text/html": [
              "<div>\n",
              "<style scoped>\n",
              "    .dataframe tbody tr th:only-of-type {\n",
              "        vertical-align: middle;\n",
              "    }\n",
              "\n",
              "    .dataframe tbody tr th {\n",
              "        vertical-align: top;\n",
              "    }\n",
              "\n",
              "    .dataframe thead th {\n",
              "        text-align: right;\n",
              "    }\n",
              "</style>\n",
              "<table border=\"1\" class=\"dataframe\">\n",
              "  <thead>\n",
              "    <tr style=\"text-align: right;\">\n",
              "      <th></th>\n",
              "      <th>Unnamed: 0</th>\n",
              "      <th>Sentence</th>\n",
              "      <th>Target</th>\n",
              "    </tr>\n",
              "  </thead>\n",
              "  <tbody>\n",
              "    <tr>\n",
              "      <th>0</th>\n",
              "      <td>2173</td>\n",
              "      <td>darden sr testified âœi saw staggering â prett...</td>\n",
              "      <td>Facts</td>\n",
              "    </tr>\n",
              "    <tr>\n",
              "      <th>1</th>\n",
              "      <td>466</td>\n",
              "      <td>additional moral justification may due complai...</td>\n",
              "      <td>Issue</td>\n",
              "    </tr>\n",
              "    <tr>\n",
              "      <th>2</th>\n",
              "      <td>525</td>\n",
              "      <td>85 22 sw 140 wherein accused acting upon advic...</td>\n",
              "      <td>Invalid</td>\n",
              "    </tr>\n",
              "    <tr>\n",
              "      <th>3</th>\n",
              "      <td>2199</td>\n",
              "      <td>proper instruction court murder malice murder ...</td>\n",
              "      <td>Facts</td>\n",
              "    </tr>\n",
              "    <tr>\n",
              "      <th>4</th>\n",
              "      <td>79</td>\n",
              "      <td>eligible leaf renew contact family</td>\n",
              "      <td>Facts</td>\n",
              "    </tr>\n",
              "  </tbody>\n",
              "</table>\n",
              "</div>"
            ],
            "text/plain": [
              "   Unnamed: 0                                           Sentence   Target\n",
              "0        2173  darden sr testified âœi saw staggering â prett...    Facts\n",
              "1         466  additional moral justification may due complai...    Issue\n",
              "2         525  85 22 sw 140 wherein accused acting upon advic...  Invalid\n",
              "3        2199  proper instruction court murder malice murder ...    Facts\n",
              "4          79                 eligible leaf renew contact family    Facts"
            ]
          },
          "metadata": {
            "tags": []
          },
          "execution_count": 157
        }
      ]
    },
    {
      "cell_type": "code",
      "metadata": {
        "colab": {
          "base_uri": "https://localhost:8080/"
        },
        "id": "wCp8uy5qlBpx",
        "outputId": "3f657ceb-8687-4c34-b6b5-38991de6e6a1"
      },
      "source": [
        "frame10_1 = [train10,unlabel_1]\r\n",
        "train10_1 = pd.concat(frame10_1)\r\n",
        "len(train10_1)"
      ],
      "execution_count": 158,
      "outputs": [
        {
          "output_type": "execute_result",
          "data": {
            "text/plain": [
              "3577"
            ]
          },
          "metadata": {
            "tags": []
          },
          "execution_count": 158
        }
      ]
    },
    {
      "cell_type": "code",
      "metadata": {
        "colab": {
          "base_uri": "https://localhost:8080/"
        },
        "id": "WnEE9nltlHk8",
        "outputId": "d2c3102b-1d51-4057-9825-e2583bb1a766"
      },
      "source": [
        "x_train10_1 = tfidf_vect.transform(train10_1['Sentence'])\r\n",
        "X, y = oversample.fit_resample(x_train10_1, train10_1['Target'])\r\n",
        "X_train, x_test, Y_train, y_test = train_test_split(X,y,test_size=0.25,random_state=42)\r\n",
        "sgd = SGDClassifier(max_iter=1000, tol=1e-3)\r\n",
        "sgd.fit(X_train, Y_train)\r\n",
        "pred_sgd = sgd.predict(x_test)\r\n",
        "print('Accuracy %s' % accuracy_score(pred_sgd,y_test))\r\n",
        "print(classification_report(y_test,pred_sgd))"
      ],
      "execution_count": 159,
      "outputs": [
        {
          "output_type": "stream",
          "text": [
            "/usr/local/lib/python3.6/dist-packages/sklearn/utils/deprecation.py:87: FutureWarning: Function safe_indexing is deprecated; safe_indexing is deprecated in version 0.22 and will be removed in version 0.24.\n",
            "  warnings.warn(msg, category=FutureWarning)\n"
          ],
          "name": "stderr"
        },
        {
          "output_type": "stream",
          "text": [
            "Accuracy 0.9198823961778758\n",
            "                  precision    recall  f1-score   support\n",
            "\n",
            "        Analysis       0.90      0.93      0.91       482\n",
            "      Conclusion       0.96      0.99      0.97       450\n",
            "           Facts       0.88      0.74      0.80       436\n",
            "         Invalid       0.86      0.87      0.86       451\n",
            "           Issue       0.97      0.98      0.98       457\n",
            "Rule/Law/Holding       0.95      1.00      0.97       445\n",
            "\n",
            "        accuracy                           0.92      2721\n",
            "       macro avg       0.92      0.92      0.92      2721\n",
            "    weighted avg       0.92      0.92      0.92      2721\n",
            "\n"
          ],
          "name": "stdout"
        }
      ]
    },
    {
      "cell_type": "code",
      "metadata": {
        "colab": {
          "base_uri": "https://localhost:8080/"
        },
        "id": "CoxMFMzBla8q",
        "outputId": "e0e871a5-6bc9-4bc7-9e2f-b8f49e56879c"
      },
      "source": [
        "x_un2 = tfidf_vect.transform(unlabel_2['Sentence'])\r\n",
        "pred_unlabel_2 = sgd.predict(x_un2)\r\n",
        "unlabel_2['Target']=pred_unlabel_2\r\n",
        "frame10_2 = [train10_1,unlabel_2]\r\n",
        "train10_2 = pd.concat(frame10_2)\r\n",
        "\r\n",
        "x_train10_2 = tfidf_vect.transform(train10_2['Sentence'])\r\n",
        "X, y = oversample.fit_resample(x_train10_2, train10_2['Target'])\r\n",
        "X_train, x_test, Y_train, y_test = train_test_split(X,y,test_size=0.27,random_state=42)\r\n",
        "sgd = SGDClassifier(max_iter=1000, tol=1e-3)\r\n",
        "sgd.fit(X_train, Y_train)\r\n",
        "pred_sgd = sgd.predict(x_test)\r\n",
        "print('Accuracy %s' % accuracy_score(pred_sgd,y_test))\r\n",
        "print(classification_report(y_test,pred_sgd))"
      ],
      "execution_count": 160,
      "outputs": [
        {
          "output_type": "stream",
          "text": [
            "/usr/local/lib/python3.6/dist-packages/ipykernel_launcher.py:3: SettingWithCopyWarning: \n",
            "A value is trying to be set on a copy of a slice from a DataFrame.\n",
            "Try using .loc[row_indexer,col_indexer] = value instead\n",
            "\n",
            "See the caveats in the documentation: https://pandas.pydata.org/pandas-docs/stable/user_guide/indexing.html#returning-a-view-versus-a-copy\n",
            "  This is separate from the ipykernel package so we can avoid doing imports until\n",
            "/usr/local/lib/python3.6/dist-packages/sklearn/utils/deprecation.py:87: FutureWarning: Function safe_indexing is deprecated; safe_indexing is deprecated in version 0.22 and will be removed in version 0.24.\n",
            "  warnings.warn(msg, category=FutureWarning)\n"
          ],
          "name": "stderr"
        },
        {
          "output_type": "stream",
          "text": [
            "Accuracy 0.9195746095048188\n",
            "                  precision    recall  f1-score   support\n",
            "\n",
            "        Analysis       0.89      0.91      0.90       524\n",
            "      Conclusion       0.95      0.98      0.97       495\n",
            "           Facts       0.88      0.76      0.82       492\n",
            "         Invalid       0.87      0.89      0.88       499\n",
            "           Issue       0.96      0.97      0.97       524\n",
            "Rule/Law/Holding       0.95      1.00      0.97       475\n",
            "\n",
            "        accuracy                           0.92      3009\n",
            "       macro avg       0.92      0.92      0.92      3009\n",
            "    weighted avg       0.92      0.92      0.92      3009\n",
            "\n"
          ],
          "name": "stdout"
        }
      ]
    },
    {
      "cell_type": "code",
      "metadata": {
        "colab": {
          "base_uri": "https://localhost:8080/"
        },
        "id": "41xvVJhgl6MO",
        "outputId": "26fdbf70-9293-4fca-9b93-20bbf2722d87"
      },
      "source": [
        "x_un3 = tfidf_vect.transform(unlabel_3['Sentence'])\r\n",
        "pred_unlabel_3 = sgd.predict(x_un3)\r\n",
        "unlabel_3['Target']=pred_unlabel_3\r\n",
        "frame10_3 = [train10_2,unlabel_3]\r\n",
        "train10_3 = pd.concat(frame10_3)\r\n",
        "\r\n",
        "x_train10_3 = tfidf_vect.transform(train10_3['Sentence'])\r\n",
        "X, y = oversample.fit_resample(x_train10_3, train10_3['Target'])\r\n",
        "X_train, x_test, Y_train, y_test = train_test_split(X,y,test_size=0.25,random_state=42)\r\n",
        "sgd = SGDClassifier(max_iter=1000, tol=1e-3)\r\n",
        "sgd.fit(X_train, Y_train)\r\n",
        "pred_sgd = sgd.predict(x_test)\r\n",
        "print('Accuracy %s' % accuracy_score(pred_sgd,y_test))\r\n",
        "print(classification_report(y_test,pred_sgd))"
      ],
      "execution_count": 161,
      "outputs": [
        {
          "output_type": "stream",
          "text": [
            "/usr/local/lib/python3.6/dist-packages/ipykernel_launcher.py:3: SettingWithCopyWarning: \n",
            "A value is trying to be set on a copy of a slice from a DataFrame.\n",
            "Try using .loc[row_indexer,col_indexer] = value instead\n",
            "\n",
            "See the caveats in the documentation: https://pandas.pydata.org/pandas-docs/stable/user_guide/indexing.html#returning-a-view-versus-a-copy\n",
            "  This is separate from the ipykernel package so we can avoid doing imports until\n",
            "/usr/local/lib/python3.6/dist-packages/sklearn/utils/deprecation.py:87: FutureWarning: Function safe_indexing is deprecated; safe_indexing is deprecated in version 0.22 and will be removed in version 0.24.\n",
            "  warnings.warn(msg, category=FutureWarning)\n"
          ],
          "name": "stderr"
        },
        {
          "output_type": "stream",
          "text": [
            "Accuracy 0.9232111692844677\n",
            "                  precision    recall  f1-score   support\n",
            "\n",
            "        Analysis       0.89      0.93      0.91       509\n",
            "      Conclusion       0.95      0.98      0.97       454\n",
            "           Facts       0.93      0.75      0.83       464\n",
            "         Invalid       0.86      0.89      0.87       465\n",
            "           Issue       0.96      0.99      0.98       500\n",
            "Rule/Law/Holding       0.95      0.99      0.97       473\n",
            "\n",
            "        accuracy                           0.92      2865\n",
            "       macro avg       0.92      0.92      0.92      2865\n",
            "    weighted avg       0.92      0.92      0.92      2865\n",
            "\n"
          ],
          "name": "stdout"
        }
      ]
    },
    {
      "cell_type": "code",
      "metadata": {
        "colab": {
          "base_uri": "https://localhost:8080/"
        },
        "id": "Wmon9MqhmhF8",
        "outputId": "24a50398-dd8a-46de-de65-9ab3e7522b5a"
      },
      "source": [
        "x_un4 = tfidf_vect.transform(unlabel_4['Sentence'])\r\n",
        "pred_unlabel_4 = sgd.predict(x_un4)\r\n",
        "unlabel_4['Target']=pred_unlabel_4\r\n",
        "frame10_4 = [train10_3,unlabel_4]\r\n",
        "train10_4 = pd.concat(frame10_4)\r\n",
        "\r\n",
        "x_train10_4 = tfidf_vect.transform(train10_4['Sentence'])\r\n",
        "X, y = oversample.fit_resample(x_train10_4, train10_4['Target'])\r\n",
        "X_train, x_test, Y_train, y_test = train_test_split(X,y,test_size=0.18,random_state=42)\r\n",
        "sgd = SGDClassifier(max_iter=1000, tol=1e-3)\r\n",
        "sgd.fit(X_train, Y_train)\r\n",
        "pred_sgd = sgd.predict(x_test)\r\n",
        "print('Accuracy %s' % accuracy_score(pred_sgd,y_test))\r\n",
        "print(classification_report(y_test,pred_sgd))"
      ],
      "execution_count": 162,
      "outputs": [
        {
          "output_type": "stream",
          "text": [
            "/usr/local/lib/python3.6/dist-packages/ipykernel_launcher.py:3: SettingWithCopyWarning: \n",
            "A value is trying to be set on a copy of a slice from a DataFrame.\n",
            "Try using .loc[row_indexer,col_indexer] = value instead\n",
            "\n",
            "See the caveats in the documentation: https://pandas.pydata.org/pandas-docs/stable/user_guide/indexing.html#returning-a-view-versus-a-copy\n",
            "  This is separate from the ipykernel package so we can avoid doing imports until\n",
            "/usr/local/lib/python3.6/dist-packages/sklearn/utils/deprecation.py:87: FutureWarning: Function safe_indexing is deprecated; safe_indexing is deprecated in version 0.22 and will be removed in version 0.24.\n",
            "  warnings.warn(msg, category=FutureWarning)\n"
          ],
          "name": "stderr"
        },
        {
          "output_type": "stream",
          "text": [
            "Accuracy 0.9247159090909091\n",
            "                  precision    recall  f1-score   support\n",
            "\n",
            "        Analysis       0.88      0.94      0.91       364\n",
            "      Conclusion       0.97      0.98      0.97       329\n",
            "           Facts       0.92      0.77      0.84       372\n",
            "         Invalid       0.88      0.88      0.88       345\n",
            "           Issue       0.97      0.99      0.98       363\n",
            "Rule/Law/Holding       0.94      1.00      0.97       339\n",
            "\n",
            "        accuracy                           0.92      2112\n",
            "       macro avg       0.93      0.93      0.92      2112\n",
            "    weighted avg       0.92      0.92      0.92      2112\n",
            "\n"
          ],
          "name": "stdout"
        }
      ]
    },
    {
      "cell_type": "code",
      "metadata": {
        "colab": {
          "base_uri": "https://localhost:8080/"
        },
        "id": "i-nCfP6luEKI",
        "outputId": "a2873a11-344f-4b48-8127-a74f5f0352f0"
      },
      "source": [
        "x_un5 = tfidf_vect.transform(unlabel_5['Sentence'])\r\n",
        "pred_unlabel_5 = sgd.predict(x_un5)\r\n",
        "unlabel_5['Target']=pred_unlabel_5\r\n",
        "frame10_5 = [train10_4,unlabel_5]\r\n",
        "train10_5 = pd.concat(frame10_5)\r\n",
        "\r\n",
        "x_train10_5 = tfidf_vect.transform(train10_5['Sentence'])\r\n",
        "X, y = oversample.fit_resample(x_train10_5, train10_5['Target'])\r\n",
        "X_train, x_test, Y_train, y_test = train_test_split(X,y,test_size=0.19,random_state=42)\r\n",
        "sgd = SGDClassifier(max_iter=1000, tol=1e-3)\r\n",
        "sgd.fit(X_train, Y_train)\r\n",
        "pred_sgd = sgd.predict(x_test)\r\n",
        "print('Accuracy %s' % accuracy_score(pred_sgd,y_test))\r\n",
        "print(classification_report(y_test,pred_sgd))"
      ],
      "execution_count": 163,
      "outputs": [
        {
          "output_type": "stream",
          "text": [
            "/usr/local/lib/python3.6/dist-packages/ipykernel_launcher.py:3: SettingWithCopyWarning: \n",
            "A value is trying to be set on a copy of a slice from a DataFrame.\n",
            "Try using .loc[row_indexer,col_indexer] = value instead\n",
            "\n",
            "See the caveats in the documentation: https://pandas.pydata.org/pandas-docs/stable/user_guide/indexing.html#returning-a-view-versus-a-copy\n",
            "  This is separate from the ipykernel package so we can avoid doing imports until\n",
            "/usr/local/lib/python3.6/dist-packages/sklearn/utils/deprecation.py:87: FutureWarning: Function safe_indexing is deprecated; safe_indexing is deprecated in version 0.22 and will be removed in version 0.24.\n",
            "  warnings.warn(msg, category=FutureWarning)\n"
          ],
          "name": "stderr"
        },
        {
          "output_type": "stream",
          "text": [
            "Accuracy 0.9238221047996478\n",
            "                  precision    recall  f1-score   support\n",
            "\n",
            "        Analysis       0.89      0.93      0.91       386\n",
            "      Conclusion       0.96      0.98      0.97       377\n",
            "           Facts       0.90      0.75      0.82       366\n",
            "         Invalid       0.87      0.88      0.88       394\n",
            "           Issue       0.97      1.00      0.98       382\n",
            "Rule/Law/Holding       0.95      1.00      0.97       366\n",
            "\n",
            "        accuracy                           0.92      2271\n",
            "       macro avg       0.92      0.92      0.92      2271\n",
            "    weighted avg       0.92      0.92      0.92      2271\n",
            "\n"
          ],
          "name": "stdout"
        }
      ]
    },
    {
      "cell_type": "markdown",
      "metadata": {
        "id": "MQjB-bhBu-36"
      },
      "source": [
        ""
      ]
    }
  ]
}